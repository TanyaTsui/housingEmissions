{
 "cells": [
  {
   "cell_type": "code",
   "execution_count": 1,
   "metadata": {},
   "outputs": [],
   "source": [
    "from sqlalchemy import create_engine, inspect\n",
    "import pandas as pd\n",
    "import geopandas as gpd\n",
    "import plotly.express as px\n",
    "import matplotlib.pyplot as plt\n",
    "import os\n",
    "os.chdir('/Users/tanyatsui/Documents/01_Projects/housingEmissions')\n",
    "\n",
    "from data_processing._common.query_runner import QueryRunner\n",
    "\n",
    "# define database connection\n",
    "db_name = \"urbanmining\"\n",
    "username = \"postgres\"\n",
    "password = \"Tunacompany5694!\"\n",
    "host = \"localhost\"  # or your host if it's not local\n",
    "port = \"5432\"  # default port for PostgreSQL\n",
    "\n",
    "connection_string = f\"postgresql://{username}:{password}@{host}:{port}/{db_name}\"\n",
    "engine = create_engine(connection_string)"
   ]
  },
  {
   "cell_type": "markdown",
   "metadata": {},
   "source": [
    "# Research questions\n",
    "- Did the housing market achieve its goals in emissions reduction? \n",
    "- How did embodied and operational carbon contribute to emissions? \n",
    "- Which were the best performing municipalities / neighborhoods in the past decade? \n",
    "- What determines the success of the municipality / neighborhood? "
   ]
  },
  {
   "cell_type": "markdown",
   "metadata": {},
   "source": [
    "# Did the housing market achieve its goals in emissions reduction? "
   ]
  },
  {
   "cell_type": "code",
   "execution_count": 11,
   "metadata": {},
   "outputs": [
    {
     "data": {
      "application/vnd.plotly.v1+json": {
       "config": {
        "plotlyServerURL": "https://plot.ly"
       },
       "data": [
        {
         "alignmentgroup": "True",
         "hovertemplate": "Emission Type=operational<br>Year=%{x}<br>Emissions (tCO2eq)=%{y}<extra></extra>",
         "legendgroup": "operational",
         "marker": {
          "color": "#636efa",
          "pattern": {
           "shape": ""
          }
         },
         "name": "operational",
         "offsetgroup": "operational",
         "orientation": "v",
         "showlegend": true,
         "textposition": "auto",
         "type": "bar",
         "x": [
          2012,
          2013,
          2014,
          2015,
          2016,
          2017,
          2018,
          2019,
          2020,
          2021
         ],
         "xaxis": "x",
         "y": [
          29005359.8875,
          30235035.4375,
          24691915.4125,
          25804602.11,
          26726674.51,
          26207756.855,
          26474695.89,
          26108228.8175,
          25339387.6675,
          28532221.9375
         ],
         "yaxis": "y"
        },
        {
         "alignmentgroup": "True",
         "hovertemplate": "Emission Type=embodied<br>Year=%{x}<br>Emissions (tCO2eq)=%{y}<extra></extra>",
         "legendgroup": "embodied",
         "marker": {
          "color": "#EF553B",
          "pattern": {
           "shape": ""
          }
         },
         "name": "embodied",
         "offsetgroup": "embodied",
         "orientation": "v",
         "showlegend": true,
         "textposition": "auto",
         "type": "bar",
         "x": [
          2012,
          2013,
          2014,
          2015,
          2016,
          2017,
          2018,
          2019,
          2020,
          2021
         ],
         "xaxis": "x",
         "y": [
          1893229.568,
          1658646.454,
          1808893.732,
          2159192.772,
          2280001.621,
          2489159.741,
          2697162.898,
          2912880.739,
          2649105.966,
          2820805.9
         ],
         "yaxis": "y"
        }
       ],
       "layout": {
        "barmode": "relative",
        "legend": {
         "title": {
          "text": "Emission Type"
         },
         "tracegroupgap": 0
        },
        "template": {
         "data": {
          "bar": [
           {
            "error_x": {
             "color": "#2a3f5f"
            },
            "error_y": {
             "color": "#2a3f5f"
            },
            "marker": {
             "line": {
              "color": "#E5ECF6",
              "width": 0.5
             },
             "pattern": {
              "fillmode": "overlay",
              "size": 10,
              "solidity": 0.2
             }
            },
            "type": "bar"
           }
          ],
          "barpolar": [
           {
            "marker": {
             "line": {
              "color": "#E5ECF6",
              "width": 0.5
             },
             "pattern": {
              "fillmode": "overlay",
              "size": 10,
              "solidity": 0.2
             }
            },
            "type": "barpolar"
           }
          ],
          "carpet": [
           {
            "aaxis": {
             "endlinecolor": "#2a3f5f",
             "gridcolor": "white",
             "linecolor": "white",
             "minorgridcolor": "white",
             "startlinecolor": "#2a3f5f"
            },
            "baxis": {
             "endlinecolor": "#2a3f5f",
             "gridcolor": "white",
             "linecolor": "white",
             "minorgridcolor": "white",
             "startlinecolor": "#2a3f5f"
            },
            "type": "carpet"
           }
          ],
          "choropleth": [
           {
            "colorbar": {
             "outlinewidth": 0,
             "ticks": ""
            },
            "type": "choropleth"
           }
          ],
          "contour": [
           {
            "colorbar": {
             "outlinewidth": 0,
             "ticks": ""
            },
            "colorscale": [
             [
              0,
              "#0d0887"
             ],
             [
              0.1111111111111111,
              "#46039f"
             ],
             [
              0.2222222222222222,
              "#7201a8"
             ],
             [
              0.3333333333333333,
              "#9c179e"
             ],
             [
              0.4444444444444444,
              "#bd3786"
             ],
             [
              0.5555555555555556,
              "#d8576b"
             ],
             [
              0.6666666666666666,
              "#ed7953"
             ],
             [
              0.7777777777777778,
              "#fb9f3a"
             ],
             [
              0.8888888888888888,
              "#fdca26"
             ],
             [
              1,
              "#f0f921"
             ]
            ],
            "type": "contour"
           }
          ],
          "contourcarpet": [
           {
            "colorbar": {
             "outlinewidth": 0,
             "ticks": ""
            },
            "type": "contourcarpet"
           }
          ],
          "heatmap": [
           {
            "colorbar": {
             "outlinewidth": 0,
             "ticks": ""
            },
            "colorscale": [
             [
              0,
              "#0d0887"
             ],
             [
              0.1111111111111111,
              "#46039f"
             ],
             [
              0.2222222222222222,
              "#7201a8"
             ],
             [
              0.3333333333333333,
              "#9c179e"
             ],
             [
              0.4444444444444444,
              "#bd3786"
             ],
             [
              0.5555555555555556,
              "#d8576b"
             ],
             [
              0.6666666666666666,
              "#ed7953"
             ],
             [
              0.7777777777777778,
              "#fb9f3a"
             ],
             [
              0.8888888888888888,
              "#fdca26"
             ],
             [
              1,
              "#f0f921"
             ]
            ],
            "type": "heatmap"
           }
          ],
          "heatmapgl": [
           {
            "colorbar": {
             "outlinewidth": 0,
             "ticks": ""
            },
            "colorscale": [
             [
              0,
              "#0d0887"
             ],
             [
              0.1111111111111111,
              "#46039f"
             ],
             [
              0.2222222222222222,
              "#7201a8"
             ],
             [
              0.3333333333333333,
              "#9c179e"
             ],
             [
              0.4444444444444444,
              "#bd3786"
             ],
             [
              0.5555555555555556,
              "#d8576b"
             ],
             [
              0.6666666666666666,
              "#ed7953"
             ],
             [
              0.7777777777777778,
              "#fb9f3a"
             ],
             [
              0.8888888888888888,
              "#fdca26"
             ],
             [
              1,
              "#f0f921"
             ]
            ],
            "type": "heatmapgl"
           }
          ],
          "histogram": [
           {
            "marker": {
             "pattern": {
              "fillmode": "overlay",
              "size": 10,
              "solidity": 0.2
             }
            },
            "type": "histogram"
           }
          ],
          "histogram2d": [
           {
            "colorbar": {
             "outlinewidth": 0,
             "ticks": ""
            },
            "colorscale": [
             [
              0,
              "#0d0887"
             ],
             [
              0.1111111111111111,
              "#46039f"
             ],
             [
              0.2222222222222222,
              "#7201a8"
             ],
             [
              0.3333333333333333,
              "#9c179e"
             ],
             [
              0.4444444444444444,
              "#bd3786"
             ],
             [
              0.5555555555555556,
              "#d8576b"
             ],
             [
              0.6666666666666666,
              "#ed7953"
             ],
             [
              0.7777777777777778,
              "#fb9f3a"
             ],
             [
              0.8888888888888888,
              "#fdca26"
             ],
             [
              1,
              "#f0f921"
             ]
            ],
            "type": "histogram2d"
           }
          ],
          "histogram2dcontour": [
           {
            "colorbar": {
             "outlinewidth": 0,
             "ticks": ""
            },
            "colorscale": [
             [
              0,
              "#0d0887"
             ],
             [
              0.1111111111111111,
              "#46039f"
             ],
             [
              0.2222222222222222,
              "#7201a8"
             ],
             [
              0.3333333333333333,
              "#9c179e"
             ],
             [
              0.4444444444444444,
              "#bd3786"
             ],
             [
              0.5555555555555556,
              "#d8576b"
             ],
             [
              0.6666666666666666,
              "#ed7953"
             ],
             [
              0.7777777777777778,
              "#fb9f3a"
             ],
             [
              0.8888888888888888,
              "#fdca26"
             ],
             [
              1,
              "#f0f921"
             ]
            ],
            "type": "histogram2dcontour"
           }
          ],
          "mesh3d": [
           {
            "colorbar": {
             "outlinewidth": 0,
             "ticks": ""
            },
            "type": "mesh3d"
           }
          ],
          "parcoords": [
           {
            "line": {
             "colorbar": {
              "outlinewidth": 0,
              "ticks": ""
             }
            },
            "type": "parcoords"
           }
          ],
          "pie": [
           {
            "automargin": true,
            "type": "pie"
           }
          ],
          "scatter": [
           {
            "fillpattern": {
             "fillmode": "overlay",
             "size": 10,
             "solidity": 0.2
            },
            "type": "scatter"
           }
          ],
          "scatter3d": [
           {
            "line": {
             "colorbar": {
              "outlinewidth": 0,
              "ticks": ""
             }
            },
            "marker": {
             "colorbar": {
              "outlinewidth": 0,
              "ticks": ""
             }
            },
            "type": "scatter3d"
           }
          ],
          "scattercarpet": [
           {
            "marker": {
             "colorbar": {
              "outlinewidth": 0,
              "ticks": ""
             }
            },
            "type": "scattercarpet"
           }
          ],
          "scattergeo": [
           {
            "marker": {
             "colorbar": {
              "outlinewidth": 0,
              "ticks": ""
             }
            },
            "type": "scattergeo"
           }
          ],
          "scattergl": [
           {
            "marker": {
             "colorbar": {
              "outlinewidth": 0,
              "ticks": ""
             }
            },
            "type": "scattergl"
           }
          ],
          "scattermapbox": [
           {
            "marker": {
             "colorbar": {
              "outlinewidth": 0,
              "ticks": ""
             }
            },
            "type": "scattermapbox"
           }
          ],
          "scatterpolar": [
           {
            "marker": {
             "colorbar": {
              "outlinewidth": 0,
              "ticks": ""
             }
            },
            "type": "scatterpolar"
           }
          ],
          "scatterpolargl": [
           {
            "marker": {
             "colorbar": {
              "outlinewidth": 0,
              "ticks": ""
             }
            },
            "type": "scatterpolargl"
           }
          ],
          "scatterternary": [
           {
            "marker": {
             "colorbar": {
              "outlinewidth": 0,
              "ticks": ""
             }
            },
            "type": "scatterternary"
           }
          ],
          "surface": [
           {
            "colorbar": {
             "outlinewidth": 0,
             "ticks": ""
            },
            "colorscale": [
             [
              0,
              "#0d0887"
             ],
             [
              0.1111111111111111,
              "#46039f"
             ],
             [
              0.2222222222222222,
              "#7201a8"
             ],
             [
              0.3333333333333333,
              "#9c179e"
             ],
             [
              0.4444444444444444,
              "#bd3786"
             ],
             [
              0.5555555555555556,
              "#d8576b"
             ],
             [
              0.6666666666666666,
              "#ed7953"
             ],
             [
              0.7777777777777778,
              "#fb9f3a"
             ],
             [
              0.8888888888888888,
              "#fdca26"
             ],
             [
              1,
              "#f0f921"
             ]
            ],
            "type": "surface"
           }
          ],
          "table": [
           {
            "cells": {
             "fill": {
              "color": "#EBF0F8"
             },
             "line": {
              "color": "white"
             }
            },
            "header": {
             "fill": {
              "color": "#C8D4E3"
             },
             "line": {
              "color": "white"
             }
            },
            "type": "table"
           }
          ]
         },
         "layout": {
          "annotationdefaults": {
           "arrowcolor": "#2a3f5f",
           "arrowhead": 0,
           "arrowwidth": 1
          },
          "autotypenumbers": "strict",
          "coloraxis": {
           "colorbar": {
            "outlinewidth": 0,
            "ticks": ""
           }
          },
          "colorscale": {
           "diverging": [
            [
             0,
             "#8e0152"
            ],
            [
             0.1,
             "#c51b7d"
            ],
            [
             0.2,
             "#de77ae"
            ],
            [
             0.3,
             "#f1b6da"
            ],
            [
             0.4,
             "#fde0ef"
            ],
            [
             0.5,
             "#f7f7f7"
            ],
            [
             0.6,
             "#e6f5d0"
            ],
            [
             0.7,
             "#b8e186"
            ],
            [
             0.8,
             "#7fbc41"
            ],
            [
             0.9,
             "#4d9221"
            ],
            [
             1,
             "#276419"
            ]
           ],
           "sequential": [
            [
             0,
             "#0d0887"
            ],
            [
             0.1111111111111111,
             "#46039f"
            ],
            [
             0.2222222222222222,
             "#7201a8"
            ],
            [
             0.3333333333333333,
             "#9c179e"
            ],
            [
             0.4444444444444444,
             "#bd3786"
            ],
            [
             0.5555555555555556,
             "#d8576b"
            ],
            [
             0.6666666666666666,
             "#ed7953"
            ],
            [
             0.7777777777777778,
             "#fb9f3a"
            ],
            [
             0.8888888888888888,
             "#fdca26"
            ],
            [
             1,
             "#f0f921"
            ]
           ],
           "sequentialminus": [
            [
             0,
             "#0d0887"
            ],
            [
             0.1111111111111111,
             "#46039f"
            ],
            [
             0.2222222222222222,
             "#7201a8"
            ],
            [
             0.3333333333333333,
             "#9c179e"
            ],
            [
             0.4444444444444444,
             "#bd3786"
            ],
            [
             0.5555555555555556,
             "#d8576b"
            ],
            [
             0.6666666666666666,
             "#ed7953"
            ],
            [
             0.7777777777777778,
             "#fb9f3a"
            ],
            [
             0.8888888888888888,
             "#fdca26"
            ],
            [
             1,
             "#f0f921"
            ]
           ]
          },
          "colorway": [
           "#636efa",
           "#EF553B",
           "#00cc96",
           "#ab63fa",
           "#FFA15A",
           "#19d3f3",
           "#FF6692",
           "#B6E880",
           "#FF97FF",
           "#FECB52"
          ],
          "font": {
           "color": "#2a3f5f"
          },
          "geo": {
           "bgcolor": "white",
           "lakecolor": "white",
           "landcolor": "#E5ECF6",
           "showlakes": true,
           "showland": true,
           "subunitcolor": "white"
          },
          "hoverlabel": {
           "align": "left"
          },
          "hovermode": "closest",
          "mapbox": {
           "style": "light"
          },
          "paper_bgcolor": "white",
          "plot_bgcolor": "#E5ECF6",
          "polar": {
           "angularaxis": {
            "gridcolor": "white",
            "linecolor": "white",
            "ticks": ""
           },
           "bgcolor": "#E5ECF6",
           "radialaxis": {
            "gridcolor": "white",
            "linecolor": "white",
            "ticks": ""
           }
          },
          "scene": {
           "xaxis": {
            "backgroundcolor": "#E5ECF6",
            "gridcolor": "white",
            "gridwidth": 2,
            "linecolor": "white",
            "showbackground": true,
            "ticks": "",
            "zerolinecolor": "white"
           },
           "yaxis": {
            "backgroundcolor": "#E5ECF6",
            "gridcolor": "white",
            "gridwidth": 2,
            "linecolor": "white",
            "showbackground": true,
            "ticks": "",
            "zerolinecolor": "white"
           },
           "zaxis": {
            "backgroundcolor": "#E5ECF6",
            "gridcolor": "white",
            "gridwidth": 2,
            "linecolor": "white",
            "showbackground": true,
            "ticks": "",
            "zerolinecolor": "white"
           }
          },
          "shapedefaults": {
           "line": {
            "color": "#2a3f5f"
           }
          },
          "ternary": {
           "aaxis": {
            "gridcolor": "white",
            "linecolor": "white",
            "ticks": ""
           },
           "baxis": {
            "gridcolor": "white",
            "linecolor": "white",
            "ticks": ""
           },
           "bgcolor": "#E5ECF6",
           "caxis": {
            "gridcolor": "white",
            "linecolor": "white",
            "ticks": ""
           }
          },
          "title": {
           "x": 0.05
          },
          "xaxis": {
           "automargin": true,
           "gridcolor": "white",
           "linecolor": "white",
           "ticks": "",
           "title": {
            "standoff": 15
           },
           "zerolinecolor": "white",
           "zerolinewidth": 2
          },
          "yaxis": {
           "automargin": true,
           "gridcolor": "white",
           "linecolor": "white",
           "ticks": "",
           "title": {
            "standoff": 15
           },
           "zerolinecolor": "white",
           "zerolinewidth": 2
          }
         }
        },
        "title": {
         "text": "NL housing emissions"
        },
        "width": 800,
        "xaxis": {
         "anchor": "y",
         "domain": [
          0,
          1
         ],
         "title": {
          "text": "Year"
         }
        },
        "yaxis": {
         "anchor": "x",
         "domain": [
          0,
          1
         ],
         "title": {
          "text": "Emissions (tCO2eq)"
         }
        }
       }
      }
     },
     "metadata": {},
     "output_type": "display_data"
    }
   ],
   "source": [
    "query = ''' \n",
    "SELECT year, SUM(emissions_operational) AS operational, SUM(emissions_embodied) AS embodied\n",
    "FROM emissions_all\n",
    "WHERE year IS NOT NULL\n",
    "GROUP BY year\n",
    "'''\n",
    "df = pd.read_sql_query(query, engine)\n",
    "df_long = df.melt(id_vars='year', value_vars=['operational', 'embodied'], var_name='type', value_name='emissions')\n",
    "df_long['emissions'] = df_long.emissions / 1000\n",
    "\n",
    "fig = px.bar(df_long, x='year', y='emissions', color='type', title=\"NL housing emissions\",\n",
    "             labels={'emissions': 'Emissions (tCO2eq)', 'year': 'Year', 'type': 'Emission Type'})\n",
    "fig.update_layout(width=800)\n",
    "fig.show()"
   ]
  },
  {
   "cell_type": "code",
   "execution_count": 12,
   "metadata": {},
   "outputs": [
    {
     "data": {
      "application/vnd.plotly.v1+json": {
       "config": {
        "plotlyServerURL": "https://plot.ly"
       },
       "data": [
        {
         "hovertemplate": "variable=remaining_carbon_budget_embodied<br>year=%{x}<br>value=%{y}<extra></extra>",
         "legendgroup": "remaining_carbon_budget_embodied",
         "line": {
          "color": "#636efa",
          "dash": "solid"
         },
         "marker": {
          "symbol": "circle"
         },
         "mode": "lines",
         "name": "remaining_carbon_budget_embodied",
         "orientation": "v",
         "showlegend": true,
         "type": "scatter",
         "x": [
          2012,
          2013,
          2014,
          2015,
          2016,
          2017,
          2018,
          2019,
          2020,
          2021
         ],
         "xaxis": "x",
         "y": [
          39106770432,
          37448123978,
          35639230246,
          33480037474,
          31200035853,
          28710876112,
          26013713214,
          23100832475,
          20451726509,
          17630920609
         ],
         "yaxis": "y"
        },
        {
         "hovertemplate": "variable=remaining_carbon_budget_operational<br>year=%{x}<br>value=%{y}<extra></extra>",
         "legendgroup": "remaining_carbon_budget_operational",
         "line": {
          "color": "#EF553B",
          "dash": "solid"
         },
         "marker": {
          "symbol": "circle"
         },
         "mode": "lines",
         "name": "remaining_carbon_budget_operational",
         "orientation": "v",
         "showlegend": true,
         "type": "scatter",
         "x": [
          2012,
          2013,
          2014,
          2015,
          2016,
          2017,
          2018,
          2019,
          2020,
          2021
         ],
         "xaxis": "x",
         "y": [
          41994640112.5,
          11759604675,
          -12932310737.5,
          -38736912847.5,
          -65463587357.5,
          -91671344212.5,
          -118146040102.5,
          -144254268920,
          -169593656587.5,
          -198125878525
         ],
         "yaxis": "y"
        },
        {
         "hovertemplate": "variable=remaining_carbon_budget_total<br>year=%{x}<br>value=%{y}<extra></extra>",
         "legendgroup": "remaining_carbon_budget_total",
         "line": {
          "color": "#00cc96",
          "dash": "solid"
         },
         "marker": {
          "symbol": "circle"
         },
         "mode": "lines",
         "name": "remaining_carbon_budget_total",
         "orientation": "v",
         "showlegend": true,
         "type": "scatter",
         "x": [
          2012,
          2013,
          2014,
          2015,
          2016,
          2017,
          2018,
          2019,
          2020,
          2021
         ],
         "xaxis": "x",
         "y": [
          81101410544.5,
          49207728653,
          22706919508.5,
          -5256875373.5,
          -34263551504.5,
          -62960468100.5,
          -92132326888.5,
          -121153436445,
          -149141930078.5,
          -180494957916
         ],
         "yaxis": "y"
        }
       ],
       "layout": {
        "legend": {
         "title": {
          "text": "variable"
         },
         "tracegroupgap": 0
        },
        "template": {
         "data": {
          "bar": [
           {
            "error_x": {
             "color": "#2a3f5f"
            },
            "error_y": {
             "color": "#2a3f5f"
            },
            "marker": {
             "line": {
              "color": "#E5ECF6",
              "width": 0.5
             },
             "pattern": {
              "fillmode": "overlay",
              "size": 10,
              "solidity": 0.2
             }
            },
            "type": "bar"
           }
          ],
          "barpolar": [
           {
            "marker": {
             "line": {
              "color": "#E5ECF6",
              "width": 0.5
             },
             "pattern": {
              "fillmode": "overlay",
              "size": 10,
              "solidity": 0.2
             }
            },
            "type": "barpolar"
           }
          ],
          "carpet": [
           {
            "aaxis": {
             "endlinecolor": "#2a3f5f",
             "gridcolor": "white",
             "linecolor": "white",
             "minorgridcolor": "white",
             "startlinecolor": "#2a3f5f"
            },
            "baxis": {
             "endlinecolor": "#2a3f5f",
             "gridcolor": "white",
             "linecolor": "white",
             "minorgridcolor": "white",
             "startlinecolor": "#2a3f5f"
            },
            "type": "carpet"
           }
          ],
          "choropleth": [
           {
            "colorbar": {
             "outlinewidth": 0,
             "ticks": ""
            },
            "type": "choropleth"
           }
          ],
          "contour": [
           {
            "colorbar": {
             "outlinewidth": 0,
             "ticks": ""
            },
            "colorscale": [
             [
              0,
              "#0d0887"
             ],
             [
              0.1111111111111111,
              "#46039f"
             ],
             [
              0.2222222222222222,
              "#7201a8"
             ],
             [
              0.3333333333333333,
              "#9c179e"
             ],
             [
              0.4444444444444444,
              "#bd3786"
             ],
             [
              0.5555555555555556,
              "#d8576b"
             ],
             [
              0.6666666666666666,
              "#ed7953"
             ],
             [
              0.7777777777777778,
              "#fb9f3a"
             ],
             [
              0.8888888888888888,
              "#fdca26"
             ],
             [
              1,
              "#f0f921"
             ]
            ],
            "type": "contour"
           }
          ],
          "contourcarpet": [
           {
            "colorbar": {
             "outlinewidth": 0,
             "ticks": ""
            },
            "type": "contourcarpet"
           }
          ],
          "heatmap": [
           {
            "colorbar": {
             "outlinewidth": 0,
             "ticks": ""
            },
            "colorscale": [
             [
              0,
              "#0d0887"
             ],
             [
              0.1111111111111111,
              "#46039f"
             ],
             [
              0.2222222222222222,
              "#7201a8"
             ],
             [
              0.3333333333333333,
              "#9c179e"
             ],
             [
              0.4444444444444444,
              "#bd3786"
             ],
             [
              0.5555555555555556,
              "#d8576b"
             ],
             [
              0.6666666666666666,
              "#ed7953"
             ],
             [
              0.7777777777777778,
              "#fb9f3a"
             ],
             [
              0.8888888888888888,
              "#fdca26"
             ],
             [
              1,
              "#f0f921"
             ]
            ],
            "type": "heatmap"
           }
          ],
          "heatmapgl": [
           {
            "colorbar": {
             "outlinewidth": 0,
             "ticks": ""
            },
            "colorscale": [
             [
              0,
              "#0d0887"
             ],
             [
              0.1111111111111111,
              "#46039f"
             ],
             [
              0.2222222222222222,
              "#7201a8"
             ],
             [
              0.3333333333333333,
              "#9c179e"
             ],
             [
              0.4444444444444444,
              "#bd3786"
             ],
             [
              0.5555555555555556,
              "#d8576b"
             ],
             [
              0.6666666666666666,
              "#ed7953"
             ],
             [
              0.7777777777777778,
              "#fb9f3a"
             ],
             [
              0.8888888888888888,
              "#fdca26"
             ],
             [
              1,
              "#f0f921"
             ]
            ],
            "type": "heatmapgl"
           }
          ],
          "histogram": [
           {
            "marker": {
             "pattern": {
              "fillmode": "overlay",
              "size": 10,
              "solidity": 0.2
             }
            },
            "type": "histogram"
           }
          ],
          "histogram2d": [
           {
            "colorbar": {
             "outlinewidth": 0,
             "ticks": ""
            },
            "colorscale": [
             [
              0,
              "#0d0887"
             ],
             [
              0.1111111111111111,
              "#46039f"
             ],
             [
              0.2222222222222222,
              "#7201a8"
             ],
             [
              0.3333333333333333,
              "#9c179e"
             ],
             [
              0.4444444444444444,
              "#bd3786"
             ],
             [
              0.5555555555555556,
              "#d8576b"
             ],
             [
              0.6666666666666666,
              "#ed7953"
             ],
             [
              0.7777777777777778,
              "#fb9f3a"
             ],
             [
              0.8888888888888888,
              "#fdca26"
             ],
             [
              1,
              "#f0f921"
             ]
            ],
            "type": "histogram2d"
           }
          ],
          "histogram2dcontour": [
           {
            "colorbar": {
             "outlinewidth": 0,
             "ticks": ""
            },
            "colorscale": [
             [
              0,
              "#0d0887"
             ],
             [
              0.1111111111111111,
              "#46039f"
             ],
             [
              0.2222222222222222,
              "#7201a8"
             ],
             [
              0.3333333333333333,
              "#9c179e"
             ],
             [
              0.4444444444444444,
              "#bd3786"
             ],
             [
              0.5555555555555556,
              "#d8576b"
             ],
             [
              0.6666666666666666,
              "#ed7953"
             ],
             [
              0.7777777777777778,
              "#fb9f3a"
             ],
             [
              0.8888888888888888,
              "#fdca26"
             ],
             [
              1,
              "#f0f921"
             ]
            ],
            "type": "histogram2dcontour"
           }
          ],
          "mesh3d": [
           {
            "colorbar": {
             "outlinewidth": 0,
             "ticks": ""
            },
            "type": "mesh3d"
           }
          ],
          "parcoords": [
           {
            "line": {
             "colorbar": {
              "outlinewidth": 0,
              "ticks": ""
             }
            },
            "type": "parcoords"
           }
          ],
          "pie": [
           {
            "automargin": true,
            "type": "pie"
           }
          ],
          "scatter": [
           {
            "fillpattern": {
             "fillmode": "overlay",
             "size": 10,
             "solidity": 0.2
            },
            "type": "scatter"
           }
          ],
          "scatter3d": [
           {
            "line": {
             "colorbar": {
              "outlinewidth": 0,
              "ticks": ""
             }
            },
            "marker": {
             "colorbar": {
              "outlinewidth": 0,
              "ticks": ""
             }
            },
            "type": "scatter3d"
           }
          ],
          "scattercarpet": [
           {
            "marker": {
             "colorbar": {
              "outlinewidth": 0,
              "ticks": ""
             }
            },
            "type": "scattercarpet"
           }
          ],
          "scattergeo": [
           {
            "marker": {
             "colorbar": {
              "outlinewidth": 0,
              "ticks": ""
             }
            },
            "type": "scattergeo"
           }
          ],
          "scattergl": [
           {
            "marker": {
             "colorbar": {
              "outlinewidth": 0,
              "ticks": ""
             }
            },
            "type": "scattergl"
           }
          ],
          "scattermapbox": [
           {
            "marker": {
             "colorbar": {
              "outlinewidth": 0,
              "ticks": ""
             }
            },
            "type": "scattermapbox"
           }
          ],
          "scatterpolar": [
           {
            "marker": {
             "colorbar": {
              "outlinewidth": 0,
              "ticks": ""
             }
            },
            "type": "scatterpolar"
           }
          ],
          "scatterpolargl": [
           {
            "marker": {
             "colorbar": {
              "outlinewidth": 0,
              "ticks": ""
             }
            },
            "type": "scatterpolargl"
           }
          ],
          "scatterternary": [
           {
            "marker": {
             "colorbar": {
              "outlinewidth": 0,
              "ticks": ""
             }
            },
            "type": "scatterternary"
           }
          ],
          "surface": [
           {
            "colorbar": {
             "outlinewidth": 0,
             "ticks": ""
            },
            "colorscale": [
             [
              0,
              "#0d0887"
             ],
             [
              0.1111111111111111,
              "#46039f"
             ],
             [
              0.2222222222222222,
              "#7201a8"
             ],
             [
              0.3333333333333333,
              "#9c179e"
             ],
             [
              0.4444444444444444,
              "#bd3786"
             ],
             [
              0.5555555555555556,
              "#d8576b"
             ],
             [
              0.6666666666666666,
              "#ed7953"
             ],
             [
              0.7777777777777778,
              "#fb9f3a"
             ],
             [
              0.8888888888888888,
              "#fdca26"
             ],
             [
              1,
              "#f0f921"
             ]
            ],
            "type": "surface"
           }
          ],
          "table": [
           {
            "cells": {
             "fill": {
              "color": "#EBF0F8"
             },
             "line": {
              "color": "white"
             }
            },
            "header": {
             "fill": {
              "color": "#C8D4E3"
             },
             "line": {
              "color": "white"
             }
            },
            "type": "table"
           }
          ]
         },
         "layout": {
          "annotationdefaults": {
           "arrowcolor": "#2a3f5f",
           "arrowhead": 0,
           "arrowwidth": 1
          },
          "autotypenumbers": "strict",
          "coloraxis": {
           "colorbar": {
            "outlinewidth": 0,
            "ticks": ""
           }
          },
          "colorscale": {
           "diverging": [
            [
             0,
             "#8e0152"
            ],
            [
             0.1,
             "#c51b7d"
            ],
            [
             0.2,
             "#de77ae"
            ],
            [
             0.3,
             "#f1b6da"
            ],
            [
             0.4,
             "#fde0ef"
            ],
            [
             0.5,
             "#f7f7f7"
            ],
            [
             0.6,
             "#e6f5d0"
            ],
            [
             0.7,
             "#b8e186"
            ],
            [
             0.8,
             "#7fbc41"
            ],
            [
             0.9,
             "#4d9221"
            ],
            [
             1,
             "#276419"
            ]
           ],
           "sequential": [
            [
             0,
             "#0d0887"
            ],
            [
             0.1111111111111111,
             "#46039f"
            ],
            [
             0.2222222222222222,
             "#7201a8"
            ],
            [
             0.3333333333333333,
             "#9c179e"
            ],
            [
             0.4444444444444444,
             "#bd3786"
            ],
            [
             0.5555555555555556,
             "#d8576b"
            ],
            [
             0.6666666666666666,
             "#ed7953"
            ],
            [
             0.7777777777777778,
             "#fb9f3a"
            ],
            [
             0.8888888888888888,
             "#fdca26"
            ],
            [
             1,
             "#f0f921"
            ]
           ],
           "sequentialminus": [
            [
             0,
             "#0d0887"
            ],
            [
             0.1111111111111111,
             "#46039f"
            ],
            [
             0.2222222222222222,
             "#7201a8"
            ],
            [
             0.3333333333333333,
             "#9c179e"
            ],
            [
             0.4444444444444444,
             "#bd3786"
            ],
            [
             0.5555555555555556,
             "#d8576b"
            ],
            [
             0.6666666666666666,
             "#ed7953"
            ],
            [
             0.7777777777777778,
             "#fb9f3a"
            ],
            [
             0.8888888888888888,
             "#fdca26"
            ],
            [
             1,
             "#f0f921"
            ]
           ]
          },
          "colorway": [
           "#636efa",
           "#EF553B",
           "#00cc96",
           "#ab63fa",
           "#FFA15A",
           "#19d3f3",
           "#FF6692",
           "#B6E880",
           "#FF97FF",
           "#FECB52"
          ],
          "font": {
           "color": "#2a3f5f"
          },
          "geo": {
           "bgcolor": "white",
           "lakecolor": "white",
           "landcolor": "#E5ECF6",
           "showlakes": true,
           "showland": true,
           "subunitcolor": "white"
          },
          "hoverlabel": {
           "align": "left"
          },
          "hovermode": "closest",
          "mapbox": {
           "style": "light"
          },
          "paper_bgcolor": "white",
          "plot_bgcolor": "#E5ECF6",
          "polar": {
           "angularaxis": {
            "gridcolor": "white",
            "linecolor": "white",
            "ticks": ""
           },
           "bgcolor": "#E5ECF6",
           "radialaxis": {
            "gridcolor": "white",
            "linecolor": "white",
            "ticks": ""
           }
          },
          "scene": {
           "xaxis": {
            "backgroundcolor": "#E5ECF6",
            "gridcolor": "white",
            "gridwidth": 2,
            "linecolor": "white",
            "showbackground": true,
            "ticks": "",
            "zerolinecolor": "white"
           },
           "yaxis": {
            "backgroundcolor": "#E5ECF6",
            "gridcolor": "white",
            "gridwidth": 2,
            "linecolor": "white",
            "showbackground": true,
            "ticks": "",
            "zerolinecolor": "white"
           },
           "zaxis": {
            "backgroundcolor": "#E5ECF6",
            "gridcolor": "white",
            "gridwidth": 2,
            "linecolor": "white",
            "showbackground": true,
            "ticks": "",
            "zerolinecolor": "white"
           }
          },
          "shapedefaults": {
           "line": {
            "color": "#2a3f5f"
           }
          },
          "ternary": {
           "aaxis": {
            "gridcolor": "white",
            "linecolor": "white",
            "ticks": ""
           },
           "baxis": {
            "gridcolor": "white",
            "linecolor": "white",
            "ticks": ""
           },
           "bgcolor": "#E5ECF6",
           "caxis": {
            "gridcolor": "white",
            "linecolor": "white",
            "ticks": ""
           }
          },
          "title": {
           "x": 0.05
          },
          "xaxis": {
           "automargin": true,
           "gridcolor": "white",
           "linecolor": "white",
           "ticks": "",
           "title": {
            "standoff": 15
           },
           "zerolinecolor": "white",
           "zerolinewidth": 2
          },
          "yaxis": {
           "automargin": true,
           "gridcolor": "white",
           "linecolor": "white",
           "ticks": "",
           "title": {
            "standoff": 15
           },
           "zerolinecolor": "white",
           "zerolinewidth": 2
          }
         }
        },
        "title": {
         "text": "Remaining carbon budget"
        },
        "xaxis": {
         "anchor": "y",
         "domain": [
          0,
          1
         ],
         "title": {
          "text": "year"
         }
        },
        "yaxis": {
         "anchor": "x",
         "domain": [
          0,
          1
         ],
         "title": {
          "text": "value"
         }
        }
       }
      }
     },
     "metadata": {},
     "output_type": "display_data"
    }
   ],
   "source": [
    "carbon_budget_embodied = 41000000000 # 41 billion kgCO2eq \n",
    "df['embodied_cumulative'] = df['embodied'].cumsum()\n",
    "df['remaining_carbon_budget_embodied'] = carbon_budget_embodied - df['embodied_cumulative']\n",
    "carbon_budget_operational = 71000000000 # 71 billion kgCO2eq \n",
    "df['operational_cumulative'] = df['operational'].cumsum()\n",
    "df['remaining_carbon_budget_operational'] = carbon_budget_operational - df['operational_cumulative']\n",
    "carbon_budget_total = carbon_budget_embodied + carbon_budget_operational\n",
    "df['total'] = df['embodied'] + df['operational']\n",
    "df['total_cumulative'] = df['total'].cumsum()\n",
    "df['remaining_carbon_budget_total'] = carbon_budget_total - df['total_cumulative']\n",
    "\n",
    "fig = px.line(df, x='year', y=['remaining_carbon_budget_embodied', 'remaining_carbon_budget_operational', 'remaining_carbon_budget_total'],\n",
    "              title=\"Remaining carbon budget\")\n",
    "fig.show()"
   ]
  },
  {
   "cell_type": "markdown",
   "metadata": {},
   "source": [
    "# How did embodied and operational carbon contribute to emissions? "
   ]
  },
  {
   "cell_type": "code",
   "execution_count": 25,
   "metadata": {},
   "outputs": [
    {
     "data": {
      "application/vnd.plotly.v1+json": {
       "config": {
        "plotlyServerURL": "https://plot.ly"
       },
       "data": [
        {
         "alignmentgroup": "True",
         "hovertemplate": "Emission Type=operational<br>Year=%{x}<br>Emissions (kgCO2eq)=%{y}<extra></extra>",
         "legendgroup": "operational",
         "marker": {
          "color": "#636efa"
         },
         "name": "operational",
         "notched": false,
         "offsetgroup": "operational",
         "orientation": "v",
         "showlegend": true,
         "type": "box",
         "x": [
          2021,
          2012,
          2013,
          2019,
          2012,
          2015,
          2020,
          2018,
          2019,
          2012,
          2019,
          2018,
          2017,
          2020,
          2017,
          2019,
          2013,
          2021,
          2016,
          2015,
          2014,
          2014,
          2015,
          2017,
          2012,
          2019,
          2012,
          2012,
          2021,
          2019,
          2020,
          2013,
          2018,
          2019,
          2013,
          2019,
          2021,
          2018,
          2016,
          2013,
          2021,
          2015,
          2021,
          2017,
          2013,
          2021,
          2015,
          2014,
          2017,
          2014,
          2013,
          2012,
          2019,
          2013,
          2013,
          2013,
          2017,
          2018,
          2012,
          2021,
          2015,
          2014,
          2013,
          2021,
          2012,
          2012,
          2012,
          2013,
          2015,
          2017,
          2021,
          2017,
          2016,
          2017,
          2017,
          2019,
          2018,
          2017,
          2017,
          2014,
          2021,
          2012,
          2015,
          2012,
          2020,
          2020,
          2012,
          2020,
          2014,
          2019,
          2019,
          2013,
          2012,
          2013,
          2016,
          2013,
          2019,
          2013,
          2021,
          2012,
          2015,
          2015,
          2014,
          2016,
          2021,
          2019,
          2020,
          2019,
          2020,
          2021,
          2013,
          2012,
          2014,
          2014,
          2019,
          2019,
          2013,
          2018,
          2016,
          2020,
          2017,
          2017,
          2020,
          2014,
          2020,
          2021,
          2016,
          2017,
          2020,
          2017,
          2016,
          2020,
          2017,
          2019,
          2013,
          2014,
          2014,
          2016,
          2012,
          2016,
          2014,
          2015,
          2017,
          2016,
          2013,
          2016,
          2016,
          2016,
          2012,
          2017,
          2013,
          2015,
          2012,
          2020,
          2014,
          2015,
          2014,
          2021,
          2012,
          2019,
          2017,
          2019,
          2015,
          2020,
          2016,
          2014,
          2014,
          2012,
          2015,
          2013,
          2020,
          2015,
          2020,
          2017,
          2018,
          2017,
          2013,
          2017,
          2019,
          2020,
          2015,
          2019,
          2012,
          2017,
          2019,
          2014,
          2014,
          2021,
          2020,
          2014,
          2016,
          2020,
          2015,
          2021,
          2018,
          2019,
          2015,
          2021,
          2016,
          2016,
          2021,
          2015,
          2014,
          2020,
          2012,
          2021,
          2019,
          2018,
          2017,
          2015,
          2012,
          2015,
          2014,
          2021,
          2012,
          2015,
          2018,
          2019,
          2013,
          2016,
          2021,
          2017,
          2021,
          2017,
          2020,
          2014,
          2021,
          2016,
          2018,
          2019,
          2021,
          2014,
          2017,
          2016,
          2014,
          2013,
          2016,
          2017,
          2016,
          2019,
          2016,
          2016,
          2017,
          2017,
          2016,
          2018,
          2012,
          2016,
          2012,
          2018,
          2018,
          2016,
          2019,
          2019,
          2016,
          2015,
          2017,
          2016,
          2021,
          2021,
          2017,
          2013,
          2017,
          2015,
          2016,
          2017,
          2012,
          2016,
          2021,
          2017,
          2021,
          2013,
          2021,
          2016,
          2012,
          2013,
          2015,
          2018,
          2016,
          2012,
          2015,
          2019,
          2020,
          2016,
          2019,
          2012,
          2013,
          2020,
          2015,
          2014,
          2016,
          2016,
          2015,
          2019,
          2016,
          2017,
          2012,
          2018,
          2012,
          2020,
          2012,
          2020,
          2020,
          2018,
          2020,
          2020,
          2019,
          2014,
          2018,
          2020,
          2019,
          2017,
          2019,
          2016,
          2012,
          2012,
          2013,
          2017,
          2019,
          2014,
          2016,
          2021,
          2013,
          2021,
          2016,
          2018,
          2021,
          2020,
          2017,
          2019,
          2021,
          2014,
          2019,
          2019,
          2015,
          2012,
          2018,
          2012,
          2020,
          2017,
          2019,
          2019,
          2018,
          2014,
          2021,
          2013,
          2013,
          2020,
          2016,
          2018,
          2015,
          2014,
          2020,
          2019,
          2015,
          2016,
          2015,
          2021,
          2016,
          2020,
          2018,
          2018,
          2020,
          2018,
          2019,
          2013,
          2017,
          2017,
          2018,
          2021,
          2021,
          2021,
          2020,
          2012,
          2016,
          2014,
          2020,
          2015,
          2015,
          2013,
          2013,
          2016,
          2021,
          2015,
          2014,
          2020,
          2018,
          2021,
          2016,
          2012,
          2021,
          2016,
          2013,
          2018,
          2014,
          2018,
          2015,
          2014,
          2018,
          2016,
          2016,
          2014,
          2014,
          2017,
          2016,
          2015,
          2013,
          2017,
          2014,
          2017,
          2018,
          2017,
          2018,
          2016,
          2012,
          2013,
          2018,
          2015,
          2018,
          2021,
          2014,
          2012,
          2014,
          2018,
          2017,
          2019,
          2021,
          2015,
          2018,
          2013,
          2013,
          2015,
          2015,
          2013,
          2021,
          2014,
          2018,
          2017,
          2019,
          2016,
          2017,
          2018,
          2013,
          2020,
          2016,
          2018,
          2013,
          2019,
          2013,
          2015,
          2020,
          2016,
          2017,
          2017,
          2016,
          2015,
          2014,
          2017,
          2020,
          2014,
          2015,
          2013,
          2015,
          2020,
          2018,
          2018,
          2014,
          2021,
          2014,
          2015,
          2018,
          2020,
          2015,
          2021,
          2018,
          2016,
          2017,
          2015,
          2017,
          2021,
          2014,
          2020,
          2020,
          2014,
          2019,
          2019,
          2014,
          2017,
          2021,
          2014,
          2016,
          2017,
          2015,
          2017,
          2014,
          2015,
          2014,
          2014,
          2017,
          2014,
          2013,
          2017,
          2013,
          2021,
          2017,
          2021,
          2017,
          2020,
          2016,
          2020,
          2021,
          2016,
          2018,
          2016,
          2013,
          2015,
          2013,
          2020,
          2020,
          2016,
          2014,
          2015,
          2018,
          2015,
          2013,
          2016,
          2020,
          2017,
          2015,
          2016,
          2012,
          2013,
          2019,
          2018,
          2012,
          2012,
          2012,
          2021,
          2013,
          2012,
          2019,
          2019,
          2014,
          2019,
          2015,
          2017,
          2013,
          2020,
          2012,
          2019,
          2013,
          2017,
          2021,
          2021,
          2021,
          2015,
          2012,
          2019,
          2016,
          2021,
          2016,
          2012,
          2021,
          2012,
          2015,
          2017,
          2020,
          2018,
          2016,
          2015,
          2014,
          2016,
          2015,
          2021,
          2016,
          2016,
          2015,
          2013,
          2018,
          2015,
          2015,
          2016,
          2013,
          2021,
          2012,
          2012,
          2020,
          2014,
          2019,
          2012,
          2015,
          2020,
          2021,
          2014,
          2018,
          2012,
          2015,
          2013,
          2015,
          2014,
          2012,
          2021,
          2015,
          2012,
          2019,
          2012,
          2020,
          2015,
          2018,
          2012,
          2019,
          2020,
          2015,
          2017,
          2012,
          2016,
          2015,
          2018,
          2017,
          2021,
          2020,
          2014,
          2017,
          2018,
          2019,
          2019,
          2017,
          2016,
          2020,
          2017,
          2017,
          2013,
          2016,
          2017,
          2019,
          2014,
          2017,
          2018,
          2013,
          2019,
          2019,
          2021,
          2017,
          2013,
          2021,
          2017,
          2021,
          2013,
          2013,
          2020,
          2019,
          2014,
          2017,
          2014,
          2015,
          2020,
          2018,
          2019,
          2013,
          2020,
          2013,
          2021,
          2012,
          2014,
          2020,
          2017,
          2013,
          2020,
          2013,
          2012,
          2013,
          2016,
          2018,
          2021,
          2013,
          2018,
          2014,
          2019,
          2013,
          2021,
          2016,
          2013,
          2021,
          2013,
          2013,
          2021,
          2017,
          2017,
          2013,
          2013,
          2017,
          2013,
          2013,
          2016,
          2013,
          2020,
          2020,
          2015,
          2016,
          2021,
          2017,
          2017,
          2012,
          2013,
          2012,
          2018,
          2019,
          2018,
          2021,
          2014,
          2015,
          2013,
          2017,
          2018,
          2015,
          2020,
          2021,
          2013,
          2015,
          2014,
          2016,
          2015,
          2018,
          2021,
          2014,
          2012,
          2018,
          2018,
          2014,
          2014,
          2018,
          2020,
          2020,
          2021,
          2019,
          2020,
          2016,
          2021,
          2016,
          2015,
          2015,
          2014,
          2014,
          2020,
          2021,
          2015,
          2013,
          2015,
          2018,
          2015,
          2019,
          2015,
          2015,
          2021,
          2017,
          2015,
          2018,
          2019,
          2021,
          2016,
          2021,
          2020,
          2014,
          2012,
          2017,
          2019,
          2019,
          2014,
          2015,
          2013,
          2018,
          2020,
          2012,
          2012,
          2016,
          2019,
          2016,
          2021,
          2021,
          2021,
          2018,
          2012,
          2018,
          2019,
          2013,
          2016,
          2016,
          2019,
          2021,
          2021,
          2020,
          2020,
          2014,
          2015,
          2021,
          2015,
          2012,
          2016,
          2015,
          2013,
          2013,
          2021,
          2018,
          2012,
          2021,
          2021,
          2012,
          2013,
          2014,
          2012,
          2019,
          2017,
          2019,
          2017,
          2016,
          2021,
          2013,
          2012,
          2012,
          2019,
          2013,
          2019,
          2020,
          2017,
          2018,
          2014,
          2021,
          2020,
          2015,
          2019,
          2013,
          2016,
          2013,
          2018,
          2020,
          2013,
          2014,
          2020,
          2018,
          2019,
          2018,
          2012,
          2017,
          2017,
          2021,
          2018,
          2012,
          2014,
          2016,
          2014,
          2016,
          2019,
          2019,
          2018,
          2013,
          2018,
          2015,
          2016,
          2014,
          2017,
          2017,
          2021,
          2019,
          2015,
          2015,
          2015,
          2017,
          2020,
          2012,
          2020,
          2018,
          2021,
          2018,
          2013,
          2012,
          2016,
          2017,
          2019,
          2014,
          2019,
          2014,
          2020,
          2013,
          2012,
          2015,
          2019,
          2021,
          2012,
          2021,
          2017,
          2016,
          2016,
          2019,
          2014,
          2019,
          2019,
          2019,
          2014,
          2015,
          2018,
          2013,
          2017,
          2019,
          2012,
          2012,
          2016,
          2020,
          2020,
          2018,
          2020,
          2016,
          2016,
          2021,
          2017,
          2015,
          2021,
          2014,
          2013,
          2017,
          2015,
          2020,
          2017,
          2021,
          2018,
          2013,
          2016,
          2019,
          2016,
          2016,
          2016,
          2017,
          2015,
          2012,
          2012,
          2013,
          2019,
          2018,
          2016,
          2020,
          2014,
          2018,
          2014,
          2021,
          2021,
          2012,
          2015,
          2013,
          2019,
          2020,
          2019,
          2013,
          2016,
          2013,
          2015,
          2012,
          2020,
          2014,
          2017,
          2013,
          2013,
          2017,
          2017,
          2014,
          2014,
          2012,
          2015,
          2020,
          2013,
          2016,
          2019,
          2021,
          2015,
          2016,
          2021,
          2020,
          2018,
          2020,
          2015,
          2018,
          2017,
          2017,
          2012,
          2016,
          2016,
          2016,
          2014,
          2018,
          2012,
          2012,
          2014,
          2021,
          2016,
          2017,
          2021,
          2013,
          2015,
          2019,
          2013,
          2021,
          2020,
          2013,
          2018,
          2013,
          2021,
          2014,
          2018,
          2017,
          2015,
          2015,
          2017,
          2016,
          2021,
          2012,
          2017,
          2016,
          2017,
          2020,
          2017,
          2012,
          2017,
          2015,
          2018,
          2016,
          2015,
          2017,
          2019,
          2019,
          2015,
          2020,
          2020,
          2016,
          2016,
          2012,
          2019,
          2015,
          2016,
          2012,
          2012,
          2012,
          2014,
          2020,
          2014,
          2014,
          2014,
          2021,
          2015,
          2020,
          2015,
          2021,
          2013,
          2019,
          2016,
          2014,
          2017,
          2016,
          2019,
          2012,
          2019,
          2014,
          2020,
          2020,
          2019,
          2012,
          2012,
          2020,
          2021,
          2019,
          2020,
          2015,
          2018,
          2021,
          2017,
          2012,
          2015,
          2015,
          2020,
          2018,
          2015,
          2019,
          2016,
          2018,
          2017,
          2014,
          2016,
          2017,
          2017,
          2012,
          2012,
          2018,
          2016,
          2015,
          2021,
          2018,
          2012,
          2016,
          2020,
          2017,
          2015,
          2014,
          2015,
          2014,
          2016,
          2013,
          2018,
          2021,
          2017,
          2018,
          2019,
          2019,
          2019,
          2019,
          2012,
          2021,
          2015,
          2017,
          2012,
          2020,
          2013,
          2019,
          2014,
          2012,
          2014,
          2021,
          2013,
          2013,
          2017,
          2014,
          2012,
          2017,
          2020,
          2021,
          2016,
          2016,
          2012,
          2019,
          2016,
          2012,
          2015,
          2018,
          2014,
          2019,
          2016,
          2020,
          2016,
          2013,
          2018,
          2012,
          2021,
          2019,
          2012,
          2016,
          2016,
          2018,
          2015,
          2019,
          2021,
          2012,
          2019,
          2019,
          2020,
          2016,
          2020,
          2016,
          2017,
          2018,
          2019,
          2015,
          2018,
          2014,
          2016,
          2012,
          2017,
          2018,
          2012,
          2020,
          2019,
          2015,
          2015,
          2019,
          2014,
          2019,
          2018,
          2020,
          2017,
          2013,
          2013,
          2014,
          2015,
          2015,
          2015,
          2019,
          2019,
          2017,
          2018,
          2012,
          2020,
          2013,
          2018,
          2014,
          2016,
          2013,
          2012,
          2016,
          2020,
          2013,
          2013,
          2018,
          2016,
          2017,
          2016,
          2017,
          2017,
          2015,
          2020,
          2021,
          2020,
          2015,
          2014,
          2020,
          2020,
          2015,
          2013,
          2020,
          2019,
          2021,
          2016,
          2012,
          2018,
          2020,
          2021,
          2012,
          2016,
          2020,
          2015,
          2017,
          2014,
          2018,
          2017,
          2012,
          2012,
          2014,
          2021,
          2017,
          2020,
          2015,
          2013,
          2016,
          2013,
          2016,
          2016,
          2018,
          2021,
          2016,
          2018,
          2015,
          2013,
          2017,
          2019,
          2012,
          2021,
          2013,
          2013,
          2012,
          2020,
          2020,
          2016,
          2018,
          2014,
          2018,
          2018,
          2017,
          2017,
          2012,
          2021,
          2021,
          2021,
          2012,
          2013,
          2015,
          2013,
          2020,
          2016,
          2017,
          2015,
          2013,
          2016,
          2021,
          2012,
          2013,
          2016,
          2021,
          2018,
          2016,
          2016,
          2019,
          2021,
          2021,
          2020,
          2016,
          2018,
          2019,
          2018,
          2015,
          2021,
          2021,
          2017,
          2020,
          2021,
          2019,
          2014,
          2018,
          2017,
          2018,
          2019,
          2021,
          2017,
          2018,
          2012,
          2014,
          2021,
          2019,
          2020,
          2021,
          2020,
          2020,
          2019,
          2015,
          2016,
          2015,
          2020,
          2013,
          2021,
          2013,
          2019,
          2019,
          2013,
          2021,
          2018,
          2018,
          2016,
          2012,
          2016,
          2019,
          2015,
          2014,
          2020,
          2019,
          2013,
          2015,
          2021,
          2017,
          2019,
          2021,
          2019,
          2017,
          2012,
          2017,
          2020,
          2019,
          2016,
          2018,
          2016,
          2018,
          2017,
          2020,
          2015,
          2020,
          2016,
          2012,
          2012,
          2015,
          2013,
          2014,
          2018,
          2019,
          2021,
          2017,
          2015,
          2016,
          2017,
          2012,
          2019,
          2014,
          2013,
          2020,
          2012,
          2013,
          2018,
          2015,
          2015,
          2014,
          2017,
          2017,
          2014,
          2021,
          2012,
          2020,
          2013,
          2016,
          2019,
          2020,
          2013,
          2017,
          2014,
          2019,
          2014,
          2015,
          2016,
          2017,
          2012,
          2012,
          2019,
          2016,
          2016,
          2021,
          2018,
          2020,
          2015,
          2014,
          2021,
          2018,
          2012,
          2013,
          2017,
          2019,
          2012,
          2019,
          2018,
          2020,
          2017,
          2018,
          2014,
          2019,
          2012,
          2021,
          2017,
          2014,
          2019,
          2013,
          2012,
          2014,
          2012,
          2018,
          2018,
          2013,
          2012,
          2015,
          2015,
          2017,
          2019,
          2020,
          2020,
          2015,
          2021,
          2012,
          2019,
          2020,
          2013,
          2018,
          2016,
          2013,
          2020,
          2012,
          2021,
          2018,
          2012,
          2021,
          2021,
          2012,
          2021,
          2012,
          2018,
          2013,
          2019,
          2015,
          2018,
          2012,
          2015,
          2021,
          2018,
          2021,
          2015,
          2018,
          2014,
          2019,
          2020,
          2015,
          2019,
          2020,
          2020,
          2020,
          2015,
          2013,
          2012,
          2019,
          2012,
          2013,
          2021,
          2021,
          2020,
          2019,
          2014,
          2019,
          2014,
          2021,
          2018,
          2018,
          2015,
          2015,
          2021,
          2016,
          2013,
          2013,
          2021,
          2021,
          2018,
          2016,
          2020,
          2015,
          2021,
          2020,
          2020,
          2014,
          2015,
          2019,
          2019,
          2012,
          2016,
          2018,
          2020,
          2020,
          2017,
          2021,
          2015,
          2021,
          2017,
          2020,
          2013,
          2019,
          2020,
          2015,
          2017,
          2021,
          2014,
          2019,
          2013,
          2020,
          2017,
          2019,
          2013,
          2017,
          2019,
          2017,
          2014,
          2013,
          2014,
          2013,
          2019,
          2014,
          2019,
          2018,
          2015,
          2020,
          2014,
          2021,
          2015,
          2018,
          2013,
          2016,
          2012,
          2021,
          2013,
          2018,
          2016,
          2017,
          2014,
          2013,
          2012,
          2020,
          2015,
          2020,
          2020,
          2017,
          2013,
          2015,
          2013,
          2015,
          2014,
          2016,
          2017,
          2021,
          2016,
          2019,
          2019,
          2013,
          2019,
          2015,
          2021,
          2020,
          2014,
          2018,
          2014,
          2020,
          2019,
          2020,
          2019,
          2012,
          2012,
          2018,
          2021,
          2017,
          2019,
          2017,
          2016,
          2014,
          2015,
          2016,
          2020,
          2021,
          2019,
          2018,
          2018,
          2014,
          2017,
          2020,
          2014,
          2013,
          2018,
          2017,
          2020,
          2018,
          2017,
          2021,
          2021,
          2017,
          2018,
          2015,
          2021,
          2021,
          2013,
          2021,
          2017,
          2014,
          2018,
          2013,
          2014,
          2015,
          2015,
          2015,
          2013,
          2019,
          2013,
          2017,
          2014,
          2021,
          2016,
          2013,
          2017,
          2013,
          2018,
          2014,
          2013,
          2019,
          2021,
          2020,
          2021,
          2014,
          2015,
          2017,
          2012,
          2018,
          2013,
          2016,
          2019,
          2018,
          2016,
          2021,
          2017,
          2020,
          2018,
          2014,
          2020,
          2020,
          2012,
          2020,
          2019,
          2014,
          2014,
          2014,
          2017,
          2018,
          2015,
          2019,
          2018,
          2016,
          2016,
          2012,
          2012,
          2019,
          2017,
          2018,
          2017,
          2017,
          2020,
          2017,
          2017,
          2018,
          2012,
          2018,
          2013,
          2016,
          2021,
          2020,
          2018,
          2021,
          2021,
          2019,
          2019,
          2015,
          2016,
          2020,
          2016,
          2021,
          2016,
          2013,
          2016,
          2012,
          2021,
          2014,
          2016,
          2014,
          2018,
          2017,
          2019,
          2017,
          2012,
          2018,
          2019,
          2016,
          2018,
          2018,
          2015,
          2018,
          2016,
          2013,
          2012,
          2015,
          2017,
          2013,
          2021,
          2019,
          2018,
          2013,
          2019,
          2019,
          2020,
          2013,
          2014,
          2020,
          2015,
          2020,
          2015,
          2012,
          2014,
          2018,
          2020,
          2015,
          2016,
          2021,
          2021,
          2015,
          2019,
          2018,
          2018,
          2017,
          2014,
          2013,
          2013,
          2015,
          2020,
          2015,
          2020,
          2019,
          2015,
          2014,
          2016,
          2012,
          2020,
          2016,
          2021,
          2021,
          2020,
          2013,
          2019,
          2014,
          2014,
          2015,
          2013,
          2017,
          2015,
          2014,
          2020,
          2014,
          2014,
          2017,
          2014,
          2019,
          2021,
          2018,
          2012,
          2014,
          2017,
          2018,
          2017,
          2015,
          2012,
          2014,
          2018,
          2013,
          2019,
          2016,
          2018,
          2012,
          2016,
          2016,
          2014,
          2019,
          2019,
          2016,
          2015,
          2016,
          2015,
          2019,
          2020,
          2020,
          2019,
          2016,
          2017,
          2018,
          2018,
          2020,
          2021,
          2019,
          2021,
          2016,
          2013,
          2021,
          2015,
          2020,
          2018,
          2014,
          2020,
          2012,
          2014,
          2016,
          2018,
          2014,
          2020,
          2018,
          2018,
          2014,
          2019,
          2016,
          2018,
          2018,
          2021,
          2012,
          2017,
          2014,
          2012,
          2019,
          2021,
          2021,
          2012,
          2021,
          2017,
          2021,
          2020,
          2015,
          2012,
          2017,
          2019,
          2016,
          2017,
          2020,
          2014,
          2016,
          2013,
          2014,
          2013,
          2019,
          2014,
          2019,
          2012,
          2021,
          2021,
          2018,
          2015,
          2014,
          2012,
          2013,
          2019,
          2013,
          2018,
          2012,
          2016,
          2020,
          2020,
          2019,
          2019,
          2013,
          2018,
          2017,
          2020,
          2014,
          2016,
          2020,
          2017,
          2020,
          2018,
          2012,
          2019,
          2020,
          2017,
          2017,
          2018,
          2021,
          2013,
          2016,
          2019,
          2019,
          2018,
          2018,
          2019,
          2019,
          2012,
          2016,
          2012,
          2015,
          2019,
          2015,
          2019,
          2021,
          2016,
          2012,
          2016,
          2020,
          2018,
          2016,
          2013,
          2021,
          2012,
          2016,
          2015,
          2016,
          2020,
          2013,
          2014,
          2018,
          2016,
          2013,
          2017,
          2021,
          2013,
          2020,
          2012,
          2021,
          2021,
          2014,
          2013,
          2015,
          2021,
          2014,
          2020,
          2019,
          2020,
          2021,
          2014,
          2020,
          2019,
          2017,
          2012,
          2016,
          2018,
          2015,
          2013,
          2021,
          2021,
          2020,
          2016,
          2016,
          2015,
          2017,
          2018,
          2012,
          2018,
          2016,
          2021,
          2018,
          2015,
          2020,
          2021,
          2021,
          2016,
          2014,
          2016,
          2016,
          2012,
          2014,
          2016,
          2017,
          2012,
          2017,
          2012,
          2021,
          2014,
          2021,
          2018,
          2017,
          2017,
          2019,
          2019,
          2014,
          2021,
          2015,
          2018,
          2016,
          2013,
          2012,
          2013,
          2013,
          2012,
          2013,
          2018,
          2014,
          2016,
          2012,
          2016,
          2018,
          2019,
          2020,
          2014,
          2012,
          2012,
          2018,
          2020,
          2021,
          2017,
          2021,
          2015,
          2014,
          2019,
          2013,
          2016,
          2016,
          2020,
          2015,
          2018,
          2020,
          2015,
          2014,
          2017,
          2017,
          2014,
          2021,
          2014,
          2015,
          2018,
          2013,
          2015,
          2021,
          2015,
          2019,
          2012,
          2013,
          2017,
          2019,
          2021,
          2012,
          2014,
          2019,
          2016,
          2016,
          2020,
          2013,
          2013,
          2013,
          2013,
          2013,
          2013,
          2017,
          2014,
          2012,
          2014,
          2020,
          2021,
          2017,
          2019,
          2021,
          2014,
          2021,
          2013,
          2021,
          2016,
          2019,
          2020,
          2013,
          2020,
          2014,
          2018,
          2016,
          2020,
          2013,
          2013,
          2020,
          2021,
          2020,
          2021,
          2021,
          2013,
          2019,
          2019,
          2015,
          2014,
          2017,
          2020,
          2021,
          2019,
          2017,
          2020,
          2021,
          2013,
          2018,
          2012,
          2017,
          2013,
          2013,
          2021,
          2012,
          2019,
          2014,
          2012,
          2021,
          2018,
          2017,
          2013,
          2020,
          2016,
          2016,
          2017,
          2016,
          2018,
          2016,
          2015,
          2018,
          2019,
          2018,
          2018,
          2018,
          2013,
          2015,
          2017,
          2017,
          2020,
          2021,
          2019,
          2012,
          2019,
          2012,
          2016,
          2016,
          2012,
          2020,
          2016,
          2021,
          2017,
          2014,
          2017,
          2014,
          2021,
          2014,
          2020,
          2015,
          2020,
          2019,
          2020,
          2019,
          2020,
          2015,
          2014,
          2012,
          2020,
          2020,
          2018,
          2015,
          2014,
          2018,
          2021,
          2021,
          2016,
          2020,
          2021,
          2015,
          2013,
          2018,
          2014,
          2014,
          2017,
          2013,
          2014,
          2012,
          2019,
          2012,
          2021,
          2015,
          2012,
          2016,
          2018,
          2019,
          2012,
          2021,
          2019,
          2016,
          2017,
          2020,
          2012,
          2021,
          2014,
          2018,
          2012,
          2015,
          2015,
          2020,
          2016,
          2021,
          2014,
          2015,
          2017,
          2021,
          2012,
          2013,
          2021,
          2012,
          2018,
          2021,
          2012,
          2019,
          2021,
          2016,
          2021,
          2012,
          2017,
          2013,
          2021,
          2018,
          2012,
          2013,
          2020,
          2018,
          2015,
          2015,
          2020,
          2013,
          2013,
          2020,
          2019,
          2020,
          2012,
          2018,
          2017,
          2013,
          2015,
          2018,
          2018,
          2017,
          2017,
          2014,
          2016,
          2014,
          2014,
          2013,
          2012,
          2015,
          2019,
          2018,
          2018,
          2020,
          2014,
          2015,
          2021,
          2014,
          2012,
          2020,
          2014,
          2021,
          2018,
          2020,
          2020,
          2018,
          2017,
          2012,
          2015,
          2015,
          2020,
          2013,
          2013,
          2019,
          2013,
          2014,
          2013,
          2012,
          2018,
          2015,
          2015,
          2014,
          2018,
          2021,
          2014,
          2016,
          2018,
          2020,
          2012,
          2014,
          2016,
          2020,
          2021,
          2015,
          2019,
          2015,
          2012,
          2016,
          2020,
          2016,
          2018,
          2018,
          2021,
          2016,
          2012,
          2013,
          2015,
          2017,
          2015,
          2014,
          2020,
          2013,
          2012,
          2014,
          2016,
          2020,
          2018,
          2019,
          2012,
          2012,
          2012,
          2017,
          2017,
          2018,
          2015,
          2017,
          2020,
          2015,
          2018,
          2018,
          2016,
          2019,
          2012,
          2012,
          2015,
          2012,
          2021,
          2018,
          2017,
          2020,
          2018,
          2018,
          2014,
          2016,
          2015,
          2019,
          2015,
          2021,
          2015,
          2017,
          2015,
          2021,
          2018,
          2015,
          2012,
          2020,
          2014,
          2018,
          2013,
          2019,
          2019,
          2018,
          2015,
          2013,
          2017,
          2012,
          2017,
          2013,
          2016,
          2019,
          2014,
          2018,
          2012,
          2020,
          2015,
          2014,
          2013,
          2015,
          2017,
          2021,
          2013,
          2015,
          2016,
          2019,
          2021,
          2020,
          2015,
          2013,
          2012,
          2019,
          2021,
          2016,
          2012,
          2015,
          2020,
          2015,
          2019,
          2020,
          2013,
          2014,
          2018,
          2014,
          2019,
          2014,
          2016,
          2013,
          2018,
          2020,
          2016,
          2017,
          2020,
          2020,
          2014,
          2012,
          2014,
          2012,
          2016,
          2016,
          2020,
          2012,
          2016,
          2014,
          2020,
          2013,
          2017,
          2019,
          2014,
          2020,
          2013,
          2019,
          2014,
          2019,
          2013,
          2019,
          2021,
          2019,
          2014,
          2019,
          2014,
          2021,
          2014,
          2012,
          2019,
          2017,
          2020,
          2014,
          2015,
          2012,
          2012,
          2013,
          2020,
          2018,
          2013,
          2012,
          2015,
          2017,
          2018,
          2017,
          2017,
          2019,
          2016,
          2019,
          2016,
          2018,
          2016,
          2012,
          2021,
          2021,
          2014,
          2017,
          2013,
          2016,
          2017,
          2020,
          2015,
          2016,
          2020,
          2014,
          2017,
          2012,
          2017,
          2013,
          2012,
          2013,
          2012,
          2019,
          2016,
          2013,
          2014,
          2016,
          2012,
          2020,
          2016,
          2017,
          2021,
          2014,
          2016,
          2021,
          2021,
          2014,
          2016,
          2017,
          2014,
          2017,
          2020,
          2012,
          2015,
          2013,
          2013,
          2019,
          2019,
          2018,
          2013,
          2014,
          2016,
          2017,
          2016,
          2016,
          2021,
          2012,
          2020,
          2021,
          2017,
          2016,
          2017,
          2015,
          2019,
          2018,
          2019,
          2015,
          2016,
          2015,
          2013,
          2019,
          2015,
          2020,
          2014,
          2017,
          2020,
          2019,
          2013,
          2016,
          2012,
          2021,
          2017,
          2019,
          2020,
          2017,
          2018,
          2021,
          2016,
          2014,
          2015,
          2017,
          2020,
          2018,
          2018,
          2020,
          2012,
          2020,
          2012,
          2016,
          2012,
          2018,
          2021,
          2014,
          2012,
          2021,
          2015,
          2014,
          2019,
          2016,
          2018,
          2012,
          2017,
          2019,
          2021,
          2017,
          2014,
          2013,
          2018,
          2016,
          2020,
          2014,
          2014,
          2020,
          2016,
          2020,
          2020,
          2015,
          2013,
          2014,
          2019,
          2021,
          2016,
          2013,
          2017,
          2021,
          2020,
          2015,
          2020,
          2017,
          2016,
          2017,
          2014,
          2021,
          2014,
          2018,
          2016,
          2015,
          2015,
          2020,
          2018,
          2018,
          2019,
          2019,
          2016,
          2014,
          2018,
          2021,
          2015,
          2020,
          2021,
          2018,
          2014,
          2013,
          2020,
          2019,
          2021,
          2018,
          2014,
          2012,
          2013,
          2013,
          2015,
          2021,
          2018,
          2019,
          2014,
          2013,
          2013,
          2014,
          2013,
          2015,
          2016,
          2012,
          2021,
          2015,
          2015,
          2012,
          2017,
          2012,
          2013,
          2016,
          2017,
          2018,
          2013,
          2015,
          2014,
          2013,
          2013,
          2020,
          2016,
          2018,
          2013,
          2020,
          2019,
          2015,
          2021,
          2021,
          2012,
          2018,
          2014,
          2012,
          2015,
          2020,
          2014,
          2018,
          2020,
          2021,
          2013,
          2021,
          2014,
          2017,
          2020,
          2012,
          2020,
          2019,
          2014,
          2017,
          2014,
          2014,
          2018,
          2021,
          2021,
          2016,
          2012,
          2016,
          2016,
          2021,
          2013,
          2021,
          2017,
          2020,
          2020,
          2016,
          2020,
          2018,
          2018,
          2014,
          2020,
          2014,
          2015,
          2020,
          2012,
          2016,
          2021,
          2015,
          2021,
          2012,
          2012,
          2021,
          2012,
          2018,
          2020,
          2019,
          2017,
          2017,
          2014,
          2012,
          2021,
          2014,
          2015,
          2018,
          2012,
          2015,
          2015,
          2019,
          2014,
          2019,
          2019,
          2018,
          2015,
          2018,
          2014,
          2018,
          2018,
          2018,
          2019,
          2018,
          2020,
          2018,
          2017,
          2017,
          2018,
          2018,
          2015,
          2018,
          2018,
          2021,
          2020,
          2012,
          2013,
          2017,
          2012,
          2015,
          2013,
          2012,
          2014,
          2018,
          2016,
          2014,
          2014,
          2019,
          2019,
          2016,
          2021,
          2017,
          2019,
          2019,
          2021,
          2021,
          2015,
          2012,
          2021,
          2019,
          2013,
          2013,
          2020,
          2017,
          2016,
          2012,
          2012,
          2014,
          2012,
          2017,
          2016,
          2017,
          2020,
          2018,
          2013,
          2012,
          2015,
          2017,
          2020,
          2016,
          2014,
          2015,
          2015,
          2019,
          2016,
          2018,
          2016,
          2018,
          2019,
          2020,
          2019,
          2017,
          2017,
          2013,
          2019,
          2020,
          2019,
          2012,
          2018,
          2016,
          2019,
          2017,
          2015,
          2019,
          2015,
          2014,
          2014,
          2020,
          2014,
          2013,
          2017,
          2016,
          2019,
          2014,
          2012,
          2018,
          2013,
          2021,
          2012,
          2014,
          2015,
          2012,
          2015,
          2013,
          2015,
          2012,
          2015,
          2012,
          2017,
          2013,
          2012,
          2017,
          2019,
          2013,
          2021,
          2019,
          2020,
          2020,
          2013,
          2021,
          2012,
          2017,
          2012,
          2013,
          2013,
          2019,
          2016,
          2019,
          2014,
          2016,
          2018,
          2014,
          2014,
          2015,
          2020,
          2016,
          2012,
          2020,
          2018,
          2017,
          2015,
          2012,
          2016,
          2019,
          2020,
          2021,
          2015,
          2021,
          2014,
          2012,
          2013,
          2013,
          2018,
          2020,
          2013,
          2017,
          2019,
          2020,
          2021,
          2020,
          2015,
          2020,
          2021,
          2017,
          2017,
          2013,
          2014,
          2019,
          2012,
          2019,
          2015,
          2012,
          2019,
          2014,
          2016,
          2019,
          2017,
          2012,
          2020,
          2021,
          2016,
          2015,
          2021,
          2017,
          2019,
          2017,
          2019,
          2018,
          2013,
          2020,
          2014,
          2013,
          2013,
          2013,
          2020,
          2012,
          2021,
          2021,
          2021,
          2020,
          2020,
          2017,
          2019,
          2019,
          2013,
          2014,
          2015,
          2019,
          2013,
          2021,
          2012,
          2015,
          2017,
          2018,
          2020,
          2019,
          2013,
          2018,
          2018,
          2014,
          2018,
          2020,
          2015,
          2012,
          2021,
          2021,
          2020,
          2020,
          2013,
          2018,
          2020,
          2018,
          2017,
          2017,
          2020,
          2012,
          2013,
          2018,
          2014,
          2019,
          2016,
          2012,
          2019,
          2017,
          2021,
          2015,
          2014,
          2019,
          2016,
          2013,
          2019,
          2018,
          2021,
          2017,
          2015,
          2014,
          2013,
          2017,
          2021,
          2015,
          2014,
          2013,
          2015,
          2015,
          2021,
          2012,
          2016,
          2021,
          2017,
          2018,
          2018,
          2018,
          2017,
          2013,
          2019,
          2014,
          2015,
          2016,
          2019,
          2021,
          2019,
          2016,
          2013,
          2016,
          2012,
          2020,
          2014,
          2014,
          2019,
          2019,
          2021,
          2021,
          2015,
          2014,
          2015,
          2012,
          2012,
          2017,
          2015,
          2015,
          2017,
          2016,
          2018,
          2018,
          2018,
          2019,
          2019,
          2012,
          2020,
          2015,
          2017,
          2016,
          2017,
          2019,
          2021,
          2012,
          2013,
          2017,
          2018,
          2015,
          2018,
          2015,
          2014,
          2015,
          2021,
          2018,
          2019,
          2020,
          2012,
          2020,
          2021,
          2017,
          2015,
          2012,
          2018,
          2020,
          2016,
          2013,
          2016,
          2021,
          2018,
          2013,
          2015,
          2012,
          2019,
          2016,
          2019,
          2017,
          2014,
          2016,
          2018,
          2014,
          2016,
          2014,
          2012,
          2019,
          2018,
          2013,
          2014,
          2015,
          2021,
          2013,
          2012,
          2016,
          2021,
          2019,
          2017,
          2016,
          2013,
          2014,
          2014,
          2013,
          2017,
          2020,
          2014,
          2013,
          2017,
          2013,
          2012,
          2012,
          2017,
          2019,
          2015,
          2018,
          2021,
          2020,
          2012,
          2019,
          2018,
          2014,
          2021,
          2019,
          2017,
          2017,
          2020,
          2012,
          2015,
          2015,
          2013,
          2020,
          2017,
          2016,
          2017,
          2013,
          2017,
          2020,
          2018,
          2018,
          2014,
          2021,
          2019,
          2019,
          2017,
          2017,
          2018,
          2019,
          2018,
          2018,
          2012,
          2017,
          2019,
          2018,
          2014,
          2014,
          2014
         ],
         "x0": " ",
         "xaxis": "x",
         "y": [
          49087717.5,
          219750850,
          110183550,
          103601170,
          39764612.5,
          42302417.5,
          76460000,
          47384515,
          77712782.5,
          35891587.5,
          19316110,
          94664725,
          108569720,
          249401910,
          46750852.5,
          36554372.5,
          61226712.5,
          32002967.5,
          266938732.5,
          25764232.5,
          73201675,
          203264800,
          76667877.5,
          28023412.5,
          60087612.5,
          54126130,
          65306862.5,
          231064450,
          185703492.5,
          105229267.5,
          86489030,
          61621050,
          55512015,
          36600222.5,
          76972400,
          18078522.5,
          56034125,
          42134835,
          83765155,
          28876137.5,
          95063277.5,
          401750665,
          44110515,
          57585207.5,
          36911712.5,
          173735652.5,
          36550905,
          61547862.5,
          166160577.5,
          36732587.5,
          59827337.5,
          49839300,
          102873052.5,
          221041112.5,
          98075900,
          54263237.5,
          48906547.5,
          37595997.5,
          900125325,
          86612552.5,
          63658887.5,
          161607050,
          40881625,
          61058040,
          23740100,
          88587262.5,
          90033587.5,
          19246875,
          47939642.5,
          27149460,
          27585715,
          50333070,
          95924172.5,
          17268235,
          65761317.5,
          45503597.5,
          50448757.5,
          856340012.5,
          47927672.5,
          42108400,
          84779285,
          36330125,
          2453650,
          43649200,
          139449407.5,
          63900085,
          70102500,
          38636832.5,
          20493762.5,
          56119287.5,
          56248160,
          42403912.5,
          57462650,
          115824850,
          104950720,
          312943450,
          33160647.5,
          41455225,
          115560670,
          74978687.5,
          798237632.5,
          63290135,
          26442037.5,
          81911410,
          95830590,
          33814220,
          77841977.5,
          45396150,
          87402530,
          112632472.5,
          34092225,
          70865325,
          65376787.5,
          86882350,
          24820530,
          30972900,
          98433450,
          74437072.5,
          32669005,
          33072585,
          186985782.5,
          89592872.5,
          29442062.5,
          48092200,
          19401442.5,
          55008255,
          2351235,
          96081897.5,
          198216580,
          82945627.5,
          54021692.5,
          229631552.5,
          114071645,
          100466060,
          81784150,
          30817562.5,
          21976625,
          109152870,
          41412175,
          26857745,
          368798575,
          33991137.5,
          70349307.5,
          26863765,
          89386950,
          57535052.5,
          67716435,
          68928777.5,
          80737325,
          69249852.5,
          132995300,
          73089995,
          153650400,
          61761872.5,
          45524587.5,
          77862602.5,
          182133075,
          67936092.5,
          34886675,
          185512255,
          401394677.5,
          77267597.5,
          49724522.5,
          22712310,
          814510975,
          46612625,
          50066737.5,
          95169262.5,
          16709792.5,
          56638825,
          51695702.5,
          162091137.5,
          86798747.5,
          80902027.5,
          160346022.5,
          180122675,
          47170625,
          71674880,
          60296605,
          102403980,
          177469470,
          120979495,
          276554837.5,
          27035812.5,
          64861652.5,
          25134625,
          67361762.5,
          207989277.5,
          32637062.5,
          188670375,
          63290295,
          41586677.5,
          19072752.5,
          15097970,
          88137630,
          43594900,
          18860007.5,
          86669860,
          75422577.5,
          54497457.5,
          34458407.5,
          12937620,
          81253950,
          44020020,
          157639650,
          59415717.5,
          40317485,
          58317982.5,
          60720327.5,
          50175550,
          208047650,
          16210757.5,
          59065987.5,
          41908015,
          119725762.5,
          32020670,
          105187570,
          51411962.5,
          19846900,
          29103997.5,
          39754307.5,
          91093225,
          33026492.5,
          69955495,
          53660600,
          106552212.5,
          191373267.5,
          49329685,
          40306182.5,
          45299747.5,
          23603412.5,
          42420275,
          41107177.5,
          49837300,
          44122912.5,
          266913937.5,
          47817442.5,
          30321067.5,
          49837065,
          19768952.5,
          82635097.5,
          36581042.5,
          48066507.5,
          285344062.5,
          39680595,
          91375575,
          76624250,
          47263082.5,
          57741175,
          82068322.5,
          56498782.5,
          55130167.5,
          22471162.5,
          30481450,
          82805515,
          47936400,
          25825575,
          49350267.5,
          99174022.5,
          84046100,
          39553507.5,
          74379775,
          26244520,
          71133767.5,
          19601642.5,
          37845677.5,
          40720500,
          38969992.5,
          35375172.5,
          40807032.5,
          835763722.5,
          47057675,
          154457642.5,
          35550332.5,
          55383375,
          77046962.5,
          51900415,
          50282817.5,
          54740530,
          79758062.5,
          64776995,
          35970005,
          35156997.5,
          25680300,
          91050972.5,
          62112425,
          78505087.5,
          39579962.5,
          81951487.5,
          42616925,
          75446087.5,
          39901510,
          35271232.5,
          60653725,
          55559570,
          12488230,
          75080212.5,
          185028402.5,
          71491337.5,
          15216607.5,
          53441900,
          65455307.5,
          42219085,
          50954450,
          86071680,
          29569190,
          231585785,
          67082062.5,
          283745512.5,
          17659297.5,
          81199257.5,
          40322415,
          31953907.5,
          42276205,
          22551237.5,
          42402650,
          12919962.5,
          54125300,
          30973295,
          77391925,
          52795580,
          272710782.5,
          56634400,
          40398962.5,
          98314320,
          175834697.5,
          36834715,
          77041842.5,
          68987647.5,
          32951422.5,
          95943420,
          299066475,
          819853685,
          35535225,
          65088492.5,
          339050637.5,
          47510397.5,
          264823312.5,
          108450212.5,
          19110335,
          34418727.5,
          88279860,
          52751755,
          46806512.5,
          59778752.5,
          38046975,
          96080962.5,
          57943255,
          89408195,
          83734392.5,
          88567577.5,
          29367625,
          66056432.5,
          56452770,
          79654552.5,
          45945360,
          48471602.5,
          132705522.5,
          44204625,
          64368270,
          87669380,
          239505252.5,
          89284005,
          226857767.5,
          47171100,
          117597987.5,
          131056300,
          66351150,
          32502517.5,
          45546280,
          82877590,
          68959967.5,
          24363910,
          29870125,
          68296135,
          25130675,
          47388855,
          51282422.5,
          34293950,
          41937475,
          134703425,
          203620540,
          111353285,
          88476235,
          77088712.5,
          105239727.5,
          114328262.5,
          38534870,
          7765260,
          59144225,
          2279707.5,
          75335725,
          998781687.5,
          33161547.5,
          85910550,
          81882695,
          34021640,
          24091950,
          66945585,
          44069535,
          47753762.5,
          60625137.5,
          18771525,
          38253362.5,
          71073022.5,
          23310617.5,
          56947537.5,
          113466870,
          37022425,
          187088425,
          45124595,
          66752217.5,
          122945420,
          49698442.5,
          30795875,
          53130725,
          59452145,
          96070702.5,
          48567805,
          26012882.5,
          40829050,
          35335350,
          44246525,
          82537782.5,
          48081690,
          111813597.5,
          81909575,
          241225362.5,
          250386235,
          63791262.5,
          9967325,
          51699515,
          79542852.5,
          44998612.5,
          50995345,
          157645737.5,
          64826877.5,
          43053077.5,
          18813947.5,
          65667095,
          35066915,
          49453167.5,
          78765325,
          76399392.5,
          31694182.5,
          46423695,
          52477512.5,
          276781035,
          41756737.5,
          104539320,
          30314442.5,
          40796665,
          46146365,
          177725555,
          171978075,
          73448052.5,
          25729012.5,
          38724642.5,
          32862967.5,
          20888800,
          20622082.5,
          80839612.5,
          33620662.5,
          65646515,
          119643552.5,
          41912825,
          34831300,
          71568412.5,
          42203812.5,
          62153400,
          112600747.5,
          83092492.5,
          131910670,
          32845802.5,
          45874397.5,
          51498685,
          12792025,
          26366445,
          57869585,
          27861405,
          11066912.5,
          52939462.5,
          79546922.5,
          33233762.5,
          89362000,
          82331767.5,
          231512787.5,
          127732622.5,
          17262467.5,
          39662150,
          70023220,
          47888965,
          50384755,
          34041862.5,
          45858087.5,
          80377890,
          67481950,
          54071412.5,
          35666510,
          33335325,
          80906812.5,
          105042042.5,
          58635412.5,
          9638157.5,
          36402412.5,
          97313170,
          162239332.5,
          56094462.5,
          33039092.5,
          432734250,
          25041807.5,
          11750565,
          42758617.5,
          98904037.5,
          222840100,
          99542772.5,
          37265950,
          236537407.5,
          54090692.5,
          39657937.5,
          15364825,
          40689322.5,
          73459842.5,
          15910117.5,
          19017475,
          72473822.5,
          34077545,
          24895942.5,
          64873127.5,
          45333560,
          213695737.5,
          70694875,
          114746497.5,
          77658537.5,
          73192787.5,
          40710962.5,
          22233037.5,
          41335442.5,
          45087312.5,
          58609337.5,
          65375017.5,
          12345140,
          82788462.5,
          51484967.5,
          62123967.5,
          45543180,
          60723487.5,
          55128582.5,
          64675950,
          24574832.5,
          2716312.5,
          240527532.5,
          44819845,
          33397467.5,
          51963235,
          189283810,
          92922950,
          52168202.5,
          40684462.5,
          264461177.5,
          20966357.5,
          50476262.5,
          46062530,
          48427737.5,
          40582320,
          81856945,
          24993205,
          31650890,
          49444957.5,
          70255812.5,
          78549350,
          46012910,
          68857125,
          8598580,
          52145485,
          169098707.5,
          39587060,
          76507400,
          53492505,
          94898522.5,
          38930372.5,
          65286370,
          44511212.5,
          120654060,
          190572662.5,
          74200325,
          36351717.5,
          64539900,
          38738620,
          43340262.5,
          96146410,
          31115697.5,
          56547365,
          26154475,
          174985915,
          59452525,
          27943255,
          128583175,
          110909277.5,
          53717950,
          97740537.5,
          316695097.5,
          33428110,
          42221800,
          1121605530,
          127978912.5,
          8469060,
          856373680,
          263988022.5,
          60661787.5,
          78696667.5,
          35939577.5,
          55087047.5,
          32541160,
          126188287.5,
          53883830,
          138921947.5,
          26237517.5,
          75028950,
          86051760,
          71540052.5,
          238135137.5,
          84936697.5,
          178194687.5,
          41589605,
          7655955,
          44411180,
          84866212.5,
          120773397.5,
          459150862.5,
          35153750,
          81892837.5,
          37017572.5,
          39952065,
          15864212.5,
          105580187.5,
          54906015,
          115651585,
          103994525,
          23532385,
          47219337.5,
          11469202.5,
          47052232.5,
          25923912.5,
          100272360,
          48441610,
          55450422.5,
          40775962.5,
          79232987.5,
          43891047.5,
          29713990,
          46108037.5,
          35634152.5,
          63853650,
          64862815,
          102353222.5,
          21999110,
          51326360,
          40106487.5,
          63592062.5,
          44137312.5,
          81940895,
          34026987.5,
          68158512.5,
          90399530,
          42742920,
          83391600,
          34648705,
          55302512.5,
          50327812.5,
          53855075,
          81275477.5,
          70944262.5,
          64478400,
          90300325,
          56026480,
          78063837.5,
          39415352.5,
          83251350,
          40271357.5,
          45225582.5,
          35844750,
          67095917.5,
          35832200,
          116655587.5,
          35697975,
          74409770,
          92570232.5,
          76808400,
          60884175,
          35220845,
          121927537.5,
          81844625,
          92503872.5,
          43539000,
          59359200,
          183159305,
          1213827870,
          190585667.5,
          85654115,
          31800362.5,
          49629195,
          91531200,
          43693025,
          47837637.5,
          62399342.5,
          177450792.5,
          141287600,
          21904095,
          36608900,
          38562700,
          63992850,
          191680122.5,
          48514077.5,
          39180707.5,
          74854267.5,
          2734600,
          291437450,
          25753270,
          35630437.5,
          14680427.5,
          47479115,
          69544535,
          161145192.5,
          62502000,
          81079887.5,
          69660767.5,
          46463425,
          832079462.5,
          50120550,
          30668577.5,
          38781152.5,
          290729677.5,
          75160755,
          37591805,
          22557820,
          47742010,
          49052987.5,
          64852967.5,
          112923107.5,
          173269905,
          49414250,
          24294862.5,
          52997080,
          14039367.5,
          69066790,
          93963400,
          32084282.5,
          63202842.5,
          67110192.5,
          32475890,
          4183680,
          30204152.5,
          41462570,
          39793605,
          42449187.5,
          71068627.5,
          49488667.5,
          77635602.5,
          33762802.5,
          57699770,
          17624442.5,
          13835012.5,
          49712937.5,
          44271272.5,
          63204345,
          34750062.5,
          49028525,
          121862165,
          39626875,
          314519527.5,
          49978090,
          58112750,
          53946687.5,
          113658740,
          82142627.5,
          41980007.5,
          71323507.5,
          35912695,
          75317452.5,
          2217600,
          94022650,
          36799687.5,
          165003650,
          51484450,
          42753337.5,
          54361687.5,
          43900865,
          85336622.5,
          138073795,
          34387795,
          75169955,
          46325362.5,
          192492727.5,
          114842785,
          84640307.5,
          112692362.5,
          32807175,
          47136400,
          67845475,
          182450212.5,
          68786597.5,
          109190080,
          14924600,
          53328932.5,
          85606270,
          1332256025,
          52049225,
          137267737.5,
          39155262.5,
          36192302.5,
          42365737.5,
          67188700,
          53480307.5,
          256821865,
          16918465,
          108053175,
          452352825,
          91329962.5,
          47379095,
          70208212.5,
          23902202.5,
          158212075,
          210438995,
          108364672.5,
          50753575,
          75667560,
          61043402.5,
          161894770,
          47657270,
          370976950,
          69527605,
          269746450,
          34722752.5,
          111082655,
          253837175,
          18464262.5,
          87241050,
          83285507.5,
          43397852.5,
          175098417.5,
          9215287.5,
          23092352.5,
          63049737.5,
          85266150,
          93285485,
          52203325,
          50381162.5,
          44364907.5,
          287327825,
          57679655,
          63865935,
          89898360,
          71431945,
          483809937.5,
          2270395,
          43345302.5,
          26822540,
          87136112.5,
          46206032.5,
          19236230,
          50273417.5,
          28864125,
          35951240,
          46332542.5,
          82700670,
          105839300,
          372882050,
          319165937.5,
          28423152.5,
          81551377.5,
          246410005,
          34245047.5,
          54094462.5,
          2577362.5,
          52124780,
          28604515,
          40965880,
          83628637.5,
          102268685,
          61879162.5,
          35041312.5,
          95709087.5,
          73282950,
          73665040,
          63352435,
          43268065,
          77988100,
          77780922.5,
          40817215,
          75246172.5,
          26339232.5,
          70306410,
          63864362.5,
          88819427.5,
          47117417.5,
          11903162.5,
          55719037.5,
          85255957.5,
          19432427.5,
          39280862.5,
          66885570,
          32468925,
          299854637.5,
          100716425,
          66019545,
          49921382.5,
          46114732.5,
          53188105,
          55198927.5,
          41010495,
          35837307.5,
          56312060,
          53721120,
          39833085,
          59097780,
          95903150,
          87540000,
          78412002.5,
          54743555,
          20089530,
          88369962.5,
          43914162.5,
          65396580,
          74161375,
          37463705,
          75894187.5,
          166244200,
          16670927.5,
          33409020,
          52463615,
          60147292.5,
          47463550,
          38268262.5,
          30960587.5,
          60422582.5,
          67492535,
          37436622.5,
          169522167.5,
          20335675,
          42964902.5,
          67876112.5,
          88390252.5,
          35635760,
          4539950,
          43075330,
          350920550,
          80065342.5,
          50663530,
          19015312.5,
          163694137.5,
          94345597.5,
          79458475,
          24373747.5,
          32246787.5,
          58750442.5,
          39264087.5,
          55390812.5,
          76982012.5,
          2701562.5,
          109603557.5,
          36637372.5,
          52028525,
          51575312.5,
          39694837.5,
          34970510,
          54115370,
          131820450,
          116840250,
          94429705,
          172210972.5,
          95120572.5,
          50080980,
          122205202.5,
          11914782.5,
          1183176367.5,
          19460692.5,
          63510637.5,
          67677152.5,
          69924927.5,
          56185725,
          8593162.5,
          43314815,
          35928785,
          17320410,
          58019350,
          54366147.5,
          23522212.5,
          64687612.5,
          31492100,
          20565510,
          21926647.5,
          52841012.5,
          38201500,
          54708687.5,
          54558865,
          102511920,
          96715162.5,
          85049982.5,
          68130782.5,
          79469687.5,
          37009792.5,
          45003587.5,
          91641267.5,
          191303012.5,
          19052467.5,
          68349575,
          114513737.5,
          73443605,
          37551277.5,
          49566935,
          42768860,
          46494500,
          55277207.5,
          183133832.5,
          34351730,
          123835857.5,
          58061220,
          119427787.5,
          71926890,
          67358950,
          35237135,
          217930267.5,
          82104115,
          42443767.5,
          61892435,
          67293137.5,
          45252900,
          45454375,
          43784055,
          37866605,
          123174882.5,
          23221337.5,
          37960367.5,
          92102147.5,
          31572830,
          64551450,
          72501687.5,
          353811612.5,
          74075375,
          74090722.5,
          30339350,
          176245475,
          32861175,
          123736195,
          81287567.5,
          31849440,
          70664975,
          57912627.5,
          39759537.5,
          40010740,
          48033330,
          182468412.5,
          2313645,
          49056590,
          22328545,
          49755437.5,
          35445992.5,
          18320125,
          77575555,
          67707625,
          33915425,
          80450850,
          74379175,
          260326057.5,
          31472307.5,
          49645942.5,
          31660507.5,
          32170267.5,
          33683320,
          63696202.5,
          64487797.5,
          61815087.5,
          286322755,
          31555665,
          264126217.5,
          31791745,
          270228847.5,
          51554497.5,
          37605382.5,
          99870292.5,
          49421990,
          44731325,
          291879192.5,
          34388312.5,
          25859700,
          51897962.5,
          53578087.5,
          66818852.5,
          195911872.5,
          46674905,
          187863340,
          29678265,
          84780775,
          35963780,
          39856772.5,
          88230040,
          71137277.5,
          15706775,
          74047047.5,
          54051737.5,
          62240327.5,
          19414262.5,
          41238117.5,
          51898052.5,
          57610897.5,
          280946817.5,
          44468867.5,
          43488207.5,
          24217165,
          107927507.5,
          12255025,
          45706090,
          43448650,
          243250165,
          24765462.5,
          57718502.5,
          45170350,
          32670995,
          27469650,
          41404962.5,
          266203987.5,
          49189740,
          25581112.5,
          42283075,
          55932952.5,
          75109625,
          57801862.5,
          66087627.5,
          26159905,
          475557230,
          192853302.5,
          20620887.5,
          37874237.5,
          52116570,
          106331590,
          61085325,
          410341785,
          34116912.5,
          63547012.5,
          21940392.5,
          41265872.5,
          12374837.5,
          34814855,
          29796875,
          851450365,
          76210512.5,
          76273930,
          24958155,
          125348025,
          90391877.5,
          82686462.5,
          30880707.5,
          68062855,
          59492805,
          164898240,
          30260900,
          34940572.5,
          84121372.5,
          76041887.5,
          120348415,
          815432082.5,
          38727945,
          49144857.5,
          53126257.5,
          152764552.5,
          49740867.5,
          35743732.5,
          70112337.5,
          30830970,
          35206975,
          102840602.5,
          81243282.5,
          51241262.5,
          30868692.5,
          79884670,
          2320365,
          106906357.5,
          46880490,
          440843450,
          25548702.5,
          209387000,
          49903867.5,
          63935160,
          26087837.5,
          14945362.5,
          19025625,
          66792160,
          28522875,
          89571272.5,
          32711820,
          37906325,
          66377067.5,
          19662357.5,
          104067850,
          102177585,
          63281212.5,
          58995082.5,
          110352837.5,
          48598317.5,
          135397550,
          37757600,
          133810300,
          40103307.5,
          49115062.5,
          95187037.5,
          7924315,
          68614770,
          142182907.5,
          90032490,
          139616305,
          174932070,
          44914200,
          213864677.5,
          36901515,
          84891052.5,
          31700487.5,
          62564712.5,
          68843260,
          44473377.5,
          170288005,
          92384450,
          51121905,
          36451470,
          72233022.5,
          36686365,
          73553387.5,
          24880582.5,
          55195185,
          45427457.5,
          78477087.5,
          12993610,
          51150030,
          179648645,
          85058270,
          40608962.5,
          39125867.5,
          74225872.5,
          27919800,
          86740925,
          35329750,
          85358960,
          21368820,
          56440347.5,
          230909827.5,
          368299325,
          64360920,
          1426089600,
          28358390,
          411213677.5,
          71062447.5,
          36034825,
          49691837.5,
          264331807.5,
          52977050,
          86003887.5,
          16570962.5,
          77910540,
          54258587.5,
          53525510,
          68867450,
          137152725,
          60129237.5,
          65433570,
          41189370,
          68964295,
          95298312.5,
          35741212.5,
          49818842.5,
          41896857.5,
          52653992.5,
          67172615,
          41816675,
          26644987.5,
          22212307.5,
          255263022.5,
          61966662.5,
          280180100,
          198106165,
          124342112.5,
          50942257.5,
          326473435,
          36471557.5,
          44465330,
          184983475,
          117275952.5,
          68184062.5,
          30876737.5,
          93579362.5,
          52038450,
          65231485,
          36312792.5,
          9026247.5,
          46372187.5,
          43344010,
          163049482.5,
          72989005,
          41422482.5,
          82062960,
          53036822.5,
          43290400,
          38499930,
          91441787.5,
          64405757.5,
          81332857.5,
          48212802.5,
          97866625,
          98094617.5,
          128355285,
          88630150,
          45341527.5,
          93930922.5,
          115171140,
          63990695,
          95551412.5,
          26108255,
          67550692.5,
          46152300,
          150351875,
          50947740,
          63926385,
          67866410,
          58310107.5,
          70439747.5,
          47454475,
          76610777.5,
          51492407.5,
          28656487.5,
          21284495,
          57214847.5,
          61496112.5,
          70837110,
          61327312.5,
          78435377.5,
          159545697.5,
          35541712.5,
          91333205,
          106151790,
          48191520,
          35935042.5,
          108761337.5,
          71811587.5,
          67766590,
          168187375,
          52180650,
          18580745,
          2140582.5,
          49844575,
          50936645,
          290466362.5,
          55001052.5,
          136231615,
          118589320,
          33661120,
          16822167.5,
          38835775,
          58683792.5,
          58985430,
          437108047.5,
          28873865,
          34857700,
          66951452.5,
          83753547.5,
          67458317.5,
          37779617.5,
          55846012.5,
          64486957.5,
          145297760,
          75820012.5,
          28876712.5,
          71711407.5,
          8777562.5,
          36181250,
          23724965,
          69886490,
          26174147.5,
          16580060,
          63721060,
          94861780,
          16521135,
          64536437.5,
          67350215,
          63089612.5,
          30966512.5,
          23628290,
          87854212.5,
          96985437.5,
          129375212.5,
          73969252.5,
          35266167.5,
          39324362.5,
          42751032.5,
          123757940,
          33692875,
          46248922.5,
          148444362.5,
          3862892.5,
          80566012.5,
          52542860,
          78780402.5,
          227006140,
          91185587.5,
          18959242.5,
          44558450,
          84118592.5,
          38296425,
          36151705,
          22132690,
          59172577.5,
          65488812.5,
          47158012.5,
          46829245,
          130495665,
          65125152.5,
          25870160,
          21216517.5,
          61743330,
          24890772.5,
          66143075,
          43871877.5,
          38529515,
          31273650,
          45606137.5,
          46626372.5,
          67096562.5,
          81298387.5,
          25649530,
          26376992.5,
          45130595,
          35080317.5,
          49052415,
          23505400,
          64008020,
          67343675,
          38867202.5,
          47912485,
          26574187.5,
          229366805,
          41281900,
          39962475,
          49403037.5,
          974985625,
          39763610,
          66587357.5,
          66237962.5,
          50914675,
          39324585,
          284921190,
          40466022.5,
          25086867.5,
          43208062.5,
          73524432.5,
          56317677.5,
          100666117.5,
          83241125,
          67279452.5,
          77358870,
          83123412.5,
          80778132.5,
          70246730,
          288191962.5,
          75289757.5,
          65834437.5,
          71614232.5,
          64273045,
          20962287.5,
          44662612.5,
          72671397.5,
          157908200,
          74534090,
          47001387.5,
          57190827.5,
          83563450,
          46348440,
          46279890,
          59943470,
          14294937.5,
          52649827.5,
          93640017.5,
          30398715,
          66321735,
          58711045,
          160936775,
          37252587.5,
          68015972.5,
          140778267.5,
          38470270,
          31458030,
          39440820,
          44334007.5,
          24212387.5,
          462265265,
          63438500,
          142182587.5,
          74022582.5,
          52208000,
          62775075,
          68991707.5,
          16734327.5,
          74225567.5,
          26980635,
          75839000,
          20185142.5,
          108719975,
          266872895,
          93211462.5,
          30826447.5,
          81782985,
          71830207.5,
          119083500,
          41224840,
          161547125,
          44797687.5,
          60928512.5,
          35505732.5,
          807761660,
          37457137.5,
          100684612.5,
          48487507.5,
          28172390,
          58152605,
          43302117.5,
          32924612.5,
          87902152.5,
          39287887.5,
          33025375,
          56333450,
          246044392.5,
          56126670,
          32268815,
          45896622.5,
          120134020,
          87327812.5,
          36857047.5,
          61664492.5,
          60010320,
          30916202.5,
          74797462.5,
          59743835,
          39087270,
          22965490,
          65861567.5,
          91733122.5,
          24750337.5,
          47854820,
          107370050,
          77300070,
          82005042.5,
          33534830,
          4723200,
          106277647.5,
          40797877.5,
          793889047.5,
          38219025,
          39389950,
          60664112.5,
          525191812.5,
          127241352.5,
          12304862.5,
          101078637.5,
          21714177.5,
          92004485,
          35521167.5,
          233583175,
          63173165,
          29423345,
          92684532.5,
          68438312.5,
          58014045,
          112093287.5,
          120921780,
          54995112.5,
          167256260,
          75089270,
          4114530,
          45866650,
          25282637.5,
          59104637.5,
          67483210,
          190327957.5,
          48679385,
          38551267.5,
          76301655,
          48638000,
          120446145,
          32632987.5,
          35838795,
          53545150,
          45557727.5,
          109218282.5,
          13688252.5,
          23735212.5,
          51134665,
          298695510,
          66362962.5,
          227716502.5,
          16444955,
          73501892.5,
          28529860,
          15917562.5,
          63493642.5,
          24981987.5,
          275157520,
          32717952.5,
          33428822.5,
          58073900,
          217308600,
          59788425,
          62743817.5,
          35958627.5,
          57061457.5,
          49632860,
          32164795,
          49408805,
          40508100,
          31235047.5,
          112993405,
          58433992.5,
          66962977.5,
          109676875,
          35067812.5,
          53402982.5,
          37635262.5,
          96090930,
          109054290,
          53134662.5,
          198947662.5,
          68594330,
          163002822.5,
          2099620,
          48258250,
          33078500,
          71133085,
          112273412.5,
          60968292.5,
          35387092.5,
          82344580,
          74871970,
          196683385,
          195448187.5,
          72676932.5,
          48332267.5,
          35872312.5,
          17237200,
          75310562.5,
          39361587.5,
          61864147.5,
          28034977.5,
          318144637.5,
          111566112.5,
          52195735,
          49277350,
          317025630,
          77849175,
          79438282.5,
          36606452.5,
          33018075,
          27883120,
          56399750,
          16427237.5,
          29949287.5,
          36560475,
          69813292.5,
          269991602.5,
          167545682.5,
          39378920,
          42610650,
          40966322.5,
          79057292.5,
          98969462.5,
          165774290,
          95405925,
          133886202.5,
          30884237.5,
          97766692.5,
          26548340,
          408294767.5,
          32166747.5,
          46336655,
          20324400,
          161490187.5,
          25594520,
          29876807.5,
          71149062.5,
          32400645,
          71135367.5,
          107593862.5,
          53567912.5,
          45646962.5,
          40349472.5,
          27014822.5,
          40181672.5,
          112881625,
          34756422.5,
          179491160,
          13192372.5,
          26996750,
          113345900,
          40295272.5,
          86944975,
          25669440,
          61425260,
          70656340,
          97410567.5,
          121612842.5,
          230770185,
          29266530,
          95361350,
          39449997.5,
          45675950,
          48181237.5,
          30990452.5,
          37414212.5,
          75960812.5,
          52497577.5,
          71863652.5,
          39207905,
          34714022.5,
          93593372.5,
          72349357.5,
          47484545,
          27651150,
          181886342.5,
          66133365,
          41520937.5,
          51832975,
          42071987.5,
          21753727.5,
          46503075,
          53865217.5,
          69809687.5,
          87478080,
          51789137.5,
          27701147.5,
          31462672.5,
          43900100,
          10744465,
          110476137.5,
          29850662.5,
          92395787.5,
          136274702.5,
          19246810,
          208547935,
          72279717.5,
          23438100,
          75488275,
          8623740,
          35046187.5,
          60879375,
          43320870,
          67666457.5,
          32410257.5,
          102833900,
          10155937.5,
          110432282.5,
          23465965,
          56975437.5,
          51126937.5,
          47623227.5,
          66905252.5,
          62174422.5,
          45022837.5,
          32068950,
          50119037.5,
          47724870,
          63807035,
          55996740,
          166605630,
          179755105,
          53918765,
          53993947.5,
          32174477.5,
          117634197.5,
          63325367.5,
          38083125,
          83426212.5,
          323692537.5,
          64632837.5,
          35285512.5,
          10447900,
          89113742.5,
          64508300,
          46326912.5,
          48258812.5,
          68517612.5,
          53616165,
          498301162.5,
          61656022.5,
          272354807.5,
          28800940,
          61381225,
          43105040,
          49200125,
          87415110,
          70966737.5,
          82857175,
          54994680,
          31789100,
          170980995,
          41946025,
          51456450,
          65883687.5,
          45156312.5,
          62414875,
          91523895,
          43690650,
          59920172.5,
          61081937.5,
          55010557.5,
          58332712.5,
          30253325,
          65089247.5,
          37182542.5,
          42449045,
          44632737.5,
          193309825,
          51208412.5,
          4092400,
          59650100,
          153114755,
          59929685,
          48625227.5,
          207005112.5,
          32050067.5,
          234354895,
          64794775,
          63380195,
          26015217.5,
          247081305,
          40385222.5,
          42773252.5,
          92007305,
          79196192.5,
          158884035,
          182913657.5,
          19640425,
          37891047.5,
          79033960,
          50232457.5,
          26873802.5,
          73939005,
          42631260,
          50318405,
          21518957.5,
          100490742.5,
          53936087.5,
          43221460,
          105871112.5,
          45757135,
          196234310,
          91448600,
          61740977.5,
          210398325,
          164090362.5,
          40099022.5,
          28842687.5,
          44017637.5,
          46536642.5,
          16779887.5,
          455239157.5,
          185205325,
          53944860,
          42400607.5,
          43770362.5,
          34700522.5,
          93696602.5,
          18747287.5,
          252900927.5,
          36489737.5,
          54081837.5,
          53165355,
          19386990,
          38351517.5,
          46147725,
          39750690,
          131245492.5,
          34914540,
          30514295,
          34490907.5,
          48201475,
          35260347.5,
          54620097.5,
          138128312.5,
          166283637.5,
          45675240,
          20509200,
          21432775,
          61807587.5,
          77738225,
          87838212.5,
          39231240,
          41995650,
          251547870,
          54806337.5,
          64534170,
          152197360,
          120156875,
          34005220,
          30230137.5,
          56396437.5,
          22500325,
          171879100,
          27015612.5,
          231201317.5,
          128624550,
          69845080,
          7628940,
          40315480,
          55969990,
          87515682.5,
          101089125,
          66131892.5,
          53882187.5,
          89033550,
          93103200,
          21745135,
          150560055,
          7409007.5,
          25282855,
          24688172.5,
          39643675,
          18017345,
          18296152.5,
          36507817.5,
          21246247.5,
          40950887.5,
          45871932.5,
          60555100,
          883865152.5,
          48568065,
          47640897.5,
          46748885,
          47342097.5,
          166050685,
          379581420,
          258492062.5,
          2408062.5,
          269548337.5,
          49104895,
          35964972.5,
          66755700,
          79880085,
          168419627.5,
          53651722.5,
          42778487.5,
          25282087.5,
          57637507.5,
          61101140,
          60112682.5,
          40847975,
          60614582.5,
          59902575,
          57024102.5,
          66892800,
          47958065,
          51417937.5,
          80557362.5,
          84039300,
          52754840,
          41064015,
          93245300,
          169970650,
          63980740,
          52839400,
          37346392.5,
          60004037.5,
          43290657.5,
          39425672.5,
          48888075,
          61374887.5,
          20194765,
          65979542.5,
          78111375,
          86355350,
          165344862.5,
          48535670,
          21235487.5,
          41162162.5,
          47596377.5,
          145616442.5,
          166992832.5,
          65962575,
          57560262.5,
          43407802.5,
          49111060,
          64354412.5,
          42676395,
          34025742.5,
          65641310,
          43625652.5,
          22018735,
          229424142.5,
          88773317.5,
          55435297.5,
          118392512.5,
          77850657.5,
          49535970,
          28126462.5,
          88029125,
          53876787.5,
          91837575,
          50362272.5,
          35095172.5,
          58085765,
          39426500,
          20318252.5,
          76892312.5,
          31513487.5,
          74456225,
          107653072.5,
          134744500,
          83474425,
          51032282.5,
          130694675,
          49334545,
          40974400,
          47344055,
          37607312.5,
          97821430,
          46820855,
          45986737.5,
          78627905,
          47681812.5,
          17021802.5,
          68557572.5,
          58636475,
          45003600,
          62664325,
          21487512.5,
          121890625,
          41650275,
          35252737.5,
          43538237.5,
          40425632.5,
          100496737.5,
          17156002.5,
          66853562.5,
          16977527.5,
          25683535,
          41283032.5,
          41803487.5,
          48253187.5,
          47514400,
          24771025,
          62138570,
          22669622.5,
          198257900,
          23990767.5,
          28541267.5,
          41978087.5,
          81363637.5,
          271275095,
          62736137.5,
          87801445,
          64454710,
          36193462.5,
          166298332.5,
          87233010,
          110701070,
          103722307.5,
          61701925,
          26549147.5,
          45376930,
          35719875,
          41439582.5,
          45287350,
          210415735,
          68337365,
          23891612.5,
          115435865,
          18327115,
          136127257.5,
          44515112.5,
          43025400,
          333620612.5,
          80638405,
          74976025,
          98208375,
          101138100,
          53031337.5,
          83075547.5,
          34803405,
          112245235,
          38315570,
          15737137.5,
          76545900,
          49951587.5,
          58631450,
          55494862.5,
          96859112.5,
          109647462.5,
          33996337.5,
          43667787.5,
          78546787.5,
          89011322.5,
          64468625,
          32087242.5,
          63892407.5,
          54838540,
          31861400,
          62339025,
          32477787.5,
          86010072.5,
          35521040,
          52876615,
          102630582.5,
          103185125,
          15202045,
          93648112.5,
          286570762.5,
          54492957.5,
          1114410400,
          40701275,
          38472975,
          50670315,
          40951625,
          66692192.5,
          52921487.5,
          173707227.5,
          48630075,
          58599782.5,
          248400127.5,
          37642740,
          310737725,
          73691645,
          39104967.5,
          21347115,
          40439555,
          72555580,
          111764200,
          56650245,
          32908837.5,
          58478847.5,
          27766375,
          45121777.5,
          91000462.5,
          78935912.5,
          21673710,
          17138587.5,
          58992907.5,
          68713337.5,
          129683537.5,
          56495092.5,
          68688867.5,
          27091675,
          22294212.5,
          49106462.5,
          416278885,
          101458367.5,
          34669687.5,
          78333510,
          40142655,
          170816212.5,
          143741975,
          34753522.5,
          43332002.5,
          20710737.5,
          35352425,
          169154062.5,
          72515925,
          53259222.5,
          79614870,
          54729717.5,
          82295962.5,
          178883170,
          62833497.5,
          54553962.5,
          122023517.5,
          53447387.5,
          176985732.5,
          53199432.5,
          49519362.5,
          38868932.5,
          26618597.5,
          4316075,
          40141320,
          24509162.5,
          44609407.5,
          12863462.5,
          42224667.5,
          51794562.5,
          82459842.5,
          53671910,
          14135882.5,
          268562337.5,
          76216507.5,
          44849267.5,
          71542325,
          112441337.5,
          70571000,
          68384425,
          103243782.5,
          217723080,
          54442502.5,
          20353177.5,
          8122500,
          60809950,
          78777105,
          82904592.5,
          60103675,
          40053967.5,
          29291402.5,
          14433465,
          55883300,
          16484255,
          28089187.5,
          72884475,
          29666140,
          113304525,
          18458700,
          73077537.5,
          66545405,
          56850975,
          118139245,
          295168172.5,
          463716100,
          43164625,
          39923520,
          53476790,
          76563700,
          42717737.5,
          39219320,
          38509602.5,
          1193138212.5,
          69417605,
          52023850,
          61203815,
          7124212.5,
          44854950,
          89353487.5,
          65953582.5,
          30773885,
          32553330,
          39817842.5,
          66745035,
          52732387.5,
          46279132.5,
          82524587.5,
          48329482.5,
          77065537.5,
          207042762.5,
          68623852.5,
          319954300,
          33991002.5,
          47098632.5,
          47947175,
          87974862.5,
          95408082.5,
          26604345,
          34677700,
          45542275,
          54339665,
          130929137.5,
          59093715,
          107838600,
          82851250,
          87659837.5,
          189673895,
          33764025,
          64894750,
          80695455,
          19774015,
          30895025,
          212489925,
          148468287.5,
          61671437.5,
          19087352.5,
          50638275,
          37874907.5,
          80457112.5,
          24673662.5,
          41652855,
          108850700,
          52354665,
          197562925,
          24781015,
          90680112.5,
          1224255000,
          49303787.5,
          34216350,
          31027525,
          29788212.5,
          54198055,
          424055980,
          18860422.5,
          20925052.5,
          147434395,
          257276637.5,
          70538277.5,
          129068100,
          68911687.5,
          38017787.5,
          62965640,
          54451425,
          47852892.5,
          76746880,
          162803745,
          754039042.5,
          54583577.5,
          40450242.5,
          105419300,
          98553947.5,
          59339175,
          15410422.5,
          73958575,
          61957287.5,
          51628262.5,
          19574687.5,
          33648525,
          68647375,
          281696862.5,
          46325777.5,
          18718975,
          130043932.5,
          170244400,
          12846130,
          65130952.5,
          108755987.5,
          22119115,
          45266300,
          39591472.5,
          54036700,
          43181650,
          48918872.5,
          83658012.5,
          25249110,
          21924547.5,
          76495647.5,
          268718380,
          106335087.5,
          19394270,
          78865370,
          173634425,
          79960950,
          50907285,
          112838927.5,
          68902642.5,
          126073575,
          17499337.5,
          45806645,
          52239705,
          56648510,
          27044287.5,
          29858527.5,
          58203400,
          92712175,
          218834887.5,
          117497447.5,
          41978407.5,
          72258447.5,
          39288030,
          39615050,
          91263962.5,
          87602862.5,
          187142657.5,
          266053235,
          59134237.5,
          21412380,
          286685367.5,
          29741220,
          48150600,
          72652410,
          240631532.5,
          65835582.5,
          45427142.5,
          191403225,
          22096125,
          61491870,
          52004212.5,
          54998467.5,
          66292715,
          61769922.5,
          161675982.5,
          45816040,
          73203340,
          37391500,
          73716877.5,
          12846752.5,
          72182320,
          58122940,
          92120157.5,
          47657362.5,
          34188855,
          36675657.5,
          26777815,
          398493565,
          34995635,
          18555962.5,
          24162937.5,
          39684000,
          84170550,
          87063062.5,
          8334087.5,
          71135690,
          151775985,
          48628765,
          41448100,
          8566280,
          31991450,
          83734292.5,
          32855300,
          87478667.5,
          38034412.5,
          33377162.5,
          94234492.5,
          95021587.5,
          34430735,
          174483730,
          32893525,
          56946762.5,
          21931637.5,
          21133585,
          73523665,
          298454775,
          21421875,
          302262667.5,
          88361387.5,
          31879702.5,
          16445657.5,
          16792877.5,
          69181412.5,
          39440587.5,
          58338755,
          204736472.5,
          469737180,
          84427350,
          39876862.5,
          21366405,
          54366610,
          66770222.5,
          65948442.5,
          57236600,
          94304512.5,
          39815650,
          111509312.5,
          20665110,
          157395037.5,
          27583212.5,
          56012350,
          52957070,
          24354927.5,
          80620207.5,
          20654197.5,
          154170060,
          31241350,
          32310725,
          44252987.5,
          1185503750,
          82210662.5,
          98294492.5,
          35230007.5,
          62386765,
          35003075,
          16576807.5,
          42926662.5,
          60483135,
          23019912.5,
          75554427.5,
          88303980,
          44469975,
          27598072.5,
          76720350,
          19969100,
          59829600,
          47624025,
          75061225,
          24240225,
          101555390,
          57622850,
          223269475,
          25895812.5,
          131477862.5,
          36553950,
          86068325,
          191527137.5,
          74040165,
          37857302.5,
          55689750,
          70418050,
          199733495,
          51303925,
          77415912.5,
          66998912.5,
          79441472.5,
          97048992.5,
          131647137.5,
          36420475,
          80848640,
          85271290,
          8823637.5,
          70508360,
          81111315,
          27902687.5,
          95334682.5,
          93566445,
          32814130,
          53811985,
          49553352.5,
          44100850,
          82623957.5,
          139816160,
          108606375,
          21260590,
          48274800,
          88017515,
          114645290,
          68672282.5,
          39513957.5,
          55031875,
          42640252.5,
          36946200,
          54766290,
          57792000,
          76983422.5,
          199568962.5,
          66028912.5,
          126671937.5,
          2500662.5,
          52597460,
          47495652.5,
          50024987.5,
          49992975,
          91222365,
          248001100,
          84446005,
          42584207.5,
          25206532.5,
          53778605,
          76379462.5,
          19268552.5,
          450266282.5,
          83854120,
          3926562.5,
          4185720,
          264148685,
          96857487.5,
          48702522.5,
          60804980,
          74056912.5,
          26293497.5,
          29379575,
          233220187.5,
          36355075,
          91284725,
          71978497.5,
          156256900,
          28556512.5,
          57147222.5,
          33608405,
          115001132.5,
          123395452.5,
          32968312.5,
          22328212.5,
          38325797.5,
          93470180,
          231105105,
          34390400,
          21738640,
          42005972.5,
          15918492.5,
          71657302.5,
          72335990,
          41720030,
          81994610,
          46067117.5,
          37152775,
          25893920,
          109783320,
          70156592.5,
          23409150,
          10936572.5,
          29624140,
          71447320,
          214360887.5,
          122925190,
          40901362.5,
          47437935,
          25684982.5,
          53491755,
          87652585,
          52138150,
          130744885,
          292155032.5,
          58052407.5,
          55912050,
          77464550,
          45463122.5,
          57904567.5,
          84349062.5,
          95867522.5,
          45832350,
          106488500,
          32138490,
          289568725,
          78256412.5,
          36189950,
          27643205,
          36458927.5,
          100085062.5,
          127286487.5,
          22276150,
          7462250,
          762017775,
          200194020,
          94420240,
          12653490,
          134476462.5,
          402493940,
          112937007.5,
          63854865,
          62665727.5,
          56119850,
          80366962.5,
          48285960,
          74243730,
          89550700,
          15442600,
          48809950,
          22544787.5,
          57263172.5,
          38089465,
          86798220,
          80831910,
          133240225,
          18971762.5,
          43984972.5,
          37113947.5,
          59638667.5,
          42039350,
          71279175,
          71248482.5,
          19336320,
          70366035,
          53641622.5,
          53867567.5,
          97621815,
          39852057.5,
          164397825,
          53103915,
          135929075,
          43679007.5,
          41033200,
          44168492.5,
          58119192.5,
          31860272.5,
          59066365,
          80346252.5,
          57035435,
          68505595,
          74431207.5,
          39999437.5,
          67267855,
          148742570,
          50697272.5,
          33697592.5,
          220518445,
          34207497.5,
          63700737.5,
          237203287.5,
          35807840,
          41451080,
          46452415,
          23317670,
          44648550,
          35632925,
          96887162.5,
          65217450,
          48034340,
          112196400,
          21512900,
          87967222.5,
          105932475,
          86460500,
          73821087.5,
          81133225,
          173979500,
          119589160,
          63153367.5,
          53083650,
          48145682.5,
          26692970,
          36977372.5,
          127260262.5,
          26423460,
          59666600,
          52971187.5,
          24670890,
          48121747.5,
          20014552.5,
          162381600,
          56736020,
          27545375,
          222801125,
          36605800,
          131391165,
          83688615,
          46544225,
          131149350,
          34493375,
          33338880,
          77336600,
          62481317.5,
          55551430,
          62637262.5,
          40070152.5,
          57745350,
          88240087.5,
          72399340,
          104508185,
          34351025,
          56660922.5,
          65351612.5,
          39831867.5,
          30595325,
          47468870,
          192019750,
          79913132.5,
          43106185,
          96191450,
          76631535,
          135869532.5,
          79188200,
          14255115,
          15537962.5,
          391711437.5,
          65859370,
          37086617.5,
          23455305,
          79487877.5,
          85161312.5,
          93644202.5,
          273954122.5,
          96094457.5,
          96395800,
          26844002.5,
          67626080,
          75604597.5,
          107434965,
          70791327.5,
          51733542.5,
          69855987.5,
          47817125,
          37291300,
          42958815,
          65798287.5,
          34700832.5,
          52166405,
          31252237.5,
          30227472.5,
          43783985,
          52687942.5,
          81734587.5,
          103617737.5,
          45104087.5,
          48613625,
          174888350,
          197264487.5,
          45435025,
          41205717.5,
          53645830,
          29236772.5,
          30946862.5,
          91597012.5,
          72966877.5,
          62608737.5,
          251660087.5,
          64725090,
          166105475,
          78735462.5,
          40681917.5,
          16619447.5,
          60104487.5,
          40022670,
          216139220,
          80232217.5,
          48074017.5,
          42059477.5,
          50156975,
          36127267.5,
          45358370,
          42519875,
          186811100,
          69916997.5,
          15412880,
          28019480,
          62177717.5,
          261154927.5,
          47269790,
          260599702.5,
          31956057.5,
          72371205,
          75346507.5,
          895319062.5,
          19962537.5,
          98070675,
          117197062.5,
          87109650,
          17940825,
          27816680,
          148403225,
          106530325,
          104257712.5,
          21657997.5,
          79003720,
          81447887.5,
          32348125,
          41321475,
          46198515,
          69277537.5,
          21989675,
          151832475,
          50374215,
          50855910,
          39518225,
          97027167.5,
          25857405,
          17905912.5,
          67275290,
          35593500,
          45529912.5,
          56139825,
          39291910,
          47791435,
          193400850,
          21984875,
          75763687.5,
          52720012.5,
          31616525,
          32969375,
          19714547.5,
          42256152.5,
          133603337.5,
          35314555,
          53945487.5,
          61930087.5,
          62329055,
          64626390,
          49848285,
          60133550,
          69956537.5,
          169570450,
          35527577.5,
          104984805,
          43404997.5,
          42430855,
          34715152.5,
          186252925,
          81798427.5,
          26833792.5,
          50378697.5,
          19412202.5,
          42495172.5,
          81640362.5,
          15651607.5,
          125149327.5,
          171404305,
          37477650,
          36724532.5,
          73642645,
          195681235,
          43726712.5,
          86513292.5,
          158488587.5,
          56265282.5,
          77605412.5,
          70354712.5,
          28386815,
          26454662.5,
          103864062.5,
          41824352.5,
          202552895,
          48471455,
          19741350,
          25916162.5,
          50207862.5,
          100879112.5,
          237346517.5,
          364498262.5,
          116791525,
          240652465,
          78972862.5,
          44504902.5,
          168247512.5,
          63726322.5,
          50352262.5,
          19853097.5,
          67362775,
          39546305,
          65972875,
          201822200,
          56048510,
          80783465,
          48266737.5,
          48047887.5,
          45365125,
          32309630,
          50948322.5,
          64873300,
          55449802.5,
          29434762.5,
          68815797.5,
          36200950,
          49266562.5,
          23394775,
          178814207.5,
          146836480,
          77317330,
          147298662.5,
          109443562.5,
          56671932.5,
          260183725,
          60980712.5,
          33124597.5,
          241366922.5,
          56590105,
          44640375,
          77006395,
          44090747.5,
          31195390,
          52997170,
          41470800,
          36032137.5,
          146274210,
          19463772.5,
          50716277.5,
          38415060,
          32615220,
          28461375,
          192350837.5,
          110551937.5,
          25093500,
          25547282.5,
          47379175,
          80865300,
          47833650,
          117856075,
          61678465,
          84760892.5,
          408802362.5,
          51469972.5,
          79385542.5,
          178883907.5,
          45368367.5,
          83215365,
          198866037.5,
          49931700,
          75106137.5,
          99430212.5,
          91176362.5,
          37929805,
          61299650,
          57626305,
          32922825,
          41111352.5,
          29877820,
          53668562.5,
          179960837.5,
          34541962.5,
          326249767.5,
          67224922.5,
          42709447.5,
          43325902.5,
          19554772.5,
          26137655,
          21377462.5,
          65924792.5,
          171074965,
          28723650,
          25581007.5,
          69870250,
          937328025,
          66978125,
          108127237.5,
          26507512.5,
          53797725,
          234442795,
          19113837.5,
          1239926080,
          45811977.5,
          163172070,
          36276087.5,
          29696712.5,
          90205632.5,
          52389350,
          40990787.5,
          54569635,
          63405635,
          72487312.5,
          54714177.5,
          82674212.5,
          260735505,
          95290652.5,
          82985392.5,
          47342262.5,
          39831227.5,
          95665862.5,
          25885462.5,
          26457617.5,
          2271262.5,
          53806870,
          37164865,
          59603075,
          40458475,
          86320805,
          29931760,
          64443890,
          37187307.5,
          32055250,
          62247507.5,
          45844957.5,
          69716892.5,
          47910375,
          74812160,
          243595112.5,
          78603200,
          44336562.5,
          152104432.5,
          243005937.5,
          166683057.5,
          63384902.5,
          84284175,
          28999927.5,
          70568927.5,
          72249712.5,
          85257102.5,
          34820600,
          253438295,
          84656762.5,
          50453887.5,
          52109355,
          55586877.5,
          26920695,
          2236975,
          72777170,
          45100250,
          55437512.5,
          58964877.5,
          36764150,
          37159895,
          76706275,
          86753637.5,
          46485455,
          64068557.5,
          107754120,
          91773625,
          235244132.5,
          50455637.5,
          62813382.5,
          38227355,
          15423337.5,
          16615817.5,
          41190987.5,
          52653975,
          76898855,
          20627025,
          111332502.5,
          87396700,
          4062825,
          33417007.5,
          69611837.5,
          55801820,
          204668912.5,
          67698890,
          79813387.5,
          36526682.5,
          38580587.5,
          56619887.5,
          2325832.5,
          32881012.5,
          71479675,
          33869545,
          28504407.5,
          90234737.5,
          25921930,
          58885262.5,
          198696200,
          48756960,
          11420225,
          185317517.5,
          41704490,
          28748305,
          41698627.5,
          32851572.5,
          61108572.5,
          14657335,
          20570552.5,
          62335400,
          170501880,
          127526390,
          92701667.5,
          83771785,
          50244130,
          84603157.5,
          71721297.5,
          128832225,
          99434775,
          38000792.5,
          49941267.5,
          58206787.5,
          113662337.5,
          35491627.5,
          173849600,
          56964190,
          52759377.5,
          52356295,
          157219367.5,
          39153600,
          47693712.5,
          40326557.5,
          50345232.5,
          98680792.5,
          82325540,
          47317800,
          92492485,
          49416642.5,
          84603040,
          59712425,
          183864380,
          54364325,
          46937575,
          65163137.5,
          54840460,
          30556275,
          55660325,
          288437130,
          775477672.5,
          279609480,
          42933812.5,
          55368445,
          84598720,
          67206387.5,
          35174290,
          44428912.5,
          71842350,
          66121262.5,
          401824517.5,
          86730725,
          33964875,
          50780915,
          88833770,
          31623225,
          18890087.5,
          72208235,
          57472830,
          37454577.5,
          91793030,
          66002822.5,
          51832387.5,
          60977475,
          30112887.5,
          49703825,
          57374825,
          43726115,
          19465112.5,
          22780162.5,
          117065477.5,
          48371812.5,
          24610925,
          113795725,
          30515862.5,
          15634887.5,
          28634517.5,
          191144887.5,
          46406900,
          119511877.5,
          45955900,
          52033860,
          26236472.5,
          46655500,
          131097185,
          239116215,
          92978330,
          195760602.5,
          24253652.5,
          93017125,
          27230210,
          25924452.5,
          93681025,
          2275707.5,
          20686020,
          58447007.5,
          64382190,
          459258712.5,
          73104535,
          172010565,
          81330570,
          42852242.5,
          39975625,
          44463820,
          61293152.5,
          46074655,
          114493270,
          64761515,
          87086862.5,
          20503457.5,
          127757620,
          109811522.5,
          78882700,
          34249410,
          26389545,
          43339127.5,
          131210675,
          2428300,
          121552375
         ],
         "y0": " ",
         "yaxis": "y"
        },
        {
         "alignmentgroup": "True",
         "hovertemplate": "Emission Type=embodied<br>Year=%{x}<br>Emissions (kgCO2eq)=%{y}<extra></extra>",
         "legendgroup": "embodied",
         "marker": {
          "color": "#EF553B"
         },
         "name": "embodied",
         "notched": false,
         "offsetgroup": "embodied",
         "orientation": "v",
         "showlegend": true,
         "type": "box",
         "x": [
          2021,
          2012,
          2013,
          2019,
          2012,
          2015,
          2020,
          2018,
          2019,
          2012,
          2019,
          2018,
          2017,
          2020,
          2017,
          2019,
          2013,
          2021,
          2016,
          2015,
          2014,
          2014,
          2015,
          2017,
          2012,
          2019,
          2012,
          2012,
          2021,
          2019,
          2020,
          2013,
          2018,
          2019,
          2013,
          2019,
          2021,
          2018,
          2016,
          2013,
          2021,
          2015,
          2021,
          2017,
          2013,
          2021,
          2015,
          2014,
          2017,
          2014,
          2013,
          2012,
          2019,
          2013,
          2013,
          2013,
          2017,
          2018,
          2012,
          2021,
          2015,
          2014,
          2013,
          2021,
          2012,
          2012,
          2012,
          2013,
          2015,
          2017,
          2021,
          2017,
          2016,
          2017,
          2017,
          2019,
          2018,
          2017,
          2017,
          2014,
          2021,
          2012,
          2015,
          2012,
          2020,
          2020,
          2012,
          2020,
          2014,
          2019,
          2019,
          2013,
          2012,
          2013,
          2016,
          2013,
          2019,
          2013,
          2021,
          2012,
          2015,
          2015,
          2014,
          2016,
          2021,
          2019,
          2020,
          2019,
          2020,
          2021,
          2013,
          2012,
          2014,
          2014,
          2019,
          2019,
          2013,
          2018,
          2016,
          2020,
          2017,
          2017,
          2020,
          2014,
          2020,
          2021,
          2016,
          2017,
          2020,
          2017,
          2016,
          2020,
          2017,
          2019,
          2013,
          2014,
          2014,
          2016,
          2012,
          2016,
          2014,
          2015,
          2017,
          2016,
          2013,
          2016,
          2016,
          2016,
          2012,
          2017,
          2013,
          2015,
          2012,
          2020,
          2014,
          2015,
          2014,
          2021,
          2012,
          2019,
          2017,
          2019,
          2015,
          2020,
          2016,
          2014,
          2014,
          2012,
          2015,
          2013,
          2020,
          2015,
          2020,
          2017,
          2018,
          2017,
          2013,
          2017,
          2019,
          2020,
          2015,
          2019,
          2012,
          2017,
          2019,
          2014,
          2014,
          2021,
          2020,
          2014,
          2016,
          2020,
          2015,
          2021,
          2018,
          2019,
          2015,
          2021,
          2016,
          2016,
          2021,
          2015,
          2014,
          2020,
          2012,
          2021,
          2019,
          2018,
          2017,
          2015,
          2012,
          2015,
          2014,
          2021,
          2012,
          2015,
          2018,
          2019,
          2013,
          2016,
          2021,
          2017,
          2021,
          2017,
          2020,
          2014,
          2021,
          2016,
          2018,
          2019,
          2021,
          2014,
          2017,
          2016,
          2014,
          2013,
          2016,
          2017,
          2016,
          2019,
          2016,
          2016,
          2017,
          2017,
          2016,
          2018,
          2012,
          2016,
          2012,
          2018,
          2018,
          2016,
          2019,
          2019,
          2016,
          2015,
          2017,
          2016,
          2021,
          2021,
          2017,
          2013,
          2017,
          2015,
          2016,
          2017,
          2012,
          2016,
          2021,
          2017,
          2021,
          2013,
          2021,
          2016,
          2012,
          2013,
          2015,
          2018,
          2016,
          2012,
          2015,
          2019,
          2020,
          2016,
          2019,
          2012,
          2013,
          2020,
          2015,
          2014,
          2016,
          2016,
          2015,
          2019,
          2016,
          2017,
          2012,
          2018,
          2012,
          2020,
          2012,
          2020,
          2020,
          2018,
          2020,
          2020,
          2019,
          2014,
          2018,
          2020,
          2019,
          2017,
          2019,
          2016,
          2012,
          2012,
          2013,
          2017,
          2019,
          2014,
          2016,
          2021,
          2013,
          2021,
          2016,
          2018,
          2021,
          2020,
          2017,
          2019,
          2021,
          2014,
          2019,
          2019,
          2015,
          2012,
          2018,
          2012,
          2020,
          2017,
          2019,
          2019,
          2018,
          2014,
          2021,
          2013,
          2013,
          2020,
          2016,
          2018,
          2015,
          2014,
          2020,
          2019,
          2015,
          2016,
          2015,
          2021,
          2016,
          2020,
          2018,
          2018,
          2020,
          2018,
          2019,
          2013,
          2017,
          2017,
          2018,
          2021,
          2021,
          2021,
          2020,
          2012,
          2016,
          2014,
          2020,
          2015,
          2015,
          2013,
          2013,
          2016,
          2021,
          2015,
          2014,
          2020,
          2018,
          2021,
          2016,
          2012,
          2021,
          2016,
          2013,
          2018,
          2014,
          2018,
          2015,
          2014,
          2018,
          2016,
          2016,
          2014,
          2014,
          2017,
          2016,
          2015,
          2013,
          2017,
          2014,
          2017,
          2018,
          2017,
          2018,
          2016,
          2012,
          2013,
          2018,
          2015,
          2018,
          2021,
          2014,
          2012,
          2014,
          2018,
          2017,
          2019,
          2021,
          2015,
          2018,
          2013,
          2013,
          2015,
          2015,
          2013,
          2021,
          2014,
          2018,
          2017,
          2019,
          2016,
          2017,
          2018,
          2013,
          2020,
          2016,
          2018,
          2013,
          2019,
          2013,
          2015,
          2020,
          2016,
          2017,
          2017,
          2016,
          2015,
          2014,
          2017,
          2020,
          2014,
          2015,
          2013,
          2015,
          2020,
          2018,
          2018,
          2014,
          2021,
          2014,
          2015,
          2018,
          2020,
          2015,
          2021,
          2018,
          2016,
          2017,
          2015,
          2017,
          2021,
          2014,
          2020,
          2020,
          2014,
          2019,
          2019,
          2014,
          2017,
          2021,
          2014,
          2016,
          2017,
          2015,
          2017,
          2014,
          2015,
          2014,
          2014,
          2017,
          2014,
          2013,
          2017,
          2013,
          2021,
          2017,
          2021,
          2017,
          2020,
          2016,
          2020,
          2021,
          2016,
          2018,
          2016,
          2013,
          2015,
          2013,
          2020,
          2020,
          2016,
          2014,
          2015,
          2018,
          2015,
          2013,
          2016,
          2020,
          2017,
          2015,
          2016,
          2012,
          2013,
          2019,
          2018,
          2012,
          2012,
          2012,
          2021,
          2013,
          2012,
          2019,
          2019,
          2014,
          2019,
          2015,
          2017,
          2013,
          2020,
          2012,
          2019,
          2013,
          2017,
          2021,
          2021,
          2021,
          2015,
          2012,
          2019,
          2016,
          2021,
          2016,
          2012,
          2021,
          2012,
          2015,
          2017,
          2020,
          2018,
          2016,
          2015,
          2014,
          2016,
          2015,
          2021,
          2016,
          2016,
          2015,
          2013,
          2018,
          2015,
          2015,
          2016,
          2013,
          2021,
          2012,
          2012,
          2020,
          2014,
          2019,
          2012,
          2015,
          2020,
          2021,
          2014,
          2018,
          2012,
          2015,
          2013,
          2015,
          2014,
          2012,
          2021,
          2015,
          2012,
          2019,
          2012,
          2020,
          2015,
          2018,
          2012,
          2019,
          2020,
          2015,
          2017,
          2012,
          2016,
          2015,
          2018,
          2017,
          2021,
          2020,
          2014,
          2017,
          2018,
          2019,
          2019,
          2017,
          2016,
          2020,
          2017,
          2017,
          2013,
          2016,
          2017,
          2019,
          2014,
          2017,
          2018,
          2013,
          2019,
          2019,
          2021,
          2017,
          2013,
          2021,
          2017,
          2021,
          2013,
          2013,
          2020,
          2019,
          2014,
          2017,
          2014,
          2015,
          2020,
          2018,
          2019,
          2013,
          2020,
          2013,
          2021,
          2012,
          2014,
          2020,
          2017,
          2013,
          2020,
          2013,
          2012,
          2013,
          2016,
          2018,
          2021,
          2013,
          2018,
          2014,
          2019,
          2013,
          2021,
          2016,
          2013,
          2021,
          2013,
          2013,
          2021,
          2017,
          2017,
          2013,
          2013,
          2017,
          2013,
          2013,
          2016,
          2013,
          2020,
          2020,
          2015,
          2016,
          2021,
          2017,
          2017,
          2012,
          2013,
          2012,
          2018,
          2019,
          2018,
          2021,
          2014,
          2015,
          2013,
          2017,
          2018,
          2015,
          2020,
          2021,
          2013,
          2015,
          2014,
          2016,
          2015,
          2018,
          2021,
          2014,
          2012,
          2018,
          2018,
          2014,
          2014,
          2018,
          2020,
          2020,
          2021,
          2019,
          2020,
          2016,
          2021,
          2016,
          2015,
          2015,
          2014,
          2014,
          2020,
          2021,
          2015,
          2013,
          2015,
          2018,
          2015,
          2019,
          2015,
          2015,
          2021,
          2017,
          2015,
          2018,
          2019,
          2021,
          2016,
          2021,
          2020,
          2014,
          2012,
          2017,
          2019,
          2019,
          2014,
          2015,
          2013,
          2018,
          2020,
          2012,
          2012,
          2016,
          2019,
          2016,
          2021,
          2021,
          2021,
          2018,
          2012,
          2018,
          2019,
          2013,
          2016,
          2016,
          2019,
          2021,
          2021,
          2020,
          2020,
          2014,
          2015,
          2021,
          2015,
          2012,
          2016,
          2015,
          2013,
          2013,
          2021,
          2018,
          2012,
          2021,
          2021,
          2012,
          2013,
          2014,
          2012,
          2019,
          2017,
          2019,
          2017,
          2016,
          2021,
          2013,
          2012,
          2012,
          2019,
          2013,
          2019,
          2020,
          2017,
          2018,
          2014,
          2021,
          2020,
          2015,
          2019,
          2013,
          2016,
          2013,
          2018,
          2020,
          2013,
          2014,
          2020,
          2018,
          2019,
          2018,
          2012,
          2017,
          2017,
          2021,
          2018,
          2012,
          2014,
          2016,
          2014,
          2016,
          2019,
          2019,
          2018,
          2013,
          2018,
          2015,
          2016,
          2014,
          2017,
          2017,
          2021,
          2019,
          2015,
          2015,
          2015,
          2017,
          2020,
          2012,
          2020,
          2018,
          2021,
          2018,
          2013,
          2012,
          2016,
          2017,
          2019,
          2014,
          2019,
          2014,
          2020,
          2013,
          2012,
          2015,
          2019,
          2021,
          2012,
          2021,
          2017,
          2016,
          2016,
          2019,
          2014,
          2019,
          2019,
          2019,
          2014,
          2015,
          2018,
          2013,
          2017,
          2019,
          2012,
          2012,
          2016,
          2020,
          2020,
          2018,
          2020,
          2016,
          2016,
          2021,
          2017,
          2015,
          2021,
          2014,
          2013,
          2017,
          2015,
          2020,
          2017,
          2021,
          2018,
          2013,
          2016,
          2019,
          2016,
          2016,
          2016,
          2017,
          2015,
          2012,
          2012,
          2013,
          2019,
          2018,
          2016,
          2020,
          2014,
          2018,
          2014,
          2021,
          2021,
          2012,
          2015,
          2013,
          2019,
          2020,
          2019,
          2013,
          2016,
          2013,
          2015,
          2012,
          2020,
          2014,
          2017,
          2013,
          2013,
          2017,
          2017,
          2014,
          2014,
          2012,
          2015,
          2020,
          2013,
          2016,
          2019,
          2021,
          2015,
          2016,
          2021,
          2020,
          2018,
          2020,
          2015,
          2018,
          2017,
          2017,
          2012,
          2016,
          2016,
          2016,
          2014,
          2018,
          2012,
          2012,
          2014,
          2021,
          2016,
          2017,
          2021,
          2013,
          2015,
          2019,
          2013,
          2021,
          2020,
          2013,
          2018,
          2013,
          2021,
          2014,
          2018,
          2017,
          2015,
          2015,
          2017,
          2016,
          2021,
          2012,
          2017,
          2016,
          2017,
          2020,
          2017,
          2012,
          2017,
          2015,
          2018,
          2016,
          2015,
          2017,
          2019,
          2019,
          2015,
          2020,
          2020,
          2016,
          2016,
          2012,
          2019,
          2015,
          2016,
          2012,
          2012,
          2012,
          2014,
          2020,
          2014,
          2014,
          2014,
          2021,
          2015,
          2020,
          2015,
          2021,
          2013,
          2019,
          2016,
          2014,
          2017,
          2016,
          2019,
          2012,
          2019,
          2014,
          2020,
          2020,
          2019,
          2012,
          2012,
          2020,
          2021,
          2019,
          2020,
          2015,
          2018,
          2021,
          2017,
          2012,
          2015,
          2015,
          2020,
          2018,
          2015,
          2019,
          2016,
          2018,
          2017,
          2014,
          2016,
          2017,
          2017,
          2012,
          2012,
          2018,
          2016,
          2015,
          2021,
          2018,
          2012,
          2016,
          2020,
          2017,
          2015,
          2014,
          2015,
          2014,
          2016,
          2013,
          2018,
          2021,
          2017,
          2018,
          2019,
          2019,
          2019,
          2019,
          2012,
          2021,
          2015,
          2017,
          2012,
          2020,
          2013,
          2019,
          2014,
          2012,
          2014,
          2021,
          2013,
          2013,
          2017,
          2014,
          2012,
          2017,
          2020,
          2021,
          2016,
          2016,
          2012,
          2019,
          2016,
          2012,
          2015,
          2018,
          2014,
          2019,
          2016,
          2020,
          2016,
          2013,
          2018,
          2012,
          2021,
          2019,
          2012,
          2016,
          2016,
          2018,
          2015,
          2019,
          2021,
          2012,
          2019,
          2019,
          2020,
          2016,
          2020,
          2016,
          2017,
          2018,
          2019,
          2015,
          2018,
          2014,
          2016,
          2012,
          2017,
          2018,
          2012,
          2020,
          2019,
          2015,
          2015,
          2019,
          2014,
          2019,
          2018,
          2020,
          2017,
          2013,
          2013,
          2014,
          2015,
          2015,
          2015,
          2019,
          2019,
          2017,
          2018,
          2012,
          2020,
          2013,
          2018,
          2014,
          2016,
          2013,
          2012,
          2016,
          2020,
          2013,
          2013,
          2018,
          2016,
          2017,
          2016,
          2017,
          2017,
          2015,
          2020,
          2021,
          2020,
          2015,
          2014,
          2020,
          2020,
          2015,
          2013,
          2020,
          2019,
          2021,
          2016,
          2012,
          2018,
          2020,
          2021,
          2012,
          2016,
          2020,
          2015,
          2017,
          2014,
          2018,
          2017,
          2012,
          2012,
          2014,
          2021,
          2017,
          2020,
          2015,
          2013,
          2016,
          2013,
          2016,
          2016,
          2018,
          2021,
          2016,
          2018,
          2015,
          2013,
          2017,
          2019,
          2012,
          2021,
          2013,
          2013,
          2012,
          2020,
          2020,
          2016,
          2018,
          2014,
          2018,
          2018,
          2017,
          2017,
          2012,
          2021,
          2021,
          2021,
          2012,
          2013,
          2015,
          2013,
          2020,
          2016,
          2017,
          2015,
          2013,
          2016,
          2021,
          2012,
          2013,
          2016,
          2021,
          2018,
          2016,
          2016,
          2019,
          2021,
          2021,
          2020,
          2016,
          2018,
          2019,
          2018,
          2015,
          2021,
          2021,
          2017,
          2020,
          2021,
          2019,
          2014,
          2018,
          2017,
          2018,
          2019,
          2021,
          2017,
          2018,
          2012,
          2014,
          2021,
          2019,
          2020,
          2021,
          2020,
          2020,
          2019,
          2015,
          2016,
          2015,
          2020,
          2013,
          2021,
          2013,
          2019,
          2019,
          2013,
          2021,
          2018,
          2018,
          2016,
          2012,
          2016,
          2019,
          2015,
          2014,
          2020,
          2019,
          2013,
          2015,
          2021,
          2017,
          2019,
          2021,
          2019,
          2017,
          2012,
          2017,
          2020,
          2019,
          2016,
          2018,
          2016,
          2018,
          2017,
          2020,
          2015,
          2020,
          2016,
          2012,
          2012,
          2015,
          2013,
          2014,
          2018,
          2019,
          2021,
          2017,
          2015,
          2016,
          2017,
          2012,
          2019,
          2014,
          2013,
          2020,
          2012,
          2013,
          2018,
          2015,
          2015,
          2014,
          2017,
          2017,
          2014,
          2021,
          2012,
          2020,
          2013,
          2016,
          2019,
          2020,
          2013,
          2017,
          2014,
          2019,
          2014,
          2015,
          2016,
          2017,
          2012,
          2012,
          2019,
          2016,
          2016,
          2021,
          2018,
          2020,
          2015,
          2014,
          2021,
          2018,
          2012,
          2013,
          2017,
          2019,
          2012,
          2019,
          2018,
          2020,
          2017,
          2018,
          2014,
          2019,
          2012,
          2021,
          2017,
          2014,
          2019,
          2013,
          2012,
          2014,
          2012,
          2018,
          2018,
          2013,
          2012,
          2015,
          2015,
          2017,
          2019,
          2020,
          2020,
          2015,
          2021,
          2012,
          2019,
          2020,
          2013,
          2018,
          2016,
          2013,
          2020,
          2012,
          2021,
          2018,
          2012,
          2021,
          2021,
          2012,
          2021,
          2012,
          2018,
          2013,
          2019,
          2015,
          2018,
          2012,
          2015,
          2021,
          2018,
          2021,
          2015,
          2018,
          2014,
          2019,
          2020,
          2015,
          2019,
          2020,
          2020,
          2020,
          2015,
          2013,
          2012,
          2019,
          2012,
          2013,
          2021,
          2021,
          2020,
          2019,
          2014,
          2019,
          2014,
          2021,
          2018,
          2018,
          2015,
          2015,
          2021,
          2016,
          2013,
          2013,
          2021,
          2021,
          2018,
          2016,
          2020,
          2015,
          2021,
          2020,
          2020,
          2014,
          2015,
          2019,
          2019,
          2012,
          2016,
          2018,
          2020,
          2020,
          2017,
          2021,
          2015,
          2021,
          2017,
          2020,
          2013,
          2019,
          2020,
          2015,
          2017,
          2021,
          2014,
          2019,
          2013,
          2020,
          2017,
          2019,
          2013,
          2017,
          2019,
          2017,
          2014,
          2013,
          2014,
          2013,
          2019,
          2014,
          2019,
          2018,
          2015,
          2020,
          2014,
          2021,
          2015,
          2018,
          2013,
          2016,
          2012,
          2021,
          2013,
          2018,
          2016,
          2017,
          2014,
          2013,
          2012,
          2020,
          2015,
          2020,
          2020,
          2017,
          2013,
          2015,
          2013,
          2015,
          2014,
          2016,
          2017,
          2021,
          2016,
          2019,
          2019,
          2013,
          2019,
          2015,
          2021,
          2020,
          2014,
          2018,
          2014,
          2020,
          2019,
          2020,
          2019,
          2012,
          2012,
          2018,
          2021,
          2017,
          2019,
          2017,
          2016,
          2014,
          2015,
          2016,
          2020,
          2021,
          2019,
          2018,
          2018,
          2014,
          2017,
          2020,
          2014,
          2013,
          2018,
          2017,
          2020,
          2018,
          2017,
          2021,
          2021,
          2017,
          2018,
          2015,
          2021,
          2021,
          2013,
          2021,
          2017,
          2014,
          2018,
          2013,
          2014,
          2015,
          2015,
          2015,
          2013,
          2019,
          2013,
          2017,
          2014,
          2021,
          2016,
          2013,
          2017,
          2013,
          2018,
          2014,
          2013,
          2019,
          2021,
          2020,
          2021,
          2014,
          2015,
          2017,
          2012,
          2018,
          2013,
          2016,
          2019,
          2018,
          2016,
          2021,
          2017,
          2020,
          2018,
          2014,
          2020,
          2020,
          2012,
          2020,
          2019,
          2014,
          2014,
          2014,
          2017,
          2018,
          2015,
          2019,
          2018,
          2016,
          2016,
          2012,
          2012,
          2019,
          2017,
          2018,
          2017,
          2017,
          2020,
          2017,
          2017,
          2018,
          2012,
          2018,
          2013,
          2016,
          2021,
          2020,
          2018,
          2021,
          2021,
          2019,
          2019,
          2015,
          2016,
          2020,
          2016,
          2021,
          2016,
          2013,
          2016,
          2012,
          2021,
          2014,
          2016,
          2014,
          2018,
          2017,
          2019,
          2017,
          2012,
          2018,
          2019,
          2016,
          2018,
          2018,
          2015,
          2018,
          2016,
          2013,
          2012,
          2015,
          2017,
          2013,
          2021,
          2019,
          2018,
          2013,
          2019,
          2019,
          2020,
          2013,
          2014,
          2020,
          2015,
          2020,
          2015,
          2012,
          2014,
          2018,
          2020,
          2015,
          2016,
          2021,
          2021,
          2015,
          2019,
          2018,
          2018,
          2017,
          2014,
          2013,
          2013,
          2015,
          2020,
          2015,
          2020,
          2019,
          2015,
          2014,
          2016,
          2012,
          2020,
          2016,
          2021,
          2021,
          2020,
          2013,
          2019,
          2014,
          2014,
          2015,
          2013,
          2017,
          2015,
          2014,
          2020,
          2014,
          2014,
          2017,
          2014,
          2019,
          2021,
          2018,
          2012,
          2014,
          2017,
          2018,
          2017,
          2015,
          2012,
          2014,
          2018,
          2013,
          2019,
          2016,
          2018,
          2012,
          2016,
          2016,
          2014,
          2019,
          2019,
          2016,
          2015,
          2016,
          2015,
          2019,
          2020,
          2020,
          2019,
          2016,
          2017,
          2018,
          2018,
          2020,
          2021,
          2019,
          2021,
          2016,
          2013,
          2021,
          2015,
          2020,
          2018,
          2014,
          2020,
          2012,
          2014,
          2016,
          2018,
          2014,
          2020,
          2018,
          2018,
          2014,
          2019,
          2016,
          2018,
          2018,
          2021,
          2012,
          2017,
          2014,
          2012,
          2019,
          2021,
          2021,
          2012,
          2021,
          2017,
          2021,
          2020,
          2015,
          2012,
          2017,
          2019,
          2016,
          2017,
          2020,
          2014,
          2016,
          2013,
          2014,
          2013,
          2019,
          2014,
          2019,
          2012,
          2021,
          2021,
          2018,
          2015,
          2014,
          2012,
          2013,
          2019,
          2013,
          2018,
          2012,
          2016,
          2020,
          2020,
          2019,
          2019,
          2013,
          2018,
          2017,
          2020,
          2014,
          2016,
          2020,
          2017,
          2020,
          2018,
          2012,
          2019,
          2020,
          2017,
          2017,
          2018,
          2021,
          2013,
          2016,
          2019,
          2019,
          2018,
          2018,
          2019,
          2019,
          2012,
          2016,
          2012,
          2015,
          2019,
          2015,
          2019,
          2021,
          2016,
          2012,
          2016,
          2020,
          2018,
          2016,
          2013,
          2021,
          2012,
          2016,
          2015,
          2016,
          2020,
          2013,
          2014,
          2018,
          2016,
          2013,
          2017,
          2021,
          2013,
          2020,
          2012,
          2021,
          2021,
          2014,
          2013,
          2015,
          2021,
          2014,
          2020,
          2019,
          2020,
          2021,
          2014,
          2020,
          2019,
          2017,
          2012,
          2016,
          2018,
          2015,
          2013,
          2021,
          2021,
          2020,
          2016,
          2016,
          2015,
          2017,
          2018,
          2012,
          2018,
          2016,
          2021,
          2018,
          2015,
          2020,
          2021,
          2021,
          2016,
          2014,
          2016,
          2016,
          2012,
          2014,
          2016,
          2017,
          2012,
          2017,
          2012,
          2021,
          2014,
          2021,
          2018,
          2017,
          2017,
          2019,
          2019,
          2014,
          2021,
          2015,
          2018,
          2016,
          2013,
          2012,
          2013,
          2013,
          2012,
          2013,
          2018,
          2014,
          2016,
          2012,
          2016,
          2018,
          2019,
          2020,
          2014,
          2012,
          2012,
          2018,
          2020,
          2021,
          2017,
          2021,
          2015,
          2014,
          2019,
          2013,
          2016,
          2016,
          2020,
          2015,
          2018,
          2020,
          2015,
          2014,
          2017,
          2017,
          2014,
          2021,
          2014,
          2015,
          2018,
          2013,
          2015,
          2021,
          2015,
          2019,
          2012,
          2013,
          2017,
          2019,
          2021,
          2012,
          2014,
          2019,
          2016,
          2016,
          2020,
          2013,
          2013,
          2013,
          2013,
          2013,
          2013,
          2017,
          2014,
          2012,
          2014,
          2020,
          2021,
          2017,
          2019,
          2021,
          2014,
          2021,
          2013,
          2021,
          2016,
          2019,
          2020,
          2013,
          2020,
          2014,
          2018,
          2016,
          2020,
          2013,
          2013,
          2020,
          2021,
          2020,
          2021,
          2021,
          2013,
          2019,
          2019,
          2015,
          2014,
          2017,
          2020,
          2021,
          2019,
          2017,
          2020,
          2021,
          2013,
          2018,
          2012,
          2017,
          2013,
          2013,
          2021,
          2012,
          2019,
          2014,
          2012,
          2021,
          2018,
          2017,
          2013,
          2020,
          2016,
          2016,
          2017,
          2016,
          2018,
          2016,
          2015,
          2018,
          2019,
          2018,
          2018,
          2018,
          2013,
          2015,
          2017,
          2017,
          2020,
          2021,
          2019,
          2012,
          2019,
          2012,
          2016,
          2016,
          2012,
          2020,
          2016,
          2021,
          2017,
          2014,
          2017,
          2014,
          2021,
          2014,
          2020,
          2015,
          2020,
          2019,
          2020,
          2019,
          2020,
          2015,
          2014,
          2012,
          2020,
          2020,
          2018,
          2015,
          2014,
          2018,
          2021,
          2021,
          2016,
          2020,
          2021,
          2015,
          2013,
          2018,
          2014,
          2014,
          2017,
          2013,
          2014,
          2012,
          2019,
          2012,
          2021,
          2015,
          2012,
          2016,
          2018,
          2019,
          2012,
          2021,
          2019,
          2016,
          2017,
          2020,
          2012,
          2021,
          2014,
          2018,
          2012,
          2015,
          2015,
          2020,
          2016,
          2021,
          2014,
          2015,
          2017,
          2021,
          2012,
          2013,
          2021,
          2012,
          2018,
          2021,
          2012,
          2019,
          2021,
          2016,
          2021,
          2012,
          2017,
          2013,
          2021,
          2018,
          2012,
          2013,
          2020,
          2018,
          2015,
          2015,
          2020,
          2013,
          2013,
          2020,
          2019,
          2020,
          2012,
          2018,
          2017,
          2013,
          2015,
          2018,
          2018,
          2017,
          2017,
          2014,
          2016,
          2014,
          2014,
          2013,
          2012,
          2015,
          2019,
          2018,
          2018,
          2020,
          2014,
          2015,
          2021,
          2014,
          2012,
          2020,
          2014,
          2021,
          2018,
          2020,
          2020,
          2018,
          2017,
          2012,
          2015,
          2015,
          2020,
          2013,
          2013,
          2019,
          2013,
          2014,
          2013,
          2012,
          2018,
          2015,
          2015,
          2014,
          2018,
          2021,
          2014,
          2016,
          2018,
          2020,
          2012,
          2014,
          2016,
          2020,
          2021,
          2015,
          2019,
          2015,
          2012,
          2016,
          2020,
          2016,
          2018,
          2018,
          2021,
          2016,
          2012,
          2013,
          2015,
          2017,
          2015,
          2014,
          2020,
          2013,
          2012,
          2014,
          2016,
          2020,
          2018,
          2019,
          2012,
          2012,
          2012,
          2017,
          2017,
          2018,
          2015,
          2017,
          2020,
          2015,
          2018,
          2018,
          2016,
          2019,
          2012,
          2012,
          2015,
          2012,
          2021,
          2018,
          2017,
          2020,
          2018,
          2018,
          2014,
          2016,
          2015,
          2019,
          2015,
          2021,
          2015,
          2017,
          2015,
          2021,
          2018,
          2015,
          2012,
          2020,
          2014,
          2018,
          2013,
          2019,
          2019,
          2018,
          2015,
          2013,
          2017,
          2012,
          2017,
          2013,
          2016,
          2019,
          2014,
          2018,
          2012,
          2020,
          2015,
          2014,
          2013,
          2015,
          2017,
          2021,
          2013,
          2015,
          2016,
          2019,
          2021,
          2020,
          2015,
          2013,
          2012,
          2019,
          2021,
          2016,
          2012,
          2015,
          2020,
          2015,
          2019,
          2020,
          2013,
          2014,
          2018,
          2014,
          2019,
          2014,
          2016,
          2013,
          2018,
          2020,
          2016,
          2017,
          2020,
          2020,
          2014,
          2012,
          2014,
          2012,
          2016,
          2016,
          2020,
          2012,
          2016,
          2014,
          2020,
          2013,
          2017,
          2019,
          2014,
          2020,
          2013,
          2019,
          2014,
          2019,
          2013,
          2019,
          2021,
          2019,
          2014,
          2019,
          2014,
          2021,
          2014,
          2012,
          2019,
          2017,
          2020,
          2014,
          2015,
          2012,
          2012,
          2013,
          2020,
          2018,
          2013,
          2012,
          2015,
          2017,
          2018,
          2017,
          2017,
          2019,
          2016,
          2019,
          2016,
          2018,
          2016,
          2012,
          2021,
          2021,
          2014,
          2017,
          2013,
          2016,
          2017,
          2020,
          2015,
          2016,
          2020,
          2014,
          2017,
          2012,
          2017,
          2013,
          2012,
          2013,
          2012,
          2019,
          2016,
          2013,
          2014,
          2016,
          2012,
          2020,
          2016,
          2017,
          2021,
          2014,
          2016,
          2021,
          2021,
          2014,
          2016,
          2017,
          2014,
          2017,
          2020,
          2012,
          2015,
          2013,
          2013,
          2019,
          2019,
          2018,
          2013,
          2014,
          2016,
          2017,
          2016,
          2016,
          2021,
          2012,
          2020,
          2021,
          2017,
          2016,
          2017,
          2015,
          2019,
          2018,
          2019,
          2015,
          2016,
          2015,
          2013,
          2019,
          2015,
          2020,
          2014,
          2017,
          2020,
          2019,
          2013,
          2016,
          2012,
          2021,
          2017,
          2019,
          2020,
          2017,
          2018,
          2021,
          2016,
          2014,
          2015,
          2017,
          2020,
          2018,
          2018,
          2020,
          2012,
          2020,
          2012,
          2016,
          2012,
          2018,
          2021,
          2014,
          2012,
          2021,
          2015,
          2014,
          2019,
          2016,
          2018,
          2012,
          2017,
          2019,
          2021,
          2017,
          2014,
          2013,
          2018,
          2016,
          2020,
          2014,
          2014,
          2020,
          2016,
          2020,
          2020,
          2015,
          2013,
          2014,
          2019,
          2021,
          2016,
          2013,
          2017,
          2021,
          2020,
          2015,
          2020,
          2017,
          2016,
          2017,
          2014,
          2021,
          2014,
          2018,
          2016,
          2015,
          2015,
          2020,
          2018,
          2018,
          2019,
          2019,
          2016,
          2014,
          2018,
          2021,
          2015,
          2020,
          2021,
          2018,
          2014,
          2013,
          2020,
          2019,
          2021,
          2018,
          2014,
          2012,
          2013,
          2013,
          2015,
          2021,
          2018,
          2019,
          2014,
          2013,
          2013,
          2014,
          2013,
          2015,
          2016,
          2012,
          2021,
          2015,
          2015,
          2012,
          2017,
          2012,
          2013,
          2016,
          2017,
          2018,
          2013,
          2015,
          2014,
          2013,
          2013,
          2020,
          2016,
          2018,
          2013,
          2020,
          2019,
          2015,
          2021,
          2021,
          2012,
          2018,
          2014,
          2012,
          2015,
          2020,
          2014,
          2018,
          2020,
          2021,
          2013,
          2021,
          2014,
          2017,
          2020,
          2012,
          2020,
          2019,
          2014,
          2017,
          2014,
          2014,
          2018,
          2021,
          2021,
          2016,
          2012,
          2016,
          2016,
          2021,
          2013,
          2021,
          2017,
          2020,
          2020,
          2016,
          2020,
          2018,
          2018,
          2014,
          2020,
          2014,
          2015,
          2020,
          2012,
          2016,
          2021,
          2015,
          2021,
          2012,
          2012,
          2021,
          2012,
          2018,
          2020,
          2019,
          2017,
          2017,
          2014,
          2012,
          2021,
          2014,
          2015,
          2018,
          2012,
          2015,
          2015,
          2019,
          2014,
          2019,
          2019,
          2018,
          2015,
          2018,
          2014,
          2018,
          2018,
          2018,
          2019,
          2018,
          2020,
          2018,
          2017,
          2017,
          2018,
          2018,
          2015,
          2018,
          2018,
          2021,
          2020,
          2012,
          2013,
          2017,
          2012,
          2015,
          2013,
          2012,
          2014,
          2018,
          2016,
          2014,
          2014,
          2019,
          2019,
          2016,
          2021,
          2017,
          2019,
          2019,
          2021,
          2021,
          2015,
          2012,
          2021,
          2019,
          2013,
          2013,
          2020,
          2017,
          2016,
          2012,
          2012,
          2014,
          2012,
          2017,
          2016,
          2017,
          2020,
          2018,
          2013,
          2012,
          2015,
          2017,
          2020,
          2016,
          2014,
          2015,
          2015,
          2019,
          2016,
          2018,
          2016,
          2018,
          2019,
          2020,
          2019,
          2017,
          2017,
          2013,
          2019,
          2020,
          2019,
          2012,
          2018,
          2016,
          2019,
          2017,
          2015,
          2019,
          2015,
          2014,
          2014,
          2020,
          2014,
          2013,
          2017,
          2016,
          2019,
          2014,
          2012,
          2018,
          2013,
          2021,
          2012,
          2014,
          2015,
          2012,
          2015,
          2013,
          2015,
          2012,
          2015,
          2012,
          2017,
          2013,
          2012,
          2017,
          2019,
          2013,
          2021,
          2019,
          2020,
          2020,
          2013,
          2021,
          2012,
          2017,
          2012,
          2013,
          2013,
          2019,
          2016,
          2019,
          2014,
          2016,
          2018,
          2014,
          2014,
          2015,
          2020,
          2016,
          2012,
          2020,
          2018,
          2017,
          2015,
          2012,
          2016,
          2019,
          2020,
          2021,
          2015,
          2021,
          2014,
          2012,
          2013,
          2013,
          2018,
          2020,
          2013,
          2017,
          2019,
          2020,
          2021,
          2020,
          2015,
          2020,
          2021,
          2017,
          2017,
          2013,
          2014,
          2019,
          2012,
          2019,
          2015,
          2012,
          2019,
          2014,
          2016,
          2019,
          2017,
          2012,
          2020,
          2021,
          2016,
          2015,
          2021,
          2017,
          2019,
          2017,
          2019,
          2018,
          2013,
          2020,
          2014,
          2013,
          2013,
          2013,
          2020,
          2012,
          2021,
          2021,
          2021,
          2020,
          2020,
          2017,
          2019,
          2019,
          2013,
          2014,
          2015,
          2019,
          2013,
          2021,
          2012,
          2015,
          2017,
          2018,
          2020,
          2019,
          2013,
          2018,
          2018,
          2014,
          2018,
          2020,
          2015,
          2012,
          2021,
          2021,
          2020,
          2020,
          2013,
          2018,
          2020,
          2018,
          2017,
          2017,
          2020,
          2012,
          2013,
          2018,
          2014,
          2019,
          2016,
          2012,
          2019,
          2017,
          2021,
          2015,
          2014,
          2019,
          2016,
          2013,
          2019,
          2018,
          2021,
          2017,
          2015,
          2014,
          2013,
          2017,
          2021,
          2015,
          2014,
          2013,
          2015,
          2015,
          2021,
          2012,
          2016,
          2021,
          2017,
          2018,
          2018,
          2018,
          2017,
          2013,
          2019,
          2014,
          2015,
          2016,
          2019,
          2021,
          2019,
          2016,
          2013,
          2016,
          2012,
          2020,
          2014,
          2014,
          2019,
          2019,
          2021,
          2021,
          2015,
          2014,
          2015,
          2012,
          2012,
          2017,
          2015,
          2015,
          2017,
          2016,
          2018,
          2018,
          2018,
          2019,
          2019,
          2012,
          2020,
          2015,
          2017,
          2016,
          2017,
          2019,
          2021,
          2012,
          2013,
          2017,
          2018,
          2015,
          2018,
          2015,
          2014,
          2015,
          2021,
          2018,
          2019,
          2020,
          2012,
          2020,
          2021,
          2017,
          2015,
          2012,
          2018,
          2020,
          2016,
          2013,
          2016,
          2021,
          2018,
          2013,
          2015,
          2012,
          2019,
          2016,
          2019,
          2017,
          2014,
          2016,
          2018,
          2014,
          2016,
          2014,
          2012,
          2019,
          2018,
          2013,
          2014,
          2015,
          2021,
          2013,
          2012,
          2016,
          2021,
          2019,
          2017,
          2016,
          2013,
          2014,
          2014,
          2013,
          2017,
          2020,
          2014,
          2013,
          2017,
          2013,
          2012,
          2012,
          2017,
          2019,
          2015,
          2018,
          2021,
          2020,
          2012,
          2019,
          2018,
          2014,
          2021,
          2019,
          2017,
          2017,
          2020,
          2012,
          2015,
          2015,
          2013,
          2020,
          2017,
          2016,
          2017,
          2013,
          2017,
          2020,
          2018,
          2018,
          2014,
          2021,
          2019,
          2019,
          2017,
          2017,
          2018,
          2019,
          2018,
          2018,
          2012,
          2017,
          2019,
          2018,
          2014,
          2014,
          2014
         ],
         "x0": " ",
         "xaxis": "x",
         "y": [
          3635350,
          18833990,
          28453511,
          6620877,
          539371,
          4339750,
          7402632,
          5586736,
          11531198,
          586386,
          63504,
          2616130,
          22559016,
          23666950,
          4031875,
          7986596,
          3523852,
          5535450,
          21393520,
          225239,
          4417100,
          13827049,
          5167164,
          1130699,
          9211520,
          8998660,
          2179981,
          29754477,
          13593787,
          24868728,
          12924883,
          15702669,
          1905826,
          5401460,
          5187379,
          782216,
          5981046,
          3558615,
          236952,
          1430374,
          18766906,
          null,
          6361072,
          3018487,
          923080,
          31241307,
          8572067,
          5169801,
          27793031,
          3607060,
          11180636,
          7907404,
          8384177,
          12074732,
          5282776,
          3916152,
          6782369,
          8926522,
          8153992,
          12173646,
          7798146,
          10248940,
          3792554,
          8477027,
          2790654,
          4857263,
          2504759,
          2378541,
          2005369,
          7261281,
          3498284,
          6389143,
          8506717,
          1744754,
          5011219,
          6314429,
          3780592,
          50968130,
          5068585,
          4126560,
          12626526,
          777763,
          74347,
          1251339,
          27606331,
          2104487,
          3553431,
          5265314,
          591966,
          6084779,
          8958301,
          null,
          9008447,
          null,
          7165463,
          2446837,
          3934645,
          1904526,
          8089856,
          4031388,
          26377252,
          6812569,
          1327422,
          4876610,
          11051751,
          3199169,
          6529424,
          7481726,
          11202570,
          12680991,
          5670704,
          10560964,
          7880161,
          14981670,
          1911984,
          6188489,
          7495904,
          10918995,
          495803,
          4247904,
          10511081,
          275030,
          940044,
          5902168,
          798495,
          4551601,
          266993,
          519353,
          36581600,
          8149652,
          2327505,
          28092847,
          7307644,
          22454041,
          1797076,
          405863,
          1633617,
          1890206,
          27342,
          null,
          null,
          6830215,
          4211892,
          974462,
          null,
          4000860,
          4892161,
          979581,
          null,
          5173124,
          3102712,
          3151700,
          4752296,
          6267940,
          1450862,
          1294905,
          32809359,
          9205446,
          5594524,
          9639419,
          null,
          9739083,
          1426971,
          2562917,
          73369345,
          2797914,
          7546932,
          3253412,
          1302477,
          5301951,
          3052762,
          7748376,
          4993132,
          11233725,
          11738736,
          12940985,
          null,
          9007497,
          5250393,
          12020379,
          16174381,
          13241225,
          5693969,
          5174110,
          6581926,
          2273879,
          null,
          17791390,
          1840223,
          1059282,
          4754907,
          4671559,
          3972818,
          1864956,
          18685658,
          1246083,
          1838293,
          3937006,
          5902001,
          6064014,
          3664735,
          1175944,
          12974215,
          2685677,
          17129321,
          8230047,
          11272920,
          18142107,
          6795232,
          4697736,
          825758,
          4171310,
          4442413,
          5378675,
          7911771,
          5320896,
          19614476,
          6843252,
          2311911,
          8928320,
          4322227,
          2909268,
          947562,
          13528648,
          2325605,
          8632994,
          17299126,
          6738952,
          7787066,
          3535912,
          874227,
          2887644,
          3443395,
          1168990,
          23947,
          11895309,
          3645206,
          1319647,
          2770441,
          6113637,
          15211,
          1832968,
          8081634,
          24968980,
          127911,
          6552070,
          1209726,
          5156771,
          6823136,
          6226047,
          5308258,
          1461166,
          7779394,
          3849428,
          3667335,
          5341240,
          354814,
          4746856,
          13080776,
          9518941,
          null,
          8138159,
          3928050,
          1568374,
          3813530,
          5949421,
          5370411,
          1197118,
          4622624,
          13382388,
          52037724,
          7090641,
          17966412,
          2967462,
          3867679,
          7092537,
          4995243,
          3793576,
          5526736,
          5929137,
          736618,
          4276584,
          3482068,
          2957242,
          2751912,
          18947881,
          2919161,
          4696854,
          3424925,
          3034945,
          8183764,
          7448161,
          2642868,
          1014706,
          5592038,
          1517602,
          2177482,
          14876519,
          9563597,
          3169092,
          77679,
          4616581,
          1775654,
          795704,
          14760950,
          907442,
          53184146,
          8141358,
          51304079,
          481593,
          4735651,
          670485,
          null,
          3509455,
          110388,
          1983488,
          1125946,
          4039140,
          7329653,
          7583197,
          830736,
          30908812,
          2342852,
          5227081,
          18637402,
          35667083,
          348425,
          8858927,
          3911205,
          4026945,
          6541229,
          25586776,
          42606482,
          3850608,
          5323062,
          47999693,
          13435767,
          22146336,
          13474353,
          204813,
          5401361,
          3853134,
          9237757,
          1664284,
          6382345,
          null,
          217651,
          3561284,
          4572489,
          4697020,
          7831807,
          4169006,
          5282530,
          192794,
          3029065,
          3421389,
          4783380,
          3709615,
          2151073,
          15179489,
          5493273,
          14067549,
          3587086,
          34974795,
          6819670,
          5532233,
          9280466,
          701407,
          4393159,
          3106741,
          6107647,
          4218633,
          2408502,
          2723428,
          7985628,
          4557514,
          1633002,
          2722011,
          1162028,
          1414374,
          9349146,
          37387102,
          14063381,
          9138437,
          2910037,
          11972134,
          16558967,
          11188732,
          713931,
          612224,
          481582,
          8582292,
          81243249,
          4199383,
          6005930,
          2439438,
          3079061,
          4777845,
          1552743,
          3445596,
          16519517,
          6510501,
          5720555,
          795671,
          12621465,
          null,
          2217501,
          6860811,
          6004220,
          12309976,
          6395494,
          3578542,
          7980927,
          6066412,
          5149916,
          7486606,
          3059290,
          null,
          685978,
          2954061,
          169580,
          262787,
          null,
          null,
          8118761,
          26673332,
          13922564,
          5668420,
          58430268,
          4477156,
          1444490,
          818254,
          4206096,
          null,
          5959659,
          5548441,
          4204806,
          7092251,
          8001050,
          3441608,
          3338165,
          953956,
          3773738,
          6622253,
          1906510,
          10386049,
          4443925,
          47067357,
          3977155,
          11332041,
          7843717,
          2218282,
          5824787,
          11092704,
          19278518,
          7343399,
          4118216,
          2782657,
          null,
          4344551,
          null,
          3785586,
          5329838,
          7507279,
          8845783,
          18457303,
          4327337,
          13521474,
          854574,
          2591775,
          9035979,
          11720874,
          5646626,
          6711387,
          2778880,
          2057934,
          1740679,
          null,
          2488913,
          2312084,
          491223,
          2725047,
          10400262,
          1129178,
          16030,
          12132339,
          20235971,
          2869533,
          2568673,
          3378750,
          4563760,
          5797579,
          836306,
          null,
          4635084,
          5172301,
          8575900,
          2261259,
          2332692,
          7372648,
          2982307,
          20471562,
          315932,
          383769,
          null,
          15240632,
          9139375,
          10238514,
          625604,
          73158278,
          1847399,
          3902997,
          2850579,
          9302565,
          7470559,
          9301989,
          2894226,
          22573206,
          13462590,
          4532603,
          345390,
          1381337,
          4695393,
          959486,
          1368922,
          1173868,
          319958,
          3132544,
          1357368,
          4757877,
          11438322,
          9247398,
          17212107,
          265902,
          14405788,
          1003550,
          4402023,
          3229011,
          3564255,
          4402792,
          4787709,
          5534440,
          4107952,
          5277431,
          3948075,
          1640433,
          1725064,
          672147,
          102837,
          null,
          64827,
          20955902,
          2939549,
          4711832,
          3136756,
          15373095,
          null,
          2897558,
          1304317,
          19085515,
          null,
          1982637,
          1757099,
          8645387,
          6304299,
          6975073,
          4657667,
          743470,
          1172550,
          1586088,
          7731741,
          9383317,
          924455,
          2236404,
          5457876,
          18434095,
          null,
          3920936,
          3400030,
          23384151,
          7297140,
          3207809,
          624547,
          23296053,
          2530843,
          3340928,
          7849969,
          3445211,
          7143458,
          2773014,
          4981943,
          3262457,
          4389790,
          1916158,
          12377953,
          2158951,
          6729733,
          1846447,
          15695261,
          3668857,
          7768959,
          29339417,
          2586754,
          253649,
          null,
          1219250,
          1633574,
          109721607,
          34394991,
          19404,
          10882812,
          4668601,
          3923502,
          4679951,
          17137940,
          2607451,
          null,
          5707130,
          4342934,
          11055687,
          9327457,
          14788020,
          11452177,
          10119725,
          7607890,
          765787,
          8281308,
          2529386,
          3887293,
          60023151,
          21420,
          4523715,
          8594836,
          null,
          225601,
          18781593,
          231490,
          10180530,
          394674,
          3398946,
          4792552,
          554707,
          null,
          1156815,
          14048998,
          1564968,
          7028638,
          null,
          3988603,
          7518793,
          2281811,
          4991129,
          6186501,
          758853,
          152229,
          19104437,
          3734336,
          7169671,
          1513530,
          19466568,
          4888370,
          4801881,
          7628805,
          3425361,
          3009076,
          5791230,
          7650831,
          3121159,
          647610,
          5408132,
          2918233,
          10973292,
          3201197,
          3694431,
          3719715,
          8869640,
          3005962,
          3317082,
          3556352,
          752388,
          5211952,
          null,
          6567023,
          3930055,
          3117973,
          2096389,
          3421556,
          8171590,
          3204426,
          659554,
          6470738,
          4881751,
          2569470,
          8068255,
          2995097,
          5339408,
          26779321,
          null,
          12585195,
          3593102,
          792035,
          3744833,
          727475,
          1401352,
          104706,
          4988776,
          17972902,
          15066550,
          16884,
          1826763,
          3048427,
          2290389,
          53166836,
          627659,
          12268601,
          2056334,
          1127384,
          15926785,
          6342179,
          6825779,
          null,
          6811368,
          8788701,
          11912369,
          6047382,
          7663390,
          10863593,
          null,
          88350764,
          5613289,
          2779522,
          139678,
          51148553,
          15123399,
          10247905,
          1050164,
          7056944,
          3631509,
          6732204,
          8550503,
          17489233,
          4245606,
          1735725,
          2051882,
          4082248,
          8935659,
          6737930,
          455959,
          2354871,
          7867370,
          6243544,
          46620,
          7063356,
          1359873,
          2762966,
          859213,
          7069843,
          7133895,
          12266979,
          null,
          2655366,
          1039708,
          null,
          235886,
          6313364,
          2657296,
          3319347,
          2431033,
          5524718,
          2052673,
          22960276,
          7114991,
          6443572,
          3630088,
          9896698,
          2753894,
          3464798,
          23599721,
          3891566,
          4931504,
          580832,
          40275759,
          4104749,
          4113060,
          455266,
          2902561,
          7651104,
          6247505,
          11184565,
          7217995,
          8044925,
          15667835,
          4276517,
          28520744,
          6707561,
          9812414,
          15179583,
          6301878,
          4252563,
          2501048,
          8760615,
          7986939,
          12461293,
          1195034,
          4907545,
          9274006,
          null,
          6019144,
          12782681,
          null,
          8422926,
          1576059,
          7461193,
          5561312,
          31577585,
          763922,
          3952644,
          null,
          1861650,
          4085831,
          5338162,
          2797773,
          15801503,
          20220042,
          17096946,
          11687088,
          5210908,
          4699965,
          4747577,
          12885543,
          null,
          8411666,
          13499490,
          1265574,
          10157358,
          8662356,
          1066537,
          5917190,
          15202482,
          1982370,
          6428786,
          474444,
          1597352,
          3187960,
          7684500,
          10455818,
          2049534,
          9631031,
          4732411,
          17924818,
          7791670,
          13220166,
          1218662,
          20154450,
          24042611,
          543733,
          8227991,
          3038563,
          9313657,
          5723689,
          111475,
          6314499,
          8541689,
          20160,
          2431999,
          10888515,
          4268461,
          32680365,
          15756476,
          456014,
          9145209,
          37056747,
          7694540,
          5382439,
          47187,
          3136682,
          3509310,
          1289230,
          187425,
          14334997,
          3458307,
          8287827,
          null,
          8570721,
          3125316,
          2973039,
          2966929,
          3978788,
          11733430,
          3356968,
          5039814,
          4015679,
          7376943,
          5678279,
          11374461,
          4272641,
          3364401,
          1610076,
          13035264,
          null,
          1629778,
          5128294,
          5618261,
          16153258,
          360906,
          35987,
          8405965,
          3559758,
          8660301,
          6466347,
          3520253,
          4336737,
          3211050,
          2179263,
          7718711,
          4760580,
          6329507,
          6750992,
          12698522,
          2751599,
          424444,
          2805411,
          3692451,
          25926275,
          2657930,
          2609463,
          5089101,
          8811705,
          3872826,
          3782038,
          6459551,
          3276041,
          2044801,
          5254454,
          2221567,
          6976866,
          4100275,
          5714600,
          14987880,
          8709988,
          11318438,
          5212327,
          9387663,
          8664283,
          227549,
          7265045,
          38616244,
          8353566,
          4070043,
          3637935,
          3730767,
          9830144,
          6923292,
          4706693,
          2185479,
          3892311,
          4711900,
          6855063,
          1606071,
          59311,
          21362327,
          11076152,
          1656695,
          8909836,
          1404955,
          null,
          5602537,
          2696963,
          6263375,
          10246938,
          19944367,
          3612994,
          1464428,
          10119669,
          2859537,
          null,
          null,
          5842723,
          5416069,
          9468527,
          9424087,
          1893810,
          13759863,
          4440560,
          1632488,
          11855288,
          7646598,
          null,
          951821,
          null,
          5155040,
          928789,
          9149652,
          7546565,
          null,
          2923911,
          5607068,
          3347353,
          7349585,
          11811323,
          4283301,
          7226713,
          913728,
          8934438,
          19469790,
          353360,
          3612107,
          15749867,
          3768094,
          1193097,
          816122,
          2424582,
          1445636,
          2274958,
          12331797,
          4717298,
          26639555,
          38185,
          8140545,
          10222859,
          6072809,
          5924163,
          19167119,
          1388834,
          3423106,
          3539943,
          8082076,
          1268580,
          6415011,
          3010947,
          528446,
          33805440,
          1357598,
          5718521,
          13104031,
          1987948,
          129876,
          5531385,
          20640511,
          956146,
          14581033,
          null,
          10047753,
          2342529,
          18082285,
          1701996,
          6708306,
          4192499,
          5170388,
          2226922,
          5983603,
          1871017,
          2830461,
          209944,
          3529149,
          866277,
          2501002,
          10119143,
          4144760,
          6059724,
          8691880,
          3969881,
          484260,
          5868819,
          35383533,
          1235277,
          5740914,
          5037080,
          2445926,
          2549694,
          11078587,
          5954130,
          null,
          91111190,
          2977402,
          25858168,
          1069313,
          3706678,
          5710070,
          4497694,
          4816558,
          476387,
          4340655,
          21754219,
          943692,
          2916012,
          null,
          4230282,
          9698315,
          31735507,
          null,
          36544918,
          3390321,
          null,
          5701333,
          2506525,
          4969514,
          6518248,
          2081209,
          3243422,
          856701,
          4749288,
          null,
          5425073,
          2941875,
          6704174,
          22750747,
          10669910,
          6844023,
          1398977,
          15325003,
          912830,
          17123535,
          4560912,
          16255093,
          653922,
          5170746,
          420837,
          5606848,
          1414058,
          5663370,
          21014589,
          1920533,
          5754971,
          2026292,
          6501484,
          6360733,
          1378037,
          5572388,
          3573582,
          50131654,
          19302078,
          3419080,
          1611885,
          9929207,
          11679152,
          1754593,
          34575724,
          6968089,
          4703753,
          1996981,
          8298390,
          3992333,
          7127745,
          1246700,
          41409316,
          6357036,
          3718106,
          1538998,
          9055313,
          9303072,
          13115144,
          1221787,
          4653132,
          12542842,
          13842871,
          null,
          1581179,
          19729802,
          14416856,
          6717484,
          18410359,
          1577702,
          492093,
          22861679,
          8151795,
          2261053,
          7773038,
          4213985,
          3942475,
          null,
          5917282,
          816157,
          5173794,
          1659053,
          1421333,
          224859,
          4345074,
          4462573,
          75907854,
          4402546,
          33216720,
          3414236,
          3776668,
          999411,
          313243,
          33012,
          2834727,
          422562,
          7100337,
          4595703,
          2828106,
          5174637,
          4473621,
          31297800,
          7273037,
          20664,
          8982281,
          4569217,
          2794163,
          2601339,
          225600,
          18458875,
          16657748,
          6644003,
          6326770,
          1106541,
          10398780,
          12983726,
          6490464,
          18544593,
          4860716,
          1749685,
          30759667,
          4530072,
          7618121,
          2383675,
          3418616,
          5760856,
          5907061,
          19074429,
          5286780,
          41412,
          4573824,
          5795223,
          17010,
          4414528,
          2298993,
          12695854,
          5188119,
          5379294,
          11935,
          3282145,
          10504634,
          6421039,
          3193485,
          3619232,
          9604965,
          2110479,
          5410544,
          4688531,
          12025639,
          4618883,
          11706626,
          18336345,
          18082390,
          4834717,
          null,
          4500095,
          null,
          9365451,
          5025374,
          6816528,
          10319561,
          1144541,
          3278503,
          1353784,
          5101912,
          927979,
          4311914,
          195391,
          2925720,
          20031095,
          3499147,
          7405404,
          5748801,
          4958726,
          4122153,
          7294668,
          5334480,
          4723971,
          5911089,
          9056299,
          979047,
          2624533,
          30041206,
          1173137,
          9719271,
          26003254,
          12331396,
          3157911,
          34279539,
          6271493,
          2917576,
          11200372,
          11141610,
          9140497,
          744767,
          7699109,
          4726828,
          7565778,
          null,
          4515681,
          16170,
          212171,
          13681762,
          4095415,
          72905,
          5826536,
          4886078,
          12905571,
          5122600,
          11322481,
          6703334,
          8183784,
          7093091,
          10320300,
          7618145,
          11932441,
          12543595,
          7216257,
          1116972,
          8205471,
          4514400,
          19750501,
          2003821,
          13918840,
          5441616,
          12768044,
          4891038,
          9167572,
          5414224,
          5239308,
          7208652,
          4741408,
          6264757,
          6914503,
          2013242,
          6654906,
          7216545,
          6087256,
          2025636,
          4352863,
          1076712,
          12769607,
          1805152,
          15985848,
          5015236,
          9801642,
          1284399,
          82026,
          17995183,
          3121064,
          19621087,
          3248884,
          769261,
          70140,
          1988819,
          11802374,
          35670210,
          1284742,
          7537761,
          9445869,
          3729555,
          2429689,
          7392366,
          21941012,
          6731195,
          68004393,
          247842,
          3524055,
          1741114,
          7419228,
          12888852,
          5953768,
          2143686,
          9224593,
          null,
          4176497,
          1628961,
          4791163,
          780485,
          435719,
          7253987,
          7978104,
          2003352,
          2463906,
          12139908,
          12328683,
          604393,
          126378,
          2992516,
          7812302,
          null,
          1698649,
          1719903,
          5197167,
          12090209,
          10957897,
          3256323,
          8953799,
          7222583,
          12359073,
          536724,
          3087530,
          36161603,
          558801,
          3831374,
          9685666,
          7292975,
          19329482,
          866342,
          1256749,
          1869780,
          17115019,
          5218431,
          4438712,
          1888951,
          9616529,
          5195248,
          2152585,
          8413015,
          6593460,
          10057439,
          3820942,
          null,
          7343106,
          1973760,
          5312821,
          3102357,
          8946,
          597467,
          92016,
          9390694,
          5161102,
          11864870,
          8213148,
          2270105,
          8355644,
          6111991,
          8549950,
          2874046,
          4554406,
          6321052,
          7606874,
          4107268,
          1882663,
          18453660,
          1470297,
          1835627,
          5367829,
          67237177,
          3706494,
          3598711,
          290817,
          4622926,
          null,
          25356419,
          3714390,
          5976583,
          3897086,
          9737702,
          6227930,
          3065877,
          5276431,
          9298424,
          5931459,
          null,
          10014625,
          5099459,
          4904052,
          12365177,
          4309573,
          16861150,
          1603663,
          4663924,
          1472805,
          13912267,
          null,
          4537935,
          null,
          4454854,
          null,
          613199,
          5710587,
          9758130,
          394528,
          7979084,
          6073411,
          9270521,
          5322022,
          1336153,
          3633881,
          286746,
          13147893,
          18834025,
          54481,
          4251294,
          8165276,
          3077109,
          3516387,
          68796854,
          12121459,
          1699880,
          5748578,
          6305556,
          3625178,
          7652560,
          200193,
          12489949,
          4502230,
          4736555,
          null,
          800502,
          31053324,
          13427410,
          2995865,
          9272139,
          2756649,
          12576639,
          null,
          4337641,
          1180354,
          642964,
          393771,
          54649297,
          null,
          16828564,
          1556528,
          589683,
          7111299,
          6926111,
          2206582,
          6294507,
          4515604,
          4700008,
          1366043,
          15439593,
          6709742,
          2108304,
          4203514,
          23720730,
          14313726,
          226080,
          6949614,
          5220045,
          2234113,
          8309420,
          6877311,
          3360570,
          1658570,
          8313117,
          18145329,
          null,
          7132508,
          11204284,
          11403880,
          9184355,
          112949,
          801530,
          1913696,
          6605982,
          100314994,
          null,
          3997314,
          404088,
          66241777,
          22973297,
          43757,
          9947283,
          577861,
          10434399,
          4594589,
          13622143,
          7165068,
          1564779,
          14401208,
          3356513,
          3488239,
          null,
          9642589,
          1280975,
          22736592,
          2420261,
          331986,
          4170040,
          1555639,
          4951367,
          5600983,
          6329832,
          783335,
          1373588,
          23450584,
          320346,
          1364706,
          1042525,
          3195345,
          5423548,
          4523506,
          12724073,
          4939579,
          719235,
          9162879,
          34350212,
          9829368,
          27447500,
          null,
          6145172,
          1658357,
          2374685,
          9332265,
          1783960,
          53893577,
          6833570,
          4560593,
          2325620,
          14457993,
          8473620,
          4605319,
          5698430,
          6926820,
          1950032,
          2996940,
          3352708,
          2377314,
          2613703,
          7760778,
          9653613,
          6792560,
          17818891,
          2091861,
          1314721,
          4733030,
          26825241,
          9056858,
          null,
          7991375,
          7289687,
          10672600,
          107478,
          3834923,
          9089722,
          1380244,
          22191328,
          2421435,
          null,
          14702703,
          18961734,
          858116,
          3191874,
          2789098,
          3499904,
          null,
          2238800,
          27447,
          2155819,
          1303256,
          2856155,
          23294778,
          10905794,
          70136,
          4853989,
          31944368,
          16856108,
          15187905,
          5001874,
          5803307,
          1290402,
          7273837,
          2845828,
          3373385,
          301280,
          8085910,
          32387734,
          3977620,
          1138340,
          6633012,
          5004753,
          4687312,
          12329502,
          13505683,
          9880059,
          5397305,
          5593168,
          9245577,
          2313028,
          30242832,
          5337690,
          3744077,
          3348078,
          14207929,
          1147763,
          6194796,
          4473066,
          3821714,
          3734322,
          3765400,
          8073055,
          4597361,
          7460041,
          1350727,
          1844488,
          4502824,
          5284968,
          6342210,
          2353935,
          null,
          3763514,
          1088254,
          4586982,
          1561117,
          7325853,
          15797112,
          9034128,
          245070,
          19405940,
          4576799,
          4254497,
          null,
          6883098,
          null,
          4604497,
          588714,
          12329698,
          4197238,
          5611808,
          3814446,
          3204946,
          6370057,
          2713199,
          2240222,
          2506643,
          24041010,
          4211245,
          1588374,
          9240,
          1634864,
          744636,
          2453313,
          9141504,
          4185551,
          19183182,
          6993637,
          2035730,
          2358161,
          105091,
          844685,
          10390897,
          1464799,
          20224211,
          3749506,
          20034,
          16210520,
          8840730,
          2083139,
          10151864,
          1334537,
          5529863,
          5874110,
          6074936,
          14577062,
          7039416,
          2295810,
          202551,
          6392969,
          1114218,
          648653,
          7145837,
          1822442,
          10835292,
          10772686,
          7182849,
          3973711,
          5212517,
          7376494,
          7819666,
          1011937,
          18633112,
          7843303,
          7638903,
          1028207,
          1567993,
          11654129,
          2003080,
          4749276,
          2453471,
          25939244,
          3293208,
          1125733,
          815096,
          94878,
          3418639,
          6127072,
          4984527,
          null,
          8679349,
          95242488,
          1770377,
          35554032,
          1819966,
          4392229,
          null,
          1740172,
          9721833,
          26756540,
          null,
          38794,
          4144042,
          16505694,
          6055781,
          150205,
          10588423,
          6443820,
          5093392,
          16417424,
          3071881,
          3610629,
          19453741,
          385727,
          4444561,
          5171564,
          13118735,
          7321176,
          1364494,
          9774127,
          21451584,
          4774704,
          474655,
          3551345,
          18230896,
          3073225,
          6065836,
          12923963,
          1872143,
          37534497,
          6181857,
          18680521,
          10359427,
          14845935,
          5496629,
          10410888,
          11292118,
          2754646,
          8956989,
          18482686,
          4305014,
          2904288,
          3396442,
          7027425,
          5559688,
          6494042,
          6507015,
          9889750,
          324317,
          6667144,
          8431480,
          7175217,
          7934211,
          7917667,
          28223697,
          7023980,
          9803676,
          21110341,
          9447941,
          5627689,
          3157140,
          7268231,
          2416724,
          2383720,
          59741557,
          8709854,
          3091690,
          6832102,
          6327187,
          9328425,
          8625501,
          1171107,
          41519760,
          4934462,
          null,
          1882246,
          835918,
          5523756,
          4201629,
          6660563,
          23920248,
          10079421,
          6594753,
          3659960,
          2578557,
          220969,
          1664967,
          6465309,
          24346193,
          5655411,
          2804921,
          null,
          4189237,
          7244100,
          42787789,
          5267447,
          490205,
          24555996,
          5281151,
          4089609,
          5662782,
          6237,
          7032766,
          4354593,
          1832264,
          2147760,
          18652325,
          697488,
          29353501,
          10854789,
          6268556,
          686103,
          3007026,
          9929143,
          7701184,
          3514305,
          1869469,
          7818368,
          87836,
          7332046,
          8429767,
          10646419,
          847464,
          977191,
          1753196,
          331892,
          938883,
          3944054,
          1617411,
          3639442,
          null,
          1998755,
          4427478,
          86357836,
          494881,
          2974280,
          5056391,
          7588948,
          20038931,
          72416442,
          35218979,
          682277,
          19244940,
          3262869,
          9332979,
          3012661,
          13585942,
          10323508,
          3470086,
          453156,
          2350344,
          6141244,
          3425374,
          7284790,
          1129723,
          5589872,
          14587169,
          629598,
          7222634,
          5145687,
          1634268,
          1969783,
          10292131,
          6280333,
          3118037,
          3926266,
          23275439,
          4462435,
          2942837,
          null,
          3778564,
          1894002,
          5677117,
          92232,
          1677622,
          4157946,
          3975409,
          924567,
          5751567,
          21700793,
          8747607,
          1088448,
          1976901,
          8834014,
          16554665,
          17072045,
          null,
          9451491,
          888323,
          8727689,
          2524340,
          2502719,
          1929784,
          4075599,
          6916199,
          459940,
          29177923,
          12869387,
          3167633,
          2832977,
          13814380,
          3043569,
          1697031,
          3979113,
          3753291,
          13571113,
          4435614,
          4728849,
          null,
          16158355,
          3206764,
          3920738,
          5014693,
          1284199,
          7484956,
          6254866,
          4360525,
          1464113,
          3410880,
          4178789,
          1146887,
          9372295,
          7669858,
          12224006,
          5971260,
          10144422,
          6391470,
          2071667,
          1075186,
          5497917,
          15173536,
          5173451,
          5530357,
          809059,
          7001562,
          4155111,
          3463040,
          15745725,
          1928009,
          13481797,
          1523731,
          1369104,
          null,
          1186127,
          1919048,
          5036901,
          1795571,
          2542063,
          1161679,
          10817591,
          1011872,
          25121613,
          8239547,
          1415106,
          1180283,
          8152895,
          39949637,
          2788482,
          3612842,
          9235209,
          6097099,
          16259782,
          2315873,
          7513114,
          9887839,
          5988263,
          2974183,
          3911031,
          1021406,
          2461933,
          6179632,
          53598248,
          2547522,
          3560335,
          5595842,
          1630244,
          6493856,
          null,
          null,
          18352007,
          10049814,
          6404944,
          5900921,
          202048,
          1336302,
          7441844,
          2182490,
          7777925,
          5953199,
          1681529,
          4160439,
          239888,
          1395117,
          4343275,
          518312,
          10376749,
          null,
          3318856,
          466216,
          8308621,
          3227115,
          3488828,
          1063239,
          2185102,
          810421,
          4145632,
          502313,
          11760794,
          9439613,
          5115202,
          17478889,
          3483393,
          2717864,
          null,
          49878976,
          7765218,
          null,
          1775158,
          120078,
          5236458,
          null,
          15331200,
          7826879,
          19064840,
          901500,
          4351594,
          23031912,
          1287734,
          null,
          4890326,
          5593523,
          null,
          1745877,
          9229704,
          20270254,
          4842182,
          6094398,
          13723691,
          1371826,
          42812,
          4030760,
          1390807,
          1918114,
          null,
          5212075,
          12073659,
          9338621,
          6534789,
          2373660,
          1947381,
          1953585,
          9176582,
          21688843,
          9763286,
          2591534,
          9031552,
          5205741,
          10367214,
          15532707,
          3566160,
          9305365,
          17402,
          790370,
          25981310,
          5070240,
          7212093,
          2278597,
          8151775,
          848864,
          8229032,
          20489124,
          606285,
          15711316,
          5033357,
          22411262,
          8584468,
          3447433,
          6990842,
          485670,
          459392,
          6075282,
          null,
          13681567,
          1791978,
          1825851,
          1711445,
          7360533,
          6363785,
          null,
          27369059,
          3089605,
          2338378,
          13013023,
          8560019,
          2909759,
          10096291,
          4096747,
          43535644,
          472892,
          104802,
          1553677,
          7423832,
          7926735,
          864770,
          174251,
          4945756,
          1004384,
          null,
          5663347,
          2127095,
          1525042,
          8976421,
          1624950,
          null,
          1101610,
          98861,
          8884651,
          1112598,
          5250432,
          null,
          6296101,
          5750269,
          5992138,
          1385198,
          11885354,
          1145220,
          8298073,
          5289006,
          null,
          1458884,
          641193,
          4851627,
          940834,
          6994270,
          5781844,
          9042755,
          1930788,
          6685590,
          null,
          5457083,
          91494,
          5324593,
          470102,
          3488693,
          5658775,
          5070005,
          12987543,
          16630249,
          null,
          8539412,
          3863227,
          12635646,
          1236132,
          944351,
          5626039,
          4221289,
          3502264,
          3929023,
          13006257,
          14622471,
          1947836,
          4465750,
          17860243,
          1006327,
          2790240,
          14568598,
          1331365,
          null,
          334926,
          10061967,
          3700922,
          null,
          4766054,
          5642822,
          11254111,
          null,
          4125114,
          16373622,
          2384751,
          38716599,
          1821972,
          25135885,
          null,
          1409856,
          5184873,
          5330520,
          null,
          4790304,
          98707543,
          1906456,
          2908330,
          17721536,
          9046603,
          5879607,
          15111379,
          6301966,
          40845,
          11373278,
          4069366,
          2452194,
          9115985,
          20872924,
          52644078,
          4357973,
          8765839,
          10921813,
          70240302,
          10007044,
          823673,
          8707124,
          486602,
          8655270,
          726114,
          1358996,
          9925199,
          33138451,
          9309441,
          695860,
          15637816,
          2168511,
          8232221,
          6951618,
          2984912,
          729457,
          10241,
          9453340,
          3179768,
          2379485,
          7333718,
          3388354,
          2425028,
          1446459,
          6602947,
          25076219,
          11056738,
          1116310,
          2968808,
          25054158,
          13114594,
          1568583,
          7047425,
          6635524,
          9087403,
          null,
          10083056,
          4792893,
          5958205,
          10161873,
          6343491,
          1757847,
          10743400,
          23947972,
          6018781,
          5661575,
          8587282,
          2860470,
          1215179,
          12442204,
          2390428,
          16330208,
          38830757,
          4941818,
          1072572,
          59889495,
          3443346,
          3083175,
          5469915,
          18602083,
          1572615,
          2206022,
          7471417,
          75824,
          12078679,
          3916360,
          3656044,
          2663543,
          6106971,
          5348434,
          3947506,
          17943498,
          null,
          5978742,
          2732925,
          15036810,
          3318735,
          28445019,
          2489605,
          1808736,
          1264918,
          4280506,
          55347353,
          2034591,
          null,
          null,
          2094203,
          9700084,
          3189319,
          503135,
          5034642,
          17346682,
          627522,
          1428605,
          1809376,
          182119,
          9510237,
          2514628,
          3439508,
          null,
          10043929,
          72618,
          null,
          3965114,
          5023320,
          1085373,
          5343834,
          1935177,
          null,
          5229838,
          34099422,
          2189387,
          null,
          11636077,
          5859688,
          1573186,
          2608616,
          4653548,
          6049921,
          2890587,
          15410415,
          111034718,
          1071686,
          4585045,
          277718,
          230785,
          12177829,
          2483986,
          3725343,
          7855643,
          5331294,
          9164917,
          5193887,
          15591411,
          3871808,
          3578394,
          8581957,
          1591756,
          6488616,
          156096,
          27387413,
          4119657,
          2633572,
          5527172,
          null,
          4686516,
          3157,
          4055810,
          6018773,
          107322,
          1202266,
          4571444,
          3856502,
          23562,
          10075550,
          8104862,
          9052981,
          3650918,
          3311044,
          19908,
          4643465,
          4953138,
          3497193,
          11792192,
          3447883,
          3370230,
          24813669,
          2929691,
          23630227,
          5724011,
          24607770,
          4683133,
          7836595,
          39344,
          6079522,
          5989185,
          30953915,
          2514329,
          4952781,
          3648603,
          10680996,
          5949798,
          8715648,
          null,
          null,
          2658753,
          5660471,
          7904321,
          11740986,
          6447234,
          6101028,
          6433317,
          3799277,
          15247028,
          6609375,
          null,
          7654660,
          26862868,
          null,
          625362,
          4683782,
          2182520,
          5043667,
          13982331,
          5631256,
          5751059,
          7281441,
          1954499,
          1943763,
          7761920,
          2018610,
          7501634,
          4470264,
          13405582,
          116658,
          1744144,
          7349253,
          1529188,
          243846,
          104706,
          4779343,
          12279054,
          5579617,
          4239195,
          4638587,
          9656714,
          3226254,
          96191971,
          4840739,
          152712,
          2647616,
          13819799,
          9012194,
          4159858,
          5422407,
          7206211,
          1537687,
          1179855,
          19074649,
          4378879,
          14124067,
          10167332,
          16725579,
          3097548,
          1118276,
          6126844,
          4827887,
          1283736,
          3992008,
          687995,
          1642168,
          12321119,
          23408860,
          3667038,
          1295809,
          5119571,
          1135936,
          1337886,
          12051129,
          414113,
          2754608,
          8784842,
          13773057,
          4954834,
          4969532,
          893942,
          null,
          807118,
          4694205,
          10797175,
          9610636,
          7324120,
          3849545,
          null,
          6345300,
          9671495,
          1551121,
          8303854,
          24461236,
          30724895,
          3793883,
          4185398,
          2513154,
          6293614,
          2861296,
          11005381,
          24512092,
          419164,
          6504880,
          7799129,
          29729958,
          22115607,
          4183266,
          3190206,
          5698746,
          8499283,
          null,
          4318414,
          549928,
          10341016,
          21525231,
          11613171,
          2998231,
          4087176,
          34736248,
          10336865,
          5892578,
          7589387,
          9762954,
          1937367,
          8270326,
          5396198,
          5400462,
          4481586,
          1164501,
          7706053,
          6904121,
          6209313,
          6126839,
          5825143,
          11381202,
          55430,
          4910058,
          680253,
          7449553,
          3803744,
          4319232,
          7692744,
          955281,
          5343736,
          5265822,
          10336150,
          760933,
          3672439,
          15955145,
          3493224,
          null,
          5152761,
          2520734,
          4607368,
          960798,
          6134375,
          182147,
          8603298,
          5734786,
          639914,
          null,
          9009096,
          12607283,
          14852774,
          2075485,
          1955380,
          30962118,
          7048355,
          6046580,
          33728949,
          4970972,
          5778479,
          8093022,
          498932,
          4957554,
          null,
          24760234,
          null,
          7159615,
          6616800,
          1859794,
          5130159,
          5585390,
          7427208,
          2547845,
          7186889,
          9618374,
          22385288,
          33987940,
          1994959,
          3565917,
          5341858,
          null,
          2910038,
          null,
          3257935,
          6852760,
          null,
          2609831,
          646687,
          null,
          3387919,
          4620864,
          20474815,
          565950,
          1014174,
          117852,
          5169724,
          null,
          5510879,
          826037,
          6179286,
          4033757,
          6883904,
          18143715,
          3542148,
          2654512,
          9461321,
          null,
          4792985,
          3292800,
          6446433,
          2275988,
          5981499,
          null,
          2904803,
          25311548,
          874266,
          3402011,
          4347087,
          13348687,
          14388798,
          2693921,
          null,
          null,
          25430753,
          4396074,
          4218036,
          794530,
          4367293,
          9442264,
          18319747,
          6278087,
          14504709,
          2608460,
          4706682,
          11333547,
          7563433,
          10520746,
          10037472,
          10101175,
          2537704,
          1374345,
          2159683,
          2341678,
          1678962,
          5186162,
          7067534,
          516157,
          9748407,
          5993164,
          2901556,
          12870321,
          53303384,
          null,
          2481537,
          13980384,
          41229928,
          23025812,
          307578,
          10043096,
          4785841,
          2578238,
          10068672,
          5505254,
          1547262,
          19300127,
          12130022,
          14344087,
          10961939,
          2947015,
          796892,
          9569448,
          7307613,
          31866878,
          3272758,
          6920959,
          7548248,
          2838621,
          6730174,
          1405218,
          2032215,
          27592038,
          2180227,
          4644702,
          1210253,
          15427770,
          28489500,
          3604657,
          32394119,
          6594268,
          12570459,
          6841317,
          31524617,
          3882488,
          13243521,
          18209751,
          8186316,
          4059466,
          5171935,
          3983992,
          null,
          959094,
          5552556,
          956976,
          6051207,
          2011107,
          5510055,
          9846479,
          2289856,
          695046,
          30352788,
          11363554,
          9151762,
          1675460,
          5853439,
          2416739,
          499346,
          6279732,
          5492446,
          3344619,
          1973017,
          3871930,
          695623,
          11184109,
          903714,
          10036484,
          215942,
          2931185,
          3125954,
          1463,
          37576,
          16690436,
          1965940,
          2897788,
          3648322,
          11408514,
          1471351,
          3800917,
          8372141,
          1684296,
          13214534,
          6224202,
          2518717,
          1829137,
          2643271,
          7072436,
          12785281,
          2510932,
          3566292,
          9974086,
          4397675,
          1234639,
          11640066,
          6155430,
          6195178,
          13764108,
          4148547,
          1993209,
          3492400,
          15156160,
          2871917,
          2470143,
          22458947,
          null,
          5794171,
          3886156,
          7699709,
          2880461,
          3529776,
          3613816,
          30774708,
          6014156,
          null,
          523653,
          3555005,
          13751005,
          28016986,
          null,
          12343070,
          14896818,
          4365447,
          5413111,
          7482122,
          5170685,
          6119847,
          3816889,
          7289413,
          1834571,
          307342,
          12326061,
          782064,
          8284055,
          3072210,
          12398376,
          11048668,
          756216,
          2025885,
          8823554,
          4852038,
          null,
          3465276,
          2551081,
          1035104,
          361353,
          33447843,
          18957978,
          11015089,
          1773496,
          14446082,
          7724751,
          17236840,
          1495053,
          null,
          35131768,
          863408,
          8176208,
          1102284,
          3608352,
          3188421,
          11867654,
          8717855,
          2145934,
          23391186,
          null,
          4176117,
          1624855,
          843696,
          6118340,
          4576286,
          113750,
          1795812,
          3058154,
          6194084,
          673890,
          469892,
          708372,
          8830517,
          13660707,
          88787700,
          5237590,
          3340571,
          19264361,
          5869884,
          9855972,
          3573822,
          4225382,
          11545897,
          2068604,
          10563090,
          5790423,
          6027210,
          3427405,
          2114102,
          5922372,
          3800640,
          1696634,
          12773166,
          4128851,
          53597030,
          9763661,
          1496756,
          389424,
          531388,
          375746,
          6668908,
          15289068,
          16068282,
          null,
          6774217,
          6657812,
          43455116,
          531912,
          6960694,
          5252129,
          4819894,
          23863833,
          888667,
          null,
          5837355,
          18032130,
          3098544,
          1813127,
          11095151,
          3415298,
          2498295,
          898251,
          2677593,
          5305982,
          8610128,
          5167583,
          21677828,
          9479480,
          2448507,
          5670997,
          5370591,
          2460410,
          2865842,
          5580880,
          227319,
          5421972,
          8670282,
          1751285,
          1406826,
          3664358,
          1092077,
          11945607,
          3610488,
          923524,
          3980200,
          3600558,
          5031248,
          4723674,
          null,
          10895350,
          9575311,
          4803920,
          25777434,
          28810156,
          12179220,
          6047532,
          1147461,
          975251,
          2365172,
          1894566,
          4450985,
          27594,
          35970253,
          6727192,
          1056601,
          4153425,
          2391322,
          3917004,
          539133,
          6486879,
          1594421,
          1607355,
          3092130,
          7883676,
          2678972,
          8351,
          4718727,
          2332257,
          4404609,
          9345744,
          2891904,
          23552143,
          8636794,
          6243125,
          488816,
          null,
          250501,
          1744084,
          3647788,
          11281168,
          1720872,
          17460100,
          9978234,
          436276,
          4259248,
          9859745,
          9312856,
          5119355,
          2221560,
          5871912,
          2133814,
          2014207,
          82445,
          982498,
          5814472,
          8906798,
          7986404,
          6008269,
          64344,
          1043277,
          307069,
          8193698,
          3009867,
          589119,
          10799972,
          10125148,
          1948762,
          3270058,
          5579202,
          7557566,
          null,
          2144416,
          2485147,
          26744085,
          258049,
          7695455,
          8182943,
          5555458,
          1569417,
          8353871,
          11520998,
          6920102,
          5234926,
          968565,
          3015319,
          26498324,
          359142,
          4952955,
          8082378,
          5369462,
          6720574,
          12439009,
          3803240,
          2104927,
          21802659,
          7830917,
          13173293,
          5085923,
          6057457,
          11622928,
          4417618,
          12838015,
          3553208,
          5053477,
          7267448,
          5825010,
          2790207,
          1786206,
          4145478,
          7135590,
          30569705,
          96501946,
          28211602,
          6182172,
          341654,
          2979227,
          922607,
          685097,
          2830016,
          879719,
          2559350,
          null,
          4125017,
          9915710,
          4594268,
          8239918,
          8191786,
          1404421,
          2847023,
          6048828,
          5286023,
          7927232,
          2365798,
          2701127,
          5703693,
          6785208,
          2292830,
          9987970,
          2160855,
          1931965,
          1325203,
          12135278,
          1183244,
          2135658,
          13459771,
          5470625,
          1673230,
          3543520,
          37862615,
          10289575,
          4124294,
          4136032,
          4000839,
          null,
          2228453,
          3446243,
          36494253,
          9018284,
          23922859,
          3568423,
          12060799,
          1065979,
          3685597,
          5422235,
          268245,
          1032071,
          1459076,
          2578579,
          null,
          2127723,
          9997145,
          12834117,
          5749915,
          3245424,
          5961561,
          3822202,
          2885230,
          6163133,
          1375897,
          186231,
          933096,
          10503488,
          16514989,
          7136218,
          3237441,
          2498186,
          5448942,
          4135210,
          94619,
          925918
         ],
         "y0": " ",
         "yaxis": "y"
        }
       ],
       "layout": {
        "boxmode": "group",
        "legend": {
         "title": {
          "text": "Emission Type"
         },
         "tracegroupgap": 0
        },
        "template": {
         "data": {
          "bar": [
           {
            "error_x": {
             "color": "#2a3f5f"
            },
            "error_y": {
             "color": "#2a3f5f"
            },
            "marker": {
             "line": {
              "color": "#E5ECF6",
              "width": 0.5
             },
             "pattern": {
              "fillmode": "overlay",
              "size": 10,
              "solidity": 0.2
             }
            },
            "type": "bar"
           }
          ],
          "barpolar": [
           {
            "marker": {
             "line": {
              "color": "#E5ECF6",
              "width": 0.5
             },
             "pattern": {
              "fillmode": "overlay",
              "size": 10,
              "solidity": 0.2
             }
            },
            "type": "barpolar"
           }
          ],
          "carpet": [
           {
            "aaxis": {
             "endlinecolor": "#2a3f5f",
             "gridcolor": "white",
             "linecolor": "white",
             "minorgridcolor": "white",
             "startlinecolor": "#2a3f5f"
            },
            "baxis": {
             "endlinecolor": "#2a3f5f",
             "gridcolor": "white",
             "linecolor": "white",
             "minorgridcolor": "white",
             "startlinecolor": "#2a3f5f"
            },
            "type": "carpet"
           }
          ],
          "choropleth": [
           {
            "colorbar": {
             "outlinewidth": 0,
             "ticks": ""
            },
            "type": "choropleth"
           }
          ],
          "contour": [
           {
            "colorbar": {
             "outlinewidth": 0,
             "ticks": ""
            },
            "colorscale": [
             [
              0,
              "#0d0887"
             ],
             [
              0.1111111111111111,
              "#46039f"
             ],
             [
              0.2222222222222222,
              "#7201a8"
             ],
             [
              0.3333333333333333,
              "#9c179e"
             ],
             [
              0.4444444444444444,
              "#bd3786"
             ],
             [
              0.5555555555555556,
              "#d8576b"
             ],
             [
              0.6666666666666666,
              "#ed7953"
             ],
             [
              0.7777777777777778,
              "#fb9f3a"
             ],
             [
              0.8888888888888888,
              "#fdca26"
             ],
             [
              1,
              "#f0f921"
             ]
            ],
            "type": "contour"
           }
          ],
          "contourcarpet": [
           {
            "colorbar": {
             "outlinewidth": 0,
             "ticks": ""
            },
            "type": "contourcarpet"
           }
          ],
          "heatmap": [
           {
            "colorbar": {
             "outlinewidth": 0,
             "ticks": ""
            },
            "colorscale": [
             [
              0,
              "#0d0887"
             ],
             [
              0.1111111111111111,
              "#46039f"
             ],
             [
              0.2222222222222222,
              "#7201a8"
             ],
             [
              0.3333333333333333,
              "#9c179e"
             ],
             [
              0.4444444444444444,
              "#bd3786"
             ],
             [
              0.5555555555555556,
              "#d8576b"
             ],
             [
              0.6666666666666666,
              "#ed7953"
             ],
             [
              0.7777777777777778,
              "#fb9f3a"
             ],
             [
              0.8888888888888888,
              "#fdca26"
             ],
             [
              1,
              "#f0f921"
             ]
            ],
            "type": "heatmap"
           }
          ],
          "heatmapgl": [
           {
            "colorbar": {
             "outlinewidth": 0,
             "ticks": ""
            },
            "colorscale": [
             [
              0,
              "#0d0887"
             ],
             [
              0.1111111111111111,
              "#46039f"
             ],
             [
              0.2222222222222222,
              "#7201a8"
             ],
             [
              0.3333333333333333,
              "#9c179e"
             ],
             [
              0.4444444444444444,
              "#bd3786"
             ],
             [
              0.5555555555555556,
              "#d8576b"
             ],
             [
              0.6666666666666666,
              "#ed7953"
             ],
             [
              0.7777777777777778,
              "#fb9f3a"
             ],
             [
              0.8888888888888888,
              "#fdca26"
             ],
             [
              1,
              "#f0f921"
             ]
            ],
            "type": "heatmapgl"
           }
          ],
          "histogram": [
           {
            "marker": {
             "pattern": {
              "fillmode": "overlay",
              "size": 10,
              "solidity": 0.2
             }
            },
            "type": "histogram"
           }
          ],
          "histogram2d": [
           {
            "colorbar": {
             "outlinewidth": 0,
             "ticks": ""
            },
            "colorscale": [
             [
              0,
              "#0d0887"
             ],
             [
              0.1111111111111111,
              "#46039f"
             ],
             [
              0.2222222222222222,
              "#7201a8"
             ],
             [
              0.3333333333333333,
              "#9c179e"
             ],
             [
              0.4444444444444444,
              "#bd3786"
             ],
             [
              0.5555555555555556,
              "#d8576b"
             ],
             [
              0.6666666666666666,
              "#ed7953"
             ],
             [
              0.7777777777777778,
              "#fb9f3a"
             ],
             [
              0.8888888888888888,
              "#fdca26"
             ],
             [
              1,
              "#f0f921"
             ]
            ],
            "type": "histogram2d"
           }
          ],
          "histogram2dcontour": [
           {
            "colorbar": {
             "outlinewidth": 0,
             "ticks": ""
            },
            "colorscale": [
             [
              0,
              "#0d0887"
             ],
             [
              0.1111111111111111,
              "#46039f"
             ],
             [
              0.2222222222222222,
              "#7201a8"
             ],
             [
              0.3333333333333333,
              "#9c179e"
             ],
             [
              0.4444444444444444,
              "#bd3786"
             ],
             [
              0.5555555555555556,
              "#d8576b"
             ],
             [
              0.6666666666666666,
              "#ed7953"
             ],
             [
              0.7777777777777778,
              "#fb9f3a"
             ],
             [
              0.8888888888888888,
              "#fdca26"
             ],
             [
              1,
              "#f0f921"
             ]
            ],
            "type": "histogram2dcontour"
           }
          ],
          "mesh3d": [
           {
            "colorbar": {
             "outlinewidth": 0,
             "ticks": ""
            },
            "type": "mesh3d"
           }
          ],
          "parcoords": [
           {
            "line": {
             "colorbar": {
              "outlinewidth": 0,
              "ticks": ""
             }
            },
            "type": "parcoords"
           }
          ],
          "pie": [
           {
            "automargin": true,
            "type": "pie"
           }
          ],
          "scatter": [
           {
            "fillpattern": {
             "fillmode": "overlay",
             "size": 10,
             "solidity": 0.2
            },
            "type": "scatter"
           }
          ],
          "scatter3d": [
           {
            "line": {
             "colorbar": {
              "outlinewidth": 0,
              "ticks": ""
             }
            },
            "marker": {
             "colorbar": {
              "outlinewidth": 0,
              "ticks": ""
             }
            },
            "type": "scatter3d"
           }
          ],
          "scattercarpet": [
           {
            "marker": {
             "colorbar": {
              "outlinewidth": 0,
              "ticks": ""
             }
            },
            "type": "scattercarpet"
           }
          ],
          "scattergeo": [
           {
            "marker": {
             "colorbar": {
              "outlinewidth": 0,
              "ticks": ""
             }
            },
            "type": "scattergeo"
           }
          ],
          "scattergl": [
           {
            "marker": {
             "colorbar": {
              "outlinewidth": 0,
              "ticks": ""
             }
            },
            "type": "scattergl"
           }
          ],
          "scattermapbox": [
           {
            "marker": {
             "colorbar": {
              "outlinewidth": 0,
              "ticks": ""
             }
            },
            "type": "scattermapbox"
           }
          ],
          "scatterpolar": [
           {
            "marker": {
             "colorbar": {
              "outlinewidth": 0,
              "ticks": ""
             }
            },
            "type": "scatterpolar"
           }
          ],
          "scatterpolargl": [
           {
            "marker": {
             "colorbar": {
              "outlinewidth": 0,
              "ticks": ""
             }
            },
            "type": "scatterpolargl"
           }
          ],
          "scatterternary": [
           {
            "marker": {
             "colorbar": {
              "outlinewidth": 0,
              "ticks": ""
             }
            },
            "type": "scatterternary"
           }
          ],
          "surface": [
           {
            "colorbar": {
             "outlinewidth": 0,
             "ticks": ""
            },
            "colorscale": [
             [
              0,
              "#0d0887"
             ],
             [
              0.1111111111111111,
              "#46039f"
             ],
             [
              0.2222222222222222,
              "#7201a8"
             ],
             [
              0.3333333333333333,
              "#9c179e"
             ],
             [
              0.4444444444444444,
              "#bd3786"
             ],
             [
              0.5555555555555556,
              "#d8576b"
             ],
             [
              0.6666666666666666,
              "#ed7953"
             ],
             [
              0.7777777777777778,
              "#fb9f3a"
             ],
             [
              0.8888888888888888,
              "#fdca26"
             ],
             [
              1,
              "#f0f921"
             ]
            ],
            "type": "surface"
           }
          ],
          "table": [
           {
            "cells": {
             "fill": {
              "color": "#EBF0F8"
             },
             "line": {
              "color": "white"
             }
            },
            "header": {
             "fill": {
              "color": "#C8D4E3"
             },
             "line": {
              "color": "white"
             }
            },
            "type": "table"
           }
          ]
         },
         "layout": {
          "annotationdefaults": {
           "arrowcolor": "#2a3f5f",
           "arrowhead": 0,
           "arrowwidth": 1
          },
          "autotypenumbers": "strict",
          "coloraxis": {
           "colorbar": {
            "outlinewidth": 0,
            "ticks": ""
           }
          },
          "colorscale": {
           "diverging": [
            [
             0,
             "#8e0152"
            ],
            [
             0.1,
             "#c51b7d"
            ],
            [
             0.2,
             "#de77ae"
            ],
            [
             0.3,
             "#f1b6da"
            ],
            [
             0.4,
             "#fde0ef"
            ],
            [
             0.5,
             "#f7f7f7"
            ],
            [
             0.6,
             "#e6f5d0"
            ],
            [
             0.7,
             "#b8e186"
            ],
            [
             0.8,
             "#7fbc41"
            ],
            [
             0.9,
             "#4d9221"
            ],
            [
             1,
             "#276419"
            ]
           ],
           "sequential": [
            [
             0,
             "#0d0887"
            ],
            [
             0.1111111111111111,
             "#46039f"
            ],
            [
             0.2222222222222222,
             "#7201a8"
            ],
            [
             0.3333333333333333,
             "#9c179e"
            ],
            [
             0.4444444444444444,
             "#bd3786"
            ],
            [
             0.5555555555555556,
             "#d8576b"
            ],
            [
             0.6666666666666666,
             "#ed7953"
            ],
            [
             0.7777777777777778,
             "#fb9f3a"
            ],
            [
             0.8888888888888888,
             "#fdca26"
            ],
            [
             1,
             "#f0f921"
            ]
           ],
           "sequentialminus": [
            [
             0,
             "#0d0887"
            ],
            [
             0.1111111111111111,
             "#46039f"
            ],
            [
             0.2222222222222222,
             "#7201a8"
            ],
            [
             0.3333333333333333,
             "#9c179e"
            ],
            [
             0.4444444444444444,
             "#bd3786"
            ],
            [
             0.5555555555555556,
             "#d8576b"
            ],
            [
             0.6666666666666666,
             "#ed7953"
            ],
            [
             0.7777777777777778,
             "#fb9f3a"
            ],
            [
             0.8888888888888888,
             "#fdca26"
            ],
            [
             1,
             "#f0f921"
            ]
           ]
          },
          "colorway": [
           "#636efa",
           "#EF553B",
           "#00cc96",
           "#ab63fa",
           "#FFA15A",
           "#19d3f3",
           "#FF6692",
           "#B6E880",
           "#FF97FF",
           "#FECB52"
          ],
          "font": {
           "color": "#2a3f5f"
          },
          "geo": {
           "bgcolor": "white",
           "lakecolor": "white",
           "landcolor": "#E5ECF6",
           "showlakes": true,
           "showland": true,
           "subunitcolor": "white"
          },
          "hoverlabel": {
           "align": "left"
          },
          "hovermode": "closest",
          "mapbox": {
           "style": "light"
          },
          "paper_bgcolor": "white",
          "plot_bgcolor": "#E5ECF6",
          "polar": {
           "angularaxis": {
            "gridcolor": "white",
            "linecolor": "white",
            "ticks": ""
           },
           "bgcolor": "#E5ECF6",
           "radialaxis": {
            "gridcolor": "white",
            "linecolor": "white",
            "ticks": ""
           }
          },
          "scene": {
           "xaxis": {
            "backgroundcolor": "#E5ECF6",
            "gridcolor": "white",
            "gridwidth": 2,
            "linecolor": "white",
            "showbackground": true,
            "ticks": "",
            "zerolinecolor": "white"
           },
           "yaxis": {
            "backgroundcolor": "#E5ECF6",
            "gridcolor": "white",
            "gridwidth": 2,
            "linecolor": "white",
            "showbackground": true,
            "ticks": "",
            "zerolinecolor": "white"
           },
           "zaxis": {
            "backgroundcolor": "#E5ECF6",
            "gridcolor": "white",
            "gridwidth": 2,
            "linecolor": "white",
            "showbackground": true,
            "ticks": "",
            "zerolinecolor": "white"
           }
          },
          "shapedefaults": {
           "line": {
            "color": "#2a3f5f"
           }
          },
          "ternary": {
           "aaxis": {
            "gridcolor": "white",
            "linecolor": "white",
            "ticks": ""
           },
           "baxis": {
            "gridcolor": "white",
            "linecolor": "white",
            "ticks": ""
           },
           "bgcolor": "#E5ECF6",
           "caxis": {
            "gridcolor": "white",
            "linecolor": "white",
            "ticks": ""
           }
          },
          "title": {
           "x": 0.05
          },
          "xaxis": {
           "automargin": true,
           "gridcolor": "white",
           "linecolor": "white",
           "ticks": "",
           "title": {
            "standoff": 15
           },
           "zerolinecolor": "white",
           "zerolinewidth": 2
          },
          "yaxis": {
           "automargin": true,
           "gridcolor": "white",
           "linecolor": "white",
           "ticks": "",
           "title": {
            "standoff": 15
           },
           "zerolinecolor": "white",
           "zerolinewidth": 2
          }
         }
        },
        "title": {
         "text": "Operational vs embodied emissions of municipalities"
        },
        "width": 1000,
        "xaxis": {
         "anchor": "y",
         "domain": [
          0,
          1
         ],
         "title": {
          "text": "Year"
         }
        },
        "yaxis": {
         "anchor": "x",
         "domain": [
          0,
          1
         ],
         "title": {
          "text": "Emissions (kgCO2eq)"
         }
        }
       }
      }
     },
     "metadata": {},
     "output_type": "display_data"
    }
   ],
   "source": [
    "query = '''\n",
    "SELECT year, municipality, \n",
    "\tSUM(emissions_operational) AS operational, \n",
    "\tSUM(emissions_embodied) AS embodied\n",
    "FROM emissions_all\n",
    "WHERE year IS NOT NULL\n",
    "GROUP BY year, municipality\n",
    "''' \n",
    "df = pd.read_sql_query(query, engine)\n",
    "df_long = df.melt(id_vars=['year', 'municipality'], value_vars=['operational', 'embodied'],\n",
    "                  var_name='type', value_name='emissions')\n",
    "fig = px.box(df_long, x='year', y='emissions', color='type', # points=False, \n",
    "             title=\"Operational vs embodied emissions of municipalities\",\n",
    "             labels={'emissions': 'Emissions (kgCO2eq)', 'year': 'Year', 'type': 'Emission Type'})\n",
    "fig.update_layout(width=1000)\n",
    "fig.show()"
   ]
  },
  {
   "cell_type": "code",
   "execution_count": 43,
   "metadata": {},
   "outputs": [
    {
     "data": {
      "application/vnd.plotly.v1+json": {
       "config": {
        "plotlyServerURL": "https://plot.ly"
       },
       "data": [
        {
         "hovertemplate": "<b>%{hovertext}</b><br><br>municipality_type=high operational, high embodied<br>operational=%{x}<br>embodied=%{y}<extra></extra>",
         "hovertext": [
          "'s-Gravenhage",
          "'s-Hertogenbosch",
          "Almelo",
          "Alphen aan den Rijn",
          "Amersfoort",
          "Apeldoorn",
          "Arnhem",
          "Assen",
          "Barneveld",
          "Bergen op Zoom",
          "Breda",
          "Delft",
          "Deventer",
          "Doetinchem",
          "Dordrecht",
          "Ede",
          "Eindhoven",
          "Emmen",
          "Enschede",
          "Gouda",
          "Groningen",
          "Haarlem",
          "Haarlemmermeer",
          "Hardenberg",
          "Heerenveen",
          "Heerlen",
          "Helmond",
          "Heusden",
          "Hilversum",
          "Hoogeveen",
          "Hoorn",
          "Horst aan de Maas",
          "Katwijk",
          "Kerkrade",
          "Lansingerland",
          "Leeuwarden",
          "Leiden",
          "Maastricht",
          "Nijmegen",
          "Oosterhout",
          "Oss",
          "Peel en Maas",
          "Roermond",
          "Roosendaal",
          "Rotterdam",
          "Sittard-Geleen",
          "Smallingerland",
          "Soest",
          "Súdwest-Fryslân",
          "Tilburg",
          "Utrecht",
          "Veldhoven",
          "Velsen",
          "Venlo",
          "Vlaardingen",
          "Waalwijk",
          "Weert",
          "Westland",
          "Woerden",
          "Zaanstad",
          "Zeist",
          "Zoetermeer",
          "Zwolle"
         ],
         "legendgroup": "high operational, high embodied",
         "marker": {
          "color": "#636efa",
          "symbol": "circle"
         },
         "mode": "markers",
         "name": "high operational, high embodied",
         "orientation": "v",
         "showlegend": true,
         "type": "scatter",
         "x": [
          8179150877.5,
          2617338262.5,
          1276567527.5,
          1615896127.5,
          2333333212.5,
          2894626767.5,
          2582913352.5,
          1170876722.5,
          967454682.5,
          1129283770,
          2930568387.5,
          1698261052.5,
          1666079447.5,
          1008916210,
          1905567507.5,
          1923741562.5,
          4057351887.5,
          2145780415,
          2747817207.5,
          1082002335,
          4249970275,
          2709763197.5,
          2402445060,
          1115714317.5,
          888592320,
          1657385165,
          1352917105,
          812429727.5,
          1699927697.5,
          996644767.5,
          1172709160,
          847656062.5,
          940591952.5,
          908757582.5,
          877270662.5,
          1988540102.5,
          2007023547.5,
          2449274437.5,
          3203460927.5,
          942080227.5,
          1669102745,
          864855610,
          1072818267.5,
          1389397642.5,
          8784480815,
          1804199492.5,
          988278752.5,
          893737067.5,
          1362257395,
          3095088230,
          4656128417.5,
          820461892.5,
          1125112000,
          1900958842.5,
          1118756782.5,
          858393837.5,
          936787032.5,
          1758333672.5,
          835269477.5,
          2451880097.5,
          1188895092.5,
          1823007430,
          2029764100
         ],
         "xaxis": "x",
         "y": [
          499295535,
          250924822,
          89800853,
          158812532,
          264734912,
          323772517,
          265140538,
          100098088,
          198179533,
          119340530,
          305828727,
          157307539,
          83846401,
          85101817,
          116277396,
          300648995,
          118853605,
          187121747,
          269332847,
          112288249,
          432361928,
          140853808,
          253236722,
          105913504,
          110626889,
          99581202,
          233980000,
          98847368,
          119508316,
          131852160,
          103590705,
          143981038,
          158075352,
          92229184,
          101265131,
          170768285,
          235748668,
          168535197,
          276548634,
          135135600,
          187073394,
          111926296,
          115972640,
          73257577,
          609144037,
          116453291,
          79964201,
          73904090,
          134554584,
          204180084,
          582434445,
          86375191,
          77166873,
          124159256,
          127040783,
          85156172,
          121804809,
          190681922,
          91547113,
          193560261,
          195936819,
          101605722,
          239950231
         ],
         "yaxis": "y"
        },
        {
         "hovertemplate": "<b>%{hovertext}</b><br><br>municipality_type=low operational, low embodied<br>operational=%{x}<br>embodied=%{y}<extra></extra>",
         "hovertext": [
          "Aa en Hunze",
          "Aalsmeer",
          "Aalten",
          "Achtkarspelen",
          "Alblasserdam",
          "Albrandswaard",
          "Alphen-Chaam",
          "Altena",
          "Ameland",
          "Amsterdam",
          "Asten",
          "Baarle-Nassau",
          "Baarn",
          "Barendrecht",
          "Beekdaelen",
          "Beesel",
          "Berg en Dal",
          "Bergeijk",
          "Bergen (L.)",
          "Bergen (NH.)",
          "Bernheze",
          "Beuningen",
          "Beverwijk",
          "Bladel",
          "Blaricum",
          "Bloemendaal",
          "Bodegraven-Reeuwijk",
          "Boekel",
          "Borger-Odoorn",
          "Borsele",
          "Boxtel",
          "Brummen",
          "Brunssum",
          "Bunnik",
          "Bunschoten",
          "Buren",
          "Capelle aan den IJssel",
          "Cranendonck",
          "Culemborg",
          "Dalfsen",
          "Dantumadiel",
          "De Fryske Marren",
          "De Ronde Venen",
          "De Wolden",
          "Diemen",
          "Dinkelland",
          "Doesburg",
          "Dongen",
          "Drechterland",
          "Drimmelen",
          "Druten",
          "Duiven",
          "Echt-Susteren",
          "Edam-Volendam",
          "Eemnes",
          "Eemsdelta",
          "Eersel",
          "Elburg",
          "Enkhuizen",
          "Epe",
          "Ermelo",
          "Etten-Leur",
          "Geertruidenberg",
          "Geldrop-Mierlo",
          "Gemert-Bakel",
          "Gennep",
          "Gilze en Rijen",
          "Goes",
          "Goirle",
          "Gooise Meren",
          "Gulpen-Wittem",
          "Haaksbergen",
          "Halderberge",
          "Hardinxveld-Giessendam",
          "Harlingen",
          "Hattem",
          "Heemskerk",
          "Heemstede",
          "Heerde",
          "Heeze-Leende",
          "Heiloo",
          "Hellendoorn",
          "Hendrik-Ido-Ambacht",
          "Het Hogeland",
          "Heumen",
          "Hillegom",
          "Hilvarenbeek",
          "Hoeksche Waard",
          "Houten",
          "Huizen",
          "Hulst",
          "IJsselstein",
          "Kapelle",
          "Koggenland",
          "Krimpen aan den IJssel",
          "Laarbeek",
          "Landgraaf",
          "Landsmeer",
          "Leiderdorp",
          "Leusden",
          "Lisse",
          "Loon op Zand",
          "Lopik",
          "Losser",
          "Maasdriel",
          "Maasgouw",
          "Maassluis",
          "Medemblik",
          "Meerssen",
          "Meppel",
          "Midden-Delfland",
          "Midden-Drenthe",
          "Midden-Groningen",
          "Molenlanden",
          "Montfoort",
          "Mook en Middelaar",
          "Neder-Betuwe",
          "Nederweert",
          "Nieuwegein",
          "Nieuwkoop",
          "Nijkerk",
          "Noardeast-Fryslân",
          "Noord-Beveland",
          "Noordenveld",
          "Noordwijk",
          "Nunspeet",
          "Oegstgeest",
          "Oirschot",
          "Oisterwijk",
          "Oldebroek",
          "Oldenzaal",
          "Olst-Wijhe",
          "Ommen",
          "Ooststellingwerf",
          "Oostzaan",
          "Opmeer",
          "Opsterland",
          "Oude IJsselstreek",
          "Ouder-Amstel",
          "Oudewater",
          "Papendrecht",
          "Pekela",
          "Putten",
          "Raalte",
          "Reimerswaal",
          "Renkum",
          "Renswoude",
          "Reusel-De Mierden",
          "Rhenen",
          "Ridderkerk",
          "Rijssen-Holten",
          "Roerdalen",
          "Rozendaal",
          "Rucphen",
          "Schagen",
          "Scherpenzeel",
          "Schiermonnikoog",
          "Schouwen-Duiveland",
          "Simpelveld",
          "Sliedrecht",
          "Sluis",
          "Someren",
          "Son en Breugel",
          "Stadskanaal",
          "Staphorst",
          "Stede Broec",
          "Steenbergen",
          "Terschelling",
          "Texel",
          "Teylingen",
          "Tholen",
          "Tiel",
          "Tubbergen",
          "Twenterand",
          "Tynaarlo",
          "Tytsjerksteradiel",
          "Uitgeest",
          "Uithoorn",
          "Urk",
          "Vaals",
          "Valkenburg aan de Geul",
          "Veendam",
          "Veere",
          "Vijfheerenlanden",
          "Vlieland",
          "Vlissingen",
          "Voerendaal",
          "Voorschoten",
          "Voorst",
          "Vught",
          "Waadhoeke",
          "Waalre",
          "Wageningen",
          "Wassenaar",
          "Waterland",
          "West Betuwe",
          "West Maas en Waal",
          "Westerkwartier",
          "Westerveld",
          "Westervoort",
          "Westerwolde",
          "Weststellingwerf",
          "Wierden",
          "Wijchen",
          "Wijdemeren",
          "Wijk bij Duurstede",
          "Winterswijk",
          "Woensdrecht",
          "Wormerland",
          "Woudenberg",
          "Zandvoort",
          "Zeewolde",
          "Zevenaar",
          "Zoeterwoude",
          "Zundert",
          "Zwartewaterland",
          "Zwijndrecht"
         ],
         "legendgroup": "low operational, low embodied",
         "marker": {
          "color": "#EF553B",
          "symbol": "circle"
         },
         "mode": "markers",
         "name": "low operational, low embodied",
         "orientation": "v",
         "showlegend": true,
         "type": "scatter",
         "x": [
          571495257.5,
          547083275,
          490043847.5,
          517165232.5,
          286575937.5,
          392878725,
          213664810,
          279489315,
          78939245,
          12234188835,
          335660562.5,
          151156470,
          495404472.5,
          701208600,
          217299510,
          254299602.5,
          396394385,
          379479770,
          265148742.5,
          641399732.5,
          581565850,
          462794110,
          660415107.5,
          381196165,
          246686742.5,
          540323955,
          563028737.5,
          197001190,
          565004800,
          379576430,
          557913145,
          406418680,
          536599360,
          282601725,
          349895977.5,
          534670870,
          792179600,
          418166270,
          418605247.5,
          536550622.5,
          344863532.5,
          548928080,
          803358817.5,
          515347335,
          406838365,
          551873235,
          194624595,
          454531582.5,
          357163125,
          500067807.5,
          326559177.5,
          267906975,
          650703225,
          626221572.5,
          168051930,
          91733122.5,
          372897212.5,
          391488030,
          313495197.5,
          676832640,
          490666495,
          699279255,
          357356257.5,
          740068990,
          573111490,
          320540187.5,
          465448137.5,
          611444272.5,
          427319440,
          686189045,
          301557015,
          472867080,
          573934215,
          266418492.5,
          280548340,
          219496600,
          627618867.5,
          541870880,
          356684180,
          325921560,
          436981385,
          665510367.5,
          434970530,
          271349740,
          319212090,
          359479617.5,
          309400905,
          418577522.5,
          646556217.5,
          742518467.5,
          515808417.5,
          522884545,
          205089755,
          394489155,
          471081732.5,
          425365172.5,
          729343935,
          207604562.5,
          431393297.5,
          522637732.5,
          377314505,
          432047240,
          251193905,
          447688735,
          499840440,
          506267205,
          491198017.5,
          794055742.5,
          410828785,
          572957312.5,
          288832340,
          686856760,
          462501247.5,
          202706905,
          235169380,
          169950615,
          406827280,
          348390690,
          669195242.5,
          485578037.5,
          718365572.5,
          161363430,
          132654225,
          647164065,
          551134780,
          486508842.5,
          403968862.5,
          362807957.5,
          534559227.5,
          409654082.5,
          600860720,
          333600020,
          348690042.5,
          513179532.5,
          165998827.5,
          202853825,
          565872040,
          750903087.5,
          227098482.5,
          174250480,
          474283062.5,
          267180310,
          455662385,
          682653407.5,
          347489322.5,
          649814745,
          88786322.5,
          262245847.5,
          360267970,
          722979095,
          654959187.5,
          440019657.5,
          42007835,
          492615897.5,
          776962842.5,
          166575717.5,
          23320615,
          635420357.5,
          217219150,
          356216455,
          446029580,
          378926365,
          341675157.5,
          666226105,
          297844680,
          364766882.5,
          465789070,
          113166767.5,
          268513687.5,
          597884092.5,
          412596627.5,
          706541027.5,
          434998065,
          607832245,
          693405307.5,
          580323380,
          218257387.5,
          482207197.5,
          274761717.5,
          206515202.5,
          351361517.5,
          568293370,
          382500092.5,
          259019277.5,
          24302825,
          726386342.5,
          265048895,
          432852220,
          469040335,
          503311457.5,
          325772715,
          360729420,
          712379062.5,
          618345425,
          326257520,
          266962035,
          385295347.5,
          350246892.5,
          423196700,
          193155950,
          218205895,
          501371777.5,
          461117037.5,
          718513680,
          487662727.5,
          403598665,
          554149920,
          425411185,
          277898022.5,
          219064667.5,
          322589560,
          300372197.5,
          661726610,
          131431910,
          473339567.5,
          359733795,
          713383467.5
         ],
         "xaxis": "x",
         "y": [
          44857924,
          52510945,
          41651030,
          42861118,
          21188202,
          14766341,
          1918114,
          33418246,
          10429181,
          null,
          10335499,
          1864956,
          28787609,
          32252408,
          24515772,
          24546567,
          36188133,
          32144860,
          18618645,
          54166041,
          56715041,
          41261114,
          59994866,
          50143125,
          20138351,
          57676517,
          25069066,
          44520057,
          8340343,
          22041408,
          46801929,
          34332343,
          48975995,
          40028058,
          57874129,
          57987671,
          24443393,
          45632065,
          24290534,
          51098588,
          26366515,
          54663837,
          53744832,
          54259504,
          11663150,
          59022044,
          7800597,
          59405294,
          20840925,
          17292244,
          51796726,
          12648719,
          37793958,
          55848982,
          12700189,
          18145329,
          60560425,
          33525664,
          15417520,
          38136109,
          29108431,
          57187617,
          15537431,
          60649415,
          51404275,
          34296588,
          6043413,
          63143051,
          32895338,
          48548471,
          22657802,
          54170530,
          51389035,
          979047,
          20817276,
          56868004,
          43202765,
          36424417,
          40987423,
          60357613,
          55230785,
          49568767,
          61901939,
          16735165,
          22746188,
          16724638,
          65525263,
          37504251,
          63862796,
          26446200,
          22700150,
          30690820,
          23380937,
          15749709,
          29472893,
          50765554,
          58832753,
          768397,
          23136452,
          34881085,
          4457276,
          38211860,
          23821864,
          53956490,
          49518552,
          43477769,
          68167750,
          32475915,
          43973404,
          34738754,
          50480632,
          49212522,
          31961737,
          40694638,
          9267372,
          18054880,
          55009945,
          39494910,
          27338584,
          68167828,
          57561716,
          20534030,
          22808663,
          50851846,
          33445488,
          41826244,
          null,
          59507710,
          52076486,
          63803415,
          37812062,
          42065469,
          33362833,
          23277014,
          10615967,
          402740,
          22057385,
          59593867,
          20015317,
          16427082,
          null,
          13899228,
          60613367,
          32394350,
          52333879,
          23716827,
          19313154,
          38792573,
          40717794,
          54367140,
          21626434,
          22905120,
          6127057,
          39966121,
          32707152,
          26834550,
          2728817,
          67440339,
          21672510,
          47888388,
          39096076,
          67325440,
          29553379,
          31972715,
          52599878,
          3053598,
          27969372,
          9904686,
          42047000,
          3267500,
          46175933,
          50954234,
          49993570,
          36669981,
          39323045,
          58119369,
          13494407,
          61923749,
          38455782,
          25641932,
          26335251,
          23816704,
          26753879,
          26494786,
          4040549,
          58727609,
          37297204,
          24853658,
          64652818,
          67658355,
          25996045,
          29522014,
          17207120,
          48821716,
          9472550,
          32279016,
          64348289,
          55564646,
          36344679,
          15118366,
          14308081,
          20929610,
          37491582,
          62493165,
          44308753,
          40381171,
          47320805,
          34734468,
          16973520,
          14320590,
          13174653,
          23381755,
          58937742,
          27927093,
          36091476,
          37045405,
          25876166
         ],
         "yaxis": "y"
        },
        {
         "hovertemplate": "<b>%{hovertext}</b><br><br>municipality_type=high operational, low embodied<br>operational=%{x}<br>embodied=%{y}<extra></extra>",
         "hovertext": [
          "Alkmaar",
          "Almere",
          "Amstelveen",
          "Berkelland",
          "De Bilt",
          "Den Helder",
          "Hollands Kroon",
          "Kampen",
          "Leidschendam-Voorburg",
          "Lelystad",
          "Lingewaard",
          "Nissewaard",
          "Oldambt",
          "Overbetuwe",
          "Rheden",
          "Schiedam",
          "Steenwijkerland",
          "Stichtse Vecht",
          "Terneuzen",
          "Utrechtse Heuvelrug",
          "Veenendaal",
          "Venray"
         ],
         "legendgroup": "high operational, low embodied",
         "marker": {
          "color": "#00cc96",
          "symbol": "circle"
         },
         "mode": "markers",
         "name": "high operational, low embodied",
         "orientation": "v",
         "showlegend": true,
         "type": "scatter",
         "x": [
          1714205405,
          1540749890,
          1452754250,
          862713805,
          891399272.5,
          964450015,
          892166090,
          841587685,
          1298283065,
          1067413622.5,
          824463905,
          900686800,
          822573550,
          836452902.5,
          881026137.5,
          1167035997.5,
          829340545,
          1145827030,
          972496095,
          1034056812.5,
          967618437.5,
          822958012.5
         ],
         "xaxis": "x",
         "y": [
          63972145,
          6517252,
          66919501,
          49661015,
          14105212,
          51675558,
          28096457,
          33442499,
          50116173,
          38367529,
          48745914,
          41746471,
          60247877,
          27646539,
          53325410,
          59839681,
          51288690,
          66414598,
          20265354,
          60835955,
          10457953,
          53136849
         ],
         "yaxis": "y"
        },
        {
         "hovertemplate": "<b>%{hovertext}</b><br><br>municipality_type=low operational, high embodied<br>operational=%{x}<br>embodied=%{y}<extra></extra>",
         "hovertext": [
          "Best",
          "Borne",
          "Bronckhorst",
          "Castricum",
          "Coevorden",
          "Deurne",
          "Dronten",
          "Eijsden-Margraten",
          "Goeree-Overflakkee",
          "Gorinchem",
          "Harderwijk",
          "Hof van Twente",
          "Kaag en Braassem",
          "Krimpenerwaard",
          "Leudal",
          "Lochem",
          "Meierijstad",
          "Moerdijk",
          "Montferland",
          "Noordoostpolder",
          "Nuenen, Gerwen en Nederwetten",
          "Oost Gelre",
          "Pijnacker-Nootdorp",
          "Purmerend",
          "Sint-Michielsgestel",
          "Valkenswaard",
          "Waddinxveen",
          "Zaltbommel",
          "Zuidplas",
          "Zutphen"
         ],
         "legendgroup": "low operational, high embodied",
         "marker": {
          "color": "#ab63fa",
          "symbol": "circle"
         },
         "mode": "markers",
         "name": "low operational, high embodied",
         "orientation": "v",
         "showlegend": true,
         "type": "scatter",
         "x": [
          531176502.5,
          412867482.5,
          771484715,
          645162700,
          739882960,
          625946035,
          689562955,
          536931500,
          747572262.5,
          544068035,
          752633322.5,
          729228780,
          460516930,
          644330085,
          750131945,
          724497775,
          744118167.5,
          677897255,
          684679625,
          799905555,
          471255127.5,
          548417120,
          717388987.5,
          631093515,
          572765100,
          601433537.5,
          415832592.5,
          496385495,
          669818745,
          801878372.5
         ],
         "xaxis": "x",
         "y": [
          78730501,
          73764592,
          85481485,
          69950293,
          101976614,
          129496254,
          92724154,
          81184647,
          89999087,
          97659303,
          72545277,
          82195497,
          78382273,
          69833761,
          70483578,
          75285900,
          122272710,
          89385352,
          93464573,
          90097982,
          70558397,
          75696026,
          113433700,
          115645597,
          83893915,
          78255995,
          111412656,
          70959461,
          119613542,
          83386185
         ],
         "yaxis": "y"
        }
       ],
       "layout": {
        "height": 500,
        "legend": {
         "title": {
          "text": "municipality_type"
         },
         "tracegroupgap": 0
        },
        "template": {
         "data": {
          "bar": [
           {
            "error_x": {
             "color": "#2a3f5f"
            },
            "error_y": {
             "color": "#2a3f5f"
            },
            "marker": {
             "line": {
              "color": "#E5ECF6",
              "width": 0.5
             },
             "pattern": {
              "fillmode": "overlay",
              "size": 10,
              "solidity": 0.2
             }
            },
            "type": "bar"
           }
          ],
          "barpolar": [
           {
            "marker": {
             "line": {
              "color": "#E5ECF6",
              "width": 0.5
             },
             "pattern": {
              "fillmode": "overlay",
              "size": 10,
              "solidity": 0.2
             }
            },
            "type": "barpolar"
           }
          ],
          "carpet": [
           {
            "aaxis": {
             "endlinecolor": "#2a3f5f",
             "gridcolor": "white",
             "linecolor": "white",
             "minorgridcolor": "white",
             "startlinecolor": "#2a3f5f"
            },
            "baxis": {
             "endlinecolor": "#2a3f5f",
             "gridcolor": "white",
             "linecolor": "white",
             "minorgridcolor": "white",
             "startlinecolor": "#2a3f5f"
            },
            "type": "carpet"
           }
          ],
          "choropleth": [
           {
            "colorbar": {
             "outlinewidth": 0,
             "ticks": ""
            },
            "type": "choropleth"
           }
          ],
          "contour": [
           {
            "colorbar": {
             "outlinewidth": 0,
             "ticks": ""
            },
            "colorscale": [
             [
              0,
              "#0d0887"
             ],
             [
              0.1111111111111111,
              "#46039f"
             ],
             [
              0.2222222222222222,
              "#7201a8"
             ],
             [
              0.3333333333333333,
              "#9c179e"
             ],
             [
              0.4444444444444444,
              "#bd3786"
             ],
             [
              0.5555555555555556,
              "#d8576b"
             ],
             [
              0.6666666666666666,
              "#ed7953"
             ],
             [
              0.7777777777777778,
              "#fb9f3a"
             ],
             [
              0.8888888888888888,
              "#fdca26"
             ],
             [
              1,
              "#f0f921"
             ]
            ],
            "type": "contour"
           }
          ],
          "contourcarpet": [
           {
            "colorbar": {
             "outlinewidth": 0,
             "ticks": ""
            },
            "type": "contourcarpet"
           }
          ],
          "heatmap": [
           {
            "colorbar": {
             "outlinewidth": 0,
             "ticks": ""
            },
            "colorscale": [
             [
              0,
              "#0d0887"
             ],
             [
              0.1111111111111111,
              "#46039f"
             ],
             [
              0.2222222222222222,
              "#7201a8"
             ],
             [
              0.3333333333333333,
              "#9c179e"
             ],
             [
              0.4444444444444444,
              "#bd3786"
             ],
             [
              0.5555555555555556,
              "#d8576b"
             ],
             [
              0.6666666666666666,
              "#ed7953"
             ],
             [
              0.7777777777777778,
              "#fb9f3a"
             ],
             [
              0.8888888888888888,
              "#fdca26"
             ],
             [
              1,
              "#f0f921"
             ]
            ],
            "type": "heatmap"
           }
          ],
          "heatmapgl": [
           {
            "colorbar": {
             "outlinewidth": 0,
             "ticks": ""
            },
            "colorscale": [
             [
              0,
              "#0d0887"
             ],
             [
              0.1111111111111111,
              "#46039f"
             ],
             [
              0.2222222222222222,
              "#7201a8"
             ],
             [
              0.3333333333333333,
              "#9c179e"
             ],
             [
              0.4444444444444444,
              "#bd3786"
             ],
             [
              0.5555555555555556,
              "#d8576b"
             ],
             [
              0.6666666666666666,
              "#ed7953"
             ],
             [
              0.7777777777777778,
              "#fb9f3a"
             ],
             [
              0.8888888888888888,
              "#fdca26"
             ],
             [
              1,
              "#f0f921"
             ]
            ],
            "type": "heatmapgl"
           }
          ],
          "histogram": [
           {
            "marker": {
             "pattern": {
              "fillmode": "overlay",
              "size": 10,
              "solidity": 0.2
             }
            },
            "type": "histogram"
           }
          ],
          "histogram2d": [
           {
            "colorbar": {
             "outlinewidth": 0,
             "ticks": ""
            },
            "colorscale": [
             [
              0,
              "#0d0887"
             ],
             [
              0.1111111111111111,
              "#46039f"
             ],
             [
              0.2222222222222222,
              "#7201a8"
             ],
             [
              0.3333333333333333,
              "#9c179e"
             ],
             [
              0.4444444444444444,
              "#bd3786"
             ],
             [
              0.5555555555555556,
              "#d8576b"
             ],
             [
              0.6666666666666666,
              "#ed7953"
             ],
             [
              0.7777777777777778,
              "#fb9f3a"
             ],
             [
              0.8888888888888888,
              "#fdca26"
             ],
             [
              1,
              "#f0f921"
             ]
            ],
            "type": "histogram2d"
           }
          ],
          "histogram2dcontour": [
           {
            "colorbar": {
             "outlinewidth": 0,
             "ticks": ""
            },
            "colorscale": [
             [
              0,
              "#0d0887"
             ],
             [
              0.1111111111111111,
              "#46039f"
             ],
             [
              0.2222222222222222,
              "#7201a8"
             ],
             [
              0.3333333333333333,
              "#9c179e"
             ],
             [
              0.4444444444444444,
              "#bd3786"
             ],
             [
              0.5555555555555556,
              "#d8576b"
             ],
             [
              0.6666666666666666,
              "#ed7953"
             ],
             [
              0.7777777777777778,
              "#fb9f3a"
             ],
             [
              0.8888888888888888,
              "#fdca26"
             ],
             [
              1,
              "#f0f921"
             ]
            ],
            "type": "histogram2dcontour"
           }
          ],
          "mesh3d": [
           {
            "colorbar": {
             "outlinewidth": 0,
             "ticks": ""
            },
            "type": "mesh3d"
           }
          ],
          "parcoords": [
           {
            "line": {
             "colorbar": {
              "outlinewidth": 0,
              "ticks": ""
             }
            },
            "type": "parcoords"
           }
          ],
          "pie": [
           {
            "automargin": true,
            "type": "pie"
           }
          ],
          "scatter": [
           {
            "fillpattern": {
             "fillmode": "overlay",
             "size": 10,
             "solidity": 0.2
            },
            "type": "scatter"
           }
          ],
          "scatter3d": [
           {
            "line": {
             "colorbar": {
              "outlinewidth": 0,
              "ticks": ""
             }
            },
            "marker": {
             "colorbar": {
              "outlinewidth": 0,
              "ticks": ""
             }
            },
            "type": "scatter3d"
           }
          ],
          "scattercarpet": [
           {
            "marker": {
             "colorbar": {
              "outlinewidth": 0,
              "ticks": ""
             }
            },
            "type": "scattercarpet"
           }
          ],
          "scattergeo": [
           {
            "marker": {
             "colorbar": {
              "outlinewidth": 0,
              "ticks": ""
             }
            },
            "type": "scattergeo"
           }
          ],
          "scattergl": [
           {
            "marker": {
             "colorbar": {
              "outlinewidth": 0,
              "ticks": ""
             }
            },
            "type": "scattergl"
           }
          ],
          "scattermapbox": [
           {
            "marker": {
             "colorbar": {
              "outlinewidth": 0,
              "ticks": ""
             }
            },
            "type": "scattermapbox"
           }
          ],
          "scatterpolar": [
           {
            "marker": {
             "colorbar": {
              "outlinewidth": 0,
              "ticks": ""
             }
            },
            "type": "scatterpolar"
           }
          ],
          "scatterpolargl": [
           {
            "marker": {
             "colorbar": {
              "outlinewidth": 0,
              "ticks": ""
             }
            },
            "type": "scatterpolargl"
           }
          ],
          "scatterternary": [
           {
            "marker": {
             "colorbar": {
              "outlinewidth": 0,
              "ticks": ""
             }
            },
            "type": "scatterternary"
           }
          ],
          "surface": [
           {
            "colorbar": {
             "outlinewidth": 0,
             "ticks": ""
            },
            "colorscale": [
             [
              0,
              "#0d0887"
             ],
             [
              0.1111111111111111,
              "#46039f"
             ],
             [
              0.2222222222222222,
              "#7201a8"
             ],
             [
              0.3333333333333333,
              "#9c179e"
             ],
             [
              0.4444444444444444,
              "#bd3786"
             ],
             [
              0.5555555555555556,
              "#d8576b"
             ],
             [
              0.6666666666666666,
              "#ed7953"
             ],
             [
              0.7777777777777778,
              "#fb9f3a"
             ],
             [
              0.8888888888888888,
              "#fdca26"
             ],
             [
              1,
              "#f0f921"
             ]
            ],
            "type": "surface"
           }
          ],
          "table": [
           {
            "cells": {
             "fill": {
              "color": "#EBF0F8"
             },
             "line": {
              "color": "white"
             }
            },
            "header": {
             "fill": {
              "color": "#C8D4E3"
             },
             "line": {
              "color": "white"
             }
            },
            "type": "table"
           }
          ]
         },
         "layout": {
          "annotationdefaults": {
           "arrowcolor": "#2a3f5f",
           "arrowhead": 0,
           "arrowwidth": 1
          },
          "autotypenumbers": "strict",
          "coloraxis": {
           "colorbar": {
            "outlinewidth": 0,
            "ticks": ""
           }
          },
          "colorscale": {
           "diverging": [
            [
             0,
             "#8e0152"
            ],
            [
             0.1,
             "#c51b7d"
            ],
            [
             0.2,
             "#de77ae"
            ],
            [
             0.3,
             "#f1b6da"
            ],
            [
             0.4,
             "#fde0ef"
            ],
            [
             0.5,
             "#f7f7f7"
            ],
            [
             0.6,
             "#e6f5d0"
            ],
            [
             0.7,
             "#b8e186"
            ],
            [
             0.8,
             "#7fbc41"
            ],
            [
             0.9,
             "#4d9221"
            ],
            [
             1,
             "#276419"
            ]
           ],
           "sequential": [
            [
             0,
             "#0d0887"
            ],
            [
             0.1111111111111111,
             "#46039f"
            ],
            [
             0.2222222222222222,
             "#7201a8"
            ],
            [
             0.3333333333333333,
             "#9c179e"
            ],
            [
             0.4444444444444444,
             "#bd3786"
            ],
            [
             0.5555555555555556,
             "#d8576b"
            ],
            [
             0.6666666666666666,
             "#ed7953"
            ],
            [
             0.7777777777777778,
             "#fb9f3a"
            ],
            [
             0.8888888888888888,
             "#fdca26"
            ],
            [
             1,
             "#f0f921"
            ]
           ],
           "sequentialminus": [
            [
             0,
             "#0d0887"
            ],
            [
             0.1111111111111111,
             "#46039f"
            ],
            [
             0.2222222222222222,
             "#7201a8"
            ],
            [
             0.3333333333333333,
             "#9c179e"
            ],
            [
             0.4444444444444444,
             "#bd3786"
            ],
            [
             0.5555555555555556,
             "#d8576b"
            ],
            [
             0.6666666666666666,
             "#ed7953"
            ],
            [
             0.7777777777777778,
             "#fb9f3a"
            ],
            [
             0.8888888888888888,
             "#fdca26"
            ],
            [
             1,
             "#f0f921"
            ]
           ]
          },
          "colorway": [
           "#636efa",
           "#EF553B",
           "#00cc96",
           "#ab63fa",
           "#FFA15A",
           "#19d3f3",
           "#FF6692",
           "#B6E880",
           "#FF97FF",
           "#FECB52"
          ],
          "font": {
           "color": "#2a3f5f"
          },
          "geo": {
           "bgcolor": "white",
           "lakecolor": "white",
           "landcolor": "#E5ECF6",
           "showlakes": true,
           "showland": true,
           "subunitcolor": "white"
          },
          "hoverlabel": {
           "align": "left"
          },
          "hovermode": "closest",
          "mapbox": {
           "style": "light"
          },
          "paper_bgcolor": "white",
          "plot_bgcolor": "#E5ECF6",
          "polar": {
           "angularaxis": {
            "gridcolor": "white",
            "linecolor": "white",
            "ticks": ""
           },
           "bgcolor": "#E5ECF6",
           "radialaxis": {
            "gridcolor": "white",
            "linecolor": "white",
            "ticks": ""
           }
          },
          "scene": {
           "xaxis": {
            "backgroundcolor": "#E5ECF6",
            "gridcolor": "white",
            "gridwidth": 2,
            "linecolor": "white",
            "showbackground": true,
            "ticks": "",
            "zerolinecolor": "white"
           },
           "yaxis": {
            "backgroundcolor": "#E5ECF6",
            "gridcolor": "white",
            "gridwidth": 2,
            "linecolor": "white",
            "showbackground": true,
            "ticks": "",
            "zerolinecolor": "white"
           },
           "zaxis": {
            "backgroundcolor": "#E5ECF6",
            "gridcolor": "white",
            "gridwidth": 2,
            "linecolor": "white",
            "showbackground": true,
            "ticks": "",
            "zerolinecolor": "white"
           }
          },
          "shapedefaults": {
           "line": {
            "color": "#2a3f5f"
           }
          },
          "ternary": {
           "aaxis": {
            "gridcolor": "white",
            "linecolor": "white",
            "ticks": ""
           },
           "baxis": {
            "gridcolor": "white",
            "linecolor": "white",
            "ticks": ""
           },
           "bgcolor": "#E5ECF6",
           "caxis": {
            "gridcolor": "white",
            "linecolor": "white",
            "ticks": ""
           }
          },
          "title": {
           "x": 0.05
          },
          "xaxis": {
           "automargin": true,
           "gridcolor": "white",
           "linecolor": "white",
           "ticks": "",
           "title": {
            "standoff": 15
           },
           "zerolinecolor": "white",
           "zerolinewidth": 2
          },
          "yaxis": {
           "automargin": true,
           "gridcolor": "white",
           "linecolor": "white",
           "ticks": "",
           "title": {
            "standoff": 15
           },
           "zerolinecolor": "white",
           "zerolinewidth": 2
          }
         }
        },
        "title": {
         "text": "Operational vs embodied emissions of municipalities"
        },
        "width": 800,
        "xaxis": {
         "anchor": "y",
         "domain": [
          0,
          1
         ],
         "title": {
          "text": "operational"
         },
         "type": "log"
        },
        "yaxis": {
         "anchor": "x",
         "domain": [
          0,
          1
         ],
         "title": {
          "text": "embodied"
         },
         "type": "log"
        }
       }
      }
     },
     "metadata": {},
     "output_type": "display_data"
    }
   ],
   "source": [
    "query = ''' \n",
    "SELECT municipality, \n",
    "\tSUM(emissions_operational) AS operational, \n",
    "\tSUM(emissions_embodied) AS embodied\n",
    "FROM emissions_all\n",
    "WHERE emissions_operational IS NOT NULL\n",
    "GROUP BY municipality\n",
    "'''\n",
    "df = pd.read_sql_query(query, engine)\n",
    "av_operational = df['operational'].mean()\n",
    "av_embodied = df['embodied'].mean()\n",
    "def classify_municipality(row): \n",
    "    if row.operational > av_operational and row.embodied > av_embodied: \n",
    "        return 'high operational, high embodied'\n",
    "    elif row.operational > av_operational and row.embodied < av_embodied:\n",
    "        return 'high operational, low embodied'\n",
    "    elif row.operational < av_operational and row.embodied > av_embodied:\n",
    "        return 'low operational, high embodied'\n",
    "    else:\n",
    "        return 'low operational, low embodied'\n",
    "df['municipality_type'] = df.apply(lambda row: classify_municipality(row), axis=1)\n",
    "\n",
    "fig = px.scatter(df, x='operational', y='embodied', log_x=True, log_y=True, \n",
    "                 hover_name='municipality', color='municipality_type',\n",
    "                 title=\"Operational vs embodied emissions of municipalities\") \n",
    "fig.update_layout(width=800, height=500)\n",
    "fig.show()\n",
    "\n",
    "# TODO: map of nl with municipalities colored by type"
   ]
  },
  {
   "cell_type": "markdown",
   "metadata": {},
   "source": [
    "# Which were the best performing municipalities / neighborhoods in the past decade? \n",
    "- Which neighborhoods / municipalities had the least emissions overall (per person and per sqm)\n",
    "- Which neighborhoods / municipalities had the largest emissions reductions? (per person and per sqm)"
   ]
  },
  {
   "cell_type": "code",
   "execution_count": 12,
   "metadata": {},
   "outputs": [
    {
     "data": {
      "application/vnd.plotly.v1+json": {
       "config": {
        "plotlyServerURL": "https://plot.ly"
       },
       "data": [
        {
         "hovertemplate": "<b>%{hovertext}</b><br><br>Population in 2021=%{x}<br>Total Emissions=%{y}<extra></extra>",
         "hovertext": [
          "Montfoort",
          "Alkmaar",
          "Katwijk",
          "Nissewaard",
          "Hollands Kroon",
          "Hilvarenbeek",
          "De Bilt",
          "Oirschot",
          "Leidschendam-Voorburg",
          "Nijkerk",
          "Doetinchem",
          "Montferland",
          "Deventer",
          "Berg en Dal",
          "Westland",
          "Lansingerland",
          "Oss",
          "Veldhoven",
          "Vlissingen",
          "Almelo",
          "Doesburg",
          "Apeldoorn",
          "Ooststellingwerf",
          "Hendrik-Ido-Ambacht",
          "Zutphen",
          "Noardeast-Fryslân",
          "Maassluis",
          "Druten",
          "Borne",
          "Veendam",
          "Elburg",
          "Bergen (NH.)",
          "Ermelo",
          "Westerwolde",
          "Brummen",
          "Neder-Betuwe",
          "Boxtel",
          "Zevenaar",
          "Geldrop-Mierlo",
          "Leeuwarden",
          "Reimerswaal",
          "Dordrecht",
          "Bronckhorst",
          "Krimpenerwaard",
          "Stede Broec",
          "Zuidplas",
          "Texel",
          "Papendrecht",
          "Culemborg",
          "Oosterhout",
          "Zoeterwoude",
          "Wijdemeren",
          "Lingewaard",
          "Wierden",
          "Heiloo",
          "De Ronde Venen",
          "Baarle-Nassau",
          "Boekel",
          "Zwartewaterland",
          "Beverwijk",
          "Bodegraven-Reeuwijk",
          "Venray",
          "De Wolden",
          "Opmeer",
          "Oldebroek",
          "Gouda",
          "Blaricum",
          "Etten-Leur",
          "Súdwest-Fryslân",
          "Heemstede",
          "Nederweert",
          "Opsterland",
          "Zwolle",
          "Hardenberg",
          "Horst aan de Maas",
          "Mook en Middelaar",
          "Leiden",
          "Heerenveen",
          "Brunssum",
          "Reusel-De Mierden",
          "Dongen",
          "Aalten",
          "Drimmelen",
          "Westerveld",
          "Hof van Twente",
          "Baarn",
          "Assen",
          "Schiermonnikoog",
          "Berkelland",
          "Zeewolde",
          "Alphen aan den Rijn",
          "Diemen",
          "Hellendoorn",
          "Altena",
          "Midden-Drenthe",
          "Oost Gelre",
          "Midden-Groningen",
          "Edam-Volendam",
          "Tilburg",
          "Zaltbommel",
          "Tholen",
          "Smallingerland",
          "Haarlemmermeer",
          "Stichtse Vecht",
          "Deurne",
          "Tiel",
          "Waalwijk",
          "Amersfoort",
          "Albrandswaard",
          "Wassenaar",
          "Drechterland",
          "Ameland",
          "Heerde",
          "Delft",
          "Amstelveen",
          "Westervoort",
          "Terneuzen",
          "Purmerend",
          "Arnhem",
          "Raalte",
          "Noordwijk",
          "Wormerland",
          "Helmond",
          "Lochem",
          "Dantumadiel",
          "Oudewater",
          "Houten",
          "Gorinchem",
          "Ouder-Amstel",
          "Vaals",
          "Bloemendaal",
          "Kapelle",
          "Bladel",
          "Woensdrecht",
          "Valkenswaard",
          "Rotterdam",
          "Velsen",
          "Veere",
          "Meierijstad",
          "Waadhoeke",
          "Pijnacker-Nootdorp",
          "Coevorden",
          "Meerssen",
          "Duiven",
          "Lisse",
          "Dinkelland",
          "Maasdriel",
          "Oldambt",
          "Amsterdam",
          "Ede",
          "Twenterand",
          "Waterland",
          "Utrechtse Heuvelrug",
          "Haarlem",
          "'s-Gravenhage",
          "Noordoostpolder",
          "Lelystad",
          "Barendrecht",
          "Teylingen",
          "IJsselstein",
          "Kerkrade",
          "Hilversum",
          "Nunspeet",
          "Schiedam",
          "Voorst",
          "Sint-Michielsgestel",
          "Weststellingwerf",
          "Barneveld",
          "Oegstgeest",
          "Voerendaal",
          "Haaksbergen",
          "Wijchen",
          "Tynaarlo",
          "Maastricht",
          "Steenbergen",
          "Bergeijk",
          "Heemskerk",
          "Koggenland",
          "Eemsdelta",
          "'s-Hertogenbosch",
          "Eersel",
          "Overbetuwe",
          "Meppel",
          "Gilze en Rijen",
          "Zwijndrecht",
          "Uitgeest",
          "Ridderkerk",
          "Urk",
          "Sittard-Geleen",
          "Beesel",
          "Heeze-Leende",
          "Woerden",
          "Simpelveld",
          "Rucphen",
          "Soest",
          "Nijmegen",
          "Gemert-Bakel",
          "Moerdijk",
          "West Maas en Waal",
          "Zundert",
          "Vlaardingen",
          "Gennep",
          "Alblasserdam",
          "Zandvoort",
          "Schouwen-Duiveland",
          "Dalfsen",
          "Loon op Zand",
          "Beuningen",
          "Olst-Wijhe",
          "Eijsden-Margraten",
          "Heerlen",
          "Bunschoten",
          "Laarbeek",
          "Wageningen",
          "Breda",
          "Emmen",
          "Buren",
          "Molenlanden",
          "Schagen",
          "Hoeksche Waard",
          "Groningen",
          "Vijfheerenlanden",
          "Winterswijk",
          "Medemblik",
          "Cranendonck",
          "Roosendaal",
          "Nuenen, Gerwen en Nederwetten",
          "Asten",
          "Peel en Maas",
          "Scherpenzeel",
          "Roermond",
          "Hardinxveld-Giessendam",
          "Vlieland",
          "West Betuwe",
          "Heumen",
          "Capelle aan den IJssel",
          "Waalre",
          "Losser",
          "Sluis",
          "Echt-Susteren",
          "Nieuwegein",
          "Son en Breugel",
          "Leiderdorp",
          "Huizen",
          "Renkum",
          "Eindhoven",
          "Oostzaan",
          "Oude IJsselstreek",
          "Noordenveld",
          "Eemnes",
          "Rhenen",
          "Dronten",
          "Veenendaal",
          "Renswoude",
          "Woudenberg",
          "Tubbergen",
          "Goeree-Overflakkee",
          "Enkhuizen",
          "Gooise Meren",
          "Epe",
          "Kaag en Braassem",
          "Gulpen-Wittem",
          "Alphen-Chaam",
          "Utrecht",
          "Hulst",
          "Bergen (L.)",
          "Staphorst",
          "Westerkwartier",
          "Noord-Beveland",
          "Rijssen-Holten",
          "Roerdalen",
          "Tytsjerksteradiel",
          "Kampen",
          "Het Hogeland",
          "Someren",
          "Enschede",
          "Nieuwkoop",
          "Venlo",
          "Hoogeveen",
          "Zaanstad",
          "Midden-Delfland",
          "De Fryske Marren",
          "Maasgouw",
          "Waddinxveen",
          "Aa en Hunze",
          "Weert",
          "Borger-Odoorn",
          "Voorschoten",
          "Goirle",
          "Steenwijkerland",
          "Bernheze",
          "Almere",
          "Rheden",
          "Leudal",
          "Landgraaf",
          "Aalsmeer",
          "Hattem",
          "Harderwijk",
          "Vught",
          "Best",
          "Uithoorn",
          "Achtkarspelen",
          "Rozendaal",
          "Terschelling",
          "Geertruidenberg",
          "Halderberge",
          "Oldenzaal",
          "Harlingen",
          "Hillegom",
          "Stadskanaal",
          "Leusden",
          "Valkenburg aan de Geul",
          "Ommen",
          "Heusden",
          "Landsmeer",
          "Pekela",
          "Beekdaelen",
          "Putten",
          "Lopik",
          "Bergen op Zoom",
          "Goes",
          "Krimpen aan den IJssel",
          "Zeist",
          "Den Helder",
          "Castricum",
          "Hoorn",
          "Zoetermeer"
         ],
         "legendgroup": "",
         "marker": {
          "color": "#636efa",
          "symbol": "circle"
         },
         "mode": "markers",
         "name": "",
         "orientation": "v",
         "showlegend": false,
         "type": "scatter",
         "x": [
          13900,
          109880,
          66010,
          85435,
          48550,
          15680,
          43380,
          18835,
          76430,
          43585,
          58290,
          36040,
          101240,
          34985,
          111415,
          63355,
          92530,
          45495,
          44375,
          73135,
          11065,
          164835,
          25465,
          31265,
          48115,
          45490,
          33580,
          18990,
          23670,
          27405,
          23425,
          29705,
          27020,
          26230,
          20905,
          24640,
          32975,
          44075,
          40060,
          124475,
          22915,
          119150,
          36080,
          56650,
          21740,
          45080,
          13655,
          32165,
          29125,
          56210,
          8845,
          24450,
          46815,
          24530,
          24145,
          44710,
          6895,
          10965,
          22840,
          41870,
          35270,
          43700,
          24370,
          12010,
          23755,
          73710,
          11950,
          43860,
          90020,
          27540,
          17180,
          29810,
          129850,
          61370,
          42500,
          7905,
          124100,
          50665,
          27675,
          13125,
          26370,
          27120,
          27305,
          19635,
          35010,
          24775,
          68815,
          930,
          43850,
          22880,
          112525,
          31340,
          35925,
          56350,
          33385,
          29575,
          60715,
          36255,
          221900,
          29435,
          26090,
          56035,
          157810,
          65085,
          32440,
          41910,
          48805,
          157420,
          25805,
          26950,
          19845,
          3745,
          18785,
          103595,
          90855,
          15020,
          54485,
          81680,
          162410,
          37915,
          44065,
          16335,
          92620,
          33955,
          18950,
          10130,
          50205,
          37415,
          14120,
          10080,
          23485,
          12880,
          20540,
          22025,
          31220,
          651595,
          68525,
          21955,
          81645,
          46175,
          55680,
          35330,
          18655,
          25060,
          22985,
          26600,
          25450,
          38265,
          872540,
          118525,
          33720,
          17320,
          49950,
          162570,
          548240,
          47585,
          79780,
          48635,
          37775,
          33825,
          45460,
          91260,
          28020,
          79265,
          24805,
          29495,
          26105,
          59985,
          25060,
          12465,
          24200,
          41255,
          33995,
          120240,
          24295,
          18770,
          39195,
          22955,
          45595,
          155460,
          19540,
          48200,
          34400,
          26710,
          44780,
          13630,
          46675,
          21225,
          91735,
          13450,
          16245,
          52695,
          10475,
          23080,
          46895,
          177345,
          30780,
          37175,
          19580,
          21985,
          73920,
          17035,
          20155,
          17170,
          34065,
          28905,
          23495,
          26160,
          18360,
          25895,
          86950,
          22015,
          22810,
          39645,
          184095,
          107035,
          27035,
          44115,
          46535,
          88075,
          233250,
          57810,
          29020,
          45140,
          20980,
          77195,
          23700,
          16835,
          43665,
          10125,
          58785,
          18410,
          1190,
          51490,
          16550,
          67300,
          17545,
          22895,
          23155,
          31755,
          63870,
          17555,
          27370,
          41095,
          31410,
          235705,
          9695,
          39355,
          31205,
          9365,
          20195,
          42000,
          66885,
          5555,
          13630,
          21315,
          50580,
          18650,
          58535,
          33205,
          27500,
          14210,
          10375,
          359155,
          27560,
          13110,
          17230,
          63660,
          7580,
          38205,
          20575,
          32050,
          54445,
          47830,
          19440,
          159735,
          29145,
          101975,
          55605,
          156900,
          19410,
          51775,
          23920,
          30480,
          25425,
          50005,
          25615,
          25660,
          23950,
          44340,
          31480,
          214700,
          43540,
          36045,
          37255,
          31980,
          12235,
          48695,
          31660,
          30225,
          30215,
          27885,
          1720,
          4865,
          21780,
          30425,
          31700,
          15810,
          22190,
          31770,
          30555,
          16365,
          18275,
          44990,
          11560,
          12175,
          36075,
          24360,
          14455,
          67500,
          38610,
          29405,
          65030,
          56585,
          36085,
          73580,
          125260
         ],
         "xaxis": "x",
         "y": [
          243963811,
          1773980226,
          1042404536.5,
          952898960,
          917066783,
          363475917,
          903776251.5,
          414258454.5,
          1345220137,
          771495738.5,
          1073443825,
          752015109,
          1747913337.5,
          418561497,
          1948252112.5,
          981404550.5,
          1833412435,
          889599617.5,
          782773056.5,
          1350786764.5,
          200748729,
          3129002293.5,
          532535816.5,
          495384816,
          878360813.5,
          180821921,
          560392548.5,
          374939784.5,
          476252190.5,
          588495477,
          435117805,
          691600661.5,
          509585862,
          227889433,
          433384855,
          454329070,
          597908721,
          713390270,
          788492026,
          2174790640.5,
          392339512.5,
          2015238380.5,
          841319358,
          710846287,
          370449305.5,
          788905211,
          308027993.5,
          null,
          441503641.5,
          1073260644.5,
          159050945,
          529245773.5,
          871924824,
          493260661.5,
          490329596,
          863777057.5,
          152578721,
          234471078,
          395009178,
          716823224.5,
          587498062.5,
          864742306.5,
          564024805,
          232650085,
          464811040.5,
          1190650762,
          280402708.5,
          771722879,
          1487420857,
          577496140,
          375504741,
          586784998,
          2305882594,
          1206655227.5,
          940305217.5,
          186000084,
          2234825496.5,
          995220482,
          570953335,
          291725142.5,
          510994699.5,
          522622834.5,
          514240369.5,
          448194328,
          798729658,
          521303658.5,
          1257957701.5,
          25627546,
          903639827,
          354671287.5,
          1768086469.5,
          427270263,
          705309047.5,
          310421084,
          720017871,
          597207422,
          491647243.5,
          683369477.5,
          3341801376,
          561722076,
          456659461.5,
          1066497616.5,
          2656278153,
          1214866189,
          689678207,
          754230773.5,
          933954090.5,
          2608506947.5,
          406154764,
          663283042,
          376834285,
          87361635,
          393660214,
          1882924136.5,
          1518425756,
          207105395,
          990507464,
          748813351,
          2858878221.5,
          713277769.5,
          584726081,
          291491381.5,
          1547291091,
          788466911,
          366742684.5,
          189250328,
          718058614.5,
          630474636,
          247013893.5,
          225460508.5,
          595679626,
          226268401,
          419054249,
          451585829,
          660527331.5,
          9348862343,
          1191856798,
          407241845.5,
          858688158.5,
          349748822,
          837647487.5,
          821518048,
          433384275,
          279798520,
          381335805,
          592712415,
          543625092,
          878145125,
          13107302940,
          2207948875.5,
          628410406,
          334536371,
          1083789949.5,
          2815366814.5,
          8659827813.5,
          889333256,
          1114744796.5,
          732333379,
          600928762.5,
          551387346,
          955098345.5,
          1803080582.5,
          518445249.5,
          1264375846.5,
          524672386,
          646721106,
          523503922.5,
          1134371234.5,
          null,
          277266977,
          509499821,
          777244447,
          725267750.5,
          2612740315.5,
          491665482,
          403540464,
          660492662.5,
          411193411,
          108598605.5,
          2853036179.5,
          419486270.5,
          862428122.5,
          616647266.5,
          470083219.5,
          742365066.5,
          231013524.5,
          774312102,
          313931405.5,
          1883202857.5,
          268851931.5,
          364896035,
          922148287.5,
          226198970,
          525436729.5,
          960839566.5,
          3445038423.5,
          640645072,
          758864758,
          442437817.5,
          502036318.5,
          1238862031.5,
          349923217.5,
          304276976.5,
          332239180,
          695103135.5,
          584710523.5,
          467200058,
          504149386,
          373364666,
          613320754,
          1702788747,
          405867139.5,
          468061658.5,
          748222384.5,
          3219999408.5,
          2259051547,
          588530799,
          240690103,
          809831134.5,
          455741214.5,
          4720275921,
          291684142.5,
          586280528,
          824492734.5,
          446434753,
          1453799671.5,
          521105366.5,
          344731933.5,
          937921676,
          193856209.5,
          1169866169.5,
          267139682.5,
          28081303,
          296893146,
          336709940,
          826235915,
          380779126,
          495883044,
          480545719,
          674198861,
          711284809.5,
          365642105.5,
          454578684.5,
          766181156.5,
          667662194,
          4181197739.5,
          175682939.5,
          797000028.5,
          691036917,
          180226185,
          387775343,
          797915163,
          978160385.5,
          105563958.5,
          230481692.5,
          471364563,
          832560317.5,
          328301177.5,
          733089169,
          704952778,
          535248968,
          317056737,
          215234524,
          5341551386.5,
          535865270.5,
          278406745.5,
          346621547,
          401887880.5,
          153855094,
          718376689.5,
          449213084.5,
          631876718,
          873875733,
          287521099,
          430762701,
          2960947838.5,
          549347966.5,
          2001811061.5,
          1063392693.5,
          2635429236.5,
          333694506,
          600568222,
          538885649,
          524186097.5,
          601663255.5,
          1021163473.5,
          570179509,
          455087598,
          457252863,
          876204809,
          631692422,
          1547811352,
          924551012.5,
          785791925,
          753938730,
          597136356,
          269698675,
          825744455.5,
          565476098.5,
          593178841.5,
          541396936.5,
          552899974.5,
          47802578,
          122864829.5,
          371332663.5,
          622674096,
          627339665,
          299937003,
          375412487.5,
          687143368,
          554740037.5,
          363085713.5,
          382350711.5,
          898340309.5,
          208278851.5,
          277402271,
          223522933,
          503873650,
          273023134,
          1241266067,
          686684115.5,
          496763832.5,
          1368213151.5,
          1013549451,
          713276049,
          1276033849,
          1921029553
         ],
         "yaxis": "y"
        }
       ],
       "layout": {
        "height": 500,
        "legend": {
         "tracegroupgap": 0
        },
        "template": {
         "data": {
          "bar": [
           {
            "error_x": {
             "color": "#2a3f5f"
            },
            "error_y": {
             "color": "#2a3f5f"
            },
            "marker": {
             "line": {
              "color": "#E5ECF6",
              "width": 0.5
             },
             "pattern": {
              "fillmode": "overlay",
              "size": 10,
              "solidity": 0.2
             }
            },
            "type": "bar"
           }
          ],
          "barpolar": [
           {
            "marker": {
             "line": {
              "color": "#E5ECF6",
              "width": 0.5
             },
             "pattern": {
              "fillmode": "overlay",
              "size": 10,
              "solidity": 0.2
             }
            },
            "type": "barpolar"
           }
          ],
          "carpet": [
           {
            "aaxis": {
             "endlinecolor": "#2a3f5f",
             "gridcolor": "white",
             "linecolor": "white",
             "minorgridcolor": "white",
             "startlinecolor": "#2a3f5f"
            },
            "baxis": {
             "endlinecolor": "#2a3f5f",
             "gridcolor": "white",
             "linecolor": "white",
             "minorgridcolor": "white",
             "startlinecolor": "#2a3f5f"
            },
            "type": "carpet"
           }
          ],
          "choropleth": [
           {
            "colorbar": {
             "outlinewidth": 0,
             "ticks": ""
            },
            "type": "choropleth"
           }
          ],
          "contour": [
           {
            "colorbar": {
             "outlinewidth": 0,
             "ticks": ""
            },
            "colorscale": [
             [
              0,
              "#0d0887"
             ],
             [
              0.1111111111111111,
              "#46039f"
             ],
             [
              0.2222222222222222,
              "#7201a8"
             ],
             [
              0.3333333333333333,
              "#9c179e"
             ],
             [
              0.4444444444444444,
              "#bd3786"
             ],
             [
              0.5555555555555556,
              "#d8576b"
             ],
             [
              0.6666666666666666,
              "#ed7953"
             ],
             [
              0.7777777777777778,
              "#fb9f3a"
             ],
             [
              0.8888888888888888,
              "#fdca26"
             ],
             [
              1,
              "#f0f921"
             ]
            ],
            "type": "contour"
           }
          ],
          "contourcarpet": [
           {
            "colorbar": {
             "outlinewidth": 0,
             "ticks": ""
            },
            "type": "contourcarpet"
           }
          ],
          "heatmap": [
           {
            "colorbar": {
             "outlinewidth": 0,
             "ticks": ""
            },
            "colorscale": [
             [
              0,
              "#0d0887"
             ],
             [
              0.1111111111111111,
              "#46039f"
             ],
             [
              0.2222222222222222,
              "#7201a8"
             ],
             [
              0.3333333333333333,
              "#9c179e"
             ],
             [
              0.4444444444444444,
              "#bd3786"
             ],
             [
              0.5555555555555556,
              "#d8576b"
             ],
             [
              0.6666666666666666,
              "#ed7953"
             ],
             [
              0.7777777777777778,
              "#fb9f3a"
             ],
             [
              0.8888888888888888,
              "#fdca26"
             ],
             [
              1,
              "#f0f921"
             ]
            ],
            "type": "heatmap"
           }
          ],
          "heatmapgl": [
           {
            "colorbar": {
             "outlinewidth": 0,
             "ticks": ""
            },
            "colorscale": [
             [
              0,
              "#0d0887"
             ],
             [
              0.1111111111111111,
              "#46039f"
             ],
             [
              0.2222222222222222,
              "#7201a8"
             ],
             [
              0.3333333333333333,
              "#9c179e"
             ],
             [
              0.4444444444444444,
              "#bd3786"
             ],
             [
              0.5555555555555556,
              "#d8576b"
             ],
             [
              0.6666666666666666,
              "#ed7953"
             ],
             [
              0.7777777777777778,
              "#fb9f3a"
             ],
             [
              0.8888888888888888,
              "#fdca26"
             ],
             [
              1,
              "#f0f921"
             ]
            ],
            "type": "heatmapgl"
           }
          ],
          "histogram": [
           {
            "marker": {
             "pattern": {
              "fillmode": "overlay",
              "size": 10,
              "solidity": 0.2
             }
            },
            "type": "histogram"
           }
          ],
          "histogram2d": [
           {
            "colorbar": {
             "outlinewidth": 0,
             "ticks": ""
            },
            "colorscale": [
             [
              0,
              "#0d0887"
             ],
             [
              0.1111111111111111,
              "#46039f"
             ],
             [
              0.2222222222222222,
              "#7201a8"
             ],
             [
              0.3333333333333333,
              "#9c179e"
             ],
             [
              0.4444444444444444,
              "#bd3786"
             ],
             [
              0.5555555555555556,
              "#d8576b"
             ],
             [
              0.6666666666666666,
              "#ed7953"
             ],
             [
              0.7777777777777778,
              "#fb9f3a"
             ],
             [
              0.8888888888888888,
              "#fdca26"
             ],
             [
              1,
              "#f0f921"
             ]
            ],
            "type": "histogram2d"
           }
          ],
          "histogram2dcontour": [
           {
            "colorbar": {
             "outlinewidth": 0,
             "ticks": ""
            },
            "colorscale": [
             [
              0,
              "#0d0887"
             ],
             [
              0.1111111111111111,
              "#46039f"
             ],
             [
              0.2222222222222222,
              "#7201a8"
             ],
             [
              0.3333333333333333,
              "#9c179e"
             ],
             [
              0.4444444444444444,
              "#bd3786"
             ],
             [
              0.5555555555555556,
              "#d8576b"
             ],
             [
              0.6666666666666666,
              "#ed7953"
             ],
             [
              0.7777777777777778,
              "#fb9f3a"
             ],
             [
              0.8888888888888888,
              "#fdca26"
             ],
             [
              1,
              "#f0f921"
             ]
            ],
            "type": "histogram2dcontour"
           }
          ],
          "mesh3d": [
           {
            "colorbar": {
             "outlinewidth": 0,
             "ticks": ""
            },
            "type": "mesh3d"
           }
          ],
          "parcoords": [
           {
            "line": {
             "colorbar": {
              "outlinewidth": 0,
              "ticks": ""
             }
            },
            "type": "parcoords"
           }
          ],
          "pie": [
           {
            "automargin": true,
            "type": "pie"
           }
          ],
          "scatter": [
           {
            "fillpattern": {
             "fillmode": "overlay",
             "size": 10,
             "solidity": 0.2
            },
            "type": "scatter"
           }
          ],
          "scatter3d": [
           {
            "line": {
             "colorbar": {
              "outlinewidth": 0,
              "ticks": ""
             }
            },
            "marker": {
             "colorbar": {
              "outlinewidth": 0,
              "ticks": ""
             }
            },
            "type": "scatter3d"
           }
          ],
          "scattercarpet": [
           {
            "marker": {
             "colorbar": {
              "outlinewidth": 0,
              "ticks": ""
             }
            },
            "type": "scattercarpet"
           }
          ],
          "scattergeo": [
           {
            "marker": {
             "colorbar": {
              "outlinewidth": 0,
              "ticks": ""
             }
            },
            "type": "scattergeo"
           }
          ],
          "scattergl": [
           {
            "marker": {
             "colorbar": {
              "outlinewidth": 0,
              "ticks": ""
             }
            },
            "type": "scattergl"
           }
          ],
          "scattermapbox": [
           {
            "marker": {
             "colorbar": {
              "outlinewidth": 0,
              "ticks": ""
             }
            },
            "type": "scattermapbox"
           }
          ],
          "scatterpolar": [
           {
            "marker": {
             "colorbar": {
              "outlinewidth": 0,
              "ticks": ""
             }
            },
            "type": "scatterpolar"
           }
          ],
          "scatterpolargl": [
           {
            "marker": {
             "colorbar": {
              "outlinewidth": 0,
              "ticks": ""
             }
            },
            "type": "scatterpolargl"
           }
          ],
          "scatterternary": [
           {
            "marker": {
             "colorbar": {
              "outlinewidth": 0,
              "ticks": ""
             }
            },
            "type": "scatterternary"
           }
          ],
          "surface": [
           {
            "colorbar": {
             "outlinewidth": 0,
             "ticks": ""
            },
            "colorscale": [
             [
              0,
              "#0d0887"
             ],
             [
              0.1111111111111111,
              "#46039f"
             ],
             [
              0.2222222222222222,
              "#7201a8"
             ],
             [
              0.3333333333333333,
              "#9c179e"
             ],
             [
              0.4444444444444444,
              "#bd3786"
             ],
             [
              0.5555555555555556,
              "#d8576b"
             ],
             [
              0.6666666666666666,
              "#ed7953"
             ],
             [
              0.7777777777777778,
              "#fb9f3a"
             ],
             [
              0.8888888888888888,
              "#fdca26"
             ],
             [
              1,
              "#f0f921"
             ]
            ],
            "type": "surface"
           }
          ],
          "table": [
           {
            "cells": {
             "fill": {
              "color": "#EBF0F8"
             },
             "line": {
              "color": "white"
             }
            },
            "header": {
             "fill": {
              "color": "#C8D4E3"
             },
             "line": {
              "color": "white"
             }
            },
            "type": "table"
           }
          ]
         },
         "layout": {
          "annotationdefaults": {
           "arrowcolor": "#2a3f5f",
           "arrowhead": 0,
           "arrowwidth": 1
          },
          "autotypenumbers": "strict",
          "coloraxis": {
           "colorbar": {
            "outlinewidth": 0,
            "ticks": ""
           }
          },
          "colorscale": {
           "diverging": [
            [
             0,
             "#8e0152"
            ],
            [
             0.1,
             "#c51b7d"
            ],
            [
             0.2,
             "#de77ae"
            ],
            [
             0.3,
             "#f1b6da"
            ],
            [
             0.4,
             "#fde0ef"
            ],
            [
             0.5,
             "#f7f7f7"
            ],
            [
             0.6,
             "#e6f5d0"
            ],
            [
             0.7,
             "#b8e186"
            ],
            [
             0.8,
             "#7fbc41"
            ],
            [
             0.9,
             "#4d9221"
            ],
            [
             1,
             "#276419"
            ]
           ],
           "sequential": [
            [
             0,
             "#0d0887"
            ],
            [
             0.1111111111111111,
             "#46039f"
            ],
            [
             0.2222222222222222,
             "#7201a8"
            ],
            [
             0.3333333333333333,
             "#9c179e"
            ],
            [
             0.4444444444444444,
             "#bd3786"
            ],
            [
             0.5555555555555556,
             "#d8576b"
            ],
            [
             0.6666666666666666,
             "#ed7953"
            ],
            [
             0.7777777777777778,
             "#fb9f3a"
            ],
            [
             0.8888888888888888,
             "#fdca26"
            ],
            [
             1,
             "#f0f921"
            ]
           ],
           "sequentialminus": [
            [
             0,
             "#0d0887"
            ],
            [
             0.1111111111111111,
             "#46039f"
            ],
            [
             0.2222222222222222,
             "#7201a8"
            ],
            [
             0.3333333333333333,
             "#9c179e"
            ],
            [
             0.4444444444444444,
             "#bd3786"
            ],
            [
             0.5555555555555556,
             "#d8576b"
            ],
            [
             0.6666666666666666,
             "#ed7953"
            ],
            [
             0.7777777777777778,
             "#fb9f3a"
            ],
            [
             0.8888888888888888,
             "#fdca26"
            ],
            [
             1,
             "#f0f921"
            ]
           ]
          },
          "colorway": [
           "#636efa",
           "#EF553B",
           "#00cc96",
           "#ab63fa",
           "#FFA15A",
           "#19d3f3",
           "#FF6692",
           "#B6E880",
           "#FF97FF",
           "#FECB52"
          ],
          "font": {
           "color": "#2a3f5f"
          },
          "geo": {
           "bgcolor": "white",
           "lakecolor": "white",
           "landcolor": "#E5ECF6",
           "showlakes": true,
           "showland": true,
           "subunitcolor": "white"
          },
          "hoverlabel": {
           "align": "left"
          },
          "hovermode": "closest",
          "mapbox": {
           "style": "light"
          },
          "paper_bgcolor": "white",
          "plot_bgcolor": "#E5ECF6",
          "polar": {
           "angularaxis": {
            "gridcolor": "white",
            "linecolor": "white",
            "ticks": ""
           },
           "bgcolor": "#E5ECF6",
           "radialaxis": {
            "gridcolor": "white",
            "linecolor": "white",
            "ticks": ""
           }
          },
          "scene": {
           "xaxis": {
            "backgroundcolor": "#E5ECF6",
            "gridcolor": "white",
            "gridwidth": 2,
            "linecolor": "white",
            "showbackground": true,
            "ticks": "",
            "zerolinecolor": "white"
           },
           "yaxis": {
            "backgroundcolor": "#E5ECF6",
            "gridcolor": "white",
            "gridwidth": 2,
            "linecolor": "white",
            "showbackground": true,
            "ticks": "",
            "zerolinecolor": "white"
           },
           "zaxis": {
            "backgroundcolor": "#E5ECF6",
            "gridcolor": "white",
            "gridwidth": 2,
            "linecolor": "white",
            "showbackground": true,
            "ticks": "",
            "zerolinecolor": "white"
           }
          },
          "shapedefaults": {
           "line": {
            "color": "#2a3f5f"
           }
          },
          "ternary": {
           "aaxis": {
            "gridcolor": "white",
            "linecolor": "white",
            "ticks": ""
           },
           "baxis": {
            "gridcolor": "white",
            "linecolor": "white",
            "ticks": ""
           },
           "bgcolor": "#E5ECF6",
           "caxis": {
            "gridcolor": "white",
            "linecolor": "white",
            "ticks": ""
           }
          },
          "title": {
           "x": 0.05
          },
          "xaxis": {
           "automargin": true,
           "gridcolor": "white",
           "linecolor": "white",
           "ticks": "",
           "title": {
            "standoff": 15
           },
           "zerolinecolor": "white",
           "zerolinewidth": 2
          },
          "yaxis": {
           "automargin": true,
           "gridcolor": "white",
           "linecolor": "white",
           "ticks": "",
           "title": {
            "standoff": 15
           },
           "zerolinecolor": "white",
           "zerolinewidth": 2
          }
         }
        },
        "title": {
         "text": "Population vs total emissions of municipalities"
        },
        "width": 800,
        "xaxis": {
         "anchor": "y",
         "domain": [
          0,
          1
         ],
         "title": {
          "text": "Population in 2021"
         },
         "type": "log"
        },
        "yaxis": {
         "anchor": "x",
         "domain": [
          0,
          1
         ],
         "title": {
          "text": "Total Emissions"
         },
         "type": "log"
        }
       }
      }
     },
     "metadata": {},
     "output_type": "display_data"
    }
   ],
   "source": [
    "query = ''' \n",
    "WITH emissions_by_municipality AS (\n",
    "\tSELECT municipality, \n",
    "\t\tSUM(emissions_operational) AS operational, \n",
    "\t\tSUM(emissions_embodied) AS embodied\n",
    "\tFROM emissions_all\n",
    "\tWHERE year IS NOT NULL\n",
    "\tGROUP BY municipality\n",
    "), \n",
    "population AS (\n",
    "\tSELECT gm_naam AS municipality, SUM(aant_inw) AS population\n",
    "\tFROM cbs_map_all\n",
    "\tWHERE year = 2021\n",
    "\tGROUP BY gm_naam\n",
    ")\n",
    "SELECT\n",
    "\te.*, e.operational + e.embodied AS total_emissions, \n",
    "\tp.population\n",
    "FROM emissions_by_municipality e \n",
    "LEFT JOIN population p  \n",
    "ON e.municipality = p.municipality\n",
    "'''\n",
    "df = pd.read_sql_query(query, engine)\n",
    "fig = px.scatter(df, x='population', y='total_emissions', \n",
    "                 log_x=True, log_y=True, hover_name='municipality', \n",
    "                 labels={'population': 'Population in 2021', 'total_emissions': 'Total Emissions'}, \n",
    "                 title=\"Population vs total emissions of municipalities\")\n",
    "fig.update_layout(width=800, height=500)\n",
    "fig.show()\n",
    "# TODO: Bonus - each municipality has two points, one for 2012 and one for 2021."
   ]
  },
  {
   "cell_type": "code",
   "execution_count": 2,
   "metadata": {},
   "outputs": [
    {
     "data": {
      "application/vnd.plotly.v1+json": {
       "config": {
        "plotlyServerURL": "https://plot.ly"
       },
       "data": [
        {
         "hovertemplate": "<b>%{hovertext}</b><br><br>Population change (2012-2021)=%{x}<br>Total Emissions=%{y}<extra></extra>",
         "hovertext": [
          "'s-Gravenhage",
          "'s-Hertogenbosch",
          "Aa en Hunze",
          "Aalsmeer",
          "Aalten",
          "Achtkarspelen",
          "Alblasserdam",
          "Albrandswaard",
          "Alkmaar",
          "Almelo",
          "Almere",
          "Alphen aan den Rijn",
          "Alphen-Chaam",
          "Ameland",
          "Amersfoort",
          "Amstelveen",
          "Amsterdam",
          "Apeldoorn",
          "Arnhem",
          "Assen",
          "Asten",
          "Baarle-Nassau",
          "Baarn",
          "Barendrecht",
          "Barneveld",
          "Beesel",
          "Bergeijk",
          "Bergen (L.)",
          "Bergen (NH.)",
          "Bergen op Zoom",
          "Berkelland",
          "Bernheze",
          "Best",
          "Beuningen",
          "Beverwijk",
          "Bladel",
          "Blaricum",
          "Bloemendaal",
          "Bodegraven-Reeuwijk",
          "Boekel",
          "Borger-Odoorn",
          "Borne",
          "Borsele",
          "Boxtel",
          "Breda",
          "Bronckhorst",
          "Brummen",
          "Brunssum",
          "Bunnik",
          "Bunschoten",
          "Buren",
          "Capelle aan den IJssel",
          "Castricum",
          "Coevorden",
          "Cranendonck",
          "Culemborg",
          "Dalfsen",
          "Dantumadiel",
          "De Bilt",
          "De Ronde Venen",
          "De Wolden",
          "Delft",
          "Den Helder",
          "Deurne",
          "Deventer",
          "Diemen",
          "Dinkelland",
          "Doesburg",
          "Doetinchem",
          "Dongen",
          "Dordrecht",
          "Drechterland",
          "Drimmelen",
          "Dronten",
          "Druten",
          "Duiven",
          "Echt-Susteren",
          "Edam-Volendam",
          "Ede",
          "Eemnes",
          "Eersel",
          "Eijsden-Margraten",
          "Eindhoven",
          "Elburg",
          "Emmen",
          "Enkhuizen",
          "Enschede",
          "Epe",
          "Ermelo",
          "Etten-Leur",
          "Geertruidenberg",
          "Geldrop-Mierlo",
          "Gemert-Bakel",
          "Gennep",
          "Gilze en Rijen",
          "Goes",
          "Goirle",
          "Gorinchem",
          "Gouda",
          "Groningen",
          "Gulpen-Wittem",
          "Haaksbergen",
          "Haarlem",
          "Haarlemmermeer",
          "Halderberge",
          "Hardenberg",
          "Harderwijk",
          "Hardinxveld-Giessendam",
          "Harlingen",
          "Hattem",
          "Heemskerk",
          "Heemstede",
          "Heerde",
          "Heerenveen",
          "Heerlen",
          "Heeze-Leende",
          "Heiloo",
          "Hellendoorn",
          "Helmond",
          "Hendrik-Ido-Ambacht",
          "Heumen",
          "Heusden",
          "Hillegom",
          "Hilvarenbeek",
          "Hilversum",
          "Hof van Twente",
          "Hollands Kroon",
          "Hoogeveen",
          "Hoorn",
          "Horst aan de Maas",
          "Houten",
          "Huizen",
          "Hulst",
          "IJsselstein",
          "Kaag en Braassem",
          "Kampen",
          "Kapelle",
          "Katwijk",
          "Kerkrade",
          "Koggenland",
          "Krimpen aan den IJssel",
          "Laarbeek",
          "Landgraaf",
          "Landsmeer",
          "Lansingerland",
          "Leeuwarden",
          "Leiden",
          "Leiderdorp",
          "Leidschendam-Voorburg",
          "Lelystad",
          "Leudal",
          "Leusden",
          "Lingewaard",
          "Lisse",
          "Lochem",
          "Loon op Zand",
          "Lopik",
          "Losser",
          "Maasdriel",
          "Maasgouw",
          "Maassluis",
          "Maastricht",
          "Medemblik",
          "Meerssen",
          "Meppel",
          "Midden-Delfland",
          "Midden-Drenthe",
          "Moerdijk",
          "Montferland",
          "Montfoort",
          "Mook en Middelaar",
          "Neder-Betuwe",
          "Nederweert",
          "Nieuwegein",
          "Nieuwkoop",
          "Nijkerk",
          "Nijmegen",
          "Noord-Beveland",
          "Noordenveld",
          "Noordoostpolder",
          "Noordwijk",
          "Nuenen, Gerwen en Nederwetten",
          "Nunspeet",
          "Oegstgeest",
          "Oirschot",
          "Oisterwijk",
          "Oldambt",
          "Oldebroek",
          "Oldenzaal",
          "Olst-Wijhe",
          "Ommen",
          "Oost Gelre",
          "Oosterhout",
          "Ooststellingwerf",
          "Oostzaan",
          "Opmeer",
          "Opsterland",
          "Oss",
          "Oude IJsselstreek",
          "Ouder-Amstel",
          "Oudewater",
          "Overbetuwe",
          "Papendrecht",
          "Peel en Maas",
          "Pekela",
          "Pijnacker-Nootdorp",
          "Purmerend",
          "Putten",
          "Raalte",
          "Reimerswaal",
          "Renkum",
          "Renswoude",
          "Reusel-De Mierden",
          "Rheden",
          "Rhenen",
          "Ridderkerk",
          "Rijssen-Holten",
          "Roerdalen",
          "Roermond",
          "Roosendaal",
          "Rotterdam",
          "Rozendaal",
          "Rucphen",
          "Schagen",
          "Scherpenzeel",
          "Schiedam",
          "Schiermonnikoog",
          "Schouwen-Duiveland",
          "Simpelveld",
          "Sint-Michielsgestel",
          "Sittard-Geleen",
          "Sliedrecht",
          "Sluis",
          "Smallingerland",
          "Soest",
          "Someren",
          "Son en Breugel",
          "Stadskanaal",
          "Staphorst",
          "Stede Broec",
          "Steenbergen",
          "Steenwijkerland",
          "Stichtse Vecht",
          "Súdwest-Fryslân",
          "Terneuzen",
          "Terschelling",
          "Texel",
          "Teylingen",
          "Tholen",
          "Tiel",
          "Tilburg",
          "Tubbergen",
          "Twenterand",
          "Tynaarlo",
          "Tytsjerksteradiel",
          "Uitgeest",
          "Uithoorn",
          "Urk",
          "Utrecht",
          "Utrechtse Heuvelrug",
          "Vaals",
          "Valkenburg aan de Geul",
          "Valkenswaard",
          "Veendam",
          "Veenendaal",
          "Veere",
          "Veldhoven",
          "Velsen",
          "Venlo",
          "Venray",
          "Vlaardingen",
          "Vlieland",
          "Vlissingen",
          "Voerendaal",
          "Voorschoten",
          "Voorst",
          "Vught",
          "Waalre",
          "Waalwijk",
          "Waddinxveen",
          "Wageningen",
          "Wassenaar",
          "Waterland",
          "Weert",
          "West Maas en Waal",
          "Westerveld",
          "Westervoort",
          "Westland",
          "Weststellingwerf",
          "Wierden",
          "Wijchen",
          "Wijdemeren",
          "Wijk bij Duurstede",
          "Winterswijk",
          "Woensdrecht",
          "Woerden",
          "Wormerland",
          "Woudenberg",
          "Zaanstad",
          "Zaltbommel",
          "Zandvoort",
          "Zeewolde",
          "Zeist",
          "Zevenaar",
          "Zoetermeer",
          "Zoeterwoude",
          "Zuidplas",
          "Zundert",
          "Zutphen",
          "Zwartewaterland",
          "Zwijndrecht",
          "Zwolle",
          "Vijfheerenlanden",
          "Krimpenerwaard",
          "Midden-Groningen",
          "Waadhoeke",
          "Eemsdelta",
          "Meierijstad",
          "Het Hogeland",
          "Beekdaelen",
          "De Fryske Marren",
          "Hoeksche Waard",
          "Molenlanden",
          "Gooise Meren",
          "Noardeast-Fryslân",
          "Nissewaard",
          "West Betuwe",
          "Westerwolde",
          "Altena",
          "Goeree-Overflakkee",
          "Berg en Dal",
          "Westerkwartier"
         ],
         "legendgroup": "",
         "marker": {
          "color": "#636efa",
          "symbol": "circle"
         },
         "mode": "markers",
         "name": "",
         "orientation": "v",
         "showlegend": false,
         "type": "scatter",
         "x": [
          46180,
          13565,
          -295,
          1620,
          -195,
          -205,
          690,
          800,
          15605,
          400,
          21540,
          39670,
          845,
          215,
          9180,
          7495,
          82450,
          7870,
          13140,
          1615,
          425,
          175,
          430,
          1590,
          6470,
          -285,
          655,
          -175,
          -965,
          1365,
          -1070,
          1675,
          1530,
          715,
          2020,
          960,
          2915,
          1420,
          2435,
          1000,
          -240,
          2080,
          135,
          2690,
          7700,
          -1360,
          -420,
          -1525,
          880,
          1820,
          1085,
          1180,
          1610,
          -565,
          545,
          1490,
          1495,
          -315,
          1300,
          1735,
          630,
          4915,
          -485,
          670,
          2565,
          6405,
          550,
          -530,
          2045,
          1170,
          295,
          535,
          640,
          1540,
          785,
          -460,
          -405,
          7550,
          9785,
          545,
          1380,
          900,
          18480,
          1010,
          -1785,
          385,
          1685,
          675,
          895,
          1835,
          315,
          1390,
          1740,
          -335,
          1120,
          1685,
          1135,
          2335,
          2475,
          40115,
          -270,
          -220,
          10750,
          13895,
          1105,
          1960,
          3245,
          755,
          -30,
          430,
          -75,
          1300,
          535,
          7170,
          -2065,
          890,
          1500,
          130,
          3830,
          3010,
          145,
          1870,
          1360,
          630,
          5720,
          -585,
          870,
          715,
          2330,
          585,
          1885,
          -475,
          -75,
          -440,
          1760,
          3740,
          485,
          3530,
          -1815,
          605,
          715,
          1200,
          -795,
          1230,
          8095,
          29145,
          5340,
          655,
          4030,
          4465,
          -410,
          1645,
          1035,
          475,
          690,
          430,
          400,
          220,
          1425,
          -170,
          1735,
          -830,
          2015,
          -780,
          1830,
          1185,
          -165,
          660,
          1005,
          295,
          30,
          2030,
          420,
          3150,
          2160,
          3460,
          12175,
          60,
          255,
          1250,
          18560,
          1150,
          1405,
          2280,
          975,
          6600,
          -825,
          1055,
          -480,
          705,
          895,
          -435,
          2215,
          -380,
          600,
          620,
          -135,
          7890,
          -480,
          895,
          290,
          1920,
          135,
          400,
          -690,
          5570,
          2415,
          500,
          1310,
          1210,
          -230,
          735,
          465,
          -70,
          1135,
          1460,
          635,
          -520,
          2630,
          -240,
          35335,
          205,
          765,
          27885,
          770,
          3035,
          -5,
          -85,
          -435,
          1360,
          -2795,
          1390,
          -730,
          580,
          1285,
          855,
          1735,
          -1225,
          1005,
          270,
          940,
          910,
          1760,
          7385,
          -265,
          115,
          -10,
          2090,
          545,
          385,
          14340,
          120,
          -195,
          1640,
          -125,
          730,
          1910,
          2280,
          42900,
          1685,
          330,
          -585,
          550,
          -525,
          4030,
          -5,
          1625,
          1235,
          1935,
          745,
          2880,
          85,
          -125,
          -195,
          1355,
          1075,
          5870,
          1045,
          2380,
          5200,
          2590,
          1180,
          315,
          1340,
          1250,
          435,
          -275,
          9440,
          325,
          690,
          535,
          1135,
          860,
          70,
          350,
          2630,
          555,
          1600,
          8610,
          2675,
          520,
          1585,
          3795,
          11640,
          2930,
          675,
          4385,
          770,
          975,
          810,
          315,
          8325,
          null,
          null,
          null,
          null,
          null,
          null,
          null,
          null,
          null,
          null,
          null,
          null,
          null,
          null,
          null,
          null,
          null,
          null,
          null,
          null
         ],
         "xaxis": "x",
         "y": [
          8659827813.5,
          2853036179.5,
          601663255.5,
          597136356,
          522622834.5,
          552899974.5,
          304276976.5,
          406154764,
          1773980226,
          1350786764.5,
          1547811352,
          1768086469.5,
          215234524,
          87361635,
          2608506947.5,
          1518425756,
          13107302940,
          3129002293.5,
          2858878221.5,
          1257957701.5,
          344731933.5,
          152578721,
          521303658.5,
          732333379,
          1134371234.5,
          268851931.5,
          403540464,
          278406745.5,
          691600661.5,
          1241266067,
          903639827,
          631692422,
          593178841.5,
          504149386,
          716823224.5,
          419054249,
          280402708.5,
          595679626,
          587498062.5,
          234471078,
          570179509,
          476252190.5,
          399980758,
          597908721,
          3219999408.5,
          841319358,
          433384855,
          570953335,
          319896557,
          405867139.5,
          588530799,
          826235915,
          713276049,
          821518048,
          446434753,
          441503641.5,
          584710523.5,
          366742684.5,
          903776251.5,
          863777057.5,
          564024805,
          1882924136.5,
          1013549451,
          689678207,
          1747913337.5,
          427270263,
          592712415,
          200748729,
          1073443825,
          510994699.5,
          2015238380.5,
          376834285,
          514240369.5,
          797915163,
          374939784.5,
          279798520,
          674198861,
          683369477.5,
          2207948875.5,
          180226185,
          419486270.5,
          613320754,
          4181197739.5,
          435117805,
          2259051547,
          328301177.5,
          2960947838.5,
          704952778,
          509585862,
          771722879,
          371332663.5,
          788492026,
          640645072,
          349923217.5,
          470083219.5,
          686684115.5,
          457252863,
          630474636,
          1190650762,
          4720275921,
          317056737,
          509499821,
          2815366814.5,
          2656278153,
          622674096,
          1206655227.5,
          825744455.5,
          267139682.5,
          299937003,
          269698675,
          660492662.5,
          577496140,
          393660214,
          995220482,
          1702788747,
          364896035,
          490329596,
          705309047.5,
          1547291091,
          495384816,
          336709940,
          898340309.5,
          375412487.5,
          363475917,
          1803080582.5,
          798729658,
          917066783,
          1063392693.5,
          1276033849,
          940305217.5,
          718058614.5,
          766181156.5,
          535865270.5,
          551387346,
          535248968,
          873875733,
          226268401,
          1042404536.5,
          955098345.5,
          411193411,
          496763832.5,
          468061658.5,
          753938730,
          208278851.5,
          981404550.5,
          2174790640.5,
          2234825496.5,
          454578684.5,
          1345220137,
          1114744796.5,
          785791925,
          554740037.5,
          871924824,
          381335805,
          788466911,
          467200058,
          273023134,
          495883044,
          543625092,
          538885649,
          560392548.5,
          2612740315.5,
          824492734.5,
          433384275,
          616647266.5,
          333694506,
          720017871,
          758864758,
          752015109,
          243963811,
          186000084,
          454329070,
          375504741,
          711284809.5,
          549347966.5,
          771495738.5,
          3445038423.5,
          153855094,
          691036917,
          889333256,
          584726081,
          521105366.5,
          518445249.5,
          null,
          414258454.5,
          577450627.5,
          878145125,
          464811040.5,
          627339665,
          373364666,
          382350711.5,
          597207422,
          1073260644.5,
          532535816.5,
          175682939.5,
          232650085,
          586784998,
          1833412435,
          797000028.5,
          247013893.5,
          189250328,
          862428122.5,
          null,
          937921676,
          277402271,
          837647487.5,
          748813351,
          503873650,
          713277769.5,
          392339512.5,
          667662194,
          105563958.5,
          291725142.5,
          924551012.5,
          387775343,
          774312102,
          718376689.5,
          449213084.5,
          1169866169.5,
          1453799671.5,
          9348862343,
          47802578,
          525436729.5,
          809831134.5,
          193856209.5,
          1264375846.5,
          25627546,
          695103135.5,
          226198970,
          646721106,
          1883202857.5,
          402705660,
          480545719,
          1066497616.5,
          960839566.5,
          430762701,
          365642105.5,
          687143368,
          346621547,
          370449305.5,
          491665482,
          876204809,
          1214866189,
          1487420857,
          990507464,
          122864829.5,
          308027993.5,
          600928762.5,
          456659461.5,
          754230773.5,
          3341801376,
          471364563,
          628410406,
          725267750.5,
          631876718,
          231013524.5,
          541396936.5,
          313931405.5,
          5341551386.5,
          1083789949.5,
          225460508.5,
          363085713.5,
          660527331.5,
          588495477,
          978160385.5,
          407241845.5,
          889599617.5,
          1191856798,
          2001811061.5,
          864742306.5,
          1238862031.5,
          28081303,
          782773056.5,
          277266977,
          455087598,
          524672386,
          565476098.5,
          380779126,
          933954090.5,
          524186097.5,
          748222384.5,
          663283042,
          334536371,
          1021163473.5,
          442437817.5,
          448194328,
          207105395,
          1948252112.5,
          523503922.5,
          493260661.5,
          777244447,
          529245773.5,
          437792024,
          586280528,
          451585829,
          922148287.5,
          291491381.5,
          230481692.5,
          2635429236.5,
          561722076,
          332239180,
          354671287.5,
          1368213151.5,
          713390270,
          1921029553,
          159050945,
          788905211,
          502036318.5,
          878360813.5,
          395009178,
          742365066.5,
          2305882594,
          291684142.5,
          710846287,
          491647243.5,
          349748822,
          108598605.5,
          858688158.5,
          287521099,
          223522933,
          600568222,
          455741214.5,
          240690103,
          733089169,
          180821921,
          952898960,
          296893146,
          227889433,
          310421084,
          832560317.5,
          418561497,
          401887880.5
         ],
         "yaxis": "y"
        }
       ],
       "layout": {
        "height": 500,
        "legend": {
         "tracegroupgap": 0
        },
        "template": {
         "data": {
          "bar": [
           {
            "error_x": {
             "color": "#2a3f5f"
            },
            "error_y": {
             "color": "#2a3f5f"
            },
            "marker": {
             "line": {
              "color": "#E5ECF6",
              "width": 0.5
             },
             "pattern": {
              "fillmode": "overlay",
              "size": 10,
              "solidity": 0.2
             }
            },
            "type": "bar"
           }
          ],
          "barpolar": [
           {
            "marker": {
             "line": {
              "color": "#E5ECF6",
              "width": 0.5
             },
             "pattern": {
              "fillmode": "overlay",
              "size": 10,
              "solidity": 0.2
             }
            },
            "type": "barpolar"
           }
          ],
          "carpet": [
           {
            "aaxis": {
             "endlinecolor": "#2a3f5f",
             "gridcolor": "white",
             "linecolor": "white",
             "minorgridcolor": "white",
             "startlinecolor": "#2a3f5f"
            },
            "baxis": {
             "endlinecolor": "#2a3f5f",
             "gridcolor": "white",
             "linecolor": "white",
             "minorgridcolor": "white",
             "startlinecolor": "#2a3f5f"
            },
            "type": "carpet"
           }
          ],
          "choropleth": [
           {
            "colorbar": {
             "outlinewidth": 0,
             "ticks": ""
            },
            "type": "choropleth"
           }
          ],
          "contour": [
           {
            "colorbar": {
             "outlinewidth": 0,
             "ticks": ""
            },
            "colorscale": [
             [
              0,
              "#0d0887"
             ],
             [
              0.1111111111111111,
              "#46039f"
             ],
             [
              0.2222222222222222,
              "#7201a8"
             ],
             [
              0.3333333333333333,
              "#9c179e"
             ],
             [
              0.4444444444444444,
              "#bd3786"
             ],
             [
              0.5555555555555556,
              "#d8576b"
             ],
             [
              0.6666666666666666,
              "#ed7953"
             ],
             [
              0.7777777777777778,
              "#fb9f3a"
             ],
             [
              0.8888888888888888,
              "#fdca26"
             ],
             [
              1,
              "#f0f921"
             ]
            ],
            "type": "contour"
           }
          ],
          "contourcarpet": [
           {
            "colorbar": {
             "outlinewidth": 0,
             "ticks": ""
            },
            "type": "contourcarpet"
           }
          ],
          "heatmap": [
           {
            "colorbar": {
             "outlinewidth": 0,
             "ticks": ""
            },
            "colorscale": [
             [
              0,
              "#0d0887"
             ],
             [
              0.1111111111111111,
              "#46039f"
             ],
             [
              0.2222222222222222,
              "#7201a8"
             ],
             [
              0.3333333333333333,
              "#9c179e"
             ],
             [
              0.4444444444444444,
              "#bd3786"
             ],
             [
              0.5555555555555556,
              "#d8576b"
             ],
             [
              0.6666666666666666,
              "#ed7953"
             ],
             [
              0.7777777777777778,
              "#fb9f3a"
             ],
             [
              0.8888888888888888,
              "#fdca26"
             ],
             [
              1,
              "#f0f921"
             ]
            ],
            "type": "heatmap"
           }
          ],
          "heatmapgl": [
           {
            "colorbar": {
             "outlinewidth": 0,
             "ticks": ""
            },
            "colorscale": [
             [
              0,
              "#0d0887"
             ],
             [
              0.1111111111111111,
              "#46039f"
             ],
             [
              0.2222222222222222,
              "#7201a8"
             ],
             [
              0.3333333333333333,
              "#9c179e"
             ],
             [
              0.4444444444444444,
              "#bd3786"
             ],
             [
              0.5555555555555556,
              "#d8576b"
             ],
             [
              0.6666666666666666,
              "#ed7953"
             ],
             [
              0.7777777777777778,
              "#fb9f3a"
             ],
             [
              0.8888888888888888,
              "#fdca26"
             ],
             [
              1,
              "#f0f921"
             ]
            ],
            "type": "heatmapgl"
           }
          ],
          "histogram": [
           {
            "marker": {
             "pattern": {
              "fillmode": "overlay",
              "size": 10,
              "solidity": 0.2
             }
            },
            "type": "histogram"
           }
          ],
          "histogram2d": [
           {
            "colorbar": {
             "outlinewidth": 0,
             "ticks": ""
            },
            "colorscale": [
             [
              0,
              "#0d0887"
             ],
             [
              0.1111111111111111,
              "#46039f"
             ],
             [
              0.2222222222222222,
              "#7201a8"
             ],
             [
              0.3333333333333333,
              "#9c179e"
             ],
             [
              0.4444444444444444,
              "#bd3786"
             ],
             [
              0.5555555555555556,
              "#d8576b"
             ],
             [
              0.6666666666666666,
              "#ed7953"
             ],
             [
              0.7777777777777778,
              "#fb9f3a"
             ],
             [
              0.8888888888888888,
              "#fdca26"
             ],
             [
              1,
              "#f0f921"
             ]
            ],
            "type": "histogram2d"
           }
          ],
          "histogram2dcontour": [
           {
            "colorbar": {
             "outlinewidth": 0,
             "ticks": ""
            },
            "colorscale": [
             [
              0,
              "#0d0887"
             ],
             [
              0.1111111111111111,
              "#46039f"
             ],
             [
              0.2222222222222222,
              "#7201a8"
             ],
             [
              0.3333333333333333,
              "#9c179e"
             ],
             [
              0.4444444444444444,
              "#bd3786"
             ],
             [
              0.5555555555555556,
              "#d8576b"
             ],
             [
              0.6666666666666666,
              "#ed7953"
             ],
             [
              0.7777777777777778,
              "#fb9f3a"
             ],
             [
              0.8888888888888888,
              "#fdca26"
             ],
             [
              1,
              "#f0f921"
             ]
            ],
            "type": "histogram2dcontour"
           }
          ],
          "mesh3d": [
           {
            "colorbar": {
             "outlinewidth": 0,
             "ticks": ""
            },
            "type": "mesh3d"
           }
          ],
          "parcoords": [
           {
            "line": {
             "colorbar": {
              "outlinewidth": 0,
              "ticks": ""
             }
            },
            "type": "parcoords"
           }
          ],
          "pie": [
           {
            "automargin": true,
            "type": "pie"
           }
          ],
          "scatter": [
           {
            "fillpattern": {
             "fillmode": "overlay",
             "size": 10,
             "solidity": 0.2
            },
            "type": "scatter"
           }
          ],
          "scatter3d": [
           {
            "line": {
             "colorbar": {
              "outlinewidth": 0,
              "ticks": ""
             }
            },
            "marker": {
             "colorbar": {
              "outlinewidth": 0,
              "ticks": ""
             }
            },
            "type": "scatter3d"
           }
          ],
          "scattercarpet": [
           {
            "marker": {
             "colorbar": {
              "outlinewidth": 0,
              "ticks": ""
             }
            },
            "type": "scattercarpet"
           }
          ],
          "scattergeo": [
           {
            "marker": {
             "colorbar": {
              "outlinewidth": 0,
              "ticks": ""
             }
            },
            "type": "scattergeo"
           }
          ],
          "scattergl": [
           {
            "marker": {
             "colorbar": {
              "outlinewidth": 0,
              "ticks": ""
             }
            },
            "type": "scattergl"
           }
          ],
          "scattermapbox": [
           {
            "marker": {
             "colorbar": {
              "outlinewidth": 0,
              "ticks": ""
             }
            },
            "type": "scattermapbox"
           }
          ],
          "scatterpolar": [
           {
            "marker": {
             "colorbar": {
              "outlinewidth": 0,
              "ticks": ""
             }
            },
            "type": "scatterpolar"
           }
          ],
          "scatterpolargl": [
           {
            "marker": {
             "colorbar": {
              "outlinewidth": 0,
              "ticks": ""
             }
            },
            "type": "scatterpolargl"
           }
          ],
          "scatterternary": [
           {
            "marker": {
             "colorbar": {
              "outlinewidth": 0,
              "ticks": ""
             }
            },
            "type": "scatterternary"
           }
          ],
          "surface": [
           {
            "colorbar": {
             "outlinewidth": 0,
             "ticks": ""
            },
            "colorscale": [
             [
              0,
              "#0d0887"
             ],
             [
              0.1111111111111111,
              "#46039f"
             ],
             [
              0.2222222222222222,
              "#7201a8"
             ],
             [
              0.3333333333333333,
              "#9c179e"
             ],
             [
              0.4444444444444444,
              "#bd3786"
             ],
             [
              0.5555555555555556,
              "#d8576b"
             ],
             [
              0.6666666666666666,
              "#ed7953"
             ],
             [
              0.7777777777777778,
              "#fb9f3a"
             ],
             [
              0.8888888888888888,
              "#fdca26"
             ],
             [
              1,
              "#f0f921"
             ]
            ],
            "type": "surface"
           }
          ],
          "table": [
           {
            "cells": {
             "fill": {
              "color": "#EBF0F8"
             },
             "line": {
              "color": "white"
             }
            },
            "header": {
             "fill": {
              "color": "#C8D4E3"
             },
             "line": {
              "color": "white"
             }
            },
            "type": "table"
           }
          ]
         },
         "layout": {
          "annotationdefaults": {
           "arrowcolor": "#2a3f5f",
           "arrowhead": 0,
           "arrowwidth": 1
          },
          "autotypenumbers": "strict",
          "coloraxis": {
           "colorbar": {
            "outlinewidth": 0,
            "ticks": ""
           }
          },
          "colorscale": {
           "diverging": [
            [
             0,
             "#8e0152"
            ],
            [
             0.1,
             "#c51b7d"
            ],
            [
             0.2,
             "#de77ae"
            ],
            [
             0.3,
             "#f1b6da"
            ],
            [
             0.4,
             "#fde0ef"
            ],
            [
             0.5,
             "#f7f7f7"
            ],
            [
             0.6,
             "#e6f5d0"
            ],
            [
             0.7,
             "#b8e186"
            ],
            [
             0.8,
             "#7fbc41"
            ],
            [
             0.9,
             "#4d9221"
            ],
            [
             1,
             "#276419"
            ]
           ],
           "sequential": [
            [
             0,
             "#0d0887"
            ],
            [
             0.1111111111111111,
             "#46039f"
            ],
            [
             0.2222222222222222,
             "#7201a8"
            ],
            [
             0.3333333333333333,
             "#9c179e"
            ],
            [
             0.4444444444444444,
             "#bd3786"
            ],
            [
             0.5555555555555556,
             "#d8576b"
            ],
            [
             0.6666666666666666,
             "#ed7953"
            ],
            [
             0.7777777777777778,
             "#fb9f3a"
            ],
            [
             0.8888888888888888,
             "#fdca26"
            ],
            [
             1,
             "#f0f921"
            ]
           ],
           "sequentialminus": [
            [
             0,
             "#0d0887"
            ],
            [
             0.1111111111111111,
             "#46039f"
            ],
            [
             0.2222222222222222,
             "#7201a8"
            ],
            [
             0.3333333333333333,
             "#9c179e"
            ],
            [
             0.4444444444444444,
             "#bd3786"
            ],
            [
             0.5555555555555556,
             "#d8576b"
            ],
            [
             0.6666666666666666,
             "#ed7953"
            ],
            [
             0.7777777777777778,
             "#fb9f3a"
            ],
            [
             0.8888888888888888,
             "#fdca26"
            ],
            [
             1,
             "#f0f921"
            ]
           ]
          },
          "colorway": [
           "#636efa",
           "#EF553B",
           "#00cc96",
           "#ab63fa",
           "#FFA15A",
           "#19d3f3",
           "#FF6692",
           "#B6E880",
           "#FF97FF",
           "#FECB52"
          ],
          "font": {
           "color": "#2a3f5f"
          },
          "geo": {
           "bgcolor": "white",
           "lakecolor": "white",
           "landcolor": "#E5ECF6",
           "showlakes": true,
           "showland": true,
           "subunitcolor": "white"
          },
          "hoverlabel": {
           "align": "left"
          },
          "hovermode": "closest",
          "mapbox": {
           "style": "light"
          },
          "paper_bgcolor": "white",
          "plot_bgcolor": "#E5ECF6",
          "polar": {
           "angularaxis": {
            "gridcolor": "white",
            "linecolor": "white",
            "ticks": ""
           },
           "bgcolor": "#E5ECF6",
           "radialaxis": {
            "gridcolor": "white",
            "linecolor": "white",
            "ticks": ""
           }
          },
          "scene": {
           "xaxis": {
            "backgroundcolor": "#E5ECF6",
            "gridcolor": "white",
            "gridwidth": 2,
            "linecolor": "white",
            "showbackground": true,
            "ticks": "",
            "zerolinecolor": "white"
           },
           "yaxis": {
            "backgroundcolor": "#E5ECF6",
            "gridcolor": "white",
            "gridwidth": 2,
            "linecolor": "white",
            "showbackground": true,
            "ticks": "",
            "zerolinecolor": "white"
           },
           "zaxis": {
            "backgroundcolor": "#E5ECF6",
            "gridcolor": "white",
            "gridwidth": 2,
            "linecolor": "white",
            "showbackground": true,
            "ticks": "",
            "zerolinecolor": "white"
           }
          },
          "shapedefaults": {
           "line": {
            "color": "#2a3f5f"
           }
          },
          "ternary": {
           "aaxis": {
            "gridcolor": "white",
            "linecolor": "white",
            "ticks": ""
           },
           "baxis": {
            "gridcolor": "white",
            "linecolor": "white",
            "ticks": ""
           },
           "bgcolor": "#E5ECF6",
           "caxis": {
            "gridcolor": "white",
            "linecolor": "white",
            "ticks": ""
           }
          },
          "title": {
           "x": 0.05
          },
          "xaxis": {
           "automargin": true,
           "gridcolor": "white",
           "linecolor": "white",
           "ticks": "",
           "title": {
            "standoff": 15
           },
           "zerolinecolor": "white",
           "zerolinewidth": 2
          },
          "yaxis": {
           "automargin": true,
           "gridcolor": "white",
           "linecolor": "white",
           "ticks": "",
           "title": {
            "standoff": 15
           },
           "zerolinecolor": "white",
           "zerolinewidth": 2
          }
         }
        },
        "title": {
         "text": "Population change vs total emissions of municipalities"
        },
        "width": 800,
        "xaxis": {
         "anchor": "y",
         "domain": [
          0,
          1
         ],
         "title": {
          "text": "Population change (2012-2021)"
         }
        },
        "yaxis": {
         "anchor": "x",
         "domain": [
          0,
          1
         ],
         "title": {
          "text": "Total Emissions"
         }
        }
       }
      }
     },
     "metadata": {},
     "output_type": "display_data"
    }
   ],
   "source": [
    "# scatter plot of municipalities, x-axis population change (2021 - 2012), y-axis total emissions\n",
    "df = QueryRunner('sql/reporting/emissions_vs_populationChange.sql').get_dataframe_from_query()\n",
    "fig = px.scatter(\n",
    "    df, x='population_change', y='total_emissions', hover_name='municipality',\n",
    "    # log_x=True, log_y=True,  \n",
    "    labels={'population_change': 'Population change (2012-2021)', 'total_emissions': 'Total Emissions'}, \n",
    "    title=\"Population change vs total emissions of municipalities\"\n",
    "    )\n",
    "fig.update_layout(width=800, height=500)\n",
    "fig.show()"
   ]
  },
  {
   "cell_type": "code",
   "execution_count": null,
   "metadata": {},
   "outputs": [],
   "source": [
    "# scatter plot of municipalities, x-axis sqm change (2012 - 2021), y-axis total emissions.\n",
    "\n",
    "# scatter plot of municipalities, x-axis sqm change (2012 - 2021), y-axis population change (2012 - 2021)\n",
    "\n",
    "# bonus: 3D scatter plot of municipalities, x-axis sqm change (2012 - 2021), y-axis population change (2012 - 2021), z-axis total emissions "
   ]
  },
  {
   "cell_type": "markdown",
   "metadata": {},
   "source": [
    "# What determines the success of a municipality / neighborhood? \n",
    "- which performs better - shrinking, growing, or consistent municipalities? (in terms of population)\n",
    "- we are building more sqm of housing per person than before. (How) does this affect emissions? \n",
    "- we are trying to renovate more instead of building from scratch. (How) does this affect emissions? "
   ]
  },
  {
   "cell_type": "code",
   "execution_count": null,
   "metadata": {},
   "outputs": [],
   "source": [
    "# scatter plot for remaining carbon budget (per person vs per sqm), color by shrinking, growing, or stable population"
   ]
  },
  {
   "cell_type": "markdown",
   "metadata": {},
   "source": [
    "# Visualize embodied emissions (2011 - now)\n",
    "- total embodied emissions \n",
    "- embodied emissions for one municipality\n",
    "- embodied emissions for all municipalities (highlight highest and lowest municipalities)"
   ]
  },
  {
   "cell_type": "code",
   "execution_count": 9,
   "metadata": {},
   "outputs": [
    {
     "data": {
      "application/vnd.plotly.v1+json": {
       "config": {
        "plotlyServerURL": "https://plot.ly"
       },
       "data": [
        {
         "alignmentgroup": "True",
         "hovertemplate": "status=Construction<br>year=%{x}<br>emissions_embodied_kg=%{y}<extra></extra>",
         "legendgroup": "Construction",
         "marker": {
          "color": "#636efa",
          "pattern": {
           "shape": ""
          }
         },
         "name": "Construction",
         "offsetgroup": "Construction",
         "orientation": "v",
         "showlegend": true,
         "textposition": "auto",
         "type": "bar",
         "x": [
          2012,
          2013,
          2014,
          2015,
          2016,
          2017,
          2018,
          2019,
          2020,
          2021,
          2022
         ],
         "xaxis": "x",
         "y": [
          1534601860,
          1119361112,
          1365332036,
          1805133568,
          1932968840,
          2103102608,
          2394072248,
          2365378184,
          1990606292,
          1962773328,
          1392125992
         ],
         "yaxis": "y"
        },
        {
         "alignmentgroup": "True",
         "hovertemplate": "status=Demolition<br>year=%{x}<br>emissions_embodied_kg=%{y}<extra></extra>",
         "legendgroup": "Demolition",
         "marker": {
          "color": "#EF553B",
          "pattern": {
           "shape": ""
          }
         },
         "name": "Demolition",
         "offsetgroup": "Demolition",
         "orientation": "v",
         "showlegend": true,
         "textposition": "auto",
         "type": "bar",
         "x": [
          2012,
          2013,
          2014,
          2015,
          2016,
          2017,
          2018,
          2019,
          2020,
          2021,
          2022
         ],
         "xaxis": "x",
         "y": [
          463578346,
          393605597,
          459976363,
          486938452,
          359370627,
          319844756,
          278829166,
          335780060,
          259633836,
          285018811,
          279352458
         ],
         "yaxis": "y"
        },
        {
         "alignmentgroup": "True",
         "hovertemplate": "status=renovation - pre2020<br>year=%{x}<br>emissions_embodied_kg=%{y}<extra></extra>",
         "legendgroup": "renovation - pre2020",
         "marker": {
          "color": "#00cc96",
          "pattern": {
           "shape": ""
          }
         },
         "name": "renovation - pre2020",
         "offsetgroup": "renovation - pre2020",
         "orientation": "v",
         "showlegend": true,
         "textposition": "auto",
         "type": "bar",
         "x": [
          2012,
          2013,
          2014,
          2015,
          2016,
          2017,
          2018,
          2019
         ],
         "xaxis": "x",
         "y": [
          751433508,
          694997604,
          599198670,
          514560438,
          484732710,
          471261042,
          495022752,
          424007640
         ],
         "yaxis": "y"
        },
        {
         "alignmentgroup": "True",
         "hovertemplate": "status=transformation - adding units<br>year=%{x}<br>emissions_embodied_kg=%{y}<extra></extra>",
         "legendgroup": "transformation - adding units",
         "marker": {
          "color": "#ab63fa",
          "pattern": {
           "shape": ""
          }
         },
         "name": "transformation - adding units",
         "offsetgroup": "transformation - adding units",
         "orientation": "v",
         "showlegend": true,
         "textposition": "auto",
         "type": "bar",
         "x": [
          2012,
          2013,
          2014,
          2015,
          2016,
          2017,
          2018,
          2019,
          2020,
          2021,
          2022
         ],
         "xaxis": "x",
         "y": [
          169675758,
          244499094,
          219747528,
          228754008,
          308123928,
          331474248,
          306102258,
          288353898,
          316529640,
          310215528,
          289891476
         ],
         "yaxis": "y"
        },
        {
         "alignmentgroup": "True",
         "hovertemplate": "status=transformation - function change<br>year=%{x}<br>emissions_embodied_kg=%{y}<extra></extra>",
         "legendgroup": "transformation - function change",
         "marker": {
          "color": "#FFA15A",
          "pattern": {
           "shape": ""
          }
         },
         "name": "transformation - function change",
         "offsetgroup": "transformation - function change",
         "orientation": "v",
         "showlegend": true,
         "textposition": "auto",
         "type": "bar",
         "x": [
          2012,
          2013,
          2014,
          2015,
          2016,
          2017,
          2018,
          2019,
          2020,
          2021,
          2022
         ],
         "xaxis": "x",
         "y": [
          76739670,
          112093884,
          56310282,
          108158148,
          35163072,
          32127606,
          26849844,
          24806376,
          33057486,
          19867176,
          10528686
         ],
         "yaxis": "y"
        },
        {
         "alignmentgroup": "True",
         "hovertemplate": "status=renovation - post2020<br>year=%{x}<br>emissions_embodied_kg=%{y}<extra></extra>",
         "legendgroup": "renovation - post2020",
         "marker": {
          "color": "#19d3f3",
          "pattern": {
           "shape": ""
          }
         },
         "name": "renovation - post2020",
         "offsetgroup": "renovation - post2020",
         "orientation": "v",
         "showlegend": true,
         "textposition": "auto",
         "type": "bar",
         "x": [
          2020,
          2021,
          2022
         ],
         "xaxis": "x",
         "y": [
          493140942,
          543901932,
          473414130
         ],
         "yaxis": "y"
        }
       ],
       "layout": {
        "barmode": "relative",
        "legend": {
         "title": {
          "text": "status"
         },
         "tracegroupgap": 0
        },
        "template": {
         "data": {
          "bar": [
           {
            "error_x": {
             "color": "#2a3f5f"
            },
            "error_y": {
             "color": "#2a3f5f"
            },
            "marker": {
             "line": {
              "color": "#E5ECF6",
              "width": 0.5
             },
             "pattern": {
              "fillmode": "overlay",
              "size": 10,
              "solidity": 0.2
             }
            },
            "type": "bar"
           }
          ],
          "barpolar": [
           {
            "marker": {
             "line": {
              "color": "#E5ECF6",
              "width": 0.5
             },
             "pattern": {
              "fillmode": "overlay",
              "size": 10,
              "solidity": 0.2
             }
            },
            "type": "barpolar"
           }
          ],
          "carpet": [
           {
            "aaxis": {
             "endlinecolor": "#2a3f5f",
             "gridcolor": "white",
             "linecolor": "white",
             "minorgridcolor": "white",
             "startlinecolor": "#2a3f5f"
            },
            "baxis": {
             "endlinecolor": "#2a3f5f",
             "gridcolor": "white",
             "linecolor": "white",
             "minorgridcolor": "white",
             "startlinecolor": "#2a3f5f"
            },
            "type": "carpet"
           }
          ],
          "choropleth": [
           {
            "colorbar": {
             "outlinewidth": 0,
             "ticks": ""
            },
            "type": "choropleth"
           }
          ],
          "contour": [
           {
            "colorbar": {
             "outlinewidth": 0,
             "ticks": ""
            },
            "colorscale": [
             [
              0,
              "#0d0887"
             ],
             [
              0.1111111111111111,
              "#46039f"
             ],
             [
              0.2222222222222222,
              "#7201a8"
             ],
             [
              0.3333333333333333,
              "#9c179e"
             ],
             [
              0.4444444444444444,
              "#bd3786"
             ],
             [
              0.5555555555555556,
              "#d8576b"
             ],
             [
              0.6666666666666666,
              "#ed7953"
             ],
             [
              0.7777777777777778,
              "#fb9f3a"
             ],
             [
              0.8888888888888888,
              "#fdca26"
             ],
             [
              1,
              "#f0f921"
             ]
            ],
            "type": "contour"
           }
          ],
          "contourcarpet": [
           {
            "colorbar": {
             "outlinewidth": 0,
             "ticks": ""
            },
            "type": "contourcarpet"
           }
          ],
          "heatmap": [
           {
            "colorbar": {
             "outlinewidth": 0,
             "ticks": ""
            },
            "colorscale": [
             [
              0,
              "#0d0887"
             ],
             [
              0.1111111111111111,
              "#46039f"
             ],
             [
              0.2222222222222222,
              "#7201a8"
             ],
             [
              0.3333333333333333,
              "#9c179e"
             ],
             [
              0.4444444444444444,
              "#bd3786"
             ],
             [
              0.5555555555555556,
              "#d8576b"
             ],
             [
              0.6666666666666666,
              "#ed7953"
             ],
             [
              0.7777777777777778,
              "#fb9f3a"
             ],
             [
              0.8888888888888888,
              "#fdca26"
             ],
             [
              1,
              "#f0f921"
             ]
            ],
            "type": "heatmap"
           }
          ],
          "heatmapgl": [
           {
            "colorbar": {
             "outlinewidth": 0,
             "ticks": ""
            },
            "colorscale": [
             [
              0,
              "#0d0887"
             ],
             [
              0.1111111111111111,
              "#46039f"
             ],
             [
              0.2222222222222222,
              "#7201a8"
             ],
             [
              0.3333333333333333,
              "#9c179e"
             ],
             [
              0.4444444444444444,
              "#bd3786"
             ],
             [
              0.5555555555555556,
              "#d8576b"
             ],
             [
              0.6666666666666666,
              "#ed7953"
             ],
             [
              0.7777777777777778,
              "#fb9f3a"
             ],
             [
              0.8888888888888888,
              "#fdca26"
             ],
             [
              1,
              "#f0f921"
             ]
            ],
            "type": "heatmapgl"
           }
          ],
          "histogram": [
           {
            "marker": {
             "pattern": {
              "fillmode": "overlay",
              "size": 10,
              "solidity": 0.2
             }
            },
            "type": "histogram"
           }
          ],
          "histogram2d": [
           {
            "colorbar": {
             "outlinewidth": 0,
             "ticks": ""
            },
            "colorscale": [
             [
              0,
              "#0d0887"
             ],
             [
              0.1111111111111111,
              "#46039f"
             ],
             [
              0.2222222222222222,
              "#7201a8"
             ],
             [
              0.3333333333333333,
              "#9c179e"
             ],
             [
              0.4444444444444444,
              "#bd3786"
             ],
             [
              0.5555555555555556,
              "#d8576b"
             ],
             [
              0.6666666666666666,
              "#ed7953"
             ],
             [
              0.7777777777777778,
              "#fb9f3a"
             ],
             [
              0.8888888888888888,
              "#fdca26"
             ],
             [
              1,
              "#f0f921"
             ]
            ],
            "type": "histogram2d"
           }
          ],
          "histogram2dcontour": [
           {
            "colorbar": {
             "outlinewidth": 0,
             "ticks": ""
            },
            "colorscale": [
             [
              0,
              "#0d0887"
             ],
             [
              0.1111111111111111,
              "#46039f"
             ],
             [
              0.2222222222222222,
              "#7201a8"
             ],
             [
              0.3333333333333333,
              "#9c179e"
             ],
             [
              0.4444444444444444,
              "#bd3786"
             ],
             [
              0.5555555555555556,
              "#d8576b"
             ],
             [
              0.6666666666666666,
              "#ed7953"
             ],
             [
              0.7777777777777778,
              "#fb9f3a"
             ],
             [
              0.8888888888888888,
              "#fdca26"
             ],
             [
              1,
              "#f0f921"
             ]
            ],
            "type": "histogram2dcontour"
           }
          ],
          "mesh3d": [
           {
            "colorbar": {
             "outlinewidth": 0,
             "ticks": ""
            },
            "type": "mesh3d"
           }
          ],
          "parcoords": [
           {
            "line": {
             "colorbar": {
              "outlinewidth": 0,
              "ticks": ""
             }
            },
            "type": "parcoords"
           }
          ],
          "pie": [
           {
            "automargin": true,
            "type": "pie"
           }
          ],
          "scatter": [
           {
            "fillpattern": {
             "fillmode": "overlay",
             "size": 10,
             "solidity": 0.2
            },
            "type": "scatter"
           }
          ],
          "scatter3d": [
           {
            "line": {
             "colorbar": {
              "outlinewidth": 0,
              "ticks": ""
             }
            },
            "marker": {
             "colorbar": {
              "outlinewidth": 0,
              "ticks": ""
             }
            },
            "type": "scatter3d"
           }
          ],
          "scattercarpet": [
           {
            "marker": {
             "colorbar": {
              "outlinewidth": 0,
              "ticks": ""
             }
            },
            "type": "scattercarpet"
           }
          ],
          "scattergeo": [
           {
            "marker": {
             "colorbar": {
              "outlinewidth": 0,
              "ticks": ""
             }
            },
            "type": "scattergeo"
           }
          ],
          "scattergl": [
           {
            "marker": {
             "colorbar": {
              "outlinewidth": 0,
              "ticks": ""
             }
            },
            "type": "scattergl"
           }
          ],
          "scattermapbox": [
           {
            "marker": {
             "colorbar": {
              "outlinewidth": 0,
              "ticks": ""
             }
            },
            "type": "scattermapbox"
           }
          ],
          "scatterpolar": [
           {
            "marker": {
             "colorbar": {
              "outlinewidth": 0,
              "ticks": ""
             }
            },
            "type": "scatterpolar"
           }
          ],
          "scatterpolargl": [
           {
            "marker": {
             "colorbar": {
              "outlinewidth": 0,
              "ticks": ""
             }
            },
            "type": "scatterpolargl"
           }
          ],
          "scatterternary": [
           {
            "marker": {
             "colorbar": {
              "outlinewidth": 0,
              "ticks": ""
             }
            },
            "type": "scatterternary"
           }
          ],
          "surface": [
           {
            "colorbar": {
             "outlinewidth": 0,
             "ticks": ""
            },
            "colorscale": [
             [
              0,
              "#0d0887"
             ],
             [
              0.1111111111111111,
              "#46039f"
             ],
             [
              0.2222222222222222,
              "#7201a8"
             ],
             [
              0.3333333333333333,
              "#9c179e"
             ],
             [
              0.4444444444444444,
              "#bd3786"
             ],
             [
              0.5555555555555556,
              "#d8576b"
             ],
             [
              0.6666666666666666,
              "#ed7953"
             ],
             [
              0.7777777777777778,
              "#fb9f3a"
             ],
             [
              0.8888888888888888,
              "#fdca26"
             ],
             [
              1,
              "#f0f921"
             ]
            ],
            "type": "surface"
           }
          ],
          "table": [
           {
            "cells": {
             "fill": {
              "color": "#EBF0F8"
             },
             "line": {
              "color": "white"
             }
            },
            "header": {
             "fill": {
              "color": "#C8D4E3"
             },
             "line": {
              "color": "white"
             }
            },
            "type": "table"
           }
          ]
         },
         "layout": {
          "annotationdefaults": {
           "arrowcolor": "#2a3f5f",
           "arrowhead": 0,
           "arrowwidth": 1
          },
          "autotypenumbers": "strict",
          "coloraxis": {
           "colorbar": {
            "outlinewidth": 0,
            "ticks": ""
           }
          },
          "colorscale": {
           "diverging": [
            [
             0,
             "#8e0152"
            ],
            [
             0.1,
             "#c51b7d"
            ],
            [
             0.2,
             "#de77ae"
            ],
            [
             0.3,
             "#f1b6da"
            ],
            [
             0.4,
             "#fde0ef"
            ],
            [
             0.5,
             "#f7f7f7"
            ],
            [
             0.6,
             "#e6f5d0"
            ],
            [
             0.7,
             "#b8e186"
            ],
            [
             0.8,
             "#7fbc41"
            ],
            [
             0.9,
             "#4d9221"
            ],
            [
             1,
             "#276419"
            ]
           ],
           "sequential": [
            [
             0,
             "#0d0887"
            ],
            [
             0.1111111111111111,
             "#46039f"
            ],
            [
             0.2222222222222222,
             "#7201a8"
            ],
            [
             0.3333333333333333,
             "#9c179e"
            ],
            [
             0.4444444444444444,
             "#bd3786"
            ],
            [
             0.5555555555555556,
             "#d8576b"
            ],
            [
             0.6666666666666666,
             "#ed7953"
            ],
            [
             0.7777777777777778,
             "#fb9f3a"
            ],
            [
             0.8888888888888888,
             "#fdca26"
            ],
            [
             1,
             "#f0f921"
            ]
           ],
           "sequentialminus": [
            [
             0,
             "#0d0887"
            ],
            [
             0.1111111111111111,
             "#46039f"
            ],
            [
             0.2222222222222222,
             "#7201a8"
            ],
            [
             0.3333333333333333,
             "#9c179e"
            ],
            [
             0.4444444444444444,
             "#bd3786"
            ],
            [
             0.5555555555555556,
             "#d8576b"
            ],
            [
             0.6666666666666666,
             "#ed7953"
            ],
            [
             0.7777777777777778,
             "#fb9f3a"
            ],
            [
             0.8888888888888888,
             "#fdca26"
            ],
            [
             1,
             "#f0f921"
            ]
           ]
          },
          "colorway": [
           "#636efa",
           "#EF553B",
           "#00cc96",
           "#ab63fa",
           "#FFA15A",
           "#19d3f3",
           "#FF6692",
           "#B6E880",
           "#FF97FF",
           "#FECB52"
          ],
          "font": {
           "color": "#2a3f5f"
          },
          "geo": {
           "bgcolor": "white",
           "lakecolor": "white",
           "landcolor": "#E5ECF6",
           "showlakes": true,
           "showland": true,
           "subunitcolor": "white"
          },
          "hoverlabel": {
           "align": "left"
          },
          "hovermode": "closest",
          "mapbox": {
           "style": "light"
          },
          "paper_bgcolor": "white",
          "plot_bgcolor": "#E5ECF6",
          "polar": {
           "angularaxis": {
            "gridcolor": "white",
            "linecolor": "white",
            "ticks": ""
           },
           "bgcolor": "#E5ECF6",
           "radialaxis": {
            "gridcolor": "white",
            "linecolor": "white",
            "ticks": ""
           }
          },
          "scene": {
           "xaxis": {
            "backgroundcolor": "#E5ECF6",
            "gridcolor": "white",
            "gridwidth": 2,
            "linecolor": "white",
            "showbackground": true,
            "ticks": "",
            "zerolinecolor": "white"
           },
           "yaxis": {
            "backgroundcolor": "#E5ECF6",
            "gridcolor": "white",
            "gridwidth": 2,
            "linecolor": "white",
            "showbackground": true,
            "ticks": "",
            "zerolinecolor": "white"
           },
           "zaxis": {
            "backgroundcolor": "#E5ECF6",
            "gridcolor": "white",
            "gridwidth": 2,
            "linecolor": "white",
            "showbackground": true,
            "ticks": "",
            "zerolinecolor": "white"
           }
          },
          "shapedefaults": {
           "line": {
            "color": "#2a3f5f"
           }
          },
          "ternary": {
           "aaxis": {
            "gridcolor": "white",
            "linecolor": "white",
            "ticks": ""
           },
           "baxis": {
            "gridcolor": "white",
            "linecolor": "white",
            "ticks": ""
           },
           "bgcolor": "#E5ECF6",
           "caxis": {
            "gridcolor": "white",
            "linecolor": "white",
            "ticks": ""
           }
          },
          "title": {
           "x": 0.05
          },
          "xaxis": {
           "automargin": true,
           "gridcolor": "white",
           "linecolor": "white",
           "ticks": "",
           "title": {
            "standoff": 15
           },
           "zerolinecolor": "white",
           "zerolinewidth": 2
          },
          "yaxis": {
           "automargin": true,
           "gridcolor": "white",
           "linecolor": "white",
           "ticks": "",
           "title": {
            "standoff": 15
           },
           "zerolinecolor": "white",
           "zerolinewidth": 2
          }
         }
        },
        "title": {
         "text": "Embodied emissions per year for housing in NL"
        },
        "xaxis": {
         "anchor": "y",
         "domain": [
          0,
          1
         ],
         "title": {
          "text": "year"
         }
        },
        "yaxis": {
         "anchor": "x",
         "domain": [
          0,
          1
         ],
         "title": {
          "text": "emissions_embodied_kg"
         }
        }
       }
      }
     },
     "metadata": {},
     "output_type": "display_data"
    },
    {
     "data": {
      "application/vnd.plotly.v1+json": {
       "config": {
        "plotlyServerURL": "https://plot.ly"
       },
       "data": [
        {
         "hovertemplate": "variable=cumulative_emissions<br>year=%{x}<br>value=%{y}<extra></extra>",
         "legendgroup": "cumulative_emissions",
         "line": {
          "color": "#636efa",
          "dash": "solid"
         },
         "marker": {
          "symbol": "circle"
         },
         "mode": "lines",
         "name": "cumulative_emissions",
         "orientation": "v",
         "showlegend": true,
         "type": "scatter",
         "x": [
          2012,
          2013,
          2014,
          2015,
          2016,
          2017,
          2018,
          2019,
          2020,
          2021,
          2022
         ],
         "xaxis": "x",
         "y": [
          2996029142,
          5560586433,
          8261151312,
          11404695926,
          14525055103,
          17782865363,
          21283741631,
          24722067789,
          27815035985,
          30936812760,
          33382125502
         ],
         "yaxis": "y"
        },
        {
         "hovertemplate": "variable=carbon_budget<br>year=%{x}<br>value=%{y}<extra></extra>",
         "legendgroup": "carbon_budget",
         "line": {
          "color": "#EF553B",
          "dash": "solid"
         },
         "marker": {
          "symbol": "circle"
         },
         "mode": "lines",
         "name": "carbon_budget",
         "orientation": "v",
         "showlegend": true,
         "type": "scatter",
         "x": [
          2012,
          2013,
          2014,
          2015,
          2016,
          2017,
          2018,
          2019,
          2020,
          2021,
          2022
         ],
         "xaxis": "x",
         "y": [
          -2955029142,
          -5519586433,
          -8220151312,
          -11363695926,
          -14484055103,
          -17741865363,
          -21242741631,
          -24681067789,
          -27774035985,
          -30895812760,
          -33341125502
         ],
         "yaxis": "y"
        }
       ],
       "layout": {
        "legend": {
         "title": {
          "text": "variable"
         },
         "tracegroupgap": 0
        },
        "template": {
         "data": {
          "bar": [
           {
            "error_x": {
             "color": "#2a3f5f"
            },
            "error_y": {
             "color": "#2a3f5f"
            },
            "marker": {
             "line": {
              "color": "#E5ECF6",
              "width": 0.5
             },
             "pattern": {
              "fillmode": "overlay",
              "size": 10,
              "solidity": 0.2
             }
            },
            "type": "bar"
           }
          ],
          "barpolar": [
           {
            "marker": {
             "line": {
              "color": "#E5ECF6",
              "width": 0.5
             },
             "pattern": {
              "fillmode": "overlay",
              "size": 10,
              "solidity": 0.2
             }
            },
            "type": "barpolar"
           }
          ],
          "carpet": [
           {
            "aaxis": {
             "endlinecolor": "#2a3f5f",
             "gridcolor": "white",
             "linecolor": "white",
             "minorgridcolor": "white",
             "startlinecolor": "#2a3f5f"
            },
            "baxis": {
             "endlinecolor": "#2a3f5f",
             "gridcolor": "white",
             "linecolor": "white",
             "minorgridcolor": "white",
             "startlinecolor": "#2a3f5f"
            },
            "type": "carpet"
           }
          ],
          "choropleth": [
           {
            "colorbar": {
             "outlinewidth": 0,
             "ticks": ""
            },
            "type": "choropleth"
           }
          ],
          "contour": [
           {
            "colorbar": {
             "outlinewidth": 0,
             "ticks": ""
            },
            "colorscale": [
             [
              0,
              "#0d0887"
             ],
             [
              0.1111111111111111,
              "#46039f"
             ],
             [
              0.2222222222222222,
              "#7201a8"
             ],
             [
              0.3333333333333333,
              "#9c179e"
             ],
             [
              0.4444444444444444,
              "#bd3786"
             ],
             [
              0.5555555555555556,
              "#d8576b"
             ],
             [
              0.6666666666666666,
              "#ed7953"
             ],
             [
              0.7777777777777778,
              "#fb9f3a"
             ],
             [
              0.8888888888888888,
              "#fdca26"
             ],
             [
              1,
              "#f0f921"
             ]
            ],
            "type": "contour"
           }
          ],
          "contourcarpet": [
           {
            "colorbar": {
             "outlinewidth": 0,
             "ticks": ""
            },
            "type": "contourcarpet"
           }
          ],
          "heatmap": [
           {
            "colorbar": {
             "outlinewidth": 0,
             "ticks": ""
            },
            "colorscale": [
             [
              0,
              "#0d0887"
             ],
             [
              0.1111111111111111,
              "#46039f"
             ],
             [
              0.2222222222222222,
              "#7201a8"
             ],
             [
              0.3333333333333333,
              "#9c179e"
             ],
             [
              0.4444444444444444,
              "#bd3786"
             ],
             [
              0.5555555555555556,
              "#d8576b"
             ],
             [
              0.6666666666666666,
              "#ed7953"
             ],
             [
              0.7777777777777778,
              "#fb9f3a"
             ],
             [
              0.8888888888888888,
              "#fdca26"
             ],
             [
              1,
              "#f0f921"
             ]
            ],
            "type": "heatmap"
           }
          ],
          "heatmapgl": [
           {
            "colorbar": {
             "outlinewidth": 0,
             "ticks": ""
            },
            "colorscale": [
             [
              0,
              "#0d0887"
             ],
             [
              0.1111111111111111,
              "#46039f"
             ],
             [
              0.2222222222222222,
              "#7201a8"
             ],
             [
              0.3333333333333333,
              "#9c179e"
             ],
             [
              0.4444444444444444,
              "#bd3786"
             ],
             [
              0.5555555555555556,
              "#d8576b"
             ],
             [
              0.6666666666666666,
              "#ed7953"
             ],
             [
              0.7777777777777778,
              "#fb9f3a"
             ],
             [
              0.8888888888888888,
              "#fdca26"
             ],
             [
              1,
              "#f0f921"
             ]
            ],
            "type": "heatmapgl"
           }
          ],
          "histogram": [
           {
            "marker": {
             "pattern": {
              "fillmode": "overlay",
              "size": 10,
              "solidity": 0.2
             }
            },
            "type": "histogram"
           }
          ],
          "histogram2d": [
           {
            "colorbar": {
             "outlinewidth": 0,
             "ticks": ""
            },
            "colorscale": [
             [
              0,
              "#0d0887"
             ],
             [
              0.1111111111111111,
              "#46039f"
             ],
             [
              0.2222222222222222,
              "#7201a8"
             ],
             [
              0.3333333333333333,
              "#9c179e"
             ],
             [
              0.4444444444444444,
              "#bd3786"
             ],
             [
              0.5555555555555556,
              "#d8576b"
             ],
             [
              0.6666666666666666,
              "#ed7953"
             ],
             [
              0.7777777777777778,
              "#fb9f3a"
             ],
             [
              0.8888888888888888,
              "#fdca26"
             ],
             [
              1,
              "#f0f921"
             ]
            ],
            "type": "histogram2d"
           }
          ],
          "histogram2dcontour": [
           {
            "colorbar": {
             "outlinewidth": 0,
             "ticks": ""
            },
            "colorscale": [
             [
              0,
              "#0d0887"
             ],
             [
              0.1111111111111111,
              "#46039f"
             ],
             [
              0.2222222222222222,
              "#7201a8"
             ],
             [
              0.3333333333333333,
              "#9c179e"
             ],
             [
              0.4444444444444444,
              "#bd3786"
             ],
             [
              0.5555555555555556,
              "#d8576b"
             ],
             [
              0.6666666666666666,
              "#ed7953"
             ],
             [
              0.7777777777777778,
              "#fb9f3a"
             ],
             [
              0.8888888888888888,
              "#fdca26"
             ],
             [
              1,
              "#f0f921"
             ]
            ],
            "type": "histogram2dcontour"
           }
          ],
          "mesh3d": [
           {
            "colorbar": {
             "outlinewidth": 0,
             "ticks": ""
            },
            "type": "mesh3d"
           }
          ],
          "parcoords": [
           {
            "line": {
             "colorbar": {
              "outlinewidth": 0,
              "ticks": ""
             }
            },
            "type": "parcoords"
           }
          ],
          "pie": [
           {
            "automargin": true,
            "type": "pie"
           }
          ],
          "scatter": [
           {
            "fillpattern": {
             "fillmode": "overlay",
             "size": 10,
             "solidity": 0.2
            },
            "type": "scatter"
           }
          ],
          "scatter3d": [
           {
            "line": {
             "colorbar": {
              "outlinewidth": 0,
              "ticks": ""
             }
            },
            "marker": {
             "colorbar": {
              "outlinewidth": 0,
              "ticks": ""
             }
            },
            "type": "scatter3d"
           }
          ],
          "scattercarpet": [
           {
            "marker": {
             "colorbar": {
              "outlinewidth": 0,
              "ticks": ""
             }
            },
            "type": "scattercarpet"
           }
          ],
          "scattergeo": [
           {
            "marker": {
             "colorbar": {
              "outlinewidth": 0,
              "ticks": ""
             }
            },
            "type": "scattergeo"
           }
          ],
          "scattergl": [
           {
            "marker": {
             "colorbar": {
              "outlinewidth": 0,
              "ticks": ""
             }
            },
            "type": "scattergl"
           }
          ],
          "scattermapbox": [
           {
            "marker": {
             "colorbar": {
              "outlinewidth": 0,
              "ticks": ""
             }
            },
            "type": "scattermapbox"
           }
          ],
          "scatterpolar": [
           {
            "marker": {
             "colorbar": {
              "outlinewidth": 0,
              "ticks": ""
             }
            },
            "type": "scatterpolar"
           }
          ],
          "scatterpolargl": [
           {
            "marker": {
             "colorbar": {
              "outlinewidth": 0,
              "ticks": ""
             }
            },
            "type": "scatterpolargl"
           }
          ],
          "scatterternary": [
           {
            "marker": {
             "colorbar": {
              "outlinewidth": 0,
              "ticks": ""
             }
            },
            "type": "scatterternary"
           }
          ],
          "surface": [
           {
            "colorbar": {
             "outlinewidth": 0,
             "ticks": ""
            },
            "colorscale": [
             [
              0,
              "#0d0887"
             ],
             [
              0.1111111111111111,
              "#46039f"
             ],
             [
              0.2222222222222222,
              "#7201a8"
             ],
             [
              0.3333333333333333,
              "#9c179e"
             ],
             [
              0.4444444444444444,
              "#bd3786"
             ],
             [
              0.5555555555555556,
              "#d8576b"
             ],
             [
              0.6666666666666666,
              "#ed7953"
             ],
             [
              0.7777777777777778,
              "#fb9f3a"
             ],
             [
              0.8888888888888888,
              "#fdca26"
             ],
             [
              1,
              "#f0f921"
             ]
            ],
            "type": "surface"
           }
          ],
          "table": [
           {
            "cells": {
             "fill": {
              "color": "#EBF0F8"
             },
             "line": {
              "color": "white"
             }
            },
            "header": {
             "fill": {
              "color": "#C8D4E3"
             },
             "line": {
              "color": "white"
             }
            },
            "type": "table"
           }
          ]
         },
         "layout": {
          "annotationdefaults": {
           "arrowcolor": "#2a3f5f",
           "arrowhead": 0,
           "arrowwidth": 1
          },
          "autotypenumbers": "strict",
          "coloraxis": {
           "colorbar": {
            "outlinewidth": 0,
            "ticks": ""
           }
          },
          "colorscale": {
           "diverging": [
            [
             0,
             "#8e0152"
            ],
            [
             0.1,
             "#c51b7d"
            ],
            [
             0.2,
             "#de77ae"
            ],
            [
             0.3,
             "#f1b6da"
            ],
            [
             0.4,
             "#fde0ef"
            ],
            [
             0.5,
             "#f7f7f7"
            ],
            [
             0.6,
             "#e6f5d0"
            ],
            [
             0.7,
             "#b8e186"
            ],
            [
             0.8,
             "#7fbc41"
            ],
            [
             0.9,
             "#4d9221"
            ],
            [
             1,
             "#276419"
            ]
           ],
           "sequential": [
            [
             0,
             "#0d0887"
            ],
            [
             0.1111111111111111,
             "#46039f"
            ],
            [
             0.2222222222222222,
             "#7201a8"
            ],
            [
             0.3333333333333333,
             "#9c179e"
            ],
            [
             0.4444444444444444,
             "#bd3786"
            ],
            [
             0.5555555555555556,
             "#d8576b"
            ],
            [
             0.6666666666666666,
             "#ed7953"
            ],
            [
             0.7777777777777778,
             "#fb9f3a"
            ],
            [
             0.8888888888888888,
             "#fdca26"
            ],
            [
             1,
             "#f0f921"
            ]
           ],
           "sequentialminus": [
            [
             0,
             "#0d0887"
            ],
            [
             0.1111111111111111,
             "#46039f"
            ],
            [
             0.2222222222222222,
             "#7201a8"
            ],
            [
             0.3333333333333333,
             "#9c179e"
            ],
            [
             0.4444444444444444,
             "#bd3786"
            ],
            [
             0.5555555555555556,
             "#d8576b"
            ],
            [
             0.6666666666666666,
             "#ed7953"
            ],
            [
             0.7777777777777778,
             "#fb9f3a"
            ],
            [
             0.8888888888888888,
             "#fdca26"
            ],
            [
             1,
             "#f0f921"
            ]
           ]
          },
          "colorway": [
           "#636efa",
           "#EF553B",
           "#00cc96",
           "#ab63fa",
           "#FFA15A",
           "#19d3f3",
           "#FF6692",
           "#B6E880",
           "#FF97FF",
           "#FECB52"
          ],
          "font": {
           "color": "#2a3f5f"
          },
          "geo": {
           "bgcolor": "white",
           "lakecolor": "white",
           "landcolor": "#E5ECF6",
           "showlakes": true,
           "showland": true,
           "subunitcolor": "white"
          },
          "hoverlabel": {
           "align": "left"
          },
          "hovermode": "closest",
          "mapbox": {
           "style": "light"
          },
          "paper_bgcolor": "white",
          "plot_bgcolor": "#E5ECF6",
          "polar": {
           "angularaxis": {
            "gridcolor": "white",
            "linecolor": "white",
            "ticks": ""
           },
           "bgcolor": "#E5ECF6",
           "radialaxis": {
            "gridcolor": "white",
            "linecolor": "white",
            "ticks": ""
           }
          },
          "scene": {
           "xaxis": {
            "backgroundcolor": "#E5ECF6",
            "gridcolor": "white",
            "gridwidth": 2,
            "linecolor": "white",
            "showbackground": true,
            "ticks": "",
            "zerolinecolor": "white"
           },
           "yaxis": {
            "backgroundcolor": "#E5ECF6",
            "gridcolor": "white",
            "gridwidth": 2,
            "linecolor": "white",
            "showbackground": true,
            "ticks": "",
            "zerolinecolor": "white"
           },
           "zaxis": {
            "backgroundcolor": "#E5ECF6",
            "gridcolor": "white",
            "gridwidth": 2,
            "linecolor": "white",
            "showbackground": true,
            "ticks": "",
            "zerolinecolor": "white"
           }
          },
          "shapedefaults": {
           "line": {
            "color": "#2a3f5f"
           }
          },
          "ternary": {
           "aaxis": {
            "gridcolor": "white",
            "linecolor": "white",
            "ticks": ""
           },
           "baxis": {
            "gridcolor": "white",
            "linecolor": "white",
            "ticks": ""
           },
           "bgcolor": "#E5ECF6",
           "caxis": {
            "gridcolor": "white",
            "linecolor": "white",
            "ticks": ""
           }
          },
          "title": {
           "x": 0.05
          },
          "xaxis": {
           "automargin": true,
           "gridcolor": "white",
           "linecolor": "white",
           "ticks": "",
           "title": {
            "standoff": 15
           },
           "zerolinecolor": "white",
           "zerolinewidth": 2
          },
          "yaxis": {
           "automargin": true,
           "gridcolor": "white",
           "linecolor": "white",
           "ticks": "",
           "title": {
            "standoff": 15
           },
           "zerolinecolor": "white",
           "zerolinewidth": 2
          }
         }
        },
        "title": {
         "text": "Cumulative embodied emissions for housing in NL"
        },
        "xaxis": {
         "anchor": "y",
         "domain": [
          0,
          1
         ],
         "title": {
          "text": "year"
         }
        },
        "yaxis": {
         "anchor": "x",
         "domain": [
          0,
          1
         ],
         "range": [
          0,
          null
         ],
         "title": {
          "text": "value"
         }
        }
       }
      }
     },
     "metadata": {},
     "output_type": "display_data"
    }
   ],
   "source": [
    "# get embodied emissions for housing in NL\n",
    "query = ''' \n",
    "SELECT year, status, SUM(emissions_embodied_kg) AS emissions_embodied_kg\n",
    "FROM emissions_embodied_housing_nl \n",
    "WHERE year >= 2012 AND year <= 2022\n",
    "GROUP BY year, status\n",
    "ORDER BY year, status\n",
    "'''\n",
    "df_byStatus = pd.read_sql_query(query, engine)\n",
    "def translate_status(x): \n",
    "    if x == 'Bouw gestart': \n",
    "        return 'Construction'\n",
    "    elif x == 'Pand gesloopt': \n",
    "        return 'Demolition'\n",
    "    elif x == 'Verbouwing pand': \n",
    "        return 'Renovation'\n",
    "    else: \n",
    "        return x \n",
    "df_byStatus.status = df_byStatus.status.map(lambda x: translate_status(x))\n",
    "\n",
    "# bar chart for embodied emissions per year\n",
    "fig = px.bar(df_byStatus, x='year', y='emissions_embodied_kg', color = 'status', title='Embodied emissions per year for housing in NL')\n",
    "fig.show()\n",
    "\n",
    "df = df_byStatus.groupby('year').sum().emissions_embodied_kg.reset_index()\n",
    "\n",
    "# calculate cumulative emissions and carbon budget\n",
    "carbon_budget = 41000000 # carbon budget for only embodied emissions. budget for all emissions is 112,000,000 tons \n",
    "df['cumulative_emissions'] = df['emissions_embodied_kg'].cumsum()\n",
    "df['carbon_budget'] = carbon_budget - df['cumulative_emissions']\n",
    "\n",
    "# line chart for cumulative embodied emissions and carbon budget \n",
    "fig = px.line(df, x='year', y=['cumulative_emissions', 'carbon_budget'], title='Cumulative embodied emissions for housing in NL')\n",
    "fig.update_yaxes(range=[0, None])\n",
    "fig.show()\n",
    "\n",
    "# TODO: combine pre and post renovation into one category - renovation"
   ]
  },
  {
   "cell_type": "code",
   "execution_count": 18,
   "metadata": {},
   "outputs": [
    {
     "data": {
      "text/html": [
       "<div>\n",
       "<style scoped>\n",
       "    .dataframe tbody tr th:only-of-type {\n",
       "        vertical-align: middle;\n",
       "    }\n",
       "\n",
       "    .dataframe tbody tr th {\n",
       "        vertical-align: top;\n",
       "    }\n",
       "\n",
       "    .dataframe thead th {\n",
       "        text-align: right;\n",
       "    }\n",
       "</style>\n",
       "<table border=\"1\" class=\"dataframe\">\n",
       "  <thead>\n",
       "    <tr style=\"text-align: right;\">\n",
       "      <th></th>\n",
       "      <th>year</th>\n",
       "      <th>status</th>\n",
       "      <th>emissions_embodied_tons</th>\n",
       "    </tr>\n",
       "  </thead>\n",
       "  <tbody>\n",
       "    <tr>\n",
       "      <th>0</th>\n",
       "      <td>2012</td>\n",
       "      <td>Construction</td>\n",
       "      <td>1534601.860</td>\n",
       "    </tr>\n",
       "    <tr>\n",
       "      <th>1</th>\n",
       "      <td>2012</td>\n",
       "      <td>Demolition</td>\n",
       "      <td>463578.346</td>\n",
       "    </tr>\n",
       "    <tr>\n",
       "      <th>2</th>\n",
       "      <td>2012</td>\n",
       "      <td>renovation - pre2020</td>\n",
       "      <td>NaN</td>\n",
       "    </tr>\n",
       "    <tr>\n",
       "      <th>3</th>\n",
       "      <td>2012</td>\n",
       "      <td>transformation - adding units</td>\n",
       "      <td>NaN</td>\n",
       "    </tr>\n",
       "    <tr>\n",
       "      <th>4</th>\n",
       "      <td>2012</td>\n",
       "      <td>transformation - function change</td>\n",
       "      <td>NaN</td>\n",
       "    </tr>\n",
       "    <tr>\n",
       "      <th>5</th>\n",
       "      <td>2013</td>\n",
       "      <td>Construction</td>\n",
       "      <td>1119361.112</td>\n",
       "    </tr>\n",
       "    <tr>\n",
       "      <th>6</th>\n",
       "      <td>2013</td>\n",
       "      <td>Demolition</td>\n",
       "      <td>393605.597</td>\n",
       "    </tr>\n",
       "    <tr>\n",
       "      <th>7</th>\n",
       "      <td>2013</td>\n",
       "      <td>renovation - pre2020</td>\n",
       "      <td>NaN</td>\n",
       "    </tr>\n",
       "    <tr>\n",
       "      <th>8</th>\n",
       "      <td>2013</td>\n",
       "      <td>transformation - adding units</td>\n",
       "      <td>NaN</td>\n",
       "    </tr>\n",
       "    <tr>\n",
       "      <th>9</th>\n",
       "      <td>2013</td>\n",
       "      <td>transformation - function change</td>\n",
       "      <td>NaN</td>\n",
       "    </tr>\n",
       "    <tr>\n",
       "      <th>10</th>\n",
       "      <td>2014</td>\n",
       "      <td>Construction</td>\n",
       "      <td>1365332.036</td>\n",
       "    </tr>\n",
       "    <tr>\n",
       "      <th>11</th>\n",
       "      <td>2014</td>\n",
       "      <td>Demolition</td>\n",
       "      <td>459976.363</td>\n",
       "    </tr>\n",
       "    <tr>\n",
       "      <th>12</th>\n",
       "      <td>2014</td>\n",
       "      <td>renovation - pre2020</td>\n",
       "      <td>NaN</td>\n",
       "    </tr>\n",
       "    <tr>\n",
       "      <th>13</th>\n",
       "      <td>2014</td>\n",
       "      <td>transformation - adding units</td>\n",
       "      <td>NaN</td>\n",
       "    </tr>\n",
       "    <tr>\n",
       "      <th>14</th>\n",
       "      <td>2014</td>\n",
       "      <td>transformation - function change</td>\n",
       "      <td>NaN</td>\n",
       "    </tr>\n",
       "    <tr>\n",
       "      <th>15</th>\n",
       "      <td>2015</td>\n",
       "      <td>Construction</td>\n",
       "      <td>1805133.568</td>\n",
       "    </tr>\n",
       "    <tr>\n",
       "      <th>16</th>\n",
       "      <td>2015</td>\n",
       "      <td>Demolition</td>\n",
       "      <td>486938.452</td>\n",
       "    </tr>\n",
       "    <tr>\n",
       "      <th>17</th>\n",
       "      <td>2015</td>\n",
       "      <td>renovation - pre2020</td>\n",
       "      <td>NaN</td>\n",
       "    </tr>\n",
       "    <tr>\n",
       "      <th>18</th>\n",
       "      <td>2015</td>\n",
       "      <td>transformation - adding units</td>\n",
       "      <td>NaN</td>\n",
       "    </tr>\n",
       "    <tr>\n",
       "      <th>19</th>\n",
       "      <td>2015</td>\n",
       "      <td>transformation - function change</td>\n",
       "      <td>NaN</td>\n",
       "    </tr>\n",
       "    <tr>\n",
       "      <th>20</th>\n",
       "      <td>2016</td>\n",
       "      <td>Construction</td>\n",
       "      <td>1932968.840</td>\n",
       "    </tr>\n",
       "    <tr>\n",
       "      <th>21</th>\n",
       "      <td>2016</td>\n",
       "      <td>Demolition</td>\n",
       "      <td>359370.627</td>\n",
       "    </tr>\n",
       "    <tr>\n",
       "      <th>22</th>\n",
       "      <td>2016</td>\n",
       "      <td>renovation - pre2020</td>\n",
       "      <td>NaN</td>\n",
       "    </tr>\n",
       "    <tr>\n",
       "      <th>23</th>\n",
       "      <td>2016</td>\n",
       "      <td>transformation - adding units</td>\n",
       "      <td>NaN</td>\n",
       "    </tr>\n",
       "    <tr>\n",
       "      <th>24</th>\n",
       "      <td>2016</td>\n",
       "      <td>transformation - function change</td>\n",
       "      <td>NaN</td>\n",
       "    </tr>\n",
       "    <tr>\n",
       "      <th>25</th>\n",
       "      <td>2017</td>\n",
       "      <td>Construction</td>\n",
       "      <td>2103102.608</td>\n",
       "    </tr>\n",
       "    <tr>\n",
       "      <th>26</th>\n",
       "      <td>2017</td>\n",
       "      <td>Demolition</td>\n",
       "      <td>319844.756</td>\n",
       "    </tr>\n",
       "    <tr>\n",
       "      <th>27</th>\n",
       "      <td>2017</td>\n",
       "      <td>renovation - pre2020</td>\n",
       "      <td>NaN</td>\n",
       "    </tr>\n",
       "    <tr>\n",
       "      <th>28</th>\n",
       "      <td>2017</td>\n",
       "      <td>transformation - adding units</td>\n",
       "      <td>NaN</td>\n",
       "    </tr>\n",
       "    <tr>\n",
       "      <th>29</th>\n",
       "      <td>2017</td>\n",
       "      <td>transformation - function change</td>\n",
       "      <td>NaN</td>\n",
       "    </tr>\n",
       "    <tr>\n",
       "      <th>30</th>\n",
       "      <td>2018</td>\n",
       "      <td>Construction</td>\n",
       "      <td>2394072.248</td>\n",
       "    </tr>\n",
       "    <tr>\n",
       "      <th>31</th>\n",
       "      <td>2018</td>\n",
       "      <td>Demolition</td>\n",
       "      <td>278829.166</td>\n",
       "    </tr>\n",
       "    <tr>\n",
       "      <th>32</th>\n",
       "      <td>2018</td>\n",
       "      <td>renovation - pre2020</td>\n",
       "      <td>NaN</td>\n",
       "    </tr>\n",
       "    <tr>\n",
       "      <th>33</th>\n",
       "      <td>2018</td>\n",
       "      <td>transformation - adding units</td>\n",
       "      <td>NaN</td>\n",
       "    </tr>\n",
       "    <tr>\n",
       "      <th>34</th>\n",
       "      <td>2018</td>\n",
       "      <td>transformation - function change</td>\n",
       "      <td>NaN</td>\n",
       "    </tr>\n",
       "    <tr>\n",
       "      <th>35</th>\n",
       "      <td>2019</td>\n",
       "      <td>Construction</td>\n",
       "      <td>2365378.184</td>\n",
       "    </tr>\n",
       "    <tr>\n",
       "      <th>36</th>\n",
       "      <td>2019</td>\n",
       "      <td>Demolition</td>\n",
       "      <td>335780.060</td>\n",
       "    </tr>\n",
       "    <tr>\n",
       "      <th>37</th>\n",
       "      <td>2019</td>\n",
       "      <td>renovation - pre2020</td>\n",
       "      <td>NaN</td>\n",
       "    </tr>\n",
       "    <tr>\n",
       "      <th>38</th>\n",
       "      <td>2019</td>\n",
       "      <td>transformation - adding units</td>\n",
       "      <td>NaN</td>\n",
       "    </tr>\n",
       "    <tr>\n",
       "      <th>39</th>\n",
       "      <td>2019</td>\n",
       "      <td>transformation - function change</td>\n",
       "      <td>NaN</td>\n",
       "    </tr>\n",
       "    <tr>\n",
       "      <th>40</th>\n",
       "      <td>2020</td>\n",
       "      <td>Construction</td>\n",
       "      <td>1990606.292</td>\n",
       "    </tr>\n",
       "    <tr>\n",
       "      <th>41</th>\n",
       "      <td>2020</td>\n",
       "      <td>Demolition</td>\n",
       "      <td>259633.836</td>\n",
       "    </tr>\n",
       "    <tr>\n",
       "      <th>42</th>\n",
       "      <td>2020</td>\n",
       "      <td>renovation - post2020</td>\n",
       "      <td>NaN</td>\n",
       "    </tr>\n",
       "    <tr>\n",
       "      <th>43</th>\n",
       "      <td>2020</td>\n",
       "      <td>transformation - adding units</td>\n",
       "      <td>NaN</td>\n",
       "    </tr>\n",
       "    <tr>\n",
       "      <th>44</th>\n",
       "      <td>2020</td>\n",
       "      <td>transformation - function change</td>\n",
       "      <td>NaN</td>\n",
       "    </tr>\n",
       "    <tr>\n",
       "      <th>45</th>\n",
       "      <td>2021</td>\n",
       "      <td>Construction</td>\n",
       "      <td>1962773.328</td>\n",
       "    </tr>\n",
       "    <tr>\n",
       "      <th>46</th>\n",
       "      <td>2021</td>\n",
       "      <td>Demolition</td>\n",
       "      <td>285018.811</td>\n",
       "    </tr>\n",
       "    <tr>\n",
       "      <th>47</th>\n",
       "      <td>2021</td>\n",
       "      <td>renovation - post2020</td>\n",
       "      <td>NaN</td>\n",
       "    </tr>\n",
       "    <tr>\n",
       "      <th>48</th>\n",
       "      <td>2021</td>\n",
       "      <td>transformation - adding units</td>\n",
       "      <td>NaN</td>\n",
       "    </tr>\n",
       "    <tr>\n",
       "      <th>49</th>\n",
       "      <td>2021</td>\n",
       "      <td>transformation - function change</td>\n",
       "      <td>NaN</td>\n",
       "    </tr>\n",
       "    <tr>\n",
       "      <th>50</th>\n",
       "      <td>2022</td>\n",
       "      <td>Construction</td>\n",
       "      <td>1392125.992</td>\n",
       "    </tr>\n",
       "    <tr>\n",
       "      <th>51</th>\n",
       "      <td>2022</td>\n",
       "      <td>Demolition</td>\n",
       "      <td>279352.458</td>\n",
       "    </tr>\n",
       "    <tr>\n",
       "      <th>52</th>\n",
       "      <td>2022</td>\n",
       "      <td>renovation - post2020</td>\n",
       "      <td>NaN</td>\n",
       "    </tr>\n",
       "    <tr>\n",
       "      <th>53</th>\n",
       "      <td>2022</td>\n",
       "      <td>transformation - adding units</td>\n",
       "      <td>NaN</td>\n",
       "    </tr>\n",
       "    <tr>\n",
       "      <th>54</th>\n",
       "      <td>2022</td>\n",
       "      <td>transformation - function change</td>\n",
       "      <td>NaN</td>\n",
       "    </tr>\n",
       "  </tbody>\n",
       "</table>\n",
       "</div>"
      ],
      "text/plain": [
       "    year                            status  emissions_embodied_tons\n",
       "0   2012                      Construction              1534601.860\n",
       "1   2012                        Demolition               463578.346\n",
       "2   2012              renovation - pre2020                      NaN\n",
       "3   2012     transformation - adding units                      NaN\n",
       "4   2012  transformation - function change                      NaN\n",
       "5   2013                      Construction              1119361.112\n",
       "6   2013                        Demolition               393605.597\n",
       "7   2013              renovation - pre2020                      NaN\n",
       "8   2013     transformation - adding units                      NaN\n",
       "9   2013  transformation - function change                      NaN\n",
       "10  2014                      Construction              1365332.036\n",
       "11  2014                        Demolition               459976.363\n",
       "12  2014              renovation - pre2020                      NaN\n",
       "13  2014     transformation - adding units                      NaN\n",
       "14  2014  transformation - function change                      NaN\n",
       "15  2015                      Construction              1805133.568\n",
       "16  2015                        Demolition               486938.452\n",
       "17  2015              renovation - pre2020                      NaN\n",
       "18  2015     transformation - adding units                      NaN\n",
       "19  2015  transformation - function change                      NaN\n",
       "20  2016                      Construction              1932968.840\n",
       "21  2016                        Demolition               359370.627\n",
       "22  2016              renovation - pre2020                      NaN\n",
       "23  2016     transformation - adding units                      NaN\n",
       "24  2016  transformation - function change                      NaN\n",
       "25  2017                      Construction              2103102.608\n",
       "26  2017                        Demolition               319844.756\n",
       "27  2017              renovation - pre2020                      NaN\n",
       "28  2017     transformation - adding units                      NaN\n",
       "29  2017  transformation - function change                      NaN\n",
       "30  2018                      Construction              2394072.248\n",
       "31  2018                        Demolition               278829.166\n",
       "32  2018              renovation - pre2020                      NaN\n",
       "33  2018     transformation - adding units                      NaN\n",
       "34  2018  transformation - function change                      NaN\n",
       "35  2019                      Construction              2365378.184\n",
       "36  2019                        Demolition               335780.060\n",
       "37  2019              renovation - pre2020                      NaN\n",
       "38  2019     transformation - adding units                      NaN\n",
       "39  2019  transformation - function change                      NaN\n",
       "40  2020                      Construction              1990606.292\n",
       "41  2020                        Demolition               259633.836\n",
       "42  2020             renovation - post2020                      NaN\n",
       "43  2020     transformation - adding units                      NaN\n",
       "44  2020  transformation - function change                      NaN\n",
       "45  2021                      Construction              1962773.328\n",
       "46  2021                        Demolition               285018.811\n",
       "47  2021             renovation - post2020                      NaN\n",
       "48  2021     transformation - adding units                      NaN\n",
       "49  2021  transformation - function change                      NaN\n",
       "50  2022                      Construction              1392125.992\n",
       "51  2022                        Demolition               279352.458\n",
       "52  2022             renovation - post2020                      NaN\n",
       "53  2022     transformation - adding units                      NaN\n",
       "54  2022  transformation - function change                      NaN"
      ]
     },
     "execution_count": 18,
     "metadata": {},
     "output_type": "execute_result"
    }
   ],
   "source": [
    "df_byStatus"
   ]
  },
  {
   "cell_type": "code",
   "execution_count": 23,
   "metadata": {},
   "outputs": [
    {
     "name": "stdout",
     "output_type": "stream",
     "text": [
      "Top ten municipalities: ['Amsterdam', 'Utrecht', 'Eindhoven', \"'s-Gravenhage\", 'Rotterdam', 'Tilburg', 'Almere', 'Groningen', 'Ede', 'Breda']\n",
      "Bottom ten municipalities: ['Pekela', 'Ameland', 'Doesburg', 'Oostzaan', 'Montfoort', 'Waterland', 'Terschelling', 'Rozendaal', 'Vlieland', 'Schiermonnikoog']\n"
     ]
    },
    {
     "data": {
      "image/png": "[encoded data removed]",
      "text/plain": [
       "<Figure size 1000x1000 with 2 Axes>"
      ]
     },
     "metadata": {},
     "output_type": "display_data"
    }
   ],
   "source": [
    "# embodied emissions total\n",
    "query = ''' \n",
    "WITH emissions AS (\n",
    "\tSELECT municipality, SUM(emissions_embodied_tons) AS emissions_embodied_tons\n",
    "\tFROM emissions_embodied_housing_nl \n",
    "\tWHERE year >= 2011 AND year <= 2022 -- AND municipality = 'Delft'\n",
    "\tGROUP BY municipality\n",
    ")\n",
    "SELECT e.*, g.geom\n",
    "FROM emissions e \n",
    "JOIN nl_gemeentegebied g \n",
    "ON e.municipality = g.naam\n",
    "ORDER BY e.emissions_embodied_tons DESC\n",
    "'''\n",
    "gdf = gpd.read_postgis(query, engine)\n",
    "\n",
    "# top and bottom five municipalities \n",
    "top_five = gdf.head(10).municipality.tolist()\n",
    "bottom_five = gdf.tail(10).municipality.tolist()\n",
    "print(f'Top ten municipalities: {top_five}')\n",
    "print(f'Bottom ten municipalities: {bottom_five}')\n",
    "\n",
    "# plot on map\n",
    "fig, ax = plt.subplots(1, 1, figsize=(10, 10))\n",
    "gdf.plot(column='emissions_embodied_tons', legend=True, cmap='OrRd', ax=ax)\n",
    "gdf.head().boundary.plot(ax=ax, color='red')\n",
    "gdf.tail().boundary.plot(ax=ax, color='black')\n",
    "ax.axis('off')\n",
    "plt.show()"
   ]
  },
  {
   "cell_type": "code",
   "execution_count": 36,
   "metadata": {},
   "outputs": [
    {
     "data": {
      "application/vnd.plotly.v1+json": {
       "config": {
        "plotlyServerURL": "https://plot.ly"
       },
       "data": [
        {
         "alignmentgroup": "True",
         "hovertemplate": "emissions_embodied_tons=%{x}<br>municipality=%{y}<extra></extra>",
         "legendgroup": "",
         "marker": {
          "color": "#636efa",
          "pattern": {
           "shape": ""
          }
         },
         "name": "",
         "offsetgroup": "",
         "orientation": "h",
         "showlegend": false,
         "textposition": "auto",
         "type": "bar",
         "x": [
          1175705.971,
          735986.276,
          583560.778,
          534763.521,
          500290.526,
          473490.277,
          438744.44,
          348780.293,
          345434.344,
          343332.643,
          339651.993,
          332026.96,
          325856.549,
          305108.888,
          304554.135,
          303415.55,
          293172.983,
          290135.689,
          274166.817,
          249903.991,
          248030.759,
          245359.829,
          242467.767,
          233590.289,
          230490.858,
          228308.246,
          224701.443,
          217319.823,
          212418.199,
          210754.936,
          209573.933,
          200427.121,
          197920.953,
          192758.439,
          183536.412,
          175919.996,
          174235.292,
          173030.987,
          166336.551,
          166247.194,
          165766.349,
          162871.011,
          162140.089,
          157251.651,
          153085.045,
          152798.15,
          148822.275,
          146003.384,
          145472.269,
          145417.737,
          144084.209,
          141954.485,
          140662.994,
          139056.143,
          139022.315,
          137962.834,
          137052.706,
          135312.956,
          134742.498,
          132676.928,
          130004.463,
          129386.497,
          128084.064,
          127148.242,
          126941.24,
          126518.248,
          126488.339,
          125770.981,
          123341.33,
          122899.587,
          122411.375,
          121912.786,
          120082.056,
          119258.258,
          118251.95,
          115727.186,
          115159.494,
          113903.692,
          113283.481,
          112513.438,
          110793.392,
          109433.809,
          107984.876,
          107463.994,
          106387.302,
          104752.293,
          104726.664,
          104571.218,
          104267.041,
          104119.883,
          103777.678,
          103332.967,
          102361.572,
          101490.704,
          100627.812,
          100251.429,
          100055.337,
          99149.217,
          98917.67,
          98637.18,
          98240.162,
          98224.121,
          97462.47,
          96978.923,
          96927.53,
          96629.958,
          96506.422,
          96505.066,
          95033.639,
          94982.833,
          94621.937,
          93768.776,
          93573.716,
          93150.26,
          92284.1,
          92063.726,
          91166.465,
          91071.265,
          91012.357,
          90848.185,
          89976.509,
          89393.169,
          89306.276,
          88820.796,
          88051.208,
          87805.577,
          86872.917,
          86231.212,
          86194.543,
          85836.026,
          85704.361,
          85550.912,
          85439.916,
          84905.488,
          84535.468,
          84341.291,
          83923.061,
          83665.412,
          83485.88,
          82601.875,
          81123.234,
          81102.78,
          80921.925,
          80621.304,
          80554.06,
          80172.566,
          79220.436,
          78842.913,
          78667.682,
          78638.399,
          78548.663,
          78496.458,
          78092.378,
          77299.949,
          77251.868,
          76899.197,
          76808.981,
          76549.737,
          76421.335,
          76081.991,
          75914.861,
          75534.318,
          75310.698,
          73051.404,
          72442.575,
          71877.485,
          71377.024,
          71277.78,
          70712.336,
          69275.48,
          69214.431,
          69129.975,
          68981.707,
          68799.469,
          68739.814,
          68516.51,
          68417.707,
          67895.905,
          67800.588,
          67746.159,
          67248.318,
          67004.595,
          66319.284,
          66302.629,
          65938.773,
          65900.934,
          65787.822,
          65783.723,
          65362.827,
          65030.196,
          64750.494,
          64648.366,
          63492.19,
          63442.033,
          63115.887,
          62460.585,
          61798.778,
          61271.976,
          60812.657,
          59955.991,
          59803.808,
          59462.522,
          59450.809,
          59127.385,
          59018.282,
          58421.798,
          58277.376,
          57734.014,
          57248.286,
          57192.651,
          57178.825,
          57106.941,
          56759.709,
          56748.658,
          55821.561,
          55620.122,
          55548.966,
          55356.076,
          54372.515,
          54282.928,
          54044.917,
          53996.803,
          53898.072,
          53880.749,
          53537.237,
          53413.199,
          53354.067,
          53212.289,
          51971.267,
          51820.621,
          51623.059,
          51409.001,
          51264.289,
          51014.476,
          50974.135,
          50490.685,
          50324.004,
          49877.994,
          49862.982,
          49827.691,
          49278.809,
          49055.728,
          48841.72,
          48346.967,
          48138.497,
          47996.68,
          47526.606,
          47087.115,
          46046.437,
          46045.685,
          45998.767,
          45568.265,
          45353.215,
          45090.301,
          45081.412,
          44537.992,
          44169.533,
          44128.891,
          43940.265,
          43336.13,
          43136.572,
          42768.365,
          42677.132,
          41830.233,
          41677.202,
          41619.928,
          41458.178,
          41186.875,
          40931.195,
          40659.834,
          40612.874,
          38680.866,
          38589.842,
          38173.345,
          37260.963,
          37239.155,
          35493.028,
          35230.477,
          34833.027,
          34739.59,
          34396.047,
          34365.456,
          33941.201,
          33534.533,
          33518.513,
          32715.641,
          31954.246,
          31946.6,
          31915.388,
          30862.178,
          30819.09,
          30709.993,
          30290.568,
          29919.434,
          29001.347,
          28849.445,
          28774.428,
          28555.403,
          28288.545,
          27997.832,
          27641.571,
          26660.963,
          26653.437,
          26574.484,
          26256.414,
          26141.458,
          25533.626,
          25406.484,
          25223.666,
          25182.823,
          24883.527,
          24718.218,
          23533.633,
          22725.448,
          22299.613,
          21879.4,
          20576.985,
          20384.764,
          19576.866,
          18823.762,
          18401.38,
          17455.763,
          17022.795,
          16888.348,
          16281.119,
          16045.135,
          14441.413,
          11716.622,
          11567.382,
          11119.186,
          10880.028,
          10285.236,
          10044.044,
          6314.352,
          3838.189,
          2560.41
         ],
         "xaxis": "x",
         "y": [
          "Amsterdam",
          "Utrecht",
          "Eindhoven",
          "'s-Gravenhage",
          "Rotterdam",
          "Tilburg",
          "Almere",
          "Groningen",
          "Ede",
          "Breda",
          "Apeldoorn",
          "Arnhem",
          "Nijmegen",
          "Amersfoort",
          "'s-Hertogenbosch",
          "Haarlemmermeer",
          "Zwolle",
          "Enschede",
          "Leeuwarden",
          "Oss",
          "Helmond",
          "Meierijstad",
          "Land van Cuijk",
          "Zeist",
          "Katwijk",
          "Dijk en Waard",
          "Westland",
          "Zaanstad",
          "Barneveld",
          "Emmen",
          "Weert",
          "Leiden",
          "Alphen aan den Rijn",
          "Vijfheerenlanden",
          "Haarlem",
          "Delft",
          "Amstelveen",
          "Purmerend",
          "Maastricht",
          "Horst aan de Maas",
          "Súdwest-Fryslân",
          "Vlaardingen",
          "Pijnacker-Nootdorp",
          "Hardenberg",
          "Zuidplas",
          "Maashorst",
          "Hoeksche Waard",
          "Oosterhout",
          "Sittard-Geleen",
          "Westerkwartier",
          "Hoogeveen",
          "Bergen op Zoom",
          "Venlo",
          "Gouda",
          "Waddinxveen",
          "Deurne",
          "Peel en Maas",
          "Dordrecht",
          "Berkelland",
          "Noordwijk",
          "De Bilt",
          "Zoetermeer",
          "Heerenveen",
          "Lelystad",
          "Goeree-Overflakkee",
          "Hoorn",
          "Eemsdelta",
          "Hilversum",
          "Lansingerland",
          "Roermond",
          "Noordoostpolder",
          "Almelo",
          "Altena",
          "Dronten",
          "West Betuwe",
          "Krimpenerwaard",
          "Heusden",
          "Oisterwijk",
          "Beekdaelen",
          "Assen",
          "Kerkrade",
          "Schiedam",
          "Venray",
          "Berg en Dal",
          "De Ronde Venen",
          "Bernheze",
          "Stichtse Vecht",
          "Deventer",
          "Heerlen",
          "Etten-Leur",
          "Bronckhorst",
          "Woerden",
          "Bodegraven-Reeuwijk",
          "Doetinchem",
          "Veenendaal",
          "Gorinchem",
          "Zutphen",
          "Montferland",
          "Moerdijk",
          "Molenlanden",
          "Schagen",
          "Waalwijk",
          "Het Hogeland",
          "Maassluis",
          "Noardeast-Fryslân",
          "De Fryske Marren",
          "Harderwijk",
          "Veldhoven",
          "Overbetuwe",
          "Kaag en Braassem",
          "Best",
          "Sint-Michielsgestel",
          "Edam-Volendam",
          "Diemen",
          "Nieuwegein",
          "Nissewaard",
          "Oost Gelre",
          "Smallingerland",
          "Rijssen-Holten",
          "Raalte",
          "Hof van Twente",
          "Soest",
          "Midden-Groningen",
          "Goes",
          "Hollands Kroon",
          "Gemert-Bakel",
          "Stadskanaal",
          "Terneuzen",
          "Bladel",
          "Capelle aan den IJssel",
          "Eijsden-Margraten",
          "Dalfsen",
          "Vught",
          "Oldebroek",
          "Medemblik",
          "Roosendaal",
          "Valkenswaard",
          "Lochem",
          "Voorne aan Zee",
          "Houten",
          "Borne",
          "Leudal",
          "Wageningen",
          "Velsen",
          "Someren",
          "Blaricum",
          "Nuenen, Gerwen en Nederwetten",
          "Eersel",
          "Nieuwkoop",
          "Utrechtse Heuvelrug",
          "Landgraaf",
          "Heeze-Leende",
          "Zaltbommel",
          "Bergen (NH.)",
          "West Maas en Waal",
          "Wijchen",
          "Culemborg",
          "Lingewaard",
          "Zevenaar",
          "Bergeijk",
          "Steenwijkerland",
          "Castricum",
          "Beverwijk",
          "Putten",
          "Meppel",
          "Hilvarenbeek",
          "Wijk bij Duurstede",
          "Hattem",
          "Leidschendam-Voorburg",
          "Geldrop-Mierlo",
          "Waadhoeke",
          "Oegstgeest",
          "Boxtel",
          "Hendrik-Ido-Ambacht",
          "Dinkelland",
          "Ridderkerk",
          "Uithoorn",
          "Tiel",
          "Schouwen-Duiveland",
          "Wassenaar",
          "Gooise Meren",
          "Dongen",
          "Buren",
          "Coevorden",
          "Druten",
          "Westerwolde",
          "Nijkerk",
          "Losser",
          "Oldambt",
          "Voorst",
          "Midden-Delfland",
          "Bunschoten",
          "Borger-Odoorn",
          "Laarbeek",
          "Oude IJsselstreek",
          "Tytsjerksteradiel",
          "Twenterand",
          "Reimerswaal",
          "Den Helder",
          "Neder-Betuwe",
          "Zeewolde",
          "Drimmelen",
          "Staphorst",
          "Opsterland",
          "Oirschot",
          "Heiloo",
          "Vlissingen",
          "Hellendoorn",
          "Gilze en Rijen",
          "Aalsmeer",
          "Midden-Drenthe",
          "Nederweert",
          "Tubbergen",
          "Ermelo",
          "Rheden",
          "De Wolden",
          "Epe",
          "Noordenveld",
          "Alkmaar",
          "Maasdriel",
          "Halderberge",
          "Bloemendaal",
          "Nunspeet",
          "Aalten",
          "Tynaarlo",
          "Ommen",
          "Haaksbergen",
          "Cranendonck",
          "Aa en Hunze",
          "Gulpen-Wittem",
          "Beuningen",
          "Asten",
          "Hulst",
          "Loon op Zand",
          "Zwartewaterland",
          "Maasgouw",
          "Meerssen",
          "Brunssum",
          "Texel",
          "Winterswijk",
          "Tholen",
          "Boekel",
          "Olst-Wijhe",
          "Krimpen aan den IJssel",
          "Voerendaal",
          "Rucphen",
          "Reusel-De Mierden",
          "Elburg",
          "Oldenzaal",
          "Weststellingwerf",
          "Echt-Susteren",
          "Achtkarspelen",
          "Heerde",
          "Drechterland",
          "Wijdemeren",
          "Renkum",
          "Sliedrecht",
          "IJsselstein",
          "Borsele",
          "Urk",
          "Hillegom",
          "Leusden",
          "Stede Broec",
          "Heemskerk",
          "Bunnik",
          "Brummen",
          "Gennep",
          "Koggenland",
          "Zundert",
          "Rhenen",
          "Sluis",
          "Kampen",
          "Woensdrecht",
          "Barendrecht",
          "Zoeterwoude",
          "Wierden",
          "Goirle",
          "Heemstede",
          "Papendrecht",
          "Son en Breugel",
          "Valkenburg aan de Geul",
          "Baarn",
          "Westerveld",
          "Ooststellingwerf",
          "Veere",
          "Steenbergen",
          "Waalre",
          "Alphen-Chaam",
          "Opmeer",
          "Zwijndrecht",
          "Scherpenzeel",
          "Simpelveld",
          "Lisse",
          "Teylingen",
          "Dantumadiel",
          "Vaals",
          "Landsmeer",
          "Voorschoten",
          "Beesel",
          "Huizen",
          "Heumen",
          "Veendam",
          "Oudewater",
          "Harlingen",
          "Noord-Beveland",
          "Eemnes",
          "Duiven",
          "Roerdalen",
          "Kapelle",
          "Bergen (L.)",
          "Hardinxveld-Giessendam",
          "Lopik",
          "Alblasserdam",
          "Leiderdorp",
          "Woudenberg",
          "Ouder-Amstel",
          "Enkhuizen",
          "Baarle-Nassau",
          "Mook en Middelaar",
          "Renswoude",
          "Wormerland",
          "Westervoort",
          "Uitgeest",
          "Albrandswaard",
          "Zandvoort",
          "Geertruidenberg",
          "Pekela",
          "Ameland",
          "Doesburg",
          "Oostzaan",
          "Montfoort",
          "Waterland",
          "Terschelling",
          "Rozendaal",
          "Vlieland",
          "Schiermonnikoog"
         ],
         "yaxis": "y"
        }
       ],
       "layout": {
        "barmode": "relative",
        "height": 600,
        "legend": {
         "tracegroupgap": 0
        },
        "template": {
         "data": {
          "bar": [
           {
            "error_x": {
             "color": "#2a3f5f"
            },
            "error_y": {
             "color": "#2a3f5f"
            },
            "marker": {
             "line": {
              "color": "#E5ECF6",
              "width": 0.5
             },
             "pattern": {
              "fillmode": "overlay",
              "size": 10,
              "solidity": 0.2
             }
            },
            "type": "bar"
           }
          ],
          "barpolar": [
           {
            "marker": {
             "line": {
              "color": "#E5ECF6",
              "width": 0.5
             },
             "pattern": {
              "fillmode": "overlay",
              "size": 10,
              "solidity": 0.2
             }
            },
            "type": "barpolar"
           }
          ],
          "carpet": [
           {
            "aaxis": {
             "endlinecolor": "#2a3f5f",
             "gridcolor": "white",
             "linecolor": "white",
             "minorgridcolor": "white",
             "startlinecolor": "#2a3f5f"
            },
            "baxis": {
             "endlinecolor": "#2a3f5f",
             "gridcolor": "white",
             "linecolor": "white",
             "minorgridcolor": "white",
             "startlinecolor": "#2a3f5f"
            },
            "type": "carpet"
           }
          ],
          "choropleth": [
           {
            "colorbar": {
             "outlinewidth": 0,
             "ticks": ""
            },
            "type": "choropleth"
           }
          ],
          "contour": [
           {
            "colorbar": {
             "outlinewidth": 0,
             "ticks": ""
            },
            "colorscale": [
             [
              0,
              "#0d0887"
             ],
             [
              0.1111111111111111,
              "#46039f"
             ],
             [
              0.2222222222222222,
              "#7201a8"
             ],
             [
              0.3333333333333333,
              "#9c179e"
             ],
             [
              0.4444444444444444,
              "#bd3786"
             ],
             [
              0.5555555555555556,
              "#d8576b"
             ],
             [
              0.6666666666666666,
              "#ed7953"
             ],
             [
              0.7777777777777778,
              "#fb9f3a"
             ],
             [
              0.8888888888888888,
              "#fdca26"
             ],
             [
              1,
              "#f0f921"
             ]
            ],
            "type": "contour"
           }
          ],
          "contourcarpet": [
           {
            "colorbar": {
             "outlinewidth": 0,
             "ticks": ""
            },
            "type": "contourcarpet"
           }
          ],
          "heatmap": [
           {
            "colorbar": {
             "outlinewidth": 0,
             "ticks": ""
            },
            "colorscale": [
             [
              0,
              "#0d0887"
             ],
             [
              0.1111111111111111,
              "#46039f"
             ],
             [
              0.2222222222222222,
              "#7201a8"
             ],
             [
              0.3333333333333333,
              "#9c179e"
             ],
             [
              0.4444444444444444,
              "#bd3786"
             ],
             [
              0.5555555555555556,
              "#d8576b"
             ],
             [
              0.6666666666666666,
              "#ed7953"
             ],
             [
              0.7777777777777778,
              "#fb9f3a"
             ],
             [
              0.8888888888888888,
              "#fdca26"
             ],
             [
              1,
              "#f0f921"
             ]
            ],
            "type": "heatmap"
           }
          ],
          "heatmapgl": [
           {
            "colorbar": {
             "outlinewidth": 0,
             "ticks": ""
            },
            "colorscale": [
             [
              0,
              "#0d0887"
             ],
             [
              0.1111111111111111,
              "#46039f"
             ],
             [
              0.2222222222222222,
              "#7201a8"
             ],
             [
              0.3333333333333333,
              "#9c179e"
             ],
             [
              0.4444444444444444,
              "#bd3786"
             ],
             [
              0.5555555555555556,
              "#d8576b"
             ],
             [
              0.6666666666666666,
              "#ed7953"
             ],
             [
              0.7777777777777778,
              "#fb9f3a"
             ],
             [
              0.8888888888888888,
              "#fdca26"
             ],
             [
              1,
              "#f0f921"
             ]
            ],
            "type": "heatmapgl"
           }
          ],
          "histogram": [
           {
            "marker": {
             "pattern": {
              "fillmode": "overlay",
              "size": 10,
              "solidity": 0.2
             }
            },
            "type": "histogram"
           }
          ],
          "histogram2d": [
           {
            "colorbar": {
             "outlinewidth": 0,
             "ticks": ""
            },
            "colorscale": [
             [
              0,
              "#0d0887"
             ],
             [
              0.1111111111111111,
              "#46039f"
             ],
             [
              0.2222222222222222,
              "#7201a8"
             ],
             [
              0.3333333333333333,
              "#9c179e"
             ],
             [
              0.4444444444444444,
              "#bd3786"
             ],
             [
              0.5555555555555556,
              "#d8576b"
             ],
             [
              0.6666666666666666,
              "#ed7953"
             ],
             [
              0.7777777777777778,
              "#fb9f3a"
             ],
             [
              0.8888888888888888,
              "#fdca26"
             ],
             [
              1,
              "#f0f921"
             ]
            ],
            "type": "histogram2d"
           }
          ],
          "histogram2dcontour": [
           {
            "colorbar": {
             "outlinewidth": 0,
             "ticks": ""
            },
            "colorscale": [
             [
              0,
              "#0d0887"
             ],
             [
              0.1111111111111111,
              "#46039f"
             ],
             [
              0.2222222222222222,
              "#7201a8"
             ],
             [
              0.3333333333333333,
              "#9c179e"
             ],
             [
              0.4444444444444444,
              "#bd3786"
             ],
             [
              0.5555555555555556,
              "#d8576b"
             ],
             [
              0.6666666666666666,
              "#ed7953"
             ],
             [
              0.7777777777777778,
              "#fb9f3a"
             ],
             [
              0.8888888888888888,
              "#fdca26"
             ],
             [
              1,
              "#f0f921"
             ]
            ],
            "type": "histogram2dcontour"
           }
          ],
          "mesh3d": [
           {
            "colorbar": {
             "outlinewidth": 0,
             "ticks": ""
            },
            "type": "mesh3d"
           }
          ],
          "parcoords": [
           {
            "line": {
             "colorbar": {
              "outlinewidth": 0,
              "ticks": ""
             }
            },
            "type": "parcoords"
           }
          ],
          "pie": [
           {
            "automargin": true,
            "type": "pie"
           }
          ],
          "scatter": [
           {
            "fillpattern": {
             "fillmode": "overlay",
             "size": 10,
             "solidity": 0.2
            },
            "type": "scatter"
           }
          ],
          "scatter3d": [
           {
            "line": {
             "colorbar": {
              "outlinewidth": 0,
              "ticks": ""
             }
            },
            "marker": {
             "colorbar": {
              "outlinewidth": 0,
              "ticks": ""
             }
            },
            "type": "scatter3d"
           }
          ],
          "scattercarpet": [
           {
            "marker": {
             "colorbar": {
              "outlinewidth": 0,
              "ticks": ""
             }
            },
            "type": "scattercarpet"
           }
          ],
          "scattergeo": [
           {
            "marker": {
             "colorbar": {
              "outlinewidth": 0,
              "ticks": ""
             }
            },
            "type": "scattergeo"
           }
          ],
          "scattergl": [
           {
            "marker": {
             "colorbar": {
              "outlinewidth": 0,
              "ticks": ""
             }
            },
            "type": "scattergl"
           }
          ],
          "scattermapbox": [
           {
            "marker": {
             "colorbar": {
              "outlinewidth": 0,
              "ticks": ""
             }
            },
            "type": "scattermapbox"
           }
          ],
          "scatterpolar": [
           {
            "marker": {
             "colorbar": {
              "outlinewidth": 0,
              "ticks": ""
             }
            },
            "type": "scatterpolar"
           }
          ],
          "scatterpolargl": [
           {
            "marker": {
             "colorbar": {
              "outlinewidth": 0,
              "ticks": ""
             }
            },
            "type": "scatterpolargl"
           }
          ],
          "scatterternary": [
           {
            "marker": {
             "colorbar": {
              "outlinewidth": 0,
              "ticks": ""
             }
            },
            "type": "scatterternary"
           }
          ],
          "surface": [
           {
            "colorbar": {
             "outlinewidth": 0,
             "ticks": ""
            },
            "colorscale": [
             [
              0,
              "#0d0887"
             ],
             [
              0.1111111111111111,
              "#46039f"
             ],
             [
              0.2222222222222222,
              "#7201a8"
             ],
             [
              0.3333333333333333,
              "#9c179e"
             ],
             [
              0.4444444444444444,
              "#bd3786"
             ],
             [
              0.5555555555555556,
              "#d8576b"
             ],
             [
              0.6666666666666666,
              "#ed7953"
             ],
             [
              0.7777777777777778,
              "#fb9f3a"
             ],
             [
              0.8888888888888888,
              "#fdca26"
             ],
             [
              1,
              "#f0f921"
             ]
            ],
            "type": "surface"
           }
          ],
          "table": [
           {
            "cells": {
             "fill": {
              "color": "#EBF0F8"
             },
             "line": {
              "color": "white"
             }
            },
            "header": {
             "fill": {
              "color": "#C8D4E3"
             },
             "line": {
              "color": "white"
             }
            },
            "type": "table"
           }
          ]
         },
         "layout": {
          "annotationdefaults": {
           "arrowcolor": "#2a3f5f",
           "arrowhead": 0,
           "arrowwidth": 1
          },
          "autotypenumbers": "strict",
          "coloraxis": {
           "colorbar": {
            "outlinewidth": 0,
            "ticks": ""
           }
          },
          "colorscale": {
           "diverging": [
            [
             0,
             "#8e0152"
            ],
            [
             0.1,
             "#c51b7d"
            ],
            [
             0.2,
             "#de77ae"
            ],
            [
             0.3,
             "#f1b6da"
            ],
            [
             0.4,
             "#fde0ef"
            ],
            [
             0.5,
             "#f7f7f7"
            ],
            [
             0.6,
             "#e6f5d0"
            ],
            [
             0.7,
             "#b8e186"
            ],
            [
             0.8,
             "#7fbc41"
            ],
            [
             0.9,
             "#4d9221"
            ],
            [
             1,
             "#276419"
            ]
           ],
           "sequential": [
            [
             0,
             "#0d0887"
            ],
            [
             0.1111111111111111,
             "#46039f"
            ],
            [
             0.2222222222222222,
             "#7201a8"
            ],
            [
             0.3333333333333333,
             "#9c179e"
            ],
            [
             0.4444444444444444,
             "#bd3786"
            ],
            [
             0.5555555555555556,
             "#d8576b"
            ],
            [
             0.6666666666666666,
             "#ed7953"
            ],
            [
             0.7777777777777778,
             "#fb9f3a"
            ],
            [
             0.8888888888888888,
             "#fdca26"
            ],
            [
             1,
             "#f0f921"
            ]
           ],
           "sequentialminus": [
            [
             0,
             "#0d0887"
            ],
            [
             0.1111111111111111,
             "#46039f"
            ],
            [
             0.2222222222222222,
             "#7201a8"
            ],
            [
             0.3333333333333333,
             "#9c179e"
            ],
            [
             0.4444444444444444,
             "#bd3786"
            ],
            [
             0.5555555555555556,
             "#d8576b"
            ],
            [
             0.6666666666666666,
             "#ed7953"
            ],
            [
             0.7777777777777778,
             "#fb9f3a"
            ],
            [
             0.8888888888888888,
             "#fdca26"
            ],
            [
             1,
             "#f0f921"
            ]
           ]
          },
          "colorway": [
           "#636efa",
           "#EF553B",
           "#00cc96",
           "#ab63fa",
           "#FFA15A",
           "#19d3f3",
           "#FF6692",
           "#B6E880",
           "#FF97FF",
           "#FECB52"
          ],
          "font": {
           "color": "#2a3f5f"
          },
          "geo": {
           "bgcolor": "white",
           "lakecolor": "white",
           "landcolor": "#E5ECF6",
           "showlakes": true,
           "showland": true,
           "subunitcolor": "white"
          },
          "hoverlabel": {
           "align": "left"
          },
          "hovermode": "closest",
          "mapbox": {
           "style": "light"
          },
          "paper_bgcolor": "white",
          "plot_bgcolor": "#E5ECF6",
          "polar": {
           "angularaxis": {
            "gridcolor": "white",
            "linecolor": "white",
            "ticks": ""
           },
           "bgcolor": "#E5ECF6",
           "radialaxis": {
            "gridcolor": "white",
            "linecolor": "white",
            "ticks": ""
           }
          },
          "scene": {
           "xaxis": {
            "backgroundcolor": "#E5ECF6",
            "gridcolor": "white",
            "gridwidth": 2,
            "linecolor": "white",
            "showbackground": true,
            "ticks": "",
            "zerolinecolor": "white"
           },
           "yaxis": {
            "backgroundcolor": "#E5ECF6",
            "gridcolor": "white",
            "gridwidth": 2,
            "linecolor": "white",
            "showbackground": true,
            "ticks": "",
            "zerolinecolor": "white"
           },
           "zaxis": {
            "backgroundcolor": "#E5ECF6",
            "gridcolor": "white",
            "gridwidth": 2,
            "linecolor": "white",
            "showbackground": true,
            "ticks": "",
            "zerolinecolor": "white"
           }
          },
          "shapedefaults": {
           "line": {
            "color": "#2a3f5f"
           }
          },
          "ternary": {
           "aaxis": {
            "gridcolor": "white",
            "linecolor": "white",
            "ticks": ""
           },
           "baxis": {
            "gridcolor": "white",
            "linecolor": "white",
            "ticks": ""
           },
           "bgcolor": "#E5ECF6",
           "caxis": {
            "gridcolor": "white",
            "linecolor": "white",
            "ticks": ""
           }
          },
          "title": {
           "x": 0.05
          },
          "xaxis": {
           "automargin": true,
           "gridcolor": "white",
           "linecolor": "white",
           "ticks": "",
           "title": {
            "standoff": 15
           },
           "zerolinecolor": "white",
           "zerolinewidth": 2
          },
          "yaxis": {
           "automargin": true,
           "gridcolor": "white",
           "linecolor": "white",
           "ticks": "",
           "title": {
            "standoff": 15
           },
           "zerolinecolor": "white",
           "zerolinewidth": 2
          }
         }
        },
        "title": {
         "text": "Embodied emissions per municipality for housing in NL"
        },
        "width": 800,
        "xaxis": {
         "anchor": "y",
         "domain": [
          0,
          1
         ],
         "title": {
          "text": "emissions_embodied_tons"
         }
        },
        "yaxis": {
         "anchor": "x",
         "domain": [
          0,
          1
         ],
         "title": {
          "text": "municipality"
         }
        }
       }
      }
     },
     "metadata": {},
     "output_type": "display_data"
    }
   ],
   "source": [
    "# horizontal bar chart for embodied emissions per municipality\n",
    "fig = px.bar(gdf, x='emissions_embodied_tons', y='municipality', title='Embodied emissions per municipality for housing in NL')\n",
    "fig.update_layout(width=800, height=600)\n",
    "fig.show()"
   ]
  },
  {
   "cell_type": "code",
   "execution_count": 33,
   "metadata": {},
   "outputs": [
    {
     "data": {
      "application/vnd.plotly.v1+json": {
       "config": {
        "plotlyServerURL": "https://plot.ly"
       },
       "data": [
        {
         "alignmentgroup": "True",
         "hovertemplate": "status=Construction<br>emissions_embodied_tons=%{x}<br>municipality=%{y}<extra></extra>",
         "legendgroup": "Construction",
         "marker": {
          "color": "#636EFA",
          "pattern": {
           "shape": ""
          }
         },
         "name": "Construction",
         "offsetgroup": "Construction",
         "orientation": "h",
         "showlegend": true,
         "textposition": "auto",
         "type": "bar",
         "x": [
          289181.396,
          385626.808,
          864262.528,
          224318.92,
          251283.832,
          336290.36,
          229895.372,
          246579.856,
          380691.836,
          503725.488
         ],
         "xaxis": "x",
         "y": [
          "'s-Gravenhage",
          "Almere",
          "Amsterdam",
          "Breda",
          "Ede",
          "Eindhoven",
          "Groningen",
          "Rotterdam",
          "Tilburg",
          "Utrecht"
         ],
         "yaxis": "y"
        },
        {
         "alignmentgroup": "True",
         "hovertemplate": "status=Demolition<br>emissions_embodied_tons=%{x}<br>municipality=%{y}<extra></extra>",
         "legendgroup": "Demolition",
         "marker": {
          "color": "#EF553B",
          "pattern": {
           "shape": ""
          }
         },
         "name": "Demolition",
         "offsetgroup": "Demolition",
         "orientation": "h",
         "showlegend": true,
         "textposition": "auto",
         "type": "bar",
         "x": [
          54204.227,
          2628.01,
          64957.585,
          24195.402,
          37622.508,
          48620.418,
          27651.085,
          85137.206,
          63532.084,
          35872.452
         ],
         "xaxis": "x",
         "y": [
          "'s-Gravenhage",
          "Almere",
          "Amsterdam",
          "Breda",
          "Ede",
          "Eindhoven",
          "Groningen",
          "Rotterdam",
          "Tilburg",
          "Utrecht"
         ],
         "yaxis": "y"
        },
        {
         "alignmentgroup": "True",
         "hovertemplate": "status=Renovation<br>emissions_embodied_tons=%{x}<br>municipality=%{y}<extra></extra>",
         "legendgroup": "Renovation",
         "marker": {
          "color": "#00CC96",
          "pattern": {
           "shape": ""
          }
         },
         "name": "Renovation",
         "offsetgroup": "Renovation",
         "orientation": "h",
         "showlegend": true,
         "textposition": "auto",
         "type": "bar",
         "x": [
          118688.22,
          36695.736,
          211837.878,
          90943.398,
          37162.944,
          131532.786,
          82963.062,
          57361.5,
          25919.208,
          141160.32
         ],
         "xaxis": "x",
         "y": [
          "'s-Gravenhage",
          "Almere",
          "Amsterdam",
          "Breda",
          "Ede",
          "Eindhoven",
          "Groningen",
          "Rotterdam",
          "Tilburg",
          "Utrecht"
         ],
         "yaxis": "y"
        }
       ],
       "layout": {
        "barmode": "relative",
        "legend": {
         "title": {
          "text": "status"
         },
         "tracegroupgap": 0
        },
        "template": {
         "data": {
          "bar": [
           {
            "error_x": {
             "color": "#2a3f5f"
            },
            "error_y": {
             "color": "#2a3f5f"
            },
            "marker": {
             "line": {
              "color": "#E5ECF6",
              "width": 0.5
             },
             "pattern": {
              "fillmode": "overlay",
              "size": 10,
              "solidity": 0.2
             }
            },
            "type": "bar"
           }
          ],
          "barpolar": [
           {
            "marker": {
             "line": {
              "color": "#E5ECF6",
              "width": 0.5
             },
             "pattern": {
              "fillmode": "overlay",
              "size": 10,
              "solidity": 0.2
             }
            },
            "type": "barpolar"
           }
          ],
          "carpet": [
           {
            "aaxis": {
             "endlinecolor": "#2a3f5f",
             "gridcolor": "white",
             "linecolor": "white",
             "minorgridcolor": "white",
             "startlinecolor": "#2a3f5f"
            },
            "baxis": {
             "endlinecolor": "#2a3f5f",
             "gridcolor": "white",
             "linecolor": "white",
             "minorgridcolor": "white",
             "startlinecolor": "#2a3f5f"
            },
            "type": "carpet"
           }
          ],
          "choropleth": [
           {
            "colorbar": {
             "outlinewidth": 0,
             "ticks": ""
            },
            "type": "choropleth"
           }
          ],
          "contour": [
           {
            "colorbar": {
             "outlinewidth": 0,
             "ticks": ""
            },
            "colorscale": [
             [
              0,
              "#0d0887"
             ],
             [
              0.1111111111111111,
              "#46039f"
             ],
             [
              0.2222222222222222,
              "#7201a8"
             ],
             [
              0.3333333333333333,
              "#9c179e"
             ],
             [
              0.4444444444444444,
              "#bd3786"
             ],
             [
              0.5555555555555556,
              "#d8576b"
             ],
             [
              0.6666666666666666,
              "#ed7953"
             ],
             [
              0.7777777777777778,
              "#fb9f3a"
             ],
             [
              0.8888888888888888,
              "#fdca26"
             ],
             [
              1,
              "#f0f921"
             ]
            ],
            "type": "contour"
           }
          ],
          "contourcarpet": [
           {
            "colorbar": {
             "outlinewidth": 0,
             "ticks": ""
            },
            "type": "contourcarpet"
           }
          ],
          "heatmap": [
           {
            "colorbar": {
             "outlinewidth": 0,
             "ticks": ""
            },
            "colorscale": [
             [
              0,
              "#0d0887"
             ],
             [
              0.1111111111111111,
              "#46039f"
             ],
             [
              0.2222222222222222,
              "#7201a8"
             ],
             [
              0.3333333333333333,
              "#9c179e"
             ],
             [
              0.4444444444444444,
              "#bd3786"
             ],
             [
              0.5555555555555556,
              "#d8576b"
             ],
             [
              0.6666666666666666,
              "#ed7953"
             ],
             [
              0.7777777777777778,
              "#fb9f3a"
             ],
             [
              0.8888888888888888,
              "#fdca26"
             ],
             [
              1,
              "#f0f921"
             ]
            ],
            "type": "heatmap"
           }
          ],
          "heatmapgl": [
           {
            "colorbar": {
             "outlinewidth": 0,
             "ticks": ""
            },
            "colorscale": [
             [
              0,
              "#0d0887"
             ],
             [
              0.1111111111111111,
              "#46039f"
             ],
             [
              0.2222222222222222,
              "#7201a8"
             ],
             [
              0.3333333333333333,
              "#9c179e"
             ],
             [
              0.4444444444444444,
              "#bd3786"
             ],
             [
              0.5555555555555556,
              "#d8576b"
             ],
             [
              0.6666666666666666,
              "#ed7953"
             ],
             [
              0.7777777777777778,
              "#fb9f3a"
             ],
             [
              0.8888888888888888,
              "#fdca26"
             ],
             [
              1,
              "#f0f921"
             ]
            ],
            "type": "heatmapgl"
           }
          ],
          "histogram": [
           {
            "marker": {
             "pattern": {
              "fillmode": "overlay",
              "size": 10,
              "solidity": 0.2
             }
            },
            "type": "histogram"
           }
          ],
          "histogram2d": [
           {
            "colorbar": {
             "outlinewidth": 0,
             "ticks": ""
            },
            "colorscale": [
             [
              0,
              "#0d0887"
             ],
             [
              0.1111111111111111,
              "#46039f"
             ],
             [
              0.2222222222222222,
              "#7201a8"
             ],
             [
              0.3333333333333333,
              "#9c179e"
             ],
             [
              0.4444444444444444,
              "#bd3786"
             ],
             [
              0.5555555555555556,
              "#d8576b"
             ],
             [
              0.6666666666666666,
              "#ed7953"
             ],
             [
              0.7777777777777778,
              "#fb9f3a"
             ],
             [
              0.8888888888888888,
              "#fdca26"
             ],
             [
              1,
              "#f0f921"
             ]
            ],
            "type": "histogram2d"
           }
          ],
          "histogram2dcontour": [
           {
            "colorbar": {
             "outlinewidth": 0,
             "ticks": ""
            },
            "colorscale": [
             [
              0,
              "#0d0887"
             ],
             [
              0.1111111111111111,
              "#46039f"
             ],
             [
              0.2222222222222222,
              "#7201a8"
             ],
             [
              0.3333333333333333,
              "#9c179e"
             ],
             [
              0.4444444444444444,
              "#bd3786"
             ],
             [
              0.5555555555555556,
              "#d8576b"
             ],
             [
              0.6666666666666666,
              "#ed7953"
             ],
             [
              0.7777777777777778,
              "#fb9f3a"
             ],
             [
              0.8888888888888888,
              "#fdca26"
             ],
             [
              1,
              "#f0f921"
             ]
            ],
            "type": "histogram2dcontour"
           }
          ],
          "mesh3d": [
           {
            "colorbar": {
             "outlinewidth": 0,
             "ticks": ""
            },
            "type": "mesh3d"
           }
          ],
          "parcoords": [
           {
            "line": {
             "colorbar": {
              "outlinewidth": 0,
              "ticks": ""
             }
            },
            "type": "parcoords"
           }
          ],
          "pie": [
           {
            "automargin": true,
            "type": "pie"
           }
          ],
          "scatter": [
           {
            "fillpattern": {
             "fillmode": "overlay",
             "size": 10,
             "solidity": 0.2
            },
            "type": "scatter"
           }
          ],
          "scatter3d": [
           {
            "line": {
             "colorbar": {
              "outlinewidth": 0,
              "ticks": ""
             }
            },
            "marker": {
             "colorbar": {
              "outlinewidth": 0,
              "ticks": ""
             }
            },
            "type": "scatter3d"
           }
          ],
          "scattercarpet": [
           {
            "marker": {
             "colorbar": {
              "outlinewidth": 0,
              "ticks": ""
             }
            },
            "type": "scattercarpet"
           }
          ],
          "scattergeo": [
           {
            "marker": {
             "colorbar": {
              "outlinewidth": 0,
              "ticks": ""
             }
            },
            "type": "scattergeo"
           }
          ],
          "scattergl": [
           {
            "marker": {
             "colorbar": {
              "outlinewidth": 0,
              "ticks": ""
             }
            },
            "type": "scattergl"
           }
          ],
          "scattermapbox": [
           {
            "marker": {
             "colorbar": {
              "outlinewidth": 0,
              "ticks": ""
             }
            },
            "type": "scattermapbox"
           }
          ],
          "scatterpolar": [
           {
            "marker": {
             "colorbar": {
              "outlinewidth": 0,
              "ticks": ""
             }
            },
            "type": "scatterpolar"
           }
          ],
          "scatterpolargl": [
           {
            "marker": {
             "colorbar": {
              "outlinewidth": 0,
              "ticks": ""
             }
            },
            "type": "scatterpolargl"
           }
          ],
          "scatterternary": [
           {
            "marker": {
             "colorbar": {
              "outlinewidth": 0,
              "ticks": ""
             }
            },
            "type": "scatterternary"
           }
          ],
          "surface": [
           {
            "colorbar": {
             "outlinewidth": 0,
             "ticks": ""
            },
            "colorscale": [
             [
              0,
              "#0d0887"
             ],
             [
              0.1111111111111111,
              "#46039f"
             ],
             [
              0.2222222222222222,
              "#7201a8"
             ],
             [
              0.3333333333333333,
              "#9c179e"
             ],
             [
              0.4444444444444444,
              "#bd3786"
             ],
             [
              0.5555555555555556,
              "#d8576b"
             ],
             [
              0.6666666666666666,
              "#ed7953"
             ],
             [
              0.7777777777777778,
              "#fb9f3a"
             ],
             [
              0.8888888888888888,
              "#fdca26"
             ],
             [
              1,
              "#f0f921"
             ]
            ],
            "type": "surface"
           }
          ],
          "table": [
           {
            "cells": {
             "fill": {
              "color": "#EBF0F8"
             },
             "line": {
              "color": "white"
             }
            },
            "header": {
             "fill": {
              "color": "#C8D4E3"
             },
             "line": {
              "color": "white"
             }
            },
            "type": "table"
           }
          ]
         },
         "layout": {
          "annotationdefaults": {
           "arrowcolor": "#2a3f5f",
           "arrowhead": 0,
           "arrowwidth": 1
          },
          "autotypenumbers": "strict",
          "coloraxis": {
           "colorbar": {
            "outlinewidth": 0,
            "ticks": ""
           }
          },
          "colorscale": {
           "diverging": [
            [
             0,
             "#8e0152"
            ],
            [
             0.1,
             "#c51b7d"
            ],
            [
             0.2,
             "#de77ae"
            ],
            [
             0.3,
             "#f1b6da"
            ],
            [
             0.4,
             "#fde0ef"
            ],
            [
             0.5,
             "#f7f7f7"
            ],
            [
             0.6,
             "#e6f5d0"
            ],
            [
             0.7,
             "#b8e186"
            ],
            [
             0.8,
             "#7fbc41"
            ],
            [
             0.9,
             "#4d9221"
            ],
            [
             1,
             "#276419"
            ]
           ],
           "sequential": [
            [
             0,
             "#0d0887"
            ],
            [
             0.1111111111111111,
             "#46039f"
            ],
            [
             0.2222222222222222,
             "#7201a8"
            ],
            [
             0.3333333333333333,
             "#9c179e"
            ],
            [
             0.4444444444444444,
             "#bd3786"
            ],
            [
             0.5555555555555556,
             "#d8576b"
            ],
            [
             0.6666666666666666,
             "#ed7953"
            ],
            [
             0.7777777777777778,
             "#fb9f3a"
            ],
            [
             0.8888888888888888,
             "#fdca26"
            ],
            [
             1,
             "#f0f921"
            ]
           ],
           "sequentialminus": [
            [
             0,
             "#0d0887"
            ],
            [
             0.1111111111111111,
             "#46039f"
            ],
            [
             0.2222222222222222,
             "#7201a8"
            ],
            [
             0.3333333333333333,
             "#9c179e"
            ],
            [
             0.4444444444444444,
             "#bd3786"
            ],
            [
             0.5555555555555556,
             "#d8576b"
            ],
            [
             0.6666666666666666,
             "#ed7953"
            ],
            [
             0.7777777777777778,
             "#fb9f3a"
            ],
            [
             0.8888888888888888,
             "#fdca26"
            ],
            [
             1,
             "#f0f921"
            ]
           ]
          },
          "colorway": [
           "#636efa",
           "#EF553B",
           "#00cc96",
           "#ab63fa",
           "#FFA15A",
           "#19d3f3",
           "#FF6692",
           "#B6E880",
           "#FF97FF",
           "#FECB52"
          ],
          "font": {
           "color": "#2a3f5f"
          },
          "geo": {
           "bgcolor": "white",
           "lakecolor": "white",
           "landcolor": "#E5ECF6",
           "showlakes": true,
           "showland": true,
           "subunitcolor": "white"
          },
          "hoverlabel": {
           "align": "left"
          },
          "hovermode": "closest",
          "mapbox": {
           "style": "light"
          },
          "paper_bgcolor": "white",
          "plot_bgcolor": "#E5ECF6",
          "polar": {
           "angularaxis": {
            "gridcolor": "white",
            "linecolor": "white",
            "ticks": ""
           },
           "bgcolor": "#E5ECF6",
           "radialaxis": {
            "gridcolor": "white",
            "linecolor": "white",
            "ticks": ""
           }
          },
          "scene": {
           "xaxis": {
            "backgroundcolor": "#E5ECF6",
            "gridcolor": "white",
            "gridwidth": 2,
            "linecolor": "white",
            "showbackground": true,
            "ticks": "",
            "zerolinecolor": "white"
           },
           "yaxis": {
            "backgroundcolor": "#E5ECF6",
            "gridcolor": "white",
            "gridwidth": 2,
            "linecolor": "white",
            "showbackground": true,
            "ticks": "",
            "zerolinecolor": "white"
           },
           "zaxis": {
            "backgroundcolor": "#E5ECF6",
            "gridcolor": "white",
            "gridwidth": 2,
            "linecolor": "white",
            "showbackground": true,
            "ticks": "",
            "zerolinecolor": "white"
           }
          },
          "shapedefaults": {
           "line": {
            "color": "#2a3f5f"
           }
          },
          "ternary": {
           "aaxis": {
            "gridcolor": "white",
            "linecolor": "white",
            "ticks": ""
           },
           "baxis": {
            "gridcolor": "white",
            "linecolor": "white",
            "ticks": ""
           },
           "bgcolor": "#E5ECF6",
           "caxis": {
            "gridcolor": "white",
            "linecolor": "white",
            "ticks": ""
           }
          },
          "title": {
           "x": 0.05
          },
          "xaxis": {
           "automargin": true,
           "gridcolor": "white",
           "linecolor": "white",
           "ticks": "",
           "title": {
            "standoff": 15
           },
           "zerolinecolor": "white",
           "zerolinewidth": 2
          },
          "yaxis": {
           "automargin": true,
           "gridcolor": "white",
           "linecolor": "white",
           "ticks": "",
           "title": {
            "standoff": 15
           },
           "zerolinecolor": "white",
           "zerolinewidth": 2
          }
         }
        },
        "title": {
         "text": "Embodied emissions by status for top ten municipalities (2011 - 2024)"
        },
        "width": 1000,
        "xaxis": {
         "anchor": "y",
         "domain": [
          0,
          1
         ],
         "title": {
          "text": "emissions_embodied_tons"
         }
        },
        "yaxis": {
         "anchor": "x",
         "categoryarray": [
          "Breda",
          "Ede",
          "Groningen",
          "Almere",
          "Tilburg",
          "Rotterdam",
          "'s-Gravenhage",
          "Eindhoven",
          "Utrecht",
          "Amsterdam"
         ],
         "categoryorder": "array",
         "domain": [
          0,
          1
         ],
         "title": {
          "text": "municipality"
         }
        }
       }
      }
     },
     "metadata": {},
     "output_type": "display_data"
    }
   ],
   "source": [
    "# by status\n",
    "query = f'''\n",
    "SELECT municipality, status, SUM(sqm) AS sqm, SUM(emissions_embodied_tons) AS emissions_embodied_tons\n",
    "FROM emissions_embodied_housing_nl\n",
    "WHERE \n",
    "    municipality IN (\n",
    "        'Amsterdam', 'Utrecht', 'Eindhoven', \\'\\'\\'s-Gravenhage', 'Rotterdam',\n",
    "        'Tilburg', 'Almere', 'Groningen', 'Ede', 'Breda'\n",
    "        )\n",
    "    AND year >= 2012 AND year < 2024\n",
    "GROUP BY municipality, status\n",
    "'''\n",
    "df = pd.read_sql_query(query, engine)\n",
    "df.status = df.status.map(lambda x: translate_status(x))\n",
    "municipality_order = ['Amsterdam', 'Utrecht', 'Eindhoven', \"'s-Gravenhage\", 'Rotterdam', 'Tilburg', 'Almere', 'Groningen', 'Ede', 'Breda']\n",
    "status_order = ['Construction', 'Demolition', 'Renovation']\n",
    "\n",
    "color_discrete_map = {\n",
    "    'Construction': px.colors.qualitative.Plotly[0],  # Construction\n",
    "    'Demolition': px.colors.qualitative.Plotly[1],   # Demolition\n",
    "    'Renovation': px.colors.qualitative.Plotly[2] # Renovation\n",
    "}\n",
    "\n",
    "fig = px.bar(df, x='emissions_embodied_tons', y='municipality', color='status',  \n",
    "             title='Embodied emissions by status for top ten municipalities (2011 - 2024)', \n",
    "             category_orders={'municipality': municipality_order, 'status': status_order},\n",
    "             color_discrete_map=color_discrete_map)\n",
    "fig.update_layout(width=1000)\n",
    "fig.show()"
   ]
  },
  {
   "cell_type": "code",
   "execution_count": 37,
   "metadata": {},
   "outputs": [
    {
     "data": {
      "application/vnd.plotly.v1+json": {
       "config": {
        "plotlyServerURL": "https://plot.ly"
       },
       "data": [
        {
         "alignmentgroup": "True",
         "hovertemplate": "status=Construction<br>emissions_embodied_tons=%{x}<br>municipality=%{y}<extra></extra>",
         "legendgroup": "Construction",
         "marker": {
          "color": "#636EFA",
          "pattern": {
           "shape": ""
          }
         },
         "name": "Construction",
         "offsetgroup": "Construction",
         "orientation": "h",
         "showlegend": true,
         "textposition": "auto",
         "type": "bar",
         "x": [
          6041.604,
          3517.08,
          4837.328,
          7830.164,
          7220.284,
          4902.424,
          879.112,
          6076.364,
          2496.4,
          3031.388
         ],
         "xaxis": "x",
         "y": [
          "Ameland",
          "Doesburg",
          "Montfoort",
          "Oostzaan",
          "Pekela",
          "Rozendaal",
          "Schiermonnikoog",
          "Terschelling",
          "Vlieland",
          "Waterland"
         ],
         "yaxis": "y"
        },
        {
         "alignmentgroup": "True",
         "hovertemplate": "status=Demolition<br>emissions_embodied_tons=%{x}<br>municipality=%{y}<extra></extra>",
         "legendgroup": "Demolition",
         "marker": {
          "color": "#EF553B",
          "pattern": {
           "shape": ""
          }
         },
         "name": "Demolition",
         "offsetgroup": "Demolition",
         "orientation": "h",
         "showlegend": true,
         "textposition": "auto",
         "type": "bar",
         "x": [
          732.886,
          2557.478,
          506.891,
          1013.628,
          3475.318,
          529.837,
          385.154,
          369.6,
          672.518,
          1639.869
         ],
         "xaxis": "x",
         "y": [
          "Ameland",
          "Doesburg",
          "Montfoort",
          "Oostzaan",
          "Pekela",
          "Rozendaal",
          "Schiermonnikoog",
          "Terschelling",
          "Vlieland",
          "Waterland"
         ],
         "yaxis": "y"
        },
        {
         "alignmentgroup": "True",
         "hovertemplate": "status=Renovation<br>emissions_embodied_tons=%{x}<br>municipality=%{y}<extra></extra>",
         "legendgroup": "Renovation",
         "marker": {
          "color": "#00CC96",
          "pattern": {
           "shape": ""
          }
         },
         "name": "Renovation",
         "offsetgroup": "Renovation",
         "orientation": "h",
         "showlegend": true,
         "textposition": "auto",
         "type": "bar",
         "x": [
          4013.226,
          1410.696,
          4713.282,
          2013.102,
          3930.444,
          856.926,
          1336.86,
          3496.122,
          912.744,
          4944.618
         ],
         "xaxis": "x",
         "y": [
          "Ameland",
          "Doesburg",
          "Montfoort",
          "Oostzaan",
          "Pekela",
          "Rozendaal",
          "Schiermonnikoog",
          "Terschelling",
          "Vlieland",
          "Waterland"
         ],
         "yaxis": "y"
        }
       ],
       "layout": {
        "barmode": "relative",
        "legend": {
         "title": {
          "text": "status"
         },
         "tracegroupgap": 0
        },
        "template": {
         "data": {
          "bar": [
           {
            "error_x": {
             "color": "#2a3f5f"
            },
            "error_y": {
             "color": "#2a3f5f"
            },
            "marker": {
             "line": {
              "color": "#E5ECF6",
              "width": 0.5
             },
             "pattern": {
              "fillmode": "overlay",
              "size": 10,
              "solidity": 0.2
             }
            },
            "type": "bar"
           }
          ],
          "barpolar": [
           {
            "marker": {
             "line": {
              "color": "#E5ECF6",
              "width": 0.5
             },
             "pattern": {
              "fillmode": "overlay",
              "size": 10,
              "solidity": 0.2
             }
            },
            "type": "barpolar"
           }
          ],
          "carpet": [
           {
            "aaxis": {
             "endlinecolor": "#2a3f5f",
             "gridcolor": "white",
             "linecolor": "white",
             "minorgridcolor": "white",
             "startlinecolor": "#2a3f5f"
            },
            "baxis": {
             "endlinecolor": "#2a3f5f",
             "gridcolor": "white",
             "linecolor": "white",
             "minorgridcolor": "white",
             "startlinecolor": "#2a3f5f"
            },
            "type": "carpet"
           }
          ],
          "choropleth": [
           {
            "colorbar": {
             "outlinewidth": 0,
             "ticks": ""
            },
            "type": "choropleth"
           }
          ],
          "contour": [
           {
            "colorbar": {
             "outlinewidth": 0,
             "ticks": ""
            },
            "colorscale": [
             [
              0,
              "#0d0887"
             ],
             [
              0.1111111111111111,
              "#46039f"
             ],
             [
              0.2222222222222222,
              "#7201a8"
             ],
             [
              0.3333333333333333,
              "#9c179e"
             ],
             [
              0.4444444444444444,
              "#bd3786"
             ],
             [
              0.5555555555555556,
              "#d8576b"
             ],
             [
              0.6666666666666666,
              "#ed7953"
             ],
             [
              0.7777777777777778,
              "#fb9f3a"
             ],
             [
              0.8888888888888888,
              "#fdca26"
             ],
             [
              1,
              "#f0f921"
             ]
            ],
            "type": "contour"
           }
          ],
          "contourcarpet": [
           {
            "colorbar": {
             "outlinewidth": 0,
             "ticks": ""
            },
            "type": "contourcarpet"
           }
          ],
          "heatmap": [
           {
            "colorbar": {
             "outlinewidth": 0,
             "ticks": ""
            },
            "colorscale": [
             [
              0,
              "#0d0887"
             ],
             [
              0.1111111111111111,
              "#46039f"
             ],
             [
              0.2222222222222222,
              "#7201a8"
             ],
             [
              0.3333333333333333,
              "#9c179e"
             ],
             [
              0.4444444444444444,
              "#bd3786"
             ],
             [
              0.5555555555555556,
              "#d8576b"
             ],
             [
              0.6666666666666666,
              "#ed7953"
             ],
             [
              0.7777777777777778,
              "#fb9f3a"
             ],
             [
              0.8888888888888888,
              "#fdca26"
             ],
             [
              1,
              "#f0f921"
             ]
            ],
            "type": "heatmap"
           }
          ],
          "heatmapgl": [
           {
            "colorbar": {
             "outlinewidth": 0,
             "ticks": ""
            },
            "colorscale": [
             [
              0,
              "#0d0887"
             ],
             [
              0.1111111111111111,
              "#46039f"
             ],
             [
              0.2222222222222222,
              "#7201a8"
             ],
             [
              0.3333333333333333,
              "#9c179e"
             ],
             [
              0.4444444444444444,
              "#bd3786"
             ],
             [
              0.5555555555555556,
              "#d8576b"
             ],
             [
              0.6666666666666666,
              "#ed7953"
             ],
             [
              0.7777777777777778,
              "#fb9f3a"
             ],
             [
              0.8888888888888888,
              "#fdca26"
             ],
             [
              1,
              "#f0f921"
             ]
            ],
            "type": "heatmapgl"
           }
          ],
          "histogram": [
           {
            "marker": {
             "pattern": {
              "fillmode": "overlay",
              "size": 10,
              "solidity": 0.2
             }
            },
            "type": "histogram"
           }
          ],
          "histogram2d": [
           {
            "colorbar": {
             "outlinewidth": 0,
             "ticks": ""
            },
            "colorscale": [
             [
              0,
              "#0d0887"
             ],
             [
              0.1111111111111111,
              "#46039f"
             ],
             [
              0.2222222222222222,
              "#7201a8"
             ],
             [
              0.3333333333333333,
              "#9c179e"
             ],
             [
              0.4444444444444444,
              "#bd3786"
             ],
             [
              0.5555555555555556,
              "#d8576b"
             ],
             [
              0.6666666666666666,
              "#ed7953"
             ],
             [
              0.7777777777777778,
              "#fb9f3a"
             ],
             [
              0.8888888888888888,
              "#fdca26"
             ],
             [
              1,
              "#f0f921"
             ]
            ],
            "type": "histogram2d"
           }
          ],
          "histogram2dcontour": [
           {
            "colorbar": {
             "outlinewidth": 0,
             "ticks": ""
            },
            "colorscale": [
             [
              0,
              "#0d0887"
             ],
             [
              0.1111111111111111,
              "#46039f"
             ],
             [
              0.2222222222222222,
              "#7201a8"
             ],
             [
              0.3333333333333333,
              "#9c179e"
             ],
             [
              0.4444444444444444,
              "#bd3786"
             ],
             [
              0.5555555555555556,
              "#d8576b"
             ],
             [
              0.6666666666666666,
              "#ed7953"
             ],
             [
              0.7777777777777778,
              "#fb9f3a"
             ],
             [
              0.8888888888888888,
              "#fdca26"
             ],
             [
              1,
              "#f0f921"
             ]
            ],
            "type": "histogram2dcontour"
           }
          ],
          "mesh3d": [
           {
            "colorbar": {
             "outlinewidth": 0,
             "ticks": ""
            },
            "type": "mesh3d"
           }
          ],
          "parcoords": [
           {
            "line": {
             "colorbar": {
              "outlinewidth": 0,
              "ticks": ""
             }
            },
            "type": "parcoords"
           }
          ],
          "pie": [
           {
            "automargin": true,
            "type": "pie"
           }
          ],
          "scatter": [
           {
            "fillpattern": {
             "fillmode": "overlay",
             "size": 10,
             "solidity": 0.2
            },
            "type": "scatter"
           }
          ],
          "scatter3d": [
           {
            "line": {
             "colorbar": {
              "outlinewidth": 0,
              "ticks": ""
             }
            },
            "marker": {
             "colorbar": {
              "outlinewidth": 0,
              "ticks": ""
             }
            },
            "type": "scatter3d"
           }
          ],
          "scattercarpet": [
           {
            "marker": {
             "colorbar": {
              "outlinewidth": 0,
              "ticks": ""
             }
            },
            "type": "scattercarpet"
           }
          ],
          "scattergeo": [
           {
            "marker": {
             "colorbar": {
              "outlinewidth": 0,
              "ticks": ""
             }
            },
            "type": "scattergeo"
           }
          ],
          "scattergl": [
           {
            "marker": {
             "colorbar": {
              "outlinewidth": 0,
              "ticks": ""
             }
            },
            "type": "scattergl"
           }
          ],
          "scattermapbox": [
           {
            "marker": {
             "colorbar": {
              "outlinewidth": 0,
              "ticks": ""
             }
            },
            "type": "scattermapbox"
           }
          ],
          "scatterpolar": [
           {
            "marker": {
             "colorbar": {
              "outlinewidth": 0,
              "ticks": ""
             }
            },
            "type": "scatterpolar"
           }
          ],
          "scatterpolargl": [
           {
            "marker": {
             "colorbar": {
              "outlinewidth": 0,
              "ticks": ""
             }
            },
            "type": "scatterpolargl"
           }
          ],
          "scatterternary": [
           {
            "marker": {
             "colorbar": {
              "outlinewidth": 0,
              "ticks": ""
             }
            },
            "type": "scatterternary"
           }
          ],
          "surface": [
           {
            "colorbar": {
             "outlinewidth": 0,
             "ticks": ""
            },
            "colorscale": [
             [
              0,
              "#0d0887"
             ],
             [
              0.1111111111111111,
              "#46039f"
             ],
             [
              0.2222222222222222,
              "#7201a8"
             ],
             [
              0.3333333333333333,
              "#9c179e"
             ],
             [
              0.4444444444444444,
              "#bd3786"
             ],
             [
              0.5555555555555556,
              "#d8576b"
             ],
             [
              0.6666666666666666,
              "#ed7953"
             ],
             [
              0.7777777777777778,
              "#fb9f3a"
             ],
             [
              0.8888888888888888,
              "#fdca26"
             ],
             [
              1,
              "#f0f921"
             ]
            ],
            "type": "surface"
           }
          ],
          "table": [
           {
            "cells": {
             "fill": {
              "color": "#EBF0F8"
             },
             "line": {
              "color": "white"
             }
            },
            "header": {
             "fill": {
              "color": "#C8D4E3"
             },
             "line": {
              "color": "white"
             }
            },
            "type": "table"
           }
          ]
         },
         "layout": {
          "annotationdefaults": {
           "arrowcolor": "#2a3f5f",
           "arrowhead": 0,
           "arrowwidth": 1
          },
          "autotypenumbers": "strict",
          "coloraxis": {
           "colorbar": {
            "outlinewidth": 0,
            "ticks": ""
           }
          },
          "colorscale": {
           "diverging": [
            [
             0,
             "#8e0152"
            ],
            [
             0.1,
             "#c51b7d"
            ],
            [
             0.2,
             "#de77ae"
            ],
            [
             0.3,
             "#f1b6da"
            ],
            [
             0.4,
             "#fde0ef"
            ],
            [
             0.5,
             "#f7f7f7"
            ],
            [
             0.6,
             "#e6f5d0"
            ],
            [
             0.7,
             "#b8e186"
            ],
            [
             0.8,
             "#7fbc41"
            ],
            [
             0.9,
             "#4d9221"
            ],
            [
             1,
             "#276419"
            ]
           ],
           "sequential": [
            [
             0,
             "#0d0887"
            ],
            [
             0.1111111111111111,
             "#46039f"
            ],
            [
             0.2222222222222222,
             "#7201a8"
            ],
            [
             0.3333333333333333,
             "#9c179e"
            ],
            [
             0.4444444444444444,
             "#bd3786"
            ],
            [
             0.5555555555555556,
             "#d8576b"
            ],
            [
             0.6666666666666666,
             "#ed7953"
            ],
            [
             0.7777777777777778,
             "#fb9f3a"
            ],
            [
             0.8888888888888888,
             "#fdca26"
            ],
            [
             1,
             "#f0f921"
            ]
           ],
           "sequentialminus": [
            [
             0,
             "#0d0887"
            ],
            [
             0.1111111111111111,
             "#46039f"
            ],
            [
             0.2222222222222222,
             "#7201a8"
            ],
            [
             0.3333333333333333,
             "#9c179e"
            ],
            [
             0.4444444444444444,
             "#bd3786"
            ],
            [
             0.5555555555555556,
             "#d8576b"
            ],
            [
             0.6666666666666666,
             "#ed7953"
            ],
            [
             0.7777777777777778,
             "#fb9f3a"
            ],
            [
             0.8888888888888888,
             "#fdca26"
            ],
            [
             1,
             "#f0f921"
            ]
           ]
          },
          "colorway": [
           "#636efa",
           "#EF553B",
           "#00cc96",
           "#ab63fa",
           "#FFA15A",
           "#19d3f3",
           "#FF6692",
           "#B6E880",
           "#FF97FF",
           "#FECB52"
          ],
          "font": {
           "color": "#2a3f5f"
          },
          "geo": {
           "bgcolor": "white",
           "lakecolor": "white",
           "landcolor": "#E5ECF6",
           "showlakes": true,
           "showland": true,
           "subunitcolor": "white"
          },
          "hoverlabel": {
           "align": "left"
          },
          "hovermode": "closest",
          "mapbox": {
           "style": "light"
          },
          "paper_bgcolor": "white",
          "plot_bgcolor": "#E5ECF6",
          "polar": {
           "angularaxis": {
            "gridcolor": "white",
            "linecolor": "white",
            "ticks": ""
           },
           "bgcolor": "#E5ECF6",
           "radialaxis": {
            "gridcolor": "white",
            "linecolor": "white",
            "ticks": ""
           }
          },
          "scene": {
           "xaxis": {
            "backgroundcolor": "#E5ECF6",
            "gridcolor": "white",
            "gridwidth": 2,
            "linecolor": "white",
            "showbackground": true,
            "ticks": "",
            "zerolinecolor": "white"
           },
           "yaxis": {
            "backgroundcolor": "#E5ECF6",
            "gridcolor": "white",
            "gridwidth": 2,
            "linecolor": "white",
            "showbackground": true,
            "ticks": "",
            "zerolinecolor": "white"
           },
           "zaxis": {
            "backgroundcolor": "#E5ECF6",
            "gridcolor": "white",
            "gridwidth": 2,
            "linecolor": "white",
            "showbackground": true,
            "ticks": "",
            "zerolinecolor": "white"
           }
          },
          "shapedefaults": {
           "line": {
            "color": "#2a3f5f"
           }
          },
          "ternary": {
           "aaxis": {
            "gridcolor": "white",
            "linecolor": "white",
            "ticks": ""
           },
           "baxis": {
            "gridcolor": "white",
            "linecolor": "white",
            "ticks": ""
           },
           "bgcolor": "#E5ECF6",
           "caxis": {
            "gridcolor": "white",
            "linecolor": "white",
            "ticks": ""
           }
          },
          "title": {
           "x": 0.05
          },
          "xaxis": {
           "automargin": true,
           "gridcolor": "white",
           "linecolor": "white",
           "ticks": "",
           "title": {
            "standoff": 15
           },
           "zerolinecolor": "white",
           "zerolinewidth": 2
          },
          "yaxis": {
           "automargin": true,
           "gridcolor": "white",
           "linecolor": "white",
           "ticks": "",
           "title": {
            "standoff": 15
           },
           "zerolinecolor": "white",
           "zerolinewidth": 2
          }
         }
        },
        "title": {
         "text": "Embodied emissions by status for bottom ten municipalities (2011 - 2024)"
        },
        "width": 1000,
        "xaxis": {
         "anchor": "y",
         "domain": [
          0,
          1
         ],
         "title": {
          "text": "emissions_embodied_tons"
         }
        },
        "yaxis": {
         "anchor": "x",
         "categoryarray": [
          "Schiermonnikoog",
          "Vlieland",
          "Rozendaal",
          "Terschelling",
          "Waterland",
          "Montfoort",
          "Oostzaan",
          "Doesburg",
          "Ameland",
          "Pekela"
         ],
         "categoryorder": "array",
         "domain": [
          0,
          1
         ],
         "title": {
          "text": "municipality"
         }
        }
       }
      }
     },
     "metadata": {},
     "output_type": "display_data"
    }
   ],
   "source": [
    "# by status\n",
    "\n",
    "bottom_ten = ['Pekela', 'Ameland', 'Doesburg', 'Oostzaan', 'Montfoort', 'Waterland', \n",
    "              'Terschelling', 'Rozendaal', 'Vlieland', 'Schiermonnikoog']\n",
    "\n",
    "query = f'''\n",
    "SELECT municipality, status, SUM(sqm) AS sqm, SUM(emissions_embodied_tons) AS emissions_embodied_tons\n",
    "FROM emissions_embodied_housing_nl\n",
    "WHERE \n",
    "    municipality IN (\n",
    "        'Pekela', 'Ameland', 'Doesburg', 'Oostzaan', 'Montfoort', 'Waterland', \n",
    "        'Terschelling', 'Rozendaal', 'Vlieland', 'Schiermonnikoog'\n",
    "        )\n",
    "    AND year >= 2012 AND year < 2024\n",
    "GROUP BY municipality, status\n",
    "'''\n",
    "df = pd.read_sql_query(query, engine)\n",
    "df.status = df.status.map(lambda x: translate_status(x))\n",
    "municipality_order = ['Pekela', 'Ameland', 'Doesburg', 'Oostzaan', 'Montfoort', 'Waterland', \n",
    "                      'Terschelling', 'Rozendaal', 'Vlieland', 'Schiermonnikoog']\n",
    "status_order = ['Construction', 'Demolition', 'Renovation']\n",
    "\n",
    "color_discrete_map = {\n",
    "    'Construction': px.colors.qualitative.Plotly[0],  # Construction\n",
    "    'Demolition': px.colors.qualitative.Plotly[1],   # Demolition\n",
    "    'Renovation': px.colors.qualitative.Plotly[2] # Renovation\n",
    "}\n",
    "\n",
    "fig = px.bar(df, x='emissions_embodied_tons', y='municipality', color='status',  \n",
    "             title='Embodied emissions by status for bottom ten municipalities (2011 - 2024)', \n",
    "             category_orders={'municipality': municipality_order, 'status': status_order},\n",
    "             color_discrete_map=color_discrete_map)\n",
    "fig.update_layout(width=1000)\n",
    "fig.show()"
   ]
  },
  {
   "cell_type": "code",
   "execution_count": null,
   "metadata": {},
   "outputs": [
    {
     "data": {
      "application/vnd.plotly.v1+json": {
       "config": {
        "plotlyServerURL": "https://plot.ly"
       },
       "data": [
        {
         "hovertemplate": "municipality='s-Gravenhage<br>year=%{x}<br>cumulative_emissions=%{y}<extra></extra>",
         "legendgroup": "'s-Gravenhage",
         "line": {
          "color": "#636efa",
          "dash": "solid"
         },
         "marker": {
          "symbol": "circle"
         },
         "mode": "lines",
         "name": "'s-Gravenhage",
         "orientation": "v",
         "showlegend": true,
         "type": "scatter",
         "x": [
          2011,
          2012,
          2013,
          2014,
          2015,
          2016,
          2017,
          2018,
          2019,
          2020,
          2021,
          2022
         ],
         "xaxis": "x",
         "y": [
          81607.802,
          83192.154,
          88546.63399999999,
          92187.348,
          107853.844,
          153256.103,
          215187.96899999998,
          248998.504,
          325117.17799999996,
          368236.792,
          410707.924,
          447594.788
         ],
         "yaxis": "y"
        },
        {
         "hovertemplate": "municipality=Amsterdam<br>year=%{x}<br>cumulative_emissions=%{y}<extra></extra>",
         "legendgroup": "Amsterdam",
         "line": {
          "color": "#EF553B",
          "dash": "solid"
         },
         "marker": {
          "symbol": "circle"
         },
         "mode": "lines",
         "name": "Amsterdam",
         "orientation": "v",
         "showlegend": true,
         "type": "scatter",
         "x": [
          2011,
          2012,
          2013,
          2014,
          2015,
          2016,
          2017,
          2018,
          2019,
          2020,
          2021,
          2022
         ],
         "xaxis": "x",
         "y": [
          54127.278,
          134728.978,
          149826.576,
          220378.46099999998,
          319647.322,
          409534.513,
          528136.1259999999,
          666746.823,
          795491.549,
          877071.6329999999,
          988818.6359999999,
          1025589.1969999999
         ],
         "yaxis": "y"
        },
        {
         "hovertemplate": "municipality=Eindhoven<br>year=%{x}<br>cumulative_emissions=%{y}<extra></extra>",
         "legendgroup": "Eindhoven",
         "line": {
          "color": "#00cc96",
          "dash": "solid"
         },
         "marker": {
          "symbol": "circle"
         },
         "mode": "lines",
         "name": "Eindhoven",
         "orientation": "v",
         "showlegend": true,
         "type": "scatter",
         "x": [
          2011,
          2012,
          2013,
          2014,
          2015,
          2016,
          2017,
          2018,
          2019,
          2020,
          2021,
          2022
         ],
         "xaxis": "x",
         "y": [
          58670.164,
          92757.351,
          113034.80099999999,
          133327.798,
          199741.42599999998,
          231184.759,
          265795.363,
          313821.7,
          372175.598,
          401328.637,
          428008.644,
          448528.422
         ],
         "yaxis": "y"
        },
        {
         "hovertemplate": "municipality=Montfoort<br>year=%{x}<br>cumulative_emissions=%{y}<extra></extra>",
         "legendgroup": "Montfoort",
         "line": {
          "color": "#ab63fa",
          "dash": "solid"
         },
         "marker": {
          "symbol": "circle"
         },
         "mode": "lines",
         "name": "Montfoort",
         "orientation": "v",
         "showlegend": true,
         "type": "scatter",
         "x": [
          2011,
          2012,
          2013,
          2014,
          2015,
          2016,
          2017,
          2018,
          2019,
          2020,
          2021,
          2022
         ],
         "xaxis": "x",
         "y": [
          337.957,
          581.134,
          958.204,
          2197.693,
          3099.255,
          3210.036,
          3880.2799999999997,
          4143.97,
          4253.617,
          4583.499,
          4911.577,
          6359.778
         ],
         "yaxis": "y"
        },
        {
         "hovertemplate": "municipality=Rozendaal<br>year=%{x}<br>cumulative_emissions=%{y}<extra></extra>",
         "legendgroup": "Rozendaal",
         "line": {
          "color": "#FFA15A",
          "dash": "solid"
         },
         "marker": {
          "symbol": "circle"
         },
         "mode": "lines",
         "name": "Rozendaal",
         "orientation": "v",
         "showlegend": true,
         "type": "scatter",
         "x": [
          2011,
          2012,
          2013,
          2016,
          2017,
          2018,
          2019,
          2020,
          2021,
          2022
         ],
         "xaxis": "x",
         "y": [
          71.088,
          194.057,
          742.5790000000001,
          3363.483,
          3634.6110000000003,
          4035.052,
          4408.832,
          4955.159,
          5391.997,
          5624.25
         ],
         "yaxis": "y"
        },
        {
         "hovertemplate": "municipality=Schiermonnikoog<br>year=%{x}<br>cumulative_emissions=%{y}<extra></extra>",
         "legendgroup": "Schiermonnikoog",
         "line": {
          "color": "#19d3f3",
          "dash": "solid"
         },
         "marker": {
          "symbol": "circle"
         },
         "mode": "lines",
         "name": "Schiermonnikoog",
         "orientation": "v",
         "showlegend": true,
         "type": "scatter",
         "x": [
          2011,
          2012,
          2013,
          2014,
          2015,
          2016,
          2017,
          2018,
          2019,
          2020,
          2021,
          2022
         ],
         "xaxis": "x",
         "y": [
          10.549,
          35.829,
          51.768,
          155.873,
          192.236,
          741.961,
          822.503,
          1051.236,
          1126.038,
          1149.978,
          1578.892,
          1616.418
         ],
         "yaxis": "y"
        },
        {
         "hovertemplate": "municipality=Tilburg<br>year=%{x}<br>cumulative_emissions=%{y}<extra></extra>",
         "legendgroup": "Tilburg",
         "line": {
          "color": "#FF6692",
          "dash": "solid"
         },
         "marker": {
          "symbol": "circle"
         },
         "mode": "lines",
         "name": "Tilburg",
         "orientation": "v",
         "showlegend": true,
         "type": "scatter",
         "x": [
          2011,
          2012,
          2013,
          2014,
          2015,
          2016,
          2017,
          2018,
          2019,
          2020,
          2021,
          2022
         ],
         "xaxis": "x",
         "y": [
          23717.402,
          46030.845,
          90511.34999999999,
          130378.881,
          159392.523,
          205835.7,
          255391.65399999998,
          297937.566,
          339478.738,
          389769.597,
          441663.52,
          459864.23099999997
         ],
         "yaxis": "y"
        },
        {
         "hovertemplate": "municipality=Utrecht<br>year=%{x}<br>cumulative_emissions=%{y}<extra></extra>",
         "legendgroup": "Utrecht",
         "line": {
          "color": "#B6E880",
          "dash": "solid"
         },
         "marker": {
          "symbol": "circle"
         },
         "mode": "lines",
         "name": "Utrecht",
         "orientation": "v",
         "showlegend": true,
         "type": "scatter",
         "x": [
          2011,
          2012,
          2013,
          2014,
          2015,
          2016,
          2017,
          2018,
          2019,
          2020,
          2021,
          2022
         ],
         "xaxis": "x",
         "y": [
          59945.717,
          128702.50099999999,
          174483.72,
          227449.494,
          270028.016,
          342503.58400000003,
          381912.015,
          423490.294,
          477554.551,
          545519.235,
          591901.3809999999,
          614818.816
         ],
         "yaxis": "y"
        },
        {
         "hovertemplate": "municipality=Waterland<br>year=%{x}<br>cumulative_emissions=%{y}<extra></extra>",
         "legendgroup": "Waterland",
         "line": {
          "color": "#FF97FF",
          "dash": "solid"
         },
         "marker": {
          "symbol": "circle"
         },
         "mode": "lines",
         "name": "Waterland",
         "orientation": "v",
         "showlegend": true,
         "type": "scatter",
         "x": [
          2011,
          2012,
          2014,
          2015,
          2016,
          2017,
          2018,
          2019,
          2020,
          2021,
          2022
         ],
         "xaxis": "x",
         "y": [
          204.204,
          346.423,
          428.97,
          561.487,
          695.313,
          872.72,
          919.5360000000001,
          3913.398,
          4730.246,
          5178.302,
          6390.394
         ],
         "yaxis": "y"
        },
        {
         "hovertemplate": "municipality=Vlieland<br>year=%{x}<br>cumulative_emissions=%{y}<extra></extra>",
         "legendgroup": "Vlieland",
         "line": {
          "color": "#FECB52",
          "dash": "solid"
         },
         "marker": {
          "symbol": "circle"
         },
         "mode": "lines",
         "name": "Vlieland",
         "orientation": "v",
         "showlegend": true,
         "type": "scatter",
         "x": [
          2012,
          2013,
          2014,
          2015,
          2016,
          2017,
          2018,
          2019,
          2020,
          2021,
          2022
         ],
         "xaxis": "x",
         "y": [
          4.851,
          12.628,
          16.401,
          27.874000000000002,
          170.631,
          561.714,
          926.96,
          1802.7359999999999,
          2046.915,
          3136.373,
          3304.093
         ],
         "yaxis": "y"
        }
       ],
       "layout": {
        "legend": {
         "title": {
          "text": "municipality"
         },
         "tracegroupgap": 0
        },
        "template": {
         "data": {
          "bar": [
           {
            "error_x": {
             "color": "#2a3f5f"
            },
            "error_y": {
             "color": "#2a3f5f"
            },
            "marker": {
             "line": {
              "color": "#E5ECF6",
              "width": 0.5
             },
             "pattern": {
              "fillmode": "overlay",
              "size": 10,
              "solidity": 0.2
             }
            },
            "type": "bar"
           }
          ],
          "barpolar": [
           {
            "marker": {
             "line": {
              "color": "#E5ECF6",
              "width": 0.5
             },
             "pattern": {
              "fillmode": "overlay",
              "size": 10,
              "solidity": 0.2
             }
            },
            "type": "barpolar"
           }
          ],
          "carpet": [
           {
            "aaxis": {
             "endlinecolor": "#2a3f5f",
             "gridcolor": "white",
             "linecolor": "white",
             "minorgridcolor": "white",
             "startlinecolor": "#2a3f5f"
            },
            "baxis": {
             "endlinecolor": "#2a3f5f",
             "gridcolor": "white",
             "linecolor": "white",
             "minorgridcolor": "white",
             "startlinecolor": "#2a3f5f"
            },
            "type": "carpet"
           }
          ],
          "choropleth": [
           {
            "colorbar": {
             "outlinewidth": 0,
             "ticks": ""
            },
            "type": "choropleth"
           }
          ],
          "contour": [
           {
            "colorbar": {
             "outlinewidth": 0,
             "ticks": ""
            },
            "colorscale": [
             [
              0,
              "#0d0887"
             ],
             [
              0.1111111111111111,
              "#46039f"
             ],
             [
              0.2222222222222222,
              "#7201a8"
             ],
             [
              0.3333333333333333,
              "#9c179e"
             ],
             [
              0.4444444444444444,
              "#bd3786"
             ],
             [
              0.5555555555555556,
              "#d8576b"
             ],
             [
              0.6666666666666666,
              "#ed7953"
             ],
             [
              0.7777777777777778,
              "#fb9f3a"
             ],
             [
              0.8888888888888888,
              "#fdca26"
             ],
             [
              1,
              "#f0f921"
             ]
            ],
            "type": "contour"
           }
          ],
          "contourcarpet": [
           {
            "colorbar": {
             "outlinewidth": 0,
             "ticks": ""
            },
            "type": "contourcarpet"
           }
          ],
          "heatmap": [
           {
            "colorbar": {
             "outlinewidth": 0,
             "ticks": ""
            },
            "colorscale": [
             [
              0,
              "#0d0887"
             ],
             [
              0.1111111111111111,
              "#46039f"
             ],
             [
              0.2222222222222222,
              "#7201a8"
             ],
             [
              0.3333333333333333,
              "#9c179e"
             ],
             [
              0.4444444444444444,
              "#bd3786"
             ],
             [
              0.5555555555555556,
              "#d8576b"
             ],
             [
              0.6666666666666666,
              "#ed7953"
             ],
             [
              0.7777777777777778,
              "#fb9f3a"
             ],
             [
              0.8888888888888888,
              "#fdca26"
             ],
             [
              1,
              "#f0f921"
             ]
            ],
            "type": "heatmap"
           }
          ],
          "heatmapgl": [
           {
            "colorbar": {
             "outlinewidth": 0,
             "ticks": ""
            },
            "colorscale": [
             [
              0,
              "#0d0887"
             ],
             [
              0.1111111111111111,
              "#46039f"
             ],
             [
              0.2222222222222222,
              "#7201a8"
             ],
             [
              0.3333333333333333,
              "#9c179e"
             ],
             [
              0.4444444444444444,
              "#bd3786"
             ],
             [
              0.5555555555555556,
              "#d8576b"
             ],
             [
              0.6666666666666666,
              "#ed7953"
             ],
             [
              0.7777777777777778,
              "#fb9f3a"
             ],
             [
              0.8888888888888888,
              "#fdca26"
             ],
             [
              1,
              "#f0f921"
             ]
            ],
            "type": "heatmapgl"
           }
          ],
          "histogram": [
           {
            "marker": {
             "pattern": {
              "fillmode": "overlay",
              "size": 10,
              "solidity": 0.2
             }
            },
            "type": "histogram"
           }
          ],
          "histogram2d": [
           {
            "colorbar": {
             "outlinewidth": 0,
             "ticks": ""
            },
            "colorscale": [
             [
              0,
              "#0d0887"
             ],
             [
              0.1111111111111111,
              "#46039f"
             ],
             [
              0.2222222222222222,
              "#7201a8"
             ],
             [
              0.3333333333333333,
              "#9c179e"
             ],
             [
              0.4444444444444444,
              "#bd3786"
             ],
             [
              0.5555555555555556,
              "#d8576b"
             ],
             [
              0.6666666666666666,
              "#ed7953"
             ],
             [
              0.7777777777777778,
              "#fb9f3a"
             ],
             [
              0.8888888888888888,
              "#fdca26"
             ],
             [
              1,
              "#f0f921"
             ]
            ],
            "type": "histogram2d"
           }
          ],
          "histogram2dcontour": [
           {
            "colorbar": {
             "outlinewidth": 0,
             "ticks": ""
            },
            "colorscale": [
             [
              0,
              "#0d0887"
             ],
             [
              0.1111111111111111,
              "#46039f"
             ],
             [
              0.2222222222222222,
              "#7201a8"
             ],
             [
              0.3333333333333333,
              "#9c179e"
             ],
             [
              0.4444444444444444,
              "#bd3786"
             ],
             [
              0.5555555555555556,
              "#d8576b"
             ],
             [
              0.6666666666666666,
              "#ed7953"
             ],
             [
              0.7777777777777778,
              "#fb9f3a"
             ],
             [
              0.8888888888888888,
              "#fdca26"
             ],
             [
              1,
              "#f0f921"
             ]
            ],
            "type": "histogram2dcontour"
           }
          ],
          "mesh3d": [
           {
            "colorbar": {
             "outlinewidth": 0,
             "ticks": ""
            },
            "type": "mesh3d"
           }
          ],
          "parcoords": [
           {
            "line": {
             "colorbar": {
              "outlinewidth": 0,
              "ticks": ""
             }
            },
            "type": "parcoords"
           }
          ],
          "pie": [
           {
            "automargin": true,
            "type": "pie"
           }
          ],
          "scatter": [
           {
            "fillpattern": {
             "fillmode": "overlay",
             "size": 10,
             "solidity": 0.2
            },
            "type": "scatter"
           }
          ],
          "scatter3d": [
           {
            "line": {
             "colorbar": {
              "outlinewidth": 0,
              "ticks": ""
             }
            },
            "marker": {
             "colorbar": {
              "outlinewidth": 0,
              "ticks": ""
             }
            },
            "type": "scatter3d"
           }
          ],
          "scattercarpet": [
           {
            "marker": {
             "colorbar": {
              "outlinewidth": 0,
              "ticks": ""
             }
            },
            "type": "scattercarpet"
           }
          ],
          "scattergeo": [
           {
            "marker": {
             "colorbar": {
              "outlinewidth": 0,
              "ticks": ""
             }
            },
            "type": "scattergeo"
           }
          ],
          "scattergl": [
           {
            "marker": {
             "colorbar": {
              "outlinewidth": 0,
              "ticks": ""
             }
            },
            "type": "scattergl"
           }
          ],
          "scattermapbox": [
           {
            "marker": {
             "colorbar": {
              "outlinewidth": 0,
              "ticks": ""
             }
            },
            "type": "scattermapbox"
           }
          ],
          "scatterpolar": [
           {
            "marker": {
             "colorbar": {
              "outlinewidth": 0,
              "ticks": ""
             }
            },
            "type": "scatterpolar"
           }
          ],
          "scatterpolargl": [
           {
            "marker": {
             "colorbar": {
              "outlinewidth": 0,
              "ticks": ""
             }
            },
            "type": "scatterpolargl"
           }
          ],
          "scatterternary": [
           {
            "marker": {
             "colorbar": {
              "outlinewidth": 0,
              "ticks": ""
             }
            },
            "type": "scatterternary"
           }
          ],
          "surface": [
           {
            "colorbar": {
             "outlinewidth": 0,
             "ticks": ""
            },
            "colorscale": [
             [
              0,
              "#0d0887"
             ],
             [
              0.1111111111111111,
              "#46039f"
             ],
             [
              0.2222222222222222,
              "#7201a8"
             ],
             [
              0.3333333333333333,
              "#9c179e"
             ],
             [
              0.4444444444444444,
              "#bd3786"
             ],
             [
              0.5555555555555556,
              "#d8576b"
             ],
             [
              0.6666666666666666,
              "#ed7953"
             ],
             [
              0.7777777777777778,
              "#fb9f3a"
             ],
             [
              0.8888888888888888,
              "#fdca26"
             ],
             [
              1,
              "#f0f921"
             ]
            ],
            "type": "surface"
           }
          ],
          "table": [
           {
            "cells": {
             "fill": {
              "color": "#EBF0F8"
             },
             "line": {
              "color": "white"
             }
            },
            "header": {
             "fill": {
              "color": "#C8D4E3"
             },
             "line": {
              "color": "white"
             }
            },
            "type": "table"
           }
          ]
         },
         "layout": {
          "annotationdefaults": {
           "arrowcolor": "#2a3f5f",
           "arrowhead": 0,
           "arrowwidth": 1
          },
          "autotypenumbers": "strict",
          "coloraxis": {
           "colorbar": {
            "outlinewidth": 0,
            "ticks": ""
           }
          },
          "colorscale": {
           "diverging": [
            [
             0,
             "#8e0152"
            ],
            [
             0.1,
             "#c51b7d"
            ],
            [
             0.2,
             "#de77ae"
            ],
            [
             0.3,
             "#f1b6da"
            ],
            [
             0.4,
             "#fde0ef"
            ],
            [
             0.5,
             "#f7f7f7"
            ],
            [
             0.6,
             "#e6f5d0"
            ],
            [
             0.7,
             "#b8e186"
            ],
            [
             0.8,
             "#7fbc41"
            ],
            [
             0.9,
             "#4d9221"
            ],
            [
             1,
             "#276419"
            ]
           ],
           "sequential": [
            [
             0,
             "#0d0887"
            ],
            [
             0.1111111111111111,
             "#46039f"
            ],
            [
             0.2222222222222222,
             "#7201a8"
            ],
            [
             0.3333333333333333,
             "#9c179e"
            ],
            [
             0.4444444444444444,
             "#bd3786"
            ],
            [
             0.5555555555555556,
             "#d8576b"
            ],
            [
             0.6666666666666666,
             "#ed7953"
            ],
            [
             0.7777777777777778,
             "#fb9f3a"
            ],
            [
             0.8888888888888888,
             "#fdca26"
            ],
            [
             1,
             "#f0f921"
            ]
           ],
           "sequentialminus": [
            [
             0,
             "#0d0887"
            ],
            [
             0.1111111111111111,
             "#46039f"
            ],
            [
             0.2222222222222222,
             "#7201a8"
            ],
            [
             0.3333333333333333,
             "#9c179e"
            ],
            [
             0.4444444444444444,
             "#bd3786"
            ],
            [
             0.5555555555555556,
             "#d8576b"
            ],
            [
             0.6666666666666666,
             "#ed7953"
            ],
            [
             0.7777777777777778,
             "#fb9f3a"
            ],
            [
             0.8888888888888888,
             "#fdca26"
            ],
            [
             1,
             "#f0f921"
            ]
           ]
          },
          "colorway": [
           "#636efa",
           "#EF553B",
           "#00cc96",
           "#ab63fa",
           "#FFA15A",
           "#19d3f3",
           "#FF6692",
           "#B6E880",
           "#FF97FF",
           "#FECB52"
          ],
          "font": {
           "color": "#2a3f5f"
          },
          "geo": {
           "bgcolor": "white",
           "lakecolor": "white",
           "landcolor": "#E5ECF6",
           "showlakes": true,
           "showland": true,
           "subunitcolor": "white"
          },
          "hoverlabel": {
           "align": "left"
          },
          "hovermode": "closest",
          "mapbox": {
           "style": "light"
          },
          "paper_bgcolor": "white",
          "plot_bgcolor": "#E5ECF6",
          "polar": {
           "angularaxis": {
            "gridcolor": "white",
            "linecolor": "white",
            "ticks": ""
           },
           "bgcolor": "#E5ECF6",
           "radialaxis": {
            "gridcolor": "white",
            "linecolor": "white",
            "ticks": ""
           }
          },
          "scene": {
           "xaxis": {
            "backgroundcolor": "#E5ECF6",
            "gridcolor": "white",
            "gridwidth": 2,
            "linecolor": "white",
            "showbackground": true,
            "ticks": "",
            "zerolinecolor": "white"
           },
           "yaxis": {
            "backgroundcolor": "#E5ECF6",
            "gridcolor": "white",
            "gridwidth": 2,
            "linecolor": "white",
            "showbackground": true,
            "ticks": "",
            "zerolinecolor": "white"
           },
           "zaxis": {
            "backgroundcolor": "#E5ECF6",
            "gridcolor": "white",
            "gridwidth": 2,
            "linecolor": "white",
            "showbackground": true,
            "ticks": "",
            "zerolinecolor": "white"
           }
          },
          "shapedefaults": {
           "line": {
            "color": "#2a3f5f"
           }
          },
          "ternary": {
           "aaxis": {
            "gridcolor": "white",
            "linecolor": "white",
            "ticks": ""
           },
           "baxis": {
            "gridcolor": "white",
            "linecolor": "white",
            "ticks": ""
           },
           "bgcolor": "#E5ECF6",
           "caxis": {
            "gridcolor": "white",
            "linecolor": "white",
            "ticks": ""
           }
          },
          "title": {
           "x": 0.05
          },
          "xaxis": {
           "automargin": true,
           "gridcolor": "white",
           "linecolor": "white",
           "ticks": "",
           "title": {
            "standoff": 15
           },
           "zerolinecolor": "white",
           "zerolinewidth": 2
          },
          "yaxis": {
           "automargin": true,
           "gridcolor": "white",
           "linecolor": "white",
           "ticks": "",
           "title": {
            "standoff": 15
           },
           "zerolinecolor": "white",
           "zerolinewidth": 2
          }
         }
        },
        "title": {
         "text": "Cumulative embodied emissions per year for housing in NL"
        },
        "xaxis": {
         "anchor": "y",
         "domain": [
          0,
          1
         ],
         "title": {
          "text": "year"
         }
        },
        "yaxis": {
         "anchor": "x",
         "domain": [
          0,
          1
         ],
         "title": {
          "text": "cumulative_emissions"
         }
        }
       }
      }
     },
     "metadata": {},
     "output_type": "display_data"
    }
   ],
   "source": [
    "query = ''' \n",
    "SELECT year, municipality, SUM(emissions_embodied_tons) AS emissions_embodied_tons\n",
    "FROM emissions_embodied_housing_nl \n",
    "WHERE year >= 2011 AND year <= 2022 \n",
    "GROUP BY year, municipality\n",
    "ORDER BY year, municipality\n",
    "'''\n",
    "df = pd.read_sql_query(query, engine)\n",
    "df['cumulative_emissions'] = df.sort_values('year').groupby('municipality')['emissions_embodied_tons'].cumsum()\n",
    "df = df[df['municipality'].isin(top_five + bottom_five)]\n",
    "\n",
    "fig = px.line(df, x='year', y='cumulative_emissions', color='municipality', title='Cumulative embodied emissions per year for housing in NL')\n",
    "fig.show()"
   ]
  },
  {
   "cell_type": "code",
   "execution_count": null,
   "metadata": {},
   "outputs": [
    {
     "data": {
      "application/vnd.plotly.v1+json": {
       "config": {
        "plotlyServerURL": "https://plot.ly"
       },
       "data": [
        {
         "hovertemplate": "year=%{x}<br>emissions_embodied_tons=%{y}<extra></extra>",
         "legendgroup": "",
         "line": {
          "color": "#636efa",
          "dash": "solid"
         },
         "marker": {
          "symbol": "circle"
         },
         "mode": "lines",
         "name": "",
         "orientation": "v",
         "showlegend": false,
         "type": "scatter",
         "x": [
          2011,
          2012,
          2013,
          2014,
          2015,
          2016,
          2017,
          2018,
          2019,
          2020,
          2021,
          2022
         ],
         "xaxis": "x",
         "y": [
          60201.738,
          92460.568,
          34014.86,
          87588.345,
          119782.039,
          116487.933,
          137787.633,
          157681.049,
          146297.03,
          82500.892,
          112781.589,
          40579.163
         ],
         "yaxis": "y"
        }
       ],
       "layout": {
        "legend": {
         "tracegroupgap": 0
        },
        "template": {
         "data": {
          "bar": [
           {
            "error_x": {
             "color": "#2a3f5f"
            },
            "error_y": {
             "color": "#2a3f5f"
            },
            "marker": {
             "line": {
              "color": "#E5ECF6",
              "width": 0.5
             },
             "pattern": {
              "fillmode": "overlay",
              "size": 10,
              "solidity": 0.2
             }
            },
            "type": "bar"
           }
          ],
          "barpolar": [
           {
            "marker": {
             "line": {
              "color": "#E5ECF6",
              "width": 0.5
             },
             "pattern": {
              "fillmode": "overlay",
              "size": 10,
              "solidity": 0.2
             }
            },
            "type": "barpolar"
           }
          ],
          "carpet": [
           {
            "aaxis": {
             "endlinecolor": "#2a3f5f",
             "gridcolor": "white",
             "linecolor": "white",
             "minorgridcolor": "white",
             "startlinecolor": "#2a3f5f"
            },
            "baxis": {
             "endlinecolor": "#2a3f5f",
             "gridcolor": "white",
             "linecolor": "white",
             "minorgridcolor": "white",
             "startlinecolor": "#2a3f5f"
            },
            "type": "carpet"
           }
          ],
          "choropleth": [
           {
            "colorbar": {
             "outlinewidth": 0,
             "ticks": ""
            },
            "type": "choropleth"
           }
          ],
          "contour": [
           {
            "colorbar": {
             "outlinewidth": 0,
             "ticks": ""
            },
            "colorscale": [
             [
              0,
              "#0d0887"
             ],
             [
              0.1111111111111111,
              "#46039f"
             ],
             [
              0.2222222222222222,
              "#7201a8"
             ],
             [
              0.3333333333333333,
              "#9c179e"
             ],
             [
              0.4444444444444444,
              "#bd3786"
             ],
             [
              0.5555555555555556,
              "#d8576b"
             ],
             [
              0.6666666666666666,
              "#ed7953"
             ],
             [
              0.7777777777777778,
              "#fb9f3a"
             ],
             [
              0.8888888888888888,
              "#fdca26"
             ],
             [
              1,
              "#f0f921"
             ]
            ],
            "type": "contour"
           }
          ],
          "contourcarpet": [
           {
            "colorbar": {
             "outlinewidth": 0,
             "ticks": ""
            },
            "type": "contourcarpet"
           }
          ],
          "heatmap": [
           {
            "colorbar": {
             "outlinewidth": 0,
             "ticks": ""
            },
            "colorscale": [
             [
              0,
              "#0d0887"
             ],
             [
              0.1111111111111111,
              "#46039f"
             ],
             [
              0.2222222222222222,
              "#7201a8"
             ],
             [
              0.3333333333333333,
              "#9c179e"
             ],
             [
              0.4444444444444444,
              "#bd3786"
             ],
             [
              0.5555555555555556,
              "#d8576b"
             ],
             [
              0.6666666666666666,
              "#ed7953"
             ],
             [
              0.7777777777777778,
              "#fb9f3a"
             ],
             [
              0.8888888888888888,
              "#fdca26"
             ],
             [
              1,
              "#f0f921"
             ]
            ],
            "type": "heatmap"
           }
          ],
          "heatmapgl": [
           {
            "colorbar": {
             "outlinewidth": 0,
             "ticks": ""
            },
            "colorscale": [
             [
              0,
              "#0d0887"
             ],
             [
              0.1111111111111111,
              "#46039f"
             ],
             [
              0.2222222222222222,
              "#7201a8"
             ],
             [
              0.3333333333333333,
              "#9c179e"
             ],
             [
              0.4444444444444444,
              "#bd3786"
             ],
             [
              0.5555555555555556,
              "#d8576b"
             ],
             [
              0.6666666666666666,
              "#ed7953"
             ],
             [
              0.7777777777777778,
              "#fb9f3a"
             ],
             [
              0.8888888888888888,
              "#fdca26"
             ],
             [
              1,
              "#f0f921"
             ]
            ],
            "type": "heatmapgl"
           }
          ],
          "histogram": [
           {
            "marker": {
             "pattern": {
              "fillmode": "overlay",
              "size": 10,
              "solidity": 0.2
             }
            },
            "type": "histogram"
           }
          ],
          "histogram2d": [
           {
            "colorbar": {
             "outlinewidth": 0,
             "ticks": ""
            },
            "colorscale": [
             [
              0,
              "#0d0887"
             ],
             [
              0.1111111111111111,
              "#46039f"
             ],
             [
              0.2222222222222222,
              "#7201a8"
             ],
             [
              0.3333333333333333,
              "#9c179e"
             ],
             [
              0.4444444444444444,
              "#bd3786"
             ],
             [
              0.5555555555555556,
              "#d8576b"
             ],
             [
              0.6666666666666666,
              "#ed7953"
             ],
             [
              0.7777777777777778,
              "#fb9f3a"
             ],
             [
              0.8888888888888888,
              "#fdca26"
             ],
             [
              1,
              "#f0f921"
             ]
            ],
            "type": "histogram2d"
           }
          ],
          "histogram2dcontour": [
           {
            "colorbar": {
             "outlinewidth": 0,
             "ticks": ""
            },
            "colorscale": [
             [
              0,
              "#0d0887"
             ],
             [
              0.1111111111111111,
              "#46039f"
             ],
             [
              0.2222222222222222,
              "#7201a8"
             ],
             [
              0.3333333333333333,
              "#9c179e"
             ],
             [
              0.4444444444444444,
              "#bd3786"
             ],
             [
              0.5555555555555556,
              "#d8576b"
             ],
             [
              0.6666666666666666,
              "#ed7953"
             ],
             [
              0.7777777777777778,
              "#fb9f3a"
             ],
             [
              0.8888888888888888,
              "#fdca26"
             ],
             [
              1,
              "#f0f921"
             ]
            ],
            "type": "histogram2dcontour"
           }
          ],
          "mesh3d": [
           {
            "colorbar": {
             "outlinewidth": 0,
             "ticks": ""
            },
            "type": "mesh3d"
           }
          ],
          "parcoords": [
           {
            "line": {
             "colorbar": {
              "outlinewidth": 0,
              "ticks": ""
             }
            },
            "type": "parcoords"
           }
          ],
          "pie": [
           {
            "automargin": true,
            "type": "pie"
           }
          ],
          "scatter": [
           {
            "fillpattern": {
             "fillmode": "overlay",
             "size": 10,
             "solidity": 0.2
            },
            "type": "scatter"
           }
          ],
          "scatter3d": [
           {
            "line": {
             "colorbar": {
              "outlinewidth": 0,
              "ticks": ""
             }
            },
            "marker": {
             "colorbar": {
              "outlinewidth": 0,
              "ticks": ""
             }
            },
            "type": "scatter3d"
           }
          ],
          "scattercarpet": [
           {
            "marker": {
             "colorbar": {
              "outlinewidth": 0,
              "ticks": ""
             }
            },
            "type": "scattercarpet"
           }
          ],
          "scattergeo": [
           {
            "marker": {
             "colorbar": {
              "outlinewidth": 0,
              "ticks": ""
             }
            },
            "type": "scattergeo"
           }
          ],
          "scattergl": [
           {
            "marker": {
             "colorbar": {
              "outlinewidth": 0,
              "ticks": ""
             }
            },
            "type": "scattergl"
           }
          ],
          "scattermapbox": [
           {
            "marker": {
             "colorbar": {
              "outlinewidth": 0,
              "ticks": ""
             }
            },
            "type": "scattermapbox"
           }
          ],
          "scatterpolar": [
           {
            "marker": {
             "colorbar": {
              "outlinewidth": 0,
              "ticks": ""
             }
            },
            "type": "scatterpolar"
           }
          ],
          "scatterpolargl": [
           {
            "marker": {
             "colorbar": {
              "outlinewidth": 0,
              "ticks": ""
             }
            },
            "type": "scatterpolargl"
           }
          ],
          "scatterternary": [
           {
            "marker": {
             "colorbar": {
              "outlinewidth": 0,
              "ticks": ""
             }
            },
            "type": "scatterternary"
           }
          ],
          "surface": [
           {
            "colorbar": {
             "outlinewidth": 0,
             "ticks": ""
            },
            "colorscale": [
             [
              0,
              "#0d0887"
             ],
             [
              0.1111111111111111,
              "#46039f"
             ],
             [
              0.2222222222222222,
              "#7201a8"
             ],
             [
              0.3333333333333333,
              "#9c179e"
             ],
             [
              0.4444444444444444,
              "#bd3786"
             ],
             [
              0.5555555555555556,
              "#d8576b"
             ],
             [
              0.6666666666666666,
              "#ed7953"
             ],
             [
              0.7777777777777778,
              "#fb9f3a"
             ],
             [
              0.8888888888888888,
              "#fdca26"
             ],
             [
              1,
              "#f0f921"
             ]
            ],
            "type": "surface"
           }
          ],
          "table": [
           {
            "cells": {
             "fill": {
              "color": "#EBF0F8"
             },
             "line": {
              "color": "white"
             }
            },
            "header": {
             "fill": {
              "color": "#C8D4E3"
             },
             "line": {
              "color": "white"
             }
            },
            "type": "table"
           }
          ]
         },
         "layout": {
          "annotationdefaults": {
           "arrowcolor": "#2a3f5f",
           "arrowhead": 0,
           "arrowwidth": 1
          },
          "autotypenumbers": "strict",
          "coloraxis": {
           "colorbar": {
            "outlinewidth": 0,
            "ticks": ""
           }
          },
          "colorscale": {
           "diverging": [
            [
             0,
             "#8e0152"
            ],
            [
             0.1,
             "#c51b7d"
            ],
            [
             0.2,
             "#de77ae"
            ],
            [
             0.3,
             "#f1b6da"
            ],
            [
             0.4,
             "#fde0ef"
            ],
            [
             0.5,
             "#f7f7f7"
            ],
            [
             0.6,
             "#e6f5d0"
            ],
            [
             0.7,
             "#b8e186"
            ],
            [
             0.8,
             "#7fbc41"
            ],
            [
             0.9,
             "#4d9221"
            ],
            [
             1,
             "#276419"
            ]
           ],
           "sequential": [
            [
             0,
             "#0d0887"
            ],
            [
             0.1111111111111111,
             "#46039f"
            ],
            [
             0.2222222222222222,
             "#7201a8"
            ],
            [
             0.3333333333333333,
             "#9c179e"
            ],
            [
             0.4444444444444444,
             "#bd3786"
            ],
            [
             0.5555555555555556,
             "#d8576b"
            ],
            [
             0.6666666666666666,
             "#ed7953"
            ],
            [
             0.7777777777777778,
             "#fb9f3a"
            ],
            [
             0.8888888888888888,
             "#fdca26"
            ],
            [
             1,
             "#f0f921"
            ]
           ],
           "sequentialminus": [
            [
             0,
             "#0d0887"
            ],
            [
             0.1111111111111111,
             "#46039f"
            ],
            [
             0.2222222222222222,
             "#7201a8"
            ],
            [
             0.3333333333333333,
             "#9c179e"
            ],
            [
             0.4444444444444444,
             "#bd3786"
            ],
            [
             0.5555555555555556,
             "#d8576b"
            ],
            [
             0.6666666666666666,
             "#ed7953"
            ],
            [
             0.7777777777777778,
             "#fb9f3a"
            ],
            [
             0.8888888888888888,
             "#fdca26"
            ],
            [
             1,
             "#f0f921"
            ]
           ]
          },
          "colorway": [
           "#636efa",
           "#EF553B",
           "#00cc96",
           "#ab63fa",
           "#FFA15A",
           "#19d3f3",
           "#FF6692",
           "#B6E880",
           "#FF97FF",
           "#FECB52"
          ],
          "font": {
           "color": "#2a3f5f"
          },
          "geo": {
           "bgcolor": "white",
           "lakecolor": "white",
           "landcolor": "#E5ECF6",
           "showlakes": true,
           "showland": true,
           "subunitcolor": "white"
          },
          "hoverlabel": {
           "align": "left"
          },
          "hovermode": "closest",
          "mapbox": {
           "style": "light"
          },
          "paper_bgcolor": "white",
          "plot_bgcolor": "#E5ECF6",
          "polar": {
           "angularaxis": {
            "gridcolor": "white",
            "linecolor": "white",
            "ticks": ""
           },
           "bgcolor": "#E5ECF6",
           "radialaxis": {
            "gridcolor": "white",
            "linecolor": "white",
            "ticks": ""
           }
          },
          "scene": {
           "xaxis": {
            "backgroundcolor": "#E5ECF6",
            "gridcolor": "white",
            "gridwidth": 2,
            "linecolor": "white",
            "showbackground": true,
            "ticks": "",
            "zerolinecolor": "white"
           },
           "yaxis": {
            "backgroundcolor": "#E5ECF6",
            "gridcolor": "white",
            "gridwidth": 2,
            "linecolor": "white",
            "showbackground": true,
            "ticks": "",
            "zerolinecolor": "white"
           },
           "zaxis": {
            "backgroundcolor": "#E5ECF6",
            "gridcolor": "white",
            "gridwidth": 2,
            "linecolor": "white",
            "showbackground": true,
            "ticks": "",
            "zerolinecolor": "white"
           }
          },
          "shapedefaults": {
           "line": {
            "color": "#2a3f5f"
           }
          },
          "ternary": {
           "aaxis": {
            "gridcolor": "white",
            "linecolor": "white",
            "ticks": ""
           },
           "baxis": {
            "gridcolor": "white",
            "linecolor": "white",
            "ticks": ""
           },
           "bgcolor": "#E5ECF6",
           "caxis": {
            "gridcolor": "white",
            "linecolor": "white",
            "ticks": ""
           }
          },
          "title": {
           "x": 0.05
          },
          "xaxis": {
           "automargin": true,
           "gridcolor": "white",
           "linecolor": "white",
           "ticks": "",
           "title": {
            "standoff": 15
           },
           "zerolinecolor": "white",
           "zerolinewidth": 2
          },
          "yaxis": {
           "automargin": true,
           "gridcolor": "white",
           "linecolor": "white",
           "ticks": "",
           "title": {
            "standoff": 15
           },
           "zerolinecolor": "white",
           "zerolinewidth": 2
          }
         }
        },
        "title": {
         "text": "Embodied emissions per year for housing in Amsterdam"
        },
        "xaxis": {
         "anchor": "y",
         "domain": [
          0,
          1
         ],
         "title": {
          "text": "year"
         }
        },
        "yaxis": {
         "anchor": "x",
         "domain": [
          0,
          1
         ],
         "title": {
          "text": "emissions_embodied_tons"
         }
        }
       }
      }
     },
     "metadata": {},
     "output_type": "display_data"
    },
    {
     "data": {
      "application/vnd.plotly.v1+json": {
       "config": {
        "plotlyServerURL": "https://plot.ly"
       },
       "data": [
        {
         "hovertemplate": "year=%{x}<br>cumulative_emissions=%{y}<extra></extra>",
         "legendgroup": "",
         "line": {
          "color": "#636efa",
          "dash": "solid"
         },
         "marker": {
          "symbol": "circle"
         },
         "mode": "lines",
         "name": "",
         "orientation": "v",
         "showlegend": false,
         "type": "scatter",
         "x": [
          2011,
          2012,
          2013,
          2014,
          2015,
          2016,
          2017,
          2018,
          2019,
          2020,
          2021,
          2022
         ],
         "xaxis": "x",
         "y": [
          60201.738,
          152662.30599999998,
          186677.16599999997,
          274265.51099999994,
          394047.54999999993,
          510535.48299999995,
          648323.1159999999,
          806004.1649999999,
          952301.195,
          1034802.0869999999,
          1147583.676,
          1188162.839
         ],
         "yaxis": "y"
        }
       ],
       "layout": {
        "legend": {
         "tracegroupgap": 0
        },
        "template": {
         "data": {
          "bar": [
           {
            "error_x": {
             "color": "#2a3f5f"
            },
            "error_y": {
             "color": "#2a3f5f"
            },
            "marker": {
             "line": {
              "color": "#E5ECF6",
              "width": 0.5
             },
             "pattern": {
              "fillmode": "overlay",
              "size": 10,
              "solidity": 0.2
             }
            },
            "type": "bar"
           }
          ],
          "barpolar": [
           {
            "marker": {
             "line": {
              "color": "#E5ECF6",
              "width": 0.5
             },
             "pattern": {
              "fillmode": "overlay",
              "size": 10,
              "solidity": 0.2
             }
            },
            "type": "barpolar"
           }
          ],
          "carpet": [
           {
            "aaxis": {
             "endlinecolor": "#2a3f5f",
             "gridcolor": "white",
             "linecolor": "white",
             "minorgridcolor": "white",
             "startlinecolor": "#2a3f5f"
            },
            "baxis": {
             "endlinecolor": "#2a3f5f",
             "gridcolor": "white",
             "linecolor": "white",
             "minorgridcolor": "white",
             "startlinecolor": "#2a3f5f"
            },
            "type": "carpet"
           }
          ],
          "choropleth": [
           {
            "colorbar": {
             "outlinewidth": 0,
             "ticks": ""
            },
            "type": "choropleth"
           }
          ],
          "contour": [
           {
            "colorbar": {
             "outlinewidth": 0,
             "ticks": ""
            },
            "colorscale": [
             [
              0,
              "#0d0887"
             ],
             [
              0.1111111111111111,
              "#46039f"
             ],
             [
              0.2222222222222222,
              "#7201a8"
             ],
             [
              0.3333333333333333,
              "#9c179e"
             ],
             [
              0.4444444444444444,
              "#bd3786"
             ],
             [
              0.5555555555555556,
              "#d8576b"
             ],
             [
              0.6666666666666666,
              "#ed7953"
             ],
             [
              0.7777777777777778,
              "#fb9f3a"
             ],
             [
              0.8888888888888888,
              "#fdca26"
             ],
             [
              1,
              "#f0f921"
             ]
            ],
            "type": "contour"
           }
          ],
          "contourcarpet": [
           {
            "colorbar": {
             "outlinewidth": 0,
             "ticks": ""
            },
            "type": "contourcarpet"
           }
          ],
          "heatmap": [
           {
            "colorbar": {
             "outlinewidth": 0,
             "ticks": ""
            },
            "colorscale": [
             [
              0,
              "#0d0887"
             ],
             [
              0.1111111111111111,
              "#46039f"
             ],
             [
              0.2222222222222222,
              "#7201a8"
             ],
             [
              0.3333333333333333,
              "#9c179e"
             ],
             [
              0.4444444444444444,
              "#bd3786"
             ],
             [
              0.5555555555555556,
              "#d8576b"
             ],
             [
              0.6666666666666666,
              "#ed7953"
             ],
             [
              0.7777777777777778,
              "#fb9f3a"
             ],
             [
              0.8888888888888888,
              "#fdca26"
             ],
             [
              1,
              "#f0f921"
             ]
            ],
            "type": "heatmap"
           }
          ],
          "heatmapgl": [
           {
            "colorbar": {
             "outlinewidth": 0,
             "ticks": ""
            },
            "colorscale": [
             [
              0,
              "#0d0887"
             ],
             [
              0.1111111111111111,
              "#46039f"
             ],
             [
              0.2222222222222222,
              "#7201a8"
             ],
             [
              0.3333333333333333,
              "#9c179e"
             ],
             [
              0.4444444444444444,
              "#bd3786"
             ],
             [
              0.5555555555555556,
              "#d8576b"
             ],
             [
              0.6666666666666666,
              "#ed7953"
             ],
             [
              0.7777777777777778,
              "#fb9f3a"
             ],
             [
              0.8888888888888888,
              "#fdca26"
             ],
             [
              1,
              "#f0f921"
             ]
            ],
            "type": "heatmapgl"
           }
          ],
          "histogram": [
           {
            "marker": {
             "pattern": {
              "fillmode": "overlay",
              "size": 10,
              "solidity": 0.2
             }
            },
            "type": "histogram"
           }
          ],
          "histogram2d": [
           {
            "colorbar": {
             "outlinewidth": 0,
             "ticks": ""
            },
            "colorscale": [
             [
              0,
              "#0d0887"
             ],
             [
              0.1111111111111111,
              "#46039f"
             ],
             [
              0.2222222222222222,
              "#7201a8"
             ],
             [
              0.3333333333333333,
              "#9c179e"
             ],
             [
              0.4444444444444444,
              "#bd3786"
             ],
             [
              0.5555555555555556,
              "#d8576b"
             ],
             [
              0.6666666666666666,
              "#ed7953"
             ],
             [
              0.7777777777777778,
              "#fb9f3a"
             ],
             [
              0.8888888888888888,
              "#fdca26"
             ],
             [
              1,
              "#f0f921"
             ]
            ],
            "type": "histogram2d"
           }
          ],
          "histogram2dcontour": [
           {
            "colorbar": {
             "outlinewidth": 0,
             "ticks": ""
            },
            "colorscale": [
             [
              0,
              "#0d0887"
             ],
             [
              0.1111111111111111,
              "#46039f"
             ],
             [
              0.2222222222222222,
              "#7201a8"
             ],
             [
              0.3333333333333333,
              "#9c179e"
             ],
             [
              0.4444444444444444,
              "#bd3786"
             ],
             [
              0.5555555555555556,
              "#d8576b"
             ],
             [
              0.6666666666666666,
              "#ed7953"
             ],
             [
              0.7777777777777778,
              "#fb9f3a"
             ],
             [
              0.8888888888888888,
              "#fdca26"
             ],
             [
              1,
              "#f0f921"
             ]
            ],
            "type": "histogram2dcontour"
           }
          ],
          "mesh3d": [
           {
            "colorbar": {
             "outlinewidth": 0,
             "ticks": ""
            },
            "type": "mesh3d"
           }
          ],
          "parcoords": [
           {
            "line": {
             "colorbar": {
              "outlinewidth": 0,
              "ticks": ""
             }
            },
            "type": "parcoords"
           }
          ],
          "pie": [
           {
            "automargin": true,
            "type": "pie"
           }
          ],
          "scatter": [
           {
            "fillpattern": {
             "fillmode": "overlay",
             "size": 10,
             "solidity": 0.2
            },
            "type": "scatter"
           }
          ],
          "scatter3d": [
           {
            "line": {
             "colorbar": {
              "outlinewidth": 0,
              "ticks": ""
             }
            },
            "marker": {
             "colorbar": {
              "outlinewidth": 0,
              "ticks": ""
             }
            },
            "type": "scatter3d"
           }
          ],
          "scattercarpet": [
           {
            "marker": {
             "colorbar": {
              "outlinewidth": 0,
              "ticks": ""
             }
            },
            "type": "scattercarpet"
           }
          ],
          "scattergeo": [
           {
            "marker": {
             "colorbar": {
              "outlinewidth": 0,
              "ticks": ""
             }
            },
            "type": "scattergeo"
           }
          ],
          "scattergl": [
           {
            "marker": {
             "colorbar": {
              "outlinewidth": 0,
              "ticks": ""
             }
            },
            "type": "scattergl"
           }
          ],
          "scattermapbox": [
           {
            "marker": {
             "colorbar": {
              "outlinewidth": 0,
              "ticks": ""
             }
            },
            "type": "scattermapbox"
           }
          ],
          "scatterpolar": [
           {
            "marker": {
             "colorbar": {
              "outlinewidth": 0,
              "ticks": ""
             }
            },
            "type": "scatterpolar"
           }
          ],
          "scatterpolargl": [
           {
            "marker": {
             "colorbar": {
              "outlinewidth": 0,
              "ticks": ""
             }
            },
            "type": "scatterpolargl"
           }
          ],
          "scatterternary": [
           {
            "marker": {
             "colorbar": {
              "outlinewidth": 0,
              "ticks": ""
             }
            },
            "type": "scatterternary"
           }
          ],
          "surface": [
           {
            "colorbar": {
             "outlinewidth": 0,
             "ticks": ""
            },
            "colorscale": [
             [
              0,
              "#0d0887"
             ],
             [
              0.1111111111111111,
              "#46039f"
             ],
             [
              0.2222222222222222,
              "#7201a8"
             ],
             [
              0.3333333333333333,
              "#9c179e"
             ],
             [
              0.4444444444444444,
              "#bd3786"
             ],
             [
              0.5555555555555556,
              "#d8576b"
             ],
             [
              0.6666666666666666,
              "#ed7953"
             ],
             [
              0.7777777777777778,
              "#fb9f3a"
             ],
             [
              0.8888888888888888,
              "#fdca26"
             ],
             [
              1,
              "#f0f921"
             ]
            ],
            "type": "surface"
           }
          ],
          "table": [
           {
            "cells": {
             "fill": {
              "color": "#EBF0F8"
             },
             "line": {
              "color": "white"
             }
            },
            "header": {
             "fill": {
              "color": "#C8D4E3"
             },
             "line": {
              "color": "white"
             }
            },
            "type": "table"
           }
          ]
         },
         "layout": {
          "annotationdefaults": {
           "arrowcolor": "#2a3f5f",
           "arrowhead": 0,
           "arrowwidth": 1
          },
          "autotypenumbers": "strict",
          "coloraxis": {
           "colorbar": {
            "outlinewidth": 0,
            "ticks": ""
           }
          },
          "colorscale": {
           "diverging": [
            [
             0,
             "#8e0152"
            ],
            [
             0.1,
             "#c51b7d"
            ],
            [
             0.2,
             "#de77ae"
            ],
            [
             0.3,
             "#f1b6da"
            ],
            [
             0.4,
             "#fde0ef"
            ],
            [
             0.5,
             "#f7f7f7"
            ],
            [
             0.6,
             "#e6f5d0"
            ],
            [
             0.7,
             "#b8e186"
            ],
            [
             0.8,
             "#7fbc41"
            ],
            [
             0.9,
             "#4d9221"
            ],
            [
             1,
             "#276419"
            ]
           ],
           "sequential": [
            [
             0,
             "#0d0887"
            ],
            [
             0.1111111111111111,
             "#46039f"
            ],
            [
             0.2222222222222222,
             "#7201a8"
            ],
            [
             0.3333333333333333,
             "#9c179e"
            ],
            [
             0.4444444444444444,
             "#bd3786"
            ],
            [
             0.5555555555555556,
             "#d8576b"
            ],
            [
             0.6666666666666666,
             "#ed7953"
            ],
            [
             0.7777777777777778,
             "#fb9f3a"
            ],
            [
             0.8888888888888888,
             "#fdca26"
            ],
            [
             1,
             "#f0f921"
            ]
           ],
           "sequentialminus": [
            [
             0,
             "#0d0887"
            ],
            [
             0.1111111111111111,
             "#46039f"
            ],
            [
             0.2222222222222222,
             "#7201a8"
            ],
            [
             0.3333333333333333,
             "#9c179e"
            ],
            [
             0.4444444444444444,
             "#bd3786"
            ],
            [
             0.5555555555555556,
             "#d8576b"
            ],
            [
             0.6666666666666666,
             "#ed7953"
            ],
            [
             0.7777777777777778,
             "#fb9f3a"
            ],
            [
             0.8888888888888888,
             "#fdca26"
            ],
            [
             1,
             "#f0f921"
            ]
           ]
          },
          "colorway": [
           "#636efa",
           "#EF553B",
           "#00cc96",
           "#ab63fa",
           "#FFA15A",
           "#19d3f3",
           "#FF6692",
           "#B6E880",
           "#FF97FF",
           "#FECB52"
          ],
          "font": {
           "color": "#2a3f5f"
          },
          "geo": {
           "bgcolor": "white",
           "lakecolor": "white",
           "landcolor": "#E5ECF6",
           "showlakes": true,
           "showland": true,
           "subunitcolor": "white"
          },
          "hoverlabel": {
           "align": "left"
          },
          "hovermode": "closest",
          "mapbox": {
           "style": "light"
          },
          "paper_bgcolor": "white",
          "plot_bgcolor": "#E5ECF6",
          "polar": {
           "angularaxis": {
            "gridcolor": "white",
            "linecolor": "white",
            "ticks": ""
           },
           "bgcolor": "#E5ECF6",
           "radialaxis": {
            "gridcolor": "white",
            "linecolor": "white",
            "ticks": ""
           }
          },
          "scene": {
           "xaxis": {
            "backgroundcolor": "#E5ECF6",
            "gridcolor": "white",
            "gridwidth": 2,
            "linecolor": "white",
            "showbackground": true,
            "ticks": "",
            "zerolinecolor": "white"
           },
           "yaxis": {
            "backgroundcolor": "#E5ECF6",
            "gridcolor": "white",
            "gridwidth": 2,
            "linecolor": "white",
            "showbackground": true,
            "ticks": "",
            "zerolinecolor": "white"
           },
           "zaxis": {
            "backgroundcolor": "#E5ECF6",
            "gridcolor": "white",
            "gridwidth": 2,
            "linecolor": "white",
            "showbackground": true,
            "ticks": "",
            "zerolinecolor": "white"
           }
          },
          "shapedefaults": {
           "line": {
            "color": "#2a3f5f"
           }
          },
          "ternary": {
           "aaxis": {
            "gridcolor": "white",
            "linecolor": "white",
            "ticks": ""
           },
           "baxis": {
            "gridcolor": "white",
            "linecolor": "white",
            "ticks": ""
           },
           "bgcolor": "#E5ECF6",
           "caxis": {
            "gridcolor": "white",
            "linecolor": "white",
            "ticks": ""
           }
          },
          "title": {
           "x": 0.05
          },
          "xaxis": {
           "automargin": true,
           "gridcolor": "white",
           "linecolor": "white",
           "ticks": "",
           "title": {
            "standoff": 15
           },
           "zerolinecolor": "white",
           "zerolinewidth": 2
          },
          "yaxis": {
           "automargin": true,
           "gridcolor": "white",
           "linecolor": "white",
           "ticks": "",
           "title": {
            "standoff": 15
           },
           "zerolinecolor": "white",
           "zerolinewidth": 2
          }
         }
        },
        "title": {
         "text": "Cumulative embodied emissions per year for housing in Amsterdam"
        },
        "xaxis": {
         "anchor": "y",
         "domain": [
          0,
          1
         ],
         "title": {
          "text": "year"
         }
        },
        "yaxis": {
         "anchor": "x",
         "domain": [
          0,
          1
         ],
         "title": {
          "text": "cumulative_emissions"
         }
        }
       }
      }
     },
     "metadata": {},
     "output_type": "display_data"
    }
   ],
   "source": [
    "# emissions for one municipality\n",
    "def get_data_for_municipality(municipality_name, engine): \n",
    "    query = f''' \n",
    "    SELECT year, SUM(emissions_embodied_tons) AS emissions_embodied_tons\n",
    "    FROM emissions_embodied_housing_nl \n",
    "    WHERE year >= 2011 AND year <= 2022 AND municipality = '{municipality_name}'\n",
    "    GROUP BY year\n",
    "    '''\n",
    "    df = pd.read_sql_query(query, engine)    \n",
    "    df['cumulative_emissions'] = df['emissions_embodied_tons'].cumsum()\n",
    "    \n",
    "    return df \n",
    "\n",
    "def plot_embodiedEmissions_perYear_forMunicipality(df, municipality_name, type='cumulative'):\n",
    "    if type == 'cumulative':\n",
    "        title = f'Cumulative embodied emissions per year for housing in {municipality_name}'\n",
    "        y = 'cumulative_emissions'\n",
    "    else: \n",
    "        title = 'Embodied emissions per year for housing in ' + municipality_name\n",
    "        y = 'emissions_embodied_tons'\n",
    "    \n",
    "    fig = px.line(df, x='year', y=y, title=title)\n",
    "    fig.show()\n",
    "\n",
    "municipality_name = 'Amsterdam'\n",
    "df = get_data_for_municipality(municipality_name, engine)\n",
    "plot_embodiedEmissions_perYear_forMunicipality(df, municipality_name, 'n cumulative')\n",
    "plot_embodiedEmissions_perYear_forMunicipality(df, municipality_name, 'cumulative')"
   ]
  }
 ],
 "metadata": {
  "kernelspec": {
   "display_name": "geo_env",
   "language": "python",
   "name": "python3"
  },
  "language_info": {
   "codemirror_mode": {
    "name": "ipython",
    "version": 3
   },
   "file_extension": ".py",
   "mimetype": "text/x-python",
   "name": "python",
   "nbconvert_exporter": "python",
   "pygments_lexer": "ipython3",
   "version": "3.9.19"
  }
 },
 "nbformat": 4,
 "nbformat_minor": 2
}
