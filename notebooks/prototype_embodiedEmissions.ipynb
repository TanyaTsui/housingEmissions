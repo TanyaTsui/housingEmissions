{
 "cells": [
  {
   "cell_type": "markdown",
   "metadata": {},
   "source": [
    "# Make `housing_nl` table in Postgresql database \n",
    "\n",
    "- add neighborhood, municipality, and province info to `bag_pand` and `bag_vbo`\n",
    "- for buildings in bag that aren't connected to units (vbo): \n",
    "    - estimate function\n",
    "    - estimate sqm \n",
    "\n",
    "**Next step:**\n",
    "estimate embodied emissions for each row in housing_nl\n",
    "\n",
    "**Issue:**\n",
    "The resulting table has a few buildings that are obviously not housing (e.g. industrial buildings, hospitals)...etc. Need to further refine method of guessing building function. "
   ]
  },
  {
   "cell_type": "code",
   "execution_count": 2,
   "metadata": {},
   "outputs": [],
   "source": [
    "from sqlalchemy import create_engine, inspect\n",
    "import subprocess\n",
    "import pandas as pd\n",
    "import geopandas as gpd\n",
    "import psycopg2\n",
    "from psycopg2 import sql\n",
    "import plotly.express as px\n",
    "import matplotlib.pyplot as plt\n",
    "import time\n",
    "import sys"
   ]
  },
  {
   "cell_type": "markdown",
   "metadata": {},
   "source": [
    "# Define variables"
   ]
  },
  {
   "cell_type": "code",
   "execution_count": 3,
   "metadata": {},
   "outputs": [],
   "source": [
    "# define table names for queries\n",
    "bag_pand_table_name = 'bag_pand' # bag_pand_delft\n",
    "bag_vbo_table_name = 'bag_vbo' # bag_vbo_delft\n",
    "housing_table_name = 'housing_nl' # housing_delft\n",
    "ahn_table_name = 'ahn_elevation' # ahn_elevation_delft\n",
    "\n",
    "# define database connection\n",
    "db_name = \"urbanmining\"\n",
    "username = \"postgres\"\n",
    "password = \"Tunacompany5694!\"\n",
    "host = \"localhost\"  # or your host if it's not local\n",
    "port = \"5432\"  # default port for PostgreSQL"
   ]
  },
  {
   "cell_type": "markdown",
   "metadata": {},
   "source": [
    "# SQL queries \n",
    "SQL queries as text, to be run by psycopg2 "
   ]
  },
  {
   "cell_type": "code",
   "execution_count": 4,
   "metadata": {},
   "outputs": [],
   "source": [
    "###############################################################################################################################################################################\n",
    "# MAKE DELFT SAMPLE\n",
    "###############################################################################################################################################################################\n",
    "\n",
    "# make sample of bag_pand, bag_vbo and ahn_elevation for Delft\n",
    "query_make_delft_sample = ''' \n",
    "DROP TABLE IF EXISTS bag_pand_delft;\n",
    "CREATE TABLE bag_pand_delft AS \n",
    "WITH delft AS (\n",
    "    SELECT * FROM nl_gemeentegebied WHERE naam = 'Delft'\n",
    ")\n",
    "SELECT b.*\n",
    "FROM bag_pand b\n",
    "JOIN delft d\n",
    "ON ST_Contains(d.geom, b.geom_28992);\n",
    "\n",
    "DROP TABLE IF EXISTS bag_vbo_delft;\n",
    "CREATE TABLE bag_vbo_delft AS\n",
    "WITH delft AS (\n",
    "    SELECT * FROM nl_gemeentegebied WHERE naam = 'Delft'\n",
    ")\n",
    "SELECT b.*\n",
    "FROM bag_vbo b\n",
    "JOIN delft d\n",
    "ON ST_Contains(d.geom, b.geom_28992);\n",
    "\n",
    "DROP TABLE IF EXISTS ahn_elevation_delft; \n",
    "CREATE TABLE ahn_elevation_delft AS\n",
    "\n",
    "WITH delft AS (\n",
    "\tSELECT * FROM nl_gemeentegebied WHERE naam = 'Delft'\n",
    ")\n",
    "\n",
    "SELECT \n",
    "\td.naam AS municipality, d.ligt_in_provincie_naam AS province, \n",
    "\ta.*\n",
    "FROM ahn_elevation a \n",
    "JOIN delft d \n",
    "ON ST_Intersects(a.rast_geom, d.geom); \n",
    "'''\n",
    "\n",
    "###############################################################################################################################################################################\n",
    "# ADD MUNICIPALITY AND PROVINCE INFO TO AHN_ELEVATION, BAG_PAND, BAG_VBO, AND LANDUSE_NL\n",
    "# This allows queries to be run by municipality, which dramatically reduces runtime \n",
    "###############################################################################################################################################################################\n",
    "\n",
    "# add municipality and province columns to ahn_elevation \n",
    "query_add_municipality_ahn = f''' \n",
    "ALTER TABLE {ahn_table_name} ADD COLUMN IF NOT EXISTS municipality VARCHAR;\n",
    "ALTER TABLE {ahn_table_name} ADD COLUMN IF NOT EXISTS province VARCHAR;\n",
    "\n",
    "WITH municipality AS (\n",
    "\tSELECT * FROM nl_gemeentegebied WHERE naam = %s \n",
    ")\n",
    "\t\n",
    "UPDATE {ahn_table_name} \n",
    "SET \n",
    "\tmunicipality = m.naam, \n",
    "\tprovince = m.ligt_in_provincie_naam\n",
    "FROM municipality m \n",
    "WHERE ST_Intersects({ahn_table_name}.rast_geom, m.geom); \n",
    "''' \n",
    "\n",
    "# add columns to bag_pand and bag_vbo\n",
    "query_add_columns_bag_pand = f''' \n",
    "ALTER TABLE {bag_pand_table_name} ADD COLUMN neighborhood_code VARCHAR;\n",
    "ALTER TABLE {bag_pand_table_name} ADD COLUMN neighborhood VARCHAR;\n",
    "ALTER TABLE {bag_pand_table_name} ADD COLUMN municipality VARCHAR;\n",
    "ALTER TABLE {bag_pand_table_name} ADD COLUMN province VARCHAR;\n",
    "'''\n",
    "query_add_columns_bag_vbo = f''' \n",
    "ALTER TABLE {bag_vbo_table_name} ADD COLUMN neighborhood_code VARCHAR;\n",
    "ALTER TABLE {bag_vbo_table_name} ADD COLUMN neighborhood VARCHAR;\n",
    "ALTER TABLE {bag_vbo_table_name} ADD COLUMN municipality VARCHAR;\n",
    "ALTER TABLE {bag_vbo_table_name} ADD COLUMN province VARCHAR;\n",
    "'''\n",
    "\n",
    "# add municipality and province columns to bag_pand and bag_vbo\n",
    "# two %s, the municipality name, like 'Delft'\n",
    "query_match_bag_to_admin_boundaries = f''' \n",
    "WITH municipality AS (\n",
    "\tSELECT * FROM nl_buurten WHERE municipality_name = %s\n",
    ")\n",
    "\t\n",
    "UPDATE {bag_pand_table_name}\n",
    "SET \n",
    "\tneighborhood_code = b.neighborhood_code, \n",
    "\tneighborhood = b.neighborhood, \n",
    "    municipality = b.municipality_name,\n",
    "    province = b.province\n",
    "FROM municipality b\n",
    "WHERE ST_Intersects({bag_pand_table_name}.geom_28992, b.neighborhood_geom);\n",
    "\n",
    "WITH municipality AS (\n",
    "\tSELECT * FROM nl_buurten WHERE municipality_name = %s\n",
    ")\n",
    "\t\n",
    "UPDATE {bag_vbo_table_name}\n",
    "SET \n",
    "\tneighborhood_code = b.neighborhood_code, \n",
    "\tneighborhood = b.neighborhood, \n",
    "    municipality = b.municipality_name,\n",
    "    province = b.province\n",
    "FROM municipality b\n",
    "WHERE ST_Intersects({bag_vbo_table_name}.geom_28992, b.neighborhood_geom);\n",
    "'''\n",
    "\n",
    "# create landuse_nl table according to the following columns: \n",
    "query_create_landuse_nl_table = '''\n",
    "DROP TABLE IF EXISTS landuse_nl;\n",
    "CREATE TABLE landuse_nl (\n",
    "\tgml_id VARCHAR, description VARCHAR, geom_28992 GEOMETRY,\n",
    "    municipality VARCHAR, province VARCHAR\n",
    ");\n",
    "''' \n",
    "\n",
    "# add buurt, municipality, and province info to landuse table\n",
    "# one %s, the municipality name, like 'Delft'\n",
    "query_add_buurtInfo_to_landuse_nl = f''' \n",
    "INSERT INTO landuse_nl (\n",
    "\tgml_id, description, geom_28992, municipality, province\n",
    ")\n",
    "\n",
    "WITH municipality AS (\n",
    "\tSELECT * \n",
    "\tFROM nl_gemeentegebied\n",
    "\tWHERE naam = %s \n",
    "), \n",
    "landuse_municipality AS (\n",
    "\tSELECT \n",
    "    \tl.gml_id, l.description AS landuse, l.geom_28992, \n",
    "    \tm.naam AS municipality, m.ligt_in_provincie_naam AS province\n",
    "\tFROM existinglanduseobject l \n",
    "\tJOIN municipality m \n",
    "\tON \n",
    "\t\tl.geom_28992 && m.geom \n",
    "\t\tAND ST_Intersects(l.geom_28992, m.geom)\n",
    ")\n",
    "\n",
    "SELECT * FROM landuse_municipality\n",
    "'''\n",
    "\n",
    "###############################################################################################################################################################################\n",
    "# ADD RENOVATION INFO TO BAG_PAND\n",
    "# This includes the following types of renovation: \n",
    "# - pre-2020 renovations that were not captured in the BAG data since 'Verbouwing pand' wasn't introduced yet \n",
    "# - transformation of building from non-housing to housing function \n",
    "# - transformation of building from adding new units \n",
    "###############################################################################################################################################################################\n",
    "\n",
    "# add renovation column to bag_pand\n",
    "query_add_renovation_column = f'''\n",
    "ALTER TABLE {bag_pand_table_name} DROP COLUMN IF EXISTS renovation_pandingebruiknietingemeten;\n",
    "ALTER TABLE {bag_pand_table_name} DROP COLUMN IF EXISTS renovation;\n",
    "ALTER TABLE {bag_pand_table_name} ADD COLUMN IF NOT EXISTS renovation VARCHAR;\n",
    "CREATE INDEX IF NOT EXISTS idx_bag_pand_municipality_registration_start ON {bag_pand_table_name} (municipality, (LEFT(registration_start, 4)::INTEGER));\n",
    "CREATE INDEX IF NOT EXISTS idx_bag_pand_id_pand_registration_start ON {bag_pand_table_name} (id_pand, registration_start);\n",
    "CREATE INDEX IF NOT EXISTS idx_bag_pand_status ON {bag_pand_table_name} (status);\n",
    "'''\n",
    "\n",
    "# get renovations before 2020 \n",
    "query_add_pre2020_renovations = f'''\n",
    "INSERT INTO {bag_pand_table_name} (\n",
    "\trenovation, id_pand, geometry, build_year, status, document_date, document_number, \n",
    "\tregistration_start, registration_end, geom, geom_28992, \n",
    "\tneighborhood_code, neighborhood, municipality, province\n",
    ")\n",
    "\n",
    "WITH bag_pand_municipality AS (\n",
    "\tSELECT * FROM bag_pand\n",
    "\tWHERE \n",
    "\t\tmunicipality = %s \n",
    "\t\tAND LEFT(registration_start, 4)::INTEGER < 2020\n",
    "), \n",
    "ranked_pand_sample AS (\n",
    "    SELECT *,\n",
    "           LAG(status) OVER (PARTITION BY id_pand ORDER BY registration_start) AS previous_status\n",
    "    FROM bag_pand_municipality\n",
    ")\n",
    "SELECT \n",
    "\tCASE \n",
    "\t\tWHEN \n",
    "        \tstatus = 'Pand in gebruik (niet ingemeten)' \n",
    "    \t\tAND previous_status IS NOT NULL \n",
    "            AND previous_status = 'Pand in gebruik'  \n",
    "        THEN 'Verbouwing pand'\n",
    "\t\tELSE 'Not verbouwing pand'\n",
    "\tEND AS renovation, \n",
    "\tid_pand, geometry, build_year, status, document_date, document_number, \n",
    "\tregistration_start, registration_end, geom, geom_28992, \n",
    "\tneighborhood_code, neighborhood, municipality, province\n",
    "FROM ranked_pand_sample; \n",
    "\n",
    "DELETE FROM {bag_pand_table_name}\n",
    "WHERE \n",
    "\tmunicipality = %s\n",
    "\tAND LEFT(registration_start, 4)::INTEGER < 2020\n",
    "\tAND renovation IS NULL; \n",
    "\n",
    "UPDATE {bag_pand_table_name}\n",
    "SET renovation = 'Verbouwing pand'\n",
    "WHERE status = 'Verbouwing pand' AND municipality = %s;\n",
    "'''\n",
    "\n",
    "# add transformations from non-housing to housing \n",
    "query_add_transformation_function_change = f''' \n",
    "DROP TABLE IF EXISTS transformed_housing_buildings; \n",
    "\n",
    "-- delete rows about transformation (from previous queries)\n",
    "DELETE FROM {bag_pand_table_name}\n",
    "WHERE \n",
    "\tmunicipality = %s\n",
    "\tAND renovation = 'transformation - function change'; \n",
    "\n",
    "-- create temp table transformed_housing_buildings\n",
    "CREATE TEMP TABLE transformed_housing_buildings AS \n",
    "WITH bag_vbo_municipality AS (\n",
    "\tSELECT * \n",
    "\tFROM bag_vbo \n",
    "\tWHERE municipality = %s\n",
    "), \n",
    "function_counts AS (\n",
    "    SELECT \n",
    "        id_vbo,\n",
    "        COUNT(DISTINCT function) AS n_functions\n",
    "    FROM bag_vbo_municipality\n",
    "    GROUP BY id_vbo\n",
    "), \n",
    "idvbos_functionchange AS (\n",
    "\tSELECT DISTINCT id_vbo \n",
    "\tFROM function_counts \n",
    "\tWHERE n_functions > 1\n",
    "), \n",
    "bag_vbo_functionchange AS (\n",
    "\tSELECT b.*\n",
    "\tFROM bag_vbo_municipality b\n",
    "\tJOIN idvbos_functionchange i\n",
    "\tON b.id_vbo = i.id_vbo\n",
    "), \n",
    "previousfunction AS (\n",
    "\tSELECT \n",
    "\t\tLAG(function) OVER (PARTITION BY id_vbo ORDER BY registration_start) AS previous_function, \n",
    "\t\t* \n",
    "\tFROM bag_vbo_functionchange\n",
    "), \n",
    "transformed_housing_units AS (\n",
    "\tSELECT * \n",
    "\tFROM previousfunction\n",
    "\tWHERE \n",
    "\t\tfunction = 'woonfunctie' \n",
    "\t\tAND previous_function != 'woonfunctie'\n",
    "\t\tAND previous_function IS NOT NULL\n",
    "), \n",
    "transformed_housing_buildings AS (\n",
    "\tSELECT id_pand, LEFT(registration_start, 4) AS year\n",
    "\tFROM transformed_housing_units\n",
    "\tGROUP BY id_pand, LEFT(registration_start, 4)\n",
    ")\n",
    "\n",
    "SELECT * FROM transformed_housing_buildings; \n",
    "\n",
    "-- update renovation column of {bag_pand_table_name} with transformation \n",
    "-- where there was a match in id_pand and registration year \n",
    "UPDATE {bag_pand_table_name} b\n",
    "SET renovation = 'transformation - function change'\n",
    "FROM transformed_housing_buildings t \n",
    "WHERE \n",
    "\tb.id_pand = t.id_pand \n",
    "\tAND municipality = %s\n",
    "\tAND LEFT(b.registration_start, 4) = t.year;\n",
    "\n",
    "-- add new rows to {bag_pand_table_name} on transformation \n",
    "-- where there was no match in id_pand and registration year \n",
    "INSERT INTO {bag_pand_table_name} (\n",
    "\tid_pand, geometry, build_year, status, document_date, registration_start, registration_end, \n",
    "\tgeom, geom_28992, neighborhood_code, neighborhood, municipality, province, renovation\n",
    ")\n",
    "WITH bag_pand_municipality AS (\n",
    "\tSELECT * \n",
    "\tFROM bag_pand\n",
    "\tWHERE municipality = %s\n",
    "), \t\n",
    "transformation_notinbag AS (\n",
    "\tSELECT t.* \n",
    "\tFROM transformed_housing_buildings t \n",
    "\tLEFT JOIN bag_pand_municipality b \n",
    "\tON \n",
    "\t\tb.id_pand = t.id_pand \n",
    "\t\tAND LEFT(b.registration_start, 4) = t.year\n",
    "\tWHERE b.id_pand IS NULL\n",
    "), \n",
    "ranked_bag_pand AS (\n",
    "    SELECT \n",
    "\t\tt.id_pand, b.geometry, b.build_year, b.status, \n",
    "\t\tyear || '-01-01' AS document_date, year || '-01-01' AS registration_start, year || '-12-31' AS registration_end, \n",
    "\t\tb.geom, b.geom_28992, b.neighborhood_code, b.neighborhood, b.municipality, b.province, \n",
    "\t\t'transformation - function change (inserted)' AS renovation, \n",
    "        ROW_NUMBER() OVER (PARTITION BY t.id_pand ORDER BY b.registration_start DESC) AS rn\n",
    "    FROM \n",
    "        transformation_notinbag t\n",
    "    JOIN \n",
    "        bag_pand_municipality b \n",
    "    ON \n",
    "        b.id_pand = t.id_pand\n",
    "    WHERE \n",
    "        b.registration_start <= t.year\n",
    ")\n",
    "SELECT \n",
    "\tid_pand, geometry, build_year, status, document_date, registration_start, registration_end, \n",
    "\tgeom, geom_28992, neighborhood_code, neighborhood, municipality, province, renovation\n",
    "FROM ranked_bag_pand\n",
    "WHERE rn = 1;\n",
    "''' \n",
    "\n",
    "###############################################################################################################################################################################\n",
    "# ESTIMATE HOUSING FUNCTION AND SQM \n",
    "# Some buildings in the BAG dataset don't have info on function and sqm, so we need to estimate it: \n",
    "# - function is estimated using land use data and function of nearest buildings within a 50m radius \n",
    "# - sqm is estimated using AHN elevation data and building footprint\n",
    "###############################################################################################################################################################################\n",
    "\n",
    "# create housing_nl table\n",
    "query_create_housing_nl_table = f''' \n",
    "DROP TABLE IF EXISTS {housing_table_name};\n",
    "CREATE TABLE {housing_table_name} (\n",
    "    function TEXT,\n",
    "    sqm BIGINT,\n",
    "    id_pand VARCHAR,\n",
    "    geometry VARCHAR,\n",
    "    build_year VARCHAR,\n",
    "    status VARCHAR,\n",
    "    document_date VARCHAR,\n",
    "    document_number VARCHAR,\n",
    "    registration_start VARCHAR,\n",
    "    registration_end VARCHAR,\n",
    "    geom GEOMETRY,             -- Assuming GEOMETRY is the intended type\n",
    "    geom_28992 GEOMETRY,       -- Assuming GEOMETRY is the intended type\n",
    "    neighborhood_code VARCHAR, -- Added column\n",
    "    neighborhood VARCHAR,      -- Added column\n",
    "    municipality VARCHAR,\n",
    "    province VARCHAR\n",
    ");\n",
    "'''\n",
    "\n",
    "# estimate housing function\n",
    "# two %s, both are the municipality name, like 'Delft'\n",
    "query_estimate_housing_function = f'''\n",
    "INSERT INTO {housing_table_name} (\n",
    "    function, sqm, id_pand, geometry, build_year, status, \n",
    "    document_date, document_number, registration_start, registration_end, \n",
    "    geom, geom_28992, neighborhood_code, neighborhood, municipality, province\n",
    ")\n",
    "\t\n",
    "-- select relevant units and buildings from BAG\n",
    "WITH bag_vbo_sample AS (\n",
    "\tSELECT *\n",
    "\tFROM {bag_vbo_table_name}\n",
    "\tWHERE municipality = %s\n",
    "), \n",
    "units AS (\n",
    "\tSELECT DISTINCT ON (id_vbo) * \n",
    "\tFROM bag_vbo_sample\n",
    "\tWHERE \n",
    "\t\tstatus = 'Verblijfsobject in gebruik' AND sqm::INTEGER < 9999\n",
    "\tORDER BY id_vbo, status, registration_start, document_number\n",
    "), \n",
    "bag_pand_sample_without_reno AS (\n",
    "\tSELECT * \n",
    "\tFROM {bag_pand_table_name}\n",
    "\tWHERE municipality = %s \n",
    "), \n",
    "bag_pand_sample AS (\n",
    "\tSELECT \n",
    "\t\tid_pand, geometry, build_year, \n",
    "\t\tCASE \n",
    "\t\t\tWHEN renovation = 'Verbouwing pand' THEN 'Verbouwing pand'\n",
    "            WHEN renovation = 'transformation - function change (inserted)' THEN 'transformation - function change (inserted)'\n",
    "            WHEN renovation = 'transformation - function change' THEN 'transformation - function change'\n",
    "\t\t\tELSE status\n",
    "\t\tEND AS status,\n",
    "\t\tdocument_date, document_number, \n",
    "\t\tregistration_start, registration_end, geom, geom_28992, \n",
    "\t\tneighborhood_code, neighborhood, municipality, province\n",
    "\tFROM bag_pand_sample_without_reno\n",
    "), \n",
    "buildings_construction_demolition AS (\n",
    "\tSELECT DISTINCT ON (id_pand, status) * \n",
    "\tFROM bag_pand_sample\n",
    "\tWHERE status IN ('Bouw gestart', 'Pand gesloopt')\n",
    "\tORDER BY id_pand, status, registration_start, document_number\n",
    "), \n",
    "buildings_renovation AS (\n",
    "\tSELECT * \n",
    "\tFROM bag_pand_sample\n",
    "\tWHERE status = 'Verbouwing pand'\n",
    "), \n",
    "buildings AS (\n",
    "\tSELECT * FROM buildings_construction_demolition\n",
    "\tUNION ALL \n",
    "\tSELECT * FROM buildings_renovation\n",
    "), \n",
    "\n",
    "-- get buildings with unknown function\n",
    "buildings_unknown AS (\n",
    "\tSELECT b.*\n",
    "\tFROM buildings b\n",
    "\tWHERE NOT EXISTS (\n",
    "\t    SELECT 1\n",
    "\t    FROM units u\n",
    "\t    WHERE u.id_pand = b.id_pand\n",
    "\t)\n",
    "\tORDER BY b.id_pand, b.status, b.registration_start, b.document_number\n",
    "),\n",
    "\n",
    "-- find units within 50m radius of buildings_unknown\n",
    "units_near_unknown AS (\n",
    "    SELECT b.id_pand AS id_pand_b, u.*\n",
    "    FROM units u\n",
    "    JOIN buildings_unknown b \n",
    "\tON ST_DWithin(u.geom_28992, b.geom_28992, 50) AND u.neighborhood_code = b.neighborhood_code\n",
    "), \n",
    "units_near_unknown_grouped AS (\n",
    "\tSELECT \n",
    "\t    id_pand_b,\n",
    "\t    function,\n",
    "\t    COUNT(*) AS function_count\n",
    "\tFROM units_near_unknown\n",
    "\tGROUP BY id_pand_b, function\n",
    "), \n",
    "units_near_unknown_ranked AS (\n",
    "    SELECT \n",
    "        id_pand_b,\n",
    "        function,\n",
    "        function_count,\n",
    "        ROW_NUMBER() OVER (PARTITION BY id_pand_b ORDER BY function_count DESC) AS rn\n",
    "    FROM \n",
    "        units_near_unknown_grouped\n",
    "), \n",
    "\n",
    "-- estimate unknown functions\n",
    "housing_guesses AS (\n",
    "\tSELECT DISTINCT ON (id_pand_b)\n",
    "\t\tid_pand_b AS id_pand, function::TEXT AS function, NULL::BIGINT AS sqm\n",
    "\tFROM units_near_unknown_ranked \n",
    "\tWHERE rn = 1 AND function = 'woonfunctie'\n",
    "), \n",
    "housing_fromvbo AS (\n",
    "\tSELECT id_pand, SUM(sqm::INTEGER) AS sqm, 'woonfunctie' AS function\n",
    "\tFROM units\n",
    "\tWHERE function = 'woonfunctie'\n",
    "\tGROUP BY id_pand\n",
    "), \n",
    "housing_combined AS (\n",
    "\tSELECT id_pand, function, sqm FROM housing_guesses\n",
    "\tUNION\n",
    "\tSELECT id_pand, function, sqm FROM housing_fromvbo \n",
    "), \n",
    "housing_final AS (\n",
    "\tSELECT \n",
    "\t\tu.function AS function, u.sqm AS sqm, \n",
    "\t\tb.*\n",
    "\tFROM buildings b \n",
    "\tJOIN housing_combined u ON b.id_pand = u.id_pand \n",
    ")\n",
    "SELECT * FROM housing_final; \n",
    "''' \n",
    "\n",
    "# estimate housing sqm with ahn elevation\n",
    "# three %s, all three are the municipality name, like 'Delft'\n",
    "query_estimate_housing_sqm = f'''\n",
    "-- create indexes\n",
    "CREATE INDEX IF NOT EXISTS idx_housing_nl_status_registration_start ON {housing_table_name} (status, registration_start);\n",
    "CREATE INDEX IF NOT EXISTS idx_buildings_geom_28992 ON {housing_table_name} USING gist (geom_28992);\n",
    "CREATE INDEX IF NOT EXISTS idx_ahn_elevation_rast_geom ON {ahn_table_name} USING gist (rast_geom);\n",
    "\n",
    "ALTER TABLE {housing_table_name} \n",
    "ADD COLUMN IF NOT EXISTS ahn_version VARCHAR; \n",
    "\n",
    "INSERT INTO {housing_table_name} (\n",
    "    sqm, ahn_version, function, id_pand, build_year, status, \n",
    "    document_date, registration_start, registration_end, \n",
    "    geom, geom_28992, \n",
    "\tneighborhood_code, neighborhood, municipality, province\n",
    ")\n",
    "\n",
    "WITH buildings AS (\n",
    "\tSELECT \n",
    "\t\tsqm, function, id_pand, build_year, status, \n",
    "\t    document_date, registration_start, registration_end, \n",
    "\t    geom, geom_28992, neighborhood_code, neighborhood, municipality, province\n",
    "\tFROM {housing_table_name}\n",
    "\tWHERE \n",
    "    \tsqm IS NULL AND \n",
    "        ST_Area(geom_28992) < 100000 AND \n",
    "        municipality = %s\n",
    "), \t\n",
    "\n",
    "-- assign rows to ahn version\n",
    "buildings_ahnversion AS (\n",
    "\tSELECT \n",
    "\t\tCASE \t\t\n",
    "\t\t\t-- cases for bouw gestart \n",
    "\t\t\tWHEN status = 'Bouw gestart' AND registration_start BETWEEN '2011-01-01' AND '2014-01-01' THEN 'ahn3'\n",
    "\t\t\tWHEN status = 'Bouw gestart' AND registration_start BETWEEN '2014-01-01' AND '2020-01-01' THEN 'ahn4'\n",
    "\t\t\t-- must be NULL, definitely don't have height data for buildings built after 2020 \n",
    "\t\t\tWHEN status = 'Bouw gestart' AND registration_start > '2020-01-01' THEN 'no ahn available' \n",
    "\t\n",
    "\t\t\t-- cases for verbouwing pand \n",
    "\t\t\tWHEN status = 'Verbouwing pand' AND registration_start BETWEEN '2011-01-01' AND '2013-06-30' THEN 'ahn2'\n",
    "\t\t\tWHEN status = 'Verbouwing pand' AND registration_start BETWEEN '2013-07-01' AND '2019-12-31' THEN 'ahn3' \n",
    "\t\t\tWHEN status = 'Verbouwing pand' AND registration_start > '2020-01-01' THEN 'ahn4'\n",
    "\t\n",
    "\t\t\t-- cases for pand gesloopt \n",
    "\t\t\t-- buildings demolished pre-2013 could use ahn2, but there is a risk that the elevation data was recorded during / after demolition. \n",
    "\t\t\t-- for 100 percent accuracy, AHN1 data is needed, but (easily) available. (online has only DSM at 5m resolution) \n",
    "\t\t\tWHEN status = 'Pand gesloopt' AND registration_start BETWEEN '2011-01-01' AND '2012-12-31' THEN 'ahn2' -- not 100 percent accurate \n",
    "\t\t\tWHEN status = 'Pand gesloopt' AND registration_start BETWEEN '2013-01-01' AND '2019-12-31' THEN 'ahn2'\n",
    "\t\t\tWHEN status = 'Pand gesloopt' AND registration_start BETWEEN '2020-01-01' AND '2022-12-31' THEN 'ahn3'\n",
    "\t\t\tWHEN status = 'Pand gesloopt' AND registration_start >= '2023-01-01' THEN 'ahn4'\n",
    "\t\n",
    "\t\t\t-- other null cases \n",
    "\t\t\tELSE 'unforseen case'\n",
    "\t\tEND AS ahn_version, \n",
    "\t\t* \n",
    "\tFROM buildings\n",
    "), \n",
    "\n",
    "-- clip rasters by building footprint \n",
    "elevation_municipality AS (\n",
    "\tSELECT *\n",
    "\tFROM {ahn_table_name} \n",
    "\tWHERE municipality = %s\n",
    "), \n",
    "clipped_rasters AS (\n",
    "    SELECT \n",
    "\t\tb.ahn_version, b.function, b.id_pand, b.build_year, \n",
    "\t\tb.status, b.document_date, b.registration_start, b.registration_end, \n",
    "\t\tb.geom, b.geom_28992, b.neighborhood_code, b.neighborhood, b.municipality, b.province, \n",
    "        ST_Union(ST_Clip(r.rast, 1, b.geom_28992, -9999)) AS raster\n",
    "    FROM buildings_ahnversion b\n",
    "    LEFT JOIN elevation_municipality r\n",
    "    ON ST_Intersects(r.rast_geom, b.geom_28992) AND b.ahn_version = r.ahn_version \n",
    "    GROUP BY\n",
    "\t\tb.ahn_version, b.function, b.id_pand, b.build_year, \n",
    "\t\tb.status, b.document_date, b.registration_start, b.registration_end, \n",
    "\t\tb.geom, b.geom_28992, b.neighborhood_code, b.neighborhood, b.municipality, b.province\n",
    "), \n",
    "\n",
    "-- estimate n floors, sqm \n",
    "building_heights AS (\n",
    "\tSELECT\n",
    "\t\t*, ST_Area(geom_28992) AS footprint_sqm, \n",
    "\t\t(ST_SummaryStats(raster)).count AS n_pixels, (ST_SummaryStats(raster)).max AS height\n",
    "\tFROM clipped_rasters\n",
    "), \n",
    "building_nfloors AS (\n",
    "\tSELECT \n",
    "\t\tCASE\n",
    "\t\t\tWHEN height < 4 THEN 1 \n",
    "\t\t\tWHEN height > 4 THEN ROUND(height / 3)\n",
    "\t\t\tELSE 1 \n",
    "\t\tEND AS n_floors, \n",
    "\t\t* \n",
    "\tFROM building_heights\n",
    "), \n",
    "building_sqm_ahn AS (\n",
    "\tSELECT\n",
    "\t\t(n_floors * footprint_sqm)::INTEGER AS sqm, * \n",
    "\tFROM building_nfloors\n",
    "), \n",
    "to_insert AS (\n",
    "    SELECT \n",
    "        sqm::INTEGER AS sqm, ahn_version, function, id_pand, build_year, \n",
    "        status, document_date, registration_start, registration_end, geom, \n",
    "        geom_28992, neighborhood_code, neighborhood, municipality, province\n",
    "    FROM building_sqm_ahn\n",
    ")\n",
    "SELECT * FROM to_insert; \n",
    "\n",
    "-- delete row that didn't have sqm data \n",
    "DELETE FROM {housing_table_name}\n",
    "WHERE sqm IS NULL AND municipality = %s; \n",
    "''' \n",
    "\n",
    "# add landuse column to housing_nl \n",
    "# (to be used for filtering out non-residential buildings)\n",
    "query_add_landuse_column = f'''\n",
    "ALTER TABLE {housing_table_name} ADD COLUMN IF NOT EXISTS landuse VARCHAR; \n",
    "\n",
    "-- assign the landuse 'Residential' to all buildings where function was not guessed\n",
    "UPDATE {housing_table_name}\n",
    "SET landuse = 'Residential'\n",
    "WHERE ahn_version IS NULL;\n",
    "''' \n",
    "\n",
    "# filter out buildings outside of residential areas (non-residential buildings)\n",
    "query_filter_out_non_residential = f'''\n",
    "INSERT INTO {housing_table_name} (\n",
    "    landuse, function, sqm, id_pand, geometry,\n",
    "    build_year, status, document_date, document_number,\n",
    "    registration_start, registration_end, geom, geom_28992,\n",
    "    neighborhood_code, neighborhood, municipality, province,\n",
    "    ahn_version\n",
    ")\n",
    "\n",
    "WITH housing_test AS (\n",
    "\tSELECT * \n",
    "\tFROM {housing_table_name}\n",
    "\tWHERE \n",
    "\t\tmunicipality = %s\n",
    "\t\tAND landuse IS NULL\n",
    "), \n",
    "residential_land AS (\n",
    "\tSELECT * \n",
    "\tFROM landuse_nl\n",
    "\tWHERE municipality = %s AND description = 'Residential'\n",
    ")\n",
    "\n",
    "-- get buildings within residential area from housing_test \n",
    "-- insert these buildings back into housing_nl \n",
    "SELECT \n",
    "\tl.description AS landuse, \n",
    "    h.function, h.sqm, \n",
    "\th.id_pand, h.geometry,\n",
    "    h.build_year, h.status, h.document_date, h.document_number,\n",
    "    h.registration_start, h.registration_end, h.geom, h.geom_28992,\n",
    "    h.neighborhood_code, h.neighborhood, h.municipality, h.province,\n",
    "    h.ahn_version\n",
    "FROM housing_test h\n",
    "JOIN residential_land l\n",
    "ON \n",
    "    h.geom_28992 && l.geom_28992\n",
    "    AND ST_Within(h.geom_28992, l.geom_28992)\n",
    "ORDER BY h.sqm DESC;\n",
    "\n",
    "-- remove all rows from the municipality where landuse IS NULL \n",
    "DELETE FROM {housing_table_name}\n",
    "WHERE landuse IS NULL AND municipality = %s; \n",
    "''' \n",
    "\n",
    "###############################################################################################################################################################################\n",
    "# CALCULATE EMBODIED EMISSIONS FOR HOUSING IN NL \n",
    "# Embodied emissions are calculated using emissions intensities for construction, renovation, and demolition of housing in NL. \n",
    "###############################################################################################################################################################################\n",
    "\n",
    "# create emissions_embodied_housing_nl table \n",
    "query_create_emissions_embodied_housing_nl_table = ''' \n",
    "DROP TABLE IF EXISTS emissions_embodied_housing_nl; \n",
    "CREATE TABLE emissions_embodied_housing_nl (\n",
    "\tyear INT, \n",
    "\tprovince VARCHAR, municipality VARCHAR, \n",
    "\tneighborhood VARCHAR, neighborhood_code VARCHAR, \n",
    "\tstatus VARCHAR, \n",
    "\temissions_embodied_tons NUMERIC, sqm NUMERIC \n",
    "); \n",
    "'''\n",
    "\n",
    "# calculate embodied emissions for municipality and add to emissions_embodied_housing_nl table \n",
    "# one %s, the municipality name, like 'Delft'\n",
    "query_calculate_embodied_emissions = f''' \n",
    "INSERT INTO emissions_embodied_housing_nl (\n",
    "\tyear, province, municipality, neighborhood, neighborhood_code, \n",
    "\tstatus, emissions_embodied_tons, sqm\n",
    ")\n",
    "\n",
    "WITH housing_nl AS (\n",
    "\tSELECT * \n",
    "\tFROM housing_nl\n",
    "\tWHERE municipality = %s\n",
    "), \n",
    "emissions AS (\n",
    "\tSELECT \n",
    "\t\tCASE \n",
    "\t\t\tWHEN status = 'Bouw gestart' THEN (sqm * 316 / 1000.0)::NUMERIC\n",
    "\t\t\tWHEN status = 'Verbouwing pand' THEN (sqm * 126 / 1000.0)::NUMERIC\n",
    "\t\t\tWHEN status = 'Pand gesloopt' THEN (sqm * 77 / 1000.0)::NUMERIC\n",
    "\t\t\tELSE NULL \n",
    "\t\tEND AS emissions_embodied_tons, \n",
    "\t\tLEFT(registration_start, 4)::INTEGER AS year, \n",
    "\t\t* \n",
    "\tFROM housing_nl \n",
    "), \n",
    "emissions_grouped AS (\n",
    "\tSELECT \n",
    "\t\tyear, province, municipality, neighborhood, neighborhood_code, status, \n",
    "\t\tROUND(SUM(emissions_embodied_tons), 3) AS emissions_embodied_tons, \n",
    "\t\tSUM(sqm) AS sqm\n",
    "\tFROM emissions\n",
    "\tGROUP BY year, province, municipality, neighborhood, neighborhood_code, status\n",
    ")\n",
    "\n",
    "SELECT * \n",
    "FROM emissions_grouped\n",
    "'''\n"
   ]
  },
  {
   "cell_type": "markdown",
   "metadata": {},
   "source": [
    "# Functions"
   ]
  },
  {
   "cell_type": "code",
   "execution_count": 5,
   "metadata": {},
   "outputs": [],
   "source": [
    "# connect to database (sqlalchemy engine)\n",
    "def connect_to_db_sqlalchemy(db_name, username, password, host, port):    \n",
    "    connection_string = f\"postgresql://{username}:{password}@{host}:{port}/{db_name}\"\n",
    "    engine = create_engine(connection_string)\n",
    "    return engine\n",
    "\n",
    "# connect to database (psycopg2)\n",
    "def connect_to_db_psycopg2(db_name, username, password):\n",
    "    conn = psycopg2.connect(\n",
    "        dbname=db_name,\n",
    "        user=username,\n",
    "        password=password\n",
    "    )\n",
    "    cursor = conn.cursor()\n",
    "    return cursor, conn\n",
    "\n",
    "# run sql query \n",
    "def run_query(query, cursor, conn, message=''):\n",
    "    if message != '': \n",
    "        print(message)\n",
    "    conn.rollback()\n",
    "    cursor.execute(query)\n",
    "    conn.commit()\n",
    "\n",
    "# fetch list of municipalities \n",
    "def fetch_municipalities_list(cursor):\n",
    "    cursor.execute(\"SELECT DISTINCT naam FROM nl_gemeentegebied\")\n",
    "    municipalities_list = cursor.fetchall()\n",
    "    return [municipality[0] for municipality in municipalities_list]\n",
    "\n",
    "# add gpkg to database\n",
    "def add_file_to_db(gpkg_file_path, db_name, username, password, host, port):\n",
    "    ogr2ogr_command = [\n",
    "        \"ogr2ogr\",\n",
    "        \"-f\", \"PostgreSQL\",\n",
    "        f\"PG:host={host} dbname={db_name} user={username} password={password} port={port}\",\n",
    "        gpkg_file_path\n",
    "    ]\n",
    "    subprocess.run(ogr2ogr_command, check=True)\n",
    "\n",
    "# run query for each municipality\n",
    "def run_query_for_each_municipality(query, len_tuple, cursor, conn, municipalities_list, message=''):\n",
    "    if message != '':\n",
    "        print(message)\n",
    "    for i, municipality in enumerate(municipalities_list):\n",
    "        try:\n",
    "            output = f\"\\rProcessing municipality ({i+1}/{len(municipalities_list)}): {municipality}                         \"\n",
    "            sys.stdout.write(output)\n",
    "            sys.stdout.flush()\n",
    "            cursor.execute(query, (municipality,) * len_tuple)\n",
    "            conn.commit()\n",
    "        except Exception as e:\n",
    "            print(f\"Error processing {municipality}: {e}\")\n",
    "            conn.rollback()\n",
    "\n",
    "# replace terms like 'Delft' or bag_pand_delft in query \n",
    "def replace_query_values(query, replace_dict):\n",
    "    for key, value in replace_dict.items():\n",
    "        query = query.replace(key, value)\n",
    "    query_modified = query.strip()\n",
    "    print(query_modified.count('%s'))\n",
    "    print(query_modified)"
   ]
  },
  {
   "cell_type": "markdown",
   "metadata": {},
   "source": [
    "# Run functions"
   ]
  },
  {
   "cell_type": "code",
   "execution_count": 6,
   "metadata": {},
   "outputs": [
    {
     "name": "stdout",
     "output_type": "stream",
     "text": [
      "adding renovation column and relevant indexes...\n",
      "\n",
      "adding pre-2020 renovations...\n",
      "Processing municipality (342/342): Oisterwijk                                            \n",
      "adding transformations from function change...\n",
      "Processing municipality (342/342): Oisterwijk                                            \n",
      "estimating housing function...\n",
      "Processing municipality (342/342): Oisterwijk                                            \n",
      "estimating housing sqm...\n",
      "Processing municipality (342/342): Oisterwijk                                            \n",
      "filtering out non-residential buildings using landuse data...\n",
      "Processing municipality (342/342): Oisterwijk                                            \n",
      "calculating embodied emissions...\n",
      "Processing municipality (342/342): Oisterwijk                                            "
     ]
    }
   ],
   "source": [
    "# connect to database\n",
    "engine = connect_to_db_sqlalchemy(db_name, username, password, host, port)\n",
    "cursor, conn = connect_to_db_psycopg2(db_name, username, password)\n",
    "\n",
    "# fetch municipalities list\n",
    "municipalities_list = fetch_municipalities_list(cursor)\n",
    "\n",
    "# # add admin boundaries to optimize query\n",
    "print('matching bag to admin boundaries...')\n",
    "run_query_for_each_municipality(query_match_bag_to_admin_boundaries, 2, cursor, conn, municipalities_list)\n",
    "print('adding municipality and province columns to ahn_elevation...')\n",
    "run_query_for_each_municipality(query_add_municipality_ahn, 1, cursor, conn, municipalities_list)\n",
    "print('creating landuse_nl table...')\n",
    "run_query(query_create_landuse_nl_table, cursor, conn)\n",
    "print('adding buurt info to landuse...')\n",
    "run_query_for_each_municipality(query_add_buurtInfo_to_landuse_nl, 1, cursor, conn, municipalities_list)\n",
    "\n",
    "# get add renovation info to bag_pand\n",
    "run_query(query_add_renovation_column, cursor, conn, 'adding renovation column and relevant indexes...')\n",
    "run_query_for_each_municipality(query_add_pre2020_renovations, 3, cursor, conn, municipalities_list, '\\nadding pre-2020 renovations...')\n",
    "run_query_for_each_municipality(query_add_transformation_function_change, 4, cursor, conn, municipalities_list, '\\nadding transformations from function change...')\n",
    "# TODO add transformations - adding new units\n",
    "\n",
    "# estimate housing function and sqm\n",
    "run_query(query_create_housing_nl_table, cursor, conn)\n",
    "run_query_for_each_municipality(query_estimate_housing_function, 2, cursor, conn, municipalities_list, '\\nestimating housing function...')\n",
    "run_query_for_each_municipality(query_estimate_housing_sqm, 3, cursor, conn, municipalities_list, '\\nestimating housing sqm...')\n",
    "\n",
    "# filter out non-residential buildings with landuse data \n",
    "run_query(query_add_landuse_column, cursor, conn)\n",
    "run_query_for_each_municipality(query_filter_out_non_residential, 3, cursor, conn, municipalities_list, '\\nfiltering out non-residential buildings using landuse data...')\n",
    "\n",
    "# calculate embodied emissions\n",
    "run_query(query_create_emissions_embodied_housing_nl_table, cursor, conn)\n",
    "run_query_for_each_municipality(query_calculate_embodied_emissions, 1, cursor, conn, municipalities_list, '\\ncalculating embodied emissions...')\n"
   ]
  },
  {
   "cell_type": "code",
   "execution_count": 7,
   "metadata": {},
   "outputs": [
    {
     "name": "stdout",
     "output_type": "stream",
     "text": [
      "3\n",
      "INSERT INTO {bag_pand_table_name} (\n",
      "\trenovation, id_pand, geometry, build_year, status, document_date, document_number, \n",
      "\tregistration_start, registration_end, geom, geom_28992, \n",
      "\tneighborhood_code, neighborhood, municipality, province\n",
      ")\n",
      "\n",
      "WITH bag_pand_municipality AS (\n",
      "\tSELECT * FROM bag_pand\n",
      "\tWHERE \n",
      "\t\tmunicipality = %s \n",
      "\t\tAND LEFT(registration_start, 4)::INTEGER < 2020\n",
      "), \n",
      "ranked_pand_sample AS (\n",
      "    SELECT *,\n",
      "           LAG(status) OVER (PARTITION BY id_pand ORDER BY registration_start) AS previous_status\n",
      "    FROM bag_pand_municipality\n",
      ")\n",
      "SELECT \n",
      "\tCASE \n",
      "\t\tWHEN \n",
      "        \tstatus = 'Pand in gebruik (niet ingemeten)' \n",
      "    \t\tAND previous_status IS NOT NULL \n",
      "            AND previous_status = 'Pand in gebruik'  \n",
      "        THEN 'Verbouwing pand'\n",
      "\t\tELSE 'Not verbouwing pand'\n",
      "\tEND AS renovation, \n",
      "\tid_pand, geometry, build_year, status, document_date, document_number, \n",
      "\tregistration_start, registration_end, geom, geom_28992, \n",
      "\tneighborhood_code, neighborhood, municipality, province\n",
      "FROM ranked_pand_sample; \n",
      "\n",
      "DELETE FROM {bag_pand_table_name}\n",
      "WHERE \n",
      "\tmunicipality = %s\n",
      "\tAND LEFT(registration_start, 4)::INTEGER < 2020\n",
      "\tAND renovation IS NULL; \n",
      "\n",
      "UPDATE {bag_pand_table_name}\n",
      "SET renovation = 'Verbouwing pand'\n",
      "WHERE status = 'Verbouwing pand' AND municipality = %s;\n"
     ]
    }
   ],
   "source": [
    "query = ''' \n",
    "INSERT INTO bag_pand_delft (\n",
    "\trenovation, id_pand, geometry, build_year, status, document_date, document_number, \n",
    "\tregistration_start, registration_end, geom, geom_28992, \n",
    "\tneighborhood_code, neighborhood, municipality, province\n",
    ")\n",
    "\n",
    "WITH bag_pand_municipality AS (\n",
    "\tSELECT * FROM bag_pand\n",
    "\tWHERE \n",
    "\t\tmunicipality = 'Delft' \n",
    "\t\tAND LEFT(registration_start, 4)::INTEGER < 2020\n",
    "), \n",
    "ranked_pand_sample AS (\n",
    "    SELECT *,\n",
    "           LAG(status) OVER (PARTITION BY id_pand ORDER BY registration_start) AS previous_status\n",
    "    FROM bag_pand_municipality\n",
    ")\n",
    "SELECT \n",
    "\tCASE \n",
    "\t\tWHEN \n",
    "        \tstatus = 'Pand in gebruik (niet ingemeten)' \n",
    "    \t\tAND previous_status IS NOT NULL \n",
    "            AND previous_status = 'Pand in gebruik'  \n",
    "        THEN 'Verbouwing pand'\n",
    "\t\tELSE 'Not verbouwing pand'\n",
    "\tEND AS renovation, \n",
    "\tid_pand, geometry, build_year, status, document_date, document_number, \n",
    "\tregistration_start, registration_end, geom, geom_28992, \n",
    "\tneighborhood_code, neighborhood, municipality, province\n",
    "FROM ranked_pand_sample; \n",
    "\n",
    "DELETE FROM bag_pand_delft\n",
    "WHERE \n",
    "\tmunicipality = 'Delft'\n",
    "\tAND LEFT(registration_start, 4)::INTEGER < 2020\n",
    "\tAND renovation IS NULL; \n",
    "\n",
    "UPDATE bag_pand_delft\n",
    "SET renovation = 'Verbouwing pand'\n",
    "WHERE status = 'Verbouwing pand' AND municipality = 'Delft';\n",
    "'''\n",
    "\n",
    "replace_dict = {\n",
    "    '\\'Delft\\'': '%s',\n",
    "    'bag_pand_delft': '{bag_pand_table_name}'\n",
    "}\n",
    "\n",
    "replace_query_values(query, replace_dict)"
   ]
  },
  {
   "cell_type": "markdown",
   "metadata": {},
   "source": [
    "# Visualize embodied emissions (2011 - now)\n",
    "- total embodied emissions \n",
    "- embodied emissions for one municipality\n",
    "- embodied emissions for all municipalities (highlight highest and lowest municipalities)"
   ]
  },
  {
   "cell_type": "code",
   "execution_count": 7,
   "metadata": {},
   "outputs": [
    {
     "data": {
      "application/vnd.plotly.v1+json": {
       "config": {
        "plotlyServerURL": "https://plot.ly"
       },
       "data": [
        {
         "hovertemplate": "year=%{x}<br>emissions_embodied_tons=%{y}<extra></extra>",
         "legendgroup": "",
         "line": {
          "color": "#636efa",
          "dash": "solid"
         },
         "marker": {
          "symbol": "circle"
         },
         "mode": "lines",
         "name": "",
         "orientation": "v",
         "showlegend": false,
         "type": "scatter",
         "x": [
          2011,
          2012,
          2013,
          2014,
          2015,
          2016,
          2017,
          2018,
          2019,
          2020,
          2021,
          2022
         ],
         "xaxis": "x",
         "y": [
          2946980.471,
          2731330.068,
          2170625.206,
          2398656.546,
          2803010.262,
          2811237.806,
          2894078.13,
          3165997.99,
          3249846.855,
          2834053.94,
          2919849.674,
          2221236.321
         ],
         "yaxis": "y"
        }
       ],
       "layout": {
        "legend": {
         "tracegroupgap": 0
        },
        "template": {
         "data": {
          "bar": [
           {
            "error_x": {
             "color": "#2a3f5f"
            },
            "error_y": {
             "color": "#2a3f5f"
            },
            "marker": {
             "line": {
              "color": "#E5ECF6",
              "width": 0.5
             },
             "pattern": {
              "fillmode": "overlay",
              "size": 10,
              "solidity": 0.2
             }
            },
            "type": "bar"
           }
          ],
          "barpolar": [
           {
            "marker": {
             "line": {
              "color": "#E5ECF6",
              "width": 0.5
             },
             "pattern": {
              "fillmode": "overlay",
              "size": 10,
              "solidity": 0.2
             }
            },
            "type": "barpolar"
           }
          ],
          "carpet": [
           {
            "aaxis": {
             "endlinecolor": "#2a3f5f",
             "gridcolor": "white",
             "linecolor": "white",
             "minorgridcolor": "white",
             "startlinecolor": "#2a3f5f"
            },
            "baxis": {
             "endlinecolor": "#2a3f5f",
             "gridcolor": "white",
             "linecolor": "white",
             "minorgridcolor": "white",
             "startlinecolor": "#2a3f5f"
            },
            "type": "carpet"
           }
          ],
          "choropleth": [
           {
            "colorbar": {
             "outlinewidth": 0,
             "ticks": ""
            },
            "type": "choropleth"
           }
          ],
          "contour": [
           {
            "colorbar": {
             "outlinewidth": 0,
             "ticks": ""
            },
            "colorscale": [
             [
              0,
              "#0d0887"
             ],
             [
              0.1111111111111111,
              "#46039f"
             ],
             [
              0.2222222222222222,
              "#7201a8"
             ],
             [
              0.3333333333333333,
              "#9c179e"
             ],
             [
              0.4444444444444444,
              "#bd3786"
             ],
             [
              0.5555555555555556,
              "#d8576b"
             ],
             [
              0.6666666666666666,
              "#ed7953"
             ],
             [
              0.7777777777777778,
              "#fb9f3a"
             ],
             [
              0.8888888888888888,
              "#fdca26"
             ],
             [
              1,
              "#f0f921"
             ]
            ],
            "type": "contour"
           }
          ],
          "contourcarpet": [
           {
            "colorbar": {
             "outlinewidth": 0,
             "ticks": ""
            },
            "type": "contourcarpet"
           }
          ],
          "heatmap": [
           {
            "colorbar": {
             "outlinewidth": 0,
             "ticks": ""
            },
            "colorscale": [
             [
              0,
              "#0d0887"
             ],
             [
              0.1111111111111111,
              "#46039f"
             ],
             [
              0.2222222222222222,
              "#7201a8"
             ],
             [
              0.3333333333333333,
              "#9c179e"
             ],
             [
              0.4444444444444444,
              "#bd3786"
             ],
             [
              0.5555555555555556,
              "#d8576b"
             ],
             [
              0.6666666666666666,
              "#ed7953"
             ],
             [
              0.7777777777777778,
              "#fb9f3a"
             ],
             [
              0.8888888888888888,
              "#fdca26"
             ],
             [
              1,
              "#f0f921"
             ]
            ],
            "type": "heatmap"
           }
          ],
          "heatmapgl": [
           {
            "colorbar": {
             "outlinewidth": 0,
             "ticks": ""
            },
            "colorscale": [
             [
              0,
              "#0d0887"
             ],
             [
              0.1111111111111111,
              "#46039f"
             ],
             [
              0.2222222222222222,
              "#7201a8"
             ],
             [
              0.3333333333333333,
              "#9c179e"
             ],
             [
              0.4444444444444444,
              "#bd3786"
             ],
             [
              0.5555555555555556,
              "#d8576b"
             ],
             [
              0.6666666666666666,
              "#ed7953"
             ],
             [
              0.7777777777777778,
              "#fb9f3a"
             ],
             [
              0.8888888888888888,
              "#fdca26"
             ],
             [
              1,
              "#f0f921"
             ]
            ],
            "type": "heatmapgl"
           }
          ],
          "histogram": [
           {
            "marker": {
             "pattern": {
              "fillmode": "overlay",
              "size": 10,
              "solidity": 0.2
             }
            },
            "type": "histogram"
           }
          ],
          "histogram2d": [
           {
            "colorbar": {
             "outlinewidth": 0,
             "ticks": ""
            },
            "colorscale": [
             [
              0,
              "#0d0887"
             ],
             [
              0.1111111111111111,
              "#46039f"
             ],
             [
              0.2222222222222222,
              "#7201a8"
             ],
             [
              0.3333333333333333,
              "#9c179e"
             ],
             [
              0.4444444444444444,
              "#bd3786"
             ],
             [
              0.5555555555555556,
              "#d8576b"
             ],
             [
              0.6666666666666666,
              "#ed7953"
             ],
             [
              0.7777777777777778,
              "#fb9f3a"
             ],
             [
              0.8888888888888888,
              "#fdca26"
             ],
             [
              1,
              "#f0f921"
             ]
            ],
            "type": "histogram2d"
           }
          ],
          "histogram2dcontour": [
           {
            "colorbar": {
             "outlinewidth": 0,
             "ticks": ""
            },
            "colorscale": [
             [
              0,
              "#0d0887"
             ],
             [
              0.1111111111111111,
              "#46039f"
             ],
             [
              0.2222222222222222,
              "#7201a8"
             ],
             [
              0.3333333333333333,
              "#9c179e"
             ],
             [
              0.4444444444444444,
              "#bd3786"
             ],
             [
              0.5555555555555556,
              "#d8576b"
             ],
             [
              0.6666666666666666,
              "#ed7953"
             ],
             [
              0.7777777777777778,
              "#fb9f3a"
             ],
             [
              0.8888888888888888,
              "#fdca26"
             ],
             [
              1,
              "#f0f921"
             ]
            ],
            "type": "histogram2dcontour"
           }
          ],
          "mesh3d": [
           {
            "colorbar": {
             "outlinewidth": 0,
             "ticks": ""
            },
            "type": "mesh3d"
           }
          ],
          "parcoords": [
           {
            "line": {
             "colorbar": {
              "outlinewidth": 0,
              "ticks": ""
             }
            },
            "type": "parcoords"
           }
          ],
          "pie": [
           {
            "automargin": true,
            "type": "pie"
           }
          ],
          "scatter": [
           {
            "fillpattern": {
             "fillmode": "overlay",
             "size": 10,
             "solidity": 0.2
            },
            "type": "scatter"
           }
          ],
          "scatter3d": [
           {
            "line": {
             "colorbar": {
              "outlinewidth": 0,
              "ticks": ""
             }
            },
            "marker": {
             "colorbar": {
              "outlinewidth": 0,
              "ticks": ""
             }
            },
            "type": "scatter3d"
           }
          ],
          "scattercarpet": [
           {
            "marker": {
             "colorbar": {
              "outlinewidth": 0,
              "ticks": ""
             }
            },
            "type": "scattercarpet"
           }
          ],
          "scattergeo": [
           {
            "marker": {
             "colorbar": {
              "outlinewidth": 0,
              "ticks": ""
             }
            },
            "type": "scattergeo"
           }
          ],
          "scattergl": [
           {
            "marker": {
             "colorbar": {
              "outlinewidth": 0,
              "ticks": ""
             }
            },
            "type": "scattergl"
           }
          ],
          "scattermapbox": [
           {
            "marker": {
             "colorbar": {
              "outlinewidth": 0,
              "ticks": ""
             }
            },
            "type": "scattermapbox"
           }
          ],
          "scatterpolar": [
           {
            "marker": {
             "colorbar": {
              "outlinewidth": 0,
              "ticks": ""
             }
            },
            "type": "scatterpolar"
           }
          ],
          "scatterpolargl": [
           {
            "marker": {
             "colorbar": {
              "outlinewidth": 0,
              "ticks": ""
             }
            },
            "type": "scatterpolargl"
           }
          ],
          "scatterternary": [
           {
            "marker": {
             "colorbar": {
              "outlinewidth": 0,
              "ticks": ""
             }
            },
            "type": "scatterternary"
           }
          ],
          "surface": [
           {
            "colorbar": {
             "outlinewidth": 0,
             "ticks": ""
            },
            "colorscale": [
             [
              0,
              "#0d0887"
             ],
             [
              0.1111111111111111,
              "#46039f"
             ],
             [
              0.2222222222222222,
              "#7201a8"
             ],
             [
              0.3333333333333333,
              "#9c179e"
             ],
             [
              0.4444444444444444,
              "#bd3786"
             ],
             [
              0.5555555555555556,
              "#d8576b"
             ],
             [
              0.6666666666666666,
              "#ed7953"
             ],
             [
              0.7777777777777778,
              "#fb9f3a"
             ],
             [
              0.8888888888888888,
              "#fdca26"
             ],
             [
              1,
              "#f0f921"
             ]
            ],
            "type": "surface"
           }
          ],
          "table": [
           {
            "cells": {
             "fill": {
              "color": "#EBF0F8"
             },
             "line": {
              "color": "white"
             }
            },
            "header": {
             "fill": {
              "color": "#C8D4E3"
             },
             "line": {
              "color": "white"
             }
            },
            "type": "table"
           }
          ]
         },
         "layout": {
          "annotationdefaults": {
           "arrowcolor": "#2a3f5f",
           "arrowhead": 0,
           "arrowwidth": 1
          },
          "autotypenumbers": "strict",
          "coloraxis": {
           "colorbar": {
            "outlinewidth": 0,
            "ticks": ""
           }
          },
          "colorscale": {
           "diverging": [
            [
             0,
             "#8e0152"
            ],
            [
             0.1,
             "#c51b7d"
            ],
            [
             0.2,
             "#de77ae"
            ],
            [
             0.3,
             "#f1b6da"
            ],
            [
             0.4,
             "#fde0ef"
            ],
            [
             0.5,
             "#f7f7f7"
            ],
            [
             0.6,
             "#e6f5d0"
            ],
            [
             0.7,
             "#b8e186"
            ],
            [
             0.8,
             "#7fbc41"
            ],
            [
             0.9,
             "#4d9221"
            ],
            [
             1,
             "#276419"
            ]
           ],
           "sequential": [
            [
             0,
             "#0d0887"
            ],
            [
             0.1111111111111111,
             "#46039f"
            ],
            [
             0.2222222222222222,
             "#7201a8"
            ],
            [
             0.3333333333333333,
             "#9c179e"
            ],
            [
             0.4444444444444444,
             "#bd3786"
            ],
            [
             0.5555555555555556,
             "#d8576b"
            ],
            [
             0.6666666666666666,
             "#ed7953"
            ],
            [
             0.7777777777777778,
             "#fb9f3a"
            ],
            [
             0.8888888888888888,
             "#fdca26"
            ],
            [
             1,
             "#f0f921"
            ]
           ],
           "sequentialminus": [
            [
             0,
             "#0d0887"
            ],
            [
             0.1111111111111111,
             "#46039f"
            ],
            [
             0.2222222222222222,
             "#7201a8"
            ],
            [
             0.3333333333333333,
             "#9c179e"
            ],
            [
             0.4444444444444444,
             "#bd3786"
            ],
            [
             0.5555555555555556,
             "#d8576b"
            ],
            [
             0.6666666666666666,
             "#ed7953"
            ],
            [
             0.7777777777777778,
             "#fb9f3a"
            ],
            [
             0.8888888888888888,
             "#fdca26"
            ],
            [
             1,
             "#f0f921"
            ]
           ]
          },
          "colorway": [
           "#636efa",
           "#EF553B",
           "#00cc96",
           "#ab63fa",
           "#FFA15A",
           "#19d3f3",
           "#FF6692",
           "#B6E880",
           "#FF97FF",
           "#FECB52"
          ],
          "font": {
           "color": "#2a3f5f"
          },
          "geo": {
           "bgcolor": "white",
           "lakecolor": "white",
           "landcolor": "#E5ECF6",
           "showlakes": true,
           "showland": true,
           "subunitcolor": "white"
          },
          "hoverlabel": {
           "align": "left"
          },
          "hovermode": "closest",
          "mapbox": {
           "style": "light"
          },
          "paper_bgcolor": "white",
          "plot_bgcolor": "#E5ECF6",
          "polar": {
           "angularaxis": {
            "gridcolor": "white",
            "linecolor": "white",
            "ticks": ""
           },
           "bgcolor": "#E5ECF6",
           "radialaxis": {
            "gridcolor": "white",
            "linecolor": "white",
            "ticks": ""
           }
          },
          "scene": {
           "xaxis": {
            "backgroundcolor": "#E5ECF6",
            "gridcolor": "white",
            "gridwidth": 2,
            "linecolor": "white",
            "showbackground": true,
            "ticks": "",
            "zerolinecolor": "white"
           },
           "yaxis": {
            "backgroundcolor": "#E5ECF6",
            "gridcolor": "white",
            "gridwidth": 2,
            "linecolor": "white",
            "showbackground": true,
            "ticks": "",
            "zerolinecolor": "white"
           },
           "zaxis": {
            "backgroundcolor": "#E5ECF6",
            "gridcolor": "white",
            "gridwidth": 2,
            "linecolor": "white",
            "showbackground": true,
            "ticks": "",
            "zerolinecolor": "white"
           }
          },
          "shapedefaults": {
           "line": {
            "color": "#2a3f5f"
           }
          },
          "ternary": {
           "aaxis": {
            "gridcolor": "white",
            "linecolor": "white",
            "ticks": ""
           },
           "baxis": {
            "gridcolor": "white",
            "linecolor": "white",
            "ticks": ""
           },
           "bgcolor": "#E5ECF6",
           "caxis": {
            "gridcolor": "white",
            "linecolor": "white",
            "ticks": ""
           }
          },
          "title": {
           "x": 0.05
          },
          "xaxis": {
           "automargin": true,
           "gridcolor": "white",
           "linecolor": "white",
           "ticks": "",
           "title": {
            "standoff": 15
           },
           "zerolinecolor": "white",
           "zerolinewidth": 2
          },
          "yaxis": {
           "automargin": true,
           "gridcolor": "white",
           "linecolor": "white",
           "ticks": "",
           "title": {
            "standoff": 15
           },
           "zerolinecolor": "white",
           "zerolinewidth": 2
          }
         }
        },
        "title": {
         "text": "Embodied emissions per year for housing in NL"
        },
        "xaxis": {
         "anchor": "y",
         "domain": [
          0,
          1
         ],
         "title": {
          "text": "year"
         }
        },
        "yaxis": {
         "anchor": "x",
         "domain": [
          0,
          1
         ],
         "title": {
          "text": "emissions_embodied_tons"
         }
        }
       }
      }
     },
     "metadata": {},
     "output_type": "display_data"
    },
    {
     "data": {
      "application/vnd.plotly.v1+json": {
       "config": {
        "plotlyServerURL": "https://plot.ly"
       },
       "data": [
        {
         "hovertemplate": "variable=cumulative_emissions<br>year=%{x}<br>value=%{y}<extra></extra>",
         "legendgroup": "cumulative_emissions",
         "line": {
          "color": "#636efa",
          "dash": "solid"
         },
         "marker": {
          "symbol": "circle"
         },
         "mode": "lines",
         "name": "cumulative_emissions",
         "orientation": "v",
         "showlegend": true,
         "type": "scatter",
         "x": [
          2011,
          2012,
          2013,
          2014,
          2015,
          2016,
          2017,
          2018,
          2019,
          2020,
          2021,
          2022
         ],
         "xaxis": "x",
         "y": [
          2946980.471,
          5678310.539,
          7848935.744999999,
          10247592.291,
          13050602.553,
          15861840.359,
          18755918.489,
          21921916.479000002,
          25171763.334000003,
          28005817.274000004,
          30925666.948000003,
          33146903.269
         ],
         "yaxis": "y"
        },
        {
         "hovertemplate": "variable=carbon_budget<br>year=%{x}<br>value=%{y}<extra></extra>",
         "legendgroup": "carbon_budget",
         "line": {
          "color": "#EF553B",
          "dash": "solid"
         },
         "marker": {
          "symbol": "circle"
         },
         "mode": "lines",
         "name": "carbon_budget",
         "orientation": "v",
         "showlegend": true,
         "type": "scatter",
         "x": [
          2011,
          2012,
          2013,
          2014,
          2015,
          2016,
          2017,
          2018,
          2019,
          2020,
          2021,
          2022
         ],
         "xaxis": "x",
         "y": [
          38053019.529,
          35321689.461,
          33151064.255000003,
          30752407.709,
          27949397.447,
          25138159.641000003,
          22244081.511,
          19078083.520999998,
          15828236.665999997,
          12994182.725999996,
          10074333.051999997,
          7853096.730999999
         ],
         "yaxis": "y"
        }
       ],
       "layout": {
        "legend": {
         "title": {
          "text": "variable"
         },
         "tracegroupgap": 0
        },
        "template": {
         "data": {
          "bar": [
           {
            "error_x": {
             "color": "#2a3f5f"
            },
            "error_y": {
             "color": "#2a3f5f"
            },
            "marker": {
             "line": {
              "color": "#E5ECF6",
              "width": 0.5
             },
             "pattern": {
              "fillmode": "overlay",
              "size": 10,
              "solidity": 0.2
             }
            },
            "type": "bar"
           }
          ],
          "barpolar": [
           {
            "marker": {
             "line": {
              "color": "#E5ECF6",
              "width": 0.5
             },
             "pattern": {
              "fillmode": "overlay",
              "size": 10,
              "solidity": 0.2
             }
            },
            "type": "barpolar"
           }
          ],
          "carpet": [
           {
            "aaxis": {
             "endlinecolor": "#2a3f5f",
             "gridcolor": "white",
             "linecolor": "white",
             "minorgridcolor": "white",
             "startlinecolor": "#2a3f5f"
            },
            "baxis": {
             "endlinecolor": "#2a3f5f",
             "gridcolor": "white",
             "linecolor": "white",
             "minorgridcolor": "white",
             "startlinecolor": "#2a3f5f"
            },
            "type": "carpet"
           }
          ],
          "choropleth": [
           {
            "colorbar": {
             "outlinewidth": 0,
             "ticks": ""
            },
            "type": "choropleth"
           }
          ],
          "contour": [
           {
            "colorbar": {
             "outlinewidth": 0,
             "ticks": ""
            },
            "colorscale": [
             [
              0,
              "#0d0887"
             ],
             [
              0.1111111111111111,
              "#46039f"
             ],
             [
              0.2222222222222222,
              "#7201a8"
             ],
             [
              0.3333333333333333,
              "#9c179e"
             ],
             [
              0.4444444444444444,
              "#bd3786"
             ],
             [
              0.5555555555555556,
              "#d8576b"
             ],
             [
              0.6666666666666666,
              "#ed7953"
             ],
             [
              0.7777777777777778,
              "#fb9f3a"
             ],
             [
              0.8888888888888888,
              "#fdca26"
             ],
             [
              1,
              "#f0f921"
             ]
            ],
            "type": "contour"
           }
          ],
          "contourcarpet": [
           {
            "colorbar": {
             "outlinewidth": 0,
             "ticks": ""
            },
            "type": "contourcarpet"
           }
          ],
          "heatmap": [
           {
            "colorbar": {
             "outlinewidth": 0,
             "ticks": ""
            },
            "colorscale": [
             [
              0,
              "#0d0887"
             ],
             [
              0.1111111111111111,
              "#46039f"
             ],
             [
              0.2222222222222222,
              "#7201a8"
             ],
             [
              0.3333333333333333,
              "#9c179e"
             ],
             [
              0.4444444444444444,
              "#bd3786"
             ],
             [
              0.5555555555555556,
              "#d8576b"
             ],
             [
              0.6666666666666666,
              "#ed7953"
             ],
             [
              0.7777777777777778,
              "#fb9f3a"
             ],
             [
              0.8888888888888888,
              "#fdca26"
             ],
             [
              1,
              "#f0f921"
             ]
            ],
            "type": "heatmap"
           }
          ],
          "heatmapgl": [
           {
            "colorbar": {
             "outlinewidth": 0,
             "ticks": ""
            },
            "colorscale": [
             [
              0,
              "#0d0887"
             ],
             [
              0.1111111111111111,
              "#46039f"
             ],
             [
              0.2222222222222222,
              "#7201a8"
             ],
             [
              0.3333333333333333,
              "#9c179e"
             ],
             [
              0.4444444444444444,
              "#bd3786"
             ],
             [
              0.5555555555555556,
              "#d8576b"
             ],
             [
              0.6666666666666666,
              "#ed7953"
             ],
             [
              0.7777777777777778,
              "#fb9f3a"
             ],
             [
              0.8888888888888888,
              "#fdca26"
             ],
             [
              1,
              "#f0f921"
             ]
            ],
            "type": "heatmapgl"
           }
          ],
          "histogram": [
           {
            "marker": {
             "pattern": {
              "fillmode": "overlay",
              "size": 10,
              "solidity": 0.2
             }
            },
            "type": "histogram"
           }
          ],
          "histogram2d": [
           {
            "colorbar": {
             "outlinewidth": 0,
             "ticks": ""
            },
            "colorscale": [
             [
              0,
              "#0d0887"
             ],
             [
              0.1111111111111111,
              "#46039f"
             ],
             [
              0.2222222222222222,
              "#7201a8"
             ],
             [
              0.3333333333333333,
              "#9c179e"
             ],
             [
              0.4444444444444444,
              "#bd3786"
             ],
             [
              0.5555555555555556,
              "#d8576b"
             ],
             [
              0.6666666666666666,
              "#ed7953"
             ],
             [
              0.7777777777777778,
              "#fb9f3a"
             ],
             [
              0.8888888888888888,
              "#fdca26"
             ],
             [
              1,
              "#f0f921"
             ]
            ],
            "type": "histogram2d"
           }
          ],
          "histogram2dcontour": [
           {
            "colorbar": {
             "outlinewidth": 0,
             "ticks": ""
            },
            "colorscale": [
             [
              0,
              "#0d0887"
             ],
             [
              0.1111111111111111,
              "#46039f"
             ],
             [
              0.2222222222222222,
              "#7201a8"
             ],
             [
              0.3333333333333333,
              "#9c179e"
             ],
             [
              0.4444444444444444,
              "#bd3786"
             ],
             [
              0.5555555555555556,
              "#d8576b"
             ],
             [
              0.6666666666666666,
              "#ed7953"
             ],
             [
              0.7777777777777778,
              "#fb9f3a"
             ],
             [
              0.8888888888888888,
              "#fdca26"
             ],
             [
              1,
              "#f0f921"
             ]
            ],
            "type": "histogram2dcontour"
           }
          ],
          "mesh3d": [
           {
            "colorbar": {
             "outlinewidth": 0,
             "ticks": ""
            },
            "type": "mesh3d"
           }
          ],
          "parcoords": [
           {
            "line": {
             "colorbar": {
              "outlinewidth": 0,
              "ticks": ""
             }
            },
            "type": "parcoords"
           }
          ],
          "pie": [
           {
            "automargin": true,
            "type": "pie"
           }
          ],
          "scatter": [
           {
            "fillpattern": {
             "fillmode": "overlay",
             "size": 10,
             "solidity": 0.2
            },
            "type": "scatter"
           }
          ],
          "scatter3d": [
           {
            "line": {
             "colorbar": {
              "outlinewidth": 0,
              "ticks": ""
             }
            },
            "marker": {
             "colorbar": {
              "outlinewidth": 0,
              "ticks": ""
             }
            },
            "type": "scatter3d"
           }
          ],
          "scattercarpet": [
           {
            "marker": {
             "colorbar": {
              "outlinewidth": 0,
              "ticks": ""
             }
            },
            "type": "scattercarpet"
           }
          ],
          "scattergeo": [
           {
            "marker": {
             "colorbar": {
              "outlinewidth": 0,
              "ticks": ""
             }
            },
            "type": "scattergeo"
           }
          ],
          "scattergl": [
           {
            "marker": {
             "colorbar": {
              "outlinewidth": 0,
              "ticks": ""
             }
            },
            "type": "scattergl"
           }
          ],
          "scattermapbox": [
           {
            "marker": {
             "colorbar": {
              "outlinewidth": 0,
              "ticks": ""
             }
            },
            "type": "scattermapbox"
           }
          ],
          "scatterpolar": [
           {
            "marker": {
             "colorbar": {
              "outlinewidth": 0,
              "ticks": ""
             }
            },
            "type": "scatterpolar"
           }
          ],
          "scatterpolargl": [
           {
            "marker": {
             "colorbar": {
              "outlinewidth": 0,
              "ticks": ""
             }
            },
            "type": "scatterpolargl"
           }
          ],
          "scatterternary": [
           {
            "marker": {
             "colorbar": {
              "outlinewidth": 0,
              "ticks": ""
             }
            },
            "type": "scatterternary"
           }
          ],
          "surface": [
           {
            "colorbar": {
             "outlinewidth": 0,
             "ticks": ""
            },
            "colorscale": [
             [
              0,
              "#0d0887"
             ],
             [
              0.1111111111111111,
              "#46039f"
             ],
             [
              0.2222222222222222,
              "#7201a8"
             ],
             [
              0.3333333333333333,
              "#9c179e"
             ],
             [
              0.4444444444444444,
              "#bd3786"
             ],
             [
              0.5555555555555556,
              "#d8576b"
             ],
             [
              0.6666666666666666,
              "#ed7953"
             ],
             [
              0.7777777777777778,
              "#fb9f3a"
             ],
             [
              0.8888888888888888,
              "#fdca26"
             ],
             [
              1,
              "#f0f921"
             ]
            ],
            "type": "surface"
           }
          ],
          "table": [
           {
            "cells": {
             "fill": {
              "color": "#EBF0F8"
             },
             "line": {
              "color": "white"
             }
            },
            "header": {
             "fill": {
              "color": "#C8D4E3"
             },
             "line": {
              "color": "white"
             }
            },
            "type": "table"
           }
          ]
         },
         "layout": {
          "annotationdefaults": {
           "arrowcolor": "#2a3f5f",
           "arrowhead": 0,
           "arrowwidth": 1
          },
          "autotypenumbers": "strict",
          "coloraxis": {
           "colorbar": {
            "outlinewidth": 0,
            "ticks": ""
           }
          },
          "colorscale": {
           "diverging": [
            [
             0,
             "#8e0152"
            ],
            [
             0.1,
             "#c51b7d"
            ],
            [
             0.2,
             "#de77ae"
            ],
            [
             0.3,
             "#f1b6da"
            ],
            [
             0.4,
             "#fde0ef"
            ],
            [
             0.5,
             "#f7f7f7"
            ],
            [
             0.6,
             "#e6f5d0"
            ],
            [
             0.7,
             "#b8e186"
            ],
            [
             0.8,
             "#7fbc41"
            ],
            [
             0.9,
             "#4d9221"
            ],
            [
             1,
             "#276419"
            ]
           ],
           "sequential": [
            [
             0,
             "#0d0887"
            ],
            [
             0.1111111111111111,
             "#46039f"
            ],
            [
             0.2222222222222222,
             "#7201a8"
            ],
            [
             0.3333333333333333,
             "#9c179e"
            ],
            [
             0.4444444444444444,
             "#bd3786"
            ],
            [
             0.5555555555555556,
             "#d8576b"
            ],
            [
             0.6666666666666666,
             "#ed7953"
            ],
            [
             0.7777777777777778,
             "#fb9f3a"
            ],
            [
             0.8888888888888888,
             "#fdca26"
            ],
            [
             1,
             "#f0f921"
            ]
           ],
           "sequentialminus": [
            [
             0,
             "#0d0887"
            ],
            [
             0.1111111111111111,
             "#46039f"
            ],
            [
             0.2222222222222222,
             "#7201a8"
            ],
            [
             0.3333333333333333,
             "#9c179e"
            ],
            [
             0.4444444444444444,
             "#bd3786"
            ],
            [
             0.5555555555555556,
             "#d8576b"
            ],
            [
             0.6666666666666666,
             "#ed7953"
            ],
            [
             0.7777777777777778,
             "#fb9f3a"
            ],
            [
             0.8888888888888888,
             "#fdca26"
            ],
            [
             1,
             "#f0f921"
            ]
           ]
          },
          "colorway": [
           "#636efa",
           "#EF553B",
           "#00cc96",
           "#ab63fa",
           "#FFA15A",
           "#19d3f3",
           "#FF6692",
           "#B6E880",
           "#FF97FF",
           "#FECB52"
          ],
          "font": {
           "color": "#2a3f5f"
          },
          "geo": {
           "bgcolor": "white",
           "lakecolor": "white",
           "landcolor": "#E5ECF6",
           "showlakes": true,
           "showland": true,
           "subunitcolor": "white"
          },
          "hoverlabel": {
           "align": "left"
          },
          "hovermode": "closest",
          "mapbox": {
           "style": "light"
          },
          "paper_bgcolor": "white",
          "plot_bgcolor": "#E5ECF6",
          "polar": {
           "angularaxis": {
            "gridcolor": "white",
            "linecolor": "white",
            "ticks": ""
           },
           "bgcolor": "#E5ECF6",
           "radialaxis": {
            "gridcolor": "white",
            "linecolor": "white",
            "ticks": ""
           }
          },
          "scene": {
           "xaxis": {
            "backgroundcolor": "#E5ECF6",
            "gridcolor": "white",
            "gridwidth": 2,
            "linecolor": "white",
            "showbackground": true,
            "ticks": "",
            "zerolinecolor": "white"
           },
           "yaxis": {
            "backgroundcolor": "#E5ECF6",
            "gridcolor": "white",
            "gridwidth": 2,
            "linecolor": "white",
            "showbackground": true,
            "ticks": "",
            "zerolinecolor": "white"
           },
           "zaxis": {
            "backgroundcolor": "#E5ECF6",
            "gridcolor": "white",
            "gridwidth": 2,
            "linecolor": "white",
            "showbackground": true,
            "ticks": "",
            "zerolinecolor": "white"
           }
          },
          "shapedefaults": {
           "line": {
            "color": "#2a3f5f"
           }
          },
          "ternary": {
           "aaxis": {
            "gridcolor": "white",
            "linecolor": "white",
            "ticks": ""
           },
           "baxis": {
            "gridcolor": "white",
            "linecolor": "white",
            "ticks": ""
           },
           "bgcolor": "#E5ECF6",
           "caxis": {
            "gridcolor": "white",
            "linecolor": "white",
            "ticks": ""
           }
          },
          "title": {
           "x": 0.05
          },
          "xaxis": {
           "automargin": true,
           "gridcolor": "white",
           "linecolor": "white",
           "ticks": "",
           "title": {
            "standoff": 15
           },
           "zerolinecolor": "white",
           "zerolinewidth": 2
          },
          "yaxis": {
           "automargin": true,
           "gridcolor": "white",
           "linecolor": "white",
           "ticks": "",
           "title": {
            "standoff": 15
           },
           "zerolinecolor": "white",
           "zerolinewidth": 2
          }
         }
        },
        "title": {
         "text": "Cumulative embodied emissions for housing in NL"
        },
        "xaxis": {
         "anchor": "y",
         "domain": [
          0,
          1
         ],
         "title": {
          "text": "year"
         }
        },
        "yaxis": {
         "anchor": "x",
         "domain": [
          0,
          1
         ],
         "title": {
          "text": "value"
         }
        }
       }
      }
     },
     "metadata": {},
     "output_type": "display_data"
    }
   ],
   "source": [
    "# get embodied emissions for housing in NL\n",
    "query = ''' \n",
    "SELECT year, SUM(emissions_embodied_tons) AS emissions_embodied_tons\n",
    "FROM emissions_embodied_housing_nl \n",
    "WHERE year >= 2011 AND year <= 2022\n",
    "GROUP BY year\n",
    "ORDER BY year\n",
    "'''\n",
    "df = pd.read_sql_query(query, engine)\n",
    "\n",
    "# calculate cumulative emissions and carbon budget\n",
    "carbon_budget = 41000000 # carbon budget for only embodied emissions. budget for all emissions is 112,000,000 tons \n",
    "df['cumulative_emissions'] = df['emissions_embodied_tons'].cumsum()\n",
    "df['carbon_budget'] = carbon_budget - df['cumulative_emissions']\n",
    "\n",
    "# line chart for embodied emissions per year\n",
    "fig = px.line(df, x='year', y='emissions_embodied_tons', title='Embodied emissions per year for housing in NL')\n",
    "fig.show()\n",
    "\n",
    "# line chart for cumulative embodied emissions and carbon budget \n",
    "fig = px.line(df, x='year', y=['cumulative_emissions', 'carbon_budget'], title='Cumulative embodied emissions for housing in NL')\n",
    "fig.show()"
   ]
  },
  {
   "cell_type": "code",
   "execution_count": 14,
   "metadata": {},
   "outputs": [
    {
     "name": "stdout",
     "output_type": "stream",
     "text": [
      "Top ten municipalities: ['Amsterdam', 'Utrecht', 'Eindhoven', \"'s-Gravenhage\", 'Rotterdam']\n",
      "Bottom ten municipalities: ['Waterland', 'Terschelling', 'Rozendaal', 'Vlieland', 'Schiermonnikoog']\n"
     ]
    },
    {
     "data": {
      "image/png": "[encoded data removed]",
      "text/plain": [
       "<Figure size 1000x1000 with 2 Axes>"
      ]
     },
     "metadata": {},
     "output_type": "display_data"
    }
   ],
   "source": [
    "# embodied emissions total\n",
    "query = ''' \n",
    "WITH emissions AS (\n",
    "\tSELECT municipality, SUM(emissions_embodied_tons) AS emissions_embodied_tons\n",
    "\tFROM emissions_embodied_housing_nl \n",
    "\tWHERE year >= 2011 AND year <= 2022 -- AND municipality = 'Delft'\n",
    "\tGROUP BY municipality\n",
    ")\n",
    "SELECT e.*, g.geom\n",
    "FROM emissions e \n",
    "JOIN nl_gemeentegebied g \n",
    "ON e.municipality = g.naam\n",
    "ORDER BY e.emissions_embodied_tons DESC\n",
    "'''\n",
    "gdf = gpd.read_postgis(query, engine)\n",
    "\n",
    "# top and bottom five municipalities \n",
    "top_five = gdf.head().municipality.tolist()\n",
    "bottom_five = gdf.tail().municipality.tolist()\n",
    "print(f'Top ten municipalities: {top_five}')\n",
    "print(f'Bottom ten municipalities: {bottom_five}')\n",
    "\n",
    "# plot on map\n",
    "fig, ax = plt.subplots(1, 1, figsize=(10, 10))\n",
    "gdf.plot(column='emissions_embodied_tons', legend=True, cmap='OrRd', ax=ax)\n",
    "gdf.head().boundary.plot(ax=ax, color='red')\n",
    "gdf.tail().boundary.plot(ax=ax, color='black')\n",
    "ax.axis('off')\n",
    "plt.show()"
   ]
  },
  {
   "cell_type": "code",
   "execution_count": 15,
   "metadata": {},
   "outputs": [
    {
     "data": {
      "application/vnd.plotly.v1+json": {
       "config": {
        "plotlyServerURL": "https://plot.ly"
       },
       "data": [
        {
         "alignmentgroup": "True",
         "hovertemplate": "emissions_embodied_tons=%{x}<br>municipality=%{y}<extra></extra>",
         "legendgroup": "",
         "marker": {
          "color": "#636efa",
          "pattern": {
           "shape": ""
          }
         },
         "name": "",
         "offsetgroup": "",
         "orientation": "h",
         "showlegend": false,
         "textposition": "auto",
         "type": "bar",
         "x": [
          1188162.839,
          734216.836,
          585660.193,
          541015.997,
          503437.232,
          472804.389,
          442196.847,
          351542.368,
          346840.066,
          344388.782,
          339372.042,
          334277.966,
          326658.609,
          308504.404,
          305117.607,
          304963.104,
          293771.703,
          290551.601,
          276622.64,
          251057.507,
          250232.417,
          247164.045,
          245036.599,
          235650.689,
          232020.963,
          228994.518,
          224508.859,
          215490.555,
          213148.043,
          211756.793,
          209893.943,
          208774.379,
          201034.114,
          192803.295,
          187737.509,
          174123.347,
          172818.38,
          171716.951,
          168745.887,
          167974.132,
          167419.143,
          166030.088,
          162248.827,
          158287.361,
          153179.66,
          152836.895,
          150597.004,
          149431.233,
          146194.298,
          145857.477,
          143938.049,
          143586.752,
          142345.715,
          141175.903,
          139076.117,
          138135.321,
          136849.216,
          135430.262,
          135393.266,
          133510.35,
          131723.607,
          129847.531,
          129190.255,
          128923.58,
          127783.176,
          127172.56,
          126889.342,
          126373.511,
          123767.818,
          122938.553,
          122830.413,
          121881.916,
          120832.967,
          119330.702,
          118436.06,
          116132.466,
          115876.111,
          115678.038,
          113287.261,
          112590.172,
          111279.5,
          109503.361,
          108082.4,
          107499.071,
          106437.506,
          105836.119,
          105011.627,
          104985.468,
          104626.784,
          104328.035,
          103803.624,
          103239.727,
          102335.586,
          102024.138,
          101414.866,
          100602.234,
          100513.383,
          100092.759,
          99925.08,
          99243.38,
          98886.91,
          98743.776,
          98587.943,
          98339.097,
          97883.728,
          97764.012,
          97563.9,
          96974.15,
          96649.84,
          96059.442,
          95912.531,
          95787.136,
          95316.985,
          94658.477,
          94033.9,
          92965.886,
          91804.333,
          91108.873,
          91060.559,
          90909.551,
          90485.809,
          90140.495,
          89429.709,
          89291.784,
          88872.626,
          88094.804,
          87854.843,
          86854.117,
          86759.91,
          85800.877,
          85773.656,
          85614.112,
          85555.71,
          85270.826,
          85134.215,
          84619.396,
          84192.049,
          83415.05,
          83334.302,
          82935.145,
          81940.509,
          81215.268,
          81130.5,
          81015.126,
          80567.038,
          80202.68,
          79588.415,
          79297.366,
          79149.975,
          79094.772,
          79081.856,
          78719.342,
          78154.086,
          77796.295,
          77445.129,
          77249.963,
          77156.625,
          76950.039,
          76872.485,
          76779.729,
          76105.175,
          75707.094,
          75585.348,
          74289.871,
          73634.724,
          73340.952,
          72239.609,
          71843.656,
          71309.406,
          71173.488,
          70095.57,
          69617.318,
          69218.427,
          69213.757,
          69171.589,
          68840.866,
          68667.063,
          68404.752,
          68349.127,
          68280.871,
          67939.314,
          67802.859,
          67282.677,
          66821.403,
          66371.7,
          66215.661,
          65901.729,
          65800.355,
          65759.094,
          65182.912,
          64843.086,
          63405.115,
          63197.031,
          62999.026,
          62531.271,
          62246.995,
          62105.84,
          61724.064,
          61134.695,
          60247.03,
          59966.046,
          59797.382,
          59549.21,
          59542.409,
          58456.322,
          58410.558,
          58012.222,
          57920.053,
          57763.213,
          57512.634,
          57344.607,
          57122.817,
          57074.852,
          57035.67,
          55953.231,
          55933.61,
          55549.596,
          55538.776,
          55173.051,
          55043.213,
          54356.26,
          54209.347,
          54185.982,
          53982.431,
          53635.643,
          53625.881,
          53336.931,
          53253.113,
          52283.657,
          51994.247,
          51982.229,
          51970.303,
          51932.033,
          51801.491,
          51078.965,
          51065.38,
          50374.115,
          50351.057,
          50309.692,
          49749.697,
          49552.788,
          49350.881,
          49165.122,
          48769.27,
          48439.527,
          48346.967,
          47729.088,
          47590.708,
          46297.681,
          46053.759,
          46040.897,
          46008.209,
          45622.445,
          45510.314,
          45353.215,
          45087.438,
          44785.107,
          44570.374,
          44247.023,
          43244.906,
          43202.722,
          42988.541,
          42261.64,
          41827.965,
          41699.042,
          41507.442,
          41471.534,
          41231.605,
          41112.635,
          40713.384,
          40326.511,
          38879.442,
          38786.024,
          37960.405,
          37370.835,
          37329.875,
          35712.142,
          35341.357,
          34813.221,
          34769.074,
          34509.069,
          34429.212,
          33941.201,
          33703.481,
          33538.817,
          32746.637,
          32076.062,
          32013.884,
          31954.246,
          31915.388,
          30923.502,
          30709.993,
          30388.312,
          30309.992,
          29275.271,
          28887.194,
          28679.219,
          28589.423,
          28442.769,
          28107.791,
          28030.452,
          26919.045,
          26752.355,
          26687.884,
          26354.064,
          26180.14,
          25450.206,
          25422.368,
          25221.398,
          25204.621,
          25059.892,
          24835.269,
          23543.083,
          22777.36,
          22376.599,
          20553.045,
          20480.398,
          19827.868,
          19781.49,
          18735.058,
          18264.292,
          17279.657,
          17062.737,
          16932.448,
          16377.005,
          16096.291,
          14449.183,
          11845.268,
          11604.93,
          11120.824,
          10916.064,
          10309.946,
          10059.668,
          6328.464,
          3911.035,
          2560.41
         ],
         "xaxis": "x",
         "y": [
          "Amsterdam",
          "Utrecht",
          "Eindhoven",
          "'s-Gravenhage",
          "Rotterdam",
          "Tilburg",
          "Almere",
          "Groningen",
          "Ede",
          "Breda",
          "Apeldoorn",
          "Arnhem",
          "Nijmegen",
          "Amersfoort",
          "'s-Hertogenbosch",
          "Haarlemmermeer",
          "Zwolle",
          "Enschede",
          "Leeuwarden",
          "Helmond",
          "Oss",
          "Meierijstad",
          "Land van Cuijk",
          "Zeist",
          "Katwijk",
          "Dijk en Waard",
          "Westland",
          "Zaanstad",
          "Barneveld",
          "Emmen",
          "Weert",
          "Leiden",
          "Alphen aan den Rijn",
          "Vijfheerenlanden",
          "Haarlem",
          "Purmerend",
          "Delft",
          "Amstelveen",
          "Vlaardingen",
          "Horst aan de Maas",
          "Maastricht",
          "Súdwest-Fryslân",
          "Pijnacker-Nootdorp",
          "Hardenberg",
          "Maashorst",
          "Zuidplas",
          "Oosterhout",
          "Hoeksche Waard",
          "Sittard-Geleen",
          "Westerkwartier",
          "Hoogeveen",
          "Venlo",
          "Bergen op Zoom",
          "Gouda",
          "Waddinxveen",
          "Deurne",
          "Peel en Maas",
          "Dordrecht",
          "Berkelland",
          "Noordwijk",
          "De Bilt",
          "Zoetermeer",
          "Hilversum",
          "Goeree-Overflakkee",
          "Heerenveen",
          "Lelystad",
          "Hoorn",
          "Eemsdelta",
          "Lansingerland",
          "Noordoostpolder",
          "Roermond",
          "Almelo",
          "Altena",
          "Dronten",
          "West Betuwe",
          "Heusden",
          "Krimpenerwaard",
          "Oisterwijk",
          "Beekdaelen",
          "Assen",
          "Kerkrade",
          "Schiedam",
          "Venray",
          "Berg en Dal",
          "De Ronde Venen",
          "Heerlen",
          "Bernheze",
          "Stichtse Vecht",
          "Deventer",
          "Etten-Leur",
          "Bronckhorst",
          "Woerden",
          "Bodegraven-Reeuwijk",
          "Nissewaard",
          "Doetinchem",
          "Veenendaal",
          "Gorinchem",
          "Zutphen",
          "Montferland",
          "Moerdijk",
          "Schagen",
          "Molenlanden",
          "Maassluis",
          "Waalwijk",
          "Harderwijk",
          "De Fryske Marren",
          "Het Hogeland",
          "Noardeast-Fryslân",
          "Veldhoven",
          "Sint-Michielsgestel",
          "Overbetuwe",
          "Diemen",
          "Kaag en Braassem",
          "Best",
          "Edam-Volendam",
          "Nieuwegein",
          "Smallingerland",
          "Rijssen-Holten",
          "Midden-Groningen",
          "Oost Gelre",
          "Raalte",
          "Hof van Twente",
          "Soest",
          "Goes",
          "Stadskanaal",
          "Hollands Kroon",
          "Gemert-Bakel",
          "Bladel",
          "Terneuzen",
          "Eijsden-Margraten",
          "Capelle aan den IJssel",
          "Dalfsen",
          "Vught",
          "Oldebroek",
          "Roosendaal",
          "Medemblik",
          "Valkenswaard",
          "Lochem",
          "Voorne aan Zee",
          "Houten",
          "Wageningen",
          "Velsen",
          "Leudal",
          "Borne",
          "Someren",
          "Blaricum",
          "Landgraaf",
          "Nuenen, Gerwen en Nederwetten",
          "Eersel",
          "Heeze-Leende",
          "Utrechtse Heuvelrug",
          "Nieuwkoop",
          "Zaltbommel",
          "West Maas en Waal",
          "Bergen (NH.)",
          "Wijchen",
          "Zevenaar",
          "Lingewaard",
          "Culemborg",
          "Steenwijkerland",
          "Bergeijk",
          "Beverwijk",
          "Castricum",
          "Wijk bij Duurstede",
          "Meppel",
          "Putten",
          "Hilvarenbeek",
          "Leidschendam-Voorburg",
          "Hattem",
          "Westerwolde",
          "Waadhoeke",
          "Geldrop-Mierlo",
          "Oegstgeest",
          "Hendrik-Ido-Ambacht",
          "Boxtel",
          "Dinkelland",
          "Ridderkerk",
          "Gooise Meren",
          "Tiel",
          "Uithoorn",
          "Schouwen-Duiveland",
          "Wassenaar",
          "Dongen",
          "Druten",
          "Buren",
          "Coevorden",
          "Oldambt",
          "Losser",
          "Nijkerk",
          "Midden-Delfland",
          "Voorst",
          "Laarbeek",
          "Oude IJsselstreek",
          "Bunschoten",
          "Tytsjerksteradiel",
          "Borger-Odoorn",
          "Twenterand",
          "Reimerswaal",
          "Den Helder",
          "Neder-Betuwe",
          "Oirschot",
          "Zeewolde",
          "Drimmelen",
          "Staphorst",
          "Heiloo",
          "Vlissingen",
          "Hellendoorn",
          "Opsterland",
          "Midden-Drenthe",
          "Gilze en Rijen",
          "Aalsmeer",
          "Nederweert",
          "Ermelo",
          "Tubbergen",
          "Rheden",
          "De Wolden",
          "Epe",
          "Noordenveld",
          "Bloemendaal",
          "Alkmaar",
          "Maasdriel",
          "Halderberge",
          "Nunspeet",
          "Aalten",
          "Tynaarlo",
          "Ommen",
          "Haaksbergen",
          "Cranendonck",
          "Hulst",
          "Gulpen-Wittem",
          "Aa en Hunze",
          "Maasgouw",
          "Beuningen",
          "Asten",
          "Zwartewaterland",
          "Loon op Zand",
          "Voerendaal",
          "Texel",
          "Meerssen",
          "Winterswijk",
          "Brunssum",
          "Tholen",
          "Boekel",
          "Olst-Wijhe",
          "Elburg",
          "Krimpen aan den IJssel",
          "Reusel-De Mierden",
          "Rucphen",
          "Oldenzaal",
          "Echt-Susteren",
          "Weststellingwerf",
          "IJsselstein",
          "Achtkarspelen",
          "Wijdemeren",
          "Heerde",
          "Drechterland",
          "Borsele",
          "Renkum",
          "Sliedrecht",
          "Urk",
          "Hillegom",
          "Leusden",
          "Stede Broec",
          "Heemskerk",
          "Bunnik",
          "Brummen",
          "Gennep",
          "Koggenland",
          "Zundert",
          "Rhenen",
          "Sluis",
          "Kampen",
          "Woensdrecht",
          "Barendrecht",
          "Zoeterwoude",
          "Wierden",
          "Goirle",
          "Heemstede",
          "Papendrecht",
          "Son en Breugel",
          "Valkenburg aan de Geul",
          "Baarn",
          "Westerveld",
          "Veere",
          "Ooststellingwerf",
          "Steenbergen",
          "Zwijndrecht",
          "Alphen-Chaam",
          "Waalre",
          "Opmeer",
          "Scherpenzeel",
          "Simpelveld",
          "Lisse",
          "Teylingen",
          "Dantumadiel",
          "Landsmeer",
          "Vaals",
          "Voorschoten",
          "Beesel",
          "Heumen",
          "Huizen",
          "Oudewater",
          "Veendam",
          "Harlingen",
          "Noord-Beveland",
          "Eemnes",
          "Roerdalen",
          "Duiven",
          "Kapelle",
          "Bergen (L.)",
          "Lopik",
          "Hardinxveld-Giessendam",
          "Alblasserdam",
          "Leiderdorp",
          "Woudenberg",
          "Enkhuizen",
          "Baarle-Nassau",
          "Ouder-Amstel",
          "Mook en Middelaar",
          "Renswoude",
          "Wormerland",
          "Westervoort",
          "Uitgeest",
          "Albrandswaard",
          "Zandvoort",
          "Geertruidenberg",
          "Pekela",
          "Ameland",
          "Doesburg",
          "Oostzaan",
          "Montfoort",
          "Waterland",
          "Terschelling",
          "Rozendaal",
          "Vlieland",
          "Schiermonnikoog"
         ],
         "yaxis": "y"
        }
       ],
       "layout": {
        "barmode": "relative",
        "height": 800,
        "legend": {
         "tracegroupgap": 0
        },
        "template": {
         "data": {
          "bar": [
           {
            "error_x": {
             "color": "#2a3f5f"
            },
            "error_y": {
             "color": "#2a3f5f"
            },
            "marker": {
             "line": {
              "color": "#E5ECF6",
              "width": 0.5
             },
             "pattern": {
              "fillmode": "overlay",
              "size": 10,
              "solidity": 0.2
             }
            },
            "type": "bar"
           }
          ],
          "barpolar": [
           {
            "marker": {
             "line": {
              "color": "#E5ECF6",
              "width": 0.5
             },
             "pattern": {
              "fillmode": "overlay",
              "size": 10,
              "solidity": 0.2
             }
            },
            "type": "barpolar"
           }
          ],
          "carpet": [
           {
            "aaxis": {
             "endlinecolor": "#2a3f5f",
             "gridcolor": "white",
             "linecolor": "white",
             "minorgridcolor": "white",
             "startlinecolor": "#2a3f5f"
            },
            "baxis": {
             "endlinecolor": "#2a3f5f",
             "gridcolor": "white",
             "linecolor": "white",
             "minorgridcolor": "white",
             "startlinecolor": "#2a3f5f"
            },
            "type": "carpet"
           }
          ],
          "choropleth": [
           {
            "colorbar": {
             "outlinewidth": 0,
             "ticks": ""
            },
            "type": "choropleth"
           }
          ],
          "contour": [
           {
            "colorbar": {
             "outlinewidth": 0,
             "ticks": ""
            },
            "colorscale": [
             [
              0,
              "#0d0887"
             ],
             [
              0.1111111111111111,
              "#46039f"
             ],
             [
              0.2222222222222222,
              "#7201a8"
             ],
             [
              0.3333333333333333,
              "#9c179e"
             ],
             [
              0.4444444444444444,
              "#bd3786"
             ],
             [
              0.5555555555555556,
              "#d8576b"
             ],
             [
              0.6666666666666666,
              "#ed7953"
             ],
             [
              0.7777777777777778,
              "#fb9f3a"
             ],
             [
              0.8888888888888888,
              "#fdca26"
             ],
             [
              1,
              "#f0f921"
             ]
            ],
            "type": "contour"
           }
          ],
          "contourcarpet": [
           {
            "colorbar": {
             "outlinewidth": 0,
             "ticks": ""
            },
            "type": "contourcarpet"
           }
          ],
          "heatmap": [
           {
            "colorbar": {
             "outlinewidth": 0,
             "ticks": ""
            },
            "colorscale": [
             [
              0,
              "#0d0887"
             ],
             [
              0.1111111111111111,
              "#46039f"
             ],
             [
              0.2222222222222222,
              "#7201a8"
             ],
             [
              0.3333333333333333,
              "#9c179e"
             ],
             [
              0.4444444444444444,
              "#bd3786"
             ],
             [
              0.5555555555555556,
              "#d8576b"
             ],
             [
              0.6666666666666666,
              "#ed7953"
             ],
             [
              0.7777777777777778,
              "#fb9f3a"
             ],
             [
              0.8888888888888888,
              "#fdca26"
             ],
             [
              1,
              "#f0f921"
             ]
            ],
            "type": "heatmap"
           }
          ],
          "heatmapgl": [
           {
            "colorbar": {
             "outlinewidth": 0,
             "ticks": ""
            },
            "colorscale": [
             [
              0,
              "#0d0887"
             ],
             [
              0.1111111111111111,
              "#46039f"
             ],
             [
              0.2222222222222222,
              "#7201a8"
             ],
             [
              0.3333333333333333,
              "#9c179e"
             ],
             [
              0.4444444444444444,
              "#bd3786"
             ],
             [
              0.5555555555555556,
              "#d8576b"
             ],
             [
              0.6666666666666666,
              "#ed7953"
             ],
             [
              0.7777777777777778,
              "#fb9f3a"
             ],
             [
              0.8888888888888888,
              "#fdca26"
             ],
             [
              1,
              "#f0f921"
             ]
            ],
            "type": "heatmapgl"
           }
          ],
          "histogram": [
           {
            "marker": {
             "pattern": {
              "fillmode": "overlay",
              "size": 10,
              "solidity": 0.2
             }
            },
            "type": "histogram"
           }
          ],
          "histogram2d": [
           {
            "colorbar": {
             "outlinewidth": 0,
             "ticks": ""
            },
            "colorscale": [
             [
              0,
              "#0d0887"
             ],
             [
              0.1111111111111111,
              "#46039f"
             ],
             [
              0.2222222222222222,
              "#7201a8"
             ],
             [
              0.3333333333333333,
              "#9c179e"
             ],
             [
              0.4444444444444444,
              "#bd3786"
             ],
             [
              0.5555555555555556,
              "#d8576b"
             ],
             [
              0.6666666666666666,
              "#ed7953"
             ],
             [
              0.7777777777777778,
              "#fb9f3a"
             ],
             [
              0.8888888888888888,
              "#fdca26"
             ],
             [
              1,
              "#f0f921"
             ]
            ],
            "type": "histogram2d"
           }
          ],
          "histogram2dcontour": [
           {
            "colorbar": {
             "outlinewidth": 0,
             "ticks": ""
            },
            "colorscale": [
             [
              0,
              "#0d0887"
             ],
             [
              0.1111111111111111,
              "#46039f"
             ],
             [
              0.2222222222222222,
              "#7201a8"
             ],
             [
              0.3333333333333333,
              "#9c179e"
             ],
             [
              0.4444444444444444,
              "#bd3786"
             ],
             [
              0.5555555555555556,
              "#d8576b"
             ],
             [
              0.6666666666666666,
              "#ed7953"
             ],
             [
              0.7777777777777778,
              "#fb9f3a"
             ],
             [
              0.8888888888888888,
              "#fdca26"
             ],
             [
              1,
              "#f0f921"
             ]
            ],
            "type": "histogram2dcontour"
           }
          ],
          "mesh3d": [
           {
            "colorbar": {
             "outlinewidth": 0,
             "ticks": ""
            },
            "type": "mesh3d"
           }
          ],
          "parcoords": [
           {
            "line": {
             "colorbar": {
              "outlinewidth": 0,
              "ticks": ""
             }
            },
            "type": "parcoords"
           }
          ],
          "pie": [
           {
            "automargin": true,
            "type": "pie"
           }
          ],
          "scatter": [
           {
            "fillpattern": {
             "fillmode": "overlay",
             "size": 10,
             "solidity": 0.2
            },
            "type": "scatter"
           }
          ],
          "scatter3d": [
           {
            "line": {
             "colorbar": {
              "outlinewidth": 0,
              "ticks": ""
             }
            },
            "marker": {
             "colorbar": {
              "outlinewidth": 0,
              "ticks": ""
             }
            },
            "type": "scatter3d"
           }
          ],
          "scattercarpet": [
           {
            "marker": {
             "colorbar": {
              "outlinewidth": 0,
              "ticks": ""
             }
            },
            "type": "scattercarpet"
           }
          ],
          "scattergeo": [
           {
            "marker": {
             "colorbar": {
              "outlinewidth": 0,
              "ticks": ""
             }
            },
            "type": "scattergeo"
           }
          ],
          "scattergl": [
           {
            "marker": {
             "colorbar": {
              "outlinewidth": 0,
              "ticks": ""
             }
            },
            "type": "scattergl"
           }
          ],
          "scattermapbox": [
           {
            "marker": {
             "colorbar": {
              "outlinewidth": 0,
              "ticks": ""
             }
            },
            "type": "scattermapbox"
           }
          ],
          "scatterpolar": [
           {
            "marker": {
             "colorbar": {
              "outlinewidth": 0,
              "ticks": ""
             }
            },
            "type": "scatterpolar"
           }
          ],
          "scatterpolargl": [
           {
            "marker": {
             "colorbar": {
              "outlinewidth": 0,
              "ticks": ""
             }
            },
            "type": "scatterpolargl"
           }
          ],
          "scatterternary": [
           {
            "marker": {
             "colorbar": {
              "outlinewidth": 0,
              "ticks": ""
             }
            },
            "type": "scatterternary"
           }
          ],
          "surface": [
           {
            "colorbar": {
             "outlinewidth": 0,
             "ticks": ""
            },
            "colorscale": [
             [
              0,
              "#0d0887"
             ],
             [
              0.1111111111111111,
              "#46039f"
             ],
             [
              0.2222222222222222,
              "#7201a8"
             ],
             [
              0.3333333333333333,
              "#9c179e"
             ],
             [
              0.4444444444444444,
              "#bd3786"
             ],
             [
              0.5555555555555556,
              "#d8576b"
             ],
             [
              0.6666666666666666,
              "#ed7953"
             ],
             [
              0.7777777777777778,
              "#fb9f3a"
             ],
             [
              0.8888888888888888,
              "#fdca26"
             ],
             [
              1,
              "#f0f921"
             ]
            ],
            "type": "surface"
           }
          ],
          "table": [
           {
            "cells": {
             "fill": {
              "color": "#EBF0F8"
             },
             "line": {
              "color": "white"
             }
            },
            "header": {
             "fill": {
              "color": "#C8D4E3"
             },
             "line": {
              "color": "white"
             }
            },
            "type": "table"
           }
          ]
         },
         "layout": {
          "annotationdefaults": {
           "arrowcolor": "#2a3f5f",
           "arrowhead": 0,
           "arrowwidth": 1
          },
          "autotypenumbers": "strict",
          "coloraxis": {
           "colorbar": {
            "outlinewidth": 0,
            "ticks": ""
           }
          },
          "colorscale": {
           "diverging": [
            [
             0,
             "#8e0152"
            ],
            [
             0.1,
             "#c51b7d"
            ],
            [
             0.2,
             "#de77ae"
            ],
            [
             0.3,
             "#f1b6da"
            ],
            [
             0.4,
             "#fde0ef"
            ],
            [
             0.5,
             "#f7f7f7"
            ],
            [
             0.6,
             "#e6f5d0"
            ],
            [
             0.7,
             "#b8e186"
            ],
            [
             0.8,
             "#7fbc41"
            ],
            [
             0.9,
             "#4d9221"
            ],
            [
             1,
             "#276419"
            ]
           ],
           "sequential": [
            [
             0,
             "#0d0887"
            ],
            [
             0.1111111111111111,
             "#46039f"
            ],
            [
             0.2222222222222222,
             "#7201a8"
            ],
            [
             0.3333333333333333,
             "#9c179e"
            ],
            [
             0.4444444444444444,
             "#bd3786"
            ],
            [
             0.5555555555555556,
             "#d8576b"
            ],
            [
             0.6666666666666666,
             "#ed7953"
            ],
            [
             0.7777777777777778,
             "#fb9f3a"
            ],
            [
             0.8888888888888888,
             "#fdca26"
            ],
            [
             1,
             "#f0f921"
            ]
           ],
           "sequentialminus": [
            [
             0,
             "#0d0887"
            ],
            [
             0.1111111111111111,
             "#46039f"
            ],
            [
             0.2222222222222222,
             "#7201a8"
            ],
            [
             0.3333333333333333,
             "#9c179e"
            ],
            [
             0.4444444444444444,
             "#bd3786"
            ],
            [
             0.5555555555555556,
             "#d8576b"
            ],
            [
             0.6666666666666666,
             "#ed7953"
            ],
            [
             0.7777777777777778,
             "#fb9f3a"
            ],
            [
             0.8888888888888888,
             "#fdca26"
            ],
            [
             1,
             "#f0f921"
            ]
           ]
          },
          "colorway": [
           "#636efa",
           "#EF553B",
           "#00cc96",
           "#ab63fa",
           "#FFA15A",
           "#19d3f3",
           "#FF6692",
           "#B6E880",
           "#FF97FF",
           "#FECB52"
          ],
          "font": {
           "color": "#2a3f5f"
          },
          "geo": {
           "bgcolor": "white",
           "lakecolor": "white",
           "landcolor": "#E5ECF6",
           "showlakes": true,
           "showland": true,
           "subunitcolor": "white"
          },
          "hoverlabel": {
           "align": "left"
          },
          "hovermode": "closest",
          "mapbox": {
           "style": "light"
          },
          "paper_bgcolor": "white",
          "plot_bgcolor": "#E5ECF6",
          "polar": {
           "angularaxis": {
            "gridcolor": "white",
            "linecolor": "white",
            "ticks": ""
           },
           "bgcolor": "#E5ECF6",
           "radialaxis": {
            "gridcolor": "white",
            "linecolor": "white",
            "ticks": ""
           }
          },
          "scene": {
           "xaxis": {
            "backgroundcolor": "#E5ECF6",
            "gridcolor": "white",
            "gridwidth": 2,
            "linecolor": "white",
            "showbackground": true,
            "ticks": "",
            "zerolinecolor": "white"
           },
           "yaxis": {
            "backgroundcolor": "#E5ECF6",
            "gridcolor": "white",
            "gridwidth": 2,
            "linecolor": "white",
            "showbackground": true,
            "ticks": "",
            "zerolinecolor": "white"
           },
           "zaxis": {
            "backgroundcolor": "#E5ECF6",
            "gridcolor": "white",
            "gridwidth": 2,
            "linecolor": "white",
            "showbackground": true,
            "ticks": "",
            "zerolinecolor": "white"
           }
          },
          "shapedefaults": {
           "line": {
            "color": "#2a3f5f"
           }
          },
          "ternary": {
           "aaxis": {
            "gridcolor": "white",
            "linecolor": "white",
            "ticks": ""
           },
           "baxis": {
            "gridcolor": "white",
            "linecolor": "white",
            "ticks": ""
           },
           "bgcolor": "#E5ECF6",
           "caxis": {
            "gridcolor": "white",
            "linecolor": "white",
            "ticks": ""
           }
          },
          "title": {
           "x": 0.05
          },
          "xaxis": {
           "automargin": true,
           "gridcolor": "white",
           "linecolor": "white",
           "ticks": "",
           "title": {
            "standoff": 15
           },
           "zerolinecolor": "white",
           "zerolinewidth": 2
          },
          "yaxis": {
           "automargin": true,
           "gridcolor": "white",
           "linecolor": "white",
           "ticks": "",
           "title": {
            "standoff": 15
           },
           "zerolinecolor": "white",
           "zerolinewidth": 2
          }
         }
        },
        "title": {
         "text": "Embodied emissions per municipality for housing in NL"
        },
        "width": 800,
        "xaxis": {
         "anchor": "y",
         "domain": [
          0,
          1
         ],
         "title": {
          "text": "emissions_embodied_tons"
         }
        },
        "yaxis": {
         "anchor": "x",
         "domain": [
          0,
          1
         ],
         "title": {
          "text": "municipality"
         }
        }
       }
      }
     },
     "metadata": {},
     "output_type": "display_data"
    }
   ],
   "source": [
    "# horizontal bar chart for embodied emissions per municipality\n",
    "fig = px.bar(gdf, x='emissions_embodied_tons', y='municipality', title='Embodied emissions per municipality for housing in NL')\n",
    "fig.update_layout(width=800, height=800)\n",
    "fig.show()"
   ]
  },
  {
   "cell_type": "code",
   "execution_count": 9,
   "metadata": {},
   "outputs": [
    {
     "data": {
      "application/vnd.plotly.v1+json": {
       "config": {
        "plotlyServerURL": "https://plot.ly"
       },
       "data": [
        {
         "alignmentgroup": "True",
         "hovertemplate": "status=Verbouwing pand<br>municipality=%{x}<br>emissions_embodied_tons=%{y}<extra></extra>",
         "legendgroup": "Verbouwing pand",
         "marker": {
          "color": "#636efa",
          "pattern": {
           "shape": ""
          }
         },
         "name": "Verbouwing pand",
         "offsetgroup": "Verbouwing pand",
         "orientation": "v",
         "showlegend": true,
         "textposition": "auto",
         "type": "bar",
         "x": [
          "'s-Gravenhage",
          "Amsterdam",
          "Eindhoven",
          "Tilburg",
          "Utrecht"
         ],
         "xaxis": "x",
         "y": [
          120710.898,
          217030.086,
          147809.466,
          26113.374,
          153373.248
         ],
         "yaxis": "y"
        },
        {
         "alignmentgroup": "True",
         "hovertemplate": "status=Pand gesloopt<br>municipality=%{x}<br>emissions_embodied_tons=%{y}<extra></extra>",
         "legendgroup": "Pand gesloopt",
         "marker": {
          "color": "#EF553B",
          "pattern": {
           "shape": ""
          }
         },
         "name": "Pand gesloopt",
         "offsetgroup": "Pand gesloopt",
         "orientation": "v",
         "showlegend": true,
         "textposition": "auto",
         "type": "bar",
         "x": [
          "'s-Gravenhage",
          "Amsterdam",
          "Eindhoven",
          "Tilburg",
          "Utrecht"
         ],
         "xaxis": "x",
         "y": [
          56612.633,
          67764.851,
          69909.994,
          67466.938,
          37996.805
         ],
         "yaxis": "y"
        },
        {
         "alignmentgroup": "True",
         "hovertemplate": "status=Bouw gestart<br>municipality=%{x}<br>emissions_embodied_tons=%{y}<extra></extra>",
         "legendgroup": "Bouw gestart",
         "marker": {
          "color": "#00cc96",
          "pattern": {
           "shape": ""
          }
         },
         "name": "Bouw gestart",
         "offsetgroup": "Bouw gestart",
         "orientation": "v",
         "showlegend": true,
         "textposition": "auto",
         "type": "bar",
         "x": [
          "'s-Gravenhage",
          "Amsterdam",
          "Eindhoven",
          "Tilburg",
          "Utrecht"
         ],
         "xaxis": "x",
         "y": [
          368380.792,
          915583.772,
          373670.948,
          400474.384,
          560839.644
         ],
         "yaxis": "y"
        }
       ],
       "layout": {
        "barmode": "group",
        "legend": {
         "title": {
          "text": "status"
         },
         "tracegroupgap": 0
        },
        "template": {
         "data": {
          "bar": [
           {
            "error_x": {
             "color": "#2a3f5f"
            },
            "error_y": {
             "color": "#2a3f5f"
            },
            "marker": {
             "line": {
              "color": "#E5ECF6",
              "width": 0.5
             },
             "pattern": {
              "fillmode": "overlay",
              "size": 10,
              "solidity": 0.2
             }
            },
            "type": "bar"
           }
          ],
          "barpolar": [
           {
            "marker": {
             "line": {
              "color": "#E5ECF6",
              "width": 0.5
             },
             "pattern": {
              "fillmode": "overlay",
              "size": 10,
              "solidity": 0.2
             }
            },
            "type": "barpolar"
           }
          ],
          "carpet": [
           {
            "aaxis": {
             "endlinecolor": "#2a3f5f",
             "gridcolor": "white",
             "linecolor": "white",
             "minorgridcolor": "white",
             "startlinecolor": "#2a3f5f"
            },
            "baxis": {
             "endlinecolor": "#2a3f5f",
             "gridcolor": "white",
             "linecolor": "white",
             "minorgridcolor": "white",
             "startlinecolor": "#2a3f5f"
            },
            "type": "carpet"
           }
          ],
          "choropleth": [
           {
            "colorbar": {
             "outlinewidth": 0,
             "ticks": ""
            },
            "type": "choropleth"
           }
          ],
          "contour": [
           {
            "colorbar": {
             "outlinewidth": 0,
             "ticks": ""
            },
            "colorscale": [
             [
              0,
              "#0d0887"
             ],
             [
              0.1111111111111111,
              "#46039f"
             ],
             [
              0.2222222222222222,
              "#7201a8"
             ],
             [
              0.3333333333333333,
              "#9c179e"
             ],
             [
              0.4444444444444444,
              "#bd3786"
             ],
             [
              0.5555555555555556,
              "#d8576b"
             ],
             [
              0.6666666666666666,
              "#ed7953"
             ],
             [
              0.7777777777777778,
              "#fb9f3a"
             ],
             [
              0.8888888888888888,
              "#fdca26"
             ],
             [
              1,
              "#f0f921"
             ]
            ],
            "type": "contour"
           }
          ],
          "contourcarpet": [
           {
            "colorbar": {
             "outlinewidth": 0,
             "ticks": ""
            },
            "type": "contourcarpet"
           }
          ],
          "heatmap": [
           {
            "colorbar": {
             "outlinewidth": 0,
             "ticks": ""
            },
            "colorscale": [
             [
              0,
              "#0d0887"
             ],
             [
              0.1111111111111111,
              "#46039f"
             ],
             [
              0.2222222222222222,
              "#7201a8"
             ],
             [
              0.3333333333333333,
              "#9c179e"
             ],
             [
              0.4444444444444444,
              "#bd3786"
             ],
             [
              0.5555555555555556,
              "#d8576b"
             ],
             [
              0.6666666666666666,
              "#ed7953"
             ],
             [
              0.7777777777777778,
              "#fb9f3a"
             ],
             [
              0.8888888888888888,
              "#fdca26"
             ],
             [
              1,
              "#f0f921"
             ]
            ],
            "type": "heatmap"
           }
          ],
          "heatmapgl": [
           {
            "colorbar": {
             "outlinewidth": 0,
             "ticks": ""
            },
            "colorscale": [
             [
              0,
              "#0d0887"
             ],
             [
              0.1111111111111111,
              "#46039f"
             ],
             [
              0.2222222222222222,
              "#7201a8"
             ],
             [
              0.3333333333333333,
              "#9c179e"
             ],
             [
              0.4444444444444444,
              "#bd3786"
             ],
             [
              0.5555555555555556,
              "#d8576b"
             ],
             [
              0.6666666666666666,
              "#ed7953"
             ],
             [
              0.7777777777777778,
              "#fb9f3a"
             ],
             [
              0.8888888888888888,
              "#fdca26"
             ],
             [
              1,
              "#f0f921"
             ]
            ],
            "type": "heatmapgl"
           }
          ],
          "histogram": [
           {
            "marker": {
             "pattern": {
              "fillmode": "overlay",
              "size": 10,
              "solidity": 0.2
             }
            },
            "type": "histogram"
           }
          ],
          "histogram2d": [
           {
            "colorbar": {
             "outlinewidth": 0,
             "ticks": ""
            },
            "colorscale": [
             [
              0,
              "#0d0887"
             ],
             [
              0.1111111111111111,
              "#46039f"
             ],
             [
              0.2222222222222222,
              "#7201a8"
             ],
             [
              0.3333333333333333,
              "#9c179e"
             ],
             [
              0.4444444444444444,
              "#bd3786"
             ],
             [
              0.5555555555555556,
              "#d8576b"
             ],
             [
              0.6666666666666666,
              "#ed7953"
             ],
             [
              0.7777777777777778,
              "#fb9f3a"
             ],
             [
              0.8888888888888888,
              "#fdca26"
             ],
             [
              1,
              "#f0f921"
             ]
            ],
            "type": "histogram2d"
           }
          ],
          "histogram2dcontour": [
           {
            "colorbar": {
             "outlinewidth": 0,
             "ticks": ""
            },
            "colorscale": [
             [
              0,
              "#0d0887"
             ],
             [
              0.1111111111111111,
              "#46039f"
             ],
             [
              0.2222222222222222,
              "#7201a8"
             ],
             [
              0.3333333333333333,
              "#9c179e"
             ],
             [
              0.4444444444444444,
              "#bd3786"
             ],
             [
              0.5555555555555556,
              "#d8576b"
             ],
             [
              0.6666666666666666,
              "#ed7953"
             ],
             [
              0.7777777777777778,
              "#fb9f3a"
             ],
             [
              0.8888888888888888,
              "#fdca26"
             ],
             [
              1,
              "#f0f921"
             ]
            ],
            "type": "histogram2dcontour"
           }
          ],
          "mesh3d": [
           {
            "colorbar": {
             "outlinewidth": 0,
             "ticks": ""
            },
            "type": "mesh3d"
           }
          ],
          "parcoords": [
           {
            "line": {
             "colorbar": {
              "outlinewidth": 0,
              "ticks": ""
             }
            },
            "type": "parcoords"
           }
          ],
          "pie": [
           {
            "automargin": true,
            "type": "pie"
           }
          ],
          "scatter": [
           {
            "fillpattern": {
             "fillmode": "overlay",
             "size": 10,
             "solidity": 0.2
            },
            "type": "scatter"
           }
          ],
          "scatter3d": [
           {
            "line": {
             "colorbar": {
              "outlinewidth": 0,
              "ticks": ""
             }
            },
            "marker": {
             "colorbar": {
              "outlinewidth": 0,
              "ticks": ""
             }
            },
            "type": "scatter3d"
           }
          ],
          "scattercarpet": [
           {
            "marker": {
             "colorbar": {
              "outlinewidth": 0,
              "ticks": ""
             }
            },
            "type": "scattercarpet"
           }
          ],
          "scattergeo": [
           {
            "marker": {
             "colorbar": {
              "outlinewidth": 0,
              "ticks": ""
             }
            },
            "type": "scattergeo"
           }
          ],
          "scattergl": [
           {
            "marker": {
             "colorbar": {
              "outlinewidth": 0,
              "ticks": ""
             }
            },
            "type": "scattergl"
           }
          ],
          "scattermapbox": [
           {
            "marker": {
             "colorbar": {
              "outlinewidth": 0,
              "ticks": ""
             }
            },
            "type": "scattermapbox"
           }
          ],
          "scatterpolar": [
           {
            "marker": {
             "colorbar": {
              "outlinewidth": 0,
              "ticks": ""
             }
            },
            "type": "scatterpolar"
           }
          ],
          "scatterpolargl": [
           {
            "marker": {
             "colorbar": {
              "outlinewidth": 0,
              "ticks": ""
             }
            },
            "type": "scatterpolargl"
           }
          ],
          "scatterternary": [
           {
            "marker": {
             "colorbar": {
              "outlinewidth": 0,
              "ticks": ""
             }
            },
            "type": "scatterternary"
           }
          ],
          "surface": [
           {
            "colorbar": {
             "outlinewidth": 0,
             "ticks": ""
            },
            "colorscale": [
             [
              0,
              "#0d0887"
             ],
             [
              0.1111111111111111,
              "#46039f"
             ],
             [
              0.2222222222222222,
              "#7201a8"
             ],
             [
              0.3333333333333333,
              "#9c179e"
             ],
             [
              0.4444444444444444,
              "#bd3786"
             ],
             [
              0.5555555555555556,
              "#d8576b"
             ],
             [
              0.6666666666666666,
              "#ed7953"
             ],
             [
              0.7777777777777778,
              "#fb9f3a"
             ],
             [
              0.8888888888888888,
              "#fdca26"
             ],
             [
              1,
              "#f0f921"
             ]
            ],
            "type": "surface"
           }
          ],
          "table": [
           {
            "cells": {
             "fill": {
              "color": "#EBF0F8"
             },
             "line": {
              "color": "white"
             }
            },
            "header": {
             "fill": {
              "color": "#C8D4E3"
             },
             "line": {
              "color": "white"
             }
            },
            "type": "table"
           }
          ]
         },
         "layout": {
          "annotationdefaults": {
           "arrowcolor": "#2a3f5f",
           "arrowhead": 0,
           "arrowwidth": 1
          },
          "autotypenumbers": "strict",
          "coloraxis": {
           "colorbar": {
            "outlinewidth": 0,
            "ticks": ""
           }
          },
          "colorscale": {
           "diverging": [
            [
             0,
             "#8e0152"
            ],
            [
             0.1,
             "#c51b7d"
            ],
            [
             0.2,
             "#de77ae"
            ],
            [
             0.3,
             "#f1b6da"
            ],
            [
             0.4,
             "#fde0ef"
            ],
            [
             0.5,
             "#f7f7f7"
            ],
            [
             0.6,
             "#e6f5d0"
            ],
            [
             0.7,
             "#b8e186"
            ],
            [
             0.8,
             "#7fbc41"
            ],
            [
             0.9,
             "#4d9221"
            ],
            [
             1,
             "#276419"
            ]
           ],
           "sequential": [
            [
             0,
             "#0d0887"
            ],
            [
             0.1111111111111111,
             "#46039f"
            ],
            [
             0.2222222222222222,
             "#7201a8"
            ],
            [
             0.3333333333333333,
             "#9c179e"
            ],
            [
             0.4444444444444444,
             "#bd3786"
            ],
            [
             0.5555555555555556,
             "#d8576b"
            ],
            [
             0.6666666666666666,
             "#ed7953"
            ],
            [
             0.7777777777777778,
             "#fb9f3a"
            ],
            [
             0.8888888888888888,
             "#fdca26"
            ],
            [
             1,
             "#f0f921"
            ]
           ],
           "sequentialminus": [
            [
             0,
             "#0d0887"
            ],
            [
             0.1111111111111111,
             "#46039f"
            ],
            [
             0.2222222222222222,
             "#7201a8"
            ],
            [
             0.3333333333333333,
             "#9c179e"
            ],
            [
             0.4444444444444444,
             "#bd3786"
            ],
            [
             0.5555555555555556,
             "#d8576b"
            ],
            [
             0.6666666666666666,
             "#ed7953"
            ],
            [
             0.7777777777777778,
             "#fb9f3a"
            ],
            [
             0.8888888888888888,
             "#fdca26"
            ],
            [
             1,
             "#f0f921"
            ]
           ]
          },
          "colorway": [
           "#636efa",
           "#EF553B",
           "#00cc96",
           "#ab63fa",
           "#FFA15A",
           "#19d3f3",
           "#FF6692",
           "#B6E880",
           "#FF97FF",
           "#FECB52"
          ],
          "font": {
           "color": "#2a3f5f"
          },
          "geo": {
           "bgcolor": "white",
           "lakecolor": "white",
           "landcolor": "#E5ECF6",
           "showlakes": true,
           "showland": true,
           "subunitcolor": "white"
          },
          "hoverlabel": {
           "align": "left"
          },
          "hovermode": "closest",
          "mapbox": {
           "style": "light"
          },
          "paper_bgcolor": "white",
          "plot_bgcolor": "#E5ECF6",
          "polar": {
           "angularaxis": {
            "gridcolor": "white",
            "linecolor": "white",
            "ticks": ""
           },
           "bgcolor": "#E5ECF6",
           "radialaxis": {
            "gridcolor": "white",
            "linecolor": "white",
            "ticks": ""
           }
          },
          "scene": {
           "xaxis": {
            "backgroundcolor": "#E5ECF6",
            "gridcolor": "white",
            "gridwidth": 2,
            "linecolor": "white",
            "showbackground": true,
            "ticks": "",
            "zerolinecolor": "white"
           },
           "yaxis": {
            "backgroundcolor": "#E5ECF6",
            "gridcolor": "white",
            "gridwidth": 2,
            "linecolor": "white",
            "showbackground": true,
            "ticks": "",
            "zerolinecolor": "white"
           },
           "zaxis": {
            "backgroundcolor": "#E5ECF6",
            "gridcolor": "white",
            "gridwidth": 2,
            "linecolor": "white",
            "showbackground": true,
            "ticks": "",
            "zerolinecolor": "white"
           }
          },
          "shapedefaults": {
           "line": {
            "color": "#2a3f5f"
           }
          },
          "ternary": {
           "aaxis": {
            "gridcolor": "white",
            "linecolor": "white",
            "ticks": ""
           },
           "baxis": {
            "gridcolor": "white",
            "linecolor": "white",
            "ticks": ""
           },
           "bgcolor": "#E5ECF6",
           "caxis": {
            "gridcolor": "white",
            "linecolor": "white",
            "ticks": ""
           }
          },
          "title": {
           "x": 0.05
          },
          "xaxis": {
           "automargin": true,
           "gridcolor": "white",
           "linecolor": "white",
           "ticks": "",
           "title": {
            "standoff": 15
           },
           "zerolinecolor": "white",
           "zerolinewidth": 2
          },
          "yaxis": {
           "automargin": true,
           "gridcolor": "white",
           "linecolor": "white",
           "ticks": "",
           "title": {
            "standoff": 15
           },
           "zerolinecolor": "white",
           "zerolinewidth": 2
          }
         }
        },
        "title": {
         "text": "Embodied emissions by status for top five municipalities (2011 - 2024)"
        },
        "width": 1000,
        "xaxis": {
         "anchor": "y",
         "categoryarray": [
          "Amsterdam",
          "Utrecht",
          "Tilburg",
          "Eindhoven",
          "'s-Gravenhage"
         ],
         "categoryorder": "array",
         "domain": [
          0,
          1
         ],
         "title": {
          "text": "municipality"
         }
        },
        "yaxis": {
         "anchor": "x",
         "domain": [
          0,
          1
         ],
         "title": {
          "text": "emissions_embodied_tons"
         }
        }
       }
      }
     },
     "metadata": {},
     "output_type": "display_data"
    }
   ],
   "source": [
    "# by status\n",
    "query = f'''\n",
    "SELECT municipality, status, SUM(sqm) AS sqm, SUM(emissions_embodied_tons) AS emissions_embodied_tons\n",
    "FROM emissions_embodied_housing_nl\n",
    "WHERE \n",
    "    municipality IN ('Amsterdam', 'Utrecht', 'Tilburg', 'Eindhoven', \\'\\'\\'s-Gravenhage')\n",
    "    AND year >= 2011 AND year < 2024\n",
    "GROUP BY municipality, status\n",
    "'''\n",
    "df = pd.read_sql_query(query, engine)\n",
    "\n",
    "municipality_order = ['Amsterdam', 'Utrecht', 'Tilburg', 'Eindhoven', \"'s-Gravenhage\"]\n",
    "status_order = ['Verbouwing pand', 'Pand gesloopt', 'Bouw gestart']\n",
    "fig = px.bar(df, x='municipality', y='emissions_embodied_tons', color='status', barmode='group', \n",
    "             title='Embodied emissions by status for top five municipalities (2011 - 2024)', \n",
    "             category_orders={'municipality': municipality_order, 'status': status_order})\n",
    "fig.update_layout(width=1000)\n",
    "fig.show()  "
   ]
  },
  {
   "cell_type": "code",
   "execution_count": 24,
   "metadata": {},
   "outputs": [
    {
     "data": {
      "application/vnd.plotly.v1+json": {
       "config": {
        "plotlyServerURL": "https://plot.ly"
       },
       "data": [
        {
         "hovertemplate": "municipality='s-Gravenhage<br>year=%{x}<br>cumulative_emissions=%{y}<extra></extra>",
         "legendgroup": "'s-Gravenhage",
         "line": {
          "color": "#636efa",
          "dash": "solid"
         },
         "marker": {
          "symbol": "circle"
         },
         "mode": "lines",
         "name": "'s-Gravenhage",
         "orientation": "v",
         "showlegend": true,
         "type": "scatter",
         "x": [
          2011,
          2012,
          2013,
          2014,
          2015,
          2016,
          2017,
          2018,
          2019,
          2020,
          2021,
          2022
         ],
         "xaxis": "x",
         "y": [
          81607.802,
          83192.154,
          88546.63399999999,
          92187.348,
          107853.844,
          153256.103,
          215187.96899999998,
          248998.504,
          325117.17799999996,
          368236.792,
          410707.924,
          447594.788
         ],
         "yaxis": "y"
        },
        {
         "hovertemplate": "municipality=Amsterdam<br>year=%{x}<br>cumulative_emissions=%{y}<extra></extra>",
         "legendgroup": "Amsterdam",
         "line": {
          "color": "#EF553B",
          "dash": "solid"
         },
         "marker": {
          "symbol": "circle"
         },
         "mode": "lines",
         "name": "Amsterdam",
         "orientation": "v",
         "showlegend": true,
         "type": "scatter",
         "x": [
          2011,
          2012,
          2013,
          2014,
          2015,
          2016,
          2017,
          2018,
          2019,
          2020,
          2021,
          2022
         ],
         "xaxis": "x",
         "y": [
          54127.278,
          134728.978,
          149826.576,
          220378.46099999998,
          319647.322,
          409534.513,
          528136.1259999999,
          666746.823,
          795491.549,
          877071.6329999999,
          988818.6359999999,
          1025589.1969999999
         ],
         "yaxis": "y"
        },
        {
         "hovertemplate": "municipality=Eindhoven<br>year=%{x}<br>cumulative_emissions=%{y}<extra></extra>",
         "legendgroup": "Eindhoven",
         "line": {
          "color": "#00cc96",
          "dash": "solid"
         },
         "marker": {
          "symbol": "circle"
         },
         "mode": "lines",
         "name": "Eindhoven",
         "orientation": "v",
         "showlegend": true,
         "type": "scatter",
         "x": [
          2011,
          2012,
          2013,
          2014,
          2015,
          2016,
          2017,
          2018,
          2019,
          2020,
          2021,
          2022
         ],
         "xaxis": "x",
         "y": [
          58670.164,
          92757.351,
          113034.80099999999,
          133327.798,
          199741.42599999998,
          231184.759,
          265795.363,
          313821.7,
          372175.598,
          401328.637,
          428008.644,
          448528.422
         ],
         "yaxis": "y"
        },
        {
         "hovertemplate": "municipality=Montfoort<br>year=%{x}<br>cumulative_emissions=%{y}<extra></extra>",
         "legendgroup": "Montfoort",
         "line": {
          "color": "#ab63fa",
          "dash": "solid"
         },
         "marker": {
          "symbol": "circle"
         },
         "mode": "lines",
         "name": "Montfoort",
         "orientation": "v",
         "showlegend": true,
         "type": "scatter",
         "x": [
          2011,
          2012,
          2013,
          2014,
          2015,
          2016,
          2017,
          2018,
          2019,
          2020,
          2021,
          2022
         ],
         "xaxis": "x",
         "y": [
          337.957,
          581.134,
          958.204,
          2197.693,
          3099.255,
          3210.036,
          3880.2799999999997,
          4143.97,
          4253.617,
          4583.499,
          4911.577,
          6359.778
         ],
         "yaxis": "y"
        },
        {
         "hovertemplate": "municipality=Rozendaal<br>year=%{x}<br>cumulative_emissions=%{y}<extra></extra>",
         "legendgroup": "Rozendaal",
         "line": {
          "color": "#FFA15A",
          "dash": "solid"
         },
         "marker": {
          "symbol": "circle"
         },
         "mode": "lines",
         "name": "Rozendaal",
         "orientation": "v",
         "showlegend": true,
         "type": "scatter",
         "x": [
          2011,
          2012,
          2013,
          2016,
          2017,
          2018,
          2019,
          2020,
          2021,
          2022
         ],
         "xaxis": "x",
         "y": [
          71.088,
          194.057,
          742.5790000000001,
          3363.483,
          3634.6110000000003,
          4035.052,
          4408.832,
          4955.159,
          5391.997,
          5624.25
         ],
         "yaxis": "y"
        },
        {
         "hovertemplate": "municipality=Schiermonnikoog<br>year=%{x}<br>cumulative_emissions=%{y}<extra></extra>",
         "legendgroup": "Schiermonnikoog",
         "line": {
          "color": "#19d3f3",
          "dash": "solid"
         },
         "marker": {
          "symbol": "circle"
         },
         "mode": "lines",
         "name": "Schiermonnikoog",
         "orientation": "v",
         "showlegend": true,
         "type": "scatter",
         "x": [
          2011,
          2012,
          2013,
          2014,
          2015,
          2016,
          2017,
          2018,
          2019,
          2020,
          2021,
          2022
         ],
         "xaxis": "x",
         "y": [
          10.549,
          35.829,
          51.768,
          155.873,
          192.236,
          741.961,
          822.503,
          1051.236,
          1126.038,
          1149.978,
          1578.892,
          1616.418
         ],
         "yaxis": "y"
        },
        {
         "hovertemplate": "municipality=Tilburg<br>year=%{x}<br>cumulative_emissions=%{y}<extra></extra>",
         "legendgroup": "Tilburg",
         "line": {
          "color": "#FF6692",
          "dash": "solid"
         },
         "marker": {
          "symbol": "circle"
         },
         "mode": "lines",
         "name": "Tilburg",
         "orientation": "v",
         "showlegend": true,
         "type": "scatter",
         "x": [
          2011,
          2012,
          2013,
          2014,
          2015,
          2016,
          2017,
          2018,
          2019,
          2020,
          2021,
          2022
         ],
         "xaxis": "x",
         "y": [
          23717.402,
          46030.845,
          90511.34999999999,
          130378.881,
          159392.523,
          205835.7,
          255391.65399999998,
          297937.566,
          339478.738,
          389769.597,
          441663.52,
          459864.23099999997
         ],
         "yaxis": "y"
        },
        {
         "hovertemplate": "municipality=Utrecht<br>year=%{x}<br>cumulative_emissions=%{y}<extra></extra>",
         "legendgroup": "Utrecht",
         "line": {
          "color": "#B6E880",
          "dash": "solid"
         },
         "marker": {
          "symbol": "circle"
         },
         "mode": "lines",
         "name": "Utrecht",
         "orientation": "v",
         "showlegend": true,
         "type": "scatter",
         "x": [
          2011,
          2012,
          2013,
          2014,
          2015,
          2016,
          2017,
          2018,
          2019,
          2020,
          2021,
          2022
         ],
         "xaxis": "x",
         "y": [
          59945.717,
          128702.50099999999,
          174483.72,
          227449.494,
          270028.016,
          342503.58400000003,
          381912.015,
          423490.294,
          477554.551,
          545519.235,
          591901.3809999999,
          614818.816
         ],
         "yaxis": "y"
        },
        {
         "hovertemplate": "municipality=Waterland<br>year=%{x}<br>cumulative_emissions=%{y}<extra></extra>",
         "legendgroup": "Waterland",
         "line": {
          "color": "#FF97FF",
          "dash": "solid"
         },
         "marker": {
          "symbol": "circle"
         },
         "mode": "lines",
         "name": "Waterland",
         "orientation": "v",
         "showlegend": true,
         "type": "scatter",
         "x": [
          2011,
          2012,
          2014,
          2015,
          2016,
          2017,
          2018,
          2019,
          2020,
          2021,
          2022
         ],
         "xaxis": "x",
         "y": [
          204.204,
          346.423,
          428.97,
          561.487,
          695.313,
          872.72,
          919.5360000000001,
          3913.398,
          4730.246,
          5178.302,
          6390.394
         ],
         "yaxis": "y"
        },
        {
         "hovertemplate": "municipality=Vlieland<br>year=%{x}<br>cumulative_emissions=%{y}<extra></extra>",
         "legendgroup": "Vlieland",
         "line": {
          "color": "#FECB52",
          "dash": "solid"
         },
         "marker": {
          "symbol": "circle"
         },
         "mode": "lines",
         "name": "Vlieland",
         "orientation": "v",
         "showlegend": true,
         "type": "scatter",
         "x": [
          2012,
          2013,
          2014,
          2015,
          2016,
          2017,
          2018,
          2019,
          2020,
          2021,
          2022
         ],
         "xaxis": "x",
         "y": [
          4.851,
          12.628,
          16.401,
          27.874000000000002,
          170.631,
          561.714,
          926.96,
          1802.7359999999999,
          2046.915,
          3136.373,
          3304.093
         ],
         "yaxis": "y"
        }
       ],
       "layout": {
        "legend": {
         "title": {
          "text": "municipality"
         },
         "tracegroupgap": 0
        },
        "template": {
         "data": {
          "bar": [
           {
            "error_x": {
             "color": "#2a3f5f"
            },
            "error_y": {
             "color": "#2a3f5f"
            },
            "marker": {
             "line": {
              "color": "#E5ECF6",
              "width": 0.5
             },
             "pattern": {
              "fillmode": "overlay",
              "size": 10,
              "solidity": 0.2
             }
            },
            "type": "bar"
           }
          ],
          "barpolar": [
           {
            "marker": {
             "line": {
              "color": "#E5ECF6",
              "width": 0.5
             },
             "pattern": {
              "fillmode": "overlay",
              "size": 10,
              "solidity": 0.2
             }
            },
            "type": "barpolar"
           }
          ],
          "carpet": [
           {
            "aaxis": {
             "endlinecolor": "#2a3f5f",
             "gridcolor": "white",
             "linecolor": "white",
             "minorgridcolor": "white",
             "startlinecolor": "#2a3f5f"
            },
            "baxis": {
             "endlinecolor": "#2a3f5f",
             "gridcolor": "white",
             "linecolor": "white",
             "minorgridcolor": "white",
             "startlinecolor": "#2a3f5f"
            },
            "type": "carpet"
           }
          ],
          "choropleth": [
           {
            "colorbar": {
             "outlinewidth": 0,
             "ticks": ""
            },
            "type": "choropleth"
           }
          ],
          "contour": [
           {
            "colorbar": {
             "outlinewidth": 0,
             "ticks": ""
            },
            "colorscale": [
             [
              0,
              "#0d0887"
             ],
             [
              0.1111111111111111,
              "#46039f"
             ],
             [
              0.2222222222222222,
              "#7201a8"
             ],
             [
              0.3333333333333333,
              "#9c179e"
             ],
             [
              0.4444444444444444,
              "#bd3786"
             ],
             [
              0.5555555555555556,
              "#d8576b"
             ],
             [
              0.6666666666666666,
              "#ed7953"
             ],
             [
              0.7777777777777778,
              "#fb9f3a"
             ],
             [
              0.8888888888888888,
              "#fdca26"
             ],
             [
              1,
              "#f0f921"
             ]
            ],
            "type": "contour"
           }
          ],
          "contourcarpet": [
           {
            "colorbar": {
             "outlinewidth": 0,
             "ticks": ""
            },
            "type": "contourcarpet"
           }
          ],
          "heatmap": [
           {
            "colorbar": {
             "outlinewidth": 0,
             "ticks": ""
            },
            "colorscale": [
             [
              0,
              "#0d0887"
             ],
             [
              0.1111111111111111,
              "#46039f"
             ],
             [
              0.2222222222222222,
              "#7201a8"
             ],
             [
              0.3333333333333333,
              "#9c179e"
             ],
             [
              0.4444444444444444,
              "#bd3786"
             ],
             [
              0.5555555555555556,
              "#d8576b"
             ],
             [
              0.6666666666666666,
              "#ed7953"
             ],
             [
              0.7777777777777778,
              "#fb9f3a"
             ],
             [
              0.8888888888888888,
              "#fdca26"
             ],
             [
              1,
              "#f0f921"
             ]
            ],
            "type": "heatmap"
           }
          ],
          "heatmapgl": [
           {
            "colorbar": {
             "outlinewidth": 0,
             "ticks": ""
            },
            "colorscale": [
             [
              0,
              "#0d0887"
             ],
             [
              0.1111111111111111,
              "#46039f"
             ],
             [
              0.2222222222222222,
              "#7201a8"
             ],
             [
              0.3333333333333333,
              "#9c179e"
             ],
             [
              0.4444444444444444,
              "#bd3786"
             ],
             [
              0.5555555555555556,
              "#d8576b"
             ],
             [
              0.6666666666666666,
              "#ed7953"
             ],
             [
              0.7777777777777778,
              "#fb9f3a"
             ],
             [
              0.8888888888888888,
              "#fdca26"
             ],
             [
              1,
              "#f0f921"
             ]
            ],
            "type": "heatmapgl"
           }
          ],
          "histogram": [
           {
            "marker": {
             "pattern": {
              "fillmode": "overlay",
              "size": 10,
              "solidity": 0.2
             }
            },
            "type": "histogram"
           }
          ],
          "histogram2d": [
           {
            "colorbar": {
             "outlinewidth": 0,
             "ticks": ""
            },
            "colorscale": [
             [
              0,
              "#0d0887"
             ],
             [
              0.1111111111111111,
              "#46039f"
             ],
             [
              0.2222222222222222,
              "#7201a8"
             ],
             [
              0.3333333333333333,
              "#9c179e"
             ],
             [
              0.4444444444444444,
              "#bd3786"
             ],
             [
              0.5555555555555556,
              "#d8576b"
             ],
             [
              0.6666666666666666,
              "#ed7953"
             ],
             [
              0.7777777777777778,
              "#fb9f3a"
             ],
             [
              0.8888888888888888,
              "#fdca26"
             ],
             [
              1,
              "#f0f921"
             ]
            ],
            "type": "histogram2d"
           }
          ],
          "histogram2dcontour": [
           {
            "colorbar": {
             "outlinewidth": 0,
             "ticks": ""
            },
            "colorscale": [
             [
              0,
              "#0d0887"
             ],
             [
              0.1111111111111111,
              "#46039f"
             ],
             [
              0.2222222222222222,
              "#7201a8"
             ],
             [
              0.3333333333333333,
              "#9c179e"
             ],
             [
              0.4444444444444444,
              "#bd3786"
             ],
             [
              0.5555555555555556,
              "#d8576b"
             ],
             [
              0.6666666666666666,
              "#ed7953"
             ],
             [
              0.7777777777777778,
              "#fb9f3a"
             ],
             [
              0.8888888888888888,
              "#fdca26"
             ],
             [
              1,
              "#f0f921"
             ]
            ],
            "type": "histogram2dcontour"
           }
          ],
          "mesh3d": [
           {
            "colorbar": {
             "outlinewidth": 0,
             "ticks": ""
            },
            "type": "mesh3d"
           }
          ],
          "parcoords": [
           {
            "line": {
             "colorbar": {
              "outlinewidth": 0,
              "ticks": ""
             }
            },
            "type": "parcoords"
           }
          ],
          "pie": [
           {
            "automargin": true,
            "type": "pie"
           }
          ],
          "scatter": [
           {
            "fillpattern": {
             "fillmode": "overlay",
             "size": 10,
             "solidity": 0.2
            },
            "type": "scatter"
           }
          ],
          "scatter3d": [
           {
            "line": {
             "colorbar": {
              "outlinewidth": 0,
              "ticks": ""
             }
            },
            "marker": {
             "colorbar": {
              "outlinewidth": 0,
              "ticks": ""
             }
            },
            "type": "scatter3d"
           }
          ],
          "scattercarpet": [
           {
            "marker": {
             "colorbar": {
              "outlinewidth": 0,
              "ticks": ""
             }
            },
            "type": "scattercarpet"
           }
          ],
          "scattergeo": [
           {
            "marker": {
             "colorbar": {
              "outlinewidth": 0,
              "ticks": ""
             }
            },
            "type": "scattergeo"
           }
          ],
          "scattergl": [
           {
            "marker": {
             "colorbar": {
              "outlinewidth": 0,
              "ticks": ""
             }
            },
            "type": "scattergl"
           }
          ],
          "scattermapbox": [
           {
            "marker": {
             "colorbar": {
              "outlinewidth": 0,
              "ticks": ""
             }
            },
            "type": "scattermapbox"
           }
          ],
          "scatterpolar": [
           {
            "marker": {
             "colorbar": {
              "outlinewidth": 0,
              "ticks": ""
             }
            },
            "type": "scatterpolar"
           }
          ],
          "scatterpolargl": [
           {
            "marker": {
             "colorbar": {
              "outlinewidth": 0,
              "ticks": ""
             }
            },
            "type": "scatterpolargl"
           }
          ],
          "scatterternary": [
           {
            "marker": {
             "colorbar": {
              "outlinewidth": 0,
              "ticks": ""
             }
            },
            "type": "scatterternary"
           }
          ],
          "surface": [
           {
            "colorbar": {
             "outlinewidth": 0,
             "ticks": ""
            },
            "colorscale": [
             [
              0,
              "#0d0887"
             ],
             [
              0.1111111111111111,
              "#46039f"
             ],
             [
              0.2222222222222222,
              "#7201a8"
             ],
             [
              0.3333333333333333,
              "#9c179e"
             ],
             [
              0.4444444444444444,
              "#bd3786"
             ],
             [
              0.5555555555555556,
              "#d8576b"
             ],
             [
              0.6666666666666666,
              "#ed7953"
             ],
             [
              0.7777777777777778,
              "#fb9f3a"
             ],
             [
              0.8888888888888888,
              "#fdca26"
             ],
             [
              1,
              "#f0f921"
             ]
            ],
            "type": "surface"
           }
          ],
          "table": [
           {
            "cells": {
             "fill": {
              "color": "#EBF0F8"
             },
             "line": {
              "color": "white"
             }
            },
            "header": {
             "fill": {
              "color": "#C8D4E3"
             },
             "line": {
              "color": "white"
             }
            },
            "type": "table"
           }
          ]
         },
         "layout": {
          "annotationdefaults": {
           "arrowcolor": "#2a3f5f",
           "arrowhead": 0,
           "arrowwidth": 1
          },
          "autotypenumbers": "strict",
          "coloraxis": {
           "colorbar": {
            "outlinewidth": 0,
            "ticks": ""
           }
          },
          "colorscale": {
           "diverging": [
            [
             0,
             "#8e0152"
            ],
            [
             0.1,
             "#c51b7d"
            ],
            [
             0.2,
             "#de77ae"
            ],
            [
             0.3,
             "#f1b6da"
            ],
            [
             0.4,
             "#fde0ef"
            ],
            [
             0.5,
             "#f7f7f7"
            ],
            [
             0.6,
             "#e6f5d0"
            ],
            [
             0.7,
             "#b8e186"
            ],
            [
             0.8,
             "#7fbc41"
            ],
            [
             0.9,
             "#4d9221"
            ],
            [
             1,
             "#276419"
            ]
           ],
           "sequential": [
            [
             0,
             "#0d0887"
            ],
            [
             0.1111111111111111,
             "#46039f"
            ],
            [
             0.2222222222222222,
             "#7201a8"
            ],
            [
             0.3333333333333333,
             "#9c179e"
            ],
            [
             0.4444444444444444,
             "#bd3786"
            ],
            [
             0.5555555555555556,
             "#d8576b"
            ],
            [
             0.6666666666666666,
             "#ed7953"
            ],
            [
             0.7777777777777778,
             "#fb9f3a"
            ],
            [
             0.8888888888888888,
             "#fdca26"
            ],
            [
             1,
             "#f0f921"
            ]
           ],
           "sequentialminus": [
            [
             0,
             "#0d0887"
            ],
            [
             0.1111111111111111,
             "#46039f"
            ],
            [
             0.2222222222222222,
             "#7201a8"
            ],
            [
             0.3333333333333333,
             "#9c179e"
            ],
            [
             0.4444444444444444,
             "#bd3786"
            ],
            [
             0.5555555555555556,
             "#d8576b"
            ],
            [
             0.6666666666666666,
             "#ed7953"
            ],
            [
             0.7777777777777778,
             "#fb9f3a"
            ],
            [
             0.8888888888888888,
             "#fdca26"
            ],
            [
             1,
             "#f0f921"
            ]
           ]
          },
          "colorway": [
           "#636efa",
           "#EF553B",
           "#00cc96",
           "#ab63fa",
           "#FFA15A",
           "#19d3f3",
           "#FF6692",
           "#B6E880",
           "#FF97FF",
           "#FECB52"
          ],
          "font": {
           "color": "#2a3f5f"
          },
          "geo": {
           "bgcolor": "white",
           "lakecolor": "white",
           "landcolor": "#E5ECF6",
           "showlakes": true,
           "showland": true,
           "subunitcolor": "white"
          },
          "hoverlabel": {
           "align": "left"
          },
          "hovermode": "closest",
          "mapbox": {
           "style": "light"
          },
          "paper_bgcolor": "white",
          "plot_bgcolor": "#E5ECF6",
          "polar": {
           "angularaxis": {
            "gridcolor": "white",
            "linecolor": "white",
            "ticks": ""
           },
           "bgcolor": "#E5ECF6",
           "radialaxis": {
            "gridcolor": "white",
            "linecolor": "white",
            "ticks": ""
           }
          },
          "scene": {
           "xaxis": {
            "backgroundcolor": "#E5ECF6",
            "gridcolor": "white",
            "gridwidth": 2,
            "linecolor": "white",
            "showbackground": true,
            "ticks": "",
            "zerolinecolor": "white"
           },
           "yaxis": {
            "backgroundcolor": "#E5ECF6",
            "gridcolor": "white",
            "gridwidth": 2,
            "linecolor": "white",
            "showbackground": true,
            "ticks": "",
            "zerolinecolor": "white"
           },
           "zaxis": {
            "backgroundcolor": "#E5ECF6",
            "gridcolor": "white",
            "gridwidth": 2,
            "linecolor": "white",
            "showbackground": true,
            "ticks": "",
            "zerolinecolor": "white"
           }
          },
          "shapedefaults": {
           "line": {
            "color": "#2a3f5f"
           }
          },
          "ternary": {
           "aaxis": {
            "gridcolor": "white",
            "linecolor": "white",
            "ticks": ""
           },
           "baxis": {
            "gridcolor": "white",
            "linecolor": "white",
            "ticks": ""
           },
           "bgcolor": "#E5ECF6",
           "caxis": {
            "gridcolor": "white",
            "linecolor": "white",
            "ticks": ""
           }
          },
          "title": {
           "x": 0.05
          },
          "xaxis": {
           "automargin": true,
           "gridcolor": "white",
           "linecolor": "white",
           "ticks": "",
           "title": {
            "standoff": 15
           },
           "zerolinecolor": "white",
           "zerolinewidth": 2
          },
          "yaxis": {
           "automargin": true,
           "gridcolor": "white",
           "linecolor": "white",
           "ticks": "",
           "title": {
            "standoff": 15
           },
           "zerolinecolor": "white",
           "zerolinewidth": 2
          }
         }
        },
        "title": {
         "text": "Cumulative embodied emissions per year for housing in NL"
        },
        "xaxis": {
         "anchor": "y",
         "domain": [
          0,
          1
         ],
         "title": {
          "text": "year"
         }
        },
        "yaxis": {
         "anchor": "x",
         "domain": [
          0,
          1
         ],
         "title": {
          "text": "cumulative_emissions"
         }
        }
       }
      }
     },
     "metadata": {},
     "output_type": "display_data"
    }
   ],
   "source": [
    "query = ''' \n",
    "SELECT year, municipality, SUM(emissions_embodied_tons) AS emissions_embodied_tons\n",
    "FROM emissions_embodied_housing_nl \n",
    "WHERE year >= 2011 AND year <= 2022 \n",
    "GROUP BY year, municipality\n",
    "ORDER BY year, municipality\n",
    "'''\n",
    "df = pd.read_sql_query(query, engine)\n",
    "df['cumulative_emissions'] = df.sort_values('year').groupby('municipality')['emissions_embodied_tons'].cumsum()\n",
    "df = df[df['municipality'].isin(top_five + bottom_five)]\n",
    "\n",
    "fig = px.line(df, x='year', y='cumulative_emissions', color='municipality', title='Cumulative embodied emissions per year for housing in NL')\n",
    "fig.show()"
   ]
  },
  {
   "cell_type": "code",
   "execution_count": 21,
   "metadata": {},
   "outputs": [
    {
     "data": {
      "application/vnd.plotly.v1+json": {
       "config": {
        "plotlyServerURL": "https://plot.ly"
       },
       "data": [
        {
         "hovertemplate": "year=%{x}<br>emissions_embodied_tons=%{y}<extra></extra>",
         "legendgroup": "",
         "line": {
          "color": "#636efa",
          "dash": "solid"
         },
         "marker": {
          "symbol": "circle"
         },
         "mode": "lines",
         "name": "",
         "orientation": "v",
         "showlegend": false,
         "type": "scatter",
         "x": [
          2011,
          2012,
          2013,
          2014,
          2015,
          2016,
          2017,
          2018,
          2019,
          2020,
          2021,
          2022
         ],
         "xaxis": "x",
         "y": [
          60201.738,
          92460.568,
          34014.86,
          87588.345,
          119782.039,
          116487.933,
          137787.633,
          157681.049,
          146297.03,
          82500.892,
          112781.589,
          40579.163
         ],
         "yaxis": "y"
        }
       ],
       "layout": {
        "legend": {
         "tracegroupgap": 0
        },
        "template": {
         "data": {
          "bar": [
           {
            "error_x": {
             "color": "#2a3f5f"
            },
            "error_y": {
             "color": "#2a3f5f"
            },
            "marker": {
             "line": {
              "color": "#E5ECF6",
              "width": 0.5
             },
             "pattern": {
              "fillmode": "overlay",
              "size": 10,
              "solidity": 0.2
             }
            },
            "type": "bar"
           }
          ],
          "barpolar": [
           {
            "marker": {
             "line": {
              "color": "#E5ECF6",
              "width": 0.5
             },
             "pattern": {
              "fillmode": "overlay",
              "size": 10,
              "solidity": 0.2
             }
            },
            "type": "barpolar"
           }
          ],
          "carpet": [
           {
            "aaxis": {
             "endlinecolor": "#2a3f5f",
             "gridcolor": "white",
             "linecolor": "white",
             "minorgridcolor": "white",
             "startlinecolor": "#2a3f5f"
            },
            "baxis": {
             "endlinecolor": "#2a3f5f",
             "gridcolor": "white",
             "linecolor": "white",
             "minorgridcolor": "white",
             "startlinecolor": "#2a3f5f"
            },
            "type": "carpet"
           }
          ],
          "choropleth": [
           {
            "colorbar": {
             "outlinewidth": 0,
             "ticks": ""
            },
            "type": "choropleth"
           }
          ],
          "contour": [
           {
            "colorbar": {
             "outlinewidth": 0,
             "ticks": ""
            },
            "colorscale": [
             [
              0,
              "#0d0887"
             ],
             [
              0.1111111111111111,
              "#46039f"
             ],
             [
              0.2222222222222222,
              "#7201a8"
             ],
             [
              0.3333333333333333,
              "#9c179e"
             ],
             [
              0.4444444444444444,
              "#bd3786"
             ],
             [
              0.5555555555555556,
              "#d8576b"
             ],
             [
              0.6666666666666666,
              "#ed7953"
             ],
             [
              0.7777777777777778,
              "#fb9f3a"
             ],
             [
              0.8888888888888888,
              "#fdca26"
             ],
             [
              1,
              "#f0f921"
             ]
            ],
            "type": "contour"
           }
          ],
          "contourcarpet": [
           {
            "colorbar": {
             "outlinewidth": 0,
             "ticks": ""
            },
            "type": "contourcarpet"
           }
          ],
          "heatmap": [
           {
            "colorbar": {
             "outlinewidth": 0,
             "ticks": ""
            },
            "colorscale": [
             [
              0,
              "#0d0887"
             ],
             [
              0.1111111111111111,
              "#46039f"
             ],
             [
              0.2222222222222222,
              "#7201a8"
             ],
             [
              0.3333333333333333,
              "#9c179e"
             ],
             [
              0.4444444444444444,
              "#bd3786"
             ],
             [
              0.5555555555555556,
              "#d8576b"
             ],
             [
              0.6666666666666666,
              "#ed7953"
             ],
             [
              0.7777777777777778,
              "#fb9f3a"
             ],
             [
              0.8888888888888888,
              "#fdca26"
             ],
             [
              1,
              "#f0f921"
             ]
            ],
            "type": "heatmap"
           }
          ],
          "heatmapgl": [
           {
            "colorbar": {
             "outlinewidth": 0,
             "ticks": ""
            },
            "colorscale": [
             [
              0,
              "#0d0887"
             ],
             [
              0.1111111111111111,
              "#46039f"
             ],
             [
              0.2222222222222222,
              "#7201a8"
             ],
             [
              0.3333333333333333,
              "#9c179e"
             ],
             [
              0.4444444444444444,
              "#bd3786"
             ],
             [
              0.5555555555555556,
              "#d8576b"
             ],
             [
              0.6666666666666666,
              "#ed7953"
             ],
             [
              0.7777777777777778,
              "#fb9f3a"
             ],
             [
              0.8888888888888888,
              "#fdca26"
             ],
             [
              1,
              "#f0f921"
             ]
            ],
            "type": "heatmapgl"
           }
          ],
          "histogram": [
           {
            "marker": {
             "pattern": {
              "fillmode": "overlay",
              "size": 10,
              "solidity": 0.2
             }
            },
            "type": "histogram"
           }
          ],
          "histogram2d": [
           {
            "colorbar": {
             "outlinewidth": 0,
             "ticks": ""
            },
            "colorscale": [
             [
              0,
              "#0d0887"
             ],
             [
              0.1111111111111111,
              "#46039f"
             ],
             [
              0.2222222222222222,
              "#7201a8"
             ],
             [
              0.3333333333333333,
              "#9c179e"
             ],
             [
              0.4444444444444444,
              "#bd3786"
             ],
             [
              0.5555555555555556,
              "#d8576b"
             ],
             [
              0.6666666666666666,
              "#ed7953"
             ],
             [
              0.7777777777777778,
              "#fb9f3a"
             ],
             [
              0.8888888888888888,
              "#fdca26"
             ],
             [
              1,
              "#f0f921"
             ]
            ],
            "type": "histogram2d"
           }
          ],
          "histogram2dcontour": [
           {
            "colorbar": {
             "outlinewidth": 0,
             "ticks": ""
            },
            "colorscale": [
             [
              0,
              "#0d0887"
             ],
             [
              0.1111111111111111,
              "#46039f"
             ],
             [
              0.2222222222222222,
              "#7201a8"
             ],
             [
              0.3333333333333333,
              "#9c179e"
             ],
             [
              0.4444444444444444,
              "#bd3786"
             ],
             [
              0.5555555555555556,
              "#d8576b"
             ],
             [
              0.6666666666666666,
              "#ed7953"
             ],
             [
              0.7777777777777778,
              "#fb9f3a"
             ],
             [
              0.8888888888888888,
              "#fdca26"
             ],
             [
              1,
              "#f0f921"
             ]
            ],
            "type": "histogram2dcontour"
           }
          ],
          "mesh3d": [
           {
            "colorbar": {
             "outlinewidth": 0,
             "ticks": ""
            },
            "type": "mesh3d"
           }
          ],
          "parcoords": [
           {
            "line": {
             "colorbar": {
              "outlinewidth": 0,
              "ticks": ""
             }
            },
            "type": "parcoords"
           }
          ],
          "pie": [
           {
            "automargin": true,
            "type": "pie"
           }
          ],
          "scatter": [
           {
            "fillpattern": {
             "fillmode": "overlay",
             "size": 10,
             "solidity": 0.2
            },
            "type": "scatter"
           }
          ],
          "scatter3d": [
           {
            "line": {
             "colorbar": {
              "outlinewidth": 0,
              "ticks": ""
             }
            },
            "marker": {
             "colorbar": {
              "outlinewidth": 0,
              "ticks": ""
             }
            },
            "type": "scatter3d"
           }
          ],
          "scattercarpet": [
           {
            "marker": {
             "colorbar": {
              "outlinewidth": 0,
              "ticks": ""
             }
            },
            "type": "scattercarpet"
           }
          ],
          "scattergeo": [
           {
            "marker": {
             "colorbar": {
              "outlinewidth": 0,
              "ticks": ""
             }
            },
            "type": "scattergeo"
           }
          ],
          "scattergl": [
           {
            "marker": {
             "colorbar": {
              "outlinewidth": 0,
              "ticks": ""
             }
            },
            "type": "scattergl"
           }
          ],
          "scattermapbox": [
           {
            "marker": {
             "colorbar": {
              "outlinewidth": 0,
              "ticks": ""
             }
            },
            "type": "scattermapbox"
           }
          ],
          "scatterpolar": [
           {
            "marker": {
             "colorbar": {
              "outlinewidth": 0,
              "ticks": ""
             }
            },
            "type": "scatterpolar"
           }
          ],
          "scatterpolargl": [
           {
            "marker": {
             "colorbar": {
              "outlinewidth": 0,
              "ticks": ""
             }
            },
            "type": "scatterpolargl"
           }
          ],
          "scatterternary": [
           {
            "marker": {
             "colorbar": {
              "outlinewidth": 0,
              "ticks": ""
             }
            },
            "type": "scatterternary"
           }
          ],
          "surface": [
           {
            "colorbar": {
             "outlinewidth": 0,
             "ticks": ""
            },
            "colorscale": [
             [
              0,
              "#0d0887"
             ],
             [
              0.1111111111111111,
              "#46039f"
             ],
             [
              0.2222222222222222,
              "#7201a8"
             ],
             [
              0.3333333333333333,
              "#9c179e"
             ],
             [
              0.4444444444444444,
              "#bd3786"
             ],
             [
              0.5555555555555556,
              "#d8576b"
             ],
             [
              0.6666666666666666,
              "#ed7953"
             ],
             [
              0.7777777777777778,
              "#fb9f3a"
             ],
             [
              0.8888888888888888,
              "#fdca26"
             ],
             [
              1,
              "#f0f921"
             ]
            ],
            "type": "surface"
           }
          ],
          "table": [
           {
            "cells": {
             "fill": {
              "color": "#EBF0F8"
             },
             "line": {
              "color": "white"
             }
            },
            "header": {
             "fill": {
              "color": "#C8D4E3"
             },
             "line": {
              "color": "white"
             }
            },
            "type": "table"
           }
          ]
         },
         "layout": {
          "annotationdefaults": {
           "arrowcolor": "#2a3f5f",
           "arrowhead": 0,
           "arrowwidth": 1
          },
          "autotypenumbers": "strict",
          "coloraxis": {
           "colorbar": {
            "outlinewidth": 0,
            "ticks": ""
           }
          },
          "colorscale": {
           "diverging": [
            [
             0,
             "#8e0152"
            ],
            [
             0.1,
             "#c51b7d"
            ],
            [
             0.2,
             "#de77ae"
            ],
            [
             0.3,
             "#f1b6da"
            ],
            [
             0.4,
             "#fde0ef"
            ],
            [
             0.5,
             "#f7f7f7"
            ],
            [
             0.6,
             "#e6f5d0"
            ],
            [
             0.7,
             "#b8e186"
            ],
            [
             0.8,
             "#7fbc41"
            ],
            [
             0.9,
             "#4d9221"
            ],
            [
             1,
             "#276419"
            ]
           ],
           "sequential": [
            [
             0,
             "#0d0887"
            ],
            [
             0.1111111111111111,
             "#46039f"
            ],
            [
             0.2222222222222222,
             "#7201a8"
            ],
            [
             0.3333333333333333,
             "#9c179e"
            ],
            [
             0.4444444444444444,
             "#bd3786"
            ],
            [
             0.5555555555555556,
             "#d8576b"
            ],
            [
             0.6666666666666666,
             "#ed7953"
            ],
            [
             0.7777777777777778,
             "#fb9f3a"
            ],
            [
             0.8888888888888888,
             "#fdca26"
            ],
            [
             1,
             "#f0f921"
            ]
           ],
           "sequentialminus": [
            [
             0,
             "#0d0887"
            ],
            [
             0.1111111111111111,
             "#46039f"
            ],
            [
             0.2222222222222222,
             "#7201a8"
            ],
            [
             0.3333333333333333,
             "#9c179e"
            ],
            [
             0.4444444444444444,
             "#bd3786"
            ],
            [
             0.5555555555555556,
             "#d8576b"
            ],
            [
             0.6666666666666666,
             "#ed7953"
            ],
            [
             0.7777777777777778,
             "#fb9f3a"
            ],
            [
             0.8888888888888888,
             "#fdca26"
            ],
            [
             1,
             "#f0f921"
            ]
           ]
          },
          "colorway": [
           "#636efa",
           "#EF553B",
           "#00cc96",
           "#ab63fa",
           "#FFA15A",
           "#19d3f3",
           "#FF6692",
           "#B6E880",
           "#FF97FF",
           "#FECB52"
          ],
          "font": {
           "color": "#2a3f5f"
          },
          "geo": {
           "bgcolor": "white",
           "lakecolor": "white",
           "landcolor": "#E5ECF6",
           "showlakes": true,
           "showland": true,
           "subunitcolor": "white"
          },
          "hoverlabel": {
           "align": "left"
          },
          "hovermode": "closest",
          "mapbox": {
           "style": "light"
          },
          "paper_bgcolor": "white",
          "plot_bgcolor": "#E5ECF6",
          "polar": {
           "angularaxis": {
            "gridcolor": "white",
            "linecolor": "white",
            "ticks": ""
           },
           "bgcolor": "#E5ECF6",
           "radialaxis": {
            "gridcolor": "white",
            "linecolor": "white",
            "ticks": ""
           }
          },
          "scene": {
           "xaxis": {
            "backgroundcolor": "#E5ECF6",
            "gridcolor": "white",
            "gridwidth": 2,
            "linecolor": "white",
            "showbackground": true,
            "ticks": "",
            "zerolinecolor": "white"
           },
           "yaxis": {
            "backgroundcolor": "#E5ECF6",
            "gridcolor": "white",
            "gridwidth": 2,
            "linecolor": "white",
            "showbackground": true,
            "ticks": "",
            "zerolinecolor": "white"
           },
           "zaxis": {
            "backgroundcolor": "#E5ECF6",
            "gridcolor": "white",
            "gridwidth": 2,
            "linecolor": "white",
            "showbackground": true,
            "ticks": "",
            "zerolinecolor": "white"
           }
          },
          "shapedefaults": {
           "line": {
            "color": "#2a3f5f"
           }
          },
          "ternary": {
           "aaxis": {
            "gridcolor": "white",
            "linecolor": "white",
            "ticks": ""
           },
           "baxis": {
            "gridcolor": "white",
            "linecolor": "white",
            "ticks": ""
           },
           "bgcolor": "#E5ECF6",
           "caxis": {
            "gridcolor": "white",
            "linecolor": "white",
            "ticks": ""
           }
          },
          "title": {
           "x": 0.05
          },
          "xaxis": {
           "automargin": true,
           "gridcolor": "white",
           "linecolor": "white",
           "ticks": "",
           "title": {
            "standoff": 15
           },
           "zerolinecolor": "white",
           "zerolinewidth": 2
          },
          "yaxis": {
           "automargin": true,
           "gridcolor": "white",
           "linecolor": "white",
           "ticks": "",
           "title": {
            "standoff": 15
           },
           "zerolinecolor": "white",
           "zerolinewidth": 2
          }
         }
        },
        "title": {
         "text": "Embodied emissions per year for housing in Amsterdam"
        },
        "xaxis": {
         "anchor": "y",
         "domain": [
          0,
          1
         ],
         "title": {
          "text": "year"
         }
        },
        "yaxis": {
         "anchor": "x",
         "domain": [
          0,
          1
         ],
         "title": {
          "text": "emissions_embodied_tons"
         }
        }
       }
      }
     },
     "metadata": {},
     "output_type": "display_data"
    },
    {
     "data": {
      "application/vnd.plotly.v1+json": {
       "config": {
        "plotlyServerURL": "https://plot.ly"
       },
       "data": [
        {
         "hovertemplate": "year=%{x}<br>cumulative_emissions=%{y}<extra></extra>",
         "legendgroup": "",
         "line": {
          "color": "#636efa",
          "dash": "solid"
         },
         "marker": {
          "symbol": "circle"
         },
         "mode": "lines",
         "name": "",
         "orientation": "v",
         "showlegend": false,
         "type": "scatter",
         "x": [
          2011,
          2012,
          2013,
          2014,
          2015,
          2016,
          2017,
          2018,
          2019,
          2020,
          2021,
          2022
         ],
         "xaxis": "x",
         "y": [
          60201.738,
          152662.30599999998,
          186677.16599999997,
          274265.51099999994,
          394047.54999999993,
          510535.48299999995,
          648323.1159999999,
          806004.1649999999,
          952301.195,
          1034802.0869999999,
          1147583.676,
          1188162.839
         ],
         "yaxis": "y"
        }
       ],
       "layout": {
        "legend": {
         "tracegroupgap": 0
        },
        "template": {
         "data": {
          "bar": [
           {
            "error_x": {
             "color": "#2a3f5f"
            },
            "error_y": {
             "color": "#2a3f5f"
            },
            "marker": {
             "line": {
              "color": "#E5ECF6",
              "width": 0.5
             },
             "pattern": {
              "fillmode": "overlay",
              "size": 10,
              "solidity": 0.2
             }
            },
            "type": "bar"
           }
          ],
          "barpolar": [
           {
            "marker": {
             "line": {
              "color": "#E5ECF6",
              "width": 0.5
             },
             "pattern": {
              "fillmode": "overlay",
              "size": 10,
              "solidity": 0.2
             }
            },
            "type": "barpolar"
           }
          ],
          "carpet": [
           {
            "aaxis": {
             "endlinecolor": "#2a3f5f",
             "gridcolor": "white",
             "linecolor": "white",
             "minorgridcolor": "white",
             "startlinecolor": "#2a3f5f"
            },
            "baxis": {
             "endlinecolor": "#2a3f5f",
             "gridcolor": "white",
             "linecolor": "white",
             "minorgridcolor": "white",
             "startlinecolor": "#2a3f5f"
            },
            "type": "carpet"
           }
          ],
          "choropleth": [
           {
            "colorbar": {
             "outlinewidth": 0,
             "ticks": ""
            },
            "type": "choropleth"
           }
          ],
          "contour": [
           {
            "colorbar": {
             "outlinewidth": 0,
             "ticks": ""
            },
            "colorscale": [
             [
              0,
              "#0d0887"
             ],
             [
              0.1111111111111111,
              "#46039f"
             ],
             [
              0.2222222222222222,
              "#7201a8"
             ],
             [
              0.3333333333333333,
              "#9c179e"
             ],
             [
              0.4444444444444444,
              "#bd3786"
             ],
             [
              0.5555555555555556,
              "#d8576b"
             ],
             [
              0.6666666666666666,
              "#ed7953"
             ],
             [
              0.7777777777777778,
              "#fb9f3a"
             ],
             [
              0.8888888888888888,
              "#fdca26"
             ],
             [
              1,
              "#f0f921"
             ]
            ],
            "type": "contour"
           }
          ],
          "contourcarpet": [
           {
            "colorbar": {
             "outlinewidth": 0,
             "ticks": ""
            },
            "type": "contourcarpet"
           }
          ],
          "heatmap": [
           {
            "colorbar": {
             "outlinewidth": 0,
             "ticks": ""
            },
            "colorscale": [
             [
              0,
              "#0d0887"
             ],
             [
              0.1111111111111111,
              "#46039f"
             ],
             [
              0.2222222222222222,
              "#7201a8"
             ],
             [
              0.3333333333333333,
              "#9c179e"
             ],
             [
              0.4444444444444444,
              "#bd3786"
             ],
             [
              0.5555555555555556,
              "#d8576b"
             ],
             [
              0.6666666666666666,
              "#ed7953"
             ],
             [
              0.7777777777777778,
              "#fb9f3a"
             ],
             [
              0.8888888888888888,
              "#fdca26"
             ],
             [
              1,
              "#f0f921"
             ]
            ],
            "type": "heatmap"
           }
          ],
          "heatmapgl": [
           {
            "colorbar": {
             "outlinewidth": 0,
             "ticks": ""
            },
            "colorscale": [
             [
              0,
              "#0d0887"
             ],
             [
              0.1111111111111111,
              "#46039f"
             ],
             [
              0.2222222222222222,
              "#7201a8"
             ],
             [
              0.3333333333333333,
              "#9c179e"
             ],
             [
              0.4444444444444444,
              "#bd3786"
             ],
             [
              0.5555555555555556,
              "#d8576b"
             ],
             [
              0.6666666666666666,
              "#ed7953"
             ],
             [
              0.7777777777777778,
              "#fb9f3a"
             ],
             [
              0.8888888888888888,
              "#fdca26"
             ],
             [
              1,
              "#f0f921"
             ]
            ],
            "type": "heatmapgl"
           }
          ],
          "histogram": [
           {
            "marker": {
             "pattern": {
              "fillmode": "overlay",
              "size": 10,
              "solidity": 0.2
             }
            },
            "type": "histogram"
           }
          ],
          "histogram2d": [
           {
            "colorbar": {
             "outlinewidth": 0,
             "ticks": ""
            },
            "colorscale": [
             [
              0,
              "#0d0887"
             ],
             [
              0.1111111111111111,
              "#46039f"
             ],
             [
              0.2222222222222222,
              "#7201a8"
             ],
             [
              0.3333333333333333,
              "#9c179e"
             ],
             [
              0.4444444444444444,
              "#bd3786"
             ],
             [
              0.5555555555555556,
              "#d8576b"
             ],
             [
              0.6666666666666666,
              "#ed7953"
             ],
             [
              0.7777777777777778,
              "#fb9f3a"
             ],
             [
              0.8888888888888888,
              "#fdca26"
             ],
             [
              1,
              "#f0f921"
             ]
            ],
            "type": "histogram2d"
           }
          ],
          "histogram2dcontour": [
           {
            "colorbar": {
             "outlinewidth": 0,
             "ticks": ""
            },
            "colorscale": [
             [
              0,
              "#0d0887"
             ],
             [
              0.1111111111111111,
              "#46039f"
             ],
             [
              0.2222222222222222,
              "#7201a8"
             ],
             [
              0.3333333333333333,
              "#9c179e"
             ],
             [
              0.4444444444444444,
              "#bd3786"
             ],
             [
              0.5555555555555556,
              "#d8576b"
             ],
             [
              0.6666666666666666,
              "#ed7953"
             ],
             [
              0.7777777777777778,
              "#fb9f3a"
             ],
             [
              0.8888888888888888,
              "#fdca26"
             ],
             [
              1,
              "#f0f921"
             ]
            ],
            "type": "histogram2dcontour"
           }
          ],
          "mesh3d": [
           {
            "colorbar": {
             "outlinewidth": 0,
             "ticks": ""
            },
            "type": "mesh3d"
           }
          ],
          "parcoords": [
           {
            "line": {
             "colorbar": {
              "outlinewidth": 0,
              "ticks": ""
             }
            },
            "type": "parcoords"
           }
          ],
          "pie": [
           {
            "automargin": true,
            "type": "pie"
           }
          ],
          "scatter": [
           {
            "fillpattern": {
             "fillmode": "overlay",
             "size": 10,
             "solidity": 0.2
            },
            "type": "scatter"
           }
          ],
          "scatter3d": [
           {
            "line": {
             "colorbar": {
              "outlinewidth": 0,
              "ticks": ""
             }
            },
            "marker": {
             "colorbar": {
              "outlinewidth": 0,
              "ticks": ""
             }
            },
            "type": "scatter3d"
           }
          ],
          "scattercarpet": [
           {
            "marker": {
             "colorbar": {
              "outlinewidth": 0,
              "ticks": ""
             }
            },
            "type": "scattercarpet"
           }
          ],
          "scattergeo": [
           {
            "marker": {
             "colorbar": {
              "outlinewidth": 0,
              "ticks": ""
             }
            },
            "type": "scattergeo"
           }
          ],
          "scattergl": [
           {
            "marker": {
             "colorbar": {
              "outlinewidth": 0,
              "ticks": ""
             }
            },
            "type": "scattergl"
           }
          ],
          "scattermapbox": [
           {
            "marker": {
             "colorbar": {
              "outlinewidth": 0,
              "ticks": ""
             }
            },
            "type": "scattermapbox"
           }
          ],
          "scatterpolar": [
           {
            "marker": {
             "colorbar": {
              "outlinewidth": 0,
              "ticks": ""
             }
            },
            "type": "scatterpolar"
           }
          ],
          "scatterpolargl": [
           {
            "marker": {
             "colorbar": {
              "outlinewidth": 0,
              "ticks": ""
             }
            },
            "type": "scatterpolargl"
           }
          ],
          "scatterternary": [
           {
            "marker": {
             "colorbar": {
              "outlinewidth": 0,
              "ticks": ""
             }
            },
            "type": "scatterternary"
           }
          ],
          "surface": [
           {
            "colorbar": {
             "outlinewidth": 0,
             "ticks": ""
            },
            "colorscale": [
             [
              0,
              "#0d0887"
             ],
             [
              0.1111111111111111,
              "#46039f"
             ],
             [
              0.2222222222222222,
              "#7201a8"
             ],
             [
              0.3333333333333333,
              "#9c179e"
             ],
             [
              0.4444444444444444,
              "#bd3786"
             ],
             [
              0.5555555555555556,
              "#d8576b"
             ],
             [
              0.6666666666666666,
              "#ed7953"
             ],
             [
              0.7777777777777778,
              "#fb9f3a"
             ],
             [
              0.8888888888888888,
              "#fdca26"
             ],
             [
              1,
              "#f0f921"
             ]
            ],
            "type": "surface"
           }
          ],
          "table": [
           {
            "cells": {
             "fill": {
              "color": "#EBF0F8"
             },
             "line": {
              "color": "white"
             }
            },
            "header": {
             "fill": {
              "color": "#C8D4E3"
             },
             "line": {
              "color": "white"
             }
            },
            "type": "table"
           }
          ]
         },
         "layout": {
          "annotationdefaults": {
           "arrowcolor": "#2a3f5f",
           "arrowhead": 0,
           "arrowwidth": 1
          },
          "autotypenumbers": "strict",
          "coloraxis": {
           "colorbar": {
            "outlinewidth": 0,
            "ticks": ""
           }
          },
          "colorscale": {
           "diverging": [
            [
             0,
             "#8e0152"
            ],
            [
             0.1,
             "#c51b7d"
            ],
            [
             0.2,
             "#de77ae"
            ],
            [
             0.3,
             "#f1b6da"
            ],
            [
             0.4,
             "#fde0ef"
            ],
            [
             0.5,
             "#f7f7f7"
            ],
            [
             0.6,
             "#e6f5d0"
            ],
            [
             0.7,
             "#b8e186"
            ],
            [
             0.8,
             "#7fbc41"
            ],
            [
             0.9,
             "#4d9221"
            ],
            [
             1,
             "#276419"
            ]
           ],
           "sequential": [
            [
             0,
             "#0d0887"
            ],
            [
             0.1111111111111111,
             "#46039f"
            ],
            [
             0.2222222222222222,
             "#7201a8"
            ],
            [
             0.3333333333333333,
             "#9c179e"
            ],
            [
             0.4444444444444444,
             "#bd3786"
            ],
            [
             0.5555555555555556,
             "#d8576b"
            ],
            [
             0.6666666666666666,
             "#ed7953"
            ],
            [
             0.7777777777777778,
             "#fb9f3a"
            ],
            [
             0.8888888888888888,
             "#fdca26"
            ],
            [
             1,
             "#f0f921"
            ]
           ],
           "sequentialminus": [
            [
             0,
             "#0d0887"
            ],
            [
             0.1111111111111111,
             "#46039f"
            ],
            [
             0.2222222222222222,
             "#7201a8"
            ],
            [
             0.3333333333333333,
             "#9c179e"
            ],
            [
             0.4444444444444444,
             "#bd3786"
            ],
            [
             0.5555555555555556,
             "#d8576b"
            ],
            [
             0.6666666666666666,
             "#ed7953"
            ],
            [
             0.7777777777777778,
             "#fb9f3a"
            ],
            [
             0.8888888888888888,
             "#fdca26"
            ],
            [
             1,
             "#f0f921"
            ]
           ]
          },
          "colorway": [
           "#636efa",
           "#EF553B",
           "#00cc96",
           "#ab63fa",
           "#FFA15A",
           "#19d3f3",
           "#FF6692",
           "#B6E880",
           "#FF97FF",
           "#FECB52"
          ],
          "font": {
           "color": "#2a3f5f"
          },
          "geo": {
           "bgcolor": "white",
           "lakecolor": "white",
           "landcolor": "#E5ECF6",
           "showlakes": true,
           "showland": true,
           "subunitcolor": "white"
          },
          "hoverlabel": {
           "align": "left"
          },
          "hovermode": "closest",
          "mapbox": {
           "style": "light"
          },
          "paper_bgcolor": "white",
          "plot_bgcolor": "#E5ECF6",
          "polar": {
           "angularaxis": {
            "gridcolor": "white",
            "linecolor": "white",
            "ticks": ""
           },
           "bgcolor": "#E5ECF6",
           "radialaxis": {
            "gridcolor": "white",
            "linecolor": "white",
            "ticks": ""
           }
          },
          "scene": {
           "xaxis": {
            "backgroundcolor": "#E5ECF6",
            "gridcolor": "white",
            "gridwidth": 2,
            "linecolor": "white",
            "showbackground": true,
            "ticks": "",
            "zerolinecolor": "white"
           },
           "yaxis": {
            "backgroundcolor": "#E5ECF6",
            "gridcolor": "white",
            "gridwidth": 2,
            "linecolor": "white",
            "showbackground": true,
            "ticks": "",
            "zerolinecolor": "white"
           },
           "zaxis": {
            "backgroundcolor": "#E5ECF6",
            "gridcolor": "white",
            "gridwidth": 2,
            "linecolor": "white",
            "showbackground": true,
            "ticks": "",
            "zerolinecolor": "white"
           }
          },
          "shapedefaults": {
           "line": {
            "color": "#2a3f5f"
           }
          },
          "ternary": {
           "aaxis": {
            "gridcolor": "white",
            "linecolor": "white",
            "ticks": ""
           },
           "baxis": {
            "gridcolor": "white",
            "linecolor": "white",
            "ticks": ""
           },
           "bgcolor": "#E5ECF6",
           "caxis": {
            "gridcolor": "white",
            "linecolor": "white",
            "ticks": ""
           }
          },
          "title": {
           "x": 0.05
          },
          "xaxis": {
           "automargin": true,
           "gridcolor": "white",
           "linecolor": "white",
           "ticks": "",
           "title": {
            "standoff": 15
           },
           "zerolinecolor": "white",
           "zerolinewidth": 2
          },
          "yaxis": {
           "automargin": true,
           "gridcolor": "white",
           "linecolor": "white",
           "ticks": "",
           "title": {
            "standoff": 15
           },
           "zerolinecolor": "white",
           "zerolinewidth": 2
          }
         }
        },
        "title": {
         "text": "Cumulative embodied emissions per year for housing in Amsterdam"
        },
        "xaxis": {
         "anchor": "y",
         "domain": [
          0,
          1
         ],
         "title": {
          "text": "year"
         }
        },
        "yaxis": {
         "anchor": "x",
         "domain": [
          0,
          1
         ],
         "title": {
          "text": "cumulative_emissions"
         }
        }
       }
      }
     },
     "metadata": {},
     "output_type": "display_data"
    }
   ],
   "source": [
    "# emissions for one municipality\n",
    "def get_data_for_municipality(municipality_name, engine): \n",
    "    query = f''' \n",
    "    SELECT year, SUM(emissions_embodied_tons) AS emissions_embodied_tons\n",
    "    FROM emissions_embodied_housing_nl \n",
    "    WHERE year >= 2011 AND year <= 2022 AND municipality = '{municipality_name}'\n",
    "    GROUP BY year\n",
    "    '''\n",
    "    df = pd.read_sql_query(query, engine)    \n",
    "    df['cumulative_emissions'] = df['emissions_embodied_tons'].cumsum()\n",
    "    \n",
    "    return df \n",
    "\n",
    "def plot_embodiedEmissions_perYear_forMunicipality(df, municipality_name, type='cumulative'):\n",
    "    if type == 'cumulative':\n",
    "        title = f'Cumulative embodied emissions per year for housing in {municipality_name}'\n",
    "        y = 'cumulative_emissions'\n",
    "    else: \n",
    "        title = 'Embodied emissions per year for housing in ' + municipality_name\n",
    "        y = 'emissions_embodied_tons'\n",
    "    \n",
    "    fig = px.line(df, x='year', y=y, title=title)\n",
    "    fig.show()\n",
    "\n",
    "municipality_name = 'Amsterdam'\n",
    "df = get_data_for_municipality(municipality_name, engine)\n",
    "plot_embodiedEmissions_perYear_forMunicipality(df, municipality_name, 'n cumulative')\n",
    "plot_embodiedEmissions_perYear_forMunicipality(df, municipality_name, 'cumulative')"
   ]
  }
 ],
 "metadata": {
  "kernelspec": {
   "display_name": "geo_env",
   "language": "python",
   "name": "python3"
  },
  "language_info": {
   "codemirror_mode": {
    "name": "ipython",
    "version": 3
   },
   "file_extension": ".py",
   "mimetype": "text/x-python",
   "name": "python",
   "nbconvert_exporter": "python",
   "pygments_lexer": "ipython3",
   "version": "3.9.19"
  }
 },
 "nbformat": 4,
 "nbformat_minor": 2
}
