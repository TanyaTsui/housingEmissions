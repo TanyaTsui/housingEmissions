{
 "cells": [
  {
   "cell_type": "code",
   "execution_count": 1,
   "metadata": {},
   "outputs": [],
   "source": [
    "from sqlalchemy import create_engine, inspect, text\n",
    "import pandas as pd\n",
    "import geopandas as gpd\n",
    "import plotly.express as px\n",
    "import matplotlib.pyplot as plt\n",
    "import os\n",
    "os.chdir('/Users/tanyatsui/Documents/01_Projects/housingEmissions')\n",
    "\n",
    "from data_processing._common.query_runner import QueryRunner\n",
    "\n",
    "# define database connection\n",
    "db_name = \"urbanmining\"\n",
    "username = \"postgres\"\n",
    "password = \"Tunacompany5694!\"\n",
    "host = \"localhost\"  # or your host if it's not local\n",
    "port = \"5432\"  # default port for PostgreSQL\n",
    "\n",
    "connection_string = f\"postgresql://{username}:{password}@{host}:{port}/{db_name}\"\n",
    "engine = create_engine(connection_string)"
   ]
  },
  {
   "cell_type": "code",
   "execution_count": 2,
   "metadata": {},
   "outputs": [
    {
     "data": {
      "application/vnd.plotly.v1+json": {
       "config": {
        "plotlyServerURL": "https://plot.ly"
       },
       "data": [
        {
         "hovertemplate": "Emission type=emissions_operational_kg<br>Year=%{x}<br>Emissions (tons)=%{y}<extra></extra>",
         "legendgroup": "emissions_operational_kg",
         "line": {
          "color": "#636efa",
          "dash": "solid"
         },
         "marker": {
          "symbol": "circle"
         },
         "mode": "lines",
         "name": "emissions_operational_kg",
         "orientation": "v",
         "showlegend": true,
         "type": "scatter",
         "x": [
          2012,
          2013,
          2014,
          2015,
          2016,
          2017,
          2018,
          2019,
          2020,
          2021
         ],
         "xaxis": "x",
         "y": [
          309747.7629999992,
          499422.7099999994,
          542639.5460000022,
          899436.8189999983,
          1045123.9050000061,
          1344670.2850000001,
          1521185.5230000135,
          1664497.3450000049,
          1767429.9110000061,
          2194965.1480000056
         ],
         "yaxis": "y"
        },
        {
         "hovertemplate": "Emission type=emissions_embodied_kg<br>Year=%{x}<br>Emissions (tons)=%{y}<extra></extra>",
         "legendgroup": "emissions_embodied_kg",
         "line": {
          "color": "#EF553B",
          "dash": "solid"
         },
         "marker": {
          "symbol": "circle"
         },
         "mode": "lines",
         "name": "emissions_embodied_kg",
         "orientation": "v",
         "showlegend": true,
         "type": "scatter",
         "x": [
          2012,
          2013,
          2014,
          2015,
          2016,
          2017,
          2018,
          2019,
          2020,
          2021
         ],
         "xaxis": "x",
         "y": [
          2696829,
          1843130,
          1757416,
          2211824,
          1865222,
          2422729,
          2408664,
          2839700,
          2362978,
          2896955
         ],
         "yaxis": "y"
        }
       ],
       "layout": {
        "legend": {
         "title": {
          "text": "Emission type"
         },
         "tracegroupgap": 0
        },
        "template": {
         "data": {
          "bar": [
           {
            "error_x": {
             "color": "#2a3f5f"
            },
            "error_y": {
             "color": "#2a3f5f"
            },
            "marker": {
             "line": {
              "color": "#E5ECF6",
              "width": 0.5
             },
             "pattern": {
              "fillmode": "overlay",
              "size": 10,
              "solidity": 0.2
             }
            },
            "type": "bar"
           }
          ],
          "barpolar": [
           {
            "marker": {
             "line": {
              "color": "#E5ECF6",
              "width": 0.5
             },
             "pattern": {
              "fillmode": "overlay",
              "size": 10,
              "solidity": 0.2
             }
            },
            "type": "barpolar"
           }
          ],
          "carpet": [
           {
            "aaxis": {
             "endlinecolor": "#2a3f5f",
             "gridcolor": "white",
             "linecolor": "white",
             "minorgridcolor": "white",
             "startlinecolor": "#2a3f5f"
            },
            "baxis": {
             "endlinecolor": "#2a3f5f",
             "gridcolor": "white",
             "linecolor": "white",
             "minorgridcolor": "white",
             "startlinecolor": "#2a3f5f"
            },
            "type": "carpet"
           }
          ],
          "choropleth": [
           {
            "colorbar": {
             "outlinewidth": 0,
             "ticks": ""
            },
            "type": "choropleth"
           }
          ],
          "contour": [
           {
            "colorbar": {
             "outlinewidth": 0,
             "ticks": ""
            },
            "colorscale": [
             [
              0,
              "#0d0887"
             ],
             [
              0.1111111111111111,
              "#46039f"
             ],
             [
              0.2222222222222222,
              "#7201a8"
             ],
             [
              0.3333333333333333,
              "#9c179e"
             ],
             [
              0.4444444444444444,
              "#bd3786"
             ],
             [
              0.5555555555555556,
              "#d8576b"
             ],
             [
              0.6666666666666666,
              "#ed7953"
             ],
             [
              0.7777777777777778,
              "#fb9f3a"
             ],
             [
              0.8888888888888888,
              "#fdca26"
             ],
             [
              1,
              "#f0f921"
             ]
            ],
            "type": "contour"
           }
          ],
          "contourcarpet": [
           {
            "colorbar": {
             "outlinewidth": 0,
             "ticks": ""
            },
            "type": "contourcarpet"
           }
          ],
          "heatmap": [
           {
            "colorbar": {
             "outlinewidth": 0,
             "ticks": ""
            },
            "colorscale": [
             [
              0,
              "#0d0887"
             ],
             [
              0.1111111111111111,
              "#46039f"
             ],
             [
              0.2222222222222222,
              "#7201a8"
             ],
             [
              0.3333333333333333,
              "#9c179e"
             ],
             [
              0.4444444444444444,
              "#bd3786"
             ],
             [
              0.5555555555555556,
              "#d8576b"
             ],
             [
              0.6666666666666666,
              "#ed7953"
             ],
             [
              0.7777777777777778,
              "#fb9f3a"
             ],
             [
              0.8888888888888888,
              "#fdca26"
             ],
             [
              1,
              "#f0f921"
             ]
            ],
            "type": "heatmap"
           }
          ],
          "heatmapgl": [
           {
            "colorbar": {
             "outlinewidth": 0,
             "ticks": ""
            },
            "colorscale": [
             [
              0,
              "#0d0887"
             ],
             [
              0.1111111111111111,
              "#46039f"
             ],
             [
              0.2222222222222222,
              "#7201a8"
             ],
             [
              0.3333333333333333,
              "#9c179e"
             ],
             [
              0.4444444444444444,
              "#bd3786"
             ],
             [
              0.5555555555555556,
              "#d8576b"
             ],
             [
              0.6666666666666666,
              "#ed7953"
             ],
             [
              0.7777777777777778,
              "#fb9f3a"
             ],
             [
              0.8888888888888888,
              "#fdca26"
             ],
             [
              1,
              "#f0f921"
             ]
            ],
            "type": "heatmapgl"
           }
          ],
          "histogram": [
           {
            "marker": {
             "pattern": {
              "fillmode": "overlay",
              "size": 10,
              "solidity": 0.2
             }
            },
            "type": "histogram"
           }
          ],
          "histogram2d": [
           {
            "colorbar": {
             "outlinewidth": 0,
             "ticks": ""
            },
            "colorscale": [
             [
              0,
              "#0d0887"
             ],
             [
              0.1111111111111111,
              "#46039f"
             ],
             [
              0.2222222222222222,
              "#7201a8"
             ],
             [
              0.3333333333333333,
              "#9c179e"
             ],
             [
              0.4444444444444444,
              "#bd3786"
             ],
             [
              0.5555555555555556,
              "#d8576b"
             ],
             [
              0.6666666666666666,
              "#ed7953"
             ],
             [
              0.7777777777777778,
              "#fb9f3a"
             ],
             [
              0.8888888888888888,
              "#fdca26"
             ],
             [
              1,
              "#f0f921"
             ]
            ],
            "type": "histogram2d"
           }
          ],
          "histogram2dcontour": [
           {
            "colorbar": {
             "outlinewidth": 0,
             "ticks": ""
            },
            "colorscale": [
             [
              0,
              "#0d0887"
             ],
             [
              0.1111111111111111,
              "#46039f"
             ],
             [
              0.2222222222222222,
              "#7201a8"
             ],
             [
              0.3333333333333333,
              "#9c179e"
             ],
             [
              0.4444444444444444,
              "#bd3786"
             ],
             [
              0.5555555555555556,
              "#d8576b"
             ],
             [
              0.6666666666666666,
              "#ed7953"
             ],
             [
              0.7777777777777778,
              "#fb9f3a"
             ],
             [
              0.8888888888888888,
              "#fdca26"
             ],
             [
              1,
              "#f0f921"
             ]
            ],
            "type": "histogram2dcontour"
           }
          ],
          "mesh3d": [
           {
            "colorbar": {
             "outlinewidth": 0,
             "ticks": ""
            },
            "type": "mesh3d"
           }
          ],
          "parcoords": [
           {
            "line": {
             "colorbar": {
              "outlinewidth": 0,
              "ticks": ""
             }
            },
            "type": "parcoords"
           }
          ],
          "pie": [
           {
            "automargin": true,
            "type": "pie"
           }
          ],
          "scatter": [
           {
            "fillpattern": {
             "fillmode": "overlay",
             "size": 10,
             "solidity": 0.2
            },
            "type": "scatter"
           }
          ],
          "scatter3d": [
           {
            "line": {
             "colorbar": {
              "outlinewidth": 0,
              "ticks": ""
             }
            },
            "marker": {
             "colorbar": {
              "outlinewidth": 0,
              "ticks": ""
             }
            },
            "type": "scatter3d"
           }
          ],
          "scattercarpet": [
           {
            "marker": {
             "colorbar": {
              "outlinewidth": 0,
              "ticks": ""
             }
            },
            "type": "scattercarpet"
           }
          ],
          "scattergeo": [
           {
            "marker": {
             "colorbar": {
              "outlinewidth": 0,
              "ticks": ""
             }
            },
            "type": "scattergeo"
           }
          ],
          "scattergl": [
           {
            "marker": {
             "colorbar": {
              "outlinewidth": 0,
              "ticks": ""
             }
            },
            "type": "scattergl"
           }
          ],
          "scattermapbox": [
           {
            "marker": {
             "colorbar": {
              "outlinewidth": 0,
              "ticks": ""
             }
            },
            "type": "scattermapbox"
           }
          ],
          "scatterpolar": [
           {
            "marker": {
             "colorbar": {
              "outlinewidth": 0,
              "ticks": ""
             }
            },
            "type": "scatterpolar"
           }
          ],
          "scatterpolargl": [
           {
            "marker": {
             "colorbar": {
              "outlinewidth": 0,
              "ticks": ""
             }
            },
            "type": "scatterpolargl"
           }
          ],
          "scatterternary": [
           {
            "marker": {
             "colorbar": {
              "outlinewidth": 0,
              "ticks": ""
             }
            },
            "type": "scatterternary"
           }
          ],
          "surface": [
           {
            "colorbar": {
             "outlinewidth": 0,
             "ticks": ""
            },
            "colorscale": [
             [
              0,
              "#0d0887"
             ],
             [
              0.1111111111111111,
              "#46039f"
             ],
             [
              0.2222222222222222,
              "#7201a8"
             ],
             [
              0.3333333333333333,
              "#9c179e"
             ],
             [
              0.4444444444444444,
              "#bd3786"
             ],
             [
              0.5555555555555556,
              "#d8576b"
             ],
             [
              0.6666666666666666,
              "#ed7953"
             ],
             [
              0.7777777777777778,
              "#fb9f3a"
             ],
             [
              0.8888888888888888,
              "#fdca26"
             ],
             [
              1,
              "#f0f921"
             ]
            ],
            "type": "surface"
           }
          ],
          "table": [
           {
            "cells": {
             "fill": {
              "color": "#EBF0F8"
             },
             "line": {
              "color": "white"
             }
            },
            "header": {
             "fill": {
              "color": "#C8D4E3"
             },
             "line": {
              "color": "white"
             }
            },
            "type": "table"
           }
          ]
         },
         "layout": {
          "annotationdefaults": {
           "arrowcolor": "#2a3f5f",
           "arrowhead": 0,
           "arrowwidth": 1
          },
          "autotypenumbers": "strict",
          "coloraxis": {
           "colorbar": {
            "outlinewidth": 0,
            "ticks": ""
           }
          },
          "colorscale": {
           "diverging": [
            [
             0,
             "#8e0152"
            ],
            [
             0.1,
             "#c51b7d"
            ],
            [
             0.2,
             "#de77ae"
            ],
            [
             0.3,
             "#f1b6da"
            ],
            [
             0.4,
             "#fde0ef"
            ],
            [
             0.5,
             "#f7f7f7"
            ],
            [
             0.6,
             "#e6f5d0"
            ],
            [
             0.7,
             "#b8e186"
            ],
            [
             0.8,
             "#7fbc41"
            ],
            [
             0.9,
             "#4d9221"
            ],
            [
             1,
             "#276419"
            ]
           ],
           "sequential": [
            [
             0,
             "#0d0887"
            ],
            [
             0.1111111111111111,
             "#46039f"
            ],
            [
             0.2222222222222222,
             "#7201a8"
            ],
            [
             0.3333333333333333,
             "#9c179e"
            ],
            [
             0.4444444444444444,
             "#bd3786"
            ],
            [
             0.5555555555555556,
             "#d8576b"
            ],
            [
             0.6666666666666666,
             "#ed7953"
            ],
            [
             0.7777777777777778,
             "#fb9f3a"
            ],
            [
             0.8888888888888888,
             "#fdca26"
            ],
            [
             1,
             "#f0f921"
            ]
           ],
           "sequentialminus": [
            [
             0,
             "#0d0887"
            ],
            [
             0.1111111111111111,
             "#46039f"
            ],
            [
             0.2222222222222222,
             "#7201a8"
            ],
            [
             0.3333333333333333,
             "#9c179e"
            ],
            [
             0.4444444444444444,
             "#bd3786"
            ],
            [
             0.5555555555555556,
             "#d8576b"
            ],
            [
             0.6666666666666666,
             "#ed7953"
            ],
            [
             0.7777777777777778,
             "#fb9f3a"
            ],
            [
             0.8888888888888888,
             "#fdca26"
            ],
            [
             1,
             "#f0f921"
            ]
           ]
          },
          "colorway": [
           "#636efa",
           "#EF553B",
           "#00cc96",
           "#ab63fa",
           "#FFA15A",
           "#19d3f3",
           "#FF6692",
           "#B6E880",
           "#FF97FF",
           "#FECB52"
          ],
          "font": {
           "color": "#2a3f5f"
          },
          "geo": {
           "bgcolor": "white",
           "lakecolor": "white",
           "landcolor": "#E5ECF6",
           "showlakes": true,
           "showland": true,
           "subunitcolor": "white"
          },
          "hoverlabel": {
           "align": "left"
          },
          "hovermode": "closest",
          "mapbox": {
           "style": "light"
          },
          "paper_bgcolor": "white",
          "plot_bgcolor": "#E5ECF6",
          "polar": {
           "angularaxis": {
            "gridcolor": "white",
            "linecolor": "white",
            "ticks": ""
           },
           "bgcolor": "#E5ECF6",
           "radialaxis": {
            "gridcolor": "white",
            "linecolor": "white",
            "ticks": ""
           }
          },
          "scene": {
           "xaxis": {
            "backgroundcolor": "#E5ECF6",
            "gridcolor": "white",
            "gridwidth": 2,
            "linecolor": "white",
            "showbackground": true,
            "ticks": "",
            "zerolinecolor": "white"
           },
           "yaxis": {
            "backgroundcolor": "#E5ECF6",
            "gridcolor": "white",
            "gridwidth": 2,
            "linecolor": "white",
            "showbackground": true,
            "ticks": "",
            "zerolinecolor": "white"
           },
           "zaxis": {
            "backgroundcolor": "#E5ECF6",
            "gridcolor": "white",
            "gridwidth": 2,
            "linecolor": "white",
            "showbackground": true,
            "ticks": "",
            "zerolinecolor": "white"
           }
          },
          "shapedefaults": {
           "line": {
            "color": "#2a3f5f"
           }
          },
          "ternary": {
           "aaxis": {
            "gridcolor": "white",
            "linecolor": "white",
            "ticks": ""
           },
           "baxis": {
            "gridcolor": "white",
            "linecolor": "white",
            "ticks": ""
           },
           "bgcolor": "#E5ECF6",
           "caxis": {
            "gridcolor": "white",
            "linecolor": "white",
            "ticks": ""
           }
          },
          "title": {
           "x": 0.05
          },
          "xaxis": {
           "automargin": true,
           "gridcolor": "white",
           "linecolor": "white",
           "ticks": "",
           "title": {
            "standoff": 15
           },
           "zerolinecolor": "white",
           "zerolinewidth": 2
          },
          "yaxis": {
           "automargin": true,
           "gridcolor": "white",
           "linecolor": "white",
           "ticks": "",
           "title": {
            "standoff": 15
           },
           "zerolinecolor": "white",
           "zerolinewidth": 2
          }
         }
        },
        "title": {
         "text": "Emissions of new homes in NL"
        },
        "xaxis": {
         "anchor": "y",
         "domain": [
          0,
          1
         ],
         "title": {
          "text": "Year"
         }
        },
        "yaxis": {
         "anchor": "x",
         "domain": [
          0,
          1
         ],
         "title": {
          "text": "Emissions (tons)"
         }
        }
       }
      }
     },
     "metadata": {},
     "output_type": "display_data"
    },
    {
     "data": {
      "application/vnd.plotly.v1+json": {
       "config": {
        "plotlyServerURL": "https://plot.ly"
       },
       "data": [
        {
         "alignmentgroup": "True",
         "hovertemplate": "Emission type=emissions_operational_kg<br>Year=%{x}<br>Emissions (tons)=%{y}<extra></extra>",
         "legendgroup": "emissions_operational_kg",
         "marker": {
          "color": "#636efa",
          "pattern": {
           "shape": ""
          }
         },
         "name": "emissions_operational_kg",
         "offsetgroup": "emissions_operational_kg",
         "orientation": "v",
         "showlegend": true,
         "textposition": "auto",
         "type": "bar",
         "x": [
          2012,
          2013,
          2014,
          2015,
          2016,
          2017,
          2018,
          2019,
          2020,
          2021
         ],
         "xaxis": "x",
         "y": [
          309747.7629999992,
          499422.7099999994,
          542639.5460000022,
          899436.8189999983,
          1045123.9050000061,
          1344670.2850000001,
          1521185.5230000135,
          1664497.3450000049,
          1767429.9110000061,
          2194965.1480000056
         ],
         "yaxis": "y"
        },
        {
         "alignmentgroup": "True",
         "hovertemplate": "Emission type=emissions_embodied_kg<br>Year=%{x}<br>Emissions (tons)=%{y}<extra></extra>",
         "legendgroup": "emissions_embodied_kg",
         "marker": {
          "color": "#EF553B",
          "pattern": {
           "shape": ""
          }
         },
         "name": "emissions_embodied_kg",
         "offsetgroup": "emissions_embodied_kg",
         "orientation": "v",
         "showlegend": true,
         "textposition": "auto",
         "type": "bar",
         "x": [
          2012,
          2013,
          2014,
          2015,
          2016,
          2017,
          2018,
          2019,
          2020,
          2021
         ],
         "xaxis": "x",
         "y": [
          2696829,
          1843130,
          1757416,
          2211824,
          1865222,
          2422729,
          2408664,
          2839700,
          2362978,
          2896955
         ],
         "yaxis": "y"
        }
       ],
       "layout": {
        "barmode": "stack",
        "legend": {
         "title": {
          "text": "Emission type"
         },
         "tracegroupgap": 0
        },
        "template": {
         "data": {
          "bar": [
           {
            "error_x": {
             "color": "#2a3f5f"
            },
            "error_y": {
             "color": "#2a3f5f"
            },
            "marker": {
             "line": {
              "color": "#E5ECF6",
              "width": 0.5
             },
             "pattern": {
              "fillmode": "overlay",
              "size": 10,
              "solidity": 0.2
             }
            },
            "type": "bar"
           }
          ],
          "barpolar": [
           {
            "marker": {
             "line": {
              "color": "#E5ECF6",
              "width": 0.5
             },
             "pattern": {
              "fillmode": "overlay",
              "size": 10,
              "solidity": 0.2
             }
            },
            "type": "barpolar"
           }
          ],
          "carpet": [
           {
            "aaxis": {
             "endlinecolor": "#2a3f5f",
             "gridcolor": "white",
             "linecolor": "white",
             "minorgridcolor": "white",
             "startlinecolor": "#2a3f5f"
            },
            "baxis": {
             "endlinecolor": "#2a3f5f",
             "gridcolor": "white",
             "linecolor": "white",
             "minorgridcolor": "white",
             "startlinecolor": "#2a3f5f"
            },
            "type": "carpet"
           }
          ],
          "choropleth": [
           {
            "colorbar": {
             "outlinewidth": 0,
             "ticks": ""
            },
            "type": "choropleth"
           }
          ],
          "contour": [
           {
            "colorbar": {
             "outlinewidth": 0,
             "ticks": ""
            },
            "colorscale": [
             [
              0,
              "#0d0887"
             ],
             [
              0.1111111111111111,
              "#46039f"
             ],
             [
              0.2222222222222222,
              "#7201a8"
             ],
             [
              0.3333333333333333,
              "#9c179e"
             ],
             [
              0.4444444444444444,
              "#bd3786"
             ],
             [
              0.5555555555555556,
              "#d8576b"
             ],
             [
              0.6666666666666666,
              "#ed7953"
             ],
             [
              0.7777777777777778,
              "#fb9f3a"
             ],
             [
              0.8888888888888888,
              "#fdca26"
             ],
             [
              1,
              "#f0f921"
             ]
            ],
            "type": "contour"
           }
          ],
          "contourcarpet": [
           {
            "colorbar": {
             "outlinewidth": 0,
             "ticks": ""
            },
            "type": "contourcarpet"
           }
          ],
          "heatmap": [
           {
            "colorbar": {
             "outlinewidth": 0,
             "ticks": ""
            },
            "colorscale": [
             [
              0,
              "#0d0887"
             ],
             [
              0.1111111111111111,
              "#46039f"
             ],
             [
              0.2222222222222222,
              "#7201a8"
             ],
             [
              0.3333333333333333,
              "#9c179e"
             ],
             [
              0.4444444444444444,
              "#bd3786"
             ],
             [
              0.5555555555555556,
              "#d8576b"
             ],
             [
              0.6666666666666666,
              "#ed7953"
             ],
             [
              0.7777777777777778,
              "#fb9f3a"
             ],
             [
              0.8888888888888888,
              "#fdca26"
             ],
             [
              1,
              "#f0f921"
             ]
            ],
            "type": "heatmap"
           }
          ],
          "heatmapgl": [
           {
            "colorbar": {
             "outlinewidth": 0,
             "ticks": ""
            },
            "colorscale": [
             [
              0,
              "#0d0887"
             ],
             [
              0.1111111111111111,
              "#46039f"
             ],
             [
              0.2222222222222222,
              "#7201a8"
             ],
             [
              0.3333333333333333,
              "#9c179e"
             ],
             [
              0.4444444444444444,
              "#bd3786"
             ],
             [
              0.5555555555555556,
              "#d8576b"
             ],
             [
              0.6666666666666666,
              "#ed7953"
             ],
             [
              0.7777777777777778,
              "#fb9f3a"
             ],
             [
              0.8888888888888888,
              "#fdca26"
             ],
             [
              1,
              "#f0f921"
             ]
            ],
            "type": "heatmapgl"
           }
          ],
          "histogram": [
           {
            "marker": {
             "pattern": {
              "fillmode": "overlay",
              "size": 10,
              "solidity": 0.2
             }
            },
            "type": "histogram"
           }
          ],
          "histogram2d": [
           {
            "colorbar": {
             "outlinewidth": 0,
             "ticks": ""
            },
            "colorscale": [
             [
              0,
              "#0d0887"
             ],
             [
              0.1111111111111111,
              "#46039f"
             ],
             [
              0.2222222222222222,
              "#7201a8"
             ],
             [
              0.3333333333333333,
              "#9c179e"
             ],
             [
              0.4444444444444444,
              "#bd3786"
             ],
             [
              0.5555555555555556,
              "#d8576b"
             ],
             [
              0.6666666666666666,
              "#ed7953"
             ],
             [
              0.7777777777777778,
              "#fb9f3a"
             ],
             [
              0.8888888888888888,
              "#fdca26"
             ],
             [
              1,
              "#f0f921"
             ]
            ],
            "type": "histogram2d"
           }
          ],
          "histogram2dcontour": [
           {
            "colorbar": {
             "outlinewidth": 0,
             "ticks": ""
            },
            "colorscale": [
             [
              0,
              "#0d0887"
             ],
             [
              0.1111111111111111,
              "#46039f"
             ],
             [
              0.2222222222222222,
              "#7201a8"
             ],
             [
              0.3333333333333333,
              "#9c179e"
             ],
             [
              0.4444444444444444,
              "#bd3786"
             ],
             [
              0.5555555555555556,
              "#d8576b"
             ],
             [
              0.6666666666666666,
              "#ed7953"
             ],
             [
              0.7777777777777778,
              "#fb9f3a"
             ],
             [
              0.8888888888888888,
              "#fdca26"
             ],
             [
              1,
              "#f0f921"
             ]
            ],
            "type": "histogram2dcontour"
           }
          ],
          "mesh3d": [
           {
            "colorbar": {
             "outlinewidth": 0,
             "ticks": ""
            },
            "type": "mesh3d"
           }
          ],
          "parcoords": [
           {
            "line": {
             "colorbar": {
              "outlinewidth": 0,
              "ticks": ""
             }
            },
            "type": "parcoords"
           }
          ],
          "pie": [
           {
            "automargin": true,
            "type": "pie"
           }
          ],
          "scatter": [
           {
            "fillpattern": {
             "fillmode": "overlay",
             "size": 10,
             "solidity": 0.2
            },
            "type": "scatter"
           }
          ],
          "scatter3d": [
           {
            "line": {
             "colorbar": {
              "outlinewidth": 0,
              "ticks": ""
             }
            },
            "marker": {
             "colorbar": {
              "outlinewidth": 0,
              "ticks": ""
             }
            },
            "type": "scatter3d"
           }
          ],
          "scattercarpet": [
           {
            "marker": {
             "colorbar": {
              "outlinewidth": 0,
              "ticks": ""
             }
            },
            "type": "scattercarpet"
           }
          ],
          "scattergeo": [
           {
            "marker": {
             "colorbar": {
              "outlinewidth": 0,
              "ticks": ""
             }
            },
            "type": "scattergeo"
           }
          ],
          "scattergl": [
           {
            "marker": {
             "colorbar": {
              "outlinewidth": 0,
              "ticks": ""
             }
            },
            "type": "scattergl"
           }
          ],
          "scattermapbox": [
           {
            "marker": {
             "colorbar": {
              "outlinewidth": 0,
              "ticks": ""
             }
            },
            "type": "scattermapbox"
           }
          ],
          "scatterpolar": [
           {
            "marker": {
             "colorbar": {
              "outlinewidth": 0,
              "ticks": ""
             }
            },
            "type": "scatterpolar"
           }
          ],
          "scatterpolargl": [
           {
            "marker": {
             "colorbar": {
              "outlinewidth": 0,
              "ticks": ""
             }
            },
            "type": "scatterpolargl"
           }
          ],
          "scatterternary": [
           {
            "marker": {
             "colorbar": {
              "outlinewidth": 0,
              "ticks": ""
             }
            },
            "type": "scatterternary"
           }
          ],
          "surface": [
           {
            "colorbar": {
             "outlinewidth": 0,
             "ticks": ""
            },
            "colorscale": [
             [
              0,
              "#0d0887"
             ],
             [
              0.1111111111111111,
              "#46039f"
             ],
             [
              0.2222222222222222,
              "#7201a8"
             ],
             [
              0.3333333333333333,
              "#9c179e"
             ],
             [
              0.4444444444444444,
              "#bd3786"
             ],
             [
              0.5555555555555556,
              "#d8576b"
             ],
             [
              0.6666666666666666,
              "#ed7953"
             ],
             [
              0.7777777777777778,
              "#fb9f3a"
             ],
             [
              0.8888888888888888,
              "#fdca26"
             ],
             [
              1,
              "#f0f921"
             ]
            ],
            "type": "surface"
           }
          ],
          "table": [
           {
            "cells": {
             "fill": {
              "color": "#EBF0F8"
             },
             "line": {
              "color": "white"
             }
            },
            "header": {
             "fill": {
              "color": "#C8D4E3"
             },
             "line": {
              "color": "white"
             }
            },
            "type": "table"
           }
          ]
         },
         "layout": {
          "annotationdefaults": {
           "arrowcolor": "#2a3f5f",
           "arrowhead": 0,
           "arrowwidth": 1
          },
          "autotypenumbers": "strict",
          "coloraxis": {
           "colorbar": {
            "outlinewidth": 0,
            "ticks": ""
           }
          },
          "colorscale": {
           "diverging": [
            [
             0,
             "#8e0152"
            ],
            [
             0.1,
             "#c51b7d"
            ],
            [
             0.2,
             "#de77ae"
            ],
            [
             0.3,
             "#f1b6da"
            ],
            [
             0.4,
             "#fde0ef"
            ],
            [
             0.5,
             "#f7f7f7"
            ],
            [
             0.6,
             "#e6f5d0"
            ],
            [
             0.7,
             "#b8e186"
            ],
            [
             0.8,
             "#7fbc41"
            ],
            [
             0.9,
             "#4d9221"
            ],
            [
             1,
             "#276419"
            ]
           ],
           "sequential": [
            [
             0,
             "#0d0887"
            ],
            [
             0.1111111111111111,
             "#46039f"
            ],
            [
             0.2222222222222222,
             "#7201a8"
            ],
            [
             0.3333333333333333,
             "#9c179e"
            ],
            [
             0.4444444444444444,
             "#bd3786"
            ],
            [
             0.5555555555555556,
             "#d8576b"
            ],
            [
             0.6666666666666666,
             "#ed7953"
            ],
            [
             0.7777777777777778,
             "#fb9f3a"
            ],
            [
             0.8888888888888888,
             "#fdca26"
            ],
            [
             1,
             "#f0f921"
            ]
           ],
           "sequentialminus": [
            [
             0,
             "#0d0887"
            ],
            [
             0.1111111111111111,
             "#46039f"
            ],
            [
             0.2222222222222222,
             "#7201a8"
            ],
            [
             0.3333333333333333,
             "#9c179e"
            ],
            [
             0.4444444444444444,
             "#bd3786"
            ],
            [
             0.5555555555555556,
             "#d8576b"
            ],
            [
             0.6666666666666666,
             "#ed7953"
            ],
            [
             0.7777777777777778,
             "#fb9f3a"
            ],
            [
             0.8888888888888888,
             "#fdca26"
            ],
            [
             1,
             "#f0f921"
            ]
           ]
          },
          "colorway": [
           "#636efa",
           "#EF553B",
           "#00cc96",
           "#ab63fa",
           "#FFA15A",
           "#19d3f3",
           "#FF6692",
           "#B6E880",
           "#FF97FF",
           "#FECB52"
          ],
          "font": {
           "color": "#2a3f5f"
          },
          "geo": {
           "bgcolor": "white",
           "lakecolor": "white",
           "landcolor": "#E5ECF6",
           "showlakes": true,
           "showland": true,
           "subunitcolor": "white"
          },
          "hoverlabel": {
           "align": "left"
          },
          "hovermode": "closest",
          "mapbox": {
           "style": "light"
          },
          "paper_bgcolor": "white",
          "plot_bgcolor": "#E5ECF6",
          "polar": {
           "angularaxis": {
            "gridcolor": "white",
            "linecolor": "white",
            "ticks": ""
           },
           "bgcolor": "#E5ECF6",
           "radialaxis": {
            "gridcolor": "white",
            "linecolor": "white",
            "ticks": ""
           }
          },
          "scene": {
           "xaxis": {
            "backgroundcolor": "#E5ECF6",
            "gridcolor": "white",
            "gridwidth": 2,
            "linecolor": "white",
            "showbackground": true,
            "ticks": "",
            "zerolinecolor": "white"
           },
           "yaxis": {
            "backgroundcolor": "#E5ECF6",
            "gridcolor": "white",
            "gridwidth": 2,
            "linecolor": "white",
            "showbackground": true,
            "ticks": "",
            "zerolinecolor": "white"
           },
           "zaxis": {
            "backgroundcolor": "#E5ECF6",
            "gridcolor": "white",
            "gridwidth": 2,
            "linecolor": "white",
            "showbackground": true,
            "ticks": "",
            "zerolinecolor": "white"
           }
          },
          "shapedefaults": {
           "line": {
            "color": "#2a3f5f"
           }
          },
          "ternary": {
           "aaxis": {
            "gridcolor": "white",
            "linecolor": "white",
            "ticks": ""
           },
           "baxis": {
            "gridcolor": "white",
            "linecolor": "white",
            "ticks": ""
           },
           "bgcolor": "#E5ECF6",
           "caxis": {
            "gridcolor": "white",
            "linecolor": "white",
            "ticks": ""
           }
          },
          "title": {
           "x": 0.05
          },
          "xaxis": {
           "automargin": true,
           "gridcolor": "white",
           "linecolor": "white",
           "ticks": "",
           "title": {
            "standoff": 15
           },
           "zerolinecolor": "white",
           "zerolinewidth": 2
          },
          "yaxis": {
           "automargin": true,
           "gridcolor": "white",
           "linecolor": "white",
           "ticks": "",
           "title": {
            "standoff": 15
           },
           "zerolinecolor": "white",
           "zerolinewidth": 2
          }
         }
        },
        "title": {
         "text": "Emissions of new homes in NL"
        },
        "xaxis": {
         "anchor": "y",
         "domain": [
          0,
          1
         ],
         "title": {
          "text": "Year"
         }
        },
        "yaxis": {
         "anchor": "x",
         "domain": [
          0,
          1
         ],
         "title": {
          "text": "Emissions (tons)"
         }
        }
       }
      }
     },
     "metadata": {},
     "output_type": "display_data"
    }
   ],
   "source": [
    "query = ''' \n",
    "SELECT year, \n",
    "\tSUM(emissions_operational_kg/1000) AS emissions_operational_kg, \n",
    "\tSUM(emissions_embodied_kg/1000) AS emissions_embodied_kg\n",
    "FROM new_housing_emissions \n",
    "GROUP BY year \n",
    "'''\n",
    "\n",
    "df = pd.read_sql_query(query, engine)\n",
    "\n",
    "fig = px.line(df, x='year', y=['emissions_operational_kg', 'emissions_embodied_kg'], \n",
    "              title='Emissions of new homes in NL', \n",
    "              labels={'value': 'Emissions (tons)', 'year': 'Year', 'variable': 'Emission type'})\n",
    "fig.show()\n",
    "\n",
    "fig = px.bar(df, x='year', y=['emissions_operational_kg', 'emissions_embodied_kg'], barmode='stack', \n",
    "             title='Emissions of new homes in NL', \n",
    "             labels={'value': 'Emissions (tons)', 'year': 'Year', 'variable': 'Emission type'})\n",
    "fig.show()"
   ]
  },
  {
   "cell_type": "code",
   "execution_count": 3,
   "metadata": {},
   "outputs": [],
   "source": [
    "with open('sql/new_housing/emissions_per_home.sql', 'r') as file:\n",
    "    query = file.read()\n",
    "\n",
    "df = pd.read_sql_query(text(query), engine)"
   ]
  },
  {
   "cell_type": "code",
   "execution_count": 4,
   "metadata": {},
   "outputs": [],
   "source": [
    "av_operational = df.operational_per_sqm.mean()\n",
    "av_embodied = df.embodied_per_sqm.mean()\n",
    "def classify_municipality(row): \n",
    "    if row['operational_per_sqm'] > av_operational and row['embodied_per_sqm'] > av_embodied:\n",
    "        return 'inefficient'\n",
    "    elif row['operational_per_sqm'] > av_operational:\n",
    "        return 'energy heavy'\n",
    "    elif row['embodied_per_sqm'] > av_embodied:\n",
    "        return 'material heavy'\n",
    "    else:\n",
    "        return 'efficient'\n",
    "df['classification'] = df.apply(classify_municipality, axis=1)"
   ]
  },
  {
   "cell_type": "code",
   "execution_count": 5,
   "metadata": {},
   "outputs": [
    {
     "data": {
      "application/vnd.plotly.v1+json": {
       "config": {
        "plotlyServerURL": "https://plot.ly"
       },
       "data": [
        {
         "customdata": [
          [
           "Montfoort"
          ],
          [
           "Alkmaar"
          ],
          [
           "Katwijk"
          ],
          [
           "Leidschendam-Voorburg"
          ],
          [
           "De Bilt"
          ],
          [
           "Doesburg"
          ],
          [
           "Bergen (NH.)"
          ],
          [
           "Texel"
          ],
          [
           "De Ronde Venen"
          ],
          [
           "Zwartewaterland"
          ],
          [
           "Gouda"
          ],
          [
           "Opsterland"
          ],
          [
           "Hengelo"
          ],
          [
           "Leiden"
          ],
          [
           "Heerenveen"
          ],
          [
           "Baarn"
          ],
          [
           "Berkelland"
          ],
          [
           "Alphen aan den Rijn"
          ],
          [
           "Zaltbommel"
          ],
          [
           "Ameland"
          ],
          [
           "Amstelveen"
          ],
          [
           "Terneuzen"
          ],
          [
           "Noordwijk"
          ],
          [
           "Rotterdam"
          ],
          [
           "Waadhoeke"
          ],
          [
           "Twenterand"
          ],
          [
           "Waterland"
          ],
          [
           "Haarlem"
          ],
          [
           "Barendrecht"
          ],
          [
           "Voerendaal"
          ],
          [
           "Uitgeest"
          ],
          [
           "Ridderkerk"
          ],
          [
           "Rucphen"
          ],
          [
           "Zandvoort"
          ],
          [
           "Schouwen-Duiveland"
          ],
          [
           "Olst-Wijhe"
          ],
          [
           "Asten"
          ],
          [
           "Sluis"
          ],
          [
           "Eemnes"
          ],
          [
           "Woudenberg"
          ],
          [
           "Gooise Meren"
          ],
          [
           "Gulpen-Wittem"
          ],
          [
           "Hulst"
          ],
          [
           "Tytsjerksteradiel"
          ],
          [
           "Kampen"
          ],
          [
           "Venlo"
          ],
          [
           "Rheden"
          ],
          [
           "Leudal"
          ],
          [
           "Hattem"
          ]
         ],
         "hovertemplate": "classification=energy heavy<br>operational_per_sqm=%{x}<br>embodied_per_sqm=%{y}<br>municipality=%{customdata[0]}<extra></extra>",
         "legendgroup": "energy heavy",
         "marker": {
          "color": "#00CC96",
          "symbol": "circle"
         },
         "mode": "markers",
         "name": "energy heavy",
         "orientation": "v",
         "showlegend": true,
         "type": "scatter",
         "x": [
          202,
          226,
          198,
          144,
          368,
          153,
          129,
          129,
          338,
          166,
          167,
          119,
          167,
          165,
          124,
          220,
          121,
          128,
          138,
          120,
          169,
          127,
          168,
          136,
          174,
          167,
          139,
          140,
          162,
          142,
          184,
          128,
          131,
          118,
          147,
          208,
          137,
          123,
          124,
          199,
          118,
          124,
          138,
          127,
          125,
          142,
          127,
          181,
          141
         ],
         "xaxis": "x",
         "y": [
          287,
          292,
          273,
          251,
          242,
          279,
          286,
          276,
          254,
          294,
          274,
          268,
          294,
          275,
          294,
          244,
          291,
          292,
          261,
          265,
          134,
          238,
          292,
          240,
          233,
          267,
          285,
          261,
          272,
          294,
          288,
          256,
          215,
          201,
          294,
          142,
          283,
          253,
          291,
          293,
          283,
          253,
          253,
          256,
          291,
          128,
          292,
          256,
          294
         ],
         "yaxis": "y"
        },
        {
         "customdata": [
          [
           "Nissewaard"
          ],
          [
           "Hilvarenbeek"
          ],
          [
           "Oirschot"
          ],
          [
           "Doetinchem"
          ],
          [
           "Montferland"
          ],
          [
           "Berg en Dal"
          ],
          [
           "Veldhoven"
          ],
          [
           "Almelo"
          ],
          [
           "Ooststellingwerf"
          ],
          [
           "Noardeast-Fryslân"
          ],
          [
           "Maassluis"
          ],
          [
           "Borne"
          ],
          [
           "Elburg"
          ],
          [
           "Westerwolde"
          ],
          [
           "Brummen"
          ],
          [
           "Zevenaar"
          ],
          [
           "Geldrop-Mierlo"
          ],
          [
           "Leeuwarden"
          ],
          [
           "Zuidplas"
          ],
          [
           "Stede Broec"
          ],
          [
           "Oosterhout"
          ],
          [
           "Papendrecht"
          ],
          [
           "Culemborg"
          ],
          [
           "Zoeterwoude"
          ],
          [
           "Lingewaard"
          ],
          [
           "Baarle-Nassau"
          ],
          [
           "Boekel"
          ],
          [
           "Bodegraven-Reeuwijk"
          ],
          [
           "De Wolden"
          ],
          [
           "Nederweert"
          ],
          [
           "Hardenberg"
          ],
          [
           "Mook en Middelaar"
          ],
          [
           "Reusel-De Mierden"
          ],
          [
           "Drimmelen"
          ],
          [
           "Hof van Twente"
          ],
          [
           "Assen"
          ],
          [
           "Zeewolde"
          ],
          [
           "Diemen"
          ],
          [
           "Midden-Drenthe"
          ],
          [
           "Tilburg"
          ],
          [
           "Haarlemmermeer"
          ],
          [
           "Deurne"
          ],
          [
           "Waalwijk"
          ],
          [
           "Amersfoort"
          ],
          [
           "Drechterland"
          ],
          [
           "Delft"
          ],
          [
           "Heerde"
          ],
          [
           "Westervoort"
          ],
          [
           "Purmerend"
          ],
          [
           "Helmond"
          ],
          [
           "Houten"
          ],
          [
           "Bladel"
          ],
          [
           "Woensdrecht"
          ],
          [
           "Valkenswaard"
          ],
          [
           "Velsen"
          ],
          [
           "Veere"
          ],
          [
           "Meierijstad"
          ],
          [
           "Coevorden"
          ],
          [
           "Duiven"
          ],
          [
           "Dinkelland"
          ],
          [
           "Amsterdam"
          ],
          [
           "Ede"
          ],
          [
           "Noordoostpolder"
          ],
          [
           "Lelystad"
          ],
          [
           "Voorst"
          ],
          [
           "Weststellingwerf"
          ],
          [
           "Haaksbergen"
          ],
          [
           "Tynaarlo"
          ],
          [
           "Steenbergen"
          ],
          [
           "Bergeijk"
          ],
          [
           "Koggenland"
          ],
          [
           "Eemsdelta"
          ],
          [
           "Eersel"
          ],
          [
           "Meppel"
          ],
          [
           "Gilze en Rijen"
          ],
          [
           "Zwijndrecht"
          ],
          [
           "Weesp"
          ],
          [
           "Urk"
          ],
          [
           "Beesel"
          ],
          [
           "Heeze-Leende"
          ],
          [
           "Soest"
          ],
          [
           "Nijmegen"
          ],
          [
           "West Maas en Waal"
          ],
          [
           "Zundert"
          ],
          [
           "Gennep"
          ],
          [
           "Dalfsen"
          ],
          [
           "Loon op Zand"
          ],
          [
           "Beuningen"
          ],
          [
           "Bunschoten"
          ],
          [
           "Laarbeek"
          ],
          [
           "Emmen"
          ],
          [
           "Groningen"
          ],
          [
           "Vijfheerenlanden"
          ],
          [
           "Cranendonck"
          ],
          [
           "Nuenen, Gerwen en Nederwetten"
          ],
          [
           "Peel en Maas"
          ],
          [
           "Roermond"
          ],
          [
           "Dijk en Waard"
          ],
          [
           "Heumen"
          ],
          [
           "Waalre"
          ],
          [
           "Maashorst"
          ],
          [
           "Nieuwegein"
          ],
          [
           "Rijswijk"
          ],
          [
           "Renkum"
          ],
          [
           "Eindhoven"
          ],
          [
           "Veenendaal"
          ],
          [
           "Dronten"
          ],
          [
           "Renswoude"
          ],
          [
           "Tubbergen"
          ],
          [
           "Goeree-Overflakkee"
          ],
          [
           "Kaag en Braassem"
          ],
          [
           "Alphen-Chaam"
          ],
          [
           "Bergen (L.)"
          ],
          [
           "Staphorst"
          ],
          [
           "Westerkwartier"
          ],
          [
           "Rijssen-Holten"
          ],
          [
           "Someren"
          ],
          [
           "Enschede"
          ],
          [
           "Land van Cuijk"
          ],
          [
           "Hoogeveen"
          ],
          [
           "Waddinxveen"
          ],
          [
           "Goirle"
          ],
          [
           "Bernheze"
          ],
          [
           "Almere"
          ],
          [
           "Harderwijk"
          ],
          [
           "Vught"
          ],
          [
           "Best"
          ],
          [
           "Rozendaal"
          ],
          [
           "Oldenzaal"
          ],
          [
           "Harlingen"
          ],
          [
           "Stadskanaal"
          ],
          [
           "Ommen"
          ],
          [
           "Heusden"
          ],
          [
           "Den Helder"
          ],
          [
           "Sliedrecht"
          ],
          [
           "Borsele"
          ],
          [
           "Oisterwijk"
          ]
         ],
         "hovertemplate": "classification=material heavy<br>operational_per_sqm=%{x}<br>embodied_per_sqm=%{y}<br>municipality=%{customdata[0]}<extra></extra>",
         "legendgroup": "material heavy",
         "marker": {
          "color": "#AB63FA",
          "symbol": "circle"
         },
         "mode": "markers",
         "name": "material heavy",
         "orientation": "v",
         "showlegend": true,
         "type": "scatter",
         "x": [
          112,
          85,
          105,
          83,
          88,
          109,
          86,
          70,
          83,
          100,
          98,
          104,
          95,
          39,
          100,
          53,
          79,
          111,
          83,
          55,
          95,
          114,
          38,
          81,
          85,
          115,
          95,
          100,
          114,
          78,
          99,
          101,
          65,
          108,
          101,
          87,
          64,
          58,
          104,
          75,
          112,
          68,
          105,
          102,
          80,
          116,
          114,
          104,
          112,
          96,
          91,
          86,
          87,
          78,
          113,
          88,
          94,
          97,
          104,
          109,
          109,
          91,
          99,
          81,
          87,
          88,
          91,
          81,
          105,
          49,
          96,
          104,
          51,
          92,
          63,
          84,
          96,
          96,
          78,
          85,
          114,
          112,
          113,
          108,
          96,
          114,
          94,
          111,
          117,
          111,
          85,
          44,
          71,
          66,
          87,
          82,
          83,
          110,
          96,
          83,
          101,
          69,
          93,
          49,
          84,
          83,
          113,
          106,
          108,
          114,
          110,
          113,
          78,
          82,
          51,
          111,
          78,
          76,
          100,
          78,
          100,
          87,
          108,
          7,
          84,
          107,
          89,
          71,
          76,
          82,
          62,
          102,
          99,
          103,
          94,
          116,
          98
         ],
         "xaxis": "x",
         "y": [
          313,
          310,
          301,
          310,
          308,
          295,
          312,
          313,
          312,
          297,
          319,
          313,
          309,
          312,
          315,
          299,
          312,
          306,
          311,
          312,
          297,
          306,
          315,
          314,
          313,
          315,
          308,
          312,
          310,
          300,
          314,
          316,
          312,
          305,
          306,
          311,
          307,
          316,
          297,
          299,
          313,
          306,
          299,
          308,
          300,
          314,
          315,
          316,
          303,
          304,
          310,
          301,
          296,
          305,
          304,
          296,
          300,
          302,
          312,
          312,
          311,
          314,
          312,
          328,
          307,
          312,
          307,
          307,
          306,
          315,
          312,
          296,
          308,
          306,
          299,
          296,
          314,
          311,
          303,
          312,
          303,
          305,
          298,
          306,
          307,
          315,
          314,
          310,
          303,
          314,
          307,
          332,
          311,
          307,
          315,
          305,
          311,
          303,
          308,
          307,
          297,
          305,
          311,
          297,
          296,
          314,
          312,
          315,
          305,
          310,
          309,
          299,
          306,
          310,
          302,
          315,
          307,
          303,
          299,
          309,
          306,
          304,
          310,
          315,
          306,
          305,
          315,
          313,
          296,
          311,
          299,
          300,
          309,
          303,
          314,
          300,
          307
         ],
         "yaxis": "y"
        },
        {
         "customdata": [
          [
           "Hollands Kroon"
          ],
          [
           "Nijkerk"
          ],
          [
           "Deventer"
          ],
          [
           "Westland"
          ],
          [
           "Lansingerland"
          ],
          [
           "Oss"
          ],
          [
           "Vlissingen"
          ],
          [
           "Hendrik-Ido-Ambacht"
          ],
          [
           "Laren"
          ],
          [
           "Zutphen"
          ],
          [
           "Ermelo"
          ],
          [
           "Neder-Betuwe"
          ],
          [
           "Boxtel"
          ],
          [
           "Reimerswaal"
          ],
          [
           "Dordrecht"
          ],
          [
           "Krimpenerwaard"
          ],
          [
           "Wijdemeren"
          ],
          [
           "Wierden"
          ],
          [
           "Heiloo"
          ],
          [
           "Beverwijk"
          ],
          [
           "Opmeer"
          ],
          [
           "Blaricum"
          ],
          [
           "Heemstede"
          ],
          [
           "Zwolle"
          ],
          [
           "Hellendoorn"
          ],
          [
           "Altena"
          ],
          [
           "Edam-Volendam"
          ],
          [
           "Tholen"
          ],
          [
           "Smallingerland"
          ],
          [
           "Stichtse Vecht"
          ],
          [
           "Tiel"
          ],
          [
           "Albrandswaard"
          ],
          [
           "Wassenaar"
          ],
          [
           "Stein"
          ],
          [
           "Raalte"
          ],
          [
           "Wormerland"
          ],
          [
           "Oudewater"
          ],
          [
           "Gorinchem"
          ],
          [
           "Ouder-Amstel"
          ],
          [
           "Vaals"
          ],
          [
           "Bloemendaal"
          ],
          [
           "Westvoorne"
          ],
          [
           "Kapelle"
          ],
          [
           "Lisse"
          ],
          [
           "Maasdriel"
          ],
          [
           "Utrechtse Heuvelrug"
          ],
          [
           "'s-Gravenhage"
          ],
          [
           "Teylingen"
          ],
          [
           "IJsselstein"
          ],
          [
           "Hilversum"
          ],
          [
           "Schiedam"
          ],
          [
           "Sint-Michielsgestel"
          ],
          [
           "Barneveld"
          ],
          [
           "Oegstgeest"
          ],
          [
           "Wijchen"
          ],
          [
           "Heemskerk"
          ],
          [
           "'s-Hertogenbosch"
          ],
          [
           "Brielle"
          ],
          [
           "Woerden"
          ],
          [
           "Moerdijk"
          ],
          [
           "Vlaardingen"
          ],
          [
           "Alblasserdam"
          ],
          [
           "Eijsden-Margraten"
          ],
          [
           "Wageningen"
          ],
          [
           "Breda"
          ],
          [
           "Buren"
          ],
          [
           "Molenlanden"
          ],
          [
           "Schagen"
          ],
          [
           "Hoeksche Waard"
          ],
          [
           "Medemblik"
          ],
          [
           "Roosendaal"
          ],
          [
           "Scherpenzeel"
          ],
          [
           "West Betuwe"
          ],
          [
           "Capelle aan den IJssel"
          ],
          [
           "Losser"
          ],
          [
           "Son en Breugel"
          ],
          [
           "Huizen"
          ],
          [
           "Oostzaan"
          ],
          [
           "Noordenveld"
          ],
          [
           "Utrecht"
          ],
          [
           "Nieuwkoop"
          ],
          [
           "Zaanstad"
          ],
          [
           "Midden-Delfland"
          ],
          [
           "Weert"
          ],
          [
           "Borger-Odoorn"
          ],
          [
           "Voorschoten"
          ],
          [
           "Aalsmeer"
          ],
          [
           "Uithoorn"
          ],
          [
           "Achtkarspelen"
          ],
          [
           "Beek"
          ],
          [
           "Terschelling"
          ],
          [
           "Geertruidenberg"
          ],
          [
           "Halderberge"
          ],
          [
           "Hillegom"
          ],
          [
           "Hellevoetsluis"
          ],
          [
           "Leusden"
          ],
          [
           "Landsmeer"
          ],
          [
           "Putten"
          ],
          [
           "Lopik"
          ],
          [
           "Goes"
          ],
          [
           "Krimpen aan den IJssel"
          ],
          [
           "Hoorn"
          ],
          [
           "Castricum"
          ],
          [
           "Zoetermeer"
          ],
          [
           "Bunnik"
          ],
          [
           "Wijk bij Duurstede"
          ]
         ],
         "hovertemplate": "classification=inefficient<br>operational_per_sqm=%{x}<br>embodied_per_sqm=%{y}<br>municipality=%{customdata[0]}<extra></extra>",
         "legendgroup": "inefficient",
         "marker": {
          "color": "#636EFA",
          "symbol": "circle"
         },
         "mode": "markers",
         "name": "inefficient",
         "orientation": "v",
         "showlegend": true,
         "type": "scatter",
         "x": [
          283,
          170,
          154,
          139,
          156,
          122,
          123,
          142,
          147,
          121,
          276,
          133,
          136,
          121,
          121,
          160,
          153,
          130,
          121,
          142,
          121,
          141,
          142,
          123,
          127,
          142,
          168,
          125,
          183,
          239,
          133,
          131,
          154,
          189,
          131,
          220,
          184,
          139,
          141,
          165,
          119,
          214,
          148,
          179,
          134,
          133,
          119,
          163,
          190,
          129,
          119,
          138,
          118,
          119,
          124,
          134,
          124,
          222,
          147,
          176,
          150,
          129,
          148,
          121,
          141,
          130,
          161,
          124,
          205,
          121,
          132,
          125,
          131,
          143,
          125,
          126,
          170,
          219,
          128,
          119,
          139,
          157,
          148,
          122,
          137,
          174,
          169,
          131,
          133,
          151,
          236,
          165,
          138,
          178,
          136,
          147,
          407,
          132,
          148,
          118,
          173,
          119,
          137,
          199,
          137,
          122
         ],
         "xaxis": "x",
         "y": [
          301,
          304,
          305,
          307,
          311,
          306,
          296,
          316,
          296,
          309,
          338,
          300,
          304,
          311,
          310,
          308,
          306,
          307,
          316,
          306,
          312,
          316,
          312,
          316,
          305,
          314,
          313,
          314,
          314,
          299,
          309,
          309,
          309,
          316,
          312,
          311,
          297,
          306,
          316,
          303,
          311,
          315,
          310,
          312,
          310,
          301,
          306,
          340,
          307,
          310,
          309,
          315,
          310,
          311,
          314,
          319,
          310,
          311,
          307,
          310,
          312,
          314,
          311,
          311,
          310,
          308,
          308,
          297,
          311,
          301,
          310,
          311,
          311,
          312,
          311,
          311,
          301,
          315,
          304,
          299,
          313,
          309,
          313,
          311,
          324,
          298,
          311,
          316,
          302,
          296,
          315,
          295,
          302,
          307,
          307,
          308,
          315,
          309,
          312,
          306,
          312,
          313,
          296,
          301,
          318,
          302
         ],
         "yaxis": "y"
        },
        {
         "customdata": [
          [
           "Apeldoorn"
          ],
          [
           "Druten"
          ],
          [
           "Veendam"
          ],
          [
           "Bronckhorst"
          ],
          [
           "Venray"
          ],
          [
           "Oldebroek"
          ],
          [
           "Etten-Leur"
          ],
          [
           "Súdwest-Fryslân"
          ],
          [
           "Horst aan de Maas"
          ],
          [
           "Brunssum"
          ],
          [
           "Dongen"
          ],
          [
           "Aalten"
          ],
          [
           "Westerveld"
          ],
          [
           "Schiermonnikoog"
          ],
          [
           "Oost Gelre"
          ],
          [
           "Midden-Groningen"
          ],
          [
           "Arnhem"
          ],
          [
           "Lochem"
          ],
          [
           "Dantumadiel"
          ],
          [
           "Middelburg"
          ],
          [
           "Pijnacker-Nootdorp"
          ],
          [
           "Meerssen"
          ],
          [
           "Oldambt"
          ],
          [
           "Kerkrade"
          ],
          [
           "Nunspeet"
          ],
          [
           "Maastricht"
          ],
          [
           "Overbetuwe"
          ],
          [
           "Sittard-Geleen"
          ],
          [
           "Simpelveld"
          ],
          [
           "Gemert-Bakel"
          ],
          [
           "Heerlen"
          ],
          [
           "Winterswijk"
          ],
          [
           "Hardinxveld-Giessendam"
          ],
          [
           "Vlieland"
          ],
          [
           "Echt-Susteren"
          ],
          [
           "Leiderdorp"
          ],
          [
           "Oude IJsselstreek"
          ],
          [
           "Rhenen"
          ],
          [
           "Enkhuizen"
          ],
          [
           "Epe"
          ],
          [
           "Noord-Beveland"
          ],
          [
           "Roerdalen"
          ],
          [
           "Het Hogeland"
          ],
          [
           "De Fryske Marren"
          ],
          [
           "Maasgouw"
          ],
          [
           "Aa en Hunze"
          ],
          [
           "Steenwijkerland"
          ],
          [
           "Landgraaf"
          ],
          [
           "Valkenburg aan de Geul"
          ],
          [
           "Pekela"
          ],
          [
           "Beekdaelen"
          ],
          [
           "Bergen op Zoom"
          ],
          [
           "Zeist"
          ]
         ],
         "hovertemplate": "classification=efficient<br>operational_per_sqm=%{x}<br>embodied_per_sqm=%{y}<br>municipality=%{customdata[0]}<extra></extra>",
         "legendgroup": "efficient",
         "marker": {
          "color": "#EF553B",
          "symbol": "circle"
         },
         "mode": "markers",
         "name": "efficient",
         "orientation": "v",
         "showlegend": true,
         "type": "scatter",
         "x": [
          71,
          104,
          72,
          96,
          84,
          110,
          110,
          105,
          30,
          77,
          114,
          91,
          111,
          65,
          97,
          79,
          91,
          112,
          106,
          63,
          88,
          90,
          104,
          40,
          112,
          84,
          56,
          52,
          24,
          63,
          31,
          63,
          53,
          81,
          47,
          76,
          63,
          94,
          72,
          92,
          87,
          46,
          95,
          90,
          65,
          71,
          111,
          48,
          40,
          102,
          35,
          92,
          115
         ],
         "xaxis": "x",
         "y": [
          161,
          287,
          242,
          293,
          290,
          287,
          293,
          238,
          159,
          182,
          293,
          290,
          271,
          294,
          260,
          288,
          291,
          294,
          283,
          285,
          287,
          265,
          284,
          241,
          256,
          249,
          286,
          248,
          232,
          292,
          253,
          191,
          278,
          257,
          229,
          293,
          265,
          291,
          286,
          284,
          293,
          185,
          282,
          268,
          267,
          287,
          276,
          286,
          216,
          230,
          291,
          166,
          283
         ],
         "yaxis": "y"
        }
       ],
       "layout": {
        "legend": {
         "title": {
          "text": "classification"
         },
         "tracegroupgap": 0
        },
        "template": {
         "data": {
          "bar": [
           {
            "error_x": {
             "color": "#2a3f5f"
            },
            "error_y": {
             "color": "#2a3f5f"
            },
            "marker": {
             "line": {
              "color": "#E5ECF6",
              "width": 0.5
             },
             "pattern": {
              "fillmode": "overlay",
              "size": 10,
              "solidity": 0.2
             }
            },
            "type": "bar"
           }
          ],
          "barpolar": [
           {
            "marker": {
             "line": {
              "color": "#E5ECF6",
              "width": 0.5
             },
             "pattern": {
              "fillmode": "overlay",
              "size": 10,
              "solidity": 0.2
             }
            },
            "type": "barpolar"
           }
          ],
          "carpet": [
           {
            "aaxis": {
             "endlinecolor": "#2a3f5f",
             "gridcolor": "white",
             "linecolor": "white",
             "minorgridcolor": "white",
             "startlinecolor": "#2a3f5f"
            },
            "baxis": {
             "endlinecolor": "#2a3f5f",
             "gridcolor": "white",
             "linecolor": "white",
             "minorgridcolor": "white",
             "startlinecolor": "#2a3f5f"
            },
            "type": "carpet"
           }
          ],
          "choropleth": [
           {
            "colorbar": {
             "outlinewidth": 0,
             "ticks": ""
            },
            "type": "choropleth"
           }
          ],
          "contour": [
           {
            "colorbar": {
             "outlinewidth": 0,
             "ticks": ""
            },
            "colorscale": [
             [
              0,
              "#0d0887"
             ],
             [
              0.1111111111111111,
              "#46039f"
             ],
             [
              0.2222222222222222,
              "#7201a8"
             ],
             [
              0.3333333333333333,
              "#9c179e"
             ],
             [
              0.4444444444444444,
              "#bd3786"
             ],
             [
              0.5555555555555556,
              "#d8576b"
             ],
             [
              0.6666666666666666,
              "#ed7953"
             ],
             [
              0.7777777777777778,
              "#fb9f3a"
             ],
             [
              0.8888888888888888,
              "#fdca26"
             ],
             [
              1,
              "#f0f921"
             ]
            ],
            "type": "contour"
           }
          ],
          "contourcarpet": [
           {
            "colorbar": {
             "outlinewidth": 0,
             "ticks": ""
            },
            "type": "contourcarpet"
           }
          ],
          "heatmap": [
           {
            "colorbar": {
             "outlinewidth": 0,
             "ticks": ""
            },
            "colorscale": [
             [
              0,
              "#0d0887"
             ],
             [
              0.1111111111111111,
              "#46039f"
             ],
             [
              0.2222222222222222,
              "#7201a8"
             ],
             [
              0.3333333333333333,
              "#9c179e"
             ],
             [
              0.4444444444444444,
              "#bd3786"
             ],
             [
              0.5555555555555556,
              "#d8576b"
             ],
             [
              0.6666666666666666,
              "#ed7953"
             ],
             [
              0.7777777777777778,
              "#fb9f3a"
             ],
             [
              0.8888888888888888,
              "#fdca26"
             ],
             [
              1,
              "#f0f921"
             ]
            ],
            "type": "heatmap"
           }
          ],
          "heatmapgl": [
           {
            "colorbar": {
             "outlinewidth": 0,
             "ticks": ""
            },
            "colorscale": [
             [
              0,
              "#0d0887"
             ],
             [
              0.1111111111111111,
              "#46039f"
             ],
             [
              0.2222222222222222,
              "#7201a8"
             ],
             [
              0.3333333333333333,
              "#9c179e"
             ],
             [
              0.4444444444444444,
              "#bd3786"
             ],
             [
              0.5555555555555556,
              "#d8576b"
             ],
             [
              0.6666666666666666,
              "#ed7953"
             ],
             [
              0.7777777777777778,
              "#fb9f3a"
             ],
             [
              0.8888888888888888,
              "#fdca26"
             ],
             [
              1,
              "#f0f921"
             ]
            ],
            "type": "heatmapgl"
           }
          ],
          "histogram": [
           {
            "marker": {
             "pattern": {
              "fillmode": "overlay",
              "size": 10,
              "solidity": 0.2
             }
            },
            "type": "histogram"
           }
          ],
          "histogram2d": [
           {
            "colorbar": {
             "outlinewidth": 0,
             "ticks": ""
            },
            "colorscale": [
             [
              0,
              "#0d0887"
             ],
             [
              0.1111111111111111,
              "#46039f"
             ],
             [
              0.2222222222222222,
              "#7201a8"
             ],
             [
              0.3333333333333333,
              "#9c179e"
             ],
             [
              0.4444444444444444,
              "#bd3786"
             ],
             [
              0.5555555555555556,
              "#d8576b"
             ],
             [
              0.6666666666666666,
              "#ed7953"
             ],
             [
              0.7777777777777778,
              "#fb9f3a"
             ],
             [
              0.8888888888888888,
              "#fdca26"
             ],
             [
              1,
              "#f0f921"
             ]
            ],
            "type": "histogram2d"
           }
          ],
          "histogram2dcontour": [
           {
            "colorbar": {
             "outlinewidth": 0,
             "ticks": ""
            },
            "colorscale": [
             [
              0,
              "#0d0887"
             ],
             [
              0.1111111111111111,
              "#46039f"
             ],
             [
              0.2222222222222222,
              "#7201a8"
             ],
             [
              0.3333333333333333,
              "#9c179e"
             ],
             [
              0.4444444444444444,
              "#bd3786"
             ],
             [
              0.5555555555555556,
              "#d8576b"
             ],
             [
              0.6666666666666666,
              "#ed7953"
             ],
             [
              0.7777777777777778,
              "#fb9f3a"
             ],
             [
              0.8888888888888888,
              "#fdca26"
             ],
             [
              1,
              "#f0f921"
             ]
            ],
            "type": "histogram2dcontour"
           }
          ],
          "mesh3d": [
           {
            "colorbar": {
             "outlinewidth": 0,
             "ticks": ""
            },
            "type": "mesh3d"
           }
          ],
          "parcoords": [
           {
            "line": {
             "colorbar": {
              "outlinewidth": 0,
              "ticks": ""
             }
            },
            "type": "parcoords"
           }
          ],
          "pie": [
           {
            "automargin": true,
            "type": "pie"
           }
          ],
          "scatter": [
           {
            "fillpattern": {
             "fillmode": "overlay",
             "size": 10,
             "solidity": 0.2
            },
            "type": "scatter"
           }
          ],
          "scatter3d": [
           {
            "line": {
             "colorbar": {
              "outlinewidth": 0,
              "ticks": ""
             }
            },
            "marker": {
             "colorbar": {
              "outlinewidth": 0,
              "ticks": ""
             }
            },
            "type": "scatter3d"
           }
          ],
          "scattercarpet": [
           {
            "marker": {
             "colorbar": {
              "outlinewidth": 0,
              "ticks": ""
             }
            },
            "type": "scattercarpet"
           }
          ],
          "scattergeo": [
           {
            "marker": {
             "colorbar": {
              "outlinewidth": 0,
              "ticks": ""
             }
            },
            "type": "scattergeo"
           }
          ],
          "scattergl": [
           {
            "marker": {
             "colorbar": {
              "outlinewidth": 0,
              "ticks": ""
             }
            },
            "type": "scattergl"
           }
          ],
          "scattermapbox": [
           {
            "marker": {
             "colorbar": {
              "outlinewidth": 0,
              "ticks": ""
             }
            },
            "type": "scattermapbox"
           }
          ],
          "scatterpolar": [
           {
            "marker": {
             "colorbar": {
              "outlinewidth": 0,
              "ticks": ""
             }
            },
            "type": "scatterpolar"
           }
          ],
          "scatterpolargl": [
           {
            "marker": {
             "colorbar": {
              "outlinewidth": 0,
              "ticks": ""
             }
            },
            "type": "scatterpolargl"
           }
          ],
          "scatterternary": [
           {
            "marker": {
             "colorbar": {
              "outlinewidth": 0,
              "ticks": ""
             }
            },
            "type": "scatterternary"
           }
          ],
          "surface": [
           {
            "colorbar": {
             "outlinewidth": 0,
             "ticks": ""
            },
            "colorscale": [
             [
              0,
              "#0d0887"
             ],
             [
              0.1111111111111111,
              "#46039f"
             ],
             [
              0.2222222222222222,
              "#7201a8"
             ],
             [
              0.3333333333333333,
              "#9c179e"
             ],
             [
              0.4444444444444444,
              "#bd3786"
             ],
             [
              0.5555555555555556,
              "#d8576b"
             ],
             [
              0.6666666666666666,
              "#ed7953"
             ],
             [
              0.7777777777777778,
              "#fb9f3a"
             ],
             [
              0.8888888888888888,
              "#fdca26"
             ],
             [
              1,
              "#f0f921"
             ]
            ],
            "type": "surface"
           }
          ],
          "table": [
           {
            "cells": {
             "fill": {
              "color": "#EBF0F8"
             },
             "line": {
              "color": "white"
             }
            },
            "header": {
             "fill": {
              "color": "#C8D4E3"
             },
             "line": {
              "color": "white"
             }
            },
            "type": "table"
           }
          ]
         },
         "layout": {
          "annotationdefaults": {
           "arrowcolor": "#2a3f5f",
           "arrowhead": 0,
           "arrowwidth": 1
          },
          "autotypenumbers": "strict",
          "coloraxis": {
           "colorbar": {
            "outlinewidth": 0,
            "ticks": ""
           }
          },
          "colorscale": {
           "diverging": [
            [
             0,
             "#8e0152"
            ],
            [
             0.1,
             "#c51b7d"
            ],
            [
             0.2,
             "#de77ae"
            ],
            [
             0.3,
             "#f1b6da"
            ],
            [
             0.4,
             "#fde0ef"
            ],
            [
             0.5,
             "#f7f7f7"
            ],
            [
             0.6,
             "#e6f5d0"
            ],
            [
             0.7,
             "#b8e186"
            ],
            [
             0.8,
             "#7fbc41"
            ],
            [
             0.9,
             "#4d9221"
            ],
            [
             1,
             "#276419"
            ]
           ],
           "sequential": [
            [
             0,
             "#0d0887"
            ],
            [
             0.1111111111111111,
             "#46039f"
            ],
            [
             0.2222222222222222,
             "#7201a8"
            ],
            [
             0.3333333333333333,
             "#9c179e"
            ],
            [
             0.4444444444444444,
             "#bd3786"
            ],
            [
             0.5555555555555556,
             "#d8576b"
            ],
            [
             0.6666666666666666,
             "#ed7953"
            ],
            [
             0.7777777777777778,
             "#fb9f3a"
            ],
            [
             0.8888888888888888,
             "#fdca26"
            ],
            [
             1,
             "#f0f921"
            ]
           ],
           "sequentialminus": [
            [
             0,
             "#0d0887"
            ],
            [
             0.1111111111111111,
             "#46039f"
            ],
            [
             0.2222222222222222,
             "#7201a8"
            ],
            [
             0.3333333333333333,
             "#9c179e"
            ],
            [
             0.4444444444444444,
             "#bd3786"
            ],
            [
             0.5555555555555556,
             "#d8576b"
            ],
            [
             0.6666666666666666,
             "#ed7953"
            ],
            [
             0.7777777777777778,
             "#fb9f3a"
            ],
            [
             0.8888888888888888,
             "#fdca26"
            ],
            [
             1,
             "#f0f921"
            ]
           ]
          },
          "colorway": [
           "#636efa",
           "#EF553B",
           "#00cc96",
           "#ab63fa",
           "#FFA15A",
           "#19d3f3",
           "#FF6692",
           "#B6E880",
           "#FF97FF",
           "#FECB52"
          ],
          "font": {
           "color": "#2a3f5f"
          },
          "geo": {
           "bgcolor": "white",
           "lakecolor": "white",
           "landcolor": "#E5ECF6",
           "showlakes": true,
           "showland": true,
           "subunitcolor": "white"
          },
          "hoverlabel": {
           "align": "left"
          },
          "hovermode": "closest",
          "mapbox": {
           "style": "light"
          },
          "paper_bgcolor": "white",
          "plot_bgcolor": "#E5ECF6",
          "polar": {
           "angularaxis": {
            "gridcolor": "white",
            "linecolor": "white",
            "ticks": ""
           },
           "bgcolor": "#E5ECF6",
           "radialaxis": {
            "gridcolor": "white",
            "linecolor": "white",
            "ticks": ""
           }
          },
          "scene": {
           "xaxis": {
            "backgroundcolor": "#E5ECF6",
            "gridcolor": "white",
            "gridwidth": 2,
            "linecolor": "white",
            "showbackground": true,
            "ticks": "",
            "zerolinecolor": "white"
           },
           "yaxis": {
            "backgroundcolor": "#E5ECF6",
            "gridcolor": "white",
            "gridwidth": 2,
            "linecolor": "white",
            "showbackground": true,
            "ticks": "",
            "zerolinecolor": "white"
           },
           "zaxis": {
            "backgroundcolor": "#E5ECF6",
            "gridcolor": "white",
            "gridwidth": 2,
            "linecolor": "white",
            "showbackground": true,
            "ticks": "",
            "zerolinecolor": "white"
           }
          },
          "shapedefaults": {
           "line": {
            "color": "#2a3f5f"
           }
          },
          "ternary": {
           "aaxis": {
            "gridcolor": "white",
            "linecolor": "white",
            "ticks": ""
           },
           "baxis": {
            "gridcolor": "white",
            "linecolor": "white",
            "ticks": ""
           },
           "bgcolor": "#E5ECF6",
           "caxis": {
            "gridcolor": "white",
            "linecolor": "white",
            "ticks": ""
           }
          },
          "title": {
           "x": 0.05
          },
          "xaxis": {
           "automargin": true,
           "gridcolor": "white",
           "linecolor": "white",
           "ticks": "",
           "title": {
            "standoff": 15
           },
           "zerolinecolor": "white",
           "zerolinewidth": 2
          },
          "yaxis": {
           "automargin": true,
           "gridcolor": "white",
           "linecolor": "white",
           "ticks": "",
           "title": {
            "standoff": 15
           },
           "zerolinecolor": "white",
           "zerolinewidth": 2
          }
         }
        },
        "title": {
         "text": "Emissions of new homes in NL per municipality"
        },
        "width": 800,
        "xaxis": {
         "anchor": "y",
         "domain": [
          0,
          1
         ],
         "title": {
          "text": "operational_per_sqm"
         }
        },
        "yaxis": {
         "anchor": "x",
         "domain": [
          0,
          1
         ],
         "title": {
          "text": "embodied_per_sqm"
         }
        }
       }
      }
     },
     "metadata": {},
     "output_type": "display_data"
    }
   ],
   "source": [
    "# scatter plot of emissions per home in plotly express\n",
    "color_dict = {\n",
    "    'inefficient': '#636EFA', \n",
    "    'efficient': '#EF553B',\n",
    "    'material heavy': '#AB63FA', \n",
    "    'energy heavy': '#00CC96'\n",
    "}\n",
    "\n",
    "fig = px.scatter(df, title='Emissions of new homes in NL per municipality', \n",
    "                 color='classification',\n",
    "                 x='operational_per_sqm', y='embodied_per_sqm', \n",
    "                 hover_data=['municipality'], color_discrete_map=color_dict)\n",
    "fig.update_layout(width=800)\n",
    "fig.show()"
   ]
  },
  {
   "cell_type": "code",
   "execution_count": 6,
   "metadata": {},
   "outputs": [
    {
     "data": {
      "image/png": "[encoded data removed]",
      "text/plain": [
       "<Figure size 1500x900 with 1 Axes>"
      ]
     },
     "metadata": {},
     "output_type": "display_data"
    }
   ],
   "source": [
    "municipalities = gpd.read_postgis('SELECT geometry, \"GM_NAAM\" AS municipality FROM nl_gemeenten WHERE \"AANT_INW\" > 0', engine, geom_col='geometry')\n",
    "df_map = municipalities.merge(df, on='municipality')\n",
    "\n",
    "import matplotlib.patches as mpatches\n",
    "df_map['color'] = df_map['classification'].map(color_dict)\n",
    "fig, ax = plt.subplots(figsize=(15, 9))\n",
    "df_map.plot(color=df_map['color'], legend=True, ax=ax, legend_kwds={'loc': 'center left', 'bbox_to_anchor': (1.8, 1)})\n",
    "ax.set_axis_off()\n",
    "legend_patches = [mpatches.Patch(color=color, label=label) for label, color in color_dict.items()]\n",
    "ax.legend(handles=legend_patches, loc='upper left')\n",
    "ax.set_title('Emissions (per sqm) of new homes in NL')\n",
    "plt.show()"
   ]
  },
  {
   "cell_type": "code",
   "execution_count": 84,
   "metadata": {},
   "outputs": [
    {
     "data": {
      "application/vnd.plotly.v1+json": {
       "config": {
        "plotlyServerURL": "https://plot.ly"
       },
       "data": [
        {
         "alignmentgroup": "True",
         "hovertemplate": "Emission Type=p_operational<br>Emissions (kg)=%{x}<br>Classification=%{y}<extra></extra>",
         "legendgroup": "p_operational",
         "marker": {
          "color": "#636EFA"
         },
         "name": "p_operational",
         "notched": false,
         "offsetgroup": "p_operational",
         "orientation": "h",
         "showlegend": true,
         "type": "box",
         "x": [
          12,
          37,
          23,
          28,
          27,
          16,
          27,
          18,
          41,
          22,
          59,
          30,
          25,
          31,
          34,
          26,
          23,
          33,
          31,
          37,
          31,
          21,
          30,
          21,
          23,
          28,
          14,
          26,
          26,
          25,
          24,
          36,
          34,
          31,
          34,
          20,
          26,
          41,
          35,
          31,
          33,
          27,
          43,
          26,
          28,
          26,
          25,
          21,
          27,
          18,
          29,
          40,
          37,
          22,
          28,
          30,
          26,
          37,
          33,
          21,
          33,
          28,
          36,
          26,
          23,
          24,
          29,
          31,
          18,
          20,
          26,
          23,
          27,
          34,
          18,
          29,
          35,
          25,
          28,
          17,
          35,
          18,
          20,
          25,
          28,
          26,
          32,
          37,
          31,
          60,
          38,
          28,
          22,
          21,
          25,
          29,
          22,
          37,
          47,
          27,
          36,
          31,
          27,
          17,
          26,
          42,
          34,
          11,
          27,
          15,
          35,
          24,
          30,
          9,
          56,
          22,
          23,
          30,
          27,
          22,
          28,
          30,
          23,
          27,
          17,
          24,
          30,
          17,
          42,
          18,
          21,
          29,
          30,
          29,
          26,
          28,
          28,
          38,
          24,
          21,
          25,
          22,
          31,
          19,
          30,
          24,
          28,
          23,
          24,
          32,
          14,
          29,
          31,
          31,
          31,
          31,
          33,
          36,
          2,
          14,
          17,
          36,
          22,
          30,
          24,
          16,
          32,
          23,
          24,
          36,
          24,
          22,
          21,
          30,
          13,
          15,
          38,
          53,
          57,
          35,
          45,
          24,
          31,
          21,
          30,
          28,
          22,
          29,
          31,
          24,
          30,
          36,
          22,
          28,
          40,
          27,
          20,
          25,
          35,
          31,
          22,
          22,
          16,
          16,
          33,
          32,
          33,
          21,
          27,
          20,
          25,
          25,
          30,
          29,
          29,
          21,
          26,
          28,
          36,
          37,
          24,
          24,
          24,
          38,
          25,
          43,
          23,
          25,
          27,
          28,
          32,
          44,
          33,
          27,
          26,
          33,
          11,
          27,
          24,
          32,
          25,
          48,
          33,
          20,
          25,
          30,
          27,
          27,
          29,
          23,
          14,
          56,
          28,
          29,
          40,
          11,
          30,
          24,
          18,
          20,
          23,
          17,
          36,
          26,
          31,
          21,
          26,
          27,
          25,
          31,
          27,
          33,
          28,
          39,
          29,
          36,
          38,
          14,
          28,
          31,
          35,
          27,
          32,
          28,
          27,
          32,
          24,
          23,
          40,
          33,
          25,
          19,
          28,
          20,
          22,
          30,
          30,
          16,
          38,
          29,
          36,
          24,
          20,
          27,
          29,
          26,
          33,
          32,
          22,
          29,
          20,
          28,
          31,
          20,
          41,
          25,
          18,
          20,
          31,
          25,
          20,
          24,
          35,
          20,
          32,
          30,
          31,
          19,
          23,
          21,
          24,
          24,
          41,
          30,
          28,
          44,
          28,
          32,
          21,
          21,
          21,
          25,
          11,
          29,
          31
         ],
         "x0": " ",
         "xaxis": "x",
         "y": [
          "material heavy",
          "energy heavy",
          "efficient",
          "inefficient",
          "material heavy",
          "efficient",
          "efficient",
          "efficient",
          "energy heavy",
          "efficient",
          "energy heavy",
          "inefficient",
          "efficient",
          "inefficient",
          "inefficient",
          "material heavy",
          "efficient",
          "inefficient",
          "inefficient",
          "inefficient",
          "inefficient",
          "material heavy",
          "inefficient",
          "material heavy",
          "material heavy",
          "efficient",
          "material heavy",
          "material heavy",
          "material heavy",
          "material heavy",
          "efficient",
          "inefficient",
          "inefficient",
          "efficient",
          "inefficient",
          "material heavy",
          "material heavy",
          "inefficient",
          "energy heavy",
          "inefficient",
          "energy heavy",
          "material heavy",
          "inefficient",
          "material heavy",
          "efficient",
          "material heavy",
          "material heavy",
          "material heavy",
          "material heavy",
          "efficient",
          "inefficient",
          "inefficient",
          "energy heavy",
          "material heavy",
          "inefficient",
          "inefficient",
          "material heavy",
          "inefficient",
          "energy heavy",
          "material heavy",
          "energy heavy",
          "inefficient",
          "energy heavy",
          "material heavy",
          "efficient",
          "material heavy",
          "inefficient",
          "inefficient",
          "material heavy",
          "material heavy",
          "material heavy",
          "material heavy",
          "material heavy",
          "inefficient",
          "material heavy",
          "inefficient",
          "inefficient",
          "material heavy",
          "material heavy",
          "efficient",
          "inefficient",
          "material heavy",
          "material heavy",
          "material heavy",
          "efficient",
          "material heavy",
          "energy heavy",
          "inefficient",
          "efficient",
          "energy heavy",
          "inefficient",
          "inefficient",
          "material heavy",
          "material heavy",
          "efficient",
          "inefficient",
          "material heavy",
          "inefficient",
          "energy heavy",
          "efficient",
          "inefficient",
          "energy heavy",
          "material heavy",
          "material heavy",
          "material heavy",
          "energy heavy",
          "inefficient",
          "efficient",
          "material heavy",
          "material heavy",
          "energy heavy",
          "material heavy",
          "inefficient",
          "efficient",
          "inefficient",
          "material heavy",
          "material heavy",
          "inefficient",
          "efficient",
          "material heavy",
          "inefficient",
          "inefficient",
          "material heavy",
          "material heavy",
          "material heavy",
          "material heavy",
          "inefficient",
          "material heavy",
          "inefficient",
          "efficient",
          "material heavy",
          "inefficient",
          "efficient",
          "energy heavy",
          "material heavy",
          "inefficient",
          "inefficient",
          "inefficient",
          "efficient",
          "material heavy",
          "efficient",
          "material heavy",
          "inefficient",
          "efficient",
          "energy heavy",
          "material heavy",
          "inefficient",
          "efficient",
          "material heavy",
          "inefficient",
          "efficient",
          "efficient",
          "energy heavy",
          "inefficient",
          "inefficient",
          "inefficient",
          "energy heavy",
          "inefficient",
          "material heavy",
          "material heavy",
          "material heavy",
          "inefficient",
          "material heavy",
          "inefficient",
          "material heavy",
          "efficient",
          "inefficient",
          "material heavy",
          "material heavy",
          "energy heavy",
          "material heavy",
          "material heavy",
          "material heavy",
          "inefficient",
          "material heavy",
          "material heavy",
          "energy heavy",
          "energy heavy",
          "energy heavy",
          "energy heavy",
          "inefficient",
          "material heavy",
          "inefficient",
          "material heavy",
          "energy heavy",
          "inefficient",
          "material heavy",
          "inefficient",
          "energy heavy",
          "material heavy",
          "inefficient",
          "inefficient",
          "material heavy",
          "inefficient",
          "energy heavy",
          "efficient",
          "efficient",
          "material heavy",
          "inefficient",
          "inefficient",
          "material heavy",
          "material heavy",
          "efficient",
          "material heavy",
          "energy heavy",
          "inefficient",
          "energy heavy",
          "efficient",
          "material heavy",
          "material heavy",
          "material heavy",
          "efficient",
          "inefficient",
          "efficient",
          "inefficient",
          "material heavy",
          "material heavy",
          "inefficient",
          "energy heavy",
          "inefficient",
          "efficient",
          "material heavy",
          "material heavy",
          "energy heavy",
          "material heavy",
          "energy heavy",
          "material heavy",
          "material heavy",
          "material heavy",
          "inefficient",
          "inefficient",
          "energy heavy",
          "inefficient",
          "material heavy",
          "material heavy",
          "energy heavy",
          "material heavy",
          "material heavy",
          "efficient",
          "inefficient",
          "material heavy",
          "inefficient",
          "energy heavy",
          "material heavy",
          "material heavy",
          "inefficient",
          "material heavy",
          "inefficient",
          "inefficient",
          "material heavy",
          "efficient",
          "energy heavy",
          "inefficient",
          "energy heavy",
          "inefficient",
          "efficient",
          "inefficient",
          "material heavy",
          "material heavy",
          "material heavy",
          "material heavy",
          "efficient",
          "energy heavy",
          "material heavy",
          "inefficient",
          "material heavy",
          "material heavy",
          "material heavy",
          "efficient",
          "efficient",
          "material heavy",
          "inefficient",
          "inefficient",
          "energy heavy",
          "inefficient",
          "efficient",
          "energy heavy",
          "material heavy",
          "material heavy",
          "inefficient",
          "energy heavy",
          "material heavy",
          "inefficient",
          "inefficient",
          "efficient",
          "inefficient",
          "material heavy",
          "material heavy",
          "inefficient",
          "energy heavy",
          "efficient",
          "efficient",
          "inefficient",
          "material heavy",
          "material heavy",
          "efficient",
          "energy heavy",
          "efficient",
          "energy heavy",
          "inefficient",
          "energy heavy",
          "material heavy",
          "material heavy",
          "material heavy",
          "efficient",
          "material heavy",
          "inefficient",
          "inefficient",
          "material heavy",
          "inefficient",
          "material heavy",
          "material heavy",
          "inefficient",
          "efficient",
          "energy heavy",
          "material heavy",
          "material heavy",
          "material heavy",
          "inefficient",
          "material heavy",
          "material heavy",
          "material heavy",
          "energy heavy",
          "efficient",
          "inefficient",
          "inefficient",
          "energy heavy",
          "material heavy",
          "material heavy",
          "material heavy",
          "efficient",
          "material heavy",
          "inefficient",
          "energy heavy",
          "inefficient",
          "inefficient",
          "inefficient",
          "inefficient",
          "material heavy",
          "material heavy",
          "material heavy",
          "material heavy",
          "material heavy",
          "inefficient",
          "inefficient"
         ],
         "y0": " ",
         "yaxis": "y"
        },
        {
         "alignmentgroup": "True",
         "hovertemplate": "Emission Type=p_embodied<br>Emissions (kg)=%{x}<br>Classification=%{y}<extra></extra>",
         "legendgroup": "p_embodied",
         "marker": {
          "color": "#EF553B"
         },
         "name": "p_embodied",
         "notched": false,
         "offsetgroup": "p_embodied",
         "orientation": "h",
         "showlegend": true,
         "type": "box",
         "x": [
          88,
          63,
          77,
          72,
          73,
          84,
          73,
          82,
          59,
          78,
          41,
          70,
          75,
          69,
          66,
          74,
          77,
          67,
          69,
          63,
          69,
          79,
          70,
          79,
          77,
          72,
          86,
          74,
          74,
          75,
          76,
          64,
          66,
          69,
          66,
          80,
          74,
          59,
          65,
          69,
          67,
          73,
          57,
          74,
          72,
          74,
          75,
          79,
          73,
          82,
          71,
          60,
          63,
          78,
          72,
          70,
          74,
          63,
          67,
          79,
          67,
          72,
          64,
          74,
          77,
          76,
          71,
          69,
          82,
          80,
          74,
          77,
          73,
          66,
          82,
          71,
          65,
          75,
          72,
          83,
          65,
          82,
          80,
          75,
          72,
          74,
          68,
          63,
          69,
          40,
          62,
          72,
          78,
          79,
          75,
          71,
          78,
          63,
          53,
          73,
          64,
          69,
          73,
          83,
          74,
          58,
          66,
          89,
          73,
          85,
          65,
          76,
          70,
          91,
          44,
          78,
          77,
          70,
          73,
          78,
          72,
          70,
          77,
          73,
          83,
          76,
          70,
          83,
          58,
          82,
          79,
          71,
          70,
          71,
          74,
          72,
          72,
          62,
          76,
          79,
          75,
          78,
          69,
          81,
          70,
          76,
          72,
          77,
          76,
          68,
          86,
          71,
          69,
          69,
          69,
          69,
          67,
          64,
          98,
          86,
          83,
          64,
          78,
          70,
          76,
          84,
          68,
          77,
          76,
          64,
          76,
          78,
          79,
          70,
          87,
          85,
          62,
          47,
          43,
          65,
          55,
          76,
          69,
          79,
          70,
          72,
          78,
          71,
          69,
          76,
          70,
          64,
          78,
          72,
          60,
          73,
          80,
          75,
          65,
          69,
          78,
          78,
          84,
          84,
          67,
          68,
          67,
          79,
          73,
          80,
          75,
          75,
          70,
          71,
          71,
          79,
          74,
          72,
          64,
          63,
          76,
          76,
          76,
          62,
          75,
          57,
          77,
          75,
          73,
          72,
          68,
          56,
          67,
          73,
          74,
          67,
          89,
          73,
          76,
          68,
          75,
          52,
          67,
          80,
          75,
          70,
          73,
          73,
          71,
          77,
          86,
          44,
          72,
          71,
          60,
          89,
          70,
          76,
          82,
          80,
          77,
          83,
          64,
          74,
          69,
          79,
          74,
          73,
          75,
          69,
          73,
          67,
          72,
          61,
          71,
          64,
          62,
          86,
          72,
          69,
          65,
          73,
          68,
          72,
          73,
          68,
          76,
          77,
          60,
          67,
          75,
          81,
          72,
          80,
          78,
          70,
          70,
          84,
          62,
          71,
          64,
          76,
          80,
          73,
          71,
          74,
          67,
          68,
          78,
          71,
          80,
          72,
          69,
          80,
          59,
          75,
          82,
          80,
          69,
          75,
          80,
          76,
          65,
          80,
          68,
          70,
          69,
          81,
          77,
          79,
          76,
          76,
          59,
          70,
          72,
          56,
          72,
          68,
          79,
          79,
          79,
          75,
          89,
          71,
          69
         ],
         "x0": " ",
         "xaxis": "x",
         "y": [
          "material heavy",
          "energy heavy",
          "efficient",
          "inefficient",
          "material heavy",
          "efficient",
          "efficient",
          "efficient",
          "energy heavy",
          "efficient",
          "energy heavy",
          "inefficient",
          "efficient",
          "inefficient",
          "inefficient",
          "material heavy",
          "efficient",
          "inefficient",
          "inefficient",
          "inefficient",
          "inefficient",
          "material heavy",
          "inefficient",
          "material heavy",
          "material heavy",
          "efficient",
          "material heavy",
          "material heavy",
          "material heavy",
          "material heavy",
          "efficient",
          "inefficient",
          "inefficient",
          "efficient",
          "inefficient",
          "material heavy",
          "material heavy",
          "inefficient",
          "energy heavy",
          "inefficient",
          "energy heavy",
          "material heavy",
          "inefficient",
          "material heavy",
          "efficient",
          "material heavy",
          "material heavy",
          "material heavy",
          "material heavy",
          "efficient",
          "inefficient",
          "inefficient",
          "energy heavy",
          "material heavy",
          "inefficient",
          "inefficient",
          "material heavy",
          "inefficient",
          "energy heavy",
          "material heavy",
          "energy heavy",
          "inefficient",
          "energy heavy",
          "material heavy",
          "efficient",
          "material heavy",
          "inefficient",
          "inefficient",
          "material heavy",
          "material heavy",
          "material heavy",
          "material heavy",
          "material heavy",
          "inefficient",
          "material heavy",
          "inefficient",
          "inefficient",
          "material heavy",
          "material heavy",
          "efficient",
          "inefficient",
          "material heavy",
          "material heavy",
          "material heavy",
          "efficient",
          "material heavy",
          "energy heavy",
          "inefficient",
          "efficient",
          "energy heavy",
          "inefficient",
          "inefficient",
          "material heavy",
          "material heavy",
          "efficient",
          "inefficient",
          "material heavy",
          "inefficient",
          "energy heavy",
          "efficient",
          "inefficient",
          "energy heavy",
          "material heavy",
          "material heavy",
          "material heavy",
          "energy heavy",
          "inefficient",
          "efficient",
          "material heavy",
          "material heavy",
          "energy heavy",
          "material heavy",
          "inefficient",
          "efficient",
          "inefficient",
          "material heavy",
          "material heavy",
          "inefficient",
          "efficient",
          "material heavy",
          "inefficient",
          "inefficient",
          "material heavy",
          "material heavy",
          "material heavy",
          "material heavy",
          "inefficient",
          "material heavy",
          "inefficient",
          "efficient",
          "material heavy",
          "inefficient",
          "efficient",
          "energy heavy",
          "material heavy",
          "inefficient",
          "inefficient",
          "inefficient",
          "efficient",
          "material heavy",
          "efficient",
          "material heavy",
          "inefficient",
          "efficient",
          "energy heavy",
          "material heavy",
          "inefficient",
          "efficient",
          "material heavy",
          "inefficient",
          "efficient",
          "efficient",
          "energy heavy",
          "inefficient",
          "inefficient",
          "inefficient",
          "energy heavy",
          "inefficient",
          "material heavy",
          "material heavy",
          "material heavy",
          "inefficient",
          "material heavy",
          "inefficient",
          "material heavy",
          "efficient",
          "inefficient",
          "material heavy",
          "material heavy",
          "energy heavy",
          "material heavy",
          "material heavy",
          "material heavy",
          "inefficient",
          "material heavy",
          "material heavy",
          "energy heavy",
          "energy heavy",
          "energy heavy",
          "energy heavy",
          "inefficient",
          "material heavy",
          "inefficient",
          "material heavy",
          "energy heavy",
          "inefficient",
          "material heavy",
          "inefficient",
          "energy heavy",
          "material heavy",
          "inefficient",
          "inefficient",
          "material heavy",
          "inefficient",
          "energy heavy",
          "efficient",
          "efficient",
          "material heavy",
          "inefficient",
          "inefficient",
          "material heavy",
          "material heavy",
          "efficient",
          "material heavy",
          "energy heavy",
          "inefficient",
          "energy heavy",
          "efficient",
          "material heavy",
          "material heavy",
          "material heavy",
          "efficient",
          "inefficient",
          "efficient",
          "inefficient",
          "material heavy",
          "material heavy",
          "inefficient",
          "energy heavy",
          "inefficient",
          "efficient",
          "material heavy",
          "material heavy",
          "energy heavy",
          "material heavy",
          "energy heavy",
          "material heavy",
          "material heavy",
          "material heavy",
          "inefficient",
          "inefficient",
          "energy heavy",
          "inefficient",
          "material heavy",
          "material heavy",
          "energy heavy",
          "material heavy",
          "material heavy",
          "efficient",
          "inefficient",
          "material heavy",
          "inefficient",
          "energy heavy",
          "material heavy",
          "material heavy",
          "inefficient",
          "material heavy",
          "inefficient",
          "inefficient",
          "material heavy",
          "efficient",
          "energy heavy",
          "inefficient",
          "energy heavy",
          "inefficient",
          "efficient",
          "inefficient",
          "material heavy",
          "material heavy",
          "material heavy",
          "material heavy",
          "efficient",
          "energy heavy",
          "material heavy",
          "inefficient",
          "material heavy",
          "material heavy",
          "material heavy",
          "efficient",
          "efficient",
          "material heavy",
          "inefficient",
          "inefficient",
          "energy heavy",
          "inefficient",
          "efficient",
          "energy heavy",
          "material heavy",
          "material heavy",
          "inefficient",
          "energy heavy",
          "material heavy",
          "inefficient",
          "inefficient",
          "efficient",
          "inefficient",
          "material heavy",
          "material heavy",
          "inefficient",
          "energy heavy",
          "efficient",
          "efficient",
          "inefficient",
          "material heavy",
          "material heavy",
          "efficient",
          "energy heavy",
          "efficient",
          "energy heavy",
          "inefficient",
          "energy heavy",
          "material heavy",
          "material heavy",
          "material heavy",
          "efficient",
          "material heavy",
          "inefficient",
          "inefficient",
          "material heavy",
          "inefficient",
          "material heavy",
          "material heavy",
          "inefficient",
          "efficient",
          "energy heavy",
          "material heavy",
          "material heavy",
          "material heavy",
          "inefficient",
          "material heavy",
          "material heavy",
          "material heavy",
          "energy heavy",
          "efficient",
          "inefficient",
          "inefficient",
          "energy heavy",
          "material heavy",
          "material heavy",
          "material heavy",
          "efficient",
          "material heavy",
          "inefficient",
          "energy heavy",
          "inefficient",
          "inefficient",
          "inefficient",
          "inefficient",
          "material heavy",
          "material heavy",
          "material heavy",
          "material heavy",
          "material heavy",
          "inefficient",
          "inefficient"
         ],
         "y0": " ",
         "yaxis": "y"
        }
       ],
       "layout": {
        "boxmode": "group",
        "legend": {
         "title": {
          "text": "Emission Type"
         },
         "tracegroupgap": 0
        },
        "template": {
         "data": {
          "bar": [
           {
            "error_x": {
             "color": "#2a3f5f"
            },
            "error_y": {
             "color": "#2a3f5f"
            },
            "marker": {
             "line": {
              "color": "#E5ECF6",
              "width": 0.5
             },
             "pattern": {
              "fillmode": "overlay",
              "size": 10,
              "solidity": 0.2
             }
            },
            "type": "bar"
           }
          ],
          "barpolar": [
           {
            "marker": {
             "line": {
              "color": "#E5ECF6",
              "width": 0.5
             },
             "pattern": {
              "fillmode": "overlay",
              "size": 10,
              "solidity": 0.2
             }
            },
            "type": "barpolar"
           }
          ],
          "carpet": [
           {
            "aaxis": {
             "endlinecolor": "#2a3f5f",
             "gridcolor": "white",
             "linecolor": "white",
             "minorgridcolor": "white",
             "startlinecolor": "#2a3f5f"
            },
            "baxis": {
             "endlinecolor": "#2a3f5f",
             "gridcolor": "white",
             "linecolor": "white",
             "minorgridcolor": "white",
             "startlinecolor": "#2a3f5f"
            },
            "type": "carpet"
           }
          ],
          "choropleth": [
           {
            "colorbar": {
             "outlinewidth": 0,
             "ticks": ""
            },
            "type": "choropleth"
           }
          ],
          "contour": [
           {
            "colorbar": {
             "outlinewidth": 0,
             "ticks": ""
            },
            "colorscale": [
             [
              0,
              "#0d0887"
             ],
             [
              0.1111111111111111,
              "#46039f"
             ],
             [
              0.2222222222222222,
              "#7201a8"
             ],
             [
              0.3333333333333333,
              "#9c179e"
             ],
             [
              0.4444444444444444,
              "#bd3786"
             ],
             [
              0.5555555555555556,
              "#d8576b"
             ],
             [
              0.6666666666666666,
              "#ed7953"
             ],
             [
              0.7777777777777778,
              "#fb9f3a"
             ],
             [
              0.8888888888888888,
              "#fdca26"
             ],
             [
              1,
              "#f0f921"
             ]
            ],
            "type": "contour"
           }
          ],
          "contourcarpet": [
           {
            "colorbar": {
             "outlinewidth": 0,
             "ticks": ""
            },
            "type": "contourcarpet"
           }
          ],
          "heatmap": [
           {
            "colorbar": {
             "outlinewidth": 0,
             "ticks": ""
            },
            "colorscale": [
             [
              0,
              "#0d0887"
             ],
             [
              0.1111111111111111,
              "#46039f"
             ],
             [
              0.2222222222222222,
              "#7201a8"
             ],
             [
              0.3333333333333333,
              "#9c179e"
             ],
             [
              0.4444444444444444,
              "#bd3786"
             ],
             [
              0.5555555555555556,
              "#d8576b"
             ],
             [
              0.6666666666666666,
              "#ed7953"
             ],
             [
              0.7777777777777778,
              "#fb9f3a"
             ],
             [
              0.8888888888888888,
              "#fdca26"
             ],
             [
              1,
              "#f0f921"
             ]
            ],
            "type": "heatmap"
           }
          ],
          "heatmapgl": [
           {
            "colorbar": {
             "outlinewidth": 0,
             "ticks": ""
            },
            "colorscale": [
             [
              0,
              "#0d0887"
             ],
             [
              0.1111111111111111,
              "#46039f"
             ],
             [
              0.2222222222222222,
              "#7201a8"
             ],
             [
              0.3333333333333333,
              "#9c179e"
             ],
             [
              0.4444444444444444,
              "#bd3786"
             ],
             [
              0.5555555555555556,
              "#d8576b"
             ],
             [
              0.6666666666666666,
              "#ed7953"
             ],
             [
              0.7777777777777778,
              "#fb9f3a"
             ],
             [
              0.8888888888888888,
              "#fdca26"
             ],
             [
              1,
              "#f0f921"
             ]
            ],
            "type": "heatmapgl"
           }
          ],
          "histogram": [
           {
            "marker": {
             "pattern": {
              "fillmode": "overlay",
              "size": 10,
              "solidity": 0.2
             }
            },
            "type": "histogram"
           }
          ],
          "histogram2d": [
           {
            "colorbar": {
             "outlinewidth": 0,
             "ticks": ""
            },
            "colorscale": [
             [
              0,
              "#0d0887"
             ],
             [
              0.1111111111111111,
              "#46039f"
             ],
             [
              0.2222222222222222,
              "#7201a8"
             ],
             [
              0.3333333333333333,
              "#9c179e"
             ],
             [
              0.4444444444444444,
              "#bd3786"
             ],
             [
              0.5555555555555556,
              "#d8576b"
             ],
             [
              0.6666666666666666,
              "#ed7953"
             ],
             [
              0.7777777777777778,
              "#fb9f3a"
             ],
             [
              0.8888888888888888,
              "#fdca26"
             ],
             [
              1,
              "#f0f921"
             ]
            ],
            "type": "histogram2d"
           }
          ],
          "histogram2dcontour": [
           {
            "colorbar": {
             "outlinewidth": 0,
             "ticks": ""
            },
            "colorscale": [
             [
              0,
              "#0d0887"
             ],
             [
              0.1111111111111111,
              "#46039f"
             ],
             [
              0.2222222222222222,
              "#7201a8"
             ],
             [
              0.3333333333333333,
              "#9c179e"
             ],
             [
              0.4444444444444444,
              "#bd3786"
             ],
             [
              0.5555555555555556,
              "#d8576b"
             ],
             [
              0.6666666666666666,
              "#ed7953"
             ],
             [
              0.7777777777777778,
              "#fb9f3a"
             ],
             [
              0.8888888888888888,
              "#fdca26"
             ],
             [
              1,
              "#f0f921"
             ]
            ],
            "type": "histogram2dcontour"
           }
          ],
          "mesh3d": [
           {
            "colorbar": {
             "outlinewidth": 0,
             "ticks": ""
            },
            "type": "mesh3d"
           }
          ],
          "parcoords": [
           {
            "line": {
             "colorbar": {
              "outlinewidth": 0,
              "ticks": ""
             }
            },
            "type": "parcoords"
           }
          ],
          "pie": [
           {
            "automargin": true,
            "type": "pie"
           }
          ],
          "scatter": [
           {
            "fillpattern": {
             "fillmode": "overlay",
             "size": 10,
             "solidity": 0.2
            },
            "type": "scatter"
           }
          ],
          "scatter3d": [
           {
            "line": {
             "colorbar": {
              "outlinewidth": 0,
              "ticks": ""
             }
            },
            "marker": {
             "colorbar": {
              "outlinewidth": 0,
              "ticks": ""
             }
            },
            "type": "scatter3d"
           }
          ],
          "scattercarpet": [
           {
            "marker": {
             "colorbar": {
              "outlinewidth": 0,
              "ticks": ""
             }
            },
            "type": "scattercarpet"
           }
          ],
          "scattergeo": [
           {
            "marker": {
             "colorbar": {
              "outlinewidth": 0,
              "ticks": ""
             }
            },
            "type": "scattergeo"
           }
          ],
          "scattergl": [
           {
            "marker": {
             "colorbar": {
              "outlinewidth": 0,
              "ticks": ""
             }
            },
            "type": "scattergl"
           }
          ],
          "scattermapbox": [
           {
            "marker": {
             "colorbar": {
              "outlinewidth": 0,
              "ticks": ""
             }
            },
            "type": "scattermapbox"
           }
          ],
          "scatterpolar": [
           {
            "marker": {
             "colorbar": {
              "outlinewidth": 0,
              "ticks": ""
             }
            },
            "type": "scatterpolar"
           }
          ],
          "scatterpolargl": [
           {
            "marker": {
             "colorbar": {
              "outlinewidth": 0,
              "ticks": ""
             }
            },
            "type": "scatterpolargl"
           }
          ],
          "scatterternary": [
           {
            "marker": {
             "colorbar": {
              "outlinewidth": 0,
              "ticks": ""
             }
            },
            "type": "scatterternary"
           }
          ],
          "surface": [
           {
            "colorbar": {
             "outlinewidth": 0,
             "ticks": ""
            },
            "colorscale": [
             [
              0,
              "#0d0887"
             ],
             [
              0.1111111111111111,
              "#46039f"
             ],
             [
              0.2222222222222222,
              "#7201a8"
             ],
             [
              0.3333333333333333,
              "#9c179e"
             ],
             [
              0.4444444444444444,
              "#bd3786"
             ],
             [
              0.5555555555555556,
              "#d8576b"
             ],
             [
              0.6666666666666666,
              "#ed7953"
             ],
             [
              0.7777777777777778,
              "#fb9f3a"
             ],
             [
              0.8888888888888888,
              "#fdca26"
             ],
             [
              1,
              "#f0f921"
             ]
            ],
            "type": "surface"
           }
          ],
          "table": [
           {
            "cells": {
             "fill": {
              "color": "#EBF0F8"
             },
             "line": {
              "color": "white"
             }
            },
            "header": {
             "fill": {
              "color": "#C8D4E3"
             },
             "line": {
              "color": "white"
             }
            },
            "type": "table"
           }
          ]
         },
         "layout": {
          "annotationdefaults": {
           "arrowcolor": "#2a3f5f",
           "arrowhead": 0,
           "arrowwidth": 1
          },
          "autotypenumbers": "strict",
          "coloraxis": {
           "colorbar": {
            "outlinewidth": 0,
            "ticks": ""
           }
          },
          "colorscale": {
           "diverging": [
            [
             0,
             "#8e0152"
            ],
            [
             0.1,
             "#c51b7d"
            ],
            [
             0.2,
             "#de77ae"
            ],
            [
             0.3,
             "#f1b6da"
            ],
            [
             0.4,
             "#fde0ef"
            ],
            [
             0.5,
             "#f7f7f7"
            ],
            [
             0.6,
             "#e6f5d0"
            ],
            [
             0.7,
             "#b8e186"
            ],
            [
             0.8,
             "#7fbc41"
            ],
            [
             0.9,
             "#4d9221"
            ],
            [
             1,
             "#276419"
            ]
           ],
           "sequential": [
            [
             0,
             "#0d0887"
            ],
            [
             0.1111111111111111,
             "#46039f"
            ],
            [
             0.2222222222222222,
             "#7201a8"
            ],
            [
             0.3333333333333333,
             "#9c179e"
            ],
            [
             0.4444444444444444,
             "#bd3786"
            ],
            [
             0.5555555555555556,
             "#d8576b"
            ],
            [
             0.6666666666666666,
             "#ed7953"
            ],
            [
             0.7777777777777778,
             "#fb9f3a"
            ],
            [
             0.8888888888888888,
             "#fdca26"
            ],
            [
             1,
             "#f0f921"
            ]
           ],
           "sequentialminus": [
            [
             0,
             "#0d0887"
            ],
            [
             0.1111111111111111,
             "#46039f"
            ],
            [
             0.2222222222222222,
             "#7201a8"
            ],
            [
             0.3333333333333333,
             "#9c179e"
            ],
            [
             0.4444444444444444,
             "#bd3786"
            ],
            [
             0.5555555555555556,
             "#d8576b"
            ],
            [
             0.6666666666666666,
             "#ed7953"
            ],
            [
             0.7777777777777778,
             "#fb9f3a"
            ],
            [
             0.8888888888888888,
             "#fdca26"
            ],
            [
             1,
             "#f0f921"
            ]
           ]
          },
          "colorway": [
           "#636efa",
           "#EF553B",
           "#00cc96",
           "#ab63fa",
           "#FFA15A",
           "#19d3f3",
           "#FF6692",
           "#B6E880",
           "#FF97FF",
           "#FECB52"
          ],
          "font": {
           "color": "#2a3f5f"
          },
          "geo": {
           "bgcolor": "white",
           "lakecolor": "white",
           "landcolor": "#E5ECF6",
           "showlakes": true,
           "showland": true,
           "subunitcolor": "white"
          },
          "hoverlabel": {
           "align": "left"
          },
          "hovermode": "closest",
          "mapbox": {
           "style": "light"
          },
          "paper_bgcolor": "white",
          "plot_bgcolor": "#E5ECF6",
          "polar": {
           "angularaxis": {
            "gridcolor": "white",
            "linecolor": "white",
            "ticks": ""
           },
           "bgcolor": "#E5ECF6",
           "radialaxis": {
            "gridcolor": "white",
            "linecolor": "white",
            "ticks": ""
           }
          },
          "scene": {
           "xaxis": {
            "backgroundcolor": "#E5ECF6",
            "gridcolor": "white",
            "gridwidth": 2,
            "linecolor": "white",
            "showbackground": true,
            "ticks": "",
            "zerolinecolor": "white"
           },
           "yaxis": {
            "backgroundcolor": "#E5ECF6",
            "gridcolor": "white",
            "gridwidth": 2,
            "linecolor": "white",
            "showbackground": true,
            "ticks": "",
            "zerolinecolor": "white"
           },
           "zaxis": {
            "backgroundcolor": "#E5ECF6",
            "gridcolor": "white",
            "gridwidth": 2,
            "linecolor": "white",
            "showbackground": true,
            "ticks": "",
            "zerolinecolor": "white"
           }
          },
          "shapedefaults": {
           "line": {
            "color": "#2a3f5f"
           }
          },
          "ternary": {
           "aaxis": {
            "gridcolor": "white",
            "linecolor": "white",
            "ticks": ""
           },
           "baxis": {
            "gridcolor": "white",
            "linecolor": "white",
            "ticks": ""
           },
           "bgcolor": "#E5ECF6",
           "caxis": {
            "gridcolor": "white",
            "linecolor": "white",
            "ticks": ""
           }
          },
          "title": {
           "x": 0.05
          },
          "xaxis": {
           "automargin": true,
           "gridcolor": "white",
           "linecolor": "white",
           "ticks": "",
           "title": {
            "standoff": 15
           },
           "zerolinecolor": "white",
           "zerolinewidth": 2
          },
          "yaxis": {
           "automargin": true,
           "gridcolor": "white",
           "linecolor": "white",
           "ticks": "",
           "title": {
            "standoff": 15
           },
           "zerolinecolor": "white",
           "zerolinewidth": 2
          }
         }
        },
        "title": {
         "text": "Operational vs Embodied Emissions per Classification"
        },
        "xaxis": {
         "anchor": "y",
         "domain": [
          0,
          1
         ],
         "title": {
          "text": "Emissions (kg)"
         }
        },
        "yaxis": {
         "anchor": "x",
         "domain": [
          0,
          1
         ],
         "title": {
          "text": "Classification"
         }
        }
       }
      }
     },
     "metadata": {},
     "output_type": "display_data"
    }
   ],
   "source": [
    "df_map['p_operational'] = round(df_map['emissions_operational_kg'] / (df_map['emissions_operational_kg'] + df_map['emissions_embodied_kg']) * 100)\n",
    "df_map['p_embodied'] = round(df_map['emissions_embodied_kg'] / (df_map['emissions_operational_kg'] + df_map['emissions_embodied_kg']) * 100)\n",
    "\n",
    "df_long = df_map.melt(id_vars=[\"municipality\", \"classification\"], \n",
    "                  value_vars=[\"p_operational\", \"p_embodied\"],\n",
    "                  var_name=\"emission_type\", \n",
    "                  value_name=\"emission_value\")\n",
    "\n",
    "# Define the color scheme for operational and embodied\n",
    "color_dict = {\n",
    "    'p_operational': '#636EFA',  # Blue for operational\n",
    "    'p_embodied': '#EF553B'      # Red for embodied\n",
    "}\n",
    "\n",
    "# Create a boxplot with Plotly Express\n",
    "fig = px.box(df_long, \n",
    "             y=\"classification\", \n",
    "             x=\"emission_value\", \n",
    "             color=\"emission_type\", \n",
    "             title=\"Operational vs Embodied Emissions per Classification\",\n",
    "             color_discrete_map=color_dict,\n",
    "             labels={\"emission_value\": \"Emissions (kg)\", \"classification\": \"Classification\", \"emission_type\": \"Emission Type\"})\n",
    "\n",
    "# Show the plot\n",
    "fig.show()"
   ]
  },
  {
   "cell_type": "code",
   "execution_count": 99,
   "metadata": {},
   "outputs": [
    {
     "data": {
      "application/vnd.plotly.v1+json": {
       "config": {
        "plotlyServerURL": "https://plot.ly"
       },
       "data": [
        {
         "alignmentgroup": "True",
         "hovertemplate": "type=p_bouw_gestart<br>sqm=%{x}<br>Classification=%{y}<extra></extra>",
         "legendgroup": "p_bouw_gestart",
         "marker": {
          "color": "#636efa"
         },
         "name": "p_bouw_gestart",
         "notched": false,
         "offsetgroup": "p_bouw_gestart",
         "orientation": "h",
         "showlegend": true,
         "type": "box",
         "x": [
          85,
          87,
          77,
          96,
          92,
          97,
          66,
          92,
          61,
          92,
          97,
          94,
          94,
          89,
          94,
          97,
          95,
          98,
          89,
          99,
          80,
          18,
          98,
          100,
          89,
          96,
          90,
          98,
          84,
          98,
          96,
          61,
          84,
          93,
          96,
          99,
          92,
          94,
          90,
          98,
          95,
          98,
          97,
          87,
          96,
          97,
          98,
          79,
          90,
          84,
          99,
          95,
          99,
          99,
          95,
          67,
          100,
          100,
          89,
          93,
          95,
          98,
          97,
          86,
          73,
          98,
          85,
          99,
          87,
          59,
          98,
          91,
          75,
          88,
          95,
          99,
          18,
          null,
          78,
          1,
          88,
          98,
          88,
          78,
          94,
          76,
          95,
          57,
          97,
          88,
          87,
          95,
          87,
          100,
          94,
          99,
          90,
          61,
          85,
          99,
          91,
          91,
          71,
          84,
          98,
          91,
          95,
          90,
          96,
          95,
          96,
          96,
          91,
          72,
          100,
          98,
          100,
          4,
          null,
          59,
          93,
          87,
          98,
          88,
          97,
          94,
          89,
          83,
          84,
          97,
          84,
          93,
          null,
          92,
          97,
          99,
          92,
          97,
          90,
          94,
          56,
          94,
          89,
          90,
          56,
          85,
          93,
          73,
          98,
          98,
          98,
          82,
          97,
          97,
          74,
          98,
          84,
          92,
          70,
          95,
          98,
          98,
          83,
          77,
          95,
          60,
          97,
          68,
          96,
          96,
          96,
          98,
          97,
          97,
          88,
          95,
          99,
          95,
          64,
          95,
          99,
          98,
          98,
          89,
          97,
          97,
          96,
          83,
          92,
          80,
          86,
          99,
          85,
          66,
          98,
          64,
          93,
          98,
          95,
          56,
          47,
          93,
          94,
          96,
          87,
          90,
          95,
          98,
          92,
          99,
          40,
          89,
          99,
          99,
          97,
          9,
          97,
          66,
          93,
          99,
          97,
          96,
          91,
          96,
          95,
          83,
          97,
          95,
          97,
          32,
          92,
          95,
          97,
          99,
          82,
          93,
          97,
          97,
          80,
          69,
          96,
          93,
          98,
          96,
          95,
          97,
          65,
          54,
          90,
          89,
          97,
          88,
          98,
          92,
          90,
          90,
          99,
          73,
          94,
          87,
          87,
          99,
          98,
          99,
          88,
          94,
          97,
          84,
          83,
          83,
          96,
          63,
          88,
          90,
          67,
          95,
          97,
          90,
          88,
          99,
          31,
          68,
          87,
          82,
          95,
          92,
          86,
          99,
          1,
          97,
          97,
          99,
          75,
          74,
          95,
          85,
          94,
          88,
          94,
          91,
          78,
          96,
          100,
          87,
          69,
          84,
          98,
          88,
          95,
          94,
          99,
          100,
          93,
          98,
          90,
          81,
          89,
          93,
          89,
          97,
          95,
          86,
          95,
          96,
          47,
          91,
          96,
          100,
          54,
          87,
          96,
          95,
          21,
          95,
          98,
          83,
          93,
          99,
          89,
          90,
          98,
          93,
          99,
          92,
          95
         ],
         "x0": " ",
         "xaxis": "x",
         "y": [
          "energy heavy",
          "energy heavy",
          "energy heavy",
          "material heavy",
          "inefficient",
          "material heavy",
          "energy heavy",
          "material heavy",
          "energy heavy",
          "inefficient",
          "material heavy",
          "material heavy",
          "inefficient",
          "material heavy",
          "inefficient",
          "inefficient",
          "inefficient",
          "material heavy",
          "inefficient",
          "material heavy",
          "energy heavy",
          "efficient",
          "material heavy",
          "inefficient",
          "inefficient",
          "inefficient",
          "material heavy",
          "material heavy",
          "efficient",
          "material heavy",
          "material heavy",
          "efficient",
          "energy heavy",
          "inefficient",
          "material heavy",
          "material heavy",
          "inefficient",
          "inefficient",
          "material heavy",
          "material heavy",
          "material heavy",
          "inefficient",
          "inefficient",
          "efficient",
          "inefficient",
          "material heavy",
          "material heavy",
          "energy heavy",
          "material heavy",
          "material heavy",
          "material heavy",
          "inefficient",
          "material heavy",
          "material heavy",
          "inefficient",
          "energy heavy",
          "inefficient",
          "material heavy",
          "energy heavy",
          "material heavy",
          "inefficient",
          "material heavy",
          "material heavy",
          "efficient",
          "energy heavy",
          "inefficient",
          "efficient",
          "inefficient",
          "efficient",
          "efficient",
          "inefficient",
          "material heavy",
          "energy heavy",
          "energy heavy",
          "inefficient",
          "material heavy",
          "efficient",
          "material heavy",
          "energy heavy",
          "efficient",
          "energy heavy",
          "material heavy",
          "efficient",
          "efficient",
          "material heavy",
          "efficient",
          "material heavy",
          "energy heavy",
          "material heavy",
          "efficient",
          "energy heavy",
          "material heavy",
          "energy heavy",
          "material heavy",
          "inefficient",
          "inefficient",
          "material heavy",
          "efficient",
          "efficient",
          "inefficient",
          "material heavy",
          "inefficient",
          "energy heavy",
          "inefficient",
          "material heavy",
          "inefficient",
          "material heavy",
          "material heavy",
          "inefficient",
          "material heavy",
          "inefficient",
          "inefficient",
          "material heavy",
          "energy heavy",
          "inefficient",
          "material heavy",
          "material heavy",
          "energy heavy",
          "material heavy",
          "energy heavy",
          "material heavy",
          "efficient",
          "inefficient",
          "energy heavy",
          "inefficient",
          "material heavy",
          "efficient",
          "efficient",
          "inefficient",
          "material heavy",
          "efficient",
          "inefficient",
          "inefficient",
          "inefficient",
          "inefficient",
          "inefficient",
          "material heavy",
          "inefficient",
          "material heavy",
          "material heavy",
          "energy heavy",
          "material heavy",
          "material heavy",
          "material heavy",
          "energy heavy",
          "efficient",
          "material heavy",
          "efficient",
          "material heavy",
          "inefficient",
          "material heavy",
          "efficient",
          "inefficient",
          "material heavy",
          "energy heavy",
          "material heavy",
          "energy heavy",
          "inefficient",
          "energy heavy",
          "inefficient",
          "material heavy",
          "material heavy",
          "inefficient",
          "energy heavy",
          "inefficient",
          "efficient",
          "inefficient",
          "efficient",
          "inefficient",
          "material heavy",
          "inefficient",
          "material heavy",
          "inefficient",
          "inefficient",
          "energy heavy",
          "material heavy",
          "inefficient",
          "material heavy",
          "efficient",
          "material heavy",
          "material heavy",
          "inefficient",
          "material heavy",
          "material heavy",
          "inefficient",
          "inefficient",
          "material heavy",
          "efficient",
          "material heavy",
          "material heavy",
          "material heavy",
          "material heavy",
          "energy heavy",
          "energy heavy",
          "material heavy",
          "efficient",
          "material heavy",
          "material heavy",
          "inefficient",
          "efficient",
          "energy heavy",
          "material heavy",
          "material heavy",
          "inefficient",
          "efficient",
          "material heavy",
          "material heavy",
          "inefficient",
          "material heavy",
          "inefficient",
          "energy heavy",
          "energy heavy",
          "material heavy",
          "material heavy",
          "material heavy",
          "energy heavy",
          "inefficient",
          "efficient",
          "material heavy",
          "material heavy",
          "inefficient",
          "inefficient",
          "material heavy",
          "inefficient",
          "inefficient",
          "inefficient",
          "inefficient",
          "material heavy",
          "material heavy",
          "efficient",
          "inefficient",
          "material heavy",
          "inefficient",
          "material heavy",
          "energy heavy",
          "material heavy",
          "inefficient",
          "material heavy",
          "efficient",
          "efficient",
          "inefficient",
          "material heavy",
          "inefficient",
          "material heavy",
          "material heavy",
          "inefficient",
          "energy heavy",
          "efficient",
          "material heavy",
          "material heavy",
          "inefficient",
          "efficient",
          "material heavy",
          "inefficient",
          "material heavy",
          "material heavy",
          "inefficient",
          "efficient",
          "inefficient",
          "energy heavy",
          "efficient",
          "material heavy",
          "material heavy",
          "material heavy",
          "energy heavy",
          "material heavy",
          "material heavy",
          "efficient",
          "energy heavy",
          "efficient",
          "material heavy",
          "energy heavy",
          "material heavy",
          "inefficient",
          "energy heavy",
          "material heavy",
          "material heavy",
          "material heavy",
          "efficient",
          "material heavy",
          "efficient",
          "energy heavy",
          "energy heavy",
          "efficient",
          "material heavy",
          "material heavy",
          "material heavy",
          "inefficient",
          "energy heavy",
          "material heavy",
          "inefficient",
          "inefficient",
          "efficient",
          "efficient",
          "material heavy",
          "efficient",
          "inefficient",
          "inefficient",
          "material heavy",
          "inefficient",
          "efficient",
          "material heavy",
          "material heavy",
          "energy heavy",
          "energy heavy",
          "efficient",
          "inefficient",
          "energy heavy",
          "material heavy",
          "material heavy",
          "material heavy",
          "inefficient",
          "inefficient",
          "material heavy",
          "inefficient",
          "inefficient",
          "inefficient",
          "inefficient",
          "material heavy",
          "material heavy",
          "inefficient",
          "material heavy",
          "inefficient",
          "inefficient",
          "efficient",
          "material heavy",
          "material heavy",
          "inefficient",
          "efficient",
          "efficient",
          "inefficient",
          "inefficient",
          "efficient",
          "inefficient",
          "inefficient",
          "efficient",
          "material heavy",
          "inefficient",
          "inefficient",
          "inefficient",
          "inefficient",
          "inefficient",
          "material heavy",
          "material heavy",
          "material heavy"
         ],
         "y0": " ",
         "yaxis": "y"
        },
        {
         "alignmentgroup": "True",
         "hovertemplate": "type=p_transformation<br>sqm=%{x}<br>Classification=%{y}<extra></extra>",
         "legendgroup": "p_transformation",
         "marker": {
          "color": "#EF553B"
         },
         "name": "p_transformation",
         "notched": false,
         "offsetgroup": "p_transformation",
         "orientation": "h",
         "showlegend": true,
         "type": "box",
         "x": [
          15,
          13,
          23,
          4,
          8,
          3,
          34,
          8,
          39,
          8,
          3,
          6,
          6,
          11,
          6,
          3,
          5,
          2,
          11,
          1,
          20,
          82,
          2,
          0,
          11,
          4,
          10,
          2,
          16,
          2,
          4,
          39,
          16,
          7,
          4,
          1,
          8,
          6,
          10,
          2,
          5,
          2,
          3,
          13,
          4,
          3,
          2,
          21,
          10,
          16,
          1,
          5,
          1,
          1,
          5,
          33,
          0,
          0,
          11,
          7,
          5,
          2,
          3,
          14,
          27,
          2,
          15,
          1,
          13,
          41,
          2,
          9,
          25,
          12,
          5,
          1,
          82,
          null,
          22,
          99,
          12,
          2,
          12,
          22,
          6,
          24,
          5,
          43,
          3,
          12,
          13,
          5,
          13,
          0,
          6,
          1,
          10,
          39,
          15,
          1,
          9,
          9,
          29,
          16,
          2,
          9,
          5,
          10,
          4,
          5,
          4,
          4,
          9,
          28,
          0,
          2,
          0,
          96,
          null,
          41,
          7,
          13,
          2,
          12,
          3,
          6,
          11,
          17,
          16,
          3,
          16,
          7,
          null,
          8,
          3,
          1,
          8,
          3,
          10,
          6,
          44,
          6,
          11,
          10,
          44,
          15,
          7,
          27,
          2,
          2,
          2,
          18,
          3,
          3,
          26,
          2,
          16,
          8,
          30,
          5,
          2,
          2,
          17,
          23,
          5,
          40,
          3,
          32,
          4,
          4,
          4,
          2,
          3,
          3,
          12,
          5,
          1,
          5,
          36,
          5,
          1,
          2,
          2,
          11,
          3,
          3,
          4,
          17,
          8,
          20,
          14,
          1,
          15,
          34,
          2,
          36,
          7,
          2,
          5,
          44,
          53,
          7,
          6,
          4,
          13,
          10,
          5,
          2,
          8,
          1,
          60,
          11,
          1,
          1,
          3,
          91,
          3,
          34,
          7,
          1,
          3,
          4,
          9,
          4,
          5,
          17,
          3,
          5,
          3,
          68,
          8,
          5,
          3,
          1,
          18,
          7,
          3,
          3,
          20,
          31,
          4,
          7,
          2,
          4,
          5,
          3,
          35,
          46,
          10,
          11,
          3,
          12,
          2,
          8,
          10,
          10,
          1,
          27,
          6,
          13,
          13,
          1,
          2,
          1,
          12,
          6,
          3,
          16,
          17,
          17,
          4,
          37,
          12,
          10,
          33,
          5,
          3,
          10,
          12,
          1,
          69,
          32,
          13,
          18,
          5,
          8,
          14,
          1,
          99,
          3,
          3,
          1,
          25,
          26,
          5,
          15,
          6,
          12,
          6,
          9,
          22,
          4,
          0,
          13,
          31,
          16,
          2,
          12,
          5,
          6,
          1,
          0,
          7,
          2,
          10,
          19,
          11,
          7,
          11,
          3,
          5,
          14,
          5,
          4,
          53,
          9,
          4,
          0,
          46,
          13,
          4,
          5,
          79,
          5,
          2,
          17,
          7,
          1,
          11,
          10,
          2,
          7,
          1,
          8,
          5
         ],
         "x0": " ",
         "xaxis": "x",
         "y": [
          "energy heavy",
          "energy heavy",
          "energy heavy",
          "material heavy",
          "inefficient",
          "material heavy",
          "energy heavy",
          "material heavy",
          "energy heavy",
          "inefficient",
          "material heavy",
          "material heavy",
          "inefficient",
          "material heavy",
          "inefficient",
          "inefficient",
          "inefficient",
          "material heavy",
          "inefficient",
          "material heavy",
          "energy heavy",
          "efficient",
          "material heavy",
          "inefficient",
          "inefficient",
          "inefficient",
          "material heavy",
          "material heavy",
          "efficient",
          "material heavy",
          "material heavy",
          "efficient",
          "energy heavy",
          "inefficient",
          "material heavy",
          "material heavy",
          "inefficient",
          "inefficient",
          "material heavy",
          "material heavy",
          "material heavy",
          "inefficient",
          "inefficient",
          "efficient",
          "inefficient",
          "material heavy",
          "material heavy",
          "energy heavy",
          "material heavy",
          "material heavy",
          "material heavy",
          "inefficient",
          "material heavy",
          "material heavy",
          "inefficient",
          "energy heavy",
          "inefficient",
          "material heavy",
          "energy heavy",
          "material heavy",
          "inefficient",
          "material heavy",
          "material heavy",
          "efficient",
          "energy heavy",
          "inefficient",
          "efficient",
          "inefficient",
          "efficient",
          "efficient",
          "inefficient",
          "material heavy",
          "energy heavy",
          "energy heavy",
          "inefficient",
          "material heavy",
          "efficient",
          "material heavy",
          "energy heavy",
          "efficient",
          "energy heavy",
          "material heavy",
          "efficient",
          "efficient",
          "material heavy",
          "efficient",
          "material heavy",
          "energy heavy",
          "material heavy",
          "efficient",
          "energy heavy",
          "material heavy",
          "energy heavy",
          "material heavy",
          "inefficient",
          "inefficient",
          "material heavy",
          "efficient",
          "efficient",
          "inefficient",
          "material heavy",
          "inefficient",
          "energy heavy",
          "inefficient",
          "material heavy",
          "inefficient",
          "material heavy",
          "material heavy",
          "inefficient",
          "material heavy",
          "inefficient",
          "inefficient",
          "material heavy",
          "energy heavy",
          "inefficient",
          "material heavy",
          "material heavy",
          "energy heavy",
          "material heavy",
          "energy heavy",
          "material heavy",
          "efficient",
          "inefficient",
          "energy heavy",
          "inefficient",
          "material heavy",
          "efficient",
          "efficient",
          "inefficient",
          "material heavy",
          "efficient",
          "inefficient",
          "inefficient",
          "inefficient",
          "inefficient",
          "inefficient",
          "material heavy",
          "inefficient",
          "material heavy",
          "material heavy",
          "energy heavy",
          "material heavy",
          "material heavy",
          "material heavy",
          "energy heavy",
          "efficient",
          "material heavy",
          "efficient",
          "material heavy",
          "inefficient",
          "material heavy",
          "efficient",
          "inefficient",
          "material heavy",
          "energy heavy",
          "material heavy",
          "energy heavy",
          "inefficient",
          "energy heavy",
          "inefficient",
          "material heavy",
          "material heavy",
          "inefficient",
          "energy heavy",
          "inefficient",
          "efficient",
          "inefficient",
          "efficient",
          "inefficient",
          "material heavy",
          "inefficient",
          "material heavy",
          "inefficient",
          "inefficient",
          "energy heavy",
          "material heavy",
          "inefficient",
          "material heavy",
          "efficient",
          "material heavy",
          "material heavy",
          "inefficient",
          "material heavy",
          "material heavy",
          "inefficient",
          "inefficient",
          "material heavy",
          "efficient",
          "material heavy",
          "material heavy",
          "material heavy",
          "material heavy",
          "energy heavy",
          "energy heavy",
          "material heavy",
          "efficient",
          "material heavy",
          "material heavy",
          "inefficient",
          "efficient",
          "energy heavy",
          "material heavy",
          "material heavy",
          "inefficient",
          "efficient",
          "material heavy",
          "material heavy",
          "inefficient",
          "material heavy",
          "inefficient",
          "energy heavy",
          "energy heavy",
          "material heavy",
          "material heavy",
          "material heavy",
          "energy heavy",
          "inefficient",
          "efficient",
          "material heavy",
          "material heavy",
          "inefficient",
          "inefficient",
          "material heavy",
          "inefficient",
          "inefficient",
          "inefficient",
          "inefficient",
          "material heavy",
          "material heavy",
          "efficient",
          "inefficient",
          "material heavy",
          "inefficient",
          "material heavy",
          "energy heavy",
          "material heavy",
          "inefficient",
          "material heavy",
          "efficient",
          "efficient",
          "inefficient",
          "material heavy",
          "inefficient",
          "material heavy",
          "material heavy",
          "inefficient",
          "energy heavy",
          "efficient",
          "material heavy",
          "material heavy",
          "inefficient",
          "efficient",
          "material heavy",
          "inefficient",
          "material heavy",
          "material heavy",
          "inefficient",
          "efficient",
          "inefficient",
          "energy heavy",
          "efficient",
          "material heavy",
          "material heavy",
          "material heavy",
          "energy heavy",
          "material heavy",
          "material heavy",
          "efficient",
          "energy heavy",
          "efficient",
          "material heavy",
          "energy heavy",
          "material heavy",
          "inefficient",
          "energy heavy",
          "material heavy",
          "material heavy",
          "material heavy",
          "efficient",
          "material heavy",
          "efficient",
          "energy heavy",
          "energy heavy",
          "efficient",
          "material heavy",
          "material heavy",
          "material heavy",
          "inefficient",
          "energy heavy",
          "material heavy",
          "inefficient",
          "inefficient",
          "efficient",
          "efficient",
          "material heavy",
          "efficient",
          "inefficient",
          "inefficient",
          "material heavy",
          "inefficient",
          "efficient",
          "material heavy",
          "material heavy",
          "energy heavy",
          "energy heavy",
          "efficient",
          "inefficient",
          "energy heavy",
          "material heavy",
          "material heavy",
          "material heavy",
          "inefficient",
          "inefficient",
          "material heavy",
          "inefficient",
          "inefficient",
          "inefficient",
          "inefficient",
          "material heavy",
          "material heavy",
          "inefficient",
          "material heavy",
          "inefficient",
          "inefficient",
          "efficient",
          "material heavy",
          "material heavy",
          "inefficient",
          "efficient",
          "efficient",
          "inefficient",
          "inefficient",
          "efficient",
          "inefficient",
          "inefficient",
          "efficient",
          "material heavy",
          "inefficient",
          "inefficient",
          "inefficient",
          "inefficient",
          "inefficient",
          "material heavy",
          "material heavy",
          "material heavy"
         ],
         "y0": " ",
         "yaxis": "y"
        }
       ],
       "layout": {
        "boxmode": "group",
        "legend": {
         "title": {
          "text": "type"
         },
         "tracegroupgap": 0
        },
        "template": {
         "data": {
          "bar": [
           {
            "error_x": {
             "color": "#2a3f5f"
            },
            "error_y": {
             "color": "#2a3f5f"
            },
            "marker": {
             "line": {
              "color": "#E5ECF6",
              "width": 0.5
             },
             "pattern": {
              "fillmode": "overlay",
              "size": 10,
              "solidity": 0.2
             }
            },
            "type": "bar"
           }
          ],
          "barpolar": [
           {
            "marker": {
             "line": {
              "color": "#E5ECF6",
              "width": 0.5
             },
             "pattern": {
              "fillmode": "overlay",
              "size": 10,
              "solidity": 0.2
             }
            },
            "type": "barpolar"
           }
          ],
          "carpet": [
           {
            "aaxis": {
             "endlinecolor": "#2a3f5f",
             "gridcolor": "white",
             "linecolor": "white",
             "minorgridcolor": "white",
             "startlinecolor": "#2a3f5f"
            },
            "baxis": {
             "endlinecolor": "#2a3f5f",
             "gridcolor": "white",
             "linecolor": "white",
             "minorgridcolor": "white",
             "startlinecolor": "#2a3f5f"
            },
            "type": "carpet"
           }
          ],
          "choropleth": [
           {
            "colorbar": {
             "outlinewidth": 0,
             "ticks": ""
            },
            "type": "choropleth"
           }
          ],
          "contour": [
           {
            "colorbar": {
             "outlinewidth": 0,
             "ticks": ""
            },
            "colorscale": [
             [
              0,
              "#0d0887"
             ],
             [
              0.1111111111111111,
              "#46039f"
             ],
             [
              0.2222222222222222,
              "#7201a8"
             ],
             [
              0.3333333333333333,
              "#9c179e"
             ],
             [
              0.4444444444444444,
              "#bd3786"
             ],
             [
              0.5555555555555556,
              "#d8576b"
             ],
             [
              0.6666666666666666,
              "#ed7953"
             ],
             [
              0.7777777777777778,
              "#fb9f3a"
             ],
             [
              0.8888888888888888,
              "#fdca26"
             ],
             [
              1,
              "#f0f921"
             ]
            ],
            "type": "contour"
           }
          ],
          "contourcarpet": [
           {
            "colorbar": {
             "outlinewidth": 0,
             "ticks": ""
            },
            "type": "contourcarpet"
           }
          ],
          "heatmap": [
           {
            "colorbar": {
             "outlinewidth": 0,
             "ticks": ""
            },
            "colorscale": [
             [
              0,
              "#0d0887"
             ],
             [
              0.1111111111111111,
              "#46039f"
             ],
             [
              0.2222222222222222,
              "#7201a8"
             ],
             [
              0.3333333333333333,
              "#9c179e"
             ],
             [
              0.4444444444444444,
              "#bd3786"
             ],
             [
              0.5555555555555556,
              "#d8576b"
             ],
             [
              0.6666666666666666,
              "#ed7953"
             ],
             [
              0.7777777777777778,
              "#fb9f3a"
             ],
             [
              0.8888888888888888,
              "#fdca26"
             ],
             [
              1,
              "#f0f921"
             ]
            ],
            "type": "heatmap"
           }
          ],
          "heatmapgl": [
           {
            "colorbar": {
             "outlinewidth": 0,
             "ticks": ""
            },
            "colorscale": [
             [
              0,
              "#0d0887"
             ],
             [
              0.1111111111111111,
              "#46039f"
             ],
             [
              0.2222222222222222,
              "#7201a8"
             ],
             [
              0.3333333333333333,
              "#9c179e"
             ],
             [
              0.4444444444444444,
              "#bd3786"
             ],
             [
              0.5555555555555556,
              "#d8576b"
             ],
             [
              0.6666666666666666,
              "#ed7953"
             ],
             [
              0.7777777777777778,
              "#fb9f3a"
             ],
             [
              0.8888888888888888,
              "#fdca26"
             ],
             [
              1,
              "#f0f921"
             ]
            ],
            "type": "heatmapgl"
           }
          ],
          "histogram": [
           {
            "marker": {
             "pattern": {
              "fillmode": "overlay",
              "size": 10,
              "solidity": 0.2
             }
            },
            "type": "histogram"
           }
          ],
          "histogram2d": [
           {
            "colorbar": {
             "outlinewidth": 0,
             "ticks": ""
            },
            "colorscale": [
             [
              0,
              "#0d0887"
             ],
             [
              0.1111111111111111,
              "#46039f"
             ],
             [
              0.2222222222222222,
              "#7201a8"
             ],
             [
              0.3333333333333333,
              "#9c179e"
             ],
             [
              0.4444444444444444,
              "#bd3786"
             ],
             [
              0.5555555555555556,
              "#d8576b"
             ],
             [
              0.6666666666666666,
              "#ed7953"
             ],
             [
              0.7777777777777778,
              "#fb9f3a"
             ],
             [
              0.8888888888888888,
              "#fdca26"
             ],
             [
              1,
              "#f0f921"
             ]
            ],
            "type": "histogram2d"
           }
          ],
          "histogram2dcontour": [
           {
            "colorbar": {
             "outlinewidth": 0,
             "ticks": ""
            },
            "colorscale": [
             [
              0,
              "#0d0887"
             ],
             [
              0.1111111111111111,
              "#46039f"
             ],
             [
              0.2222222222222222,
              "#7201a8"
             ],
             [
              0.3333333333333333,
              "#9c179e"
             ],
             [
              0.4444444444444444,
              "#bd3786"
             ],
             [
              0.5555555555555556,
              "#d8576b"
             ],
             [
              0.6666666666666666,
              "#ed7953"
             ],
             [
              0.7777777777777778,
              "#fb9f3a"
             ],
             [
              0.8888888888888888,
              "#fdca26"
             ],
             [
              1,
              "#f0f921"
             ]
            ],
            "type": "histogram2dcontour"
           }
          ],
          "mesh3d": [
           {
            "colorbar": {
             "outlinewidth": 0,
             "ticks": ""
            },
            "type": "mesh3d"
           }
          ],
          "parcoords": [
           {
            "line": {
             "colorbar": {
              "outlinewidth": 0,
              "ticks": ""
             }
            },
            "type": "parcoords"
           }
          ],
          "pie": [
           {
            "automargin": true,
            "type": "pie"
           }
          ],
          "scatter": [
           {
            "fillpattern": {
             "fillmode": "overlay",
             "size": 10,
             "solidity": 0.2
            },
            "type": "scatter"
           }
          ],
          "scatter3d": [
           {
            "line": {
             "colorbar": {
              "outlinewidth": 0,
              "ticks": ""
             }
            },
            "marker": {
             "colorbar": {
              "outlinewidth": 0,
              "ticks": ""
             }
            },
            "type": "scatter3d"
           }
          ],
          "scattercarpet": [
           {
            "marker": {
             "colorbar": {
              "outlinewidth": 0,
              "ticks": ""
             }
            },
            "type": "scattercarpet"
           }
          ],
          "scattergeo": [
           {
            "marker": {
             "colorbar": {
              "outlinewidth": 0,
              "ticks": ""
             }
            },
            "type": "scattergeo"
           }
          ],
          "scattergl": [
           {
            "marker": {
             "colorbar": {
              "outlinewidth": 0,
              "ticks": ""
             }
            },
            "type": "scattergl"
           }
          ],
          "scattermapbox": [
           {
            "marker": {
             "colorbar": {
              "outlinewidth": 0,
              "ticks": ""
             }
            },
            "type": "scattermapbox"
           }
          ],
          "scatterpolar": [
           {
            "marker": {
             "colorbar": {
              "outlinewidth": 0,
              "ticks": ""
             }
            },
            "type": "scatterpolar"
           }
          ],
          "scatterpolargl": [
           {
            "marker": {
             "colorbar": {
              "outlinewidth": 0,
              "ticks": ""
             }
            },
            "type": "scatterpolargl"
           }
          ],
          "scatterternary": [
           {
            "marker": {
             "colorbar": {
              "outlinewidth": 0,
              "ticks": ""
             }
            },
            "type": "scatterternary"
           }
          ],
          "surface": [
           {
            "colorbar": {
             "outlinewidth": 0,
             "ticks": ""
            },
            "colorscale": [
             [
              0,
              "#0d0887"
             ],
             [
              0.1111111111111111,
              "#46039f"
             ],
             [
              0.2222222222222222,
              "#7201a8"
             ],
             [
              0.3333333333333333,
              "#9c179e"
             ],
             [
              0.4444444444444444,
              "#bd3786"
             ],
             [
              0.5555555555555556,
              "#d8576b"
             ],
             [
              0.6666666666666666,
              "#ed7953"
             ],
             [
              0.7777777777777778,
              "#fb9f3a"
             ],
             [
              0.8888888888888888,
              "#fdca26"
             ],
             [
              1,
              "#f0f921"
             ]
            ],
            "type": "surface"
           }
          ],
          "table": [
           {
            "cells": {
             "fill": {
              "color": "#EBF0F8"
             },
             "line": {
              "color": "white"
             }
            },
            "header": {
             "fill": {
              "color": "#C8D4E3"
             },
             "line": {
              "color": "white"
             }
            },
            "type": "table"
           }
          ]
         },
         "layout": {
          "annotationdefaults": {
           "arrowcolor": "#2a3f5f",
           "arrowhead": 0,
           "arrowwidth": 1
          },
          "autotypenumbers": "strict",
          "coloraxis": {
           "colorbar": {
            "outlinewidth": 0,
            "ticks": ""
           }
          },
          "colorscale": {
           "diverging": [
            [
             0,
             "#8e0152"
            ],
            [
             0.1,
             "#c51b7d"
            ],
            [
             0.2,
             "#de77ae"
            ],
            [
             0.3,
             "#f1b6da"
            ],
            [
             0.4,
             "#fde0ef"
            ],
            [
             0.5,
             "#f7f7f7"
            ],
            [
             0.6,
             "#e6f5d0"
            ],
            [
             0.7,
             "#b8e186"
            ],
            [
             0.8,
             "#7fbc41"
            ],
            [
             0.9,
             "#4d9221"
            ],
            [
             1,
             "#276419"
            ]
           ],
           "sequential": [
            [
             0,
             "#0d0887"
            ],
            [
             0.1111111111111111,
             "#46039f"
            ],
            [
             0.2222222222222222,
             "#7201a8"
            ],
            [
             0.3333333333333333,
             "#9c179e"
            ],
            [
             0.4444444444444444,
             "#bd3786"
            ],
            [
             0.5555555555555556,
             "#d8576b"
            ],
            [
             0.6666666666666666,
             "#ed7953"
            ],
            [
             0.7777777777777778,
             "#fb9f3a"
            ],
            [
             0.8888888888888888,
             "#fdca26"
            ],
            [
             1,
             "#f0f921"
            ]
           ],
           "sequentialminus": [
            [
             0,
             "#0d0887"
            ],
            [
             0.1111111111111111,
             "#46039f"
            ],
            [
             0.2222222222222222,
             "#7201a8"
            ],
            [
             0.3333333333333333,
             "#9c179e"
            ],
            [
             0.4444444444444444,
             "#bd3786"
            ],
            [
             0.5555555555555556,
             "#d8576b"
            ],
            [
             0.6666666666666666,
             "#ed7953"
            ],
            [
             0.7777777777777778,
             "#fb9f3a"
            ],
            [
             0.8888888888888888,
             "#fdca26"
            ],
            [
             1,
             "#f0f921"
            ]
           ]
          },
          "colorway": [
           "#636efa",
           "#EF553B",
           "#00cc96",
           "#ab63fa",
           "#FFA15A",
           "#19d3f3",
           "#FF6692",
           "#B6E880",
           "#FF97FF",
           "#FECB52"
          ],
          "font": {
           "color": "#2a3f5f"
          },
          "geo": {
           "bgcolor": "white",
           "lakecolor": "white",
           "landcolor": "#E5ECF6",
           "showlakes": true,
           "showland": true,
           "subunitcolor": "white"
          },
          "hoverlabel": {
           "align": "left"
          },
          "hovermode": "closest",
          "mapbox": {
           "style": "light"
          },
          "paper_bgcolor": "white",
          "plot_bgcolor": "#E5ECF6",
          "polar": {
           "angularaxis": {
            "gridcolor": "white",
            "linecolor": "white",
            "ticks": ""
           },
           "bgcolor": "#E5ECF6",
           "radialaxis": {
            "gridcolor": "white",
            "linecolor": "white",
            "ticks": ""
           }
          },
          "scene": {
           "xaxis": {
            "backgroundcolor": "#E5ECF6",
            "gridcolor": "white",
            "gridwidth": 2,
            "linecolor": "white",
            "showbackground": true,
            "ticks": "",
            "zerolinecolor": "white"
           },
           "yaxis": {
            "backgroundcolor": "#E5ECF6",
            "gridcolor": "white",
            "gridwidth": 2,
            "linecolor": "white",
            "showbackground": true,
            "ticks": "",
            "zerolinecolor": "white"
           },
           "zaxis": {
            "backgroundcolor": "#E5ECF6",
            "gridcolor": "white",
            "gridwidth": 2,
            "linecolor": "white",
            "showbackground": true,
            "ticks": "",
            "zerolinecolor": "white"
           }
          },
          "shapedefaults": {
           "line": {
            "color": "#2a3f5f"
           }
          },
          "ternary": {
           "aaxis": {
            "gridcolor": "white",
            "linecolor": "white",
            "ticks": ""
           },
           "baxis": {
            "gridcolor": "white",
            "linecolor": "white",
            "ticks": ""
           },
           "bgcolor": "#E5ECF6",
           "caxis": {
            "gridcolor": "white",
            "linecolor": "white",
            "ticks": ""
           }
          },
          "title": {
           "x": 0.05
          },
          "xaxis": {
           "automargin": true,
           "gridcolor": "white",
           "linecolor": "white",
           "ticks": "",
           "title": {
            "standoff": 15
           },
           "zerolinecolor": "white",
           "zerolinewidth": 2
          },
          "yaxis": {
           "automargin": true,
           "gridcolor": "white",
           "linecolor": "white",
           "ticks": "",
           "title": {
            "standoff": 15
           },
           "zerolinecolor": "white",
           "zerolinewidth": 2
          }
         }
        },
        "title": {
         "text": "New vs Transformation Emissions per Classification"
        },
        "xaxis": {
         "anchor": "y",
         "domain": [
          0,
          1
         ],
         "title": {
          "text": "sqm"
         }
        },
        "yaxis": {
         "anchor": "x",
         "categoryarray": [
          "material heavy",
          "energy heavy",
          "inefficient",
          "efficient"
         ],
         "categoryorder": "array",
         "domain": [
          0,
          1
         ],
         "title": {
          "text": "Classification"
         }
        }
       }
      }
     },
     "metadata": {},
     "output_type": "display_data"
    }
   ],
   "source": [
    "query = ''' \n",
    "SELECT municipality, status, SUM(sqm) AS sqm\n",
    "FROM new_housing_emissions \n",
    "WHERE status != 'in use'\n",
    "GROUP BY municipality, status \n",
    "'''\n",
    "\n",
    "sqm_byStatus = pd.read_sql_query(query, engine)\n",
    "sqm_byStatus = sqm_byStatus.pivot_table(index='municipality', columns='status', values='sqm', aggfunc='sum').reset_index()\n",
    "sqm_byStatus.columns = ['municipality', 'bouw_gestart', 'transformation']\n",
    "sqm_byStatus['p_bouw_gestart'] = round(sqm_byStatus['bouw_gestart'] / (sqm_byStatus['bouw_gestart'] + sqm_byStatus['transformation']) * 100)\n",
    "sqm_byStatus['p_transformation'] = round(sqm_byStatus['transformation'] / (sqm_byStatus['bouw_gestart'] + sqm_byStatus['transformation']) * 100)\n",
    "\n",
    "sqm_byStatus = df[['municipality', 'classification']].merge(sqm_byStatus, on='municipality')\n",
    "sqm_byStatus_long = sqm_byStatus.melt(id_vars=[\"municipality\", \"classification\"], \n",
    "                  value_vars=[\"p_bouw_gestart\", \"p_transformation\"],\n",
    "                  var_name=\"status\", \n",
    "                  value_name=\"sqm\")\n",
    "sqm_byStatus_long\n",
    "\n",
    "fig = px.box(sqm_byStatus_long, \n",
    "             y=\"classification\", \n",
    "             x=\"sqm\", \n",
    "             color=\"status\", \n",
    "             title=\"New vs Transformation Emissions per Classification\",\n",
    "             labels={\"sqm\": \"sqm\", \"classification\": \"Classification\", \"status\": \"type\"}, \n",
    "             category_orders={\"classification\": [\"efficient\", \"inefficient\", \"energy heavy\", \"material heavy\"]})\n",
    "fig.show()"
   ]
  }
 ],
 "metadata": {
  "kernelspec": {
   "display_name": "geo_env",
   "language": "python",
   "name": "python3"
  },
  "language_info": {
   "codemirror_mode": {
    "name": "ipython",
    "version": 3
   },
   "file_extension": ".py",
   "mimetype": "text/x-python",
   "name": "python",
   "nbconvert_exporter": "python",
   "pygments_lexer": "ipython3",
   "version": "3.9.19"
  }
 },
 "nbformat": 4,
 "nbformat_minor": 2
}
