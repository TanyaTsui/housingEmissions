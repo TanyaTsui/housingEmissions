{
 "cells": [
  {
   "cell_type": "code",
   "execution_count": 1,
   "metadata": {},
   "outputs": [],
   "source": [
    "from sqlalchemy import create_engine, inspect\n",
    "import pandas as pd\n",
    "import psycopg2\n",
    "import plotly.express as px\n",
    "import os\n",
    "\n",
    "# move current directory to /Users/tanyatsui/Documents/01_Projects/housingEmissions\n",
    "os.chdir('/Users/tanyatsui/Documents/01_Projects/housingEmissions')"
   ]
  },
  {
   "cell_type": "code",
   "execution_count": 2,
   "metadata": {},
   "outputs": [],
   "source": [
    "# create a connection to the database\n",
    "db_name = 'urbanmining'\n",
    "db_user = 'postgres'\n",
    "db_password = 'Tunacompany5694!'\n",
    "db_host = 'localhost'\n",
    "db_port = '5432'\n",
    "engine = create_engine(f'postgresql://{db_user}:{db_password}@{db_host}:{db_port}/{db_name}')\n"
   ]
  },
  {
   "cell_type": "markdown",
   "metadata": {},
   "source": [
    "# Testing harmonised data on in Amsterdam 2015 \n",
    "Here, tested wijk-level harmonised data to see if it creates more accurate scenario results. I'm testing the \"energy efficiency\" scenario, in which all renovations and constructions maximise the energy efficiency of the building. The results have improved - previously, the \"energy efficiency\" scenario led to increased operational emissions, which doesn't make sense. Now, the scenario leads to lower operational emissions. "
   ]
  },
  {
   "cell_type": "markdown",
   "metadata": {},
   "source": [
    "### Emissions"
   ]
  },
  {
   "cell_type": "code",
   "execution_count": 47,
   "metadata": {},
   "outputs": [],
   "source": [
    "base_query = ''' \n",
    "-- aggregate (buildings level stats on sqm) and (neighborhood level stats on energy) to (wijk geometries) \n",
    "-- get buurt level data for n_homes, sqm - use buurt geoms from 2015 \n",
    "WITH nhomes_buurt AS (\n",
    "\tSELECT \"BU_CODE\" AS neighborhood_code, \"GM_NAAM\" AS municipality, geometry, \n",
    "\t\tCOALESCE(NULLIF(CASE WHEN \"AANTAL_HH\" < 0 THEN NULL ELSE \"AANTAL_HH\" END, NULL), 0) AS n_homes, \n",
    "\t\tCOALESCE(NULLIF(CASE WHEN \"G_GAS_TOT\" < 0 THEN NULL ELSE \"G_GAS_TOT\" END, NULL), 0) AS av_gas_m3, \n",
    "\t\tCOALESCE(NULLIF(CASE WHEN \"G_ELEK_TOT\" < 0 THEN NULL ELSE \"G_ELEK_TOT\" END, NULL), 0) AS av_elec_kwh\n",
    "\tFROM cbs_map_2015 \n",
    "\tWHERE \"WATER\" = 'NEE'\n",
    "\t\tAND \"GM_NAAM\" = 'Amsterdam'\n",
    "),\n",
    "\n",
    "-- aggregate nhomes_buurt to wijk \n",
    "bbox AS (\n",
    "\tSELECT ST_Buffer(ST_MakeEnvelope(ST_XMin(extent), ST_YMin(extent), ST_XMax(extent), ST_YMax(extent), 28992), 500) AS geometry\n",
    "\tFROM (SELECT ST_Extent(geometry) AS extent FROM nhomes_buurt) AS subquery\n",
    "), \n",
    "wijk_2012 AS (\n",
    "\tSELECT wk_code, gm_naam AS municipality, geom \n",
    "\tFROM cbs_wijk_2012\n",
    "\tWHERE water = 'NEE'\n",
    "), \n",
    "wijk_almere AS (\n",
    "\tSELECT w.*\n",
    "\tFROM wijk_2012 w \n",
    "\tJOIN bbox b \n",
    "\tON w.geom && b.geometry\n",
    "\t\tAND ST_Within(w.geom, b.geometry)\n",
    "), \n",
    "neighborhoods_with_wijk AS (\n",
    "\tSELECT a.*, a.n_homes * a.av_gas_m3 AS gas_m3, a.n_homes * a.av_elec_kwh AS elec_kwh, \n",
    "\t\tb.wk_code, b.geom AS wijk_geom\n",
    "\tFROM nhomes_buurt a\n",
    "\tJOIN LATERAL (\n",
    "\t\tSELECT b.wk_code, b.geom, ST_Area(ST_Intersection(a.geometry, b.geom)) AS intersection_area\n",
    "\t\tFROM wijk_almere b\n",
    "\t\tWHERE ST_Intersects(a.geometry, b.geom)\n",
    "\t\tORDER BY intersection_area DESC\n",
    "\t\tLIMIT 1\n",
    "\t) AS b ON true\n",
    "), \n",
    "nhomes_wijk AS (\n",
    "\tSELECT wk_code, wijk_geom, \n",
    "\t\tSUM(n_homes) AS n_homes, SUM(gas_m3) AS gas_m3, SUM(elec_kwh) AS elec_kwh\n",
    "\tFROM neighborhoods_with_wijk\n",
    "\tGROUP BY wk_code, wijk_geom\n",
    "), \n",
    "\n",
    "-- add 2022 buurt geom to housing_inuse_almere_2015 \n",
    "sqm_pand_2022geom AS (\n",
    "\tSELECT \n",
    "\t\ta.id_pand, a.sqm, 'Pand in gebruik' AS status, \n",
    "\t\tb.neighborhood_code, b.neighborhood_geom AS geometry\n",
    "\tFROM housing_inuse_amsterdam_2015_droppedguesses a \n",
    "\tLEFT JOIN (SELECT neighborhood_geom, neighborhood_code FROM cbs_map_all WHERE municipality = 'Amsterdam' AND year = 2015) b \n",
    "\tON a.neighborhood_code = b.neighborhood_code \n",
    "), \n",
    "sqm_buurt AS (\n",
    "\tSELECT neighborhood_code, ST_Transform(geometry, 28992) AS geometry, SUM(sqm) AS sqm \n",
    "\tFROM sqm_pand_2022geom\n",
    "\tGROUP BY neighborhood_code, geometry \n",
    "), \n",
    "\n",
    "-- convert sqm_buurt_2022geom to sqm_wijk \n",
    "sqm_buurt_withwijk AS (\n",
    "\tSELECT a.sqm, b.wk_code, b.geom AS wijk_geom\n",
    "\tFROM sqm_buurt a\n",
    "\tJOIN LATERAL (\n",
    "\t\tSELECT b.wk_code, b.geom, ST_Area(ST_Intersection(a.geometry, b.geom)) AS intersection_area\n",
    "\t\tFROM wijk_almere b\n",
    "\t\tWHERE ST_Intersects(a.geometry, b.geom)\n",
    "\t\tORDER BY intersection_area DESC\n",
    "\t\tLIMIT 1\n",
    "\t) AS b ON true\n",
    "), \n",
    "sqm_wijk AS (\n",
    "\tSELECT wk_code, wijk_geom, SUM(sqm) AS sqm\n",
    "\tFROM sqm_buurt_withwijk\n",
    "\tGROUP BY wk_code, wijk_geom\n",
    "), \n",
    "wijk_stats AS (\n",
    "\tSELECT a.*, b.n_homes, \n",
    "\t\tCASE \n",
    "\t\t\tWHEN n_homes <= 0 THEN 0 \n",
    "\t\t\tELSE ROUND(a.sqm / b.n_homes) \n",
    "\t\tEND AS sqm_per_home, \n",
    "\t\tb.gas_m3, b.elec_kwh\n",
    "\tFROM sqm_wijk a \n",
    "\tJOIN nhomes_wijk b \n",
    "\tON a.wk_code = b.wk_code \n",
    "), \n",
    "\n",
    "\n",
    "-- attribute wijk level energy use data to buildings \n",
    "construction_municipality AS ( -- all construction activity (except for demolition) in 2015\n",
    "\tSELECT id_pand, \n",
    "\t\tCASE \n",
    "\t\t\tWHEN status = 'Pand gesloopt' THEN LEFT(registration_start, 4)::INTEGER\n",
    "\t\t\tWHEN status != 'Pand gesloopt' AND registration_end IS NOT NULL THEN LEFT(registration_end, 4)::INTEGER\n",
    "\t\t\tELSE LEFT(registration_start, 4)::INTEGER\n",
    "\t\tEND AS year, \n",
    "\t\tstatus, sqm, geom, geom_28992, neighborhood_code, municipality\n",
    "\tFROM housing_nl\n",
    "\tWHERE municipality = 'Amsterdam'\n",
    "\t    AND ahn_version IS NULL\n",
    "), \n",
    "construction_sample AS (\n",
    "\tSELECT * FROM construction_municipality \n",
    "    WHERE year <= 2015\n",
    "), \n",
    "inuse_sample AS (\n",
    "\tSELECT 2015 AS year, * \n",
    "\tFROM sqm_pand_2022geom\n",
    "), \n",
    "inuse_lowenergy AS (\n",
    "\tSELECT \n",
    "\t\tb.id_pand, b.year, 'Pand in gebruik - low energy' AS status, b.sqm, b.neighborhood_code\n",
    "\tFROM construction_sample a \n",
    "\tLEFT JOIN inuse_sample b \n",
    "\tON a.id_pand = b.id_pand\n",
    "\tWHERE a.status != 'Pand gesloopt'\n",
    "\t\tAND b.id_pand IS NOT NULL\n",
    "), \n",
    "inuse_normalenergy AS (\n",
    "\tSELECT b.id_pand, b.year, b.status, b.sqm, b.neighborhood_code\n",
    "\tFROM construction_sample a \n",
    "\tRIGHT JOIN inuse_sample b \n",
    "\tON a.id_pand = b.id_pand\n",
    "\tWHERE a.id_pand IS NULL \n",
    "), \n",
    "buildings_all AS (\n",
    "\t-- all construction / renovation / transformation / demolition activity in 2015\n",
    "\tSELECT id_pand, year, status, sqm, neighborhood_code \n",
    "\tFROM construction_sample \n",
    "\tWHERE year = 2015\n",
    "\t\n",
    "    UNION ALL \n",
    "\t\n",
    "    -- low energy in use buildings in 2015\n",
    "    SELECT * FROM inuse_lowenergy\n",
    "\t\n",
    "    UNION ALL \n",
    "\t\n",
    "    -- non-low energy in use buildings in 2015\n",
    "    SELECT * FROM inuse_normalenergy\n",
    "), \n",
    "\n",
    "-- create neighborhood_code to wk_code key\n",
    "neighborhoods AS (\n",
    "\tSELECT DISTINCT ON (neighborhood_code) neighborhood_code, ST_Transform(geometry, 28992) AS geometry \n",
    "\tFROM inuse_sample\n",
    "), \n",
    "neighborhood_wijk_key AS (\n",
    "\tSELECT \n",
    "\t\ta.neighborhood_code, a.geometry AS neighborhood_geom, \n",
    "\t\tb.wk_code AS wijk_code, b.geom AS wijk_geom, \n",
    "\t\tb.municipality\n",
    "\tFROM neighborhoods a \n",
    "\tLEFT JOIN wijk_almere b \n",
    "\tON a.geometry && b.geom\n",
    "\t\tAND ST_Within(a.geometry, ST_Buffer(b.geom, 200))\n",
    "), \n",
    "\n",
    "buildings_with_wijk_code AS (\n",
    "\tSELECT a.*, b.wijk_code, b.municipality\n",
    "\tFROM buildings_all a \n",
    "\tLEFT JOIN neighborhood_wijk_key b \n",
    "\tON a.neighborhood_code = b.neighborhood_code \n",
    "), \n",
    "energy_use_per_building AS (\n",
    "\tSELECT a.id_pand, a.year, a.status, a.sqm,\n",
    "\t\tCASE \n",
    "\t\t\tWHEN status IN ('Pand in gebruik', 'Pand in gebruik - low energy') THEN ROUND(a.sqm / b.sqm * b.gas_m3)\n",
    "            ELSE 0\n",
    "        END AS gas_m3_s0,\n",
    "\t\tCASE\n",
    "\t\t\tWHEN status = 'Pand in gebruik' THEN ROUND(a.sqm / b.sqm * b.gas_m3)\n",
    "\t\t\tWHEN status = 'Pand in gebruik - low energy' THEN a.sqm * 5\n",
    "\t\t\tELSE 0 \n",
    "\t\tEND AS gas_m3_s1,\n",
    "\t\tCASE \n",
    "\t\t\tWHEN status IN ('Pand in gebruik', 'Pand in gebruik - low energy') THEN ROUND(a.sqm / b.sqm * b.elec_kwh) \n",
    "\t\t\tELSE 0 \n",
    "\t\tEND AS electricity_kwh_s0, \n",
    "\t\tCASE \n",
    "\t\t\tWHEN status IN ('Pand in gebruik', 'Pand in gebruik - low energy') THEN ROUND(a.sqm / b.sqm * b.elec_kwh) \n",
    "\t\t\tELSE 0 \n",
    "\t\tEND AS electricity_kwh_s1, \n",
    "\t\tb.wk_code, b.wijk_geom\n",
    "\tFROM buildings_with_wijk_code a \n",
    "\tJOIN wijk_stats b \n",
    "\tON a.wijk_code = b.wk_code\n",
    "), \n",
    "emissions_per_building AS (\n",
    "\tSELECT id_pand, year, status, sqm, \n",
    "\t\tROUND(gas_m3_s0 * 1.9 + electricity_kwh_s0 * 0.45) AS operational_kg_s0, \n",
    "\t\tCASE \n",
    "\t\t\tWHEN status IN ('transformation - adding units', 'transformation - function change', \n",
    "\t\t\t\t\t\t\t'renovation - pre2020', 'renovation - post2020') THEN sqm * 126\n",
    "\t\t\tWHEN status = 'Bouw gestart' THEN sqm * 325\n",
    "\t\t\tELSE 0 \n",
    "\t\tEND AS embodied_kg_s0, \n",
    "\t\t\n",
    "\t\tROUND(gas_m3_s1 * 1.9 + electricity_kwh_s1 * 0.45) AS operational_kg_s1, \n",
    "\t\tCASE \n",
    "\t\t\tWHEN status IN ('transformation - adding units', 'transformation - function change', \n",
    "\t\t\t\t\t\t\t'renovation - pre2020', 'renovation - post2020') THEN sqm * 200\n",
    "\t\t\tWHEN status = 'Bouw gestart' THEN sqm * 550\n",
    "\t\t\tELSE 0 \n",
    "\t\tEND AS embodied_kg_s1, \n",
    "\t\twk_code, wijk_geom\n",
    "\tFROM energy_use_per_building \n",
    ")\n",
    "'''\n",
    "\n",
    "query = ''' \n",
    "SELECT wk_code, wijk_geom, \n",
    "\tSUM(sqm) AS sqm, \n",
    "\tSUM(operational_kg_s0) AS operational_kg_s0, SUM(operational_kg_s1) AS operational_kg_s1, \n",
    "\tSUM(embodied_kg_s0) AS embodied_kg_s0, SUM(embodied_kg_s1) AS embodied_kg_s1\n",
    "FROM emissions_per_building\n",
    "GROUP BY wk_code, wijk_geom\n",
    "'''\n",
    "\n",
    "amsterdam_emissions_2015 = pd.read_sql_query(base_query + query, engine)"
   ]
  },
  {
   "cell_type": "code",
   "execution_count": 48,
   "metadata": {},
   "outputs": [
    {
     "data": {
      "application/vnd.plotly.v1+json": {
       "config": {
        "plotlyServerURL": "https://plot.ly"
       },
       "data": [
        {
         "alignmentgroup": "True",
         "hovertemplate": "Category=%{x}<br>Emissions (kg)=%{y}<extra></extra>",
         "legendgroup": "",
         "marker": {
          "color": "#636efa",
          "pattern": {
           "shape": ""
          }
         },
         "name": "",
         "offsetgroup": "",
         "orientation": "v",
         "showlegend": false,
         "textposition": "auto",
         "type": "bar",
         "x": [
          "Operational S0",
          "Operational S1"
         ],
         "xaxis": "x",
         "y": [
          1252959345,
          1215903006
         ],
         "yaxis": "y"
        }
       ],
       "layout": {
        "barmode": "relative",
        "legend": {
         "tracegroupgap": 0
        },
        "template": {
         "data": {
          "bar": [
           {
            "error_x": {
             "color": "#2a3f5f"
            },
            "error_y": {
             "color": "#2a3f5f"
            },
            "marker": {
             "line": {
              "color": "#E5ECF6",
              "width": 0.5
             },
             "pattern": {
              "fillmode": "overlay",
              "size": 10,
              "solidity": 0.2
             }
            },
            "type": "bar"
           }
          ],
          "barpolar": [
           {
            "marker": {
             "line": {
              "color": "#E5ECF6",
              "width": 0.5
             },
             "pattern": {
              "fillmode": "overlay",
              "size": 10,
              "solidity": 0.2
             }
            },
            "type": "barpolar"
           }
          ],
          "carpet": [
           {
            "aaxis": {
             "endlinecolor": "#2a3f5f",
             "gridcolor": "white",
             "linecolor": "white",
             "minorgridcolor": "white",
             "startlinecolor": "#2a3f5f"
            },
            "baxis": {
             "endlinecolor": "#2a3f5f",
             "gridcolor": "white",
             "linecolor": "white",
             "minorgridcolor": "white",
             "startlinecolor": "#2a3f5f"
            },
            "type": "carpet"
           }
          ],
          "choropleth": [
           {
            "colorbar": {
             "outlinewidth": 0,
             "ticks": ""
            },
            "type": "choropleth"
           }
          ],
          "contour": [
           {
            "colorbar": {
             "outlinewidth": 0,
             "ticks": ""
            },
            "colorscale": [
             [
              0,
              "#0d0887"
             ],
             [
              0.1111111111111111,
              "#46039f"
             ],
             [
              0.2222222222222222,
              "#7201a8"
             ],
             [
              0.3333333333333333,
              "#9c179e"
             ],
             [
              0.4444444444444444,
              "#bd3786"
             ],
             [
              0.5555555555555556,
              "#d8576b"
             ],
             [
              0.6666666666666666,
              "#ed7953"
             ],
             [
              0.7777777777777778,
              "#fb9f3a"
             ],
             [
              0.8888888888888888,
              "#fdca26"
             ],
             [
              1,
              "#f0f921"
             ]
            ],
            "type": "contour"
           }
          ],
          "contourcarpet": [
           {
            "colorbar": {
             "outlinewidth": 0,
             "ticks": ""
            },
            "type": "contourcarpet"
           }
          ],
          "heatmap": [
           {
            "colorbar": {
             "outlinewidth": 0,
             "ticks": ""
            },
            "colorscale": [
             [
              0,
              "#0d0887"
             ],
             [
              0.1111111111111111,
              "#46039f"
             ],
             [
              0.2222222222222222,
              "#7201a8"
             ],
             [
              0.3333333333333333,
              "#9c179e"
             ],
             [
              0.4444444444444444,
              "#bd3786"
             ],
             [
              0.5555555555555556,
              "#d8576b"
             ],
             [
              0.6666666666666666,
              "#ed7953"
             ],
             [
              0.7777777777777778,
              "#fb9f3a"
             ],
             [
              0.8888888888888888,
              "#fdca26"
             ],
             [
              1,
              "#f0f921"
             ]
            ],
            "type": "heatmap"
           }
          ],
          "heatmapgl": [
           {
            "colorbar": {
             "outlinewidth": 0,
             "ticks": ""
            },
            "colorscale": [
             [
              0,
              "#0d0887"
             ],
             [
              0.1111111111111111,
              "#46039f"
             ],
             [
              0.2222222222222222,
              "#7201a8"
             ],
             [
              0.3333333333333333,
              "#9c179e"
             ],
             [
              0.4444444444444444,
              "#bd3786"
             ],
             [
              0.5555555555555556,
              "#d8576b"
             ],
             [
              0.6666666666666666,
              "#ed7953"
             ],
             [
              0.7777777777777778,
              "#fb9f3a"
             ],
             [
              0.8888888888888888,
              "#fdca26"
             ],
             [
              1,
              "#f0f921"
             ]
            ],
            "type": "heatmapgl"
           }
          ],
          "histogram": [
           {
            "marker": {
             "pattern": {
              "fillmode": "overlay",
              "size": 10,
              "solidity": 0.2
             }
            },
            "type": "histogram"
           }
          ],
          "histogram2d": [
           {
            "colorbar": {
             "outlinewidth": 0,
             "ticks": ""
            },
            "colorscale": [
             [
              0,
              "#0d0887"
             ],
             [
              0.1111111111111111,
              "#46039f"
             ],
             [
              0.2222222222222222,
              "#7201a8"
             ],
             [
              0.3333333333333333,
              "#9c179e"
             ],
             [
              0.4444444444444444,
              "#bd3786"
             ],
             [
              0.5555555555555556,
              "#d8576b"
             ],
             [
              0.6666666666666666,
              "#ed7953"
             ],
             [
              0.7777777777777778,
              "#fb9f3a"
             ],
             [
              0.8888888888888888,
              "#fdca26"
             ],
             [
              1,
              "#f0f921"
             ]
            ],
            "type": "histogram2d"
           }
          ],
          "histogram2dcontour": [
           {
            "colorbar": {
             "outlinewidth": 0,
             "ticks": ""
            },
            "colorscale": [
             [
              0,
              "#0d0887"
             ],
             [
              0.1111111111111111,
              "#46039f"
             ],
             [
              0.2222222222222222,
              "#7201a8"
             ],
             [
              0.3333333333333333,
              "#9c179e"
             ],
             [
              0.4444444444444444,
              "#bd3786"
             ],
             [
              0.5555555555555556,
              "#d8576b"
             ],
             [
              0.6666666666666666,
              "#ed7953"
             ],
             [
              0.7777777777777778,
              "#fb9f3a"
             ],
             [
              0.8888888888888888,
              "#fdca26"
             ],
             [
              1,
              "#f0f921"
             ]
            ],
            "type": "histogram2dcontour"
           }
          ],
          "mesh3d": [
           {
            "colorbar": {
             "outlinewidth": 0,
             "ticks": ""
            },
            "type": "mesh3d"
           }
          ],
          "parcoords": [
           {
            "line": {
             "colorbar": {
              "outlinewidth": 0,
              "ticks": ""
             }
            },
            "type": "parcoords"
           }
          ],
          "pie": [
           {
            "automargin": true,
            "type": "pie"
           }
          ],
          "scatter": [
           {
            "fillpattern": {
             "fillmode": "overlay",
             "size": 10,
             "solidity": 0.2
            },
            "type": "scatter"
           }
          ],
          "scatter3d": [
           {
            "line": {
             "colorbar": {
              "outlinewidth": 0,
              "ticks": ""
             }
            },
            "marker": {
             "colorbar": {
              "outlinewidth": 0,
              "ticks": ""
             }
            },
            "type": "scatter3d"
           }
          ],
          "scattercarpet": [
           {
            "marker": {
             "colorbar": {
              "outlinewidth": 0,
              "ticks": ""
             }
            },
            "type": "scattercarpet"
           }
          ],
          "scattergeo": [
           {
            "marker": {
             "colorbar": {
              "outlinewidth": 0,
              "ticks": ""
             }
            },
            "type": "scattergeo"
           }
          ],
          "scattergl": [
           {
            "marker": {
             "colorbar": {
              "outlinewidth": 0,
              "ticks": ""
             }
            },
            "type": "scattergl"
           }
          ],
          "scattermapbox": [
           {
            "marker": {
             "colorbar": {
              "outlinewidth": 0,
              "ticks": ""
             }
            },
            "type": "scattermapbox"
           }
          ],
          "scatterpolar": [
           {
            "marker": {
             "colorbar": {
              "outlinewidth": 0,
              "ticks": ""
             }
            },
            "type": "scatterpolar"
           }
          ],
          "scatterpolargl": [
           {
            "marker": {
             "colorbar": {
              "outlinewidth": 0,
              "ticks": ""
             }
            },
            "type": "scatterpolargl"
           }
          ],
          "scatterternary": [
           {
            "marker": {
             "colorbar": {
              "outlinewidth": 0,
              "ticks": ""
             }
            },
            "type": "scatterternary"
           }
          ],
          "surface": [
           {
            "colorbar": {
             "outlinewidth": 0,
             "ticks": ""
            },
            "colorscale": [
             [
              0,
              "#0d0887"
             ],
             [
              0.1111111111111111,
              "#46039f"
             ],
             [
              0.2222222222222222,
              "#7201a8"
             ],
             [
              0.3333333333333333,
              "#9c179e"
             ],
             [
              0.4444444444444444,
              "#bd3786"
             ],
             [
              0.5555555555555556,
              "#d8576b"
             ],
             [
              0.6666666666666666,
              "#ed7953"
             ],
             [
              0.7777777777777778,
              "#fb9f3a"
             ],
             [
              0.8888888888888888,
              "#fdca26"
             ],
             [
              1,
              "#f0f921"
             ]
            ],
            "type": "surface"
           }
          ],
          "table": [
           {
            "cells": {
             "fill": {
              "color": "#EBF0F8"
             },
             "line": {
              "color": "white"
             }
            },
            "header": {
             "fill": {
              "color": "#C8D4E3"
             },
             "line": {
              "color": "white"
             }
            },
            "type": "table"
           }
          ]
         },
         "layout": {
          "annotationdefaults": {
           "arrowcolor": "#2a3f5f",
           "arrowhead": 0,
           "arrowwidth": 1
          },
          "autotypenumbers": "strict",
          "coloraxis": {
           "colorbar": {
            "outlinewidth": 0,
            "ticks": ""
           }
          },
          "colorscale": {
           "diverging": [
            [
             0,
             "#8e0152"
            ],
            [
             0.1,
             "#c51b7d"
            ],
            [
             0.2,
             "#de77ae"
            ],
            [
             0.3,
             "#f1b6da"
            ],
            [
             0.4,
             "#fde0ef"
            ],
            [
             0.5,
             "#f7f7f7"
            ],
            [
             0.6,
             "#e6f5d0"
            ],
            [
             0.7,
             "#b8e186"
            ],
            [
             0.8,
             "#7fbc41"
            ],
            [
             0.9,
             "#4d9221"
            ],
            [
             1,
             "#276419"
            ]
           ],
           "sequential": [
            [
             0,
             "#0d0887"
            ],
            [
             0.1111111111111111,
             "#46039f"
            ],
            [
             0.2222222222222222,
             "#7201a8"
            ],
            [
             0.3333333333333333,
             "#9c179e"
            ],
            [
             0.4444444444444444,
             "#bd3786"
            ],
            [
             0.5555555555555556,
             "#d8576b"
            ],
            [
             0.6666666666666666,
             "#ed7953"
            ],
            [
             0.7777777777777778,
             "#fb9f3a"
            ],
            [
             0.8888888888888888,
             "#fdca26"
            ],
            [
             1,
             "#f0f921"
            ]
           ],
           "sequentialminus": [
            [
             0,
             "#0d0887"
            ],
            [
             0.1111111111111111,
             "#46039f"
            ],
            [
             0.2222222222222222,
             "#7201a8"
            ],
            [
             0.3333333333333333,
             "#9c179e"
            ],
            [
             0.4444444444444444,
             "#bd3786"
            ],
            [
             0.5555555555555556,
             "#d8576b"
            ],
            [
             0.6666666666666666,
             "#ed7953"
            ],
            [
             0.7777777777777778,
             "#fb9f3a"
            ],
            [
             0.8888888888888888,
             "#fdca26"
            ],
            [
             1,
             "#f0f921"
            ]
           ]
          },
          "colorway": [
           "#636efa",
           "#EF553B",
           "#00cc96",
           "#ab63fa",
           "#FFA15A",
           "#19d3f3",
           "#FF6692",
           "#B6E880",
           "#FF97FF",
           "#FECB52"
          ],
          "font": {
           "color": "#2a3f5f"
          },
          "geo": {
           "bgcolor": "white",
           "lakecolor": "white",
           "landcolor": "#E5ECF6",
           "showlakes": true,
           "showland": true,
           "subunitcolor": "white"
          },
          "hoverlabel": {
           "align": "left"
          },
          "hovermode": "closest",
          "mapbox": {
           "style": "light"
          },
          "paper_bgcolor": "white",
          "plot_bgcolor": "#E5ECF6",
          "polar": {
           "angularaxis": {
            "gridcolor": "white",
            "linecolor": "white",
            "ticks": ""
           },
           "bgcolor": "#E5ECF6",
           "radialaxis": {
            "gridcolor": "white",
            "linecolor": "white",
            "ticks": ""
           }
          },
          "scene": {
           "xaxis": {
            "backgroundcolor": "#E5ECF6",
            "gridcolor": "white",
            "gridwidth": 2,
            "linecolor": "white",
            "showbackground": true,
            "ticks": "",
            "zerolinecolor": "white"
           },
           "yaxis": {
            "backgroundcolor": "#E5ECF6",
            "gridcolor": "white",
            "gridwidth": 2,
            "linecolor": "white",
            "showbackground": true,
            "ticks": "",
            "zerolinecolor": "white"
           },
           "zaxis": {
            "backgroundcolor": "#E5ECF6",
            "gridcolor": "white",
            "gridwidth": 2,
            "linecolor": "white",
            "showbackground": true,
            "ticks": "",
            "zerolinecolor": "white"
           }
          },
          "shapedefaults": {
           "line": {
            "color": "#2a3f5f"
           }
          },
          "ternary": {
           "aaxis": {
            "gridcolor": "white",
            "linecolor": "white",
            "ticks": ""
           },
           "baxis": {
            "gridcolor": "white",
            "linecolor": "white",
            "ticks": ""
           },
           "bgcolor": "#E5ECF6",
           "caxis": {
            "gridcolor": "white",
            "linecolor": "white",
            "ticks": ""
           }
          },
          "title": {
           "x": 0.05
          },
          "xaxis": {
           "automargin": true,
           "gridcolor": "white",
           "linecolor": "white",
           "ticks": "",
           "title": {
            "standoff": 15
           },
           "zerolinecolor": "white",
           "zerolinewidth": 2
          },
          "yaxis": {
           "automargin": true,
           "gridcolor": "white",
           "linecolor": "white",
           "ticks": "",
           "title": {
            "standoff": 15
           },
           "zerolinecolor": "white",
           "zerolinewidth": 2
          }
         }
        },
        "title": {
         "text": "Operational Emissions for S0 vs S1 (difference=-37 million kgCO2)"
        },
        "width": 800,
        "xaxis": {
         "anchor": "y",
         "domain": [
          0,
          1
         ],
         "title": {
          "text": "Category"
         }
        },
        "yaxis": {
         "anchor": "x",
         "domain": [
          0,
          1
         ],
         "title": {
          "text": "Emissions (kg)"
         }
        }
       }
      }
     },
     "metadata": {},
     "output_type": "display_data"
    },
    {
     "data": {
      "application/vnd.plotly.v1+json": {
       "config": {
        "plotlyServerURL": "https://plot.ly"
       },
       "data": [
        {
         "alignmentgroup": "True",
         "hovertemplate": "Category=%{x}<br>Emissions (kg)=%{y}<extra></extra>",
         "legendgroup": "",
         "marker": {
          "color": "#636efa",
          "pattern": {
           "shape": ""
          }
         },
         "name": "",
         "offsetgroup": "",
         "orientation": "v",
         "showlegend": false,
         "textposition": "auto",
         "type": "bar",
         "x": [
          "Embodied S0",
          "Embodied S1"
         ],
         "xaxis": "x",
         "y": [
          87857251,
          145568950
         ],
         "yaxis": "y"
        }
       ],
       "layout": {
        "barmode": "relative",
        "legend": {
         "tracegroupgap": 0
        },
        "template": {
         "data": {
          "bar": [
           {
            "error_x": {
             "color": "#2a3f5f"
            },
            "error_y": {
             "color": "#2a3f5f"
            },
            "marker": {
             "line": {
              "color": "#E5ECF6",
              "width": 0.5
             },
             "pattern": {
              "fillmode": "overlay",
              "size": 10,
              "solidity": 0.2
             }
            },
            "type": "bar"
           }
          ],
          "barpolar": [
           {
            "marker": {
             "line": {
              "color": "#E5ECF6",
              "width": 0.5
             },
             "pattern": {
              "fillmode": "overlay",
              "size": 10,
              "solidity": 0.2
             }
            },
            "type": "barpolar"
           }
          ],
          "carpet": [
           {
            "aaxis": {
             "endlinecolor": "#2a3f5f",
             "gridcolor": "white",
             "linecolor": "white",
             "minorgridcolor": "white",
             "startlinecolor": "#2a3f5f"
            },
            "baxis": {
             "endlinecolor": "#2a3f5f",
             "gridcolor": "white",
             "linecolor": "white",
             "minorgridcolor": "white",
             "startlinecolor": "#2a3f5f"
            },
            "type": "carpet"
           }
          ],
          "choropleth": [
           {
            "colorbar": {
             "outlinewidth": 0,
             "ticks": ""
            },
            "type": "choropleth"
           }
          ],
          "contour": [
           {
            "colorbar": {
             "outlinewidth": 0,
             "ticks": ""
            },
            "colorscale": [
             [
              0,
              "#0d0887"
             ],
             [
              0.1111111111111111,
              "#46039f"
             ],
             [
              0.2222222222222222,
              "#7201a8"
             ],
             [
              0.3333333333333333,
              "#9c179e"
             ],
             [
              0.4444444444444444,
              "#bd3786"
             ],
             [
              0.5555555555555556,
              "#d8576b"
             ],
             [
              0.6666666666666666,
              "#ed7953"
             ],
             [
              0.7777777777777778,
              "#fb9f3a"
             ],
             [
              0.8888888888888888,
              "#fdca26"
             ],
             [
              1,
              "#f0f921"
             ]
            ],
            "type": "contour"
           }
          ],
          "contourcarpet": [
           {
            "colorbar": {
             "outlinewidth": 0,
             "ticks": ""
            },
            "type": "contourcarpet"
           }
          ],
          "heatmap": [
           {
            "colorbar": {
             "outlinewidth": 0,
             "ticks": ""
            },
            "colorscale": [
             [
              0,
              "#0d0887"
             ],
             [
              0.1111111111111111,
              "#46039f"
             ],
             [
              0.2222222222222222,
              "#7201a8"
             ],
             [
              0.3333333333333333,
              "#9c179e"
             ],
             [
              0.4444444444444444,
              "#bd3786"
             ],
             [
              0.5555555555555556,
              "#d8576b"
             ],
             [
              0.6666666666666666,
              "#ed7953"
             ],
             [
              0.7777777777777778,
              "#fb9f3a"
             ],
             [
              0.8888888888888888,
              "#fdca26"
             ],
             [
              1,
              "#f0f921"
             ]
            ],
            "type": "heatmap"
           }
          ],
          "heatmapgl": [
           {
            "colorbar": {
             "outlinewidth": 0,
             "ticks": ""
            },
            "colorscale": [
             [
              0,
              "#0d0887"
             ],
             [
              0.1111111111111111,
              "#46039f"
             ],
             [
              0.2222222222222222,
              "#7201a8"
             ],
             [
              0.3333333333333333,
              "#9c179e"
             ],
             [
              0.4444444444444444,
              "#bd3786"
             ],
             [
              0.5555555555555556,
              "#d8576b"
             ],
             [
              0.6666666666666666,
              "#ed7953"
             ],
             [
              0.7777777777777778,
              "#fb9f3a"
             ],
             [
              0.8888888888888888,
              "#fdca26"
             ],
             [
              1,
              "#f0f921"
             ]
            ],
            "type": "heatmapgl"
           }
          ],
          "histogram": [
           {
            "marker": {
             "pattern": {
              "fillmode": "overlay",
              "size": 10,
              "solidity": 0.2
             }
            },
            "type": "histogram"
           }
          ],
          "histogram2d": [
           {
            "colorbar": {
             "outlinewidth": 0,
             "ticks": ""
            },
            "colorscale": [
             [
              0,
              "#0d0887"
             ],
             [
              0.1111111111111111,
              "#46039f"
             ],
             [
              0.2222222222222222,
              "#7201a8"
             ],
             [
              0.3333333333333333,
              "#9c179e"
             ],
             [
              0.4444444444444444,
              "#bd3786"
             ],
             [
              0.5555555555555556,
              "#d8576b"
             ],
             [
              0.6666666666666666,
              "#ed7953"
             ],
             [
              0.7777777777777778,
              "#fb9f3a"
             ],
             [
              0.8888888888888888,
              "#fdca26"
             ],
             [
              1,
              "#f0f921"
             ]
            ],
            "type": "histogram2d"
           }
          ],
          "histogram2dcontour": [
           {
            "colorbar": {
             "outlinewidth": 0,
             "ticks": ""
            },
            "colorscale": [
             [
              0,
              "#0d0887"
             ],
             [
              0.1111111111111111,
              "#46039f"
             ],
             [
              0.2222222222222222,
              "#7201a8"
             ],
             [
              0.3333333333333333,
              "#9c179e"
             ],
             [
              0.4444444444444444,
              "#bd3786"
             ],
             [
              0.5555555555555556,
              "#d8576b"
             ],
             [
              0.6666666666666666,
              "#ed7953"
             ],
             [
              0.7777777777777778,
              "#fb9f3a"
             ],
             [
              0.8888888888888888,
              "#fdca26"
             ],
             [
              1,
              "#f0f921"
             ]
            ],
            "type": "histogram2dcontour"
           }
          ],
          "mesh3d": [
           {
            "colorbar": {
             "outlinewidth": 0,
             "ticks": ""
            },
            "type": "mesh3d"
           }
          ],
          "parcoords": [
           {
            "line": {
             "colorbar": {
              "outlinewidth": 0,
              "ticks": ""
             }
            },
            "type": "parcoords"
           }
          ],
          "pie": [
           {
            "automargin": true,
            "type": "pie"
           }
          ],
          "scatter": [
           {
            "fillpattern": {
             "fillmode": "overlay",
             "size": 10,
             "solidity": 0.2
            },
            "type": "scatter"
           }
          ],
          "scatter3d": [
           {
            "line": {
             "colorbar": {
              "outlinewidth": 0,
              "ticks": ""
             }
            },
            "marker": {
             "colorbar": {
              "outlinewidth": 0,
              "ticks": ""
             }
            },
            "type": "scatter3d"
           }
          ],
          "scattercarpet": [
           {
            "marker": {
             "colorbar": {
              "outlinewidth": 0,
              "ticks": ""
             }
            },
            "type": "scattercarpet"
           }
          ],
          "scattergeo": [
           {
            "marker": {
             "colorbar": {
              "outlinewidth": 0,
              "ticks": ""
             }
            },
            "type": "scattergeo"
           }
          ],
          "scattergl": [
           {
            "marker": {
             "colorbar": {
              "outlinewidth": 0,
              "ticks": ""
             }
            },
            "type": "scattergl"
           }
          ],
          "scattermapbox": [
           {
            "marker": {
             "colorbar": {
              "outlinewidth": 0,
              "ticks": ""
             }
            },
            "type": "scattermapbox"
           }
          ],
          "scatterpolar": [
           {
            "marker": {
             "colorbar": {
              "outlinewidth": 0,
              "ticks": ""
             }
            },
            "type": "scatterpolar"
           }
          ],
          "scatterpolargl": [
           {
            "marker": {
             "colorbar": {
              "outlinewidth": 0,
              "ticks": ""
             }
            },
            "type": "scatterpolargl"
           }
          ],
          "scatterternary": [
           {
            "marker": {
             "colorbar": {
              "outlinewidth": 0,
              "ticks": ""
             }
            },
            "type": "scatterternary"
           }
          ],
          "surface": [
           {
            "colorbar": {
             "outlinewidth": 0,
             "ticks": ""
            },
            "colorscale": [
             [
              0,
              "#0d0887"
             ],
             [
              0.1111111111111111,
              "#46039f"
             ],
             [
              0.2222222222222222,
              "#7201a8"
             ],
             [
              0.3333333333333333,
              "#9c179e"
             ],
             [
              0.4444444444444444,
              "#bd3786"
             ],
             [
              0.5555555555555556,
              "#d8576b"
             ],
             [
              0.6666666666666666,
              "#ed7953"
             ],
             [
              0.7777777777777778,
              "#fb9f3a"
             ],
             [
              0.8888888888888888,
              "#fdca26"
             ],
             [
              1,
              "#f0f921"
             ]
            ],
            "type": "surface"
           }
          ],
          "table": [
           {
            "cells": {
             "fill": {
              "color": "#EBF0F8"
             },
             "line": {
              "color": "white"
             }
            },
            "header": {
             "fill": {
              "color": "#C8D4E3"
             },
             "line": {
              "color": "white"
             }
            },
            "type": "table"
           }
          ]
         },
         "layout": {
          "annotationdefaults": {
           "arrowcolor": "#2a3f5f",
           "arrowhead": 0,
           "arrowwidth": 1
          },
          "autotypenumbers": "strict",
          "coloraxis": {
           "colorbar": {
            "outlinewidth": 0,
            "ticks": ""
           }
          },
          "colorscale": {
           "diverging": [
            [
             0,
             "#8e0152"
            ],
            [
             0.1,
             "#c51b7d"
            ],
            [
             0.2,
             "#de77ae"
            ],
            [
             0.3,
             "#f1b6da"
            ],
            [
             0.4,
             "#fde0ef"
            ],
            [
             0.5,
             "#f7f7f7"
            ],
            [
             0.6,
             "#e6f5d0"
            ],
            [
             0.7,
             "#b8e186"
            ],
            [
             0.8,
             "#7fbc41"
            ],
            [
             0.9,
             "#4d9221"
            ],
            [
             1,
             "#276419"
            ]
           ],
           "sequential": [
            [
             0,
             "#0d0887"
            ],
            [
             0.1111111111111111,
             "#46039f"
            ],
            [
             0.2222222222222222,
             "#7201a8"
            ],
            [
             0.3333333333333333,
             "#9c179e"
            ],
            [
             0.4444444444444444,
             "#bd3786"
            ],
            [
             0.5555555555555556,
             "#d8576b"
            ],
            [
             0.6666666666666666,
             "#ed7953"
            ],
            [
             0.7777777777777778,
             "#fb9f3a"
            ],
            [
             0.8888888888888888,
             "#fdca26"
            ],
            [
             1,
             "#f0f921"
            ]
           ],
           "sequentialminus": [
            [
             0,
             "#0d0887"
            ],
            [
             0.1111111111111111,
             "#46039f"
            ],
            [
             0.2222222222222222,
             "#7201a8"
            ],
            [
             0.3333333333333333,
             "#9c179e"
            ],
            [
             0.4444444444444444,
             "#bd3786"
            ],
            [
             0.5555555555555556,
             "#d8576b"
            ],
            [
             0.6666666666666666,
             "#ed7953"
            ],
            [
             0.7777777777777778,
             "#fb9f3a"
            ],
            [
             0.8888888888888888,
             "#fdca26"
            ],
            [
             1,
             "#f0f921"
            ]
           ]
          },
          "colorway": [
           "#636efa",
           "#EF553B",
           "#00cc96",
           "#ab63fa",
           "#FFA15A",
           "#19d3f3",
           "#FF6692",
           "#B6E880",
           "#FF97FF",
           "#FECB52"
          ],
          "font": {
           "color": "#2a3f5f"
          },
          "geo": {
           "bgcolor": "white",
           "lakecolor": "white",
           "landcolor": "#E5ECF6",
           "showlakes": true,
           "showland": true,
           "subunitcolor": "white"
          },
          "hoverlabel": {
           "align": "left"
          },
          "hovermode": "closest",
          "mapbox": {
           "style": "light"
          },
          "paper_bgcolor": "white",
          "plot_bgcolor": "#E5ECF6",
          "polar": {
           "angularaxis": {
            "gridcolor": "white",
            "linecolor": "white",
            "ticks": ""
           },
           "bgcolor": "#E5ECF6",
           "radialaxis": {
            "gridcolor": "white",
            "linecolor": "white",
            "ticks": ""
           }
          },
          "scene": {
           "xaxis": {
            "backgroundcolor": "#E5ECF6",
            "gridcolor": "white",
            "gridwidth": 2,
            "linecolor": "white",
            "showbackground": true,
            "ticks": "",
            "zerolinecolor": "white"
           },
           "yaxis": {
            "backgroundcolor": "#E5ECF6",
            "gridcolor": "white",
            "gridwidth": 2,
            "linecolor": "white",
            "showbackground": true,
            "ticks": "",
            "zerolinecolor": "white"
           },
           "zaxis": {
            "backgroundcolor": "#E5ECF6",
            "gridcolor": "white",
            "gridwidth": 2,
            "linecolor": "white",
            "showbackground": true,
            "ticks": "",
            "zerolinecolor": "white"
           }
          },
          "shapedefaults": {
           "line": {
            "color": "#2a3f5f"
           }
          },
          "ternary": {
           "aaxis": {
            "gridcolor": "white",
            "linecolor": "white",
            "ticks": ""
           },
           "baxis": {
            "gridcolor": "white",
            "linecolor": "white",
            "ticks": ""
           },
           "bgcolor": "#E5ECF6",
           "caxis": {
            "gridcolor": "white",
            "linecolor": "white",
            "ticks": ""
           }
          },
          "title": {
           "x": 0.05
          },
          "xaxis": {
           "automargin": true,
           "gridcolor": "white",
           "linecolor": "white",
           "ticks": "",
           "title": {
            "standoff": 15
           },
           "zerolinecolor": "white",
           "zerolinewidth": 2
          },
          "yaxis": {
           "automargin": true,
           "gridcolor": "white",
           "linecolor": "white",
           "ticks": "",
           "title": {
            "standoff": 15
           },
           "zerolinecolor": "white",
           "zerolinewidth": 2
          }
         }
        },
        "title": {
         "text": "Embodied Emissions for S0 vs S1 (difference=58 million kgCO2)"
        },
        "width": 800,
        "xaxis": {
         "anchor": "y",
         "domain": [
          0,
          1
         ],
         "title": {
          "text": "Category"
         }
        },
        "yaxis": {
         "anchor": "x",
         "domain": [
          0,
          1
         ],
         "title": {
          "text": "Emissions (kg)"
         }
        }
       }
      }
     },
     "metadata": {},
     "output_type": "display_data"
    }
   ],
   "source": [
    "df = amsterdam_emissions_2015.copy()\n",
    "operational_s0 = df['operational_kg_s0'].sum()\n",
    "operational_s1 = df['operational_kg_s1'].sum()\n",
    "embodied_s0 = df['embodied_kg_s0'].sum()\n",
    "embodied_s1 = df['embodied_kg_s1'].sum()\n",
    "\n",
    "# operational emissions plot\n",
    "data = {\n",
    "    \"Category\": [\"Operational S0\", \"Operational S1\"],\n",
    "    \"Emissions (kg)\": [operational_s0, operational_s1]\n",
    "}\n",
    "df_plot = pd.DataFrame(data)\n",
    "fig = px.bar(df_plot, x=\"Category\", y=\"Emissions (kg)\", \n",
    "             title=f\"Operational Emissions for S0 vs S1 (difference={round((operational_s1 - operational_s0)/1000000)} million kgCO2)\")\n",
    "fig.update_layout(width=800)\n",
    "fig.show()\n",
    "\n",
    "# embodied emissions plot \n",
    "data = {\n",
    "    \"Category\": [\"Embodied S0\", \"Embodied S1\"],\n",
    "    \"Emissions (kg)\": [embodied_s0, embodied_s1]\n",
    "}\n",
    "df_plot = pd.DataFrame(data)\n",
    "fig = px.bar(df_plot, x=\"Category\", y=\"Emissions (kg)\", \n",
    "             title=f\"Embodied Emissions for S0 vs S1 (difference={round((embodied_s1 - embodied_s0)/1000000)} million kgCO2)\")\n",
    "fig.update_layout(width=800)\n",
    "fig.show()"
   ]
  },
  {
   "cell_type": "code",
   "execution_count": 35,
   "metadata": {},
   "outputs": [
    {
     "data": {
      "text/html": [
       "<div>\n",
       "<style scoped>\n",
       "    .dataframe tbody tr th:only-of-type {\n",
       "        vertical-align: middle;\n",
       "    }\n",
       "\n",
       "    .dataframe tbody tr th {\n",
       "        vertical-align: top;\n",
       "    }\n",
       "\n",
       "    .dataframe thead th {\n",
       "        text-align: right;\n",
       "    }\n",
       "</style>\n",
       "<table border=\"1\" class=\"dataframe\">\n",
       "  <thead>\n",
       "    <tr style=\"text-align: right;\">\n",
       "      <th></th>\n",
       "      <th>id_pand</th>\n",
       "      <th>year</th>\n",
       "      <th>status</th>\n",
       "      <th>sqm</th>\n",
       "      <th>geom</th>\n",
       "      <th>geom_28992</th>\n",
       "      <th>neighborhood_code</th>\n",
       "      <th>municipality</th>\n",
       "    </tr>\n",
       "  </thead>\n",
       "  <tbody>\n",
       "    <tr>\n",
       "      <th>0</th>\n",
       "      <td>0363100012165245</td>\n",
       "      <td>2013</td>\n",
       "      <td>renovation - pre2020</td>\n",
       "      <td>87</td>\n",
       "      <td>0103000020E610000001000000070000002C40424FCD0B...</td>\n",
       "      <td>01030000204071000001000000070000008716D9CE439A...</td>\n",
       "      <td>BU03637306</td>\n",
       "      <td>Amsterdam</td>\n",
       "    </tr>\n",
       "    <tr>\n",
       "      <th>1</th>\n",
       "      <td>0363100012110916</td>\n",
       "      <td>2015</td>\n",
       "      <td>renovation - pre2020</td>\n",
       "      <td>175</td>\n",
       "      <td>0103000020E6100000010000000B00000028F5221BE16D...</td>\n",
       "      <td>010300002040710000010000000B000000A4703D0AAF05...</td>\n",
       "      <td>BU03639003</td>\n",
       "      <td>Amsterdam</td>\n",
       "    </tr>\n",
       "    <tr>\n",
       "      <th>2</th>\n",
       "      <td>0363100012070991</td>\n",
       "      <td>2013</td>\n",
       "      <td>renovation - pre2020</td>\n",
       "      <td>295</td>\n",
       "      <td>0103000020E61000000100000009000000C3798CA16E82...</td>\n",
       "      <td>0103000020407100000100000009000000560E2DB24D5C...</td>\n",
       "      <td>BU03634901</td>\n",
       "      <td>Amsterdam</td>\n",
       "    </tr>\n",
       "    <tr>\n",
       "      <th>3</th>\n",
       "      <td>0363100012155350</td>\n",
       "      <td>2015</td>\n",
       "      <td>renovation - pre2020</td>\n",
       "      <td>62</td>\n",
       "      <td>0103000020E61000000100000007000000FF82166DDE6D...</td>\n",
       "      <td>0103000020407100000100000007000000B4C876BEB305...</td>\n",
       "      <td>BU03639003</td>\n",
       "      <td>Amsterdam</td>\n",
       "    </tr>\n",
       "    <tr>\n",
       "      <th>4</th>\n",
       "      <td>0363100012111763</td>\n",
       "      <td>2014</td>\n",
       "      <td>renovation - pre2020</td>\n",
       "      <td>382</td>\n",
       "      <td>0103000020E61000000100000008000000604EE9AC20BF...</td>\n",
       "      <td>0103000020407100000100000008000000DD2406816959...</td>\n",
       "      <td>BU03633101</td>\n",
       "      <td>Amsterdam</td>\n",
       "    </tr>\n",
       "  </tbody>\n",
       "</table>\n",
       "</div>"
      ],
      "text/plain": [
       "            id_pand  year                status  sqm  \\\n",
       "0  0363100012165245  2013  renovation - pre2020   87   \n",
       "1  0363100012110916  2015  renovation - pre2020  175   \n",
       "2  0363100012070991  2013  renovation - pre2020  295   \n",
       "3  0363100012155350  2015  renovation - pre2020   62   \n",
       "4  0363100012111763  2014  renovation - pre2020  382   \n",
       "\n",
       "                                                geom  \\\n",
       "0  0103000020E610000001000000070000002C40424FCD0B...   \n",
       "1  0103000020E6100000010000000B00000028F5221BE16D...   \n",
       "2  0103000020E61000000100000009000000C3798CA16E82...   \n",
       "3  0103000020E61000000100000007000000FF82166DDE6D...   \n",
       "4  0103000020E61000000100000008000000604EE9AC20BF...   \n",
       "\n",
       "                                          geom_28992 neighborhood_code  \\\n",
       "0  01030000204071000001000000070000008716D9CE439A...        BU03637306   \n",
       "1  010300002040710000010000000B000000A4703D0AAF05...        BU03639003   \n",
       "2  0103000020407100000100000009000000560E2DB24D5C...        BU03634901   \n",
       "3  0103000020407100000100000007000000B4C876BEB305...        BU03639003   \n",
       "4  0103000020407100000100000008000000DD2406816959...        BU03633101   \n",
       "\n",
       "  municipality  \n",
       "0    Amsterdam  \n",
       "1    Amsterdam  \n",
       "2    Amsterdam  \n",
       "3    Amsterdam  \n",
       "4    Amsterdam  "
      ]
     },
     "execution_count": 35,
     "metadata": {},
     "output_type": "execute_result"
    }
   ],
   "source": [
    "query = ''' \n",
    "SELECT * \n",
    "FROM construction_sample \n",
    "\n",
    "'''\n",
    "\n",
    "df = pd.read_sql_query(base_query + query, engine)\n",
    "df"
   ]
  },
  {
   "cell_type": "markdown",
   "metadata": {},
   "source": [
    "# Issue: mismatch between changed and in-use buildings\n",
    "Even though there's a drop in emissions in the energy efficiency scenario, it's still pretty minor. If this result is accurate, then it's an interesting finding. \n",
    "\n",
    "However, there is an issue: of all the buildings that were constructed or renovated on or before 2015 (n=6496), ~18% of them (n=1194) do not show up in the snapshot of in-use buildings (~n=100,000). **So what happened to those 1194 buildings?**  \n",
    "\n",
    "Turns out, those 1194 buildings did't show up in the in-use building table because of the following reasons, some reasonable and some not: \n",
    "- (n=98) some constructed/renovated buildings didn't come into use. They were either immediately demolished, or just not yet registered ('Pand in gebruik - niet ingemeten'). This is reasonable.\n",
    "- (n=635) some constructed/renovated buildings did come into use after, but not during 2015. They were either out-of-use (e.g. demolished) before 2015, or only came into use after 2015. This is also reasonable.\n",
    "- (n=461) some constructed/renovated buildings did come into use during 2015, but they were not recorded in the bag_vbo dataset. This issue here is that `housing_nl` was used to create the `housing_changed` table, whereas `bag_vbo` was used to create the `housing_inuse` table. This is not reasonable and need to be fixed.\n",
    "\n",
    "To fix the last bullet point, I need to do the following: \n",
    "- only pick rows from housing_nl that were not guessed (WHERE ahn_version IS NULL) \n",
    "- only take into account data from bag_vbo when creating housing_inuse snapshot"
   ]
  },
  {
   "cell_type": "code",
   "execution_count": 30,
   "metadata": {},
   "outputs": [
    {
     "name": "stdout",
     "output_type": "stream",
     "text": [
      "there are 0 problematic buildings\n"
     ]
    }
   ],
   "source": [
    "query = ''' \n",
    "WITH housing_changed AS (\n",
    "\tSELECT id_pand, \n",
    "\t\tLEFT(registration_start, 4)::INTEGER AS year, \n",
    "\t\tstatus, sqm, geom, geom_28992, neighborhood_code, municipality\n",
    "\tFROM housing_nl\n",
    "\tWHERE municipality = 'Amsterdam'\n",
    "\t\tAND ahn_version IS NULL\n",
    "\t\tAND status != 'Pand gesloopt'\n",
    "\t\tAND LEFT(registration_start, 4)::INTEGER <= 2015\n",
    "), \n",
    "\n",
    "housing_inuse AS (\n",
    "\tSELECT * \n",
    "\tFROM housing_inuse_amsterdam_2015_droppedguesses\n",
    "), \n",
    "\n",
    "-- buildings that were changed (constructed/renovated) before 2015, but not in the 2015 in use table \n",
    "problematic_buildings AS (\n",
    "\tSELECT \n",
    "\t\tDISTINCT a.id_pand\n",
    "\tFROM housing_changed a \n",
    "\tFULL JOIN housing_inuse b \n",
    "\tON a.id_pand = b.id_pand\n",
    "\tWHERE b.id_pand IS NULL \n",
    ")\n",
    "SELECT DISTINCT id_pand \n",
    "FROM bag_vbo\n",
    "WHERE id_pand IN (SELECT id_pand FROM problematic_buildings) \n",
    "\tAND status = 'Pand in gebruik'\n",
    "\tAND LEFT(registration_start, 4)::INTEGER <= 2015 \n",
    "\tAND (LEFT(registration_end, 4)::INTEGER >= 2015 OR registration_end IS NULL)\n",
    "'''\n",
    "\n",
    "problematic_buildings = pd.read_sql_query(query, engine)\n",
    "print(f'there are {problematic_buildings.shape[0]} problematic buildings')"
   ]
  },
  {
   "cell_type": "markdown",
   "metadata": {},
   "source": [
    "### Discrepancy between `housing_changed` and `housing_inuse` \n",
    "As mentioned in the previous section, some constructed/renovated buildings (n=461) did come into use during 2015, but did not show up in the in-use table, as they were not recorded in the bag_vbo dataset. The issue here is that `housing_nl` was used to create the `housing_changed` table, whereas `bag_vbo` was used to create the `housing_inuse` table. \n",
    "\n",
    "Based on what I find, I may make the following changes: \n",
    "- record all tables (housing_inuse, housing_nl) as residential units (id_vbo) instead of buildings (id_pand)\n",
    "- change housing_nl so that it doesn't have guesses "
   ]
  },
  {
   "cell_type": "markdown",
   "metadata": {},
   "source": [
    "Below is the query for creating the `housing_inuse` table. It aggregates housing unit data from `bag_vbo` into building data using `id_pand`, and attaches building information from `bag_pand`. This convoluted method was used because I thought that some residential units were not captured in `bag_vbo`. Now I realize I was wrong, which is why I \"dropped guesses\". So perhaps the unit of measurement should be residential units, not residential buildings. "
   ]
  },
  {
   "cell_type": "code",
   "execution_count": null,
   "metadata": {},
   "outputs": [],
   "source": [
    "municipality = 'Amsterdam'\n",
    "year = 2015 \n",
    "\n",
    "query_building_inuse = f''' DROP TABLE IF EXISTS housing_inuse_{municipality}_{year}_droppedguesses;\n",
    "CREATE TABLE housing_inuse_{municipality}_{year}_droppedguesses AS     \n",
    "\n",
    "-- get subset of housing units and buildings in municipality\n",
    "WITH bag_vbo_municipality AS (\n",
    "\tSELECT * \n",
    "\tFROM bag_vbo \n",
    "\tWHERE municipality = '{municipality}'\n",
    "), \n",
    "bag_pand_municipality AS (\n",
    "\tSELECT DISTINCT ON (id_pand) * \n",
    "\tFROM bag_pand\n",
    "\tWHERE \n",
    "\t\tmunicipality = '{municipality}'\n",
    "\t\tAND status = 'Pand in gebruik' \n",
    "\t\tAND LEFT(registration_start, 4)::INTEGER <= {year} \n",
    "\t\tAND (registration_end IS NULL OR LEFT(registration_end, 4)::INTEGER >= {year})\n",
    "), \n",
    "housing_units AS (\n",
    "\tSELECT DISTINCT ON (id_vbo) *\n",
    "\tFROM bag_vbo_municipality\n",
    "\tWHERE \n",
    "\t\tstatus = 'Verblijfsobject in gebruik'\n",
    "\t\tAND sqm::INTEGER < 9999\n",
    "\t\tAND function = 'woonfunctie'\n",
    "\t\tAND LEFT(registration_start, 4)::INTEGER <= {year}\n",
    "\t\tAND (registration_end IS NULL OR LEFT(registration_end, 4)::INTEGER >= {year})\n",
    "), \n",
    "housing_buildings AS (\n",
    "\tSELECT \n",
    "\t\tid_pand, \n",
    "\t\tSUM(sqm::INTEGER) AS sqm, \n",
    "\t\t'woonfunctie' AS function\n",
    "\tFROM (SELECT DISTINCT ON (id_vbo) * FROM housing_units)\n",
    "\tGROUP BY id_pand\n",
    ")\n",
    "\n",
    "SELECT a.*, b.geom, b.geom_28992, b.neighborhood_code, b.municipality\n",
    "FROM housing_buildings a \n",
    "LEFT JOIN bag_pand_municipality b \n",
    "ON a.id_pand = b.id_pand \n",
    "'''\n",
    "\n",
    "conn = psycopg2.connect(dbname=db_name, user=db_user, password=db_password, host=db_host)\n",
    "cur = conn.cursor()\n",
    "cur.execute(query_building_inuse)\n",
    "conn.commit()"
   ]
  },
  {
   "cell_type": "markdown",
   "metadata": {},
   "source": [
    "Below is the query for creating the `housing_changed` table. It comes from `housing_nl`, which records all construction, renovation, and demolition activities for the whole NL. The problem is `housing_nl` includes guesses, while `housing_inuse` doesn't. So I think I need to change the way `housing_nl` is made. "
   ]
  },
  {
   "cell_type": "code",
   "execution_count": null,
   "metadata": {},
   "outputs": [],
   "source": [
    "query_housing_changed = f''' \n",
    "WITH buildings_changed AS (\n",
    "\tSELECT id_pand, \n",
    "\t\tLEFT(registration_start, 4)::INTEGER AS year, \n",
    "\t\tstatus, sqm, geom, geom_28992, neighborhood_code, municipality\n",
    "\tFROM housing_nl\n",
    "\tWHERE municipality = 'Amsterdam'\n",
    "\t\tAND ahn_version IS NULL\n",
    "\t\tAND status != 'Pand gesloopt'\n",
    "\t\tAND LEFT(registration_start, 4)::INTEGER <= 2015\n",
    "), \n",
    "''' "
   ]
  },
  {
   "cell_type": "markdown",
   "metadata": {},
   "source": [
    "# Calculating emissions for Amsterdam 2012-2021 \n",
    "Here, I test the fixed housing_nl and housing_inuse tables that no longer include guesses. "
   ]
  },
  {
   "cell_type": "code",
   "execution_count": 4,
   "metadata": {},
   "outputs": [
    {
     "name": "stdout",
     "output_type": "stream",
     "text": [
      "processing year 2012\n",
      "processing year 2013\n",
      "processing year 2014\n",
      "processing year 2015\n",
      "processing year 2016\n",
      "processing year 2017\n",
      "processing year 2018\n",
      "processing year 2019\n",
      "processing year 2020\n",
      "processing year 2021\n"
     ]
    }
   ],
   "source": [
    "# making housing_inuse_amsterdam_year for all years (currently only 2015)\n",
    "municipality = 'Amsterdam'\n",
    "for year in range(2012, 2022): \n",
    "    print(f'processing year {year}')\n",
    "    query = f''' \n",
    "    DROP TABLE IF EXISTS housing_inuse_{municipality}_{year};\n",
    "    CREATE TABLE housing_inuse_{municipality}_{year} AS     \n",
    "\n",
    "    -- get subset of housing units and buildings in municipality\n",
    "    WITH bag_vbo_municipality AS (\n",
    "        SELECT * \n",
    "        FROM bag_vbo \n",
    "        WHERE municipality = '{municipality}'\n",
    "    ), \n",
    "    bag_pand_municipality AS (\n",
    "        SELECT DISTINCT ON (id_pand) * \n",
    "        FROM bag_pand\n",
    "        WHERE \n",
    "            municipality = '{municipality}'\n",
    "            AND status = 'Pand in gebruik' \n",
    "            AND LEFT(registration_start, 4)::INTEGER <= {year} \n",
    "            AND (registration_end IS NULL OR LEFT(registration_end, 4)::INTEGER >= {year})\n",
    "    ), \n",
    "    housing_units AS (\n",
    "        SELECT DISTINCT ON (id_vbo) *\n",
    "        FROM bag_vbo_municipality\n",
    "        WHERE \n",
    "            status = 'Verblijfsobject in gebruik'\n",
    "            AND sqm::INTEGER < 9999\n",
    "            AND function = 'woonfunctie'\n",
    "            AND LEFT(registration_start, 4)::INTEGER <= {year}\n",
    "            AND (registration_end IS NULL OR LEFT(registration_end, 4)::INTEGER >= {year})\n",
    "    ), \n",
    "    housing_buildings AS (\n",
    "        SELECT \n",
    "            id_pand, \n",
    "            SUM(sqm::INTEGER) AS sqm, \n",
    "            'woonfunctie' AS function\n",
    "        FROM (SELECT DISTINCT ON (id_vbo) * FROM housing_units)\n",
    "        GROUP BY id_pand\n",
    "    )\n",
    "\n",
    "    SELECT a.*, b.geom, b.geom_28992, b.neighborhood_code, b.municipality\n",
    "    FROM housing_buildings a \n",
    "    LEFT JOIN bag_pand_municipality b \n",
    "    ON a.id_pand = b.id_pand \n",
    "    '''\n",
    "    conn = psycopg2.connect(dbname=db_name, user=db_user, password=db_password, host=db_host)\n",
    "    cur = conn.cursor()\n",
    "    cur.execute(query)\n",
    "    conn.commit()"
   ]
  },
  {
   "cell_type": "code",
   "execution_count": 10,
   "metadata": {},
   "outputs": [
    {
     "name": "stdout",
     "output_type": "stream",
     "text": [
      "processing year 2012\n",
      "processing year 2013\n",
      "processing year 2014\n",
      "processing year 2015\n",
      "processing year 2016\n",
      "processing year 2017\n",
      "processing year 2018\n",
      "processing year 2019\n",
      "processing year 2020\n",
      "processing year 2021\n"
     ]
    }
   ],
   "source": [
    "emissions_all_years = pd.DataFrame()\n",
    "\n",
    "for year in range(2012, 2022):\n",
    "\tprint(f'processing year {year}')\n",
    "\n",
    "\tbase_query = f''' \n",
    "\t-- aggregate (buildings level stats on sqm) and (neighborhood level stats on energy) to (wijk geometries) \n",
    "\t-- get buurt level data for n_homes, sqm - use buurt geoms from 2015 \n",
    "\tWITH nhomes_buurt AS (\n",
    "\t\tSELECT \"BU_CODE\" AS neighborhood_code, \"GM_NAAM\" AS municipality, geometry, \n",
    "\t\t\tCOALESCE(NULLIF(CASE WHEN \"AANTAL_HH\" < 0 THEN NULL ELSE \"AANTAL_HH\" END, NULL), 0) AS n_homes, \n",
    "\t\t\tCOALESCE(NULLIF(CASE WHEN \"G_GAS_TOT\" < 0 THEN NULL ELSE \"G_GAS_TOT\" END, NULL), 0) AS av_gas_m3, \n",
    "\t\t\tCOALESCE(NULLIF(CASE WHEN \"G_ELEK_TOT\" < 0 THEN NULL ELSE \"G_ELEK_TOT\" END, NULL), 0) AS av_elec_kwh\n",
    "\t\tFROM cbs_map_{year} \n",
    "\t\tWHERE \"WATER\" = 'NEE'\n",
    "\t\t\tAND \"GM_NAAM\" = 'Amsterdam'\n",
    "\t),\n",
    "\n",
    "\t-- aggregate nhomes_buurt to wijk \n",
    "\tbbox AS (\n",
    "\t\tSELECT ST_Buffer(ST_MakeEnvelope(ST_XMin(extent), ST_YMin(extent), ST_XMax(extent), ST_YMax(extent), 28992), 500) AS geometry\n",
    "\t\tFROM (SELECT ST_Extent(geometry) AS extent FROM nhomes_buurt) AS subquery\n",
    "\t), \n",
    "\twijk_2012 AS (\n",
    "\t\tSELECT wk_code, gm_naam AS municipality, geom \n",
    "\t\tFROM cbs_wijk_2012\n",
    "\t\tWHERE water = 'NEE'\n",
    "\t), \n",
    "\twijk_almere AS (\n",
    "\t\tSELECT w.*\n",
    "\t\tFROM wijk_2012 w \n",
    "\t\tJOIN bbox b \n",
    "\t\tON w.geom && b.geometry\n",
    "\t\t\tAND ST_Within(w.geom, b.geometry)\n",
    "\t), \n",
    "\tneighborhoods_with_wijk AS (\n",
    "\t\tSELECT a.*, a.n_homes * a.av_gas_m3 AS gas_m3, a.n_homes * a.av_elec_kwh AS elec_kwh, \n",
    "\t\t\tb.wk_code, b.geom AS wijk_geom\n",
    "\t\tFROM nhomes_buurt a\n",
    "\t\tJOIN LATERAL (\n",
    "\t\t\tSELECT b.wk_code, b.geom, ST_Area(ST_Intersection(a.geometry, b.geom)) AS intersection_area\n",
    "\t\t\tFROM wijk_almere b\n",
    "\t\t\tWHERE ST_Intersects(a.geometry, b.geom)\n",
    "\t\t\tORDER BY intersection_area DESC\n",
    "\t\t\tLIMIT 1\n",
    "\t\t) AS b ON true\n",
    "\t), \n",
    "\tnhomes_wijk AS (\n",
    "\t\tSELECT wk_code, wijk_geom, \n",
    "\t\t\tSUM(n_homes) AS n_homes, SUM(gas_m3) AS gas_m3, SUM(elec_kwh) AS elec_kwh\n",
    "\t\tFROM neighborhoods_with_wijk\n",
    "\t\tGROUP BY wk_code, wijk_geom\n",
    "\t), \n",
    "\n",
    "\t-- add 2022 buurt geom to housing_inuse table\n",
    "\tsqm_pand_2022geom AS (\n",
    "\t\tSELECT \n",
    "\t\t\ta.id_pand, a.sqm, 'Pand in gebruik' AS status, \n",
    "\t\t\tb.neighborhood_code, b.neighborhood_geom AS geometry\n",
    "\t\tFROM housing_inuse_2012_2021 a \n",
    "\t\tLEFT JOIN (SELECT neighborhood_geom, neighborhood_code FROM cbs_map_all WHERE municipality = 'Amsterdam' AND year = {year}) b \n",
    "\t\tON a.neighborhood_code = b.neighborhood_code \n",
    "\t), \n",
    "\tsqm_buurt AS (\n",
    "\t\tSELECT neighborhood_code, ST_Transform(geometry, 28992) AS geometry, SUM(sqm) AS sqm \n",
    "\t\tFROM sqm_pand_2022geom\n",
    "\t\tGROUP BY neighborhood_code, geometry \n",
    "\t), \n",
    "\n",
    "\t-- convert sqm_buurt_2022geom to sqm_wijk \n",
    "\tsqm_buurt_withwijk AS (\n",
    "\t\tSELECT a.sqm, b.wk_code, b.geom AS wijk_geom\n",
    "\t\tFROM sqm_buurt a\n",
    "\t\tJOIN LATERAL (\n",
    "\t\t\tSELECT b.wk_code, b.geom, ST_Area(ST_Intersection(a.geometry, b.geom)) AS intersection_area\n",
    "\t\t\tFROM wijk_almere b\n",
    "\t\t\tWHERE ST_Intersects(a.geometry, b.geom)\n",
    "\t\t\tORDER BY intersection_area DESC\n",
    "\t\t\tLIMIT 1\n",
    "\t\t) AS b ON true\n",
    "\t), \n",
    "\tsqm_wijk AS (\n",
    "\t\tSELECT wk_code, wijk_geom, SUM(sqm) AS sqm\n",
    "\t\tFROM sqm_buurt_withwijk\n",
    "\t\tGROUP BY wk_code, wijk_geom\n",
    "\t), \n",
    "\twijk_stats AS (\n",
    "\t\tSELECT a.*, b.n_homes, \n",
    "\t\t\tCASE \n",
    "\t\t\t\tWHEN n_homes <= 0 THEN 0 \n",
    "\t\t\t\tELSE ROUND(a.sqm / b.n_homes) \n",
    "\t\t\tEND AS sqm_per_home, \n",
    "\t\t\tb.gas_m3, b.elec_kwh\n",
    "\t\tFROM sqm_wijk a \n",
    "\t\tJOIN nhomes_wijk b \n",
    "\t\tON a.wk_code = b.wk_code \n",
    "\t), \n",
    "\n",
    "\n",
    "\t-- attribute wijk level energy use data to buildings \n",
    "\tconstruction_municipality AS ( -- all construction activity (except for demolition) in year\n",
    "\t\tSELECT id_pand, \n",
    "\t\t\tCASE \n",
    "\t\t\t\tWHEN status = 'Pand gesloopt' THEN LEFT(registration_start, 4)::INTEGER\n",
    "\t\t\t\tWHEN status != 'Pand gesloopt' AND registration_end IS NOT NULL THEN LEFT(registration_end, 4)::INTEGER\n",
    "\t\t\t\tELSE LEFT(registration_start, 4)::INTEGER\n",
    "\t\t\tEND AS year, \n",
    "\t\t\tstatus, sqm, geom, geom_28992, neighborhood_code, municipality\n",
    "\t\tFROM housing_nl\n",
    "\t\tWHERE municipality = 'Amsterdam'\n",
    "\t\t\tAND ahn_version IS NULL\n",
    "\t), \n",
    "\tconstruction_sample AS (\n",
    "\t\tSELECT * FROM construction_municipality \n",
    "\t\tWHERE year <= {year}\n",
    "\t), \n",
    "\tinuse_sample AS (\n",
    "\t\tSELECT {year} AS year, * \n",
    "\t\tFROM sqm_pand_2022geom\n",
    "\t), \n",
    "\tinuse_lowenergy AS (\n",
    "\t\tSELECT \n",
    "\t\t\tb.id_pand, b.year, 'Pand in gebruik - low energy' AS status, b.sqm, b.neighborhood_code\n",
    "\t\tFROM construction_sample a \n",
    "\t\tLEFT JOIN inuse_sample b \n",
    "\t\tON a.id_pand = b.id_pand\n",
    "\t\tWHERE a.status != 'Pand gesloopt'\n",
    "\t\t\tAND b.id_pand IS NOT NULL\n",
    "\t), \n",
    "\tinuse_normalenergy AS (\n",
    "\t\tSELECT b.id_pand, b.year, b.status, b.sqm, b.neighborhood_code\n",
    "\t\tFROM construction_sample a \n",
    "\t\tRIGHT JOIN inuse_sample b \n",
    "\t\tON a.id_pand = b.id_pand\n",
    "\t\tWHERE a.id_pand IS NULL \n",
    "\t), \n",
    "\tbuildings_all AS (\n",
    "\t\t-- all construction / renovation / transformation / demolition activity in year\n",
    "\t\tSELECT id_pand, year, status, sqm, neighborhood_code \n",
    "\t\tFROM construction_sample \n",
    "\t\tWHERE year = {year}\n",
    "\t\t\n",
    "\t\tUNION ALL \n",
    "\t\t\n",
    "\t\t-- low energy in use buildings in year\n",
    "\t\tSELECT * FROM inuse_lowenergy\n",
    "\t\t\n",
    "\t\tUNION ALL \n",
    "\t\t\n",
    "\t\t-- non-low energy in use buildings in year\n",
    "\t\tSELECT * FROM inuse_normalenergy\n",
    "\t), \n",
    "\n",
    "\t-- create neighborhood_code to wk_code key\n",
    "\tneighborhoods AS (\n",
    "\t\tSELECT DISTINCT ON (neighborhood_code) neighborhood_code, ST_Transform(geometry, 28992) AS geometry \n",
    "\t\tFROM inuse_sample\n",
    "\t), \n",
    "\tneighborhood_wijk_key AS (\n",
    "\t\tSELECT \n",
    "\t\t\ta.neighborhood_code, a.geometry AS neighborhood_geom, \n",
    "\t\t\tb.wk_code AS wijk_code, b.geom AS wijk_geom, \n",
    "\t\t\tb.municipality\n",
    "\t\tFROM neighborhoods a \n",
    "\t\tLEFT JOIN wijk_almere b \n",
    "\t\tON a.geometry && b.geom\n",
    "\t\t\tAND ST_Within(a.geometry, ST_Buffer(b.geom, 200))\n",
    "\t), \n",
    "\n",
    "\tbuildings_with_wijk_code AS (\n",
    "\t\tSELECT a.*, b.wijk_code, b.municipality\n",
    "\t\tFROM buildings_all a \n",
    "\t\tLEFT JOIN neighborhood_wijk_key b \n",
    "\t\tON a.neighborhood_code = b.neighborhood_code \n",
    "\t), \n",
    "\tenergy_use_per_building AS (\n",
    "\t\tSELECT a.id_pand, a.year, a.status, a.sqm,\n",
    "\t\t\tCASE \n",
    "\t\t\t\tWHEN status IN ('Pand in gebruik', 'Pand in gebruik - low energy') THEN ROUND(a.sqm / b.sqm * b.gas_m3)\n",
    "\t\t\t\tELSE 0\n",
    "\t\t\tEND AS gas_m3_s0,\n",
    "\t\t\tCASE\n",
    "\t\t\t\tWHEN status = 'Pand in gebruik' THEN ROUND(a.sqm / b.sqm * b.gas_m3)\n",
    "\t\t\t\tWHEN status = 'Pand in gebruik - low energy' THEN a.sqm * 5\n",
    "\t\t\t\tELSE 0 \n",
    "\t\t\tEND AS gas_m3_s1,\n",
    "\t\t\tCASE \n",
    "\t\t\t\tWHEN status IN ('Pand in gebruik', 'Pand in gebruik - low energy') THEN ROUND(a.sqm / b.sqm * b.elec_kwh) \n",
    "\t\t\t\tELSE 0 \n",
    "\t\t\tEND AS electricity_kwh_s0, \n",
    "\t\t\tCASE \n",
    "\t\t\t\tWHEN status IN ('Pand in gebruik', 'Pand in gebruik - low energy') THEN ROUND(a.sqm / b.sqm * b.elec_kwh) \n",
    "\t\t\t\tELSE 0 \n",
    "\t\t\tEND AS electricity_kwh_s1, \n",
    "\t\t\tb.wk_code, b.wijk_geom\n",
    "\t\tFROM buildings_with_wijk_code a \n",
    "\t\tJOIN wijk_stats b \n",
    "\t\tON a.wijk_code = b.wk_code\n",
    "\t), \n",
    "\temissions_per_building AS (\n",
    "\t\tSELECT id_pand, year, status, sqm, \n",
    "\t\t\tROUND(gas_m3_s0 * 1.9 + electricity_kwh_s0 * 0.45) AS operational_kg_s0, \n",
    "\t\t\tCASE \n",
    "\t\t\t\tWHEN status IN ('transformation - adding units', 'transformation - function change', \n",
    "\t\t\t\t\t\t\t\t'renovation - pre2020', 'renovation - post2020') THEN sqm * 126\n",
    "\t\t\t\tWHEN status = 'Bouw gestart' THEN sqm * 325\n",
    "\t\t\t\t-- WHEN status = 'Pand gesloopt' THEN sqm * 77\n",
    "\t\t\t\tELSE 0 \n",
    "\t\t\tEND AS embodied_kg_s0, \n",
    "\t\t\t\n",
    "\t\t\tROUND(gas_m3_s1 * 1.9 + electricity_kwh_s1 * 0.45) AS operational_kg_s1, \n",
    "\t\t\tCASE \n",
    "\t\t\t\tWHEN status IN ('transformation - adding units', 'transformation - function change', \n",
    "\t\t\t\t\t\t\t\t'renovation - pre2020', 'renovation - post2020') THEN sqm * 200\n",
    "\t\t\t\tWHEN status = 'Bouw gestart' THEN sqm * 550\n",
    "\t\t\t\t-- WHEN status = 'Pand gesloopt' THEN sqm * 77\n",
    "\t\t\t\tELSE 0 \n",
    "\t\t\tEND AS embodied_kg_s1, \n",
    "\t\t\twk_code, wijk_geom\n",
    "\t\tFROM energy_use_per_building \n",
    "\t)\n",
    "\t'''\n",
    "\tquery = ''' \n",
    "\tSELECT wk_code, wijk_geom, \n",
    "\t\tSUM(sqm) AS sqm, \n",
    "\t\tSUM(operational_kg_s0) AS operational_kg_s0, SUM(operational_kg_s1) AS operational_kg_s1, \n",
    "\t\tSUM(embodied_kg_s0) AS embodied_kg_s0, SUM(embodied_kg_s1) AS embodied_kg_s1\n",
    "\tFROM emissions_per_building\n",
    "\tGROUP BY wk_code, wijk_geom\n",
    "\t'''\n",
    "\n",
    "\temissions_wijk = pd.read_sql_query(base_query + query, engine)\n",
    "\temissions_wijk['year'] = year\n",
    "\n",
    "\temissions_all_years = pd.concat([emissions_all_years, emissions_wijk])"
   ]
  },
  {
   "cell_type": "code",
   "execution_count": 21,
   "metadata": {},
   "outputs": [
    {
     "data": {
      "application/vnd.plotly.v1+json": {
       "config": {
        "plotlyServerURL": "https://plot.ly"
       },
       "data": [
        {
         "alignmentgroup": "True",
         "hovertemplate": "Scenario=%{x}<br>Total KG=%{y}<extra></extra>",
         "legendgroup": "",
         "marker": {
          "color": "#636efa",
          "pattern": {
           "shape": ""
          }
         },
         "name": "",
         "offsetgroup": "",
         "orientation": "v",
         "showlegend": false,
         "textposition": "auto",
         "type": "bar",
         "x": [
          "total_kg_s0",
          "total_kg_s1"
         ],
         "xaxis": "x",
         "y": [
          13934314164,
          14096811403
         ],
         "yaxis": "y"
        }
       ],
       "layout": {
        "barmode": "relative",
        "legend": {
         "tracegroupgap": 0
        },
        "template": {
         "data": {
          "bar": [
           {
            "error_x": {
             "color": "#2a3f5f"
            },
            "error_y": {
             "color": "#2a3f5f"
            },
            "marker": {
             "line": {
              "color": "#E5ECF6",
              "width": 0.5
             },
             "pattern": {
              "fillmode": "overlay",
              "size": 10,
              "solidity": 0.2
             }
            },
            "type": "bar"
           }
          ],
          "barpolar": [
           {
            "marker": {
             "line": {
              "color": "#E5ECF6",
              "width": 0.5
             },
             "pattern": {
              "fillmode": "overlay",
              "size": 10,
              "solidity": 0.2
             }
            },
            "type": "barpolar"
           }
          ],
          "carpet": [
           {
            "aaxis": {
             "endlinecolor": "#2a3f5f",
             "gridcolor": "white",
             "linecolor": "white",
             "minorgridcolor": "white",
             "startlinecolor": "#2a3f5f"
            },
            "baxis": {
             "endlinecolor": "#2a3f5f",
             "gridcolor": "white",
             "linecolor": "white",
             "minorgridcolor": "white",
             "startlinecolor": "#2a3f5f"
            },
            "type": "carpet"
           }
          ],
          "choropleth": [
           {
            "colorbar": {
             "outlinewidth": 0,
             "ticks": ""
            },
            "type": "choropleth"
           }
          ],
          "contour": [
           {
            "colorbar": {
             "outlinewidth": 0,
             "ticks": ""
            },
            "colorscale": [
             [
              0,
              "#0d0887"
             ],
             [
              0.1111111111111111,
              "#46039f"
             ],
             [
              0.2222222222222222,
              "#7201a8"
             ],
             [
              0.3333333333333333,
              "#9c179e"
             ],
             [
              0.4444444444444444,
              "#bd3786"
             ],
             [
              0.5555555555555556,
              "#d8576b"
             ],
             [
              0.6666666666666666,
              "#ed7953"
             ],
             [
              0.7777777777777778,
              "#fb9f3a"
             ],
             [
              0.8888888888888888,
              "#fdca26"
             ],
             [
              1,
              "#f0f921"
             ]
            ],
            "type": "contour"
           }
          ],
          "contourcarpet": [
           {
            "colorbar": {
             "outlinewidth": 0,
             "ticks": ""
            },
            "type": "contourcarpet"
           }
          ],
          "heatmap": [
           {
            "colorbar": {
             "outlinewidth": 0,
             "ticks": ""
            },
            "colorscale": [
             [
              0,
              "#0d0887"
             ],
             [
              0.1111111111111111,
              "#46039f"
             ],
             [
              0.2222222222222222,
              "#7201a8"
             ],
             [
              0.3333333333333333,
              "#9c179e"
             ],
             [
              0.4444444444444444,
              "#bd3786"
             ],
             [
              0.5555555555555556,
              "#d8576b"
             ],
             [
              0.6666666666666666,
              "#ed7953"
             ],
             [
              0.7777777777777778,
              "#fb9f3a"
             ],
             [
              0.8888888888888888,
              "#fdca26"
             ],
             [
              1,
              "#f0f921"
             ]
            ],
            "type": "heatmap"
           }
          ],
          "heatmapgl": [
           {
            "colorbar": {
             "outlinewidth": 0,
             "ticks": ""
            },
            "colorscale": [
             [
              0,
              "#0d0887"
             ],
             [
              0.1111111111111111,
              "#46039f"
             ],
             [
              0.2222222222222222,
              "#7201a8"
             ],
             [
              0.3333333333333333,
              "#9c179e"
             ],
             [
              0.4444444444444444,
              "#bd3786"
             ],
             [
              0.5555555555555556,
              "#d8576b"
             ],
             [
              0.6666666666666666,
              "#ed7953"
             ],
             [
              0.7777777777777778,
              "#fb9f3a"
             ],
             [
              0.8888888888888888,
              "#fdca26"
             ],
             [
              1,
              "#f0f921"
             ]
            ],
            "type": "heatmapgl"
           }
          ],
          "histogram": [
           {
            "marker": {
             "pattern": {
              "fillmode": "overlay",
              "size": 10,
              "solidity": 0.2
             }
            },
            "type": "histogram"
           }
          ],
          "histogram2d": [
           {
            "colorbar": {
             "outlinewidth": 0,
             "ticks": ""
            },
            "colorscale": [
             [
              0,
              "#0d0887"
             ],
             [
              0.1111111111111111,
              "#46039f"
             ],
             [
              0.2222222222222222,
              "#7201a8"
             ],
             [
              0.3333333333333333,
              "#9c179e"
             ],
             [
              0.4444444444444444,
              "#bd3786"
             ],
             [
              0.5555555555555556,
              "#d8576b"
             ],
             [
              0.6666666666666666,
              "#ed7953"
             ],
             [
              0.7777777777777778,
              "#fb9f3a"
             ],
             [
              0.8888888888888888,
              "#fdca26"
             ],
             [
              1,
              "#f0f921"
             ]
            ],
            "type": "histogram2d"
           }
          ],
          "histogram2dcontour": [
           {
            "colorbar": {
             "outlinewidth": 0,
             "ticks": ""
            },
            "colorscale": [
             [
              0,
              "#0d0887"
             ],
             [
              0.1111111111111111,
              "#46039f"
             ],
             [
              0.2222222222222222,
              "#7201a8"
             ],
             [
              0.3333333333333333,
              "#9c179e"
             ],
             [
              0.4444444444444444,
              "#bd3786"
             ],
             [
              0.5555555555555556,
              "#d8576b"
             ],
             [
              0.6666666666666666,
              "#ed7953"
             ],
             [
              0.7777777777777778,
              "#fb9f3a"
             ],
             [
              0.8888888888888888,
              "#fdca26"
             ],
             [
              1,
              "#f0f921"
             ]
            ],
            "type": "histogram2dcontour"
           }
          ],
          "mesh3d": [
           {
            "colorbar": {
             "outlinewidth": 0,
             "ticks": ""
            },
            "type": "mesh3d"
           }
          ],
          "parcoords": [
           {
            "line": {
             "colorbar": {
              "outlinewidth": 0,
              "ticks": ""
             }
            },
            "type": "parcoords"
           }
          ],
          "pie": [
           {
            "automargin": true,
            "type": "pie"
           }
          ],
          "scatter": [
           {
            "fillpattern": {
             "fillmode": "overlay",
             "size": 10,
             "solidity": 0.2
            },
            "type": "scatter"
           }
          ],
          "scatter3d": [
           {
            "line": {
             "colorbar": {
              "outlinewidth": 0,
              "ticks": ""
             }
            },
            "marker": {
             "colorbar": {
              "outlinewidth": 0,
              "ticks": ""
             }
            },
            "type": "scatter3d"
           }
          ],
          "scattercarpet": [
           {
            "marker": {
             "colorbar": {
              "outlinewidth": 0,
              "ticks": ""
             }
            },
            "type": "scattercarpet"
           }
          ],
          "scattergeo": [
           {
            "marker": {
             "colorbar": {
              "outlinewidth": 0,
              "ticks": ""
             }
            },
            "type": "scattergeo"
           }
          ],
          "scattergl": [
           {
            "marker": {
             "colorbar": {
              "outlinewidth": 0,
              "ticks": ""
             }
            },
            "type": "scattergl"
           }
          ],
          "scattermapbox": [
           {
            "marker": {
             "colorbar": {
              "outlinewidth": 0,
              "ticks": ""
             }
            },
            "type": "scattermapbox"
           }
          ],
          "scatterpolar": [
           {
            "marker": {
             "colorbar": {
              "outlinewidth": 0,
              "ticks": ""
             }
            },
            "type": "scatterpolar"
           }
          ],
          "scatterpolargl": [
           {
            "marker": {
             "colorbar": {
              "outlinewidth": 0,
              "ticks": ""
             }
            },
            "type": "scatterpolargl"
           }
          ],
          "scatterternary": [
           {
            "marker": {
             "colorbar": {
              "outlinewidth": 0,
              "ticks": ""
             }
            },
            "type": "scatterternary"
           }
          ],
          "surface": [
           {
            "colorbar": {
             "outlinewidth": 0,
             "ticks": ""
            },
            "colorscale": [
             [
              0,
              "#0d0887"
             ],
             [
              0.1111111111111111,
              "#46039f"
             ],
             [
              0.2222222222222222,
              "#7201a8"
             ],
             [
              0.3333333333333333,
              "#9c179e"
             ],
             [
              0.4444444444444444,
              "#bd3786"
             ],
             [
              0.5555555555555556,
              "#d8576b"
             ],
             [
              0.6666666666666666,
              "#ed7953"
             ],
             [
              0.7777777777777778,
              "#fb9f3a"
             ],
             [
              0.8888888888888888,
              "#fdca26"
             ],
             [
              1,
              "#f0f921"
             ]
            ],
            "type": "surface"
           }
          ],
          "table": [
           {
            "cells": {
             "fill": {
              "color": "#EBF0F8"
             },
             "line": {
              "color": "white"
             }
            },
            "header": {
             "fill": {
              "color": "#C8D4E3"
             },
             "line": {
              "color": "white"
             }
            },
            "type": "table"
           }
          ]
         },
         "layout": {
          "annotationdefaults": {
           "arrowcolor": "#2a3f5f",
           "arrowhead": 0,
           "arrowwidth": 1
          },
          "autotypenumbers": "strict",
          "coloraxis": {
           "colorbar": {
            "outlinewidth": 0,
            "ticks": ""
           }
          },
          "colorscale": {
           "diverging": [
            [
             0,
             "#8e0152"
            ],
            [
             0.1,
             "#c51b7d"
            ],
            [
             0.2,
             "#de77ae"
            ],
            [
             0.3,
             "#f1b6da"
            ],
            [
             0.4,
             "#fde0ef"
            ],
            [
             0.5,
             "#f7f7f7"
            ],
            [
             0.6,
             "#e6f5d0"
            ],
            [
             0.7,
             "#b8e186"
            ],
            [
             0.8,
             "#7fbc41"
            ],
            [
             0.9,
             "#4d9221"
            ],
            [
             1,
             "#276419"
            ]
           ],
           "sequential": [
            [
             0,
             "#0d0887"
            ],
            [
             0.1111111111111111,
             "#46039f"
            ],
            [
             0.2222222222222222,
             "#7201a8"
            ],
            [
             0.3333333333333333,
             "#9c179e"
            ],
            [
             0.4444444444444444,
             "#bd3786"
            ],
            [
             0.5555555555555556,
             "#d8576b"
            ],
            [
             0.6666666666666666,
             "#ed7953"
            ],
            [
             0.7777777777777778,
             "#fb9f3a"
            ],
            [
             0.8888888888888888,
             "#fdca26"
            ],
            [
             1,
             "#f0f921"
            ]
           ],
           "sequentialminus": [
            [
             0,
             "#0d0887"
            ],
            [
             0.1111111111111111,
             "#46039f"
            ],
            [
             0.2222222222222222,
             "#7201a8"
            ],
            [
             0.3333333333333333,
             "#9c179e"
            ],
            [
             0.4444444444444444,
             "#bd3786"
            ],
            [
             0.5555555555555556,
             "#d8576b"
            ],
            [
             0.6666666666666666,
             "#ed7953"
            ],
            [
             0.7777777777777778,
             "#fb9f3a"
            ],
            [
             0.8888888888888888,
             "#fdca26"
            ],
            [
             1,
             "#f0f921"
            ]
           ]
          },
          "colorway": [
           "#636efa",
           "#EF553B",
           "#00cc96",
           "#ab63fa",
           "#FFA15A",
           "#19d3f3",
           "#FF6692",
           "#B6E880",
           "#FF97FF",
           "#FECB52"
          ],
          "font": {
           "color": "#2a3f5f"
          },
          "geo": {
           "bgcolor": "white",
           "lakecolor": "white",
           "landcolor": "#E5ECF6",
           "showlakes": true,
           "showland": true,
           "subunitcolor": "white"
          },
          "hoverlabel": {
           "align": "left"
          },
          "hovermode": "closest",
          "mapbox": {
           "style": "light"
          },
          "paper_bgcolor": "white",
          "plot_bgcolor": "#E5ECF6",
          "polar": {
           "angularaxis": {
            "gridcolor": "white",
            "linecolor": "white",
            "ticks": ""
           },
           "bgcolor": "#E5ECF6",
           "radialaxis": {
            "gridcolor": "white",
            "linecolor": "white",
            "ticks": ""
           }
          },
          "scene": {
           "xaxis": {
            "backgroundcolor": "#E5ECF6",
            "gridcolor": "white",
            "gridwidth": 2,
            "linecolor": "white",
            "showbackground": true,
            "ticks": "",
            "zerolinecolor": "white"
           },
           "yaxis": {
            "backgroundcolor": "#E5ECF6",
            "gridcolor": "white",
            "gridwidth": 2,
            "linecolor": "white",
            "showbackground": true,
            "ticks": "",
            "zerolinecolor": "white"
           },
           "zaxis": {
            "backgroundcolor": "#E5ECF6",
            "gridcolor": "white",
            "gridwidth": 2,
            "linecolor": "white",
            "showbackground": true,
            "ticks": "",
            "zerolinecolor": "white"
           }
          },
          "shapedefaults": {
           "line": {
            "color": "#2a3f5f"
           }
          },
          "ternary": {
           "aaxis": {
            "gridcolor": "white",
            "linecolor": "white",
            "ticks": ""
           },
           "baxis": {
            "gridcolor": "white",
            "linecolor": "white",
            "ticks": ""
           },
           "bgcolor": "#E5ECF6",
           "caxis": {
            "gridcolor": "white",
            "linecolor": "white",
            "ticks": ""
           }
          },
          "title": {
           "x": 0.05
          },
          "xaxis": {
           "automargin": true,
           "gridcolor": "white",
           "linecolor": "white",
           "ticks": "",
           "title": {
            "standoff": 15
           },
           "zerolinecolor": "white",
           "zerolinewidth": 2
          },
          "yaxis": {
           "automargin": true,
           "gridcolor": "white",
           "linecolor": "white",
           "ticks": "",
           "title": {
            "standoff": 15
           },
           "zerolinecolor": "white",
           "zerolinewidth": 2
          }
         }
        },
        "title": {
         "text": "Total emissions Comparison for S0 and S1 (difference=162 million kgCO2)"
        },
        "width": 800,
        "xaxis": {
         "anchor": "y",
         "domain": [
          0,
          1
         ],
         "title": {
          "text": "Scenario"
         }
        },
        "yaxis": {
         "anchor": "x",
         "domain": [
          0,
          1
         ],
         "title": {
          "text": "Total KG"
         }
        }
       }
      }
     },
     "metadata": {},
     "output_type": "display_data"
    }
   ],
   "source": [
    "total_kg_s0_sum = df['total_kg_s0'].sum()\n",
    "total_kg_s1_sum = df['total_kg_s1'].sum()\n",
    "\n",
    "# Creating a summary DataFrame for the bar chart\n",
    "summary_df = pd.DataFrame({\n",
    "    'Scenario': ['total_kg_s0', 'total_kg_s1'],\n",
    "    'Total KG': [total_kg_s0_sum, total_kg_s1_sum]\n",
    "})\n",
    "\n",
    "# Creating the bar chart with Plotly Express\n",
    "fig = px.bar(summary_df, x='Scenario', y='Total KG', \n",
    "             title=f\"Total emissions Comparison for S0 and S1 (difference={round((total_kg_s1_sum - total_kg_s0_sum)/1000000)} million kgCO2)\",\n",
    "             labels={'Total KG': 'Total KG', 'Scenario': 'Scenario'})\n",
    "fig.update_layout(width=800)\n",
    "fig.show()"
   ]
  },
  {
   "cell_type": "code",
   "execution_count": 12,
   "metadata": {},
   "outputs": [
    {
     "data": {
      "application/vnd.plotly.v1+json": {
       "config": {
        "plotlyServerURL": "https://plot.ly"
       },
       "data": [
        {
         "alignmentgroup": "True",
         "hovertemplate": "emission_type=total_kg_s0<br>year=%{x}<br>emissions_kg=%{y}<extra></extra>",
         "legendgroup": "total_kg_s0",
         "marker": {
          "color": "#636efa",
          "pattern": {
           "shape": ""
          }
         },
         "name": "total_kg_s0",
         "offsetgroup": "total_kg_s0",
         "orientation": "v",
         "showlegend": true,
         "textposition": "auto",
         "type": "bar",
         "x": [
          2012,
          2013,
          2014,
          2015,
          2016,
          2017,
          2018,
          2019,
          2020,
          2021
         ],
         "xaxis": "x",
         "y": [
          1406862094,
          1517810302,
          1295210080,
          1340815550,
          1375318248,
          1397751143,
          1411094158,
          1361920146,
          1312959438,
          1514573005
         ],
         "yaxis": "y"
        },
        {
         "alignmentgroup": "True",
         "hovertemplate": "emission_type=total_kg_s1<br>year=%{x}<br>emissions_kg=%{y}<extra></extra>",
         "legendgroup": "total_kg_s1",
         "marker": {
          "color": "#EF553B",
          "pattern": {
           "shape": ""
          }
         },
         "name": "total_kg_s1",
         "offsetgroup": "total_kg_s1",
         "orientation": "v",
         "showlegend": true,
         "textposition": "auto",
         "type": "bar",
         "x": [
          2012,
          2013,
          2014,
          2015,
          2016,
          2017,
          2018,
          2019,
          2020,
          2021
         ],
         "xaxis": "x",
         "y": [
          1431405160,
          1536203823,
          1320808713,
          1361499467,
          1379139856,
          1428266201,
          1440688277,
          1386264549,
          1297820720,
          1514714637
         ],
         "yaxis": "y"
        }
       ],
       "layout": {
        "barmode": "group",
        "legend": {
         "title": {
          "text": "emission_type"
         },
         "tracegroupgap": 0
        },
        "template": {
         "data": {
          "bar": [
           {
            "error_x": {
             "color": "#2a3f5f"
            },
            "error_y": {
             "color": "#2a3f5f"
            },
            "marker": {
             "line": {
              "color": "#E5ECF6",
              "width": 0.5
             },
             "pattern": {
              "fillmode": "overlay",
              "size": 10,
              "solidity": 0.2
             }
            },
            "type": "bar"
           }
          ],
          "barpolar": [
           {
            "marker": {
             "line": {
              "color": "#E5ECF6",
              "width": 0.5
             },
             "pattern": {
              "fillmode": "overlay",
              "size": 10,
              "solidity": 0.2
             }
            },
            "type": "barpolar"
           }
          ],
          "carpet": [
           {
            "aaxis": {
             "endlinecolor": "#2a3f5f",
             "gridcolor": "white",
             "linecolor": "white",
             "minorgridcolor": "white",
             "startlinecolor": "#2a3f5f"
            },
            "baxis": {
             "endlinecolor": "#2a3f5f",
             "gridcolor": "white",
             "linecolor": "white",
             "minorgridcolor": "white",
             "startlinecolor": "#2a3f5f"
            },
            "type": "carpet"
           }
          ],
          "choropleth": [
           {
            "colorbar": {
             "outlinewidth": 0,
             "ticks": ""
            },
            "type": "choropleth"
           }
          ],
          "contour": [
           {
            "colorbar": {
             "outlinewidth": 0,
             "ticks": ""
            },
            "colorscale": [
             [
              0,
              "#0d0887"
             ],
             [
              0.1111111111111111,
              "#46039f"
             ],
             [
              0.2222222222222222,
              "#7201a8"
             ],
             [
              0.3333333333333333,
              "#9c179e"
             ],
             [
              0.4444444444444444,
              "#bd3786"
             ],
             [
              0.5555555555555556,
              "#d8576b"
             ],
             [
              0.6666666666666666,
              "#ed7953"
             ],
             [
              0.7777777777777778,
              "#fb9f3a"
             ],
             [
              0.8888888888888888,
              "#fdca26"
             ],
             [
              1,
              "#f0f921"
             ]
            ],
            "type": "contour"
           }
          ],
          "contourcarpet": [
           {
            "colorbar": {
             "outlinewidth": 0,
             "ticks": ""
            },
            "type": "contourcarpet"
           }
          ],
          "heatmap": [
           {
            "colorbar": {
             "outlinewidth": 0,
             "ticks": ""
            },
            "colorscale": [
             [
              0,
              "#0d0887"
             ],
             [
              0.1111111111111111,
              "#46039f"
             ],
             [
              0.2222222222222222,
              "#7201a8"
             ],
             [
              0.3333333333333333,
              "#9c179e"
             ],
             [
              0.4444444444444444,
              "#bd3786"
             ],
             [
              0.5555555555555556,
              "#d8576b"
             ],
             [
              0.6666666666666666,
              "#ed7953"
             ],
             [
              0.7777777777777778,
              "#fb9f3a"
             ],
             [
              0.8888888888888888,
              "#fdca26"
             ],
             [
              1,
              "#f0f921"
             ]
            ],
            "type": "heatmap"
           }
          ],
          "heatmapgl": [
           {
            "colorbar": {
             "outlinewidth": 0,
             "ticks": ""
            },
            "colorscale": [
             [
              0,
              "#0d0887"
             ],
             [
              0.1111111111111111,
              "#46039f"
             ],
             [
              0.2222222222222222,
              "#7201a8"
             ],
             [
              0.3333333333333333,
              "#9c179e"
             ],
             [
              0.4444444444444444,
              "#bd3786"
             ],
             [
              0.5555555555555556,
              "#d8576b"
             ],
             [
              0.6666666666666666,
              "#ed7953"
             ],
             [
              0.7777777777777778,
              "#fb9f3a"
             ],
             [
              0.8888888888888888,
              "#fdca26"
             ],
             [
              1,
              "#f0f921"
             ]
            ],
            "type": "heatmapgl"
           }
          ],
          "histogram": [
           {
            "marker": {
             "pattern": {
              "fillmode": "overlay",
              "size": 10,
              "solidity": 0.2
             }
            },
            "type": "histogram"
           }
          ],
          "histogram2d": [
           {
            "colorbar": {
             "outlinewidth": 0,
             "ticks": ""
            },
            "colorscale": [
             [
              0,
              "#0d0887"
             ],
             [
              0.1111111111111111,
              "#46039f"
             ],
             [
              0.2222222222222222,
              "#7201a8"
             ],
             [
              0.3333333333333333,
              "#9c179e"
             ],
             [
              0.4444444444444444,
              "#bd3786"
             ],
             [
              0.5555555555555556,
              "#d8576b"
             ],
             [
              0.6666666666666666,
              "#ed7953"
             ],
             [
              0.7777777777777778,
              "#fb9f3a"
             ],
             [
              0.8888888888888888,
              "#fdca26"
             ],
             [
              1,
              "#f0f921"
             ]
            ],
            "type": "histogram2d"
           }
          ],
          "histogram2dcontour": [
           {
            "colorbar": {
             "outlinewidth": 0,
             "ticks": ""
            },
            "colorscale": [
             [
              0,
              "#0d0887"
             ],
             [
              0.1111111111111111,
              "#46039f"
             ],
             [
              0.2222222222222222,
              "#7201a8"
             ],
             [
              0.3333333333333333,
              "#9c179e"
             ],
             [
              0.4444444444444444,
              "#bd3786"
             ],
             [
              0.5555555555555556,
              "#d8576b"
             ],
             [
              0.6666666666666666,
              "#ed7953"
             ],
             [
              0.7777777777777778,
              "#fb9f3a"
             ],
             [
              0.8888888888888888,
              "#fdca26"
             ],
             [
              1,
              "#f0f921"
             ]
            ],
            "type": "histogram2dcontour"
           }
          ],
          "mesh3d": [
           {
            "colorbar": {
             "outlinewidth": 0,
             "ticks": ""
            },
            "type": "mesh3d"
           }
          ],
          "parcoords": [
           {
            "line": {
             "colorbar": {
              "outlinewidth": 0,
              "ticks": ""
             }
            },
            "type": "parcoords"
           }
          ],
          "pie": [
           {
            "automargin": true,
            "type": "pie"
           }
          ],
          "scatter": [
           {
            "fillpattern": {
             "fillmode": "overlay",
             "size": 10,
             "solidity": 0.2
            },
            "type": "scatter"
           }
          ],
          "scatter3d": [
           {
            "line": {
             "colorbar": {
              "outlinewidth": 0,
              "ticks": ""
             }
            },
            "marker": {
             "colorbar": {
              "outlinewidth": 0,
              "ticks": ""
             }
            },
            "type": "scatter3d"
           }
          ],
          "scattercarpet": [
           {
            "marker": {
             "colorbar": {
              "outlinewidth": 0,
              "ticks": ""
             }
            },
            "type": "scattercarpet"
           }
          ],
          "scattergeo": [
           {
            "marker": {
             "colorbar": {
              "outlinewidth": 0,
              "ticks": ""
             }
            },
            "type": "scattergeo"
           }
          ],
          "scattergl": [
           {
            "marker": {
             "colorbar": {
              "outlinewidth": 0,
              "ticks": ""
             }
            },
            "type": "scattergl"
           }
          ],
          "scattermapbox": [
           {
            "marker": {
             "colorbar": {
              "outlinewidth": 0,
              "ticks": ""
             }
            },
            "type": "scattermapbox"
           }
          ],
          "scatterpolar": [
           {
            "marker": {
             "colorbar": {
              "outlinewidth": 0,
              "ticks": ""
             }
            },
            "type": "scatterpolar"
           }
          ],
          "scatterpolargl": [
           {
            "marker": {
             "colorbar": {
              "outlinewidth": 0,
              "ticks": ""
             }
            },
            "type": "scatterpolargl"
           }
          ],
          "scatterternary": [
           {
            "marker": {
             "colorbar": {
              "outlinewidth": 0,
              "ticks": ""
             }
            },
            "type": "scatterternary"
           }
          ],
          "surface": [
           {
            "colorbar": {
             "outlinewidth": 0,
             "ticks": ""
            },
            "colorscale": [
             [
              0,
              "#0d0887"
             ],
             [
              0.1111111111111111,
              "#46039f"
             ],
             [
              0.2222222222222222,
              "#7201a8"
             ],
             [
              0.3333333333333333,
              "#9c179e"
             ],
             [
              0.4444444444444444,
              "#bd3786"
             ],
             [
              0.5555555555555556,
              "#d8576b"
             ],
             [
              0.6666666666666666,
              "#ed7953"
             ],
             [
              0.7777777777777778,
              "#fb9f3a"
             ],
             [
              0.8888888888888888,
              "#fdca26"
             ],
             [
              1,
              "#f0f921"
             ]
            ],
            "type": "surface"
           }
          ],
          "table": [
           {
            "cells": {
             "fill": {
              "color": "#EBF0F8"
             },
             "line": {
              "color": "white"
             }
            },
            "header": {
             "fill": {
              "color": "#C8D4E3"
             },
             "line": {
              "color": "white"
             }
            },
            "type": "table"
           }
          ]
         },
         "layout": {
          "annotationdefaults": {
           "arrowcolor": "#2a3f5f",
           "arrowhead": 0,
           "arrowwidth": 1
          },
          "autotypenumbers": "strict",
          "coloraxis": {
           "colorbar": {
            "outlinewidth": 0,
            "ticks": ""
           }
          },
          "colorscale": {
           "diverging": [
            [
             0,
             "#8e0152"
            ],
            [
             0.1,
             "#c51b7d"
            ],
            [
             0.2,
             "#de77ae"
            ],
            [
             0.3,
             "#f1b6da"
            ],
            [
             0.4,
             "#fde0ef"
            ],
            [
             0.5,
             "#f7f7f7"
            ],
            [
             0.6,
             "#e6f5d0"
            ],
            [
             0.7,
             "#b8e186"
            ],
            [
             0.8,
             "#7fbc41"
            ],
            [
             0.9,
             "#4d9221"
            ],
            [
             1,
             "#276419"
            ]
           ],
           "sequential": [
            [
             0,
             "#0d0887"
            ],
            [
             0.1111111111111111,
             "#46039f"
            ],
            [
             0.2222222222222222,
             "#7201a8"
            ],
            [
             0.3333333333333333,
             "#9c179e"
            ],
            [
             0.4444444444444444,
             "#bd3786"
            ],
            [
             0.5555555555555556,
             "#d8576b"
            ],
            [
             0.6666666666666666,
             "#ed7953"
            ],
            [
             0.7777777777777778,
             "#fb9f3a"
            ],
            [
             0.8888888888888888,
             "#fdca26"
            ],
            [
             1,
             "#f0f921"
            ]
           ],
           "sequentialminus": [
            [
             0,
             "#0d0887"
            ],
            [
             0.1111111111111111,
             "#46039f"
            ],
            [
             0.2222222222222222,
             "#7201a8"
            ],
            [
             0.3333333333333333,
             "#9c179e"
            ],
            [
             0.4444444444444444,
             "#bd3786"
            ],
            [
             0.5555555555555556,
             "#d8576b"
            ],
            [
             0.6666666666666666,
             "#ed7953"
            ],
            [
             0.7777777777777778,
             "#fb9f3a"
            ],
            [
             0.8888888888888888,
             "#fdca26"
            ],
            [
             1,
             "#f0f921"
            ]
           ]
          },
          "colorway": [
           "#636efa",
           "#EF553B",
           "#00cc96",
           "#ab63fa",
           "#FFA15A",
           "#19d3f3",
           "#FF6692",
           "#B6E880",
           "#FF97FF",
           "#FECB52"
          ],
          "font": {
           "color": "#2a3f5f"
          },
          "geo": {
           "bgcolor": "white",
           "lakecolor": "white",
           "landcolor": "#E5ECF6",
           "showlakes": true,
           "showland": true,
           "subunitcolor": "white"
          },
          "hoverlabel": {
           "align": "left"
          },
          "hovermode": "closest",
          "mapbox": {
           "style": "light"
          },
          "paper_bgcolor": "white",
          "plot_bgcolor": "#E5ECF6",
          "polar": {
           "angularaxis": {
            "gridcolor": "white",
            "linecolor": "white",
            "ticks": ""
           },
           "bgcolor": "#E5ECF6",
           "radialaxis": {
            "gridcolor": "white",
            "linecolor": "white",
            "ticks": ""
           }
          },
          "scene": {
           "xaxis": {
            "backgroundcolor": "#E5ECF6",
            "gridcolor": "white",
            "gridwidth": 2,
            "linecolor": "white",
            "showbackground": true,
            "ticks": "",
            "zerolinecolor": "white"
           },
           "yaxis": {
            "backgroundcolor": "#E5ECF6",
            "gridcolor": "white",
            "gridwidth": 2,
            "linecolor": "white",
            "showbackground": true,
            "ticks": "",
            "zerolinecolor": "white"
           },
           "zaxis": {
            "backgroundcolor": "#E5ECF6",
            "gridcolor": "white",
            "gridwidth": 2,
            "linecolor": "white",
            "showbackground": true,
            "ticks": "",
            "zerolinecolor": "white"
           }
          },
          "shapedefaults": {
           "line": {
            "color": "#2a3f5f"
           }
          },
          "ternary": {
           "aaxis": {
            "gridcolor": "white",
            "linecolor": "white",
            "ticks": ""
           },
           "baxis": {
            "gridcolor": "white",
            "linecolor": "white",
            "ticks": ""
           },
           "bgcolor": "#E5ECF6",
           "caxis": {
            "gridcolor": "white",
            "linecolor": "white",
            "ticks": ""
           }
          },
          "title": {
           "x": 0.05
          },
          "xaxis": {
           "automargin": true,
           "gridcolor": "white",
           "linecolor": "white",
           "ticks": "",
           "title": {
            "standoff": 15
           },
           "zerolinecolor": "white",
           "zerolinewidth": 2
          },
          "yaxis": {
           "automargin": true,
           "gridcolor": "white",
           "linecolor": "white",
           "ticks": "",
           "title": {
            "standoff": 15
           },
           "zerolinecolor": "white",
           "zerolinewidth": 2
          }
         }
        },
        "title": {
         "text": "Total Housing Emissions in Amsterdam S0 vs S1"
        },
        "width": 800,
        "xaxis": {
         "anchor": "y",
         "domain": [
          0,
          1
         ],
         "title": {
          "text": "year"
         }
        },
        "yaxis": {
         "anchor": "x",
         "domain": [
          0,
          1
         ],
         "title": {
          "text": "emissions_kg"
         }
        }
       }
      }
     },
     "metadata": {},
     "output_type": "display_data"
    },
    {
     "data": {
      "application/vnd.plotly.v1+json": {
       "config": {
        "plotlyServerURL": "https://plot.ly"
       },
       "data": [
        {
         "alignmentgroup": "True",
         "hovertemplate": "emission_type=operational_kg_s0<br>year=%{x}<br>emissions_kg=%{y}<extra></extra>",
         "legendgroup": "operational_kg_s0",
         "marker": {
          "color": "#636efa",
          "pattern": {
           "shape": ""
          }
         },
         "name": "operational_kg_s0",
         "offsetgroup": "operational_kg_s0",
         "orientation": "v",
         "showlegend": true,
         "textposition": "auto",
         "type": "bar",
         "x": [
          2012,
          2013,
          2014,
          2015,
          2016,
          2017,
          2018,
          2019,
          2020,
          2021
         ],
         "xaxis": "x",
         "y": [
          1351833853,
          1452127722,
          1214379072,
          1252958299,
          1286455224,
          1259699514,
          1259641013,
          1211867297,
          1208953826,
          1336033274
         ],
         "yaxis": "y"
        },
        {
         "alignmentgroup": "True",
         "hovertemplate": "emission_type=operational_kg_s1<br>year=%{x}<br>emissions_kg=%{y}<extra></extra>",
         "legendgroup": "operational_kg_s1",
         "marker": {
          "color": "#EF553B",
          "pattern": {
           "shape": ""
          }
         },
         "name": "operational_kg_s1",
         "offsetgroup": "operational_kg_s1",
         "orientation": "v",
         "showlegend": true,
         "textposition": "auto",
         "type": "bar",
         "x": [
          2012,
          2013,
          2014,
          2015,
          2016,
          2017,
          2018,
          2019,
          2020,
          2021
         ],
         "xaxis": "x",
         "y": [
          1340660210,
          1429275323,
          1187926913,
          1215930517,
          1234106456,
          1199534151,
          1188325327,
          1136944499,
          1128776720,
          1218582287
         ],
         "yaxis": "y"
        }
       ],
       "layout": {
        "barmode": "group",
        "legend": {
         "title": {
          "text": "emission_type"
         },
         "tracegroupgap": 0
        },
        "template": {
         "data": {
          "bar": [
           {
            "error_x": {
             "color": "#2a3f5f"
            },
            "error_y": {
             "color": "#2a3f5f"
            },
            "marker": {
             "line": {
              "color": "#E5ECF6",
              "width": 0.5
             },
             "pattern": {
              "fillmode": "overlay",
              "size": 10,
              "solidity": 0.2
             }
            },
            "type": "bar"
           }
          ],
          "barpolar": [
           {
            "marker": {
             "line": {
              "color": "#E5ECF6",
              "width": 0.5
             },
             "pattern": {
              "fillmode": "overlay",
              "size": 10,
              "solidity": 0.2
             }
            },
            "type": "barpolar"
           }
          ],
          "carpet": [
           {
            "aaxis": {
             "endlinecolor": "#2a3f5f",
             "gridcolor": "white",
             "linecolor": "white",
             "minorgridcolor": "white",
             "startlinecolor": "#2a3f5f"
            },
            "baxis": {
             "endlinecolor": "#2a3f5f",
             "gridcolor": "white",
             "linecolor": "white",
             "minorgridcolor": "white",
             "startlinecolor": "#2a3f5f"
            },
            "type": "carpet"
           }
          ],
          "choropleth": [
           {
            "colorbar": {
             "outlinewidth": 0,
             "ticks": ""
            },
            "type": "choropleth"
           }
          ],
          "contour": [
           {
            "colorbar": {
             "outlinewidth": 0,
             "ticks": ""
            },
            "colorscale": [
             [
              0,
              "#0d0887"
             ],
             [
              0.1111111111111111,
              "#46039f"
             ],
             [
              0.2222222222222222,
              "#7201a8"
             ],
             [
              0.3333333333333333,
              "#9c179e"
             ],
             [
              0.4444444444444444,
              "#bd3786"
             ],
             [
              0.5555555555555556,
              "#d8576b"
             ],
             [
              0.6666666666666666,
              "#ed7953"
             ],
             [
              0.7777777777777778,
              "#fb9f3a"
             ],
             [
              0.8888888888888888,
              "#fdca26"
             ],
             [
              1,
              "#f0f921"
             ]
            ],
            "type": "contour"
           }
          ],
          "contourcarpet": [
           {
            "colorbar": {
             "outlinewidth": 0,
             "ticks": ""
            },
            "type": "contourcarpet"
           }
          ],
          "heatmap": [
           {
            "colorbar": {
             "outlinewidth": 0,
             "ticks": ""
            },
            "colorscale": [
             [
              0,
              "#0d0887"
             ],
             [
              0.1111111111111111,
              "#46039f"
             ],
             [
              0.2222222222222222,
              "#7201a8"
             ],
             [
              0.3333333333333333,
              "#9c179e"
             ],
             [
              0.4444444444444444,
              "#bd3786"
             ],
             [
              0.5555555555555556,
              "#d8576b"
             ],
             [
              0.6666666666666666,
              "#ed7953"
             ],
             [
              0.7777777777777778,
              "#fb9f3a"
             ],
             [
              0.8888888888888888,
              "#fdca26"
             ],
             [
              1,
              "#f0f921"
             ]
            ],
            "type": "heatmap"
           }
          ],
          "heatmapgl": [
           {
            "colorbar": {
             "outlinewidth": 0,
             "ticks": ""
            },
            "colorscale": [
             [
              0,
              "#0d0887"
             ],
             [
              0.1111111111111111,
              "#46039f"
             ],
             [
              0.2222222222222222,
              "#7201a8"
             ],
             [
              0.3333333333333333,
              "#9c179e"
             ],
             [
              0.4444444444444444,
              "#bd3786"
             ],
             [
              0.5555555555555556,
              "#d8576b"
             ],
             [
              0.6666666666666666,
              "#ed7953"
             ],
             [
              0.7777777777777778,
              "#fb9f3a"
             ],
             [
              0.8888888888888888,
              "#fdca26"
             ],
             [
              1,
              "#f0f921"
             ]
            ],
            "type": "heatmapgl"
           }
          ],
          "histogram": [
           {
            "marker": {
             "pattern": {
              "fillmode": "overlay",
              "size": 10,
              "solidity": 0.2
             }
            },
            "type": "histogram"
           }
          ],
          "histogram2d": [
           {
            "colorbar": {
             "outlinewidth": 0,
             "ticks": ""
            },
            "colorscale": [
             [
              0,
              "#0d0887"
             ],
             [
              0.1111111111111111,
              "#46039f"
             ],
             [
              0.2222222222222222,
              "#7201a8"
             ],
             [
              0.3333333333333333,
              "#9c179e"
             ],
             [
              0.4444444444444444,
              "#bd3786"
             ],
             [
              0.5555555555555556,
              "#d8576b"
             ],
             [
              0.6666666666666666,
              "#ed7953"
             ],
             [
              0.7777777777777778,
              "#fb9f3a"
             ],
             [
              0.8888888888888888,
              "#fdca26"
             ],
             [
              1,
              "#f0f921"
             ]
            ],
            "type": "histogram2d"
           }
          ],
          "histogram2dcontour": [
           {
            "colorbar": {
             "outlinewidth": 0,
             "ticks": ""
            },
            "colorscale": [
             [
              0,
              "#0d0887"
             ],
             [
              0.1111111111111111,
              "#46039f"
             ],
             [
              0.2222222222222222,
              "#7201a8"
             ],
             [
              0.3333333333333333,
              "#9c179e"
             ],
             [
              0.4444444444444444,
              "#bd3786"
             ],
             [
              0.5555555555555556,
              "#d8576b"
             ],
             [
              0.6666666666666666,
              "#ed7953"
             ],
             [
              0.7777777777777778,
              "#fb9f3a"
             ],
             [
              0.8888888888888888,
              "#fdca26"
             ],
             [
              1,
              "#f0f921"
             ]
            ],
            "type": "histogram2dcontour"
           }
          ],
          "mesh3d": [
           {
            "colorbar": {
             "outlinewidth": 0,
             "ticks": ""
            },
            "type": "mesh3d"
           }
          ],
          "parcoords": [
           {
            "line": {
             "colorbar": {
              "outlinewidth": 0,
              "ticks": ""
             }
            },
            "type": "parcoords"
           }
          ],
          "pie": [
           {
            "automargin": true,
            "type": "pie"
           }
          ],
          "scatter": [
           {
            "fillpattern": {
             "fillmode": "overlay",
             "size": 10,
             "solidity": 0.2
            },
            "type": "scatter"
           }
          ],
          "scatter3d": [
           {
            "line": {
             "colorbar": {
              "outlinewidth": 0,
              "ticks": ""
             }
            },
            "marker": {
             "colorbar": {
              "outlinewidth": 0,
              "ticks": ""
             }
            },
            "type": "scatter3d"
           }
          ],
          "scattercarpet": [
           {
            "marker": {
             "colorbar": {
              "outlinewidth": 0,
              "ticks": ""
             }
            },
            "type": "scattercarpet"
           }
          ],
          "scattergeo": [
           {
            "marker": {
             "colorbar": {
              "outlinewidth": 0,
              "ticks": ""
             }
            },
            "type": "scattergeo"
           }
          ],
          "scattergl": [
           {
            "marker": {
             "colorbar": {
              "outlinewidth": 0,
              "ticks": ""
             }
            },
            "type": "scattergl"
           }
          ],
          "scattermapbox": [
           {
            "marker": {
             "colorbar": {
              "outlinewidth": 0,
              "ticks": ""
             }
            },
            "type": "scattermapbox"
           }
          ],
          "scatterpolar": [
           {
            "marker": {
             "colorbar": {
              "outlinewidth": 0,
              "ticks": ""
             }
            },
            "type": "scatterpolar"
           }
          ],
          "scatterpolargl": [
           {
            "marker": {
             "colorbar": {
              "outlinewidth": 0,
              "ticks": ""
             }
            },
            "type": "scatterpolargl"
           }
          ],
          "scatterternary": [
           {
            "marker": {
             "colorbar": {
              "outlinewidth": 0,
              "ticks": ""
             }
            },
            "type": "scatterternary"
           }
          ],
          "surface": [
           {
            "colorbar": {
             "outlinewidth": 0,
             "ticks": ""
            },
            "colorscale": [
             [
              0,
              "#0d0887"
             ],
             [
              0.1111111111111111,
              "#46039f"
             ],
             [
              0.2222222222222222,
              "#7201a8"
             ],
             [
              0.3333333333333333,
              "#9c179e"
             ],
             [
              0.4444444444444444,
              "#bd3786"
             ],
             [
              0.5555555555555556,
              "#d8576b"
             ],
             [
              0.6666666666666666,
              "#ed7953"
             ],
             [
              0.7777777777777778,
              "#fb9f3a"
             ],
             [
              0.8888888888888888,
              "#fdca26"
             ],
             [
              1,
              "#f0f921"
             ]
            ],
            "type": "surface"
           }
          ],
          "table": [
           {
            "cells": {
             "fill": {
              "color": "#EBF0F8"
             },
             "line": {
              "color": "white"
             }
            },
            "header": {
             "fill": {
              "color": "#C8D4E3"
             },
             "line": {
              "color": "white"
             }
            },
            "type": "table"
           }
          ]
         },
         "layout": {
          "annotationdefaults": {
           "arrowcolor": "#2a3f5f",
           "arrowhead": 0,
           "arrowwidth": 1
          },
          "autotypenumbers": "strict",
          "coloraxis": {
           "colorbar": {
            "outlinewidth": 0,
            "ticks": ""
           }
          },
          "colorscale": {
           "diverging": [
            [
             0,
             "#8e0152"
            ],
            [
             0.1,
             "#c51b7d"
            ],
            [
             0.2,
             "#de77ae"
            ],
            [
             0.3,
             "#f1b6da"
            ],
            [
             0.4,
             "#fde0ef"
            ],
            [
             0.5,
             "#f7f7f7"
            ],
            [
             0.6,
             "#e6f5d0"
            ],
            [
             0.7,
             "#b8e186"
            ],
            [
             0.8,
             "#7fbc41"
            ],
            [
             0.9,
             "#4d9221"
            ],
            [
             1,
             "#276419"
            ]
           ],
           "sequential": [
            [
             0,
             "#0d0887"
            ],
            [
             0.1111111111111111,
             "#46039f"
            ],
            [
             0.2222222222222222,
             "#7201a8"
            ],
            [
             0.3333333333333333,
             "#9c179e"
            ],
            [
             0.4444444444444444,
             "#bd3786"
            ],
            [
             0.5555555555555556,
             "#d8576b"
            ],
            [
             0.6666666666666666,
             "#ed7953"
            ],
            [
             0.7777777777777778,
             "#fb9f3a"
            ],
            [
             0.8888888888888888,
             "#fdca26"
            ],
            [
             1,
             "#f0f921"
            ]
           ],
           "sequentialminus": [
            [
             0,
             "#0d0887"
            ],
            [
             0.1111111111111111,
             "#46039f"
            ],
            [
             0.2222222222222222,
             "#7201a8"
            ],
            [
             0.3333333333333333,
             "#9c179e"
            ],
            [
             0.4444444444444444,
             "#bd3786"
            ],
            [
             0.5555555555555556,
             "#d8576b"
            ],
            [
             0.6666666666666666,
             "#ed7953"
            ],
            [
             0.7777777777777778,
             "#fb9f3a"
            ],
            [
             0.8888888888888888,
             "#fdca26"
            ],
            [
             1,
             "#f0f921"
            ]
           ]
          },
          "colorway": [
           "#636efa",
           "#EF553B",
           "#00cc96",
           "#ab63fa",
           "#FFA15A",
           "#19d3f3",
           "#FF6692",
           "#B6E880",
           "#FF97FF",
           "#FECB52"
          ],
          "font": {
           "color": "#2a3f5f"
          },
          "geo": {
           "bgcolor": "white",
           "lakecolor": "white",
           "landcolor": "#E5ECF6",
           "showlakes": true,
           "showland": true,
           "subunitcolor": "white"
          },
          "hoverlabel": {
           "align": "left"
          },
          "hovermode": "closest",
          "mapbox": {
           "style": "light"
          },
          "paper_bgcolor": "white",
          "plot_bgcolor": "#E5ECF6",
          "polar": {
           "angularaxis": {
            "gridcolor": "white",
            "linecolor": "white",
            "ticks": ""
           },
           "bgcolor": "#E5ECF6",
           "radialaxis": {
            "gridcolor": "white",
            "linecolor": "white",
            "ticks": ""
           }
          },
          "scene": {
           "xaxis": {
            "backgroundcolor": "#E5ECF6",
            "gridcolor": "white",
            "gridwidth": 2,
            "linecolor": "white",
            "showbackground": true,
            "ticks": "",
            "zerolinecolor": "white"
           },
           "yaxis": {
            "backgroundcolor": "#E5ECF6",
            "gridcolor": "white",
            "gridwidth": 2,
            "linecolor": "white",
            "showbackground": true,
            "ticks": "",
            "zerolinecolor": "white"
           },
           "zaxis": {
            "backgroundcolor": "#E5ECF6",
            "gridcolor": "white",
            "gridwidth": 2,
            "linecolor": "white",
            "showbackground": true,
            "ticks": "",
            "zerolinecolor": "white"
           }
          },
          "shapedefaults": {
           "line": {
            "color": "#2a3f5f"
           }
          },
          "ternary": {
           "aaxis": {
            "gridcolor": "white",
            "linecolor": "white",
            "ticks": ""
           },
           "baxis": {
            "gridcolor": "white",
            "linecolor": "white",
            "ticks": ""
           },
           "bgcolor": "#E5ECF6",
           "caxis": {
            "gridcolor": "white",
            "linecolor": "white",
            "ticks": ""
           }
          },
          "title": {
           "x": 0.05
          },
          "xaxis": {
           "automargin": true,
           "gridcolor": "white",
           "linecolor": "white",
           "ticks": "",
           "title": {
            "standoff": 15
           },
           "zerolinecolor": "white",
           "zerolinewidth": 2
          },
          "yaxis": {
           "automargin": true,
           "gridcolor": "white",
           "linecolor": "white",
           "ticks": "",
           "title": {
            "standoff": 15
           },
           "zerolinecolor": "white",
           "zerolinewidth": 2
          }
         }
        },
        "title": {
         "text": "Operational Housing Emissions in Amsterdam S0 vs S1"
        },
        "width": 800,
        "xaxis": {
         "anchor": "y",
         "domain": [
          0,
          1
         ],
         "title": {
          "text": "year"
         }
        },
        "yaxis": {
         "anchor": "x",
         "domain": [
          0,
          1
         ],
         "title": {
          "text": "emissions_kg"
         }
        }
       }
      }
     },
     "metadata": {},
     "output_type": "display_data"
    },
    {
     "data": {
      "application/vnd.plotly.v1+json": {
       "config": {
        "plotlyServerURL": "https://plot.ly"
       },
       "data": [
        {
         "alignmentgroup": "True",
         "hovertemplate": "emission_type=embodied_kg_s0<br>year=%{x}<br>emissions_kg=%{y}<extra></extra>",
         "legendgroup": "embodied_kg_s0",
         "marker": {
          "color": "#636efa",
          "pattern": {
           "shape": ""
          }
         },
         "name": "embodied_kg_s0",
         "offsetgroup": "embodied_kg_s0",
         "orientation": "v",
         "showlegend": true,
         "textposition": "auto",
         "type": "bar",
         "x": [
          2012,
          2013,
          2014,
          2015,
          2016,
          2017,
          2018,
          2019,
          2020,
          2021
         ],
         "xaxis": "x",
         "y": [
          55028241,
          65682580,
          80831008,
          87857251,
          88863024,
          138051629,
          151453145,
          150052849,
          104005612,
          178539731
         ],
         "yaxis": "y"
        },
        {
         "alignmentgroup": "True",
         "hovertemplate": "emission_type=embodied_kg_s1<br>year=%{x}<br>emissions_kg=%{y}<extra></extra>",
         "legendgroup": "embodied_kg_s1",
         "marker": {
          "color": "#EF553B",
          "pattern": {
           "shape": ""
          }
         },
         "name": "embodied_kg_s1",
         "offsetgroup": "embodied_kg_s1",
         "orientation": "v",
         "showlegend": true,
         "textposition": "auto",
         "type": "bar",
         "x": [
          2012,
          2013,
          2014,
          2015,
          2016,
          2017,
          2018,
          2019,
          2020,
          2021
         ],
         "xaxis": "x",
         "y": [
          90744950,
          106928500,
          132881800,
          145568950,
          145033400,
          228732050,
          252362950,
          249320050,
          169044000,
          296132350
         ],
         "yaxis": "y"
        }
       ],
       "layout": {
        "barmode": "group",
        "legend": {
         "title": {
          "text": "emission_type"
         },
         "tracegroupgap": 0
        },
        "template": {
         "data": {
          "bar": [
           {
            "error_x": {
             "color": "#2a3f5f"
            },
            "error_y": {
             "color": "#2a3f5f"
            },
            "marker": {
             "line": {
              "color": "#E5ECF6",
              "width": 0.5
             },
             "pattern": {
              "fillmode": "overlay",
              "size": 10,
              "solidity": 0.2
             }
            },
            "type": "bar"
           }
          ],
          "barpolar": [
           {
            "marker": {
             "line": {
              "color": "#E5ECF6",
              "width": 0.5
             },
             "pattern": {
              "fillmode": "overlay",
              "size": 10,
              "solidity": 0.2
             }
            },
            "type": "barpolar"
           }
          ],
          "carpet": [
           {
            "aaxis": {
             "endlinecolor": "#2a3f5f",
             "gridcolor": "white",
             "linecolor": "white",
             "minorgridcolor": "white",
             "startlinecolor": "#2a3f5f"
            },
            "baxis": {
             "endlinecolor": "#2a3f5f",
             "gridcolor": "white",
             "linecolor": "white",
             "minorgridcolor": "white",
             "startlinecolor": "#2a3f5f"
            },
            "type": "carpet"
           }
          ],
          "choropleth": [
           {
            "colorbar": {
             "outlinewidth": 0,
             "ticks": ""
            },
            "type": "choropleth"
           }
          ],
          "contour": [
           {
            "colorbar": {
             "outlinewidth": 0,
             "ticks": ""
            },
            "colorscale": [
             [
              0,
              "#0d0887"
             ],
             [
              0.1111111111111111,
              "#46039f"
             ],
             [
              0.2222222222222222,
              "#7201a8"
             ],
             [
              0.3333333333333333,
              "#9c179e"
             ],
             [
              0.4444444444444444,
              "#bd3786"
             ],
             [
              0.5555555555555556,
              "#d8576b"
             ],
             [
              0.6666666666666666,
              "#ed7953"
             ],
             [
              0.7777777777777778,
              "#fb9f3a"
             ],
             [
              0.8888888888888888,
              "#fdca26"
             ],
             [
              1,
              "#f0f921"
             ]
            ],
            "type": "contour"
           }
          ],
          "contourcarpet": [
           {
            "colorbar": {
             "outlinewidth": 0,
             "ticks": ""
            },
            "type": "contourcarpet"
           }
          ],
          "heatmap": [
           {
            "colorbar": {
             "outlinewidth": 0,
             "ticks": ""
            },
            "colorscale": [
             [
              0,
              "#0d0887"
             ],
             [
              0.1111111111111111,
              "#46039f"
             ],
             [
              0.2222222222222222,
              "#7201a8"
             ],
             [
              0.3333333333333333,
              "#9c179e"
             ],
             [
              0.4444444444444444,
              "#bd3786"
             ],
             [
              0.5555555555555556,
              "#d8576b"
             ],
             [
              0.6666666666666666,
              "#ed7953"
             ],
             [
              0.7777777777777778,
              "#fb9f3a"
             ],
             [
              0.8888888888888888,
              "#fdca26"
             ],
             [
              1,
              "#f0f921"
             ]
            ],
            "type": "heatmap"
           }
          ],
          "heatmapgl": [
           {
            "colorbar": {
             "outlinewidth": 0,
             "ticks": ""
            },
            "colorscale": [
             [
              0,
              "#0d0887"
             ],
             [
              0.1111111111111111,
              "#46039f"
             ],
             [
              0.2222222222222222,
              "#7201a8"
             ],
             [
              0.3333333333333333,
              "#9c179e"
             ],
             [
              0.4444444444444444,
              "#bd3786"
             ],
             [
              0.5555555555555556,
              "#d8576b"
             ],
             [
              0.6666666666666666,
              "#ed7953"
             ],
             [
              0.7777777777777778,
              "#fb9f3a"
             ],
             [
              0.8888888888888888,
              "#fdca26"
             ],
             [
              1,
              "#f0f921"
             ]
            ],
            "type": "heatmapgl"
           }
          ],
          "histogram": [
           {
            "marker": {
             "pattern": {
              "fillmode": "overlay",
              "size": 10,
              "solidity": 0.2
             }
            },
            "type": "histogram"
           }
          ],
          "histogram2d": [
           {
            "colorbar": {
             "outlinewidth": 0,
             "ticks": ""
            },
            "colorscale": [
             [
              0,
              "#0d0887"
             ],
             [
              0.1111111111111111,
              "#46039f"
             ],
             [
              0.2222222222222222,
              "#7201a8"
             ],
             [
              0.3333333333333333,
              "#9c179e"
             ],
             [
              0.4444444444444444,
              "#bd3786"
             ],
             [
              0.5555555555555556,
              "#d8576b"
             ],
             [
              0.6666666666666666,
              "#ed7953"
             ],
             [
              0.7777777777777778,
              "#fb9f3a"
             ],
             [
              0.8888888888888888,
              "#fdca26"
             ],
             [
              1,
              "#f0f921"
             ]
            ],
            "type": "histogram2d"
           }
          ],
          "histogram2dcontour": [
           {
            "colorbar": {
             "outlinewidth": 0,
             "ticks": ""
            },
            "colorscale": [
             [
              0,
              "#0d0887"
             ],
             [
              0.1111111111111111,
              "#46039f"
             ],
             [
              0.2222222222222222,
              "#7201a8"
             ],
             [
              0.3333333333333333,
              "#9c179e"
             ],
             [
              0.4444444444444444,
              "#bd3786"
             ],
             [
              0.5555555555555556,
              "#d8576b"
             ],
             [
              0.6666666666666666,
              "#ed7953"
             ],
             [
              0.7777777777777778,
              "#fb9f3a"
             ],
             [
              0.8888888888888888,
              "#fdca26"
             ],
             [
              1,
              "#f0f921"
             ]
            ],
            "type": "histogram2dcontour"
           }
          ],
          "mesh3d": [
           {
            "colorbar": {
             "outlinewidth": 0,
             "ticks": ""
            },
            "type": "mesh3d"
           }
          ],
          "parcoords": [
           {
            "line": {
             "colorbar": {
              "outlinewidth": 0,
              "ticks": ""
             }
            },
            "type": "parcoords"
           }
          ],
          "pie": [
           {
            "automargin": true,
            "type": "pie"
           }
          ],
          "scatter": [
           {
            "fillpattern": {
             "fillmode": "overlay",
             "size": 10,
             "solidity": 0.2
            },
            "type": "scatter"
           }
          ],
          "scatter3d": [
           {
            "line": {
             "colorbar": {
              "outlinewidth": 0,
              "ticks": ""
             }
            },
            "marker": {
             "colorbar": {
              "outlinewidth": 0,
              "ticks": ""
             }
            },
            "type": "scatter3d"
           }
          ],
          "scattercarpet": [
           {
            "marker": {
             "colorbar": {
              "outlinewidth": 0,
              "ticks": ""
             }
            },
            "type": "scattercarpet"
           }
          ],
          "scattergeo": [
           {
            "marker": {
             "colorbar": {
              "outlinewidth": 0,
              "ticks": ""
             }
            },
            "type": "scattergeo"
           }
          ],
          "scattergl": [
           {
            "marker": {
             "colorbar": {
              "outlinewidth": 0,
              "ticks": ""
             }
            },
            "type": "scattergl"
           }
          ],
          "scattermapbox": [
           {
            "marker": {
             "colorbar": {
              "outlinewidth": 0,
              "ticks": ""
             }
            },
            "type": "scattermapbox"
           }
          ],
          "scatterpolar": [
           {
            "marker": {
             "colorbar": {
              "outlinewidth": 0,
              "ticks": ""
             }
            },
            "type": "scatterpolar"
           }
          ],
          "scatterpolargl": [
           {
            "marker": {
             "colorbar": {
              "outlinewidth": 0,
              "ticks": ""
             }
            },
            "type": "scatterpolargl"
           }
          ],
          "scatterternary": [
           {
            "marker": {
             "colorbar": {
              "outlinewidth": 0,
              "ticks": ""
             }
            },
            "type": "scatterternary"
           }
          ],
          "surface": [
           {
            "colorbar": {
             "outlinewidth": 0,
             "ticks": ""
            },
            "colorscale": [
             [
              0,
              "#0d0887"
             ],
             [
              0.1111111111111111,
              "#46039f"
             ],
             [
              0.2222222222222222,
              "#7201a8"
             ],
             [
              0.3333333333333333,
              "#9c179e"
             ],
             [
              0.4444444444444444,
              "#bd3786"
             ],
             [
              0.5555555555555556,
              "#d8576b"
             ],
             [
              0.6666666666666666,
              "#ed7953"
             ],
             [
              0.7777777777777778,
              "#fb9f3a"
             ],
             [
              0.8888888888888888,
              "#fdca26"
             ],
             [
              1,
              "#f0f921"
             ]
            ],
            "type": "surface"
           }
          ],
          "table": [
           {
            "cells": {
             "fill": {
              "color": "#EBF0F8"
             },
             "line": {
              "color": "white"
             }
            },
            "header": {
             "fill": {
              "color": "#C8D4E3"
             },
             "line": {
              "color": "white"
             }
            },
            "type": "table"
           }
          ]
         },
         "layout": {
          "annotationdefaults": {
           "arrowcolor": "#2a3f5f",
           "arrowhead": 0,
           "arrowwidth": 1
          },
          "autotypenumbers": "strict",
          "coloraxis": {
           "colorbar": {
            "outlinewidth": 0,
            "ticks": ""
           }
          },
          "colorscale": {
           "diverging": [
            [
             0,
             "#8e0152"
            ],
            [
             0.1,
             "#c51b7d"
            ],
            [
             0.2,
             "#de77ae"
            ],
            [
             0.3,
             "#f1b6da"
            ],
            [
             0.4,
             "#fde0ef"
            ],
            [
             0.5,
             "#f7f7f7"
            ],
            [
             0.6,
             "#e6f5d0"
            ],
            [
             0.7,
             "#b8e186"
            ],
            [
             0.8,
             "#7fbc41"
            ],
            [
             0.9,
             "#4d9221"
            ],
            [
             1,
             "#276419"
            ]
           ],
           "sequential": [
            [
             0,
             "#0d0887"
            ],
            [
             0.1111111111111111,
             "#46039f"
            ],
            [
             0.2222222222222222,
             "#7201a8"
            ],
            [
             0.3333333333333333,
             "#9c179e"
            ],
            [
             0.4444444444444444,
             "#bd3786"
            ],
            [
             0.5555555555555556,
             "#d8576b"
            ],
            [
             0.6666666666666666,
             "#ed7953"
            ],
            [
             0.7777777777777778,
             "#fb9f3a"
            ],
            [
             0.8888888888888888,
             "#fdca26"
            ],
            [
             1,
             "#f0f921"
            ]
           ],
           "sequentialminus": [
            [
             0,
             "#0d0887"
            ],
            [
             0.1111111111111111,
             "#46039f"
            ],
            [
             0.2222222222222222,
             "#7201a8"
            ],
            [
             0.3333333333333333,
             "#9c179e"
            ],
            [
             0.4444444444444444,
             "#bd3786"
            ],
            [
             0.5555555555555556,
             "#d8576b"
            ],
            [
             0.6666666666666666,
             "#ed7953"
            ],
            [
             0.7777777777777778,
             "#fb9f3a"
            ],
            [
             0.8888888888888888,
             "#fdca26"
            ],
            [
             1,
             "#f0f921"
            ]
           ]
          },
          "colorway": [
           "#636efa",
           "#EF553B",
           "#00cc96",
           "#ab63fa",
           "#FFA15A",
           "#19d3f3",
           "#FF6692",
           "#B6E880",
           "#FF97FF",
           "#FECB52"
          ],
          "font": {
           "color": "#2a3f5f"
          },
          "geo": {
           "bgcolor": "white",
           "lakecolor": "white",
           "landcolor": "#E5ECF6",
           "showlakes": true,
           "showland": true,
           "subunitcolor": "white"
          },
          "hoverlabel": {
           "align": "left"
          },
          "hovermode": "closest",
          "mapbox": {
           "style": "light"
          },
          "paper_bgcolor": "white",
          "plot_bgcolor": "#E5ECF6",
          "polar": {
           "angularaxis": {
            "gridcolor": "white",
            "linecolor": "white",
            "ticks": ""
           },
           "bgcolor": "#E5ECF6",
           "radialaxis": {
            "gridcolor": "white",
            "linecolor": "white",
            "ticks": ""
           }
          },
          "scene": {
           "xaxis": {
            "backgroundcolor": "#E5ECF6",
            "gridcolor": "white",
            "gridwidth": 2,
            "linecolor": "white",
            "showbackground": true,
            "ticks": "",
            "zerolinecolor": "white"
           },
           "yaxis": {
            "backgroundcolor": "#E5ECF6",
            "gridcolor": "white",
            "gridwidth": 2,
            "linecolor": "white",
            "showbackground": true,
            "ticks": "",
            "zerolinecolor": "white"
           },
           "zaxis": {
            "backgroundcolor": "#E5ECF6",
            "gridcolor": "white",
            "gridwidth": 2,
            "linecolor": "white",
            "showbackground": true,
            "ticks": "",
            "zerolinecolor": "white"
           }
          },
          "shapedefaults": {
           "line": {
            "color": "#2a3f5f"
           }
          },
          "ternary": {
           "aaxis": {
            "gridcolor": "white",
            "linecolor": "white",
            "ticks": ""
           },
           "baxis": {
            "gridcolor": "white",
            "linecolor": "white",
            "ticks": ""
           },
           "bgcolor": "#E5ECF6",
           "caxis": {
            "gridcolor": "white",
            "linecolor": "white",
            "ticks": ""
           }
          },
          "title": {
           "x": 0.05
          },
          "xaxis": {
           "automargin": true,
           "gridcolor": "white",
           "linecolor": "white",
           "ticks": "",
           "title": {
            "standoff": 15
           },
           "zerolinecolor": "white",
           "zerolinewidth": 2
          },
          "yaxis": {
           "automargin": true,
           "gridcolor": "white",
           "linecolor": "white",
           "ticks": "",
           "title": {
            "standoff": 15
           },
           "zerolinecolor": "white",
           "zerolinewidth": 2
          }
         }
        },
        "title": {
         "text": "Embodied Housing Emissions in Amsterdam S0 vs S1"
        },
        "width": 800,
        "xaxis": {
         "anchor": "y",
         "domain": [
          0,
          1
         ],
         "title": {
          "text": "year"
         }
        },
        "yaxis": {
         "anchor": "x",
         "domain": [
          0,
          1
         ],
         "title": {
          "text": "emissions_kg"
         }
        }
       }
      }
     },
     "metadata": {},
     "output_type": "display_data"
    }
   ],
   "source": [
    "df = emissions_all_years.copy()\n",
    "df = df.groupby('year').sum().reset_index()\n",
    "df = df[['year', 'sqm', 'operational_kg_s0', 'operational_kg_s1', 'embodied_kg_s0', 'embodied_kg_s1']]\n",
    "df['total_kg_s0'] = df['operational_kg_s0'] + df['embodied_kg_s0']\n",
    "df['total_kg_s1'] = df['operational_kg_s1'] + df['embodied_kg_s1']\n",
    "\n",
    "# df long \n",
    "df_long = df.melt(id_vars=['year'], value_vars=['operational_kg_s0', 'operational_kg_s1', 'embodied_kg_s0', 'embodied_kg_s1', 'total_kg_s0', 'total_kg_s1'], \n",
    "                   var_name='emission_type', value_name='emissions_kg')\n",
    "\n",
    "# total emissions \n",
    "df_long_total = df_long[df_long.emission_type.str.startswith('total')]\n",
    "fig = px.bar(df_long_total, x='year', y='emissions_kg', color='emission_type', barmode='group',\n",
    "             title='Total Housing Emissions in Amsterdam S0 vs S1')\n",
    "fig.update_layout(width=800)\n",
    "fig.show()\n",
    "\n",
    "# operational emissions \n",
    "df_long_operational = df_long[df_long.emission_type.str.startswith('operational')]\n",
    "fig = px.bar(df_long_operational, x='year', y='emissions_kg', color='emission_type', barmode='group', \n",
    "             title='Operational Housing Emissions in Amsterdam S0 vs S1')\n",
    "fig.update_layout(width=800)\n",
    "fig.show()\n",
    "\n",
    "# embodied emissions\n",
    "df_long_embodied = df_long[df_long.emission_type.str.startswith('embodied')]\n",
    "fig = px.bar(df_long_embodied, x='year', y='emissions_kg', color='emission_type', barmode='group',\n",
    "             title='Embodied Housing Emissions in Amsterdam S0 vs S1')\n",
    "fig.update_layout(width=800)\n",
    "fig.show()\n",
    "\n",
    "\n"
   ]
  },
  {
   "cell_type": "code",
   "execution_count": 23,
   "metadata": {},
   "outputs": [
    {
     "data": {
      "application/vnd.plotly.v1+json": {
       "config": {
        "plotlyServerURL": "https://plot.ly"
       },
       "data": [
        {
         "alignmentgroup": "True",
         "hovertemplate": "status=construction<br>year=%{x}<br>sqm=%{y}<extra></extra>",
         "legendgroup": "construction",
         "marker": {
          "color": "#636efa",
          "pattern": {
           "shape": ""
          }
         },
         "name": "construction",
         "offsetgroup": "construction",
         "orientation": "v",
         "showlegend": true,
         "textposition": "auto",
         "type": "bar",
         "x": [
          2012,
          2013,
          2014,
          2015,
          2016,
          2017,
          2018,
          2019,
          2020,
          2021
         ],
         "xaxis": "x",
         "y": [
          99585,
          78250,
          134164,
          189618,
          104554,
          281375,
          352787,
          326711,
          117554,
          382216
         ],
         "yaxis": "y"
        },
        {
         "alignmentgroup": "True",
         "hovertemplate": "status=demolition<br>year=%{x}<br>sqm=%{y}<extra></extra>",
         "legendgroup": "demolition",
         "marker": {
          "color": "#EF553B",
          "pattern": {
           "shape": ""
          }
         },
         "name": "demolition",
         "offsetgroup": "demolition",
         "orientation": "v",
         "showlegend": true,
         "textposition": "auto",
         "type": "bar",
         "x": [
          2012,
          2013,
          2014,
          2015,
          2016,
          2017,
          2018,
          2019,
          2020,
          2021
         ],
         "xaxis": "x",
         "y": [
          86352,
          15563,
          63949,
          31317,
          35461,
          69339,
          24417,
          51406,
          26964,
          12273
         ],
         "yaxis": "y"
        },
        {
         "alignmentgroup": "True",
         "hovertemplate": "status=renovation<br>year=%{x}<br>sqm=%{y}<extra></extra>",
         "legendgroup": "renovation",
         "marker": {
          "color": "#00cc96",
          "pattern": {
           "shape": ""
          }
         },
         "name": "renovation",
         "offsetgroup": "renovation",
         "orientation": "v",
         "showlegend": true,
         "textposition": "auto",
         "type": "bar",
         "x": [
          2012,
          2013,
          2014,
          2015,
          2016,
          2017,
          2018,
          2019,
          2020,
          2020,
          2021,
          2021
         ],
         "xaxis": "x",
         "y": [
          30378,
          74835,
          46944,
          12421,
          24090,
          37478,
          47886,
          85879,
          15360,
          234093,
          39233,
          198243
         ],
         "yaxis": "y"
        },
        {
         "alignmentgroup": "True",
         "hovertemplate": "status=transformation<br>year=%{x}<br>sqm=%{y}<extra></extra>",
         "legendgroup": "transformation",
         "marker": {
          "color": "#ab63fa",
          "pattern": {
           "shape": ""
          }
         },
         "name": "transformation",
         "offsetgroup": "transformation",
         "orientation": "v",
         "showlegend": true,
         "textposition": "auto",
         "type": "bar",
         "x": [
          2012,
          2012,
          2013,
          2013,
          2014,
          2014,
          2015,
          2015,
          2016,
          2016,
          2017,
          2017,
          2018,
          2018,
          2019,
          2019,
          2020,
          2020,
          2021,
          2021
         ],
         "xaxis": "x",
         "y": [
          144074,
          1139,
          232412,
          5938,
          235409,
          11249,
          218260,
          4008,
          372291,
          3210,
          320009,
          6435,
          239817,
          5564,
          250464,
          11228,
          270142,
          3780,
          184437,
          24410
         ],
         "yaxis": "y"
        }
       ],
       "layout": {
        "barmode": "relative",
        "legend": {
         "title": {
          "text": "status"
         },
         "tracegroupgap": 0
        },
        "template": {
         "data": {
          "bar": [
           {
            "error_x": {
             "color": "#2a3f5f"
            },
            "error_y": {
             "color": "#2a3f5f"
            },
            "marker": {
             "line": {
              "color": "#E5ECF6",
              "width": 0.5
             },
             "pattern": {
              "fillmode": "overlay",
              "size": 10,
              "solidity": 0.2
             }
            },
            "type": "bar"
           }
          ],
          "barpolar": [
           {
            "marker": {
             "line": {
              "color": "#E5ECF6",
              "width": 0.5
             },
             "pattern": {
              "fillmode": "overlay",
              "size": 10,
              "solidity": 0.2
             }
            },
            "type": "barpolar"
           }
          ],
          "carpet": [
           {
            "aaxis": {
             "endlinecolor": "#2a3f5f",
             "gridcolor": "white",
             "linecolor": "white",
             "minorgridcolor": "white",
             "startlinecolor": "#2a3f5f"
            },
            "baxis": {
             "endlinecolor": "#2a3f5f",
             "gridcolor": "white",
             "linecolor": "white",
             "minorgridcolor": "white",
             "startlinecolor": "#2a3f5f"
            },
            "type": "carpet"
           }
          ],
          "choropleth": [
           {
            "colorbar": {
             "outlinewidth": 0,
             "ticks": ""
            },
            "type": "choropleth"
           }
          ],
          "contour": [
           {
            "colorbar": {
             "outlinewidth": 0,
             "ticks": ""
            },
            "colorscale": [
             [
              0,
              "#0d0887"
             ],
             [
              0.1111111111111111,
              "#46039f"
             ],
             [
              0.2222222222222222,
              "#7201a8"
             ],
             [
              0.3333333333333333,
              "#9c179e"
             ],
             [
              0.4444444444444444,
              "#bd3786"
             ],
             [
              0.5555555555555556,
              "#d8576b"
             ],
             [
              0.6666666666666666,
              "#ed7953"
             ],
             [
              0.7777777777777778,
              "#fb9f3a"
             ],
             [
              0.8888888888888888,
              "#fdca26"
             ],
             [
              1,
              "#f0f921"
             ]
            ],
            "type": "contour"
           }
          ],
          "contourcarpet": [
           {
            "colorbar": {
             "outlinewidth": 0,
             "ticks": ""
            },
            "type": "contourcarpet"
           }
          ],
          "heatmap": [
           {
            "colorbar": {
             "outlinewidth": 0,
             "ticks": ""
            },
            "colorscale": [
             [
              0,
              "#0d0887"
             ],
             [
              0.1111111111111111,
              "#46039f"
             ],
             [
              0.2222222222222222,
              "#7201a8"
             ],
             [
              0.3333333333333333,
              "#9c179e"
             ],
             [
              0.4444444444444444,
              "#bd3786"
             ],
             [
              0.5555555555555556,
              "#d8576b"
             ],
             [
              0.6666666666666666,
              "#ed7953"
             ],
             [
              0.7777777777777778,
              "#fb9f3a"
             ],
             [
              0.8888888888888888,
              "#fdca26"
             ],
             [
              1,
              "#f0f921"
             ]
            ],
            "type": "heatmap"
           }
          ],
          "heatmapgl": [
           {
            "colorbar": {
             "outlinewidth": 0,
             "ticks": ""
            },
            "colorscale": [
             [
              0,
              "#0d0887"
             ],
             [
              0.1111111111111111,
              "#46039f"
             ],
             [
              0.2222222222222222,
              "#7201a8"
             ],
             [
              0.3333333333333333,
              "#9c179e"
             ],
             [
              0.4444444444444444,
              "#bd3786"
             ],
             [
              0.5555555555555556,
              "#d8576b"
             ],
             [
              0.6666666666666666,
              "#ed7953"
             ],
             [
              0.7777777777777778,
              "#fb9f3a"
             ],
             [
              0.8888888888888888,
              "#fdca26"
             ],
             [
              1,
              "#f0f921"
             ]
            ],
            "type": "heatmapgl"
           }
          ],
          "histogram": [
           {
            "marker": {
             "pattern": {
              "fillmode": "overlay",
              "size": 10,
              "solidity": 0.2
             }
            },
            "type": "histogram"
           }
          ],
          "histogram2d": [
           {
            "colorbar": {
             "outlinewidth": 0,
             "ticks": ""
            },
            "colorscale": [
             [
              0,
              "#0d0887"
             ],
             [
              0.1111111111111111,
              "#46039f"
             ],
             [
              0.2222222222222222,
              "#7201a8"
             ],
             [
              0.3333333333333333,
              "#9c179e"
             ],
             [
              0.4444444444444444,
              "#bd3786"
             ],
             [
              0.5555555555555556,
              "#d8576b"
             ],
             [
              0.6666666666666666,
              "#ed7953"
             ],
             [
              0.7777777777777778,
              "#fb9f3a"
             ],
             [
              0.8888888888888888,
              "#fdca26"
             ],
             [
              1,
              "#f0f921"
             ]
            ],
            "type": "histogram2d"
           }
          ],
          "histogram2dcontour": [
           {
            "colorbar": {
             "outlinewidth": 0,
             "ticks": ""
            },
            "colorscale": [
             [
              0,
              "#0d0887"
             ],
             [
              0.1111111111111111,
              "#46039f"
             ],
             [
              0.2222222222222222,
              "#7201a8"
             ],
             [
              0.3333333333333333,
              "#9c179e"
             ],
             [
              0.4444444444444444,
              "#bd3786"
             ],
             [
              0.5555555555555556,
              "#d8576b"
             ],
             [
              0.6666666666666666,
              "#ed7953"
             ],
             [
              0.7777777777777778,
              "#fb9f3a"
             ],
             [
              0.8888888888888888,
              "#fdca26"
             ],
             [
              1,
              "#f0f921"
             ]
            ],
            "type": "histogram2dcontour"
           }
          ],
          "mesh3d": [
           {
            "colorbar": {
             "outlinewidth": 0,
             "ticks": ""
            },
            "type": "mesh3d"
           }
          ],
          "parcoords": [
           {
            "line": {
             "colorbar": {
              "outlinewidth": 0,
              "ticks": ""
             }
            },
            "type": "parcoords"
           }
          ],
          "pie": [
           {
            "automargin": true,
            "type": "pie"
           }
          ],
          "scatter": [
           {
            "fillpattern": {
             "fillmode": "overlay",
             "size": 10,
             "solidity": 0.2
            },
            "type": "scatter"
           }
          ],
          "scatter3d": [
           {
            "line": {
             "colorbar": {
              "outlinewidth": 0,
              "ticks": ""
             }
            },
            "marker": {
             "colorbar": {
              "outlinewidth": 0,
              "ticks": ""
             }
            },
            "type": "scatter3d"
           }
          ],
          "scattercarpet": [
           {
            "marker": {
             "colorbar": {
              "outlinewidth": 0,
              "ticks": ""
             }
            },
            "type": "scattercarpet"
           }
          ],
          "scattergeo": [
           {
            "marker": {
             "colorbar": {
              "outlinewidth": 0,
              "ticks": ""
             }
            },
            "type": "scattergeo"
           }
          ],
          "scattergl": [
           {
            "marker": {
             "colorbar": {
              "outlinewidth": 0,
              "ticks": ""
             }
            },
            "type": "scattergl"
           }
          ],
          "scattermapbox": [
           {
            "marker": {
             "colorbar": {
              "outlinewidth": 0,
              "ticks": ""
             }
            },
            "type": "scattermapbox"
           }
          ],
          "scatterpolar": [
           {
            "marker": {
             "colorbar": {
              "outlinewidth": 0,
              "ticks": ""
             }
            },
            "type": "scatterpolar"
           }
          ],
          "scatterpolargl": [
           {
            "marker": {
             "colorbar": {
              "outlinewidth": 0,
              "ticks": ""
             }
            },
            "type": "scatterpolargl"
           }
          ],
          "scatterternary": [
           {
            "marker": {
             "colorbar": {
              "outlinewidth": 0,
              "ticks": ""
             }
            },
            "type": "scatterternary"
           }
          ],
          "surface": [
           {
            "colorbar": {
             "outlinewidth": 0,
             "ticks": ""
            },
            "colorscale": [
             [
              0,
              "#0d0887"
             ],
             [
              0.1111111111111111,
              "#46039f"
             ],
             [
              0.2222222222222222,
              "#7201a8"
             ],
             [
              0.3333333333333333,
              "#9c179e"
             ],
             [
              0.4444444444444444,
              "#bd3786"
             ],
             [
              0.5555555555555556,
              "#d8576b"
             ],
             [
              0.6666666666666666,
              "#ed7953"
             ],
             [
              0.7777777777777778,
              "#fb9f3a"
             ],
             [
              0.8888888888888888,
              "#fdca26"
             ],
             [
              1,
              "#f0f921"
             ]
            ],
            "type": "surface"
           }
          ],
          "table": [
           {
            "cells": {
             "fill": {
              "color": "#EBF0F8"
             },
             "line": {
              "color": "white"
             }
            },
            "header": {
             "fill": {
              "color": "#C8D4E3"
             },
             "line": {
              "color": "white"
             }
            },
            "type": "table"
           }
          ]
         },
         "layout": {
          "annotationdefaults": {
           "arrowcolor": "#2a3f5f",
           "arrowhead": 0,
           "arrowwidth": 1
          },
          "autotypenumbers": "strict",
          "coloraxis": {
           "colorbar": {
            "outlinewidth": 0,
            "ticks": ""
           }
          },
          "colorscale": {
           "diverging": [
            [
             0,
             "#8e0152"
            ],
            [
             0.1,
             "#c51b7d"
            ],
            [
             0.2,
             "#de77ae"
            ],
            [
             0.3,
             "#f1b6da"
            ],
            [
             0.4,
             "#fde0ef"
            ],
            [
             0.5,
             "#f7f7f7"
            ],
            [
             0.6,
             "#e6f5d0"
            ],
            [
             0.7,
             "#b8e186"
            ],
            [
             0.8,
             "#7fbc41"
            ],
            [
             0.9,
             "#4d9221"
            ],
            [
             1,
             "#276419"
            ]
           ],
           "sequential": [
            [
             0,
             "#0d0887"
            ],
            [
             0.1111111111111111,
             "#46039f"
            ],
            [
             0.2222222222222222,
             "#7201a8"
            ],
            [
             0.3333333333333333,
             "#9c179e"
            ],
            [
             0.4444444444444444,
             "#bd3786"
            ],
            [
             0.5555555555555556,
             "#d8576b"
            ],
            [
             0.6666666666666666,
             "#ed7953"
            ],
            [
             0.7777777777777778,
             "#fb9f3a"
            ],
            [
             0.8888888888888888,
             "#fdca26"
            ],
            [
             1,
             "#f0f921"
            ]
           ],
           "sequentialminus": [
            [
             0,
             "#0d0887"
            ],
            [
             0.1111111111111111,
             "#46039f"
            ],
            [
             0.2222222222222222,
             "#7201a8"
            ],
            [
             0.3333333333333333,
             "#9c179e"
            ],
            [
             0.4444444444444444,
             "#bd3786"
            ],
            [
             0.5555555555555556,
             "#d8576b"
            ],
            [
             0.6666666666666666,
             "#ed7953"
            ],
            [
             0.7777777777777778,
             "#fb9f3a"
            ],
            [
             0.8888888888888888,
             "#fdca26"
            ],
            [
             1,
             "#f0f921"
            ]
           ]
          },
          "colorway": [
           "#636efa",
           "#EF553B",
           "#00cc96",
           "#ab63fa",
           "#FFA15A",
           "#19d3f3",
           "#FF6692",
           "#B6E880",
           "#FF97FF",
           "#FECB52"
          ],
          "font": {
           "color": "#2a3f5f"
          },
          "geo": {
           "bgcolor": "white",
           "lakecolor": "white",
           "landcolor": "#E5ECF6",
           "showlakes": true,
           "showland": true,
           "subunitcolor": "white"
          },
          "hoverlabel": {
           "align": "left"
          },
          "hovermode": "closest",
          "mapbox": {
           "style": "light"
          },
          "paper_bgcolor": "white",
          "plot_bgcolor": "#E5ECF6",
          "polar": {
           "angularaxis": {
            "gridcolor": "white",
            "linecolor": "white",
            "ticks": ""
           },
           "bgcolor": "#E5ECF6",
           "radialaxis": {
            "gridcolor": "white",
            "linecolor": "white",
            "ticks": ""
           }
          },
          "scene": {
           "xaxis": {
            "backgroundcolor": "#E5ECF6",
            "gridcolor": "white",
            "gridwidth": 2,
            "linecolor": "white",
            "showbackground": true,
            "ticks": "",
            "zerolinecolor": "white"
           },
           "yaxis": {
            "backgroundcolor": "#E5ECF6",
            "gridcolor": "white",
            "gridwidth": 2,
            "linecolor": "white",
            "showbackground": true,
            "ticks": "",
            "zerolinecolor": "white"
           },
           "zaxis": {
            "backgroundcolor": "#E5ECF6",
            "gridcolor": "white",
            "gridwidth": 2,
            "linecolor": "white",
            "showbackground": true,
            "ticks": "",
            "zerolinecolor": "white"
           }
          },
          "shapedefaults": {
           "line": {
            "color": "#2a3f5f"
           }
          },
          "ternary": {
           "aaxis": {
            "gridcolor": "white",
            "linecolor": "white",
            "ticks": ""
           },
           "baxis": {
            "gridcolor": "white",
            "linecolor": "white",
            "ticks": ""
           },
           "bgcolor": "#E5ECF6",
           "caxis": {
            "gridcolor": "white",
            "linecolor": "white",
            "ticks": ""
           }
          },
          "title": {
           "x": 0.05
          },
          "xaxis": {
           "automargin": true,
           "gridcolor": "white",
           "linecolor": "white",
           "ticks": "",
           "title": {
            "standoff": 15
           },
           "zerolinecolor": "white",
           "zerolinewidth": 2
          },
          "yaxis": {
           "automargin": true,
           "gridcolor": "white",
           "linecolor": "white",
           "ticks": "",
           "title": {
            "standoff": 15
           },
           "zerolinecolor": "white",
           "zerolinewidth": 2
          }
         }
        },
        "title": {
         "text": "Construction Activity in Amsterdam 2012-2021"
        },
        "width": 800,
        "xaxis": {
         "anchor": "y",
         "domain": [
          0,
          1
         ],
         "title": {
          "text": "year"
         }
        },
        "yaxis": {
         "anchor": "x",
         "domain": [
          0,
          1
         ],
         "title": {
          "text": "sqm"
         }
        }
       }
      }
     },
     "metadata": {},
     "output_type": "display_data"
    }
   ],
   "source": [
    "query = f''' \n",
    "WITH construction_municipality AS ( -- all construction activity (except for demolition) in year\n",
    "    SELECT id_pand, \n",
    "        CASE \n",
    "            WHEN status = 'Pand gesloopt' THEN LEFT(registration_start, 4)::INTEGER\n",
    "            WHEN status != 'Pand gesloopt' AND registration_end IS NOT NULL THEN LEFT(registration_end, 4)::INTEGER\n",
    "            ELSE LEFT(registration_start, 4)::INTEGER\n",
    "        END AS year, \n",
    "        status, sqm, geom, geom_28992, neighborhood_code, municipality\n",
    "    FROM housing_nl\n",
    "    WHERE municipality = 'Amsterdam'\n",
    "        AND ahn_version IS NULL\n",
    ")\n",
    "\n",
    "SELECT year, status, SUM(sqm)::INTEGER AS sqm\n",
    "FROM construction_municipality\n",
    "WHERE year >= 2012 AND year <= 2021 -- AND status != 'Pand gesloopt'\n",
    "GROUP BY year, status\n",
    "ORDER BY year, status\n",
    "'''\n",
    "\n",
    "df = pd.read_sql_query(query, engine)\n",
    "def changeName(x): \n",
    "    if x.startswith('renovation'): \n",
    "        return 'renovation'\n",
    "    elif x.startswith('transformation'): \n",
    "        return 'transformation'\n",
    "    elif x.startswith('Bouw'):\n",
    "        return 'construction'\n",
    "    elif x.startswith('Pand'):\n",
    "        return 'demolition'\n",
    "    else: \n",
    "        return x\n",
    "df.status = df.status.map(lambda x: changeName(x))\n",
    "\n",
    "fig = px.bar(df, x='year', y='sqm', color='status', title='Construction Activity in Amsterdam 2012-2021')\n",
    "fig.update_layout(width=800)\n",
    "fig.show()\n"
   ]
  }
 ],
 "metadata": {
  "kernelspec": {
   "display_name": "geo_env",
   "language": "python",
   "name": "python3"
  },
  "language_info": {
   "codemirror_mode": {
    "name": "ipython",
    "version": 3
   },
   "file_extension": ".py",
   "mimetype": "text/x-python",
   "name": "python",
   "nbconvert_exporter": "python",
   "pygments_lexer": "ipython3",
   "version": "3.9.19"
  }
 },
 "nbformat": 4,
 "nbformat_minor": 2
}
